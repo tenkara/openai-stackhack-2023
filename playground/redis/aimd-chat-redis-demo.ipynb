{
 "cells": [
  {
   "cell_type": "code",
   "execution_count": null,
   "metadata": {},
   "outputs": [],
   "source": [
    "! pip install redis wget pandas openai python-dotenv plotly matplotlib scipy scikit-learn"
   ]
  },
  {
   "cell_type": "code",
   "execution_count": 44,
   "metadata": {},
   "outputs": [],
   "source": [
    "import os\n",
    "import openai\n",
    "from dotenv import load_dotenv\n",
    "import pandas as pd\n",
    "import numpy as np\n",
    "\n",
    "load_dotenv()\n",
    "openai.api_key = os.getenv(\"OPENAI_API_KEY\") \n",
    "# print(openai.api_key)"
   ]
  },
  {
   "cell_type": "code",
   "execution_count": 2,
   "metadata": {},
   "outputs": [],
   "source": [
    "# embedding model parameters\n",
    "embedding_model = \"text-embedding-ada-002\" # second gen best model at the moment\n",
    "embedding_encoding = \"cl100k_base\" # latest tokenizer for second gen models\n",
    "max_tokens = 8000 # max tokens for second gen models and tokenizer above is 8191"
   ]
  },
  {
   "cell_type": "code",
   "execution_count": 4,
   "metadata": {},
   "outputs": [],
   "source": [
    "# Load the embedding data\n",
    "df = pd.read_csv(\"data/wmd_1452_embeddings.csv\")"
   ]
  },
  {
   "cell_type": "code",
   "execution_count": 16,
   "metadata": {},
   "outputs": [],
   "source": [
    "# only if reading from csv to ensure correct type\n",
    "df[\"embedding\"] = df.embedding.apply(eval).apply(np.array)"
   ]
  },
  {
   "cell_type": "code",
   "execution_count": 27,
   "metadata": {},
   "outputs": [
    {
     "name": "stderr",
     "output_type": "stream",
     "text": [
      "Container redis-vector-db-1  Creating\n",
      "Container redis-vector-db-1  Created\n",
      "Container redis-vector-db-1  Starting\n",
      "Container redis-vector-db-1  Started\n"
     ]
    }
   ],
   "source": [
    "# start redis using the docker-compose file in the same folder\n",
    "! docker compose up -d"
   ]
  },
  {
   "cell_type": "code",
   "execution_count": 21,
   "metadata": {},
   "outputs": [
    {
     "data": {
      "text/plain": [
       "True"
      ]
     },
     "execution_count": 21,
     "metadata": {},
     "output_type": "execute_result"
    }
   ],
   "source": [
    "# connect to redis\n",
    "import redis\n",
    "from redis.commands.search.indexDefinition import (\n",
    "    IndexDefinition,\n",
    "    IndexType\n",
    ")\n",
    "from redis.commands.search.query import Query\n",
    "from redis.commands.search.field import (\n",
    "    TextField,\n",
    "    VectorField\n",
    ")\n",
    "\n",
    "REDIS_HOST =  \"redis-12982.c238.us-central1-2.gce.cloud.redislabs.com\"\n",
    "REDIS_PORT = 12982\n",
    "REDIS_PASSWORD = \"YSFpgjRvvWMkBV2HS3UvK3GJw3q4nVsS\" # default for passwordless Redis\n",
    "\n",
    "# Connect to Redis\n",
    "redis_client = redis.Redis(\n",
    "    host=REDIS_HOST,\n",
    "    port=REDIS_PORT,\n",
    "    password=REDIS_PASSWORD\n",
    ")\n",
    "redis_client.ping()"
   ]
  },
  {
   "cell_type": "code",
   "execution_count": 46,
   "metadata": {},
   "outputs": [],
   "source": [
    "# Create a search index in Redis\n",
    "\n",
    "# Constants\n",
    "VECTOR_DIM = len(df['embedding'].values[0]) # length of the vectors\n",
    "VECTOR_NUMBER = len(df[:1000])                 # initial number of vectors\n",
    "INDEX_NAME = \"embeddings-wmd-index\"   # name of the search index\n",
    "PREFIX = \"doc\"                            # prefix for the document keys\n",
    "DISTANCE_METRIC = \"COSINE\"                # distance metric for the vectors (ex. COSINE, IP, L2)"
   ]
  },
  {
   "cell_type": "code",
   "execution_count": 47,
   "metadata": {},
   "outputs": [],
   "source": [
    "# Define RedisSearch fields for each of the columns in the dataset\n",
    "topic = TextField(name=\"topic\", weight=1.0)\n",
    "overview = TextField(name=\"overview\", weight=1.0)\n",
    "symptoms = TextField(name=\"symptoms\", weight=1.0)\n",
    "url = TextField(name=\"url\", weight=1.0)\n",
    "embedding = VectorField(\"embedding\",\n",
    "                        \"FLAT\", {\n",
    "                            \"TYPE\": \"FLOAT32\",\n",
    "                            \"DIM\": VECTOR_DIM,\n",
    "                            \"DISTANCE_METRIC\": DISTANCE_METRIC,\n",
    "                            \"INITIAL_CAP\": VECTOR_NUMBER,\n",
    "                        }\n",
    "            )\n",
    "fields = [topic, overview, symptoms, url, embedding]"
   ]
  },
  {
   "cell_type": "code",
   "execution_count": 48,
   "metadata": {},
   "outputs": [
    {
     "name": "stdout",
     "output_type": "stream",
     "text": [
      "Index already exists\n"
     ]
    }
   ],
   "source": [
    "# Check if index exists\n",
    "try:\n",
    "    redis_client.ft(INDEX_NAME).info()\n",
    "    print(\"Index already exists\")\n",
    "except:\n",
    "    # Create RediSearch Index\n",
    "    redis_client.ft(INDEX_NAME).create_index(\n",
    "        fields = fields,\n",
    "        definition = IndexDefinition(prefix=[PREFIX], index_type=IndexType.HASH)\n",
    ")"
   ]
  },
  {
   "cell_type": "code",
   "execution_count": 49,
   "metadata": {},
   "outputs": [],
   "source": [
    "def index_documents(client: redis.Redis, prefix: str, documents: pd.DataFrame):\n",
    "    records = documents.to_dict(\"records\")\n",
    "    for i, doc in enumerate(records):\n",
    "        key = f\"{prefix}:{i}\"\n",
    "        # key = f\"{prefix}:{str(doc['id'])}\"\n",
    "\n",
    "        # create byte vectors for title and content\n",
    "        embedding = np.array(doc[\"embedding\"], dtype=np.float32).tobytes()\n",
    "        # title_embedding = np.array(doc[\"title_vector\"], dtype=np.float32).tobytes()\n",
    "        # content_embedding = np.array(doc[\"content_vector\"], dtype=np.float32).tobytes()\n",
    "\n",
    "        # replace list of floats with byte vectors\n",
    "        doc[\"embedding\"] = embedding\n",
    "        # doc[\"title_vector\"] = title_embedding\n",
    "        # doc[\"content_vector\"] = content_embedding\n",
    "\n",
    "        client.hset(key, mapping = doc)"
   ]
  },
  {
   "cell_type": "code",
   "execution_count": 51,
   "metadata": {},
   "outputs": [
    {
     "name": "stdout",
     "output_type": "stream",
     "text": [
      "Loaded 930 documents in Redis search index with name: embeddings-wmd-index\n"
     ]
    }
   ],
   "source": [
    "index_documents(redis_client, PREFIX, df[:1000])\n",
    "print(f\"Loaded {redis_client.info()['db0']['keys']} documents in Redis search index with name: {INDEX_NAME}\")"
   ]
  },
  {
   "cell_type": "code",
   "execution_count": 52,
   "metadata": {},
   "outputs": [],
   "source": [
    "# Run a search query and return the results\n",
    "from typing import List\n",
    "def search_redis(\n",
    "        redis_client: redis.Redis,\n",
    "        user_query: str,\n",
    "        index_name: str = INDEX_NAME,\n",
    "        vector_field: str = \"embedding\",\n",
    "        return_fields: list = [\"topic\", \"overview\", \"symptoms\", \"url\", \"vector_score\"],\n",
    "        hybrid_fields = \"*\",\n",
    "        k: int = 20,\n",
    "        print_results: bool = False,\n",
    ") -> List[dict]:\n",
    "    \"\"\"\n",
    "    Search Redis for a given query and return the results.\n",
    "    :param redis_client: Redis client\n",
    "    :param user_query: Query string\n",
    "    :param index_name: Name of the index to search in\n",
    "    :param vector_field: Name of the vector field\n",
    "    :param return_fields: List of fields to return\n",
    "    :param hybrid_fields: List of fields to use for hybrid search\n",
    "    :param k: Number of results to return\n",
    "    :param print_results: Whether to print the results\n",
    "    :return: List of results\n",
    "    \"\"\"\n",
    "    # Creates embedding vector from user query\n",
    "    embedded_query = openai.Embedding.create(input=user_query,\n",
    "                                             model=\"text-embedding-ada-002\",\n",
    "                                             )[\"data\"][0]['embedding']\n",
    "    \n",
    "    # Prepare the query\n",
    "    base_query = f'{hybrid_fields}=>[KNN {k} @{vector_field} $vector AS vector_score]'\n",
    "\n",
    "    query = (\n",
    "        Query(base_query)\n",
    "        .return_fields(*return_fields)\n",
    "        .sort_by(\"vector_score\")\n",
    "        .paging(0, k)\n",
    "        .dialect(2)\n",
    "    )\n",
    "\n",
    "    params_dict = {\n",
    "        \"vector\": np.array(embedded_query).astype(dtype=np.float32).tobytes()\n",
    "    }\n",
    "\n",
    "    # perforrm vector search\n",
    "    results = redis_client.ft(index_name).search(query, params_dict)\n",
    "\n",
    "    # Print the results\n",
    "    if print_results:\n",
    "        for i, result in enumerate(results.docs):\n",
    "            print(f\"Rank: {i}\")\n",
    "            print(f\"Topic: {result.topic}\")\n",
    "            print(f\"Overview: {result.overview}\")\n",
    "            print(f\"Symptoms: {result.symptoms}\")\n",
    "            print(f\"URL: {result.url}\")\n",
    "            score = 1 - float(result.vector_score)\n",
    "            print(f\"Score: {round(score, 3)})\")\n",
    "            print()\n",
    "\n",
    "    return results.docs"
   ]
  },
  {
   "cell_type": "code",
   "execution_count": 53,
   "metadata": {},
   "outputs": [
    {
     "name": "stdout",
     "output_type": "stream",
     "text": [
      "Rank: 0\n",
      "Topic: Lumbar Pain\n",
      "Overview: We often bring on our back problems through bad habits, such as: The spine is actually a stack of 24 bones called vertebrae. A healthy spine is S-shaped when viewed from the side. It curves back at your shoulders and inward at your neck and small of your back. It houses and protects your spinal cord, the network of nerves that transmit feeling and control movement throughout your entire body.  One of the more common types of back pain comes from straining the bands of muscles surrounding the spine. It happens most often in the curve of the low back and the base of the neck. These areas support more weight than your upper and mid back, which are less prone to trouble. Injuries from contact sports, accidents, and falls can cause problems ranging from minor muscle strains, to herniated disks, to fractures that damage the spinal column or cord. Stabbing low back pain could be from muscle spasms, when your muscles seize up and don't relax, like a cramp. Osteoarthritis can affect your vertebrae, when the cartilage between them wears down. Bone spurs or a herniated disk can push on nerves. Pregnancy often brings on back pain, too. Hormonal changes and weight gain put new kinds of stresses on a pregnant woman's spine and legs. Sometimes your back might be sore for no clear reason. That's called nonspecific backache. It could come from weak muscles that can't handle everyday walking, bending, and stretching.\n",
      "Symptoms: Back pain -- whether a dull ache or shooting -- is just one sign that something's going on with your back. You may also have feelings in your legs or arms: Uncontrolled peeing or pooping, or inability to pee, and muscle weakness could mean a serious problem like spinal cord compression. Call your doctor right away.\n",
      "URL: https://www.webmd.com/back-pain/understanding-back-pain-basics\n",
      "Score: 0.87)\n",
      "\n",
      "Rank: 1\n",
      "Topic: Low Back Pain Exercises\n",
      "Overview: nan\n",
      "Symptoms: nan\n",
      "URL: https://www.webmd.com/pain-management/do-back-exercises\n",
      "Score: 0.847)\n",
      "\n",
      "Rank: 2\n",
      "Topic: Low Back Pain\n",
      "Overview: The causes of back pain can be complex. Some causes of back pain include accidents, muscle strains, and sports injuries.\n",
      "Symptoms: The main symptom of cervical radiculopathy is pain that spreads into the arm, neck, chest, and/or shoulders. A person with radiculopathy may experience muscle weakness and/or numbness or tingling in fingers or hands. Other symptoms may include lack of coordination, especially in the hands.\n",
      "URL: https://www.webmd.com/back-pain/guide/pain-management-back-pain\n",
      "Score: 0.845)\n",
      "\n",
      "Rank: 3\n",
      "Topic: Exercises to Reduce Low Back Pain\n",
      "Overview: nan\n",
      "Symptoms: nan\n",
      "URL: https://www.webmd.com/pain-management/do-back-exercises\n",
      "Score: 0.84)\n",
      "\n",
      "Rank: 4\n",
      "Topic: Degenerative Disc Disease\n",
      "Overview: You'll probably feel a sharp or constant pain in your back and neck. Your exact symptoms depend on where the weak disk is and other changes it has caused. Common signs include pain that: In some cases, degenerative disk disease can lead to numbness and tingling in your arms and legs. It can also cause your leg muscles to become weak. This means the damaged disks may be affecting the nerves near your spine.\n",
      "Symptoms: You'll probably feel a sharp or constant pain in your back and neck. Your exact symptoms depend on where the weak disk is and other changes it has caused. Common signs include pain that: In some cases, degenerative disk disease can lead to numbness and tingling in your arms and legs. It can also cause your leg muscles to become weak. This means the damaged disks may be affecting the nerves near your spine.\n",
      "URL: https://www.webmd.com/back-pain/degenerative-disk-disease-overview\n",
      "Score: 0.823)\n",
      "\n",
      "Rank: 5\n",
      "Topic: Arachnoiditis\n",
      "Overview: Symptoms of arachnoiditis can vary, but the most common is pain in the lower back or legs that is often described as burning or stinging pain. Others include: As the disease progresses, symptoms may become more severe or even permanent. Many people with arachnoiditis are unable to work and suffer significant disability because they are in constant pain.\n",
      "Symptoms: Symptoms of arachnoiditis can vary, but the most common is pain in the lower back or legs that is often described as burning or stinging pain. Others include: As the disease progresses, symptoms may become more severe or even permanent. Many people with arachnoiditis are unable to work and suffer significant disability because they are in constant pain.\n",
      "URL: https://www.webmd.com/pain-management/guide/pain-management-arachnoiditis\n",
      "Score: 0.821)\n",
      "\n",
      "Rank: 6\n",
      "Topic: Arachnitis\n",
      "Overview: Symptoms of arachnoiditis can vary, but the most common is pain in the lower back or legs that is often described as burning or stinging pain. Others include: As the disease progresses, symptoms may become more severe or even permanent. Many people with arachnoiditis are unable to work and suffer significant disability because they are in constant pain.\n",
      "Symptoms: Symptoms of arachnoiditis can vary, but the most common is pain in the lower back or legs that is often described as burning or stinging pain. Others include: As the disease progresses, symptoms may become more severe or even permanent. Many people with arachnoiditis are unable to work and suffer significant disability because they are in constant pain.\n",
      "URL: https://www.webmd.com/pain-management/guide/pain-management-arachnoiditis\n",
      "Score: 0.819)\n",
      "\n",
      "Rank: 7\n",
      "Topic: Neck Pain\n",
      "Overview: Causes of neck pain include:\n",
      "Symptoms: nan\n",
      "URL: https://www.webmd.com/pain-management/guide/neck-shoulder\n",
      "Score: 0.812)\n",
      "\n",
      "Rank: 8\n",
      "Topic: Manual Therapy or Bodywork\n",
      "Overview: The treatments for chronic pain are as diverse as the causes. From over-the-counter and prescription drugs to mind/body techniques to acupuncture, there are a lot of approaches. But when it comes to treating chronic pain, no single technique is guaranteed to produce complete pain relief. Relief may be found by using a combination of treatment options.\n",
      "Symptoms: nan\n",
      "URL: https://www.webmd.com/pain-management/guide/pain-management-treatment-overview\n",
      "Score: 0.807)\n",
      "\n",
      "Rank: 9\n",
      "Topic: Cancer Pain\n",
      "Overview: The symptoms of cancer pain vary from person to person. The amount of pain may depend on the type of cancer, the stage or extent of the disease, and the person's pain threshold (tolerance for pain). Pain can range from mild and occasional to severe and constant.\n",
      "Symptoms: The symptoms of cancer pain vary from person to person. The amount of pain may depend on the type of cancer, the stage or extent of the disease, and the person's pain threshold (tolerance for pain). Pain can range from mild and occasional to severe and constant.\n",
      "URL: https://www.webmd.com/cancer/pain-management-cancer-pain\n",
      "Score: 0.807)\n",
      "\n"
     ]
    }
   ],
   "source": [
    "# Search redis\n",
    "results = search_redis(redis_client, 'back pain', k=10)"
   ]
  }
 ],
 "metadata": {
  "kernelspec": {
   "display_name": "base",
   "language": "python",
   "name": "python3"
  },
  "language_info": {
   "codemirror_mode": {
    "name": "ipython",
    "version": 3
   },
   "file_extension": ".py",
   "mimetype": "text/x-python",
   "name": "python",
   "nbconvert_exporter": "python",
   "pygments_lexer": "ipython3",
   "version": "3.8.10"
  },
  "orig_nbformat": 4,
  "vscode": {
   "interpreter": {
    "hash": "8ff994f3d4451f14522a300ddb1cbf5d929550ae363c32926496ba76a88232a9"
   }
  }
 },
 "nbformat": 4,
 "nbformat_minor": 2
}
