{
 "cells": [
  {
   "cell_type": "code",
   "execution_count": 1,
   "metadata": {},
   "outputs": [],
   "source": [
    "import pandas as pd\n",
    "import numpy as np"
   ]
  },
  {
   "cell_type": "code",
   "execution_count": 7,
   "metadata": {},
   "outputs": [],
   "source": [
    "import os\n",
    "import openai\n",
    "from dotenv import load_dotenv"
   ]
  },
  {
   "cell_type": "code",
   "execution_count": 10,
   "metadata": {},
   "outputs": [],
   "source": [
    "load_dotenv()\n",
    "openai.api_key = os.getenv(\"OPENAI_API_KEY\") \n",
    "# print(openai.api_key)"
   ]
  },
  {
   "cell_type": "code",
   "execution_count": 11,
   "metadata": {},
   "outputs": [],
   "source": [
    "# embedding model parameters\n",
    "embedding_model = \"text-embedding-ada-002\" # second gen best model at the moment\n",
    "embedding_encoding = \"cl100k_base\" # latest tokenizer for second gen models\n",
    "max_tokens = 8000 # max tokens for second gen models and tokenizer above is 8191"
   ]
  },
  {
   "cell_type": "code",
   "execution_count": 2,
   "metadata": {},
   "outputs": [],
   "source": [
    "# Load the embedding data\n",
    "df = pd.read_csv(\"data/mplus_full_embeddings.csv\")"
   ]
  },
  {
   "cell_type": "code",
   "execution_count": 3,
   "metadata": {},
   "outputs": [],
   "source": [
    "# only if reading from csv to ensure correct type\n",
    "df[\"embedding\"] = df.embedding.apply(eval).apply(np.array)"
   ]
  },
  {
   "cell_type": "code",
   "execution_count": 12,
   "metadata": {},
   "outputs": [],
   "source": [
    "#multi-lingual search \n",
    "from openai.embeddings_utils import get_embedding, cosine_similarity\n",
    "\n",
    "# search through the symptoms for the most similar topic\n",
    "def search_symptoms(df, symptoms, n=5, pprint=True):\n",
    "    symptoms_embedding = get_embedding(symptoms, engine=embedding_model)\n",
    "    df[\"similarity\"] = df.embedding.apply(lambda x: cosine_similarity(x, symptoms_embedding))\n",
    "    results = (\n",
    "        df.sort_values(\"similarity\", ascending=False)\n",
    "        .head(n)\n",
    "        .combined.str.replace(\"Topic: \", \"\")\n",
    "        .str.replace(\"Symptoms: \", \"\")\n",
    "    )\n",
    "    if pprint:\n",
    "        for r in results:\n",
    "            print(r[:200])\n",
    "            print()\n",
    "    return results"
   ]
  },
  {
   "cell_type": "code",
   "execution_count": 14,
   "metadata": {},
   "outputs": [
    {
     "name": "stdout",
     "output_type": "stream",
     "text": [
      "Title: Dolor de espalda Meta Desc: La lumbalgia es el dolor en la parte baja de la espalda.  El dolor de espalda es uno de los problemas médicos más comunes. Tratamientos, prevención aquí. Also Called\n",
      "\n",
      "Title: Back Pain Meta Desc: Lumbago is pain on the lower part of your back. Back pain is very common. Treatment varies from medicines to surgery depending on the cause and kind of pain. Also Called: L\n",
      "\n",
      "Title: Dolor Meta Desc: El dolor es una sensación desencadenada por el sistema nervioso. Infórmese sobre los diferentes tipos de dolor y cómo manejarlos aquí. Also Called:  Full Summary: <p>El dolor e\n",
      "\n",
      "Title: Lesiones de la espalda Meta Desc: Las lesiones de la espalda más comunes son distenciones y torceduras, discos herniados y fractura de vértebras. Entérese sobre tratamientos y más aquí. Also Ca\n",
      "\n",
      "Title: Spinal Stenosis Meta Desc: Spinal stenosis causes narrowing in your spine which puts pressure on your nerves and spinal chord. It can cause pain, numbness, and foot problems. Also Called:  Full\n",
      "\n"
     ]
    }
   ],
   "source": [
    "results = search_symptoms(df, \"spanish back pain\", n=5)"
   ]
  },
  {
   "cell_type": "code",
   "execution_count": null,
   "metadata": {},
   "outputs": [],
   "source": []
  }
 ],
 "metadata": {
  "kernelspec": {
   "display_name": ".venv",
   "language": "python",
   "name": "python3"
  },
  "language_info": {
   "codemirror_mode": {
    "name": "ipython",
    "version": 3
   },
   "file_extension": ".py",
   "mimetype": "text/x-python",
   "name": "python",
   "nbconvert_exporter": "python",
   "pygments_lexer": "ipython3",
   "version": "3.11.2"
  },
  "orig_nbformat": 4
 },
 "nbformat": 4,
 "nbformat_minor": 2
}
