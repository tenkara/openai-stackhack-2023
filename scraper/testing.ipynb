{
 "cells": [
  {
   "cell_type": "code",
   "execution_count": 68,
   "metadata": {},
   "outputs": [],
   "source": [
    "from bs4 import BeautifulSoup as bs\n",
    "import requests\n",
    "import pandas as pd\n",
    "import numpy as np\n",
    "import re\n",
    "import time\n",
    "import asyncio\n",
    "from tqdm import tqdm"
   ]
  },
  {
   "cell_type": "code",
   "execution_count": 69,
   "metadata": {},
   "outputs": [],
   "source": [
    "base_url = \"https://www.webmd.com\"\n",
    "topics_path = \"a-to-z-guides/health-topics\"\n",
    "\n",
    "def get_topics(page_query):\n",
    "    url = f\"{base_url}/{topics_path}?pg={page_query}\"\n",
    "\n",
    "    # Make a request to the url with a user agent header\n",
    "    # to prevent 403 errors\n",
    "    r = requests.get(url, headers={\"User-Agent\": \"Mozilla/5.0\"})\n",
    "    soup = bs(r.content, \"html.parser\")\n",
    "\n",
    "    # Find the ul with the class az-index-results-group-list\n",
    "    # and get all the li elements\n",
    "    topics = soup.find(\"ul\", {\"class\": \"az-index-results-group-list\"}).find_all(\"li\")\n",
    "    topics_df = pd.DataFrame(columns=[\"topic\", \"url\"])\n",
    "    for topic in topics:\n",
    "        # Get the text and href from the a element\n",
    "        topic_text = topic.find(\"a\").get_text()\n",
    "        topic_url = topic.find(\"a\").get(\"href\")\n",
    "\n",
    "        # Add the topic and url to the dataframe\n",
    "        topics_df = topics_df.append(\n",
    "            {\"topic\": topic_text, \"url\": topic_url}, ignore_index=True\n",
    "        )\n",
    "    print(f\"Found {len(topics)} topics on page {page_query}\")\n",
    "    return topics_df"
   ]
  },
  {
   "cell_type": "code",
   "execution_count": null,
   "metadata": {},
   "outputs": [],
   "source": [
    "# Perform the same operation on every page for a-z topics\n",
    "topics_df = pd.DataFrame(columns=[\"topic\", \"url\"])\n",
    "for page in range(1, 26 + 1):\n",
    "    page = chr(page + 96)\n",
    "    print(f\"Getting topics from page {page}...\")\n",
    "    topics_df = topics_df.append(get_topics(page), ignore_index=True)\n",
    "    time.sleep(1)\n",
    "topics_df\n"
   ]
  },
  {
   "cell_type": "code",
   "execution_count": 71,
   "metadata": {},
   "outputs": [],
   "source": [
    "topics_df.to_csv(\"topics.csv\", index=False)"
   ]
  },
  {
   "cell_type": "code",
   "execution_count": 72,
   "metadata": {},
   "outputs": [
    {
     "data": {
      "text/html": [
       "<div>\n",
       "<style scoped>\n",
       "    .dataframe tbody tr th:only-of-type {\n",
       "        vertical-align: middle;\n",
       "    }\n",
       "\n",
       "    .dataframe tbody tr th {\n",
       "        vertical-align: top;\n",
       "    }\n",
       "\n",
       "    .dataframe thead th {\n",
       "        text-align: right;\n",
       "    }\n",
       "</style>\n",
       "<table border=\"1\" class=\"dataframe\">\n",
       "  <thead>\n",
       "    <tr style=\"text-align: right;\">\n",
       "      <th></th>\n",
       "      <th>topic</th>\n",
       "      <th>url</th>\n",
       "    </tr>\n",
       "  </thead>\n",
       "  <tbody>\n",
       "    <tr>\n",
       "      <th>0</th>\n",
       "      <td>A1AT Deficiency</td>\n",
       "      <td>https://www.webmd.com/lung/copd/alpha-1-antitr...</td>\n",
       "    </tr>\n",
       "    <tr>\n",
       "      <th>1</th>\n",
       "      <td>AAT</td>\n",
       "      <td>https://www.webmd.com/lung/copd/alpha-1-antitr...</td>\n",
       "    </tr>\n",
       "    <tr>\n",
       "      <th>2</th>\n",
       "      <td>AAT Deficiency</td>\n",
       "      <td>https://www.webmd.com/lung/copd/alpha-1-antitr...</td>\n",
       "    </tr>\n",
       "    <tr>\n",
       "      <th>3</th>\n",
       "      <td>Abdominal Migraine</td>\n",
       "      <td>https://www.webmd.com/migraines-headaches/cycl...</td>\n",
       "    </tr>\n",
       "    <tr>\n",
       "      <th>4</th>\n",
       "      <td>Abercrombie Syndrome</td>\n",
       "      <td>https://www.webmd.com/cancer/lymphoma/amyloido...</td>\n",
       "    </tr>\n",
       "    <tr>\n",
       "      <th>...</th>\n",
       "      <td>...</td>\n",
       "      <td>...</td>\n",
       "    </tr>\n",
       "    <tr>\n",
       "      <th>1599</th>\n",
       "      <td>Zambusch's Disease</td>\n",
       "      <td>https://www.webmd.com/oral-health/oral-lichen-...</td>\n",
       "    </tr>\n",
       "    <tr>\n",
       "      <th>1600</th>\n",
       "      <td>Z-E Syndrome</td>\n",
       "      <td>https://www.webmd.com/digestive-disorders/zoll...</td>\n",
       "    </tr>\n",
       "    <tr>\n",
       "      <th>1601</th>\n",
       "      <td>ZES</td>\n",
       "      <td>https://www.webmd.com/digestive-disorders/zoll...</td>\n",
       "    </tr>\n",
       "    <tr>\n",
       "      <th>1602</th>\n",
       "      <td>Zika</td>\n",
       "      <td>https://www.webmd.com/a-to-z-guides/zika-virus...</td>\n",
       "    </tr>\n",
       "    <tr>\n",
       "      <th>1603</th>\n",
       "      <td>Zollinger-Ellison syndrome (ZES)</td>\n",
       "      <td>https://www.webmd.com/digestive-disorders/zoll...</td>\n",
       "    </tr>\n",
       "  </tbody>\n",
       "</table>\n",
       "<p>1452 rows × 2 columns</p>\n",
       "</div>"
      ],
      "text/plain": [
       "                                 topic  \\\n",
       "0                      A1AT Deficiency   \n",
       "1                                  AAT   \n",
       "2                       AAT Deficiency   \n",
       "3                   Abdominal Migraine   \n",
       "4                 Abercrombie Syndrome   \n",
       "...                                ...   \n",
       "1599                Zambusch's Disease   \n",
       "1600                      Z-E Syndrome   \n",
       "1601                               ZES   \n",
       "1602                              Zika   \n",
       "1603  Zollinger-Ellison syndrome (ZES)   \n",
       "\n",
       "                                                    url  \n",
       "0     https://www.webmd.com/lung/copd/alpha-1-antitr...  \n",
       "1     https://www.webmd.com/lung/copd/alpha-1-antitr...  \n",
       "2     https://www.webmd.com/lung/copd/alpha-1-antitr...  \n",
       "3     https://www.webmd.com/migraines-headaches/cycl...  \n",
       "4     https://www.webmd.com/cancer/lymphoma/amyloido...  \n",
       "...                                                 ...  \n",
       "1599  https://www.webmd.com/oral-health/oral-lichen-...  \n",
       "1600  https://www.webmd.com/digestive-disorders/zoll...  \n",
       "1601  https://www.webmd.com/digestive-disorders/zoll...  \n",
       "1602  https://www.webmd.com/a-to-z-guides/zika-virus...  \n",
       "1603  https://www.webmd.com/digestive-disorders/zoll...  \n",
       "\n",
       "[1452 rows x 2 columns]"
      ]
     },
     "execution_count": 72,
     "metadata": {},
     "output_type": "execute_result"
    }
   ],
   "source": [
    "# Get all of the topics from topics_df with a url that does\n",
    "# not end in default.htm\n",
    "topics_df = pd.read_csv(\"topics.csv\")\n",
    "topics_df = topics_df[topics_df[\"url\"].str.endswith(\"default.htm\") == False]\n",
    "topics_df"
   ]
  },
  {
   "cell_type": "code",
   "execution_count": 75,
   "metadata": {},
   "outputs": [],
   "source": [
    "def scrape_page(topic, url):\n",
    "    # Make a request to the url with a user agent header\n",
    "    # to prevent 403 errors\n",
    "    r = requests.get(url, headers={\"User-Agent\": \"Mozilla/5.0\"})\n",
    "    soup = bs(r.content, \"html.parser\")\n",
    "\n",
    "    try:\n",
    "        # Fint the div with the class \"article__body\" or \"article-body\"\n",
    "        # and get all the section elements\n",
    "        sections = soup.find(\"div\", {\"class\": \"article__body\"}).find_all(\"section\")\n",
    "        if len(sections) == 0:\n",
    "            sections = soup.find(\"div\", {\"class\": \"article-body\"}).find_all(\"section\")\n",
    "\n",
    "        data = []\n",
    "        for section in sections:\n",
    "            # Get the first h2 element to get the title of the section\n",
    "            title = section.find(\"h2\").get_text() if section.find(\"h2\") else \"\"\n",
    "            body = \" \".join([p.get_text() for p in section.find_all(\"p\")])\n",
    "            data.append({\"title\": title, \"body\": body})\n",
    "\n",
    "        # Print our the a dataframe with the data\n",
    "        print(f\"Found {len(data)} sections for {topic}\")\n",
    "        # print(pd.DataFrame(data))\n",
    "        \n",
    "        \n",
    "        # If the section does not have a title, then append the body to the \n",
    "        # body of the section above it\n",
    "        for i in range(len(data)):\n",
    "            if data[i][\"title\"] == \"\":\n",
    "                data[i - 1][\"body\"] += data[i][\"body\"]\n",
    "                data[i][\"body\"] = \"\"\n",
    "        data = [d for d in data if d[\"body\"] != \"\"]\n",
    "\n",
    "        pot_cols = {\n",
    "            \"overview\": [\"what is\", \"what are\"],\n",
    "            \"symptoms\": [\"symptom\", \"signs\"],\n",
    "            \"causes\": [\"cause\", \"risk\"],\n",
    "            \"tests\": [\"test\", \"diagnosis\"],\n",
    "            \"treatment\": [\"treat\"],\n",
    "        }\n",
    "        obj = {col: \"\" for col in pot_cols.keys()}\n",
    "\n",
    "        obj[\"topic\"] = topic\n",
    "        obj[\"url\"] = url\n",
    "\n",
    "        for d in data:\n",
    "            # Check if the title of the d contains any of the columns\n",
    "            # if it does then put it in the dict\n",
    "            for col_key in pot_cols.keys():\n",
    "                for col in pot_cols[col_key]:\n",
    "                    if col in d[\"title\"].lower():\n",
    "                        obj[col_key] = d[\"body\"]\n",
    "\n",
    "        # If the value for \"what is\" is empty, then put the first section\n",
    "        # in the \"what is\" column\n",
    "        if obj[\"overview\"] == \"\":\n",
    "            obj[\"overview\"] = data[0][\"body\"]\n",
    "\n",
    "        return pd.DataFrame(obj, columns=[\"topic\", \"url\", *pot_cols.keys()], index=[0])\n",
    "    except Exception as e:\n",
    "        return pd.DataFrame(columns=[\"topic\", \"url\"], data=[[topic, url]])"
   ]
  },
  {
   "cell_type": "code",
   "execution_count": 76,
   "metadata": {},
   "outputs": [
    {
     "name": "stderr",
     "output_type": "stream",
     "text": [
      "  0%|          | 0/1452 [00:00<?, ?it/s]"
     ]
    },
    {
     "name": "stdout",
     "output_type": "stream",
     "text": [
      "Scraping A1AT Deficiency...\n",
      "Found 11 sections for A1AT Deficiency\n"
     ]
    },
    {
     "name": "stderr",
     "output_type": "stream",
     "text": [
      "C:\\Users\\Raj\\AppData\\Local\\Temp\\ipykernel_29048\\2168445501.py:6: FutureWarning: The frame.append method is deprecated and will be removed from pandas in a future version. Use pandas.concat instead.\n",
      "  df = df.append(scrape_page(topic[\"topic\"], topic[\"url\"]), ignore_index=True)\n",
      "  0%|          | 1/1452 [00:01<30:07,  1.25s/it]C:\\Users\\Raj\\AppData\\Local\\Temp\\ipykernel_29048\\2168445501.py:6: FutureWarning: The frame.append method is deprecated and will be removed from pandas in a future version. Use pandas.concat instead.\n",
      "  df = df.append(scrape_page(topic[\"topic\"], topic[\"url\"]), ignore_index=True)\n"
     ]
    },
    {
     "name": "stdout",
     "output_type": "stream",
     "text": [
      "Scraping AAT...\n",
      "Found 11 sections for AAT\n"
     ]
    },
    {
     "name": "stderr",
     "output_type": "stream",
     "text": [
      "  0%|          | 2/1452 [00:02<29:12,  1.21s/it]C:\\Users\\Raj\\AppData\\Local\\Temp\\ipykernel_29048\\2168445501.py:6: FutureWarning: The frame.append method is deprecated and will be removed from pandas in a future version. Use pandas.concat instead.\n",
      "  df = df.append(scrape_page(topic[\"topic\"], topic[\"url\"]), ignore_index=True)\n"
     ]
    },
    {
     "name": "stdout",
     "output_type": "stream",
     "text": [
      "Scraping AAT Deficiency...\n",
      "Found 11 sections for AAT Deficiency\n"
     ]
    },
    {
     "name": "stderr",
     "output_type": "stream",
     "text": [
      "  0%|          | 3/1452 [00:03<29:04,  1.20s/it]"
     ]
    },
    {
     "name": "stdout",
     "output_type": "stream",
     "text": [
      "Scraping Abdominal Migraine...\n",
      "Found 12 sections for Abdominal Migraine\n"
     ]
    },
    {
     "name": "stderr",
     "output_type": "stream",
     "text": [
      "C:\\Users\\Raj\\AppData\\Local\\Temp\\ipykernel_29048\\2168445501.py:6: FutureWarning: The frame.append method is deprecated and will be removed from pandas in a future version. Use pandas.concat instead.\n",
      "  df = df.append(scrape_page(topic[\"topic\"], topic[\"url\"]), ignore_index=True)\n",
      "  0%|          | 4/1452 [00:05<30:55,  1.28s/it]"
     ]
    },
    {
     "name": "stdout",
     "output_type": "stream",
     "text": [
      "Scraping Abercrombie Syndrome...\n"
     ]
    },
    {
     "name": "stderr",
     "output_type": "stream",
     "text": [
      "C:\\Users\\Raj\\AppData\\Local\\Temp\\ipykernel_29048\\2168445501.py:6: FutureWarning: The frame.append method is deprecated and will be removed from pandas in a future version. Use pandas.concat instead.\n",
      "  df = df.append(scrape_page(topic[\"topic\"], topic[\"url\"]), ignore_index=True)\n",
      "  0%|          | 5/1452 [00:06<32:02,  1.33s/it]"
     ]
    },
    {
     "name": "stdout",
     "output_type": "stream",
     "text": [
      "Scraping Abnormal Pap Test...\n",
      "Found 9 sections for Abnormal Pap Test\n"
     ]
    },
    {
     "name": "stderr",
     "output_type": "stream",
     "text": [
      "C:\\Users\\Raj\\AppData\\Local\\Temp\\ipykernel_29048\\2168445501.py:6: FutureWarning: The frame.append method is deprecated and will be removed from pandas in a future version. Use pandas.concat instead.\n",
      "  df = df.append(scrape_page(topic[\"topic\"], topic[\"url\"]), ignore_index=True)\n",
      "  0%|          | 6/1452 [00:07<31:21,  1.30s/it]"
     ]
    },
    {
     "name": "stdout",
     "output_type": "stream",
     "text": [
      "Scraping Abortion...\n",
      "Found 14 sections for Abortion\n"
     ]
    },
    {
     "name": "stderr",
     "output_type": "stream",
     "text": [
      "C:\\Users\\Raj\\AppData\\Local\\Temp\\ipykernel_29048\\2168445501.py:6: FutureWarning: The frame.append method is deprecated and will be removed from pandas in a future version. Use pandas.concat instead.\n",
      "  df = df.append(scrape_page(topic[\"topic\"], topic[\"url\"]), ignore_index=True)\n",
      "  0%|          | 7/1452 [00:08<30:52,  1.28s/it]"
     ]
    },
    {
     "name": "stdout",
     "output_type": "stream",
     "text": [
      "Scraping Abruptio Placenta...\n",
      "Found 8 sections for Abruptio Placenta\n"
     ]
    },
    {
     "name": "stderr",
     "output_type": "stream",
     "text": [
      "C:\\Users\\Raj\\AppData\\Local\\Temp\\ipykernel_29048\\2168445501.py:6: FutureWarning: The frame.append method is deprecated and will be removed from pandas in a future version. Use pandas.concat instead.\n",
      "  df = df.append(scrape_page(topic[\"topic\"], topic[\"url\"]), ignore_index=True)\n",
      "  1%|          | 8/1452 [00:10<30:28,  1.27s/it]C:\\Users\\Raj\\AppData\\Local\\Temp\\ipykernel_29048\\2168445501.py:6: FutureWarning: The frame.append method is deprecated and will be removed from pandas in a future version. Use pandas.concat instead.\n",
      "  df = df.append(scrape_page(topic[\"topic\"], topic[\"url\"]), ignore_index=True)\n"
     ]
    },
    {
     "name": "stdout",
     "output_type": "stream",
     "text": [
      "Scraping Abruption, Placental...\n",
      "Found 8 sections for Abruption, Placental\n"
     ]
    },
    {
     "name": "stderr",
     "output_type": "stream",
     "text": [
      "  1%|          | 9/1452 [00:11<29:52,  1.24s/it]C:\\Users\\Raj\\AppData\\Local\\Temp\\ipykernel_29048\\2168445501.py:6: FutureWarning: The frame.append method is deprecated and will be removed from pandas in a future version. Use pandas.concat instead.\n",
      "  df = df.append(scrape_page(topic[\"topic\"], topic[\"url\"]), ignore_index=True)\n"
     ]
    },
    {
     "name": "stdout",
     "output_type": "stream",
     "text": [
      "Scraping Abscessed Tooth...\n",
      "Found 8 sections for Abscessed Tooth\n"
     ]
    },
    {
     "name": "stderr",
     "output_type": "stream",
     "text": [
      "  1%|          | 10/1452 [00:12<29:45,  1.24s/it]"
     ]
    },
    {
     "name": "stdout",
     "output_type": "stream",
     "text": [
      "Scraping Absence of Menstruation, Primary...\n",
      "Found 7 sections for Absence of Menstruation, Primary\n"
     ]
    },
    {
     "name": "stderr",
     "output_type": "stream",
     "text": [
      "C:\\Users\\Raj\\AppData\\Local\\Temp\\ipykernel_29048\\2168445501.py:6: FutureWarning: The frame.append method is deprecated and will be removed from pandas in a future version. Use pandas.concat instead.\n",
      "  df = df.append(scrape_page(topic[\"topic\"], topic[\"url\"]), ignore_index=True)\n",
      "  1%|          | 11/1452 [00:13<29:41,  1.24s/it]"
     ]
    },
    {
     "name": "stdout",
     "output_type": "stream",
     "text": [
      "Scraping Absence Seizure...\n",
      "Found 2 sections for Absence Seizure\n"
     ]
    },
    {
     "name": "stderr",
     "output_type": "stream",
     "text": [
      "C:\\Users\\Raj\\AppData\\Local\\Temp\\ipykernel_29048\\2168445501.py:6: FutureWarning: The frame.append method is deprecated and will be removed from pandas in a future version. Use pandas.concat instead.\n",
      "  df = df.append(scrape_page(topic[\"topic\"], topic[\"url\"]), ignore_index=True)\n",
      "  1%|          | 12/1452 [00:15<29:43,  1.24s/it]C:\\Users\\Raj\\AppData\\Local\\Temp\\ipykernel_29048\\2168445501.py:6: FutureWarning: The frame.append method is deprecated and will be removed from pandas in a future version. Use pandas.concat instead.\n",
      "  df = df.append(scrape_page(topic[\"topic\"], topic[\"url\"]), ignore_index=True)\n"
     ]
    },
    {
     "name": "stdout",
     "output_type": "stream",
     "text": [
      "Scraping Abuse, Child...\n",
      "Found 12 sections for Abuse, Child\n"
     ]
    },
    {
     "name": "stderr",
     "output_type": "stream",
     "text": [
      "  1%|          | 13/1452 [00:16<29:34,  1.23s/it]"
     ]
    },
    {
     "name": "stdout",
     "output_type": "stream",
     "text": [
      "Scraping Acantholysis Bullosa...\n",
      "Found 10 sections for Acantholysis Bullosa\n"
     ]
    },
    {
     "name": "stderr",
     "output_type": "stream",
     "text": [
      "C:\\Users\\Raj\\AppData\\Local\\Temp\\ipykernel_29048\\2168445501.py:6: FutureWarning: The frame.append method is deprecated and will be removed from pandas in a future version. Use pandas.concat instead.\n",
      "  df = df.append(scrape_page(topic[\"topic\"], topic[\"url\"]), ignore_index=True)\n",
      "  1%|          | 14/1452 [00:17<29:42,  1.24s/it]C:\\Users\\Raj\\AppData\\Local\\Temp\\ipykernel_29048\\2168445501.py:6: FutureWarning: The frame.append method is deprecated and will be removed from pandas in a future version. Use pandas.concat instead.\n",
      "  df = df.append(scrape_page(topic[\"topic\"], topic[\"url\"]), ignore_index=True)\n"
     ]
    },
    {
     "name": "stdout",
     "output_type": "stream",
     "text": [
      "Scraping Acanthosis Bullosa...\n",
      "Found 10 sections for Acanthosis Bullosa\n"
     ]
    },
    {
     "name": "stderr",
     "output_type": "stream",
     "text": [
      "  1%|          | 15/1452 [00:18<29:32,  1.23s/it]"
     ]
    },
    {
     "name": "stdout",
     "output_type": "stream",
     "text": [
      "Scraping Acanthosis Nigricans...\n",
      "Found 5 sections for Acanthosis Nigricans\n"
     ]
    },
    {
     "name": "stderr",
     "output_type": "stream",
     "text": [
      "C:\\Users\\Raj\\AppData\\Local\\Temp\\ipykernel_29048\\2168445501.py:6: FutureWarning: The frame.append method is deprecated and will be removed from pandas in a future version. Use pandas.concat instead.\n",
      "  df = df.append(scrape_page(topic[\"topic\"], topic[\"url\"]), ignore_index=True)\n",
      "  1%|          | 16/1452 [00:19<29:33,  1.23s/it]"
     ]
    },
    {
     "name": "stdout",
     "output_type": "stream",
     "text": [
      "Scraping ACC -- Adenoid Cystic Carcinoma...\n",
      "Found 6 sections for ACC -- Adenoid Cystic Carcinoma\n"
     ]
    },
    {
     "name": "stderr",
     "output_type": "stream",
     "text": [
      "C:\\Users\\Raj\\AppData\\Local\\Temp\\ipykernel_29048\\2168445501.py:6: FutureWarning: The frame.append method is deprecated and will be removed from pandas in a future version. Use pandas.concat instead.\n",
      "  df = df.append(scrape_page(topic[\"topic\"], topic[\"url\"]), ignore_index=True)\n",
      "  1%|          | 17/1452 [00:21<29:35,  1.24s/it]"
     ]
    },
    {
     "name": "stdout",
     "output_type": "stream",
     "text": [
      "Scraping ACC -- Agenesis of Corpus Callosum...\n",
      "Found 8 sections for ACC -- Agenesis of Corpus Callosum\n"
     ]
    },
    {
     "name": "stderr",
     "output_type": "stream",
     "text": [
      "C:\\Users\\Raj\\AppData\\Local\\Temp\\ipykernel_29048\\2168445501.py:6: FutureWarning: The frame.append method is deprecated and will be removed from pandas in a future version. Use pandas.concat instead.\n",
      "  df = df.append(scrape_page(topic[\"topic\"], topic[\"url\"]), ignore_index=True)\n",
      "  1%|          | 18/1452 [00:22<29:37,  1.24s/it]C:\\Users\\Raj\\AppData\\Local\\Temp\\ipykernel_29048\\2168445501.py:6: FutureWarning: The frame.append method is deprecated and will be removed from pandas in a future version. Use pandas.concat instead.\n",
      "  df = df.append(scrape_page(topic[\"topic\"], topic[\"url\"]), ignore_index=True)\n"
     ]
    },
    {
     "name": "stdout",
     "output_type": "stream",
     "text": [
      "Scraping ACC -- Aplasia Cutis Congenita...\n",
      "Found 6 sections for ACC -- Aplasia Cutis Congenita\n"
     ]
    },
    {
     "name": "stderr",
     "output_type": "stream",
     "text": [
      "  1%|▏         | 19/1452 [00:23<29:27,  1.23s/it]"
     ]
    },
    {
     "name": "stdout",
     "output_type": "stream",
     "text": [
      "Scraping ACH...\n",
      "Found 14 sections for ACH\n"
     ]
    },
    {
     "name": "stderr",
     "output_type": "stream",
     "text": [
      "C:\\Users\\Raj\\AppData\\Local\\Temp\\ipykernel_29048\\2168445501.py:6: FutureWarning: The frame.append method is deprecated and will be removed from pandas in a future version. Use pandas.concat instead.\n",
      "  df = df.append(scrape_page(topic[\"topic\"], topic[\"url\"]), ignore_index=True)\n",
      "  1%|▏         | 20/1452 [00:24<29:25,  1.23s/it]"
     ]
    },
    {
     "name": "stdout",
     "output_type": "stream",
     "text": [
      "Scraping Achalasia...\n",
      "Found 11 sections for Achalasia\n"
     ]
    },
    {
     "name": "stderr",
     "output_type": "stream",
     "text": [
      "C:\\Users\\Raj\\AppData\\Local\\Temp\\ipykernel_29048\\2168445501.py:6: FutureWarning: The frame.append method is deprecated and will be removed from pandas in a future version. Use pandas.concat instead.\n",
      "  df = df.append(scrape_page(topic[\"topic\"], topic[\"url\"]), ignore_index=True)\n",
      "  1%|▏         | 21/1452 [00:26<29:31,  1.24s/it]"
     ]
    },
    {
     "name": "stdout",
     "output_type": "stream",
     "text": [
      "Scraping Achilles Tendon Problems...\n",
      "Found 10 sections for Achilles Tendon Problems\n"
     ]
    },
    {
     "name": "stderr",
     "output_type": "stream",
     "text": [
      "C:\\Users\\Raj\\AppData\\Local\\Temp\\ipykernel_29048\\2168445501.py:6: FutureWarning: The frame.append method is deprecated and will be removed from pandas in a future version. Use pandas.concat instead.\n",
      "  df = df.append(scrape_page(topic[\"topic\"], topic[\"url\"]), ignore_index=True)\n",
      "  2%|▏         | 22/1452 [00:27<29:40,  1.25s/it]C:\\Users\\Raj\\AppData\\Local\\Temp\\ipykernel_29048\\2168445501.py:6: FutureWarning: The frame.append method is deprecated and will be removed from pandas in a future version. Use pandas.concat instead.\n",
      "  df = df.append(scrape_page(topic[\"topic\"], topic[\"url\"]), ignore_index=True)\n"
     ]
    },
    {
     "name": "stdout",
     "output_type": "stream",
     "text": [
      "Scraping Achondroplasia...\n",
      "Found 14 sections for Achondroplasia\n"
     ]
    },
    {
     "name": "stderr",
     "output_type": "stream",
     "text": [
      "  2%|▏         | 23/1452 [00:28<29:12,  1.23s/it]"
     ]
    },
    {
     "name": "stdout",
     "output_type": "stream",
     "text": [
      "Scraping Achondroplastic Dwarfism...\n",
      "Found 14 sections for Achondroplastic Dwarfism\n"
     ]
    },
    {
     "name": "stderr",
     "output_type": "stream",
     "text": [
      "C:\\Users\\Raj\\AppData\\Local\\Temp\\ipykernel_29048\\2168445501.py:6: FutureWarning: The frame.append method is deprecated and will be removed from pandas in a future version. Use pandas.concat instead.\n",
      "  df = df.append(scrape_page(topic[\"topic\"], topic[\"url\"]), ignore_index=True)\n",
      "  2%|▏         | 24/1452 [00:29<29:10,  1.23s/it]"
     ]
    },
    {
     "name": "stdout",
     "output_type": "stream",
     "text": [
      "Scraping Acquired Lipodystrophy...\n",
      "Found 15 sections for Acquired Lipodystrophy\n"
     ]
    },
    {
     "name": "stderr",
     "output_type": "stream",
     "text": [
      "C:\\Users\\Raj\\AppData\\Local\\Temp\\ipykernel_29048\\2168445501.py:6: FutureWarning: The frame.append method is deprecated and will be removed from pandas in a future version. Use pandas.concat instead.\n",
      "  df = df.append(scrape_page(topic[\"topic\"], topic[\"url\"]), ignore_index=True)\n",
      "  2%|▏         | 25/1452 [00:31<30:05,  1.26s/it]"
     ]
    },
    {
     "name": "stdout",
     "output_type": "stream",
     "text": [
      "Scraping Acromegaly...\n",
      "Found 12 sections for Acromegaly\n"
     ]
    },
    {
     "name": "stderr",
     "output_type": "stream",
     "text": [
      "C:\\Users\\Raj\\AppData\\Local\\Temp\\ipykernel_29048\\2168445501.py:6: FutureWarning: The frame.append method is deprecated and will be removed from pandas in a future version. Use pandas.concat instead.\n",
      "  df = df.append(scrape_page(topic[\"topic\"], topic[\"url\"]), ignore_index=True)\n",
      "  2%|▏         | 26/1452 [00:32<30:01,  1.26s/it]"
     ]
    },
    {
     "name": "stdout",
     "output_type": "stream",
     "text": [
      "Scraping Adenosine Deaminase Severe Combined Immunodeficiency (ADA-SCID)...\n",
      "Found 9 sections for Adenosine Deaminase Severe Combined Immunodeficiency (ADA-SCID)\n"
     ]
    },
    {
     "name": "stderr",
     "output_type": "stream",
     "text": [
      "C:\\Users\\Raj\\AppData\\Local\\Temp\\ipykernel_29048\\2168445501.py:6: FutureWarning: The frame.append method is deprecated and will be removed from pandas in a future version. Use pandas.concat instead.\n",
      "  df = df.append(scrape_page(topic[\"topic\"], topic[\"url\"]), ignore_index=True)\n",
      "  2%|▏         | 27/1452 [00:33<29:52,  1.26s/it]"
     ]
    },
    {
     "name": "stdout",
     "output_type": "stream",
     "text": [
      "Scraping Aganglionic Megacolon...\n",
      "Found 7 sections for Aganglionic Megacolon\n"
     ]
    },
    {
     "name": "stderr",
     "output_type": "stream",
     "text": [
      "C:\\Users\\Raj\\AppData\\Local\\Temp\\ipykernel_29048\\2168445501.py:6: FutureWarning: The frame.append method is deprecated and will be removed from pandas in a future version. Use pandas.concat instead.\n",
      "  df = df.append(scrape_page(topic[\"topic\"], topic[\"url\"]), ignore_index=True)\n",
      "  2%|▏         | 28/1452 [00:34<30:02,  1.27s/it]C:\\Users\\Raj\\AppData\\Local\\Temp\\ipykernel_29048\\2168445501.py:6: FutureWarning: The frame.append method is deprecated and will be removed from pandas in a future version. Use pandas.concat instead.\n",
      "  df = df.append(scrape_page(topic[\"topic\"], topic[\"url\"]), ignore_index=True)\n"
     ]
    },
    {
     "name": "stdout",
     "output_type": "stream",
     "text": [
      "Scraping Agenesis of Commissura Magna Cerebri...\n",
      "Found 8 sections for Agenesis of Commissura Magna Cerebri\n"
     ]
    },
    {
     "name": "stderr",
     "output_type": "stream",
     "text": [
      "  2%|▏         | 29/1452 [00:36<29:28,  1.24s/it]C:\\Users\\Raj\\AppData\\Local\\Temp\\ipykernel_29048\\2168445501.py:6: FutureWarning: The frame.append method is deprecated and will be removed from pandas in a future version. Use pandas.concat instead.\n",
      "  df = df.append(scrape_page(topic[\"topic\"], topic[\"url\"]), ignore_index=True)\n"
     ]
    },
    {
     "name": "stdout",
     "output_type": "stream",
     "text": [
      "Scraping Agenesis of Corpus Callosum...\n",
      "Found 8 sections for Agenesis of Corpus Callosum\n"
     ]
    },
    {
     "name": "stderr",
     "output_type": "stream",
     "text": [
      "  2%|▏         | 30/1452 [00:37<29:01,  1.22s/it]"
     ]
    },
    {
     "name": "stdout",
     "output_type": "stream",
     "text": [
      "Scraping Age-Related Macular Degeneration...\n",
      "Found 11 sections for Age-Related Macular Degeneration\n"
     ]
    },
    {
     "name": "stderr",
     "output_type": "stream",
     "text": [
      "C:\\Users\\Raj\\AppData\\Local\\Temp\\ipykernel_29048\\2168445501.py:6: FutureWarning: The frame.append method is deprecated and will be removed from pandas in a future version. Use pandas.concat instead.\n",
      "  df = df.append(scrape_page(topic[\"topic\"], topic[\"url\"]), ignore_index=True)\n",
      "  2%|▏         | 31/1452 [00:38<29:10,  1.23s/it]"
     ]
    },
    {
     "name": "stdout",
     "output_type": "stream",
     "text": [
      "Scraping Aging, Sexuality and Physical Changes...\n",
      "Found 12 sections for Aging, Sexuality and Physical Changes\n"
     ]
    },
    {
     "name": "stderr",
     "output_type": "stream",
     "text": [
      "C:\\Users\\Raj\\AppData\\Local\\Temp\\ipykernel_29048\\2168445501.py:6: FutureWarning: The frame.append method is deprecated and will be removed from pandas in a future version. Use pandas.concat instead.\n",
      "  df = df.append(scrape_page(topic[\"topic\"], topic[\"url\"]), ignore_index=True)\n",
      "  2%|▏         | 32/1452 [00:39<29:35,  1.25s/it]"
     ]
    },
    {
     "name": "stdout",
     "output_type": "stream",
     "text": [
      "Scraping Agnogenic Myeloid Metaplasia (AMM)...\n",
      "Found 10 sections for Agnogenic Myeloid Metaplasia (AMM)\n"
     ]
    },
    {
     "name": "stderr",
     "output_type": "stream",
     "text": [
      "C:\\Users\\Raj\\AppData\\Local\\Temp\\ipykernel_29048\\2168445501.py:6: FutureWarning: The frame.append method is deprecated and will be removed from pandas in a future version. Use pandas.concat instead.\n",
      "  df = df.append(scrape_page(topic[\"topic\"], topic[\"url\"]), ignore_index=True)\n",
      "  2%|▏         | 33/1452 [00:41<29:39,  1.25s/it]"
     ]
    },
    {
     "name": "stdout",
     "output_type": "stream",
     "text": [
      "Scraping Agnosia, Primary Visual...\n",
      "Found 8 sections for Agnosia, Primary Visual\n"
     ]
    },
    {
     "name": "stderr",
     "output_type": "stream",
     "text": [
      "C:\\Users\\Raj\\AppData\\Local\\Temp\\ipykernel_29048\\2168445501.py:6: FutureWarning: The frame.append method is deprecated and will be removed from pandas in a future version. Use pandas.concat instead.\n",
      "  df = df.append(scrape_page(topic[\"topic\"], topic[\"url\"]), ignore_index=True)\n",
      "  2%|▏         | 34/1452 [00:42<29:32,  1.25s/it]C:\\Users\\Raj\\AppData\\Local\\Temp\\ipykernel_29048\\2168445501.py:6: FutureWarning: The frame.append method is deprecated and will be removed from pandas in a future version. Use pandas.concat instead.\n",
      "  df = df.append(scrape_page(topic[\"topic\"], topic[\"url\"]), ignore_index=True)\n"
     ]
    },
    {
     "name": "stdout",
     "output_type": "stream",
     "text": [
      "Scraping Agnosis, Primary...\n",
      "Found 8 sections for Agnosis, Primary\n"
     ]
    },
    {
     "name": "stderr",
     "output_type": "stream",
     "text": [
      "  2%|▏         | 35/1452 [00:43<29:00,  1.23s/it]"
     ]
    },
    {
     "name": "stdout",
     "output_type": "stream",
     "text": [
      "Scraping Agoraphobia...\n",
      "Found 9 sections for Agoraphobia\n"
     ]
    },
    {
     "name": "stderr",
     "output_type": "stream",
     "text": [
      "C:\\Users\\Raj\\AppData\\Local\\Temp\\ipykernel_29048\\2168445501.py:6: FutureWarning: The frame.append method is deprecated and will be removed from pandas in a future version. Use pandas.concat instead.\n",
      "  df = df.append(scrape_page(topic[\"topic\"], topic[\"url\"]), ignore_index=True)\n",
      "  2%|▏         | 36/1452 [00:44<29:00,  1.23s/it]"
     ]
    },
    {
     "name": "stdout",
     "output_type": "stream",
     "text": [
      "Scraping Airsickness...\n",
      "Found 11 sections for Airsickness\n"
     ]
    },
    {
     "name": "stderr",
     "output_type": "stream",
     "text": [
      "C:\\Users\\Raj\\AppData\\Local\\Temp\\ipykernel_29048\\2168445501.py:6: FutureWarning: The frame.append method is deprecated and will be removed from pandas in a future version. Use pandas.concat instead.\n",
      "  df = df.append(scrape_page(topic[\"topic\"], topic[\"url\"]), ignore_index=True)\n",
      "  3%|▎         | 37/1452 [00:46<29:02,  1.23s/it]"
     ]
    },
    {
     "name": "stdout",
     "output_type": "stream",
     "text": [
      "Scraping Albinism...\n",
      "Found 5 sections for Albinism\n"
     ]
    },
    {
     "name": "stderr",
     "output_type": "stream",
     "text": [
      "C:\\Users\\Raj\\AppData\\Local\\Temp\\ipykernel_29048\\2168445501.py:6: FutureWarning: The frame.append method is deprecated and will be removed from pandas in a future version. Use pandas.concat instead.\n",
      "  df = df.append(scrape_page(topic[\"topic\"], topic[\"url\"]), ignore_index=True)\n",
      "  3%|▎         | 38/1452 [00:47<29:20,  1.24s/it]C:\\Users\\Raj\\AppData\\Local\\Temp\\ipykernel_29048\\2168445501.py:6: FutureWarning: The frame.append method is deprecated and will be removed from pandas in a future version. Use pandas.concat instead.\n",
      "  df = df.append(scrape_page(topic[\"topic\"], topic[\"url\"]), ignore_index=True)\n"
     ]
    },
    {
     "name": "stdout",
     "output_type": "stream",
     "text": [
      "Scraping Albinismus...\n",
      "Found 5 sections for Albinismus\n"
     ]
    },
    {
     "name": "stderr",
     "output_type": "stream",
     "text": [
      "  3%|▎         | 39/1452 [00:48<29:06,  1.24s/it]"
     ]
    },
    {
     "name": "stdout",
     "output_type": "stream",
     "text": [
      "Scraping Alcohol Abuse, Teen...\n",
      "Found 10 sections for Alcohol Abuse, Teen\n"
     ]
    },
    {
     "name": "stderr",
     "output_type": "stream",
     "text": [
      "C:\\Users\\Raj\\AppData\\Local\\Temp\\ipykernel_29048\\2168445501.py:6: FutureWarning: The frame.append method is deprecated and will be removed from pandas in a future version. Use pandas.concat instead.\n",
      "  df = df.append(scrape_page(topic[\"topic\"], topic[\"url\"]), ignore_index=True)\n",
      "  3%|▎         | 40/1452 [00:49<29:22,  1.25s/it]"
     ]
    },
    {
     "name": "stdout",
     "output_type": "stream",
     "text": [
      "Scraping Alcohol Effects on a Fetus...\n",
      "Found 10 sections for Alcohol Effects on a Fetus\n"
     ]
    },
    {
     "name": "stderr",
     "output_type": "stream",
     "text": [
      "C:\\Users\\Raj\\AppData\\Local\\Temp\\ipykernel_29048\\2168445501.py:6: FutureWarning: The frame.append method is deprecated and will be removed from pandas in a future version. Use pandas.concat instead.\n",
      "  df = df.append(scrape_page(topic[\"topic\"], topic[\"url\"]), ignore_index=True)\n",
      "  3%|▎         | 41/1452 [00:51<29:20,  1.25s/it]"
     ]
    },
    {
     "name": "stdout",
     "output_type": "stream",
     "text": [
      "Scraping Alcohol Poisoning...\n"
     ]
    },
    {
     "name": "stderr",
     "output_type": "stream",
     "text": [
      "C:\\Users\\Raj\\AppData\\Local\\Temp\\ipykernel_29048\\2168445501.py:6: FutureWarning: The frame.append method is deprecated and will be removed from pandas in a future version. Use pandas.concat instead.\n",
      "  df = df.append(scrape_page(topic[\"topic\"], topic[\"url\"]), ignore_index=True)\n",
      "  3%|▎         | 42/1452 [00:52<31:56,  1.36s/it]"
     ]
    },
    {
     "name": "stdout",
     "output_type": "stream",
     "text": [
      "Scraping ALD...\n",
      "Found 7 sections for ALD\n"
     ]
    },
    {
     "name": "stderr",
     "output_type": "stream",
     "text": [
      "C:\\Users\\Raj\\AppData\\Local\\Temp\\ipykernel_29048\\2168445501.py:6: FutureWarning: The frame.append method is deprecated and will be removed from pandas in a future version. Use pandas.concat instead.\n",
      "  df = df.append(scrape_page(topic[\"topic\"], topic[\"url\"]), ignore_index=True)\n",
      "  3%|▎         | 43/1452 [00:53<31:14,  1.33s/it]"
     ]
    },
    {
     "name": "stdout",
     "output_type": "stream",
     "text": [
      "Scraping Aldosteronism With Normal Blood Pressure...\n",
      "Found 5 sections for Aldosteronism With Normal Blood Pressure\n"
     ]
    },
    {
     "name": "stderr",
     "output_type": "stream",
     "text": [
      "C:\\Users\\Raj\\AppData\\Local\\Temp\\ipykernel_29048\\2168445501.py:6: FutureWarning: The frame.append method is deprecated and will be removed from pandas in a future version. Use pandas.concat instead.\n",
      "  df = df.append(scrape_page(topic[\"topic\"], topic[\"url\"]), ignore_index=True)\n",
      "  3%|▎         | 44/1452 [00:55<30:29,  1.30s/it]C:\\Users\\Raj\\AppData\\Local\\Temp\\ipykernel_29048\\2168445501.py:6: FutureWarning: The frame.append method is deprecated and will be removed from pandas in a future version. Use pandas.concat instead.\n",
      "  df = df.append(scrape_page(topic[\"topic\"], topic[\"url\"]), ignore_index=True)\n"
     ]
    },
    {
     "name": "stdout",
     "output_type": "stream",
     "text": [
      "Scraping Alexander Disease...\n",
      "Found 7 sections for Alexander Disease\n"
     ]
    },
    {
     "name": "stderr",
     "output_type": "stream",
     "text": [
      "  3%|▎         | 45/1452 [00:56<29:40,  1.27s/it]"
     ]
    },
    {
     "name": "stdout",
     "output_type": "stream",
     "text": [
      "Scraping Algodystrophy...\n",
      "Found 9 sections for Algodystrophy\n"
     ]
    },
    {
     "name": "stderr",
     "output_type": "stream",
     "text": [
      "C:\\Users\\Raj\\AppData\\Local\\Temp\\ipykernel_29048\\2168445501.py:6: FutureWarning: The frame.append method is deprecated and will be removed from pandas in a future version. Use pandas.concat instead.\n",
      "  df = df.append(scrape_page(topic[\"topic\"], topic[\"url\"]), ignore_index=True)\n",
      "  3%|▎         | 46/1452 [00:57<29:44,  1.27s/it]C:\\Users\\Raj\\AppData\\Local\\Temp\\ipykernel_29048\\2168445501.py:6: FutureWarning: The frame.append method is deprecated and will be removed from pandas in a future version. Use pandas.concat instead.\n",
      "  df = df.append(scrape_page(topic[\"topic\"], topic[\"url\"]), ignore_index=True)\n"
     ]
    },
    {
     "name": "stdout",
     "output_type": "stream",
     "text": [
      "Scraping Algoneurodystrophy...\n",
      "Found 9 sections for Algoneurodystrophy\n"
     ]
    },
    {
     "name": "stderr",
     "output_type": "stream",
     "text": [
      "  3%|▎         | 47/1452 [00:58<29:14,  1.25s/it]"
     ]
    },
    {
     "name": "stdout",
     "output_type": "stream",
     "text": [
      "Scraping Allergies to Insect Stings...\n",
      "Found 12 sections for Allergies to Insect Stings\n"
     ]
    },
    {
     "name": "stderr",
     "output_type": "stream",
     "text": [
      "C:\\Users\\Raj\\AppData\\Local\\Temp\\ipykernel_29048\\2168445501.py:6: FutureWarning: The frame.append method is deprecated and will be removed from pandas in a future version. Use pandas.concat instead.\n",
      "  df = df.append(scrape_page(topic[\"topic\"], topic[\"url\"]), ignore_index=True)\n",
      "  3%|▎         | 48/1452 [01:00<30:12,  1.29s/it]"
     ]
    },
    {
     "name": "stdout",
     "output_type": "stream",
     "text": [
      "Scraping Allergy Shots...\n",
      "Found 9 sections for Allergy Shots\n"
     ]
    },
    {
     "name": "stderr",
     "output_type": "stream",
     "text": [
      "C:\\Users\\Raj\\AppData\\Local\\Temp\\ipykernel_29048\\2168445501.py:6: FutureWarning: The frame.append method is deprecated and will be removed from pandas in a future version. Use pandas.concat instead.\n",
      "  df = df.append(scrape_page(topic[\"topic\"], topic[\"url\"]), ignore_index=True)\n",
      "  3%|▎         | 49/1452 [01:01<29:59,  1.28s/it]"
     ]
    },
    {
     "name": "stdout",
     "output_type": "stream",
     "text": [
      "Scraping Allergy to Natural Rubber (Latex)...\n",
      "Found 12 sections for Allergy to Natural Rubber (Latex)\n"
     ]
    },
    {
     "name": "stderr",
     "output_type": "stream",
     "text": [
      "C:\\Users\\Raj\\AppData\\Local\\Temp\\ipykernel_29048\\2168445501.py:6: FutureWarning: The frame.append method is deprecated and will be removed from pandas in a future version. Use pandas.concat instead.\n",
      "  df = df.append(scrape_page(topic[\"topic\"], topic[\"url\"]), ignore_index=True)\n",
      "  3%|▎         | 50/1452 [01:02<29:52,  1.28s/it]"
     ]
    },
    {
     "name": "stdout",
     "output_type": "stream",
     "text": [
      "Scraping Allergy Triggers Slideshow...\n"
     ]
    },
    {
     "name": "stderr",
     "output_type": "stream",
     "text": [
      "C:\\Users\\Raj\\AppData\\Local\\Temp\\ipykernel_29048\\2168445501.py:6: FutureWarning: The frame.append method is deprecated and will be removed from pandas in a future version. Use pandas.concat instead.\n",
      "  df = df.append(scrape_page(topic[\"topic\"], topic[\"url\"]), ignore_index=True)\n",
      "  4%|▎         | 51/1452 [01:04<30:17,  1.30s/it]"
     ]
    },
    {
     "name": "stdout",
     "output_type": "stream",
     "text": [
      "Scraping AloBar Holoprosencephaly...\n",
      "Found 7 sections for AloBar Holoprosencephaly\n"
     ]
    },
    {
     "name": "stderr",
     "output_type": "stream",
     "text": [
      "C:\\Users\\Raj\\AppData\\Local\\Temp\\ipykernel_29048\\2168445501.py:6: FutureWarning: The frame.append method is deprecated and will be removed from pandas in a future version. Use pandas.concat instead.\n",
      "  df = df.append(scrape_page(topic[\"topic\"], topic[\"url\"]), ignore_index=True)\n",
      "  4%|▎         | 52/1452 [01:05<29:49,  1.28s/it]"
     ]
    },
    {
     "name": "stdout",
     "output_type": "stream",
     "text": [
      "Scraping Alopecia Areata...\n",
      "Found 10 sections for Alopecia Areata\n"
     ]
    },
    {
     "name": "stderr",
     "output_type": "stream",
     "text": [
      "C:\\Users\\Raj\\AppData\\Local\\Temp\\ipykernel_29048\\2168445501.py:6: FutureWarning: The frame.append method is deprecated and will be removed from pandas in a future version. Use pandas.concat instead.\n",
      "  df = df.append(scrape_page(topic[\"topic\"], topic[\"url\"]), ignore_index=True)\n",
      "  4%|▎         | 53/1452 [01:06<29:27,  1.26s/it]C:\\Users\\Raj\\AppData\\Local\\Temp\\ipykernel_29048\\2168445501.py:6: FutureWarning: The frame.append method is deprecated and will be removed from pandas in a future version. Use pandas.concat instead.\n",
      "  df = df.append(scrape_page(topic[\"topic\"], topic[\"url\"]), ignore_index=True)\n"
     ]
    },
    {
     "name": "stdout",
     "output_type": "stream",
     "text": [
      "Scraping Alopecia Celsi...\n",
      "Found 10 sections for Alopecia Celsi\n"
     ]
    },
    {
     "name": "stderr",
     "output_type": "stream",
     "text": [
      "  4%|▎         | 54/1452 [01:07<28:50,  1.24s/it]C:\\Users\\Raj\\AppData\\Local\\Temp\\ipykernel_29048\\2168445501.py:6: FutureWarning: The frame.append method is deprecated and will be removed from pandas in a future version. Use pandas.concat instead.\n",
      "  df = df.append(scrape_page(topic[\"topic\"], topic[\"url\"]), ignore_index=True)\n"
     ]
    },
    {
     "name": "stdout",
     "output_type": "stream",
     "text": [
      "Scraping Alopecia Cicatrisata...\n",
      "Found 10 sections for Alopecia Cicatrisata\n"
     ]
    },
    {
     "name": "stderr",
     "output_type": "stream",
     "text": [
      "  4%|▍         | 55/1452 [01:08<28:30,  1.22s/it]C:\\Users\\Raj\\AppData\\Local\\Temp\\ipykernel_29048\\2168445501.py:6: FutureWarning: The frame.append method is deprecated and will be removed from pandas in a future version. Use pandas.concat instead.\n",
      "  df = df.append(scrape_page(topic[\"topic\"], topic[\"url\"]), ignore_index=True)\n"
     ]
    },
    {
     "name": "stdout",
     "output_type": "stream",
     "text": [
      "Scraping Alopecia Circumscripta...\n",
      "Found 10 sections for Alopecia Circumscripta\n"
     ]
    },
    {
     "name": "stderr",
     "output_type": "stream",
     "text": [
      "  4%|▍         | 56/1452 [01:10<28:12,  1.21s/it]"
     ]
    },
    {
     "name": "stdout",
     "output_type": "stream",
     "text": [
      "Scraping Alpha-1...\n",
      "Found 11 sections for Alpha-1\n"
     ]
    },
    {
     "name": "stderr",
     "output_type": "stream",
     "text": [
      "C:\\Users\\Raj\\AppData\\Local\\Temp\\ipykernel_29048\\2168445501.py:6: FutureWarning: The frame.append method is deprecated and will be removed from pandas in a future version. Use pandas.concat instead.\n",
      "  df = df.append(scrape_page(topic[\"topic\"], topic[\"url\"]), ignore_index=True)\n",
      "  4%|▍         | 57/1452 [01:11<28:20,  1.22s/it]"
     ]
    },
    {
     "name": "stdout",
     "output_type": "stream",
     "text": [
      "Scraping Alpha-1-Antitrypsin Deficiency...\n",
      "Found 11 sections for Alpha-1-Antitrypsin Deficiency\n"
     ]
    },
    {
     "name": "stderr",
     "output_type": "stream",
     "text": [
      "C:\\Users\\Raj\\AppData\\Local\\Temp\\ipykernel_29048\\2168445501.py:6: FutureWarning: The frame.append method is deprecated and will be removed from pandas in a future version. Use pandas.concat instead.\n",
      "  df = df.append(scrape_page(topic[\"topic\"], topic[\"url\"]), ignore_index=True)\n",
      "  4%|▍         | 58/1452 [01:12<28:21,  1.22s/it]"
     ]
    },
    {
     "name": "stdout",
     "output_type": "stream",
     "text": [
      "Scraping Altitude Headache...\n",
      "Found 5 sections for Altitude Headache\n"
     ]
    },
    {
     "name": "stderr",
     "output_type": "stream",
     "text": [
      "C:\\Users\\Raj\\AppData\\Local\\Temp\\ipykernel_29048\\2168445501.py:6: FutureWarning: The frame.append method is deprecated and will be removed from pandas in a future version. Use pandas.concat instead.\n",
      "  df = df.append(scrape_page(topic[\"topic\"], topic[\"url\"]), ignore_index=True)\n",
      "  4%|▍         | 59/1452 [01:13<28:40,  1.24s/it]"
     ]
    },
    {
     "name": "stdout",
     "output_type": "stream",
     "text": [
      "Scraping Anaplastic Large-cell Lymphoma...\n"
     ]
    },
    {
     "name": "stderr",
     "output_type": "stream",
     "text": [
      "C:\\Users\\Raj\\AppData\\Local\\Temp\\ipykernel_29048\\2168445501.py:6: FutureWarning: The frame.append method is deprecated and will be removed from pandas in a future version. Use pandas.concat instead.\n",
      "  df = df.append(scrape_page(topic[\"topic\"], topic[\"url\"]), ignore_index=True)\n",
      "  4%|▍         | 60/1452 [01:15<29:11,  1.26s/it]"
     ]
    },
    {
     "name": "stdout",
     "output_type": "stream",
     "text": [
      "Scraping Angina...\n",
      "Found 16 sections for Angina\n"
     ]
    },
    {
     "name": "stderr",
     "output_type": "stream",
     "text": [
      "C:\\Users\\Raj\\AppData\\Local\\Temp\\ipykernel_29048\\2168445501.py:6: FutureWarning: The frame.append method is deprecated and will be removed from pandas in a future version. Use pandas.concat instead.\n",
      "  df = df.append(scrape_page(topic[\"topic\"], topic[\"url\"]), ignore_index=True)\n",
      "  4%|▍         | 61/1452 [01:16<29:02,  1.25s/it]"
     ]
    },
    {
     "name": "stdout",
     "output_type": "stream",
     "text": [
      "Scraping Apert Syndrome...\n",
      "Found 10 sections for Apert Syndrome\n"
     ]
    },
    {
     "name": "stderr",
     "output_type": "stream",
     "text": [
      "C:\\Users\\Raj\\AppData\\Local\\Temp\\ipykernel_29048\\2168445501.py:6: FutureWarning: The frame.append method is deprecated and will be removed from pandas in a future version. Use pandas.concat instead.\n",
      "  df = df.append(scrape_page(topic[\"topic\"], topic[\"url\"]), ignore_index=True)\n",
      "  4%|▍         | 62/1452 [01:17<29:05,  1.26s/it]"
     ]
    },
    {
     "name": "stdout",
     "output_type": "stream",
     "text": [
      "Scraping APLS...\n",
      "Found 7 sections for APLS\n"
     ]
    },
    {
     "name": "stderr",
     "output_type": "stream",
     "text": [
      "C:\\Users\\Raj\\AppData\\Local\\Temp\\ipykernel_29048\\2168445501.py:6: FutureWarning: The frame.append method is deprecated and will be removed from pandas in a future version. Use pandas.concat instead.\n",
      "  df = df.append(scrape_page(topic[\"topic\"], topic[\"url\"]), ignore_index=True)\n",
      "  4%|▍         | 63/1452 [01:18<28:58,  1.25s/it]"
     ]
    },
    {
     "name": "stdout",
     "output_type": "stream",
     "text": [
      "Scraping Apnea, Infantile...\n",
      "Found 4 sections for Apnea, Infantile\n"
     ]
    },
    {
     "name": "stderr",
     "output_type": "stream",
     "text": [
      "C:\\Users\\Raj\\AppData\\Local\\Temp\\ipykernel_29048\\2168445501.py:6: FutureWarning: The frame.append method is deprecated and will be removed from pandas in a future version. Use pandas.concat instead.\n",
      "  df = df.append(scrape_page(topic[\"topic\"], topic[\"url\"]), ignore_index=True)\n",
      "  4%|▍         | 64/1452 [01:20<28:53,  1.25s/it]"
     ]
    },
    {
     "name": "stdout",
     "output_type": "stream",
     "text": [
      "Scraping Appalachian Type Amyloidosis...\n"
     ]
    },
    {
     "name": "stderr",
     "output_type": "stream",
     "text": [
      "C:\\Users\\Raj\\AppData\\Local\\Temp\\ipykernel_29048\\2168445501.py:6: FutureWarning: The frame.append method is deprecated and will be removed from pandas in a future version. Use pandas.concat instead.\n",
      "  df = df.append(scrape_page(topic[\"topic\"], topic[\"url\"]), ignore_index=True)\n",
      "  4%|▍         | 65/1452 [01:21<29:02,  1.26s/it]"
     ]
    },
    {
     "name": "stdout",
     "output_type": "stream",
     "text": [
      "Scraping Appendicitis...\n",
      "Found 10 sections for Appendicitis\n"
     ]
    },
    {
     "name": "stderr",
     "output_type": "stream",
     "text": [
      "C:\\Users\\Raj\\AppData\\Local\\Temp\\ipykernel_29048\\2168445501.py:6: FutureWarning: The frame.append method is deprecated and will be removed from pandas in a future version. Use pandas.concat instead.\n",
      "  df = df.append(scrape_page(topic[\"topic\"], topic[\"url\"]), ignore_index=True)\n",
      "  5%|▍         | 66/1452 [01:22<29:03,  1.26s/it]"
     ]
    },
    {
     "name": "stdout",
     "output_type": "stream",
     "text": [
      "Scraping Apraxia...\n",
      "Found 11 sections for Apraxia\n"
     ]
    },
    {
     "name": "stderr",
     "output_type": "stream",
     "text": [
      "C:\\Users\\Raj\\AppData\\Local\\Temp\\ipykernel_29048\\2168445501.py:6: FutureWarning: The frame.append method is deprecated and will be removed from pandas in a future version. Use pandas.concat instead.\n",
      "  df = df.append(scrape_page(topic[\"topic\"], topic[\"url\"]), ignore_index=True)\n",
      "  5%|▍         | 67/1452 [01:23<28:55,  1.25s/it]"
     ]
    },
    {
     "name": "stdout",
     "output_type": "stream",
     "text": [
      "Scraping APS...\n",
      "Found 7 sections for APS\n"
     ]
    },
    {
     "name": "stderr",
     "output_type": "stream",
     "text": [
      "C:\\Users\\Raj\\AppData\\Local\\Temp\\ipykernel_29048\\2168445501.py:6: FutureWarning: The frame.append method is deprecated and will be removed from pandas in a future version. Use pandas.concat instead.\n",
      "  df = df.append(scrape_page(topic[\"topic\"], topic[\"url\"]), ignore_index=True)\n",
      "  5%|▍         | 68/1452 [01:25<29:25,  1.28s/it]C:\\Users\\Raj\\AppData\\Local\\Temp\\ipykernel_29048\\2168445501.py:6: FutureWarning: The frame.append method is deprecated and will be removed from pandas in a future version. Use pandas.concat instead.\n",
      "  df = df.append(scrape_page(topic[\"topic\"], topic[\"url\"]), ignore_index=True)\n"
     ]
    },
    {
     "name": "stdout",
     "output_type": "stream",
     "text": [
      "Scraping Arachnitis...\n",
      "Found 5 sections for Arachnitis\n"
     ]
    },
    {
     "name": "stderr",
     "output_type": "stream",
     "text": [
      "  5%|▍         | 69/1452 [01:26<29:02,  1.26s/it]"
     ]
    },
    {
     "name": "stdout",
     "output_type": "stream",
     "text": [
      "Scraping Arachnodactyly...\n",
      "Found 12 sections for Arachnodactyly\n"
     ]
    },
    {
     "name": "stderr",
     "output_type": "stream",
     "text": [
      "C:\\Users\\Raj\\AppData\\Local\\Temp\\ipykernel_29048\\2168445501.py:6: FutureWarning: The frame.append method is deprecated and will be removed from pandas in a future version. Use pandas.concat instead.\n",
      "  df = df.append(scrape_page(topic[\"topic\"], topic[\"url\"]), ignore_index=True)\n",
      "  5%|▍         | 70/1452 [01:27<28:52,  1.25s/it]"
     ]
    },
    {
     "name": "stdout",
     "output_type": "stream",
     "text": [
      "Scraping Arachnoidal Fibroblastoma...\n",
      "Found 5 sections for Arachnoidal Fibroblastoma\n"
     ]
    },
    {
     "name": "stderr",
     "output_type": "stream",
     "text": [
      "C:\\Users\\Raj\\AppData\\Local\\Temp\\ipykernel_29048\\2168445501.py:6: FutureWarning: The frame.append method is deprecated and will be removed from pandas in a future version. Use pandas.concat instead.\n",
      "  df = df.append(scrape_page(topic[\"topic\"], topic[\"url\"]), ignore_index=True)\n",
      "  5%|▍         | 71/1452 [01:29<29:08,  1.27s/it]C:\\Users\\Raj\\AppData\\Local\\Temp\\ipykernel_29048\\2168445501.py:6: FutureWarning: The frame.append method is deprecated and will be removed from pandas in a future version. Use pandas.concat instead.\n",
      "  df = df.append(scrape_page(topic[\"topic\"], topic[\"url\"]), ignore_index=True)\n"
     ]
    },
    {
     "name": "stdout",
     "output_type": "stream",
     "text": [
      "Scraping Arachnoiditis...\n",
      "Found 5 sections for Arachnoiditis\n"
     ]
    },
    {
     "name": "stderr",
     "output_type": "stream",
     "text": [
      "  5%|▍         | 72/1452 [01:30<28:33,  1.24s/it]"
     ]
    },
    {
     "name": "stdout",
     "output_type": "stream",
     "text": [
      "Scraping Arbovirus A Chikungunya Type...\n",
      "Found 7 sections for Arbovirus A Chikungunya Type\n"
     ]
    },
    {
     "name": "stderr",
     "output_type": "stream",
     "text": [
      "C:\\Users\\Raj\\AppData\\Local\\Temp\\ipykernel_29048\\2168445501.py:6: FutureWarning: The frame.append method is deprecated and will be removed from pandas in a future version. Use pandas.concat instead.\n",
      "  df = df.append(scrape_page(topic[\"topic\"], topic[\"url\"]), ignore_index=True)\n",
      "  5%|▌         | 73/1452 [01:31<28:25,  1.24s/it]C:\\Users\\Raj\\AppData\\Local\\Temp\\ipykernel_29048\\2168445501.py:6: FutureWarning: The frame.append method is deprecated and will be removed from pandas in a future version. Use pandas.concat instead.\n",
      "  df = df.append(scrape_page(topic[\"topic\"], topic[\"url\"]), ignore_index=True)\n"
     ]
    },
    {
     "name": "stdout",
     "output_type": "stream",
     "text": [
      "Scraping ARDS...\n",
      "Found 10 sections for ARDS\n"
     ]
    },
    {
     "name": "stderr",
     "output_type": "stream",
     "text": [
      "  5%|▌         | 74/1452 [01:32<28:19,  1.23s/it]"
     ]
    },
    {
     "name": "stdout",
     "output_type": "stream",
     "text": [
      "Scraping Aregenerative Anemia...\n",
      "Found 13 sections for Aregenerative Anemia\n"
     ]
    },
    {
     "name": "stderr",
     "output_type": "stream",
     "text": [
      "C:\\Users\\Raj\\AppData\\Local\\Temp\\ipykernel_29048\\2168445501.py:6: FutureWarning: The frame.append method is deprecated and will be removed from pandas in a future version. Use pandas.concat instead.\n",
      "  df = df.append(scrape_page(topic[\"topic\"], topic[\"url\"]), ignore_index=True)\n",
      "  5%|▌         | 75/1452 [01:33<28:28,  1.24s/it]"
     ]
    },
    {
     "name": "stdout",
     "output_type": "stream",
     "text": [
      "Scraping ARG Deficiency...\n",
      "Found 7 sections for ARG Deficiency\n"
     ]
    },
    {
     "name": "stderr",
     "output_type": "stream",
     "text": [
      "C:\\Users\\Raj\\AppData\\Local\\Temp\\ipykernel_29048\\2168445501.py:6: FutureWarning: The frame.append method is deprecated and will be removed from pandas in a future version. Use pandas.concat instead.\n",
      "  df = df.append(scrape_page(topic[\"topic\"], topic[\"url\"]), ignore_index=True)\n",
      "  5%|▌         | 76/1452 [01:35<28:26,  1.24s/it]C:\\Users\\Raj\\AppData\\Local\\Temp\\ipykernel_29048\\2168445501.py:6: FutureWarning: The frame.append method is deprecated and will be removed from pandas in a future version. Use pandas.concat instead.\n",
      "  df = df.append(scrape_page(topic[\"topic\"], topic[\"url\"]), ignore_index=True)\n"
     ]
    },
    {
     "name": "stdout",
     "output_type": "stream",
     "text": [
      "Scraping Arginase Deficiency...\n",
      "Found 7 sections for Arginase Deficiency\n"
     ]
    },
    {
     "name": "stderr",
     "output_type": "stream",
     "text": [
      "  5%|▌         | 77/1452 [01:36<28:05,  1.23s/it]C:\\Users\\Raj\\AppData\\Local\\Temp\\ipykernel_29048\\2168445501.py:6: FutureWarning: The frame.append method is deprecated and will be removed from pandas in a future version. Use pandas.concat instead.\n",
      "  df = df.append(scrape_page(topic[\"topic\"], topic[\"url\"]), ignore_index=True)\n"
     ]
    },
    {
     "name": "stdout",
     "output_type": "stream",
     "text": [
      "Scraping Argininemia...\n",
      "Found 7 sections for Argininemia\n"
     ]
    },
    {
     "name": "stderr",
     "output_type": "stream",
     "text": [
      "  5%|▌         | 78/1452 [01:37<27:48,  1.21s/it]C:\\Users\\Raj\\AppData\\Local\\Temp\\ipykernel_29048\\2168445501.py:6: FutureWarning: The frame.append method is deprecated and will be removed from pandas in a future version. Use pandas.concat instead.\n",
      "  df = df.append(scrape_page(topic[\"topic\"], topic[\"url\"]), ignore_index=True)\n"
     ]
    },
    {
     "name": "stdout",
     "output_type": "stream",
     "text": [
      "Scraping Arhinencephaly...\n",
      "Found 7 sections for Arhinencephaly\n"
     ]
    },
    {
     "name": "stderr",
     "output_type": "stream",
     "text": [
      "  5%|▌         | 79/1452 [01:38<27:41,  1.21s/it]"
     ]
    },
    {
     "name": "stdout",
     "output_type": "stream",
     "text": [
      "Scraping Arnold-Chiari Malformation...\n",
      "Found 11 sections for Arnold-Chiari Malformation\n"
     ]
    },
    {
     "name": "stderr",
     "output_type": "stream",
     "text": [
      "C:\\Users\\Raj\\AppData\\Local\\Temp\\ipykernel_29048\\2168445501.py:6: FutureWarning: The frame.append method is deprecated and will be removed from pandas in a future version. Use pandas.concat instead.\n",
      "  df = df.append(scrape_page(topic[\"topic\"], topic[\"url\"]), ignore_index=True)\n",
      "  6%|▌         | 80/1452 [01:40<28:14,  1.24s/it]"
     ]
    },
    {
     "name": "stdout",
     "output_type": "stream",
     "text": [
      "Scraping Aromatherapy (Essential Oils Therapy)...\n",
      "Found 5 sections for Aromatherapy (Essential Oils Therapy)\n"
     ]
    },
    {
     "name": "stderr",
     "output_type": "stream",
     "text": [
      "C:\\Users\\Raj\\AppData\\Local\\Temp\\ipykernel_29048\\2168445501.py:6: FutureWarning: The frame.append method is deprecated and will be removed from pandas in a future version. Use pandas.concat instead.\n",
      "  df = df.append(scrape_page(topic[\"topic\"], topic[\"url\"]), ignore_index=True)\n",
      "  6%|▌         | 81/1452 [01:41<28:11,  1.23s/it]"
     ]
    },
    {
     "name": "stdout",
     "output_type": "stream",
     "text": [
      "Scraping Arrhythmia...\n",
      "Found 15 sections for Arrhythmia\n"
     ]
    },
    {
     "name": "stderr",
     "output_type": "stream",
     "text": [
      "C:\\Users\\Raj\\AppData\\Local\\Temp\\ipykernel_29048\\2168445501.py:6: FutureWarning: The frame.append method is deprecated and will be removed from pandas in a future version. Use pandas.concat instead.\n",
      "  df = df.append(scrape_page(topic[\"topic\"], topic[\"url\"]), ignore_index=True)\n",
      "  6%|▌         | 82/1452 [01:42<28:27,  1.25s/it]"
     ]
    },
    {
     "name": "stdout",
     "output_type": "stream",
     "text": [
      "Scraping Arteriovenous Malformation...\n",
      "Found 4 sections for Arteriovenous Malformation\n"
     ]
    },
    {
     "name": "stderr",
     "output_type": "stream",
     "text": [
      "C:\\Users\\Raj\\AppData\\Local\\Temp\\ipykernel_29048\\2168445501.py:6: FutureWarning: The frame.append method is deprecated and will be removed from pandas in a future version. Use pandas.concat instead.\n",
      "  df = df.append(scrape_page(topic[\"topic\"], topic[\"url\"]), ignore_index=True)\n",
      "  6%|▌         | 83/1452 [01:44<32:18,  1.42s/it]"
     ]
    },
    {
     "name": "stdout",
     "output_type": "stream",
     "text": [
      "Scraping Arteritis, Takayasu...\n",
      "Found 12 sections for Arteritis, Takayasu\n"
     ]
    },
    {
     "name": "stderr",
     "output_type": "stream",
     "text": [
      "C:\\Users\\Raj\\AppData\\Local\\Temp\\ipykernel_29048\\2168445501.py:6: FutureWarning: The frame.append method is deprecated and will be removed from pandas in a future version. Use pandas.concat instead.\n",
      "  df = df.append(scrape_page(topic[\"topic\"], topic[\"url\"]), ignore_index=True)\n",
      "  6%|▌         | 84/1452 [01:45<31:13,  1.37s/it]"
     ]
    },
    {
     "name": "stdout",
     "output_type": "stream",
     "text": [
      "Scraping Arthritic Rheumatoid Disease...\n",
      "Found 13 sections for Arthritic Rheumatoid Disease\n"
     ]
    },
    {
     "name": "stderr",
     "output_type": "stream",
     "text": [
      "C:\\Users\\Raj\\AppData\\Local\\Temp\\ipykernel_29048\\2168445501.py:6: FutureWarning: The frame.append method is deprecated and will be removed from pandas in a future version. Use pandas.concat instead.\n",
      "  df = df.append(scrape_page(topic[\"topic\"], topic[\"url\"]), ignore_index=True)\n",
      "  6%|▌         | 85/1452 [01:46<30:23,  1.33s/it]"
     ]
    },
    {
     "name": "stdout",
     "output_type": "stream",
     "text": [
      "Scraping Arthritis Urethritica...\n",
      "Found 7 sections for Arthritis Urethritica\n"
     ]
    },
    {
     "name": "stderr",
     "output_type": "stream",
     "text": [
      "C:\\Users\\Raj\\AppData\\Local\\Temp\\ipykernel_29048\\2168445501.py:6: FutureWarning: The frame.append method is deprecated and will be removed from pandas in a future version. Use pandas.concat instead.\n",
      "  df = df.append(scrape_page(topic[\"topic\"], topic[\"url\"]), ignore_index=True)\n",
      "  6%|▌         | 86/1452 [01:48<30:01,  1.32s/it]"
     ]
    },
    {
     "name": "stdout",
     "output_type": "stream",
     "text": [
      "Scraping Arthritis, Infectious...\n",
      "Found 8 sections for Arthritis, Infectious\n"
     ]
    },
    {
     "name": "stderr",
     "output_type": "stream",
     "text": [
      "C:\\Users\\Raj\\AppData\\Local\\Temp\\ipykernel_29048\\2168445501.py:6: FutureWarning: The frame.append method is deprecated and will be removed from pandas in a future version. Use pandas.concat instead.\n",
      "  df = df.append(scrape_page(topic[\"topic\"], topic[\"url\"]), ignore_index=True)\n",
      "  6%|▌         | 87/1452 [01:49<29:32,  1.30s/it]"
     ]
    },
    {
     "name": "stdout",
     "output_type": "stream",
     "text": [
      "Scraping Arthritis, Juvenile Rheumatoid...\n",
      "Found 16 sections for Arthritis, Juvenile Rheumatoid\n"
     ]
    },
    {
     "name": "stderr",
     "output_type": "stream",
     "text": [
      "C:\\Users\\Raj\\AppData\\Local\\Temp\\ipykernel_29048\\2168445501.py:6: FutureWarning: The frame.append method is deprecated and will be removed from pandas in a future version. Use pandas.concat instead.\n",
      "  df = df.append(scrape_page(topic[\"topic\"], topic[\"url\"]), ignore_index=True)\n",
      "  6%|▌         | 88/1452 [01:50<29:05,  1.28s/it]"
     ]
    },
    {
     "name": "stdout",
     "output_type": "stream",
     "text": [
      "Scraping Arthritis, Psoriatic...\n",
      "Found 12 sections for Arthritis, Psoriatic\n"
     ]
    },
    {
     "name": "stderr",
     "output_type": "stream",
     "text": [
      "C:\\Users\\Raj\\AppData\\Local\\Temp\\ipykernel_29048\\2168445501.py:6: FutureWarning: The frame.append method is deprecated and will be removed from pandas in a future version. Use pandas.concat instead.\n",
      "  df = df.append(scrape_page(topic[\"topic\"], topic[\"url\"]), ignore_index=True)\n",
      "  6%|▌         | 89/1452 [01:51<28:47,  1.27s/it]"
     ]
    },
    {
     "name": "stdout",
     "output_type": "stream",
     "text": [
      "Scraping Autogenic Training...\n",
      "Found 9 sections for Autogenic Training\n"
     ]
    },
    {
     "name": "stderr",
     "output_type": "stream",
     "text": [
      "C:\\Users\\Raj\\AppData\\Local\\Temp\\ipykernel_29048\\2168445501.py:6: FutureWarning: The frame.append method is deprecated and will be removed from pandas in a future version. Use pandas.concat instead.\n",
      "  df = df.append(scrape_page(topic[\"topic\"], topic[\"url\"]), ignore_index=True)\n",
      "  6%|▌         | 90/1452 [01:53<29:13,  1.29s/it]"
     ]
    },
    {
     "name": "stdout",
     "output_type": "stream",
     "text": [
      "Scraping Autoimmune Thyroiditis...\n",
      "Found 6 sections for Autoimmune Thyroiditis\n"
     ]
    },
    {
     "name": "stderr",
     "output_type": "stream",
     "text": [
      "C:\\Users\\Raj\\AppData\\Local\\Temp\\ipykernel_29048\\2168445501.py:6: FutureWarning: The frame.append method is deprecated and will be removed from pandas in a future version. Use pandas.concat instead.\n",
      "  df = df.append(scrape_page(topic[\"topic\"], topic[\"url\"]), ignore_index=True)\n",
      "  6%|▋         | 91/1452 [01:54<28:54,  1.27s/it]"
     ]
    },
    {
     "name": "stdout",
     "output_type": "stream",
     "text": [
      "Scraping Autosomal Dominant Polycystic Kidney Disease...\n",
      "Found 11 sections for Autosomal Dominant Polycystic Kidney Disease\n"
     ]
    },
    {
     "name": "stderr",
     "output_type": "stream",
     "text": [
      "C:\\Users\\Raj\\AppData\\Local\\Temp\\ipykernel_29048\\2168445501.py:6: FutureWarning: The frame.append method is deprecated and will be removed from pandas in a future version. Use pandas.concat instead.\n",
      "  df = df.append(scrape_page(topic[\"topic\"], topic[\"url\"]), ignore_index=True)\n",
      "  6%|▋         | 92/1452 [01:56<33:26,  1.48s/it]"
     ]
    },
    {
     "name": "stdout",
     "output_type": "stream",
     "text": [
      "Scraping Avascular Necrosis of Bone...\n",
      "Found 10 sections for Avascular Necrosis of Bone\n"
     ]
    },
    {
     "name": "stderr",
     "output_type": "stream",
     "text": [
      "C:\\Users\\Raj\\AppData\\Local\\Temp\\ipykernel_29048\\2168445501.py:6: FutureWarning: The frame.append method is deprecated and will be removed from pandas in a future version. Use pandas.concat instead.\n",
      "  df = df.append(scrape_page(topic[\"topic\"], topic[\"url\"]), ignore_index=True)\n",
      "  6%|▋         | 93/1452 [01:57<32:06,  1.42s/it]"
     ]
    },
    {
     "name": "stdout",
     "output_type": "stream",
     "text": [
      "Scraping Avian Influenza (Bird Flu)...\n",
      "Found 9 sections for Avian Influenza (Bird Flu)\n"
     ]
    },
    {
     "name": "stderr",
     "output_type": "stream",
     "text": [
      "C:\\Users\\Raj\\AppData\\Local\\Temp\\ipykernel_29048\\2168445501.py:6: FutureWarning: The frame.append method is deprecated and will be removed from pandas in a future version. Use pandas.concat instead.\n",
      "  df = df.append(scrape_page(topic[\"topic\"], topic[\"url\"]), ignore_index=True)\n",
      "  6%|▋         | 94/1452 [01:58<30:57,  1.37s/it]C:\\Users\\Raj\\AppData\\Local\\Temp\\ipykernel_29048\\2168445501.py:6: FutureWarning: The frame.append method is deprecated and will be removed from pandas in a future version. Use pandas.concat instead.\n",
      "  df = df.append(scrape_page(topic[\"topic\"], topic[\"url\"]), ignore_index=True)\n"
     ]
    },
    {
     "name": "stdout",
     "output_type": "stream",
     "text": [
      "Scraping AVM...\n",
      "Found 4 sections for AVM\n"
     ]
    },
    {
     "name": "stderr",
     "output_type": "stream",
     "text": [
      "  7%|▋         | 95/1452 [02:00<29:54,  1.32s/it]"
     ]
    },
    {
     "name": "stdout",
     "output_type": "stream",
     "text": [
      "Scraping Avoiding Mercury in Fish...\n",
      "Found 12 sections for Avoiding Mercury in Fish\n"
     ]
    },
    {
     "name": "stderr",
     "output_type": "stream",
     "text": [
      "C:\\Users\\Raj\\AppData\\Local\\Temp\\ipykernel_29048\\2168445501.py:6: FutureWarning: The frame.append method is deprecated and will be removed from pandas in a future version. Use pandas.concat instead.\n",
      "  df = df.append(scrape_page(topic[\"topic\"], topic[\"url\"]), ignore_index=True)\n",
      "  7%|▋         | 96/1452 [02:01<29:33,  1.31s/it]"
     ]
    },
    {
     "name": "stdout",
     "output_type": "stream",
     "text": [
      "Scraping Axonal Neuropathy, Giant...\n"
     ]
    },
    {
     "name": "stderr",
     "output_type": "stream",
     "text": [
      "C:\\Users\\Raj\\AppData\\Local\\Temp\\ipykernel_29048\\2168445501.py:6: FutureWarning: The frame.append method is deprecated and will be removed from pandas in a future version. Use pandas.concat instead.\n",
      "  df = df.append(scrape_page(topic[\"topic\"], topic[\"url\"]), ignore_index=True)\n",
      "  7%|▋         | 97/1452 [02:02<30:07,  1.33s/it]C:\\Users\\Raj\\AppData\\Local\\Temp\\ipykernel_29048\\2168445501.py:6: FutureWarning: The frame.append method is deprecated and will be removed from pandas in a future version. Use pandas.concat instead.\n",
      "  df = df.append(scrape_page(topic[\"topic\"], topic[\"url\"]), ignore_index=True)\n"
     ]
    },
    {
     "name": "stdout",
     "output_type": "stream",
     "text": [
      "Scraping Ayurveda...\n",
      "Found 9 sections for Ayurveda\n"
     ]
    },
    {
     "name": "stderr",
     "output_type": "stream",
     "text": [
      "  7%|▋         | 98/1452 [02:04<29:23,  1.30s/it]"
     ]
    },
    {
     "name": "stdout",
     "output_type": "stream",
     "text": [
      "Scraping Babesiosis...\n",
      "Found 5 sections for Babesiosis\n"
     ]
    },
    {
     "name": "stderr",
     "output_type": "stream",
     "text": [
      "C:\\Users\\Raj\\AppData\\Local\\Temp\\ipykernel_29048\\2168445501.py:6: FutureWarning: The frame.append method is deprecated and will be removed from pandas in a future version. Use pandas.concat instead.\n",
      "  df = df.append(scrape_page(topic[\"topic\"], topic[\"url\"]), ignore_index=True)\n",
      "  7%|▋         | 99/1452 [02:05<32:44,  1.45s/it]"
     ]
    },
    {
     "name": "stdout",
     "output_type": "stream",
     "text": [
      "Scraping Baby Hygiene...\n",
      "Found 6 sections for Baby Hygiene\n"
     ]
    },
    {
     "name": "stderr",
     "output_type": "stream",
     "text": [
      "C:\\Users\\Raj\\AppData\\Local\\Temp\\ipykernel_29048\\2168445501.py:6: FutureWarning: The frame.append method is deprecated and will be removed from pandas in a future version. Use pandas.concat instead.\n",
      "  df = df.append(scrape_page(topic[\"topic\"], topic[\"url\"]), ignore_index=True)\n",
      "  7%|▋         | 100/1452 [02:07<31:22,  1.39s/it]"
     ]
    },
    {
     "name": "stdout",
     "output_type": "stream",
     "text": [
      "Scraping Baby Safety...\n",
      "Found 16 sections for Baby Safety\n"
     ]
    },
    {
     "name": "stderr",
     "output_type": "stream",
     "text": [
      "C:\\Users\\Raj\\AppData\\Local\\Temp\\ipykernel_29048\\2168445501.py:6: FutureWarning: The frame.append method is deprecated and will be removed from pandas in a future version. Use pandas.concat instead.\n",
      "  df = df.append(scrape_page(topic[\"topic\"], topic[\"url\"]), ignore_index=True)\n",
      "  7%|▋         | 101/1452 [02:08<30:38,  1.36s/it]C:\\Users\\Raj\\AppData\\Local\\Temp\\ipykernel_29048\\2168445501.py:6: FutureWarning: The frame.append method is deprecated and will be removed from pandas in a future version. Use pandas.concat instead.\n",
      "  df = df.append(scrape_page(topic[\"topic\"], topic[\"url\"]), ignore_index=True)\n"
     ]
    },
    {
     "name": "stdout",
     "output_type": "stream",
     "text": [
      "Scraping Bacterial Arthritis...\n",
      "Found 8 sections for Bacterial Arthritis\n"
     ]
    },
    {
     "name": "stderr",
     "output_type": "stream",
     "text": [
      "  7%|▋         | 102/1452 [02:09<29:37,  1.32s/it]"
     ]
    },
    {
     "name": "stdout",
     "output_type": "stream",
     "text": [
      "Scraping Bacterial Meningitis...\n",
      "Found 13 sections for Bacterial Meningitis\n"
     ]
    },
    {
     "name": "stderr",
     "output_type": "stream",
     "text": [
      "C:\\Users\\Raj\\AppData\\Local\\Temp\\ipykernel_29048\\2168445501.py:6: FutureWarning: The frame.append method is deprecated and will be removed from pandas in a future version. Use pandas.concat instead.\n",
      "  df = df.append(scrape_page(topic[\"topic\"], topic[\"url\"]), ignore_index=True)\n",
      "  7%|▋         | 103/1452 [02:10<29:04,  1.29s/it]"
     ]
    },
    {
     "name": "stdout",
     "output_type": "stream",
     "text": [
      "Scraping Bacterial Meningococcal Meningitis...\n",
      "Found 9 sections for Bacterial Meningococcal Meningitis\n"
     ]
    },
    {
     "name": "stderr",
     "output_type": "stream",
     "text": [
      "C:\\Users\\Raj\\AppData\\Local\\Temp\\ipykernel_29048\\2168445501.py:6: FutureWarning: The frame.append method is deprecated and will be removed from pandas in a future version. Use pandas.concat instead.\n",
      "  df = df.append(scrape_page(topic[\"topic\"], topic[\"url\"]), ignore_index=True)\n",
      "  7%|▋         | 104/1452 [02:12<28:41,  1.28s/it]"
     ]
    },
    {
     "name": "stdout",
     "output_type": "stream",
     "text": [
      "Scraping Bacterial Vaginosis...\n",
      "Found 9 sections for Bacterial Vaginosis\n"
     ]
    },
    {
     "name": "stderr",
     "output_type": "stream",
     "text": [
      "C:\\Users\\Raj\\AppData\\Local\\Temp\\ipykernel_29048\\2168445501.py:6: FutureWarning: The frame.append method is deprecated and will be removed from pandas in a future version. Use pandas.concat instead.\n",
      "  df = df.append(scrape_page(topic[\"topic\"], topic[\"url\"]), ignore_index=True)\n",
      "  7%|▋         | 105/1452 [02:13<28:35,  1.27s/it]"
     ]
    },
    {
     "name": "stdout",
     "output_type": "stream",
     "text": [
      "Scraping Bad or Changed Breath...\n",
      "Found 8 sections for Bad or Changed Breath\n"
     ]
    },
    {
     "name": "stderr",
     "output_type": "stream",
     "text": [
      "C:\\Users\\Raj\\AppData\\Local\\Temp\\ipykernel_29048\\2168445501.py:6: FutureWarning: The frame.append method is deprecated and will be removed from pandas in a future version. Use pandas.concat instead.\n",
      "  df = df.append(scrape_page(topic[\"topic\"], topic[\"url\"]), ignore_index=True)\n",
      "  7%|▋         | 106/1452 [02:14<28:39,  1.28s/it]"
     ]
    },
    {
     "name": "stdout",
     "output_type": "stream",
     "text": [
      "Scraping Baldness...\n",
      "Found 3 sections for Baldness\n"
     ]
    },
    {
     "name": "stderr",
     "output_type": "stream",
     "text": [
      "C:\\Users\\Raj\\AppData\\Local\\Temp\\ipykernel_29048\\2168445501.py:6: FutureWarning: The frame.append method is deprecated and will be removed from pandas in a future version. Use pandas.concat instead.\n",
      "  df = df.append(scrape_page(topic[\"topic\"], topic[\"url\"]), ignore_index=True)\n",
      "  7%|▋         | 107/1452 [02:15<28:22,  1.27s/it]"
     ]
    },
    {
     "name": "stdout",
     "output_type": "stream",
     "text": [
      "Scraping Balo Disease...\n",
      "Found 6 sections for Balo Disease\n"
     ]
    },
    {
     "name": "stderr",
     "output_type": "stream",
     "text": [
      "C:\\Users\\Raj\\AppData\\Local\\Temp\\ipykernel_29048\\2168445501.py:6: FutureWarning: The frame.append method is deprecated and will be removed from pandas in a future version. Use pandas.concat instead.\n",
      "  df = df.append(scrape_page(topic[\"topic\"], topic[\"url\"]), ignore_index=True)\n",
      "  7%|▋         | 108/1452 [02:17<28:09,  1.26s/it]"
     ]
    },
    {
     "name": "stdout",
     "output_type": "stream",
     "text": [
      "Scraping Barrett Esophagus...\n",
      "Found 8 sections for Barrett Esophagus\n"
     ]
    },
    {
     "name": "stderr",
     "output_type": "stream",
     "text": [
      "C:\\Users\\Raj\\AppData\\Local\\Temp\\ipykernel_29048\\2168445501.py:6: FutureWarning: The frame.append method is deprecated and will be removed from pandas in a future version. Use pandas.concat instead.\n",
      "  df = df.append(scrape_page(topic[\"topic\"], topic[\"url\"]), ignore_index=True)\n",
      "  8%|▊         | 109/1452 [02:18<27:54,  1.25s/it]"
     ]
    },
    {
     "name": "stdout",
     "output_type": "stream",
     "text": [
      "Scraping Bartholin Gland Cyst...\n",
      "Found 6 sections for Bartholin Gland Cyst\n"
     ]
    },
    {
     "name": "stderr",
     "output_type": "stream",
     "text": [
      "C:\\Users\\Raj\\AppData\\Local\\Temp\\ipykernel_29048\\2168445501.py:6: FutureWarning: The frame.append method is deprecated and will be removed from pandas in a future version. Use pandas.concat instead.\n",
      "  df = df.append(scrape_page(topic[\"topic\"], topic[\"url\"]), ignore_index=True)\n",
      "  8%|▊         | 110/1452 [02:19<27:52,  1.25s/it]C:\\Users\\Raj\\AppData\\Local\\Temp\\ipykernel_29048\\2168445501.py:6: FutureWarning: The frame.append method is deprecated and will be removed from pandas in a future version. Use pandas.concat instead.\n",
      "  df = df.append(scrape_page(topic[\"topic\"], topic[\"url\"]), ignore_index=True)\n"
     ]
    },
    {
     "name": "stdout",
     "output_type": "stream",
     "text": [
      "Scraping Bartter's Syndrome...\n",
      "Found 5 sections for Bartter's Syndrome\n"
     ]
    },
    {
     "name": "stderr",
     "output_type": "stream",
     "text": [
      "  8%|▊         | 111/1452 [02:20<27:32,  1.23s/it]"
     ]
    },
    {
     "name": "stdout",
     "output_type": "stream",
     "text": [
      "Scraping Basal Cell Carcinoma...\n"
     ]
    },
    {
     "name": "stderr",
     "output_type": "stream",
     "text": [
      "C:\\Users\\Raj\\AppData\\Local\\Temp\\ipykernel_29048\\2168445501.py:6: FutureWarning: The frame.append method is deprecated and will be removed from pandas in a future version. Use pandas.concat instead.\n",
      "  df = df.append(scrape_page(topic[\"topic\"], topic[\"url\"]), ignore_index=True)\n",
      "  8%|▊         | 112/1452 [02:22<28:17,  1.27s/it]"
     ]
    },
    {
     "name": "stdout",
     "output_type": "stream",
     "text": [
      "Scraping Basic Dental Care...\n",
      "Found 8 sections for Basic Dental Care\n"
     ]
    },
    {
     "name": "stderr",
     "output_type": "stream",
     "text": [
      "C:\\Users\\Raj\\AppData\\Local\\Temp\\ipykernel_29048\\2168445501.py:6: FutureWarning: The frame.append method is deprecated and will be removed from pandas in a future version. Use pandas.concat instead.\n",
      "  df = df.append(scrape_page(topic[\"topic\"], topic[\"url\"]), ignore_index=True)\n",
      "  8%|▊         | 113/1452 [02:23<28:47,  1.29s/it]"
     ]
    },
    {
     "name": "stdout",
     "output_type": "stream",
     "text": [
      "Scraping Basic Metabolic Panel...\n",
      "Found 6 sections for Basic Metabolic Panel\n"
     ]
    },
    {
     "name": "stderr",
     "output_type": "stream",
     "text": [
      "C:\\Users\\Raj\\AppData\\Local\\Temp\\ipykernel_29048\\2168445501.py:6: FutureWarning: The frame.append method is deprecated and will be removed from pandas in a future version. Use pandas.concat instead.\n",
      "  df = df.append(scrape_page(topic[\"topic\"], topic[\"url\"]), ignore_index=True)\n",
      "  8%|▊         | 114/1452 [02:24<28:41,  1.29s/it]"
     ]
    },
    {
     "name": "stdout",
     "output_type": "stream",
     "text": [
      "Scraping Batten Disease...\n",
      "Found 8 sections for Batten Disease\n"
     ]
    },
    {
     "name": "stderr",
     "output_type": "stream",
     "text": [
      "C:\\Users\\Raj\\AppData\\Local\\Temp\\ipykernel_29048\\2168445501.py:6: FutureWarning: The frame.append method is deprecated and will be removed from pandas in a future version. Use pandas.concat instead.\n",
      "  df = df.append(scrape_page(topic[\"topic\"], topic[\"url\"]), ignore_index=True)\n",
      "  8%|▊         | 115/1452 [02:25<28:18,  1.27s/it]"
     ]
    },
    {
     "name": "stdout",
     "output_type": "stream",
     "text": [
      "Scraping B-Cell Acute Lymphoblastic Leukemia for Adults...\n"
     ]
    },
    {
     "name": "stderr",
     "output_type": "stream",
     "text": [
      "C:\\Users\\Raj\\AppData\\Local\\Temp\\ipykernel_29048\\2168445501.py:6: FutureWarning: The frame.append method is deprecated and will be removed from pandas in a future version. Use pandas.concat instead.\n",
      "  df = df.append(scrape_page(topic[\"topic\"], topic[\"url\"]), ignore_index=True)\n",
      "  8%|▊         | 116/1452 [02:27<28:26,  1.28s/it]"
     ]
    },
    {
     "name": "stdout",
     "output_type": "stream",
     "text": [
      "Scraping BD...\n",
      "Found 9 sections for BD\n"
     ]
    },
    {
     "name": "stderr",
     "output_type": "stream",
     "text": [
      "C:\\Users\\Raj\\AppData\\Local\\Temp\\ipykernel_29048\\2168445501.py:6: FutureWarning: The frame.append method is deprecated and will be removed from pandas in a future version. Use pandas.concat instead.\n",
      "  df = df.append(scrape_page(topic[\"topic\"], topic[\"url\"]), ignore_index=True)\n",
      "  8%|▊         | 117/1452 [02:29<32:42,  1.47s/it]"
     ]
    },
    {
     "name": "stdout",
     "output_type": "stream",
     "text": [
      "Scraping Bilateral Acoustic Neurofibromatosis...\n",
      "Found 9 sections for Bilateral Acoustic Neurofibromatosis\n"
     ]
    },
    {
     "name": "stderr",
     "output_type": "stream",
     "text": [
      "C:\\Users\\Raj\\AppData\\Local\\Temp\\ipykernel_29048\\2168445501.py:6: FutureWarning: The frame.append method is deprecated and will be removed from pandas in a future version. Use pandas.concat instead.\n",
      "  df = df.append(scrape_page(topic[\"topic\"], topic[\"url\"]), ignore_index=True)\n",
      "  8%|▊         | 118/1452 [02:30<31:18,  1.41s/it]"
     ]
    },
    {
     "name": "stdout",
     "output_type": "stream",
     "text": [
      "Scraping Bilateral Acoustic Neuroma...\n",
      "Found 7 sections for Bilateral Acoustic Neuroma\n"
     ]
    },
    {
     "name": "stderr",
     "output_type": "stream",
     "text": [
      "C:\\Users\\Raj\\AppData\\Local\\Temp\\ipykernel_29048\\2168445501.py:6: FutureWarning: The frame.append method is deprecated and will be removed from pandas in a future version. Use pandas.concat instead.\n",
      "  df = df.append(scrape_page(topic[\"topic\"], topic[\"url\"]), ignore_index=True)\n",
      "  8%|▊         | 119/1452 [02:31<30:09,  1.36s/it]"
     ]
    },
    {
     "name": "stdout",
     "output_type": "stream",
     "text": [
      "Scraping Bilateral Polycystic Ovarian Syndrome...\n",
      "Found 14 sections for Bilateral Polycystic Ovarian Syndrome\n"
     ]
    },
    {
     "name": "stderr",
     "output_type": "stream",
     "text": [
      "C:\\Users\\Raj\\AppData\\Local\\Temp\\ipykernel_29048\\2168445501.py:6: FutureWarning: The frame.append method is deprecated and will be removed from pandas in a future version. Use pandas.concat instead.\n",
      "  df = df.append(scrape_page(topic[\"topic\"], topic[\"url\"]), ignore_index=True)\n",
      "  8%|▊         | 120/1452 [02:33<30:31,  1.37s/it]"
     ]
    },
    {
     "name": "stdout",
     "output_type": "stream",
     "text": [
      "Scraping Biliary Atresia, Extrahepatic...\n",
      "Found 7 sections for Biliary Atresia, Extrahepatic\n"
     ]
    },
    {
     "name": "stderr",
     "output_type": "stream",
     "text": [
      "C:\\Users\\Raj\\AppData\\Local\\Temp\\ipykernel_29048\\2168445501.py:6: FutureWarning: The frame.append method is deprecated and will be removed from pandas in a future version. Use pandas.concat instead.\n",
      "  df = df.append(scrape_page(topic[\"topic\"], topic[\"url\"]), ignore_index=True)\n",
      "  8%|▊         | 121/1452 [02:34<29:41,  1.34s/it]"
     ]
    },
    {
     "name": "stdout",
     "output_type": "stream",
     "text": [
      "Scraping Biliary Cirrhosis, Primary...\n",
      "Found 5 sections for Biliary Cirrhosis, Primary\n"
     ]
    },
    {
     "name": "stderr",
     "output_type": "stream",
     "text": [
      "C:\\Users\\Raj\\AppData\\Local\\Temp\\ipykernel_29048\\2168445501.py:6: FutureWarning: The frame.append method is deprecated and will be removed from pandas in a future version. Use pandas.concat instead.\n",
      "  df = df.append(scrape_page(topic[\"topic\"], topic[\"url\"]), ignore_index=True)\n",
      "  8%|▊         | 122/1452 [02:35<29:04,  1.31s/it]"
     ]
    },
    {
     "name": "stdout",
     "output_type": "stream",
     "text": [
      "Scraping Binge Drinking...\n"
     ]
    },
    {
     "name": "stderr",
     "output_type": "stream",
     "text": [
      "C:\\Users\\Raj\\AppData\\Local\\Temp\\ipykernel_29048\\2168445501.py:6: FutureWarning: The frame.append method is deprecated and will be removed from pandas in a future version. Use pandas.concat instead.\n",
      "  df = df.append(scrape_page(topic[\"topic\"], topic[\"url\"]), ignore_index=True)\n",
      "  8%|▊         | 123/1452 [02:37<30:59,  1.40s/it]"
     ]
    },
    {
     "name": "stdout",
     "output_type": "stream",
     "text": [
      "Scraping Binge-Purge Disorder...\n",
      "Found 12 sections for Binge-Purge Disorder\n"
     ]
    },
    {
     "name": "stderr",
     "output_type": "stream",
     "text": [
      "C:\\Users\\Raj\\AppData\\Local\\Temp\\ipykernel_29048\\2168445501.py:6: FutureWarning: The frame.append method is deprecated and will be removed from pandas in a future version. Use pandas.concat instead.\n",
      "  df = df.append(scrape_page(topic[\"topic\"], topic[\"url\"]), ignore_index=True)\n",
      "  9%|▊         | 124/1452 [02:38<29:49,  1.35s/it]"
     ]
    },
    {
     "name": "stdout",
     "output_type": "stream",
     "text": [
      "Scraping Biofeedback...\n",
      "Found 7 sections for Biofeedback\n"
     ]
    },
    {
     "name": "stderr",
     "output_type": "stream",
     "text": [
      "C:\\Users\\Raj\\AppData\\Local\\Temp\\ipykernel_29048\\2168445501.py:6: FutureWarning: The frame.append method is deprecated and will be removed from pandas in a future version. Use pandas.concat instead.\n",
      "  df = df.append(scrape_page(topic[\"topic\"], topic[\"url\"]), ignore_index=True)\n",
      "  9%|▊         | 125/1452 [02:39<28:59,  1.31s/it]"
     ]
    },
    {
     "name": "stdout",
     "output_type": "stream",
     "text": [
      "Scraping Bioterrorism...\n",
      "Found 1 sections for Bioterrorism\n"
     ]
    },
    {
     "name": "stderr",
     "output_type": "stream",
     "text": [
      "C:\\Users\\Raj\\AppData\\Local\\Temp\\ipykernel_29048\\2168445501.py:6: FutureWarning: The frame.append method is deprecated and will be removed from pandas in a future version. Use pandas.concat instead.\n",
      "  df = df.append(scrape_page(topic[\"topic\"], topic[\"url\"]), ignore_index=True)\n",
      "  9%|▊         | 126/1452 [02:40<28:31,  1.29s/it]"
     ]
    },
    {
     "name": "stdout",
     "output_type": "stream",
     "text": [
      "Scraping Bipolar Disorder in Child and Teens...\n",
      "Found 6 sections for Bipolar Disorder in Child and Teens\n"
     ]
    },
    {
     "name": "stderr",
     "output_type": "stream",
     "text": [
      "C:\\Users\\Raj\\AppData\\Local\\Temp\\ipykernel_29048\\2168445501.py:6: FutureWarning: The frame.append method is deprecated and will be removed from pandas in a future version. Use pandas.concat instead.\n",
      "  df = df.append(scrape_page(topic[\"topic\"], topic[\"url\"]), ignore_index=True)\n",
      "  9%|▊         | 127/1452 [02:42<28:27,  1.29s/it]C:\\Users\\Raj\\AppData\\Local\\Temp\\ipykernel_29048\\2168445501.py:6: FutureWarning: The frame.append method is deprecated and will be removed from pandas in a future version. Use pandas.concat instead.\n",
      "  df = df.append(scrape_page(topic[\"topic\"], topic[\"url\"]), ignore_index=True)\n"
     ]
    },
    {
     "name": "stdout",
     "output_type": "stream",
     "text": [
      "Scraping Bird Flu (Avian Influenza)...\n",
      "Found 9 sections for Bird Flu (Avian Influenza)\n"
     ]
    },
    {
     "name": "stderr",
     "output_type": "stream",
     "text": [
      "  9%|▉         | 128/1452 [02:43<27:45,  1.26s/it]"
     ]
    },
    {
     "name": "stdout",
     "output_type": "stream",
     "text": [
      "Scraping Birth Defects Testing...\n",
      "Found 9 sections for Birth Defects Testing\n"
     ]
    },
    {
     "name": "stderr",
     "output_type": "stream",
     "text": [
      "C:\\Users\\Raj\\AppData\\Local\\Temp\\ipykernel_29048\\2168445501.py:6: FutureWarning: The frame.append method is deprecated and will be removed from pandas in a future version. Use pandas.concat instead.\n",
      "  df = df.append(scrape_page(topic[\"topic\"], topic[\"url\"]), ignore_index=True)\n",
      "  9%|▉         | 129/1452 [02:44<27:42,  1.26s/it]C:\\Users\\Raj\\AppData\\Local\\Temp\\ipykernel_29048\\2168445501.py:6: FutureWarning: The frame.append method is deprecated and will be removed from pandas in a future version. Use pandas.concat instead.\n",
      "  df = df.append(scrape_page(topic[\"topic\"], topic[\"url\"]), ignore_index=True)\n"
     ]
    },
    {
     "name": "stdout",
     "output_type": "stream",
     "text": [
      "Scraping Birthmarks...\n",
      "Found 12 sections for Birthmarks\n"
     ]
    },
    {
     "name": "stderr",
     "output_type": "stream",
     "text": [
      "  9%|▉         | 130/1452 [02:45<27:31,  1.25s/it]"
     ]
    },
    {
     "name": "stdout",
     "output_type": "stream",
     "text": [
      "Scraping Birthmarks Slideshow...\n"
     ]
    },
    {
     "name": "stderr",
     "output_type": "stream",
     "text": [
      "C:\\Users\\Raj\\AppData\\Local\\Temp\\ipykernel_29048\\2168445501.py:6: FutureWarning: The frame.append method is deprecated and will be removed from pandas in a future version. Use pandas.concat instead.\n",
      "  df = df.append(scrape_page(topic[\"topic\"], topic[\"url\"]), ignore_index=True)\n",
      "  9%|▉         | 131/1452 [02:47<27:30,  1.25s/it]"
     ]
    },
    {
     "name": "stdout",
     "output_type": "stream",
     "text": [
      "Scraping Biting...\n",
      "Found 5 sections for Biting\n"
     ]
    },
    {
     "name": "stderr",
     "output_type": "stream",
     "text": [
      "C:\\Users\\Raj\\AppData\\Local\\Temp\\ipykernel_29048\\2168445501.py:6: FutureWarning: The frame.append method is deprecated and will be removed from pandas in a future version. Use pandas.concat instead.\n",
      "  df = df.append(scrape_page(topic[\"topic\"], topic[\"url\"]), ignore_index=True)\n",
      "  9%|▉         | 132/1452 [02:48<27:29,  1.25s/it]C:\\Users\\Raj\\AppData\\Local\\Temp\\ipykernel_29048\\2168445501.py:6: FutureWarning: The frame.append method is deprecated and will be removed from pandas in a future version. Use pandas.concat instead.\n",
      "  df = df.append(scrape_page(topic[\"topic\"], topic[\"url\"]), ignore_index=True)\n"
     ]
    },
    {
     "name": "stdout",
     "output_type": "stream",
     "text": [
      "Scraping Black Death...\n",
      "Found 6 sections for Black Death\n"
     ]
    },
    {
     "name": "stderr",
     "output_type": "stream",
     "text": [
      "  9%|▉         | 133/1452 [02:49<27:17,  1.24s/it]"
     ]
    },
    {
     "name": "stdout",
     "output_type": "stream",
     "text": [
      "Scraping Black Eye...\n",
      "Found 2 sections for Black Eye\n"
     ]
    },
    {
     "name": "stderr",
     "output_type": "stream",
     "text": [
      "C:\\Users\\Raj\\AppData\\Local\\Temp\\ipykernel_29048\\2168445501.py:6: FutureWarning: The frame.append method is deprecated and will be removed from pandas in a future version. Use pandas.concat instead.\n",
      "  df = df.append(scrape_page(topic[\"topic\"], topic[\"url\"]), ignore_index=True)\n",
      "  9%|▉         | 134/1452 [02:51<31:13,  1.42s/it]"
     ]
    },
    {
     "name": "stdout",
     "output_type": "stream",
     "text": [
      "Scraping Black Hairy Tongue...\n",
      "Found 5 sections for Black Hairy Tongue\n"
     ]
    },
    {
     "name": "stderr",
     "output_type": "stream",
     "text": [
      "C:\\Users\\Raj\\AppData\\Local\\Temp\\ipykernel_29048\\2168445501.py:6: FutureWarning: The frame.append method is deprecated and will be removed from pandas in a future version. Use pandas.concat instead.\n",
      "  df = df.append(scrape_page(topic[\"topic\"], topic[\"url\"]), ignore_index=True)\n",
      "  9%|▉         | 135/1452 [02:52<30:17,  1.38s/it]"
     ]
    },
    {
     "name": "stdout",
     "output_type": "stream",
     "text": [
      "Scraping Black Lung Disease...\n",
      "Found 7 sections for Black Lung Disease\n"
     ]
    },
    {
     "name": "stderr",
     "output_type": "stream",
     "text": [
      "C:\\Users\\Raj\\AppData\\Local\\Temp\\ipykernel_29048\\2168445501.py:6: FutureWarning: The frame.append method is deprecated and will be removed from pandas in a future version. Use pandas.concat instead.\n",
      "  df = df.append(scrape_page(topic[\"topic\"], topic[\"url\"]), ignore_index=True)\n",
      "  9%|▉         | 136/1452 [02:54<30:15,  1.38s/it]"
     ]
    },
    {
     "name": "stdout",
     "output_type": "stream",
     "text": [
      "Scraping Black Widow Spider Bite...\n",
      "Found 5 sections for Black Widow Spider Bite\n"
     ]
    },
    {
     "name": "stderr",
     "output_type": "stream",
     "text": [
      "C:\\Users\\Raj\\AppData\\Local\\Temp\\ipykernel_29048\\2168445501.py:6: FutureWarning: The frame.append method is deprecated and will be removed from pandas in a future version. Use pandas.concat instead.\n",
      "  df = df.append(scrape_page(topic[\"topic\"], topic[\"url\"]), ignore_index=True)\n",
      "  9%|▉         | 137/1452 [02:55<29:18,  1.34s/it]"
     ]
    },
    {
     "name": "stdout",
     "output_type": "stream",
     "text": [
      "Scraping Bladder Infections in Children...\n",
      "Found 10 sections for Bladder Infections in Children\n"
     ]
    },
    {
     "name": "stderr",
     "output_type": "stream",
     "text": [
      "C:\\Users\\Raj\\AppData\\Local\\Temp\\ipykernel_29048\\2168445501.py:6: FutureWarning: The frame.append method is deprecated and will be removed from pandas in a future version. Use pandas.concat instead.\n",
      "  df = df.append(scrape_page(topic[\"topic\"], topic[\"url\"]), ignore_index=True)\n",
      " 10%|▉         | 138/1452 [02:56<28:35,  1.31s/it]"
     ]
    },
    {
     "name": "stdout",
     "output_type": "stream",
     "text": [
      "Scraping Bladder Infections in Teens and Adults...\n",
      "Found 2 sections for Bladder Infections in Teens and Adults\n"
     ]
    },
    {
     "name": "stderr",
     "output_type": "stream",
     "text": [
      "C:\\Users\\Raj\\AppData\\Local\\Temp\\ipykernel_29048\\2168445501.py:6: FutureWarning: The frame.append method is deprecated and will be removed from pandas in a future version. Use pandas.concat instead.\n",
      "  df = df.append(scrape_page(topic[\"topic\"], topic[\"url\"]), ignore_index=True)\n",
      " 10%|▉         | 139/1452 [02:57<28:03,  1.28s/it]"
     ]
    },
    {
     "name": "stdout",
     "output_type": "stream",
     "text": [
      "Scraping Bleeding from a Minor Head Wound...\n",
      "Found 9 sections for Bleeding from a Minor Head Wound\n"
     ]
    },
    {
     "name": "stderr",
     "output_type": "stream",
     "text": [
      "C:\\Users\\Raj\\AppData\\Local\\Temp\\ipykernel_29048\\2168445501.py:6: FutureWarning: The frame.append method is deprecated and will be removed from pandas in a future version. Use pandas.concat instead.\n",
      "  df = df.append(scrape_page(topic[\"topic\"], topic[\"url\"]), ignore_index=True)\n",
      " 10%|▉         | 140/1452 [02:59<28:13,  1.29s/it]"
     ]
    },
    {
     "name": "stdout",
     "output_type": "stream",
     "text": [
      "Scraping Blepharitis...\n",
      "Found 7 sections for Blepharitis\n"
     ]
    },
    {
     "name": "stderr",
     "output_type": "stream",
     "text": [
      "C:\\Users\\Raj\\AppData\\Local\\Temp\\ipykernel_29048\\2168445501.py:6: FutureWarning: The frame.append method is deprecated and will be removed from pandas in a future version. Use pandas.concat instead.\n",
      "  df = df.append(scrape_page(topic[\"topic\"], topic[\"url\"]), ignore_index=True)\n",
      " 10%|▉         | 141/1452 [03:00<28:00,  1.28s/it]"
     ]
    },
    {
     "name": "stdout",
     "output_type": "stream",
     "text": [
      "Scraping Blisters...\n",
      "Found 5 sections for Blisters\n"
     ]
    },
    {
     "name": "stderr",
     "output_type": "stream",
     "text": [
      "C:\\Users\\Raj\\AppData\\Local\\Temp\\ipykernel_29048\\2168445501.py:6: FutureWarning: The frame.append method is deprecated and will be removed from pandas in a future version. Use pandas.concat instead.\n",
      "  df = df.append(scrape_page(topic[\"topic\"], topic[\"url\"]), ignore_index=True)\n",
      " 10%|▉         | 142/1452 [03:01<28:02,  1.28s/it]"
     ]
    },
    {
     "name": "stdout",
     "output_type": "stream",
     "text": [
      "Scraping Blocked Tear Ducts...\n",
      "Found 4 sections for Blocked Tear Ducts\n"
     ]
    },
    {
     "name": "stderr",
     "output_type": "stream",
     "text": [
      "C:\\Users\\Raj\\AppData\\Local\\Temp\\ipykernel_29048\\2168445501.py:6: FutureWarning: The frame.append method is deprecated and will be removed from pandas in a future version. Use pandas.concat instead.\n",
      "  df = df.append(scrape_page(topic[\"topic\"], topic[\"url\"]), ignore_index=True)\n",
      " 10%|▉         | 143/1452 [03:02<27:50,  1.28s/it]"
     ]
    },
    {
     "name": "stdout",
     "output_type": "stream",
     "text": [
      "Scraping Blood Transfusion...\n",
      "Found 10 sections for Blood Transfusion\n"
     ]
    },
    {
     "name": "stderr",
     "output_type": "stream",
     "text": [
      "C:\\Users\\Raj\\AppData\\Local\\Temp\\ipykernel_29048\\2168445501.py:6: FutureWarning: The frame.append method is deprecated and will be removed from pandas in a future version. Use pandas.concat instead.\n",
      "  df = df.append(scrape_page(topic[\"topic\"], topic[\"url\"]), ignore_index=True)\n",
      " 10%|▉         | 144/1452 [03:04<27:42,  1.27s/it]"
     ]
    },
    {
     "name": "stdout",
     "output_type": "stream",
     "text": [
      "Scraping BMI Calculator...\n"
     ]
    },
    {
     "name": "stderr",
     "output_type": "stream",
     "text": [
      "C:\\Users\\Raj\\AppData\\Local\\Temp\\ipykernel_29048\\2168445501.py:6: FutureWarning: The frame.append method is deprecated and will be removed from pandas in a future version. Use pandas.concat instead.\n",
      "  df = df.append(scrape_page(topic[\"topic\"], topic[\"url\"]), ignore_index=True)\n",
      " 10%|▉         | 145/1452 [03:05<27:27,  1.26s/it]"
     ]
    },
    {
     "name": "stdout",
     "output_type": "stream",
     "text": [
      "Scraping Body Piercings...\n",
      "Found 11 sections for Body Piercings\n"
     ]
    },
    {
     "name": "stderr",
     "output_type": "stream",
     "text": [
      "C:\\Users\\Raj\\AppData\\Local\\Temp\\ipykernel_29048\\2168445501.py:6: FutureWarning: The frame.append method is deprecated and will be removed from pandas in a future version. Use pandas.concat instead.\n",
      "  df = df.append(scrape_page(topic[\"topic\"], topic[\"url\"]), ignore_index=True)\n",
      " 10%|█         | 146/1452 [03:06<28:46,  1.32s/it]"
     ]
    },
    {
     "name": "stdout",
     "output_type": "stream",
     "text": [
      "Scraping Bone Spurs...\n",
      "Found 7 sections for Bone Spurs\n"
     ]
    },
    {
     "name": "stderr",
     "output_type": "stream",
     "text": [
      "C:\\Users\\Raj\\AppData\\Local\\Temp\\ipykernel_29048\\2168445501.py:6: FutureWarning: The frame.append method is deprecated and will be removed from pandas in a future version. Use pandas.concat instead.\n",
      "  df = df.append(scrape_page(topic[\"topic\"], topic[\"url\"]), ignore_index=True)\n",
      " 10%|█         | 147/1452 [03:08<28:14,  1.30s/it]"
     ]
    },
    {
     "name": "stdout",
     "output_type": "stream",
     "text": [
      "Scraping Bone Tumor-Epidermoid Cyst-Polyposis...\n"
     ]
    },
    {
     "name": "stderr",
     "output_type": "stream",
     "text": [
      "C:\\Users\\Raj\\AppData\\Local\\Temp\\ipykernel_29048\\2168445501.py:6: FutureWarning: The frame.append method is deprecated and will be removed from pandas in a future version. Use pandas.concat instead.\n",
      "  df = df.append(scrape_page(topic[\"topic\"], topic[\"url\"]), ignore_index=True)\n",
      " 10%|█         | 148/1452 [03:09<30:48,  1.42s/it]"
     ]
    },
    {
     "name": "stdout",
     "output_type": "stream",
     "text": [
      "Scraping Borderline Personality Disorder...\n",
      "Found 1 sections for Borderline Personality Disorder\n"
     ]
    },
    {
     "name": "stderr",
     "output_type": "stream",
     "text": [
      "C:\\Users\\Raj\\AppData\\Local\\Temp\\ipykernel_29048\\2168445501.py:6: FutureWarning: The frame.append method is deprecated and will be removed from pandas in a future version. Use pandas.concat instead.\n",
      "  df = df.append(scrape_page(topic[\"topic\"], topic[\"url\"]), ignore_index=True)\n",
      " 10%|█         | 149/1452 [03:11<29:38,  1.37s/it]"
     ]
    },
    {
     "name": "stdout",
     "output_type": "stream",
     "text": [
      "Scraping Bottle-Feeding...\n",
      "Found 6 sections for Bottle-Feeding\n"
     ]
    },
    {
     "name": "stderr",
     "output_type": "stream",
     "text": [
      "C:\\Users\\Raj\\AppData\\Local\\Temp\\ipykernel_29048\\2168445501.py:6: FutureWarning: The frame.append method is deprecated and will be removed from pandas in a future version. Use pandas.concat instead.\n",
      "  df = df.append(scrape_page(topic[\"topic\"], topic[\"url\"]), ignore_index=True)\n",
      " 10%|█         | 150/1452 [03:12<29:54,  1.38s/it]"
     ]
    },
    {
     "name": "stdout",
     "output_type": "stream",
     "text": [
      "Scraping Bovine Spongiform Encephalopathy...\n",
      "Found 12 sections for Bovine Spongiform Encephalopathy\n"
     ]
    },
    {
     "name": "stderr",
     "output_type": "stream",
     "text": [
      "C:\\Users\\Raj\\AppData\\Local\\Temp\\ipykernel_29048\\2168445501.py:6: FutureWarning: The frame.append method is deprecated and will be removed from pandas in a future version. Use pandas.concat instead.\n",
      "  df = df.append(scrape_page(topic[\"topic\"], topic[\"url\"]), ignore_index=True)\n",
      " 10%|█         | 151/1452 [03:13<28:57,  1.34s/it]"
     ]
    },
    {
     "name": "stdout",
     "output_type": "stream",
     "text": [
      "Scraping Bowel Obstruction...\n",
      "Found 8 sections for Bowel Obstruction\n"
     ]
    },
    {
     "name": "stderr",
     "output_type": "stream",
     "text": [
      "C:\\Users\\Raj\\AppData\\Local\\Temp\\ipykernel_29048\\2168445501.py:6: FutureWarning: The frame.append method is deprecated and will be removed from pandas in a future version. Use pandas.concat instead.\n",
      "  df = df.append(scrape_page(topic[\"topic\"], topic[\"url\"]), ignore_index=True)\n",
      " 10%|█         | 152/1452 [03:14<28:20,  1.31s/it]"
     ]
    },
    {
     "name": "stdout",
     "output_type": "stream",
     "text": [
      "Scraping Bowen's Disease...\n",
      "Found 5 sections for Bowen's Disease\n"
     ]
    },
    {
     "name": "stderr",
     "output_type": "stream",
     "text": [
      "C:\\Users\\Raj\\AppData\\Local\\Temp\\ipykernel_29048\\2168445501.py:6: FutureWarning: The frame.append method is deprecated and will be removed from pandas in a future version. Use pandas.concat instead.\n",
      "  df = df.append(scrape_page(topic[\"topic\"], topic[\"url\"]), ignore_index=True)\n",
      " 11%|█         | 153/1452 [03:16<27:59,  1.29s/it]"
     ]
    },
    {
     "name": "stdout",
     "output_type": "stream",
     "text": [
      "Scraping BPH (Benign Prostatic Hyperplasia)...\n",
      "Found 8 sections for BPH (Benign Prostatic Hyperplasia)\n"
     ]
    },
    {
     "name": "stderr",
     "output_type": "stream",
     "text": [
      "C:\\Users\\Raj\\AppData\\Local\\Temp\\ipykernel_29048\\2168445501.py:6: FutureWarning: The frame.append method is deprecated and will be removed from pandas in a future version. Use pandas.concat instead.\n",
      "  df = df.append(scrape_page(topic[\"topic\"], topic[\"url\"]), ignore_index=True)\n",
      " 11%|█         | 154/1452 [03:17<27:38,  1.28s/it]"
     ]
    },
    {
     "name": "stdout",
     "output_type": "stream",
     "text": [
      "Scraping Bradycardia (Slow Heart Rate)...\n",
      "Found 9 sections for Bradycardia (Slow Heart Rate)\n"
     ]
    },
    {
     "name": "stderr",
     "output_type": "stream",
     "text": [
      "C:\\Users\\Raj\\AppData\\Local\\Temp\\ipykernel_29048\\2168445501.py:6: FutureWarning: The frame.append method is deprecated and will be removed from pandas in a future version. Use pandas.concat instead.\n",
      "  df = df.append(scrape_page(topic[\"topic\"], topic[\"url\"]), ignore_index=True)\n",
      " 11%|█         | 155/1452 [03:18<27:18,  1.26s/it]"
     ]
    },
    {
     "name": "stdout",
     "output_type": "stream",
     "text": [
      "Scraping Brain Aneurysm...\n",
      "Found 14 sections for Brain Aneurysm\n"
     ]
    },
    {
     "name": "stderr",
     "output_type": "stream",
     "text": [
      "C:\\Users\\Raj\\AppData\\Local\\Temp\\ipykernel_29048\\2168445501.py:6: FutureWarning: The frame.append method is deprecated and will be removed from pandas in a future version. Use pandas.concat instead.\n",
      "  df = df.append(scrape_page(topic[\"topic\"], topic[\"url\"]), ignore_index=True)\n",
      " 11%|█         | 156/1452 [03:20<27:58,  1.30s/it]"
     ]
    },
    {
     "name": "stdout",
     "output_type": "stream",
     "text": [
      "Scraping Brain Tumors in Adults...\n",
      "Found 9 sections for Brain Tumors in Adults\n"
     ]
    },
    {
     "name": "stderr",
     "output_type": "stream",
     "text": [
      "C:\\Users\\Raj\\AppData\\Local\\Temp\\ipykernel_29048\\2168445501.py:6: FutureWarning: The frame.append method is deprecated and will be removed from pandas in a future version. Use pandas.concat instead.\n",
      "  df = df.append(scrape_page(topic[\"topic\"], topic[\"url\"]), ignore_index=True)\n",
      " 11%|█         | 157/1452 [03:21<27:34,  1.28s/it]"
     ]
    },
    {
     "name": "stdout",
     "output_type": "stream",
     "text": [
      "Scraping Brain Tumors, General...\n",
      "Found 11 sections for Brain Tumors, General\n"
     ]
    },
    {
     "name": "stderr",
     "output_type": "stream",
     "text": [
      "C:\\Users\\Raj\\AppData\\Local\\Temp\\ipykernel_29048\\2168445501.py:6: FutureWarning: The frame.append method is deprecated and will be removed from pandas in a future version. Use pandas.concat instead.\n",
      "  df = df.append(scrape_page(topic[\"topic\"], topic[\"url\"]), ignore_index=True)\n",
      " 11%|█         | 158/1452 [03:22<27:17,  1.27s/it]"
     ]
    },
    {
     "name": "stdout",
     "output_type": "stream",
     "text": [
      "Scraping Brazilian Pemphigus Foliaceus...\n",
      "Found 10 sections for Brazilian Pemphigus Foliaceus\n"
     ]
    },
    {
     "name": "stderr",
     "output_type": "stream",
     "text": [
      "C:\\Users\\Raj\\AppData\\Local\\Temp\\ipykernel_29048\\2168445501.py:6: FutureWarning: The frame.append method is deprecated and will be removed from pandas in a future version. Use pandas.concat instead.\n",
      "  df = df.append(scrape_page(topic[\"topic\"], topic[\"url\"]), ignore_index=True)\n",
      " 11%|█         | 159/1452 [03:23<27:01,  1.25s/it]"
     ]
    },
    {
     "name": "stdout",
     "output_type": "stream",
     "text": [
      "Scraping Brazilian Trypanosomiasis...\n",
      "Found 7 sections for Brazilian Trypanosomiasis\n"
     ]
    },
    {
     "name": "stderr",
     "output_type": "stream",
     "text": [
      "C:\\Users\\Raj\\AppData\\Local\\Temp\\ipykernel_29048\\2168445501.py:6: FutureWarning: The frame.append method is deprecated and will be removed from pandas in a future version. Use pandas.concat instead.\n",
      "  df = df.append(scrape_page(topic[\"topic\"], topic[\"url\"]), ignore_index=True)\n",
      " 11%|█         | 160/1452 [03:24<26:54,  1.25s/it]"
     ]
    },
    {
     "name": "stdout",
     "output_type": "stream",
     "text": [
      "Scraping Breast Cancer and Pregnancy...\n",
      "Found 6 sections for Breast Cancer and Pregnancy\n"
     ]
    },
    {
     "name": "stderr",
     "output_type": "stream",
     "text": [
      "C:\\Users\\Raj\\AppData\\Local\\Temp\\ipykernel_29048\\2168445501.py:6: FutureWarning: The frame.append method is deprecated and will be removed from pandas in a future version. Use pandas.concat instead.\n",
      "  df = df.append(scrape_page(topic[\"topic\"], topic[\"url\"]), ignore_index=True)\n",
      " 11%|█         | 161/1452 [03:27<32:14,  1.50s/it]"
     ]
    },
    {
     "name": "stdout",
     "output_type": "stream",
     "text": [
      "Scraping Breast Cancer and Your Genes...\n",
      "Found 17 sections for Breast Cancer and Your Genes\n"
     ]
    },
    {
     "name": "stderr",
     "output_type": "stream",
     "text": [
      "C:\\Users\\Raj\\AppData\\Local\\Temp\\ipykernel_29048\\2168445501.py:6: FutureWarning: The frame.append method is deprecated and will be removed from pandas in a future version. Use pandas.concat instead.\n",
      "  df = df.append(scrape_page(topic[\"topic\"], topic[\"url\"]), ignore_index=True)\n",
      " 11%|█         | 162/1452 [03:28<32:37,  1.52s/it]"
     ]
    },
    {
     "name": "stdout",
     "output_type": "stream",
     "text": [
      "Scraping Breast Cancer in Men...\n",
      "Found 6 sections for Breast Cancer in Men\n"
     ]
    },
    {
     "name": "stderr",
     "output_type": "stream",
     "text": [
      "C:\\Users\\Raj\\AppData\\Local\\Temp\\ipykernel_29048\\2168445501.py:6: FutureWarning: The frame.append method is deprecated and will be removed from pandas in a future version. Use pandas.concat instead.\n",
      "  df = df.append(scrape_page(topic[\"topic\"], topic[\"url\"]), ignore_index=True)\n",
      " 11%|█         | 163/1452 [03:29<30:48,  1.43s/it]"
     ]
    },
    {
     "name": "stdout",
     "output_type": "stream",
     "text": [
      "Scraping Breast Cancer Risk Factors...\n",
      "Found 4 sections for Breast Cancer Risk Factors\n"
     ]
    },
    {
     "name": "stderr",
     "output_type": "stream",
     "text": [
      "C:\\Users\\Raj\\AppData\\Local\\Temp\\ipykernel_29048\\2168445501.py:6: FutureWarning: The frame.append method is deprecated and will be removed from pandas in a future version. Use pandas.concat instead.\n",
      "  df = df.append(scrape_page(topic[\"topic\"], topic[\"url\"]), ignore_index=True)\n",
      " 11%|█▏        | 164/1452 [03:31<29:38,  1.38s/it]"
     ]
    },
    {
     "name": "stdout",
     "output_type": "stream",
     "text": [
      "Scraping Breast Cancer, Metastatic or Recurrent...\n",
      "Found 5 sections for Breast Cancer, Metastatic or Recurrent\n"
     ]
    },
    {
     "name": "stderr",
     "output_type": "stream",
     "text": [
      "C:\\Users\\Raj\\AppData\\Local\\Temp\\ipykernel_29048\\2168445501.py:6: FutureWarning: The frame.append method is deprecated and will be removed from pandas in a future version. Use pandas.concat instead.\n",
      "  df = df.append(scrape_page(topic[\"topic\"], topic[\"url\"]), ignore_index=True)\n",
      " 11%|█▏        | 165/1452 [03:32<28:52,  1.35s/it]"
     ]
    },
    {
     "name": "stdout",
     "output_type": "stream",
     "text": [
      "Scraping Breast Cancer: Screening...\n",
      "Found 10 sections for Breast Cancer: Screening\n"
     ]
    },
    {
     "name": "stderr",
     "output_type": "stream",
     "text": [
      "C:\\Users\\Raj\\AppData\\Local\\Temp\\ipykernel_29048\\2168445501.py:6: FutureWarning: The frame.append method is deprecated and will be removed from pandas in a future version. Use pandas.concat instead.\n",
      "  df = df.append(scrape_page(topic[\"topic\"], topic[\"url\"]), ignore_index=True)\n",
      " 11%|█▏        | 166/1452 [03:33<29:20,  1.37s/it]"
     ]
    },
    {
     "name": "stdout",
     "output_type": "stream",
     "text": [
      "Scraping Breast Cancer: Treatment...\n",
      "Found 21 sections for Breast Cancer: Treatment\n"
     ]
    },
    {
     "name": "stderr",
     "output_type": "stream",
     "text": [
      "C:\\Users\\Raj\\AppData\\Local\\Temp\\ipykernel_29048\\2168445501.py:6: FutureWarning: The frame.append method is deprecated and will be removed from pandas in a future version. Use pandas.concat instead.\n",
      "  df = df.append(scrape_page(topic[\"topic\"], topic[\"url\"]), ignore_index=True)\n",
      " 12%|█▏        | 167/1452 [03:35<28:34,  1.33s/it]"
     ]
    },
    {
     "name": "stdout",
     "output_type": "stream",
     "text": [
      "Scraping Breast Development in Boys...\n",
      "Found 10 sections for Breast Development in Boys\n"
     ]
    },
    {
     "name": "stderr",
     "output_type": "stream",
     "text": [
      "C:\\Users\\Raj\\AppData\\Local\\Temp\\ipykernel_29048\\2168445501.py:6: FutureWarning: The frame.append method is deprecated and will be removed from pandas in a future version. Use pandas.concat instead.\n",
      "  df = df.append(scrape_page(topic[\"topic\"], topic[\"url\"]), ignore_index=True)\n",
      " 12%|█▏        | 168/1452 [03:36<28:12,  1.32s/it]"
     ]
    },
    {
     "name": "stdout",
     "output_type": "stream",
     "text": [
      "Scraping Breast Engorgement...\n",
      "Found 7 sections for Breast Engorgement\n"
     ]
    },
    {
     "name": "stderr",
     "output_type": "stream",
     "text": [
      "C:\\Users\\Raj\\AppData\\Local\\Temp\\ipykernel_29048\\2168445501.py:6: FutureWarning: The frame.append method is deprecated and will be removed from pandas in a future version. Use pandas.concat instead.\n",
      "  df = df.append(scrape_page(topic[\"topic\"], topic[\"url\"]), ignore_index=True)\n",
      " 12%|█▏        | 169/1452 [03:37<27:42,  1.30s/it]"
     ]
    },
    {
     "name": "stdout",
     "output_type": "stream",
     "text": [
      "Scraping Breast Infection (Mastitis)...\n",
      "Found 6 sections for Breast Infection (Mastitis)\n"
     ]
    },
    {
     "name": "stderr",
     "output_type": "stream",
     "text": [
      "C:\\Users\\Raj\\AppData\\Local\\Temp\\ipykernel_29048\\2168445501.py:6: FutureWarning: The frame.append method is deprecated and will be removed from pandas in a future version. Use pandas.concat instead.\n",
      "  df = df.append(scrape_page(topic[\"topic\"], topic[\"url\"]), ignore_index=True)\n",
      " 12%|█▏        | 170/1452 [03:38<27:30,  1.29s/it]"
     ]
    },
    {
     "name": "stdout",
     "output_type": "stream",
     "text": [
      "Scraping Breast Lumps (Benign)...\n",
      "Found 12 sections for Breast Lumps (Benign)\n"
     ]
    },
    {
     "name": "stderr",
     "output_type": "stream",
     "text": [
      "C:\\Users\\Raj\\AppData\\Local\\Temp\\ipykernel_29048\\2168445501.py:6: FutureWarning: The frame.append method is deprecated and will be removed from pandas in a future version. Use pandas.concat instead.\n",
      "  df = df.append(scrape_page(topic[\"topic\"], topic[\"url\"]), ignore_index=True)\n",
      " 12%|█▏        | 171/1452 [03:40<27:13,  1.27s/it]"
     ]
    },
    {
     "name": "stdout",
     "output_type": "stream",
     "text": [
      "Scraping Breast Pain (Mastalgia)...\n",
      "Found 13 sections for Breast Pain (Mastalgia)\n"
     ]
    },
    {
     "name": "stderr",
     "output_type": "stream",
     "text": [
      "C:\\Users\\Raj\\AppData\\Local\\Temp\\ipykernel_29048\\2168445501.py:6: FutureWarning: The frame.append method is deprecated and will be removed from pandas in a future version. Use pandas.concat instead.\n",
      "  df = df.append(scrape_page(topic[\"topic\"], topic[\"url\"]), ignore_index=True)\n",
      " 12%|█▏        | 172/1452 [03:41<27:04,  1.27s/it]"
     ]
    },
    {
     "name": "stdout",
     "output_type": "stream",
     "text": [
      "Scraping Breast Problems...\n",
      "Found 7 sections for Breast Problems\n"
     ]
    },
    {
     "name": "stderr",
     "output_type": "stream",
     "text": [
      "C:\\Users\\Raj\\AppData\\Local\\Temp\\ipykernel_29048\\2168445501.py:6: FutureWarning: The frame.append method is deprecated and will be removed from pandas in a future version. Use pandas.concat instead.\n",
      "  df = df.append(scrape_page(topic[\"topic\"], topic[\"url\"]), ignore_index=True)\n",
      " 12%|█▏        | 173/1452 [03:42<27:01,  1.27s/it]"
     ]
    },
    {
     "name": "stdout",
     "output_type": "stream",
     "text": [
      "Scraping Breast Reconstruction...\n",
      "Found 14 sections for Breast Reconstruction\n"
     ]
    },
    {
     "name": "stderr",
     "output_type": "stream",
     "text": [
      "C:\\Users\\Raj\\AppData\\Local\\Temp\\ipykernel_29048\\2168445501.py:6: FutureWarning: The frame.append method is deprecated and will be removed from pandas in a future version. Use pandas.concat instead.\n",
      "  df = df.append(scrape_page(topic[\"topic\"], topic[\"url\"]), ignore_index=True)\n",
      " 12%|█▏        | 174/1452 [03:43<26:50,  1.26s/it]"
     ]
    },
    {
     "name": "stdout",
     "output_type": "stream",
     "text": [
      "Scraping Breath-Holding Spells...\n",
      "Found 7 sections for Breath-Holding Spells\n"
     ]
    },
    {
     "name": "stderr",
     "output_type": "stream",
     "text": [
      "C:\\Users\\Raj\\AppData\\Local\\Temp\\ipykernel_29048\\2168445501.py:6: FutureWarning: The frame.append method is deprecated and will be removed from pandas in a future version. Use pandas.concat instead.\n",
      "  df = df.append(scrape_page(topic[\"topic\"], topic[\"url\"]), ignore_index=True)\n",
      " 12%|█▏        | 175/1452 [03:45<26:41,  1.25s/it]"
     ]
    },
    {
     "name": "stdout",
     "output_type": "stream",
     "text": [
      "Scraping Breech Position and Breech Birth...\n",
      "Found 17 sections for Breech Position and Breech Birth\n"
     ]
    },
    {
     "name": "stderr",
     "output_type": "stream",
     "text": [
      "C:\\Users\\Raj\\AppData\\Local\\Temp\\ipykernel_29048\\2168445501.py:6: FutureWarning: The frame.append method is deprecated and will be removed from pandas in a future version. Use pandas.concat instead.\n",
      "  df = df.append(scrape_page(topic[\"topic\"], topic[\"url\"]), ignore_index=True)\n",
      " 12%|█▏        | 176/1452 [03:46<27:42,  1.30s/it]"
     ]
    },
    {
     "name": "stdout",
     "output_type": "stream",
     "text": [
      "Scraping Brittle Bone Disease...\n",
      "Found 7 sections for Brittle Bone Disease\n"
     ]
    },
    {
     "name": "stderr",
     "output_type": "stream",
     "text": [
      "C:\\Users\\Raj\\AppData\\Local\\Temp\\ipykernel_29048\\2168445501.py:6: FutureWarning: The frame.append method is deprecated and will be removed from pandas in a future version. Use pandas.concat instead.\n",
      "  df = df.append(scrape_page(topic[\"topic\"], topic[\"url\"]), ignore_index=True)\n",
      " 12%|█▏        | 177/1452 [03:47<27:27,  1.29s/it]"
     ]
    },
    {
     "name": "stdout",
     "output_type": "stream",
     "text": [
      "Scraping Buerger's Disease...\n",
      "Found 7 sections for Buerger's Disease\n"
     ]
    },
    {
     "name": "stderr",
     "output_type": "stream",
     "text": [
      "C:\\Users\\Raj\\AppData\\Local\\Temp\\ipykernel_29048\\2168445501.py:6: FutureWarning: The frame.append method is deprecated and will be removed from pandas in a future version. Use pandas.concat instead.\n",
      "  df = df.append(scrape_page(topic[\"topic\"], topic[\"url\"]), ignore_index=True)\n",
      " 12%|█▏        | 178/1452 [03:49<27:48,  1.31s/it]"
     ]
    },
    {
     "name": "stdout",
     "output_type": "stream",
     "text": [
      "Scraping Bulbospinal Muscular Atrophy, X-linked...\n"
     ]
    },
    {
     "name": "stderr",
     "output_type": "stream",
     "text": [
      "C:\\Users\\Raj\\AppData\\Local\\Temp\\ipykernel_29048\\2168445501.py:6: FutureWarning: The frame.append method is deprecated and will be removed from pandas in a future version. Use pandas.concat instead.\n",
      "  df = df.append(scrape_page(topic[\"topic\"], topic[\"url\"]), ignore_index=True)\n",
      " 12%|█▏        | 179/1452 [03:50<27:41,  1.31s/it]"
     ]
    },
    {
     "name": "stdout",
     "output_type": "stream",
     "text": [
      "Scraping Bullosa Hereditaria...\n",
      "Found 10 sections for Bullosa Hereditaria\n"
     ]
    },
    {
     "name": "stderr",
     "output_type": "stream",
     "text": [
      "C:\\Users\\Raj\\AppData\\Local\\Temp\\ipykernel_29048\\2168445501.py:6: FutureWarning: The frame.append method is deprecated and will be removed from pandas in a future version. Use pandas.concat instead.\n",
      "  df = df.append(scrape_page(topic[\"topic\"], topic[\"url\"]), ignore_index=True)\n",
      " 12%|█▏        | 180/1452 [03:51<27:16,  1.29s/it]"
     ]
    },
    {
     "name": "stdout",
     "output_type": "stream",
     "text": [
      "Scraping Bullying...\n",
      "Found 8 sections for Bullying\n"
     ]
    },
    {
     "name": "stderr",
     "output_type": "stream",
     "text": [
      "C:\\Users\\Raj\\AppData\\Local\\Temp\\ipykernel_29048\\2168445501.py:6: FutureWarning: The frame.append method is deprecated and will be removed from pandas in a future version. Use pandas.concat instead.\n",
      "  df = df.append(scrape_page(topic[\"topic\"], topic[\"url\"]), ignore_index=True)\n",
      " 12%|█▏        | 181/1452 [03:53<32:00,  1.51s/it]"
     ]
    },
    {
     "name": "stdout",
     "output_type": "stream",
     "text": [
      "Scraping Bunions...\n",
      "Found 5 sections for Bunions\n"
     ]
    },
    {
     "name": "stderr",
     "output_type": "stream",
     "text": [
      "C:\\Users\\Raj\\AppData\\Local\\Temp\\ipykernel_29048\\2168445501.py:6: FutureWarning: The frame.append method is deprecated and will be removed from pandas in a future version. Use pandas.concat instead.\n",
      "  df = df.append(scrape_page(topic[\"topic\"], topic[\"url\"]), ignore_index=True)\n",
      " 13%|█▎        | 182/1452 [03:54<30:12,  1.43s/it]"
     ]
    },
    {
     "name": "stdout",
     "output_type": "stream",
     "text": [
      "Scraping Bunyavirus Infection...\n",
      "Found 11 sections for Bunyavirus Infection\n"
     ]
    },
    {
     "name": "stderr",
     "output_type": "stream",
     "text": [
      "C:\\Users\\Raj\\AppData\\Local\\Temp\\ipykernel_29048\\2168445501.py:6: FutureWarning: The frame.append method is deprecated and will be removed from pandas in a future version. Use pandas.concat instead.\n",
      "  df = df.append(scrape_page(topic[\"topic\"], topic[\"url\"]), ignore_index=True)\n",
      " 13%|█▎        | 183/1452 [03:56<28:58,  1.37s/it]C:\\Users\\Raj\\AppData\\Local\\Temp\\ipykernel_29048\\2168445501.py:6: FutureWarning: The frame.append method is deprecated and will be removed from pandas in a future version. Use pandas.concat instead.\n",
      "  df = df.append(scrape_page(topic[\"topic\"], topic[\"url\"]), ignore_index=True)\n"
     ]
    },
    {
     "name": "stdout",
     "output_type": "stream",
     "text": [
      "Scraping Burning Mouth Syndrome...\n",
      "Found 7 sections for Burning Mouth Syndrome\n"
     ]
    },
    {
     "name": "stderr",
     "output_type": "stream",
     "text": [
      " 13%|█▎        | 184/1452 [03:57<27:59,  1.32s/it]"
     ]
    },
    {
     "name": "stdout",
     "output_type": "stream",
     "text": [
      "Scraping Burns...\n",
      "Found 7 sections for Burns\n"
     ]
    },
    {
     "name": "stderr",
     "output_type": "stream",
     "text": [
      "C:\\Users\\Raj\\AppData\\Local\\Temp\\ipykernel_29048\\2168445501.py:6: FutureWarning: The frame.append method is deprecated and will be removed from pandas in a future version. Use pandas.concat instead.\n",
      "  df = df.append(scrape_page(topic[\"topic\"], topic[\"url\"]), ignore_index=True)\n",
      " 13%|█▎        | 185/1452 [03:58<27:24,  1.30s/it]"
     ]
    },
    {
     "name": "stdout",
     "output_type": "stream",
     "text": [
      "Scraping Bursitis...\n",
      "Found 7 sections for Bursitis\n"
     ]
    },
    {
     "name": "stderr",
     "output_type": "stream",
     "text": [
      "C:\\Users\\Raj\\AppData\\Local\\Temp\\ipykernel_29048\\2168445501.py:6: FutureWarning: The frame.append method is deprecated and will be removed from pandas in a future version. Use pandas.concat instead.\n",
      "  df = df.append(scrape_page(topic[\"topic\"], topic[\"url\"]), ignore_index=True)\n",
      " 13%|█▎        | 186/1452 [03:59<27:31,  1.30s/it]"
     ]
    },
    {
     "name": "stdout",
     "output_type": "stream",
     "text": [
      "Scraping C1-INH...\n"
     ]
    },
    {
     "name": "stderr",
     "output_type": "stream",
     "text": [
      "C:\\Users\\Raj\\AppData\\Local\\Temp\\ipykernel_29048\\2168445501.py:6: FutureWarning: The frame.append method is deprecated and will be removed from pandas in a future version. Use pandas.concat instead.\n",
      "  df = df.append(scrape_page(topic[\"topic\"], topic[\"url\"]), ignore_index=True)\n",
      " 13%|█▎        | 187/1452 [04:01<27:48,  1.32s/it]"
     ]
    },
    {
     "name": "stdout",
     "output_type": "stream",
     "text": [
      "Scraping CAD (Coronary Artery Disease)...\n",
      "Found 13 sections for CAD (Coronary Artery Disease)\n"
     ]
    },
    {
     "name": "stderr",
     "output_type": "stream",
     "text": [
      "C:\\Users\\Raj\\AppData\\Local\\Temp\\ipykernel_29048\\2168445501.py:6: FutureWarning: The frame.append method is deprecated and will be removed from pandas in a future version. Use pandas.concat instead.\n",
      "  df = df.append(scrape_page(topic[\"topic\"], topic[\"url\"]), ignore_index=True)\n",
      " 13%|█▎        | 188/1452 [04:02<28:07,  1.33s/it]C:\\Users\\Raj\\AppData\\Local\\Temp\\ipykernel_29048\\2168445501.py:6: FutureWarning: The frame.append method is deprecated and will be removed from pandas in a future version. Use pandas.concat instead.\n",
      "  df = df.append(scrape_page(topic[\"topic\"], topic[\"url\"]), ignore_index=True)\n"
     ]
    },
    {
     "name": "stdout",
     "output_type": "stream",
     "text": [
      "Scraping Calcaneal Valgus...\n",
      "Found 6 sections for Calcaneal Valgus\n"
     ]
    },
    {
     "name": "stderr",
     "output_type": "stream",
     "text": [
      " 13%|█▎        | 189/1452 [04:03<27:24,  1.30s/it]"
     ]
    },
    {
     "name": "stdout",
     "output_type": "stream",
     "text": [
      "Scraping Calcium for Osteoporosis...\n",
      "Found 12 sections for Calcium for Osteoporosis\n"
     ]
    },
    {
     "name": "stderr",
     "output_type": "stream",
     "text": [
      "C:\\Users\\Raj\\AppData\\Local\\Temp\\ipykernel_29048\\2168445501.py:6: FutureWarning: The frame.append method is deprecated and will be removed from pandas in a future version. Use pandas.concat instead.\n",
      "  df = df.append(scrape_page(topic[\"topic\"], topic[\"url\"]), ignore_index=True)\n",
      " 13%|█▎        | 190/1452 [04:05<27:04,  1.29s/it]"
     ]
    },
    {
     "name": "stdout",
     "output_type": "stream",
     "text": [
      "Scraping Calluses and Corns...\n",
      "Found 5 sections for Calluses and Corns\n"
     ]
    },
    {
     "name": "stderr",
     "output_type": "stream",
     "text": [
      "C:\\Users\\Raj\\AppData\\Local\\Temp\\ipykernel_29048\\2168445501.py:6: FutureWarning: The frame.append method is deprecated and will be removed from pandas in a future version. Use pandas.concat instead.\n",
      "  df = df.append(scrape_page(topic[\"topic\"], topic[\"url\"]), ignore_index=True)\n",
      " 13%|█▎        | 191/1452 [04:06<26:48,  1.28s/it]"
     ]
    },
    {
     "name": "stdout",
     "output_type": "stream",
     "text": [
      "Scraping Campylobacteriosis...\n",
      "Found 12 sections for Campylobacteriosis\n"
     ]
    },
    {
     "name": "stderr",
     "output_type": "stream",
     "text": [
      "C:\\Users\\Raj\\AppData\\Local\\Temp\\ipykernel_29048\\2168445501.py:6: FutureWarning: The frame.append method is deprecated and will be removed from pandas in a future version. Use pandas.concat instead.\n",
      "  df = df.append(scrape_page(topic[\"topic\"], topic[\"url\"]), ignore_index=True)\n",
      " 13%|█▎        | 192/1452 [04:07<26:28,  1.26s/it]"
     ]
    },
    {
     "name": "stdout",
     "output_type": "stream",
     "text": [
      "Scraping Canavan Disease...\n",
      "Found 7 sections for Canavan Disease\n"
     ]
    },
    {
     "name": "stderr",
     "output_type": "stream",
     "text": [
      "C:\\Users\\Raj\\AppData\\Local\\Temp\\ipykernel_29048\\2168445501.py:6: FutureWarning: The frame.append method is deprecated and will be removed from pandas in a future version. Use pandas.concat instead.\n",
      "  df = df.append(scrape_page(topic[\"topic\"], topic[\"url\"]), ignore_index=True)\n",
      " 13%|█▎        | 193/1452 [04:08<26:21,  1.26s/it]"
     ]
    },
    {
     "name": "stdout",
     "output_type": "stream",
     "text": [
      "Scraping Cancer of the Tongue...\n",
      "Found 7 sections for Cancer of the Tongue\n"
     ]
    },
    {
     "name": "stderr",
     "output_type": "stream",
     "text": [
      "C:\\Users\\Raj\\AppData\\Local\\Temp\\ipykernel_29048\\2168445501.py:6: FutureWarning: The frame.append method is deprecated and will be removed from pandas in a future version. Use pandas.concat instead.\n",
      "  df = df.append(scrape_page(topic[\"topic\"], topic[\"url\"]), ignore_index=True)\n",
      " 13%|█▎        | 194/1452 [04:10<26:37,  1.27s/it]"
     ]
    },
    {
     "name": "stdout",
     "output_type": "stream",
     "text": [
      "Scraping Cancer Pain...\n",
      "Found 5 sections for Cancer Pain\n"
     ]
    },
    {
     "name": "stderr",
     "output_type": "stream",
     "text": [
      "C:\\Users\\Raj\\AppData\\Local\\Temp\\ipykernel_29048\\2168445501.py:6: FutureWarning: The frame.append method is deprecated and will be removed from pandas in a future version. Use pandas.concat instead.\n",
      "  df = df.append(scrape_page(topic[\"topic\"], topic[\"url\"]), ignore_index=True)\n",
      " 13%|█▎        | 195/1452 [04:11<26:21,  1.26s/it]"
     ]
    },
    {
     "name": "stdout",
     "output_type": "stream",
     "text": [
      "Scraping Canefield Fever...\n",
      "Found 11 sections for Canefield Fever\n"
     ]
    },
    {
     "name": "stderr",
     "output_type": "stream",
     "text": [
      "C:\\Users\\Raj\\AppData\\Local\\Temp\\ipykernel_29048\\2168445501.py:6: FutureWarning: The frame.append method is deprecated and will be removed from pandas in a future version. Use pandas.concat instead.\n",
      "  df = df.append(scrape_page(topic[\"topic\"], topic[\"url\"]), ignore_index=True)\n",
      " 13%|█▎        | 196/1452 [04:12<26:10,  1.25s/it]"
     ]
    },
    {
     "name": "stdout",
     "output_type": "stream",
     "text": [
      "Scraping Canker Sores...\n",
      "Found 9 sections for Canker Sores\n"
     ]
    },
    {
     "name": "stderr",
     "output_type": "stream",
     "text": [
      "C:\\Users\\Raj\\AppData\\Local\\Temp\\ipykernel_29048\\2168445501.py:6: FutureWarning: The frame.append method is deprecated and will be removed from pandas in a future version. Use pandas.concat instead.\n",
      "  df = df.append(scrape_page(topic[\"topic\"], topic[\"url\"]), ignore_index=True)\n",
      " 14%|█▎        | 197/1452 [04:13<26:54,  1.29s/it]"
     ]
    },
    {
     "name": "stdout",
     "output_type": "stream",
     "text": [
      "Scraping Capsaicin...\n",
      "Found 6 sections for Capsaicin\n"
     ]
    },
    {
     "name": "stderr",
     "output_type": "stream",
     "text": [
      "C:\\Users\\Raj\\AppData\\Local\\Temp\\ipykernel_29048\\2168445501.py:6: FutureWarning: The frame.append method is deprecated and will be removed from pandas in a future version. Use pandas.concat instead.\n",
      "  df = df.append(scrape_page(topic[\"topic\"], topic[\"url\"]), ignore_index=True)\n",
      " 14%|█▎        | 198/1452 [04:15<26:39,  1.28s/it]"
     ]
    },
    {
     "name": "stdout",
     "output_type": "stream",
     "text": [
      "Scraping Car Seats for Children...\n",
      "Found 16 sections for Car Seats for Children\n"
     ]
    },
    {
     "name": "stderr",
     "output_type": "stream",
     "text": [
      "C:\\Users\\Raj\\AppData\\Local\\Temp\\ipykernel_29048\\2168445501.py:6: FutureWarning: The frame.append method is deprecated and will be removed from pandas in a future version. Use pandas.concat instead.\n",
      "  df = df.append(scrape_page(topic[\"topic\"], topic[\"url\"]), ignore_index=True)\n",
      " 14%|█▎        | 199/1452 [04:16<27:18,  1.31s/it]"
     ]
    },
    {
     "name": "stdout",
     "output_type": "stream",
     "text": [
      "Scraping Carbon Monoxide Poisoning...\n",
      "Found 6 sections for Carbon Monoxide Poisoning\n"
     ]
    },
    {
     "name": "stderr",
     "output_type": "stream",
     "text": [
      "C:\\Users\\Raj\\AppData\\Local\\Temp\\ipykernel_29048\\2168445501.py:6: FutureWarning: The frame.append method is deprecated and will be removed from pandas in a future version. Use pandas.concat instead.\n",
      "  df = df.append(scrape_page(topic[\"topic\"], topic[\"url\"]), ignore_index=True)\n",
      " 14%|█▍        | 200/1452 [04:17<26:44,  1.28s/it]"
     ]
    },
    {
     "name": "stdout",
     "output_type": "stream",
     "text": [
      "Scraping Carcinoid Apudoma...\n"
     ]
    },
    {
     "name": "stderr",
     "output_type": "stream",
     "text": [
      "C:\\Users\\Raj\\AppData\\Local\\Temp\\ipykernel_29048\\2168445501.py:6: FutureWarning: The frame.append method is deprecated and will be removed from pandas in a future version. Use pandas.concat instead.\n",
      "  df = df.append(scrape_page(topic[\"topic\"], topic[\"url\"]), ignore_index=True)\n",
      " 14%|█▍        | 201/1452 [04:19<26:47,  1.28s/it]"
     ]
    },
    {
     "name": "stdout",
     "output_type": "stream",
     "text": [
      "Scraping Carcinoid Syndrome...\n"
     ]
    },
    {
     "name": "stderr",
     "output_type": "stream",
     "text": [
      "C:\\Users\\Raj\\AppData\\Local\\Temp\\ipykernel_29048\\2168445501.py:6: FutureWarning: The frame.append method is deprecated and will be removed from pandas in a future version. Use pandas.concat instead.\n",
      "  df = df.append(scrape_page(topic[\"topic\"], topic[\"url\"]), ignore_index=True)\n",
      " 14%|█▍        | 202/1452 [04:20<26:50,  1.29s/it]"
     ]
    },
    {
     "name": "stdout",
     "output_type": "stream",
     "text": [
      "Scraping Catatonia...\n",
      "Found 5 sections for Catatonia\n"
     ]
    },
    {
     "name": "stderr",
     "output_type": "stream",
     "text": [
      "C:\\Users\\Raj\\AppData\\Local\\Temp\\ipykernel_29048\\2168445501.py:6: FutureWarning: The frame.append method is deprecated and will be removed from pandas in a future version. Use pandas.concat instead.\n",
      "  df = df.append(scrape_page(topic[\"topic\"], topic[\"url\"]), ignore_index=True)\n",
      " 14%|█▍        | 203/1452 [04:21<26:29,  1.27s/it]"
     ]
    },
    {
     "name": "stdout",
     "output_type": "stream",
     "text": [
      "Scraping Central Precocious Puberty...\n",
      "Found 13 sections for Central Precocious Puberty\n"
     ]
    },
    {
     "name": "stderr",
     "output_type": "stream",
     "text": [
      "C:\\Users\\Raj\\AppData\\Local\\Temp\\ipykernel_29048\\2168445501.py:6: FutureWarning: The frame.append method is deprecated and will be removed from pandas in a future version. Use pandas.concat instead.\n",
      "  df = df.append(scrape_page(topic[\"topic\"], topic[\"url\"]), ignore_index=True)\n",
      " 14%|█▍        | 204/1452 [04:22<26:18,  1.26s/it]"
     ]
    },
    {
     "name": "stdout",
     "output_type": "stream",
     "text": [
      "Scraping Cervical Ectropion...\n",
      "Found 6 sections for Cervical Ectropion\n"
     ]
    },
    {
     "name": "stderr",
     "output_type": "stream",
     "text": [
      "C:\\Users\\Raj\\AppData\\Local\\Temp\\ipykernel_29048\\2168445501.py:6: FutureWarning: The frame.append method is deprecated and will be removed from pandas in a future version. Use pandas.concat instead.\n",
      "  df = df.append(scrape_page(topic[\"topic\"], topic[\"url\"]), ignore_index=True)\n",
      " 14%|█▍        | 205/1452 [04:24<26:04,  1.25s/it]"
     ]
    },
    {
     "name": "stdout",
     "output_type": "stream",
     "text": [
      "Scraping CF (Cystic Fibrosis)...\n",
      "Found 6 sections for CF (Cystic Fibrosis)\n"
     ]
    },
    {
     "name": "stderr",
     "output_type": "stream",
     "text": [
      "C:\\Users\\Raj\\AppData\\Local\\Temp\\ipykernel_29048\\2168445501.py:6: FutureWarning: The frame.append method is deprecated and will be removed from pandas in a future version. Use pandas.concat instead.\n",
      "  df = df.append(scrape_page(topic[\"topic\"], topic[\"url\"]), ignore_index=True)\n",
      " 14%|█▍        | 206/1452 [04:25<26:01,  1.25s/it]"
     ]
    },
    {
     "name": "stdout",
     "output_type": "stream",
     "text": [
      "Scraping CFS...\n",
      "Found 5 sections for CFS\n"
     ]
    },
    {
     "name": "stderr",
     "output_type": "stream",
     "text": [
      "C:\\Users\\Raj\\AppData\\Local\\Temp\\ipykernel_29048\\2168445501.py:6: FutureWarning: The frame.append method is deprecated and will be removed from pandas in a future version. Use pandas.concat instead.\n",
      "  df = df.append(scrape_page(topic[\"topic\"], topic[\"url\"]), ignore_index=True)\n",
      " 14%|█▍        | 207/1452 [04:26<25:54,  1.25s/it]C:\\Users\\Raj\\AppData\\Local\\Temp\\ipykernel_29048\\2168445501.py:6: FutureWarning: The frame.append method is deprecated and will be removed from pandas in a future version. Use pandas.concat instead.\n",
      "  df = df.append(scrape_page(topic[\"topic\"], topic[\"url\"]), ignore_index=True)\n"
     ]
    },
    {
     "name": "stdout",
     "output_type": "stream",
     "text": [
      "Scraping CFS (Chronic Fatigue Syndrome)...\n",
      "Found 5 sections for CFS (Chronic Fatigue Syndrome)\n"
     ]
    },
    {
     "name": "stderr",
     "output_type": "stream",
     "text": [
      " 14%|█▍        | 208/1452 [04:27<25:29,  1.23s/it]C:\\Users\\Raj\\AppData\\Local\\Temp\\ipykernel_29048\\2168445501.py:6: FutureWarning: The frame.append method is deprecated and will be removed from pandas in a future version. Use pandas.concat instead.\n",
      "  df = df.append(scrape_page(topic[\"topic\"], topic[\"url\"]), ignore_index=True)\n"
     ]
    },
    {
     "name": "stdout",
     "output_type": "stream",
     "text": [
      "Scraping Chagas Disease...\n",
      "Found 7 sections for Chagas Disease\n"
     ]
    },
    {
     "name": "stderr",
     "output_type": "stream",
     "text": [
      " 14%|█▍        | 209/1452 [04:29<25:16,  1.22s/it]"
     ]
    },
    {
     "name": "stdout",
     "output_type": "stream",
     "text": [
      "Scraping Chalazia...\n",
      "Found 3 sections for Chalazia\n"
     ]
    },
    {
     "name": "stderr",
     "output_type": "stream",
     "text": [
      "C:\\Users\\Raj\\AppData\\Local\\Temp\\ipykernel_29048\\2168445501.py:6: FutureWarning: The frame.append method is deprecated and will be removed from pandas in a future version. Use pandas.concat instead.\n",
      "  df = df.append(scrape_page(topic[\"topic\"], topic[\"url\"]), ignore_index=True)\n",
      " 14%|█▍        | 210/1452 [04:30<25:30,  1.23s/it]"
     ]
    },
    {
     "name": "stdout",
     "output_type": "stream",
     "text": [
      "Scraping Chalazion...\n",
      "Found 8 sections for Chalazion\n"
     ]
    },
    {
     "name": "stderr",
     "output_type": "stream",
     "text": [
      "C:\\Users\\Raj\\AppData\\Local\\Temp\\ipykernel_29048\\2168445501.py:6: FutureWarning: The frame.append method is deprecated and will be removed from pandas in a future version. Use pandas.concat instead.\n",
      "  df = df.append(scrape_page(topic[\"topic\"], topic[\"url\"]), ignore_index=True)\n",
      " 15%|█▍        | 211/1452 [04:31<25:39,  1.24s/it]"
     ]
    },
    {
     "name": "stdout",
     "output_type": "stream",
     "text": [
      "Scraping Chamomile...\n",
      "Found 5 sections for Chamomile\n"
     ]
    },
    {
     "name": "stderr",
     "output_type": "stream",
     "text": [
      "C:\\Users\\Raj\\AppData\\Local\\Temp\\ipykernel_29048\\2168445501.py:6: FutureWarning: The frame.append method is deprecated and will be removed from pandas in a future version. Use pandas.concat instead.\n",
      "  df = df.append(scrape_page(topic[\"topic\"], topic[\"url\"]), ignore_index=True)\n",
      " 15%|█▍        | 212/1452 [04:32<25:40,  1.24s/it]"
     ]
    },
    {
     "name": "stdout",
     "output_type": "stream",
     "text": [
      "Scraping Chanarin Dorfman Disease...\n",
      "Found 10 sections for Chanarin Dorfman Disease\n"
     ]
    },
    {
     "name": "stderr",
     "output_type": "stream",
     "text": [
      "C:\\Users\\Raj\\AppData\\Local\\Temp\\ipykernel_29048\\2168445501.py:6: FutureWarning: The frame.append method is deprecated and will be removed from pandas in a future version. Use pandas.concat instead.\n",
      "  df = df.append(scrape_page(topic[\"topic\"], topic[\"url\"]), ignore_index=True)\n",
      " 15%|█▍        | 213/1452 [04:34<25:35,  1.24s/it]"
     ]
    },
    {
     "name": "stdout",
     "output_type": "stream",
     "text": [
      "Scraping Charcot-Marie-Tooth Disease...\n",
      "Found 8 sections for Charcot-Marie-Tooth Disease\n"
     ]
    },
    {
     "name": "stderr",
     "output_type": "stream",
     "text": [
      "C:\\Users\\Raj\\AppData\\Local\\Temp\\ipykernel_29048\\2168445501.py:6: FutureWarning: The frame.append method is deprecated and will be removed from pandas in a future version. Use pandas.concat instead.\n",
      "  df = df.append(scrape_page(topic[\"topic\"], topic[\"url\"]), ignore_index=True)\n",
      " 15%|█▍        | 214/1452 [04:35<29:39,  1.44s/it]"
     ]
    },
    {
     "name": "stdout",
     "output_type": "stream",
     "text": [
      "Scraping Chelation Therapy...\n",
      "Found 6 sections for Chelation Therapy\n"
     ]
    },
    {
     "name": "stderr",
     "output_type": "stream",
     "text": [
      "C:\\Users\\Raj\\AppData\\Local\\Temp\\ipykernel_29048\\2168445501.py:6: FutureWarning: The frame.append method is deprecated and will be removed from pandas in a future version. Use pandas.concat instead.\n",
      "  df = df.append(scrape_page(topic[\"topic\"], topic[\"url\"]), ignore_index=True)\n",
      " 15%|█▍        | 215/1452 [04:37<29:36,  1.44s/it]"
     ]
    },
    {
     "name": "stdout",
     "output_type": "stream",
     "text": [
      "Scraping CHF (Congestive Heart Failure)...\n",
      "Found 18 sections for CHF (Congestive Heart Failure)\n"
     ]
    },
    {
     "name": "stderr",
     "output_type": "stream",
     "text": [
      "C:\\Users\\Raj\\AppData\\Local\\Temp\\ipykernel_29048\\2168445501.py:6: FutureWarning: The frame.append method is deprecated and will be removed from pandas in a future version. Use pandas.concat instead.\n",
      "  df = df.append(scrape_page(topic[\"topic\"], topic[\"url\"]), ignore_index=True)\n",
      " 15%|█▍        | 216/1452 [04:38<28:32,  1.39s/it]"
     ]
    },
    {
     "name": "stdout",
     "output_type": "stream",
     "text": [
      "Scraping CHH...\n",
      "Found 7 sections for CHH\n"
     ]
    },
    {
     "name": "stderr",
     "output_type": "stream",
     "text": [
      "C:\\Users\\Raj\\AppData\\Local\\Temp\\ipykernel_29048\\2168445501.py:6: FutureWarning: The frame.append method is deprecated and will be removed from pandas in a future version. Use pandas.concat instead.\n",
      "  df = df.append(scrape_page(topic[\"topic\"], topic[\"url\"]), ignore_index=True)\n",
      " 15%|█▍        | 217/1452 [04:40<31:05,  1.51s/it]"
     ]
    },
    {
     "name": "stdout",
     "output_type": "stream",
     "text": [
      "Scraping Chi Gong...\n",
      "Found 6 sections for Chi Gong\n"
     ]
    },
    {
     "name": "stderr",
     "output_type": "stream",
     "text": [
      "C:\\Users\\Raj\\AppData\\Local\\Temp\\ipykernel_29048\\2168445501.py:6: FutureWarning: The frame.append method is deprecated and will be removed from pandas in a future version. Use pandas.concat instead.\n",
      "  df = df.append(scrape_page(topic[\"topic\"], topic[\"url\"]), ignore_index=True)\n",
      " 15%|█▌        | 218/1452 [04:41<29:26,  1.43s/it]"
     ]
    },
    {
     "name": "stdout",
     "output_type": "stream",
     "text": [
      "Scraping Chiari-Budd Syndrome...\n"
     ]
    },
    {
     "name": "stderr",
     "output_type": "stream",
     "text": [
      "C:\\Users\\Raj\\AppData\\Local\\Temp\\ipykernel_29048\\2168445501.py:6: FutureWarning: The frame.append method is deprecated and will be removed from pandas in a future version. Use pandas.concat instead.\n",
      "  df = df.append(scrape_page(topic[\"topic\"], topic[\"url\"]), ignore_index=True)\n",
      " 15%|█▌        | 219/1452 [04:42<28:12,  1.37s/it]"
     ]
    },
    {
     "name": "stdout",
     "output_type": "stream",
     "text": [
      "Scraping Chickenpox (Varicella)...\n",
      "Found 4 sections for Chickenpox (Varicella)\n"
     ]
    },
    {
     "name": "stderr",
     "output_type": "stream",
     "text": [
      "C:\\Users\\Raj\\AppData\\Local\\Temp\\ipykernel_29048\\2168445501.py:6: FutureWarning: The frame.append method is deprecated and will be removed from pandas in a future version. Use pandas.concat instead.\n",
      "  df = df.append(scrape_page(topic[\"topic\"], topic[\"url\"]), ignore_index=True)\n",
      " 15%|█▌        | 220/1452 [04:44<27:23,  1.33s/it]"
     ]
    },
    {
     "name": "stdout",
     "output_type": "stream",
     "text": [
      "Scraping CHIK...\n",
      "Found 7 sections for CHIK\n"
     ]
    },
    {
     "name": "stderr",
     "output_type": "stream",
     "text": [
      "C:\\Users\\Raj\\AppData\\Local\\Temp\\ipykernel_29048\\2168445501.py:6: FutureWarning: The frame.append method is deprecated and will be removed from pandas in a future version. Use pandas.concat instead.\n",
      "  df = df.append(scrape_page(topic[\"topic\"], topic[\"url\"]), ignore_index=True)\n",
      " 15%|█▌        | 221/1452 [04:45<26:49,  1.31s/it]"
     ]
    },
    {
     "name": "stdout",
     "output_type": "stream",
     "text": [
      "Scraping Chilblains...\n",
      "Found 12 sections for Chilblains\n"
     ]
    },
    {
     "name": "stderr",
     "output_type": "stream",
     "text": [
      "C:\\Users\\Raj\\AppData\\Local\\Temp\\ipykernel_29048\\2168445501.py:6: FutureWarning: The frame.append method is deprecated and will be removed from pandas in a future version. Use pandas.concat instead.\n",
      "  df = df.append(scrape_page(topic[\"topic\"], topic[\"url\"]), ignore_index=True)\n",
      " 15%|█▌        | 222/1452 [04:46<26:19,  1.28s/it]C:\\Users\\Raj\\AppData\\Local\\Temp\\ipykernel_29048\\2168445501.py:6: FutureWarning: The frame.append method is deprecated and will be removed from pandas in a future version. Use pandas.concat instead.\n",
      "  df = df.append(scrape_page(topic[\"topic\"], topic[\"url\"]), ignore_index=True)\n"
     ]
    },
    {
     "name": "stdout",
     "output_type": "stream",
     "text": [
      "Scraping Child Abuse...\n",
      "Found 12 sections for Child Abuse\n"
     ]
    },
    {
     "name": "stderr",
     "output_type": "stream",
     "text": [
      " 15%|█▌        | 223/1452 [04:47<25:52,  1.26s/it]"
     ]
    },
    {
     "name": "stdout",
     "output_type": "stream",
     "text": [
      "Scraping Child Care...\n",
      "Found 7 sections for Child Care\n"
     ]
    },
    {
     "name": "stderr",
     "output_type": "stream",
     "text": [
      "C:\\Users\\Raj\\AppData\\Local\\Temp\\ipykernel_29048\\2168445501.py:6: FutureWarning: The frame.append method is deprecated and will be removed from pandas in a future version. Use pandas.concat instead.\n",
      "  df = df.append(scrape_page(topic[\"topic\"], topic[\"url\"]), ignore_index=True)\n",
      " 15%|█▌        | 224/1452 [04:49<26:41,  1.30s/it]C:\\Users\\Raj\\AppData\\Local\\Temp\\ipykernel_29048\\2168445501.py:6: FutureWarning: The frame.append method is deprecated and will be removed from pandas in a future version. Use pandas.concat instead.\n",
      "  df = df.append(scrape_page(topic[\"topic\"], topic[\"url\"]), ignore_index=True)\n"
     ]
    },
    {
     "name": "stdout",
     "output_type": "stream",
     "text": [
      "Scraping CHILD Naevus...\n",
      "Found 10 sections for CHILD Naevus\n"
     ]
    },
    {
     "name": "stderr",
     "output_type": "stream",
     "text": [
      " 15%|█▌        | 225/1452 [04:50<25:57,  1.27s/it]"
     ]
    },
    {
     "name": "stdout",
     "output_type": "stream",
     "text": [
      "Scraping Childbirth...\n",
      "Found 8 sections for Childbirth\n"
     ]
    },
    {
     "name": "stderr",
     "output_type": "stream",
     "text": [
      "C:\\Users\\Raj\\AppData\\Local\\Temp\\ipykernel_29048\\2168445501.py:6: FutureWarning: The frame.append method is deprecated and will be removed from pandas in a future version. Use pandas.concat instead.\n",
      "  df = df.append(scrape_page(topic[\"topic\"], topic[\"url\"]), ignore_index=True)\n",
      " 16%|█▌        | 226/1452 [04:51<25:44,  1.26s/it]"
     ]
    },
    {
     "name": "stdout",
     "output_type": "stream",
     "text": [
      "Scraping Childhood Cyclic Vomiting...\n",
      "Found 12 sections for Childhood Cyclic Vomiting\n"
     ]
    },
    {
     "name": "stderr",
     "output_type": "stream",
     "text": [
      "C:\\Users\\Raj\\AppData\\Local\\Temp\\ipykernel_29048\\2168445501.py:6: FutureWarning: The frame.append method is deprecated and will be removed from pandas in a future version. Use pandas.concat instead.\n",
      "  df = df.append(scrape_page(topic[\"topic\"], topic[\"url\"]), ignore_index=True)\n",
      " 16%|█▌        | 227/1452 [04:53<26:26,  1.30s/it]"
     ]
    },
    {
     "name": "stdout",
     "output_type": "stream",
     "text": [
      "Scraping Childhood Depression...\n",
      "Found 12 sections for Childhood Depression\n"
     ]
    },
    {
     "name": "stderr",
     "output_type": "stream",
     "text": [
      "C:\\Users\\Raj\\AppData\\Local\\Temp\\ipykernel_29048\\2168445501.py:6: FutureWarning: The frame.append method is deprecated and will be removed from pandas in a future version. Use pandas.concat instead.\n",
      "  df = df.append(scrape_page(topic[\"topic\"], topic[\"url\"]), ignore_index=True)\n",
      " 16%|█▌        | 228/1452 [04:54<26:01,  1.28s/it]"
     ]
    },
    {
     "name": "stdout",
     "output_type": "stream",
     "text": [
      "Scraping Childhood Giant Axonal Neuropathy...\n"
     ]
    },
    {
     "name": "stderr",
     "output_type": "stream",
     "text": [
      "C:\\Users\\Raj\\AppData\\Local\\Temp\\ipykernel_29048\\2168445501.py:6: FutureWarning: The frame.append method is deprecated and will be removed from pandas in a future version. Use pandas.concat instead.\n",
      "  df = df.append(scrape_page(topic[\"topic\"], topic[\"url\"]), ignore_index=True)\n",
      " 16%|█▌        | 229/1452 [04:55<26:07,  1.28s/it]"
     ]
    },
    {
     "name": "stdout",
     "output_type": "stream",
     "text": [
      "Scraping Childhood Muscular Dystrophy...\n",
      "Found 13 sections for Childhood Muscular Dystrophy\n"
     ]
    },
    {
     "name": "stderr",
     "output_type": "stream",
     "text": [
      "C:\\Users\\Raj\\AppData\\Local\\Temp\\ipykernel_29048\\2168445501.py:6: FutureWarning: The frame.append method is deprecated and will be removed from pandas in a future version. Use pandas.concat instead.\n",
      "  df = df.append(scrape_page(topic[\"topic\"], topic[\"url\"]), ignore_index=True)\n",
      " 16%|█▌        | 230/1452 [04:56<25:57,  1.27s/it]"
     ]
    },
    {
     "name": "stdout",
     "output_type": "stream",
     "text": [
      "Scraping Childhood Obesity...\n"
     ]
    },
    {
     "name": "stderr",
     "output_type": "stream",
     "text": [
      "C:\\Users\\Raj\\AppData\\Local\\Temp\\ipykernel_29048\\2168445501.py:6: FutureWarning: The frame.append method is deprecated and will be removed from pandas in a future version. Use pandas.concat instead.\n",
      "  df = df.append(scrape_page(topic[\"topic\"], topic[\"url\"]), ignore_index=True)\n",
      " 16%|█▌        | 231/1452 [04:58<28:24,  1.40s/it]"
     ]
    },
    {
     "name": "stdout",
     "output_type": "stream",
     "text": [
      "Scraping Children - Childhood Skin Problems Slideshow...\n"
     ]
    },
    {
     "name": "stderr",
     "output_type": "stream",
     "text": [
      "C:\\Users\\Raj\\AppData\\Local\\Temp\\ipykernel_29048\\2168445501.py:6: FutureWarning: The frame.append method is deprecated and will be removed from pandas in a future version. Use pandas.concat instead.\n",
      "  df = df.append(scrape_page(topic[\"topic\"], topic[\"url\"]), ignore_index=True)\n",
      " 16%|█▌        | 232/1452 [04:59<27:27,  1.35s/it]"
     ]
    },
    {
     "name": "stdout",
     "output_type": "stream",
     "text": [
      "Scraping Children's Healthy Eating...\n",
      "Found 3 sections for Children's Healthy Eating\n"
     ]
    },
    {
     "name": "stderr",
     "output_type": "stream",
     "text": [
      "C:\\Users\\Raj\\AppData\\Local\\Temp\\ipykernel_29048\\2168445501.py:6: FutureWarning: The frame.append method is deprecated and will be removed from pandas in a future version. Use pandas.concat instead.\n",
      "  df = df.append(scrape_page(topic[\"topic\"], topic[\"url\"]), ignore_index=True)\n",
      " 16%|█▌        | 233/1452 [05:01<27:04,  1.33s/it]C:\\Users\\Raj\\AppData\\Local\\Temp\\ipykernel_29048\\2168445501.py:6: FutureWarning: The frame.append method is deprecated and will be removed from pandas in a future version. Use pandas.concat instead.\n",
      "  df = df.append(scrape_page(topic[\"topic\"], topic[\"url\"]), ignore_index=True)\n"
     ]
    },
    {
     "name": "stdout",
     "output_type": "stream",
     "text": [
      "Scraping Children's Hygiene...\n",
      "Found 16 sections for Children's Hygiene\n"
     ]
    },
    {
     "name": "stderr",
     "output_type": "stream",
     "text": [
      " 16%|█▌        | 234/1452 [05:02<26:19,  1.30s/it]"
     ]
    },
    {
     "name": "stdout",
     "output_type": "stream",
     "text": [
      "Scraping Chinese Medicine...\n",
      "Found 10 sections for Chinese Medicine\n"
     ]
    },
    {
     "name": "stderr",
     "output_type": "stream",
     "text": [
      "C:\\Users\\Raj\\AppData\\Local\\Temp\\ipykernel_29048\\2168445501.py:6: FutureWarning: The frame.append method is deprecated and will be removed from pandas in a future version. Use pandas.concat instead.\n",
      "  df = df.append(scrape_page(topic[\"topic\"], topic[\"url\"]), ignore_index=True)\n",
      " 16%|█▌        | 235/1452 [05:03<26:45,  1.32s/it]"
     ]
    },
    {
     "name": "stdout",
     "output_type": "stream",
     "text": [
      "Scraping Chronic Lymphocytic Leukemia...\n",
      "Found 14 sections for Chronic Lymphocytic Leukemia\n"
     ]
    },
    {
     "name": "stderr",
     "output_type": "stream",
     "text": [
      "C:\\Users\\Raj\\AppData\\Local\\Temp\\ipykernel_29048\\2168445501.py:6: FutureWarning: The frame.append method is deprecated and will be removed from pandas in a future version. Use pandas.concat instead.\n",
      "  df = df.append(scrape_page(topic[\"topic\"], topic[\"url\"]), ignore_index=True)\n",
      " 16%|█▋        | 236/1452 [05:04<26:24,  1.30s/it]"
     ]
    },
    {
     "name": "stdout",
     "output_type": "stream",
     "text": [
      "Scraping Chronic Myeloid Leukemia...\n",
      "Found 10 sections for Chronic Myeloid Leukemia\n"
     ]
    },
    {
     "name": "stderr",
     "output_type": "stream",
     "text": [
      "C:\\Users\\Raj\\AppData\\Local\\Temp\\ipykernel_29048\\2168445501.py:6: FutureWarning: The frame.append method is deprecated and will be removed from pandas in a future version. Use pandas.concat instead.\n",
      "  df = df.append(scrape_page(topic[\"topic\"], topic[\"url\"]), ignore_index=True)\n",
      " 16%|█▋        | 237/1452 [05:06<26:01,  1.28s/it]"
     ]
    },
    {
     "name": "stdout",
     "output_type": "stream",
     "text": [
      "Scraping Classic Galactosemia...\n",
      "Found 6 sections for Classic Galactosemia\n"
     ]
    },
    {
     "name": "stderr",
     "output_type": "stream",
     "text": [
      "C:\\Users\\Raj\\AppData\\Local\\Temp\\ipykernel_29048\\2168445501.py:6: FutureWarning: The frame.append method is deprecated and will be removed from pandas in a future version. Use pandas.concat instead.\n",
      "  df = df.append(scrape_page(topic[\"topic\"], topic[\"url\"]), ignore_index=True)\n",
      " 16%|█▋        | 238/1452 [05:07<25:41,  1.27s/it]"
     ]
    },
    {
     "name": "stdout",
     "output_type": "stream",
     "text": [
      "Scraping Classic Type Pfeiffer Syndrome...\n",
      "Found 8 sections for Classic Type Pfeiffer Syndrome\n"
     ]
    },
    {
     "name": "stderr",
     "output_type": "stream",
     "text": [
      "C:\\Users\\Raj\\AppData\\Local\\Temp\\ipykernel_29048\\2168445501.py:6: FutureWarning: The frame.append method is deprecated and will be removed from pandas in a future version. Use pandas.concat instead.\n",
      "  df = df.append(scrape_page(topic[\"topic\"], topic[\"url\"]), ignore_index=True)\n",
      " 16%|█▋        | 239/1452 [05:09<30:05,  1.49s/it]"
     ]
    },
    {
     "name": "stdout",
     "output_type": "stream",
     "text": [
      "Scraping Cleaning and Bandaging a Wound...\n",
      "Found 7 sections for Cleaning and Bandaging a Wound\n"
     ]
    },
    {
     "name": "stderr",
     "output_type": "stream",
     "text": [
      "C:\\Users\\Raj\\AppData\\Local\\Temp\\ipykernel_29048\\2168445501.py:6: FutureWarning: The frame.append method is deprecated and will be removed from pandas in a future version. Use pandas.concat instead.\n",
      "  df = df.append(scrape_page(topic[\"topic\"], topic[\"url\"]), ignore_index=True)\n",
      " 17%|█▋        | 240/1452 [05:10<28:32,  1.41s/it]"
     ]
    },
    {
     "name": "stdout",
     "output_type": "stream",
     "text": [
      "Scraping Cleft Lip...\n",
      "Found 9 sections for Cleft Lip\n"
     ]
    },
    {
     "name": "stderr",
     "output_type": "stream",
     "text": [
      "C:\\Users\\Raj\\AppData\\Local\\Temp\\ipykernel_29048\\2168445501.py:6: FutureWarning: The frame.append method is deprecated and will be removed from pandas in a future version. Use pandas.concat instead.\n",
      "  df = df.append(scrape_page(topic[\"topic\"], topic[\"url\"]), ignore_index=True)\n",
      " 17%|█▋        | 241/1452 [05:11<27:20,  1.35s/it]"
     ]
    },
    {
     "name": "stdout",
     "output_type": "stream",
     "text": [
      "Scraping Clival Chordoma...\n",
      "Found 7 sections for Clival Chordoma\n"
     ]
    },
    {
     "name": "stderr",
     "output_type": "stream",
     "text": [
      "C:\\Users\\Raj\\AppData\\Local\\Temp\\ipykernel_29048\\2168445501.py:6: FutureWarning: The frame.append method is deprecated and will be removed from pandas in a future version. Use pandas.concat instead.\n",
      "  df = df.append(scrape_page(topic[\"topic\"], topic[\"url\"]), ignore_index=True)\n",
      " 17%|█▋        | 242/1452 [05:13<26:35,  1.32s/it]"
     ]
    },
    {
     "name": "stdout",
     "output_type": "stream",
     "text": [
      "Scraping Cloning...\n",
      "Found 9 sections for Cloning\n"
     ]
    },
    {
     "name": "stderr",
     "output_type": "stream",
     "text": [
      "C:\\Users\\Raj\\AppData\\Local\\Temp\\ipykernel_29048\\2168445501.py:6: FutureWarning: The frame.append method is deprecated and will be removed from pandas in a future version. Use pandas.concat instead.\n",
      "  df = df.append(scrape_page(topic[\"topic\"], topic[\"url\"]), ignore_index=True)\n",
      " 17%|█▋        | 243/1452 [05:14<26:06,  1.30s/it]"
     ]
    },
    {
     "name": "stdout",
     "output_type": "stream",
     "text": [
      "Scraping Clostridium Difficile Colitis...\n",
      "Found 10 sections for Clostridium Difficile Colitis\n"
     ]
    },
    {
     "name": "stderr",
     "output_type": "stream",
     "text": [
      "C:\\Users\\Raj\\AppData\\Local\\Temp\\ipykernel_29048\\2168445501.py:6: FutureWarning: The frame.append method is deprecated and will be removed from pandas in a future version. Use pandas.concat instead.\n",
      "  df = df.append(scrape_page(topic[\"topic\"], topic[\"url\"]), ignore_index=True)\n",
      " 17%|█▋        | 244/1452 [05:15<25:50,  1.28s/it]C:\\Users\\Raj\\AppData\\Local\\Temp\\ipykernel_29048\\2168445501.py:6: FutureWarning: The frame.append method is deprecated and will be removed from pandas in a future version. Use pandas.concat instead.\n",
      "  df = df.append(scrape_page(topic[\"topic\"], topic[\"url\"]), ignore_index=True)\n"
     ]
    },
    {
     "name": "stdout",
     "output_type": "stream",
     "text": [
      "Scraping Clubfoot...\n",
      "Found 6 sections for Clubfoot\n"
     ]
    },
    {
     "name": "stderr",
     "output_type": "stream",
     "text": [
      " 17%|█▋        | 245/1452 [05:16<25:20,  1.26s/it]"
     ]
    },
    {
     "name": "stdout",
     "output_type": "stream",
     "text": [
      "Scraping Cluster Headaches...\n",
      "Found 14 sections for Cluster Headaches\n"
     ]
    },
    {
     "name": "stderr",
     "output_type": "stream",
     "text": [
      "C:\\Users\\Raj\\AppData\\Local\\Temp\\ipykernel_29048\\2168445501.py:6: FutureWarning: The frame.append method is deprecated and will be removed from pandas in a future version. Use pandas.concat instead.\n",
      "  df = df.append(scrape_page(topic[\"topic\"], topic[\"url\"]), ignore_index=True)\n",
      " 17%|█▋        | 246/1452 [05:18<25:21,  1.26s/it]"
     ]
    },
    {
     "name": "stdout",
     "output_type": "stream",
     "text": [
      "Scraping CMTC...\n",
      "Found 7 sections for CMTC\n"
     ]
    },
    {
     "name": "stderr",
     "output_type": "stream",
     "text": [
      "C:\\Users\\Raj\\AppData\\Local\\Temp\\ipykernel_29048\\2168445501.py:6: FutureWarning: The frame.append method is deprecated and will be removed from pandas in a future version. Use pandas.concat instead.\n",
      "  df = df.append(scrape_page(topic[\"topic\"], topic[\"url\"]), ignore_index=True)\n",
      " 17%|█▋        | 247/1452 [05:19<25:22,  1.26s/it]"
     ]
    },
    {
     "name": "stdout",
     "output_type": "stream",
     "text": [
      "Scraping CMV...\n",
      "Found 8 sections for CMV\n"
     ]
    },
    {
     "name": "stderr",
     "output_type": "stream",
     "text": [
      "C:\\Users\\Raj\\AppData\\Local\\Temp\\ipykernel_29048\\2168445501.py:6: FutureWarning: The frame.append method is deprecated and will be removed from pandas in a future version. Use pandas.concat instead.\n",
      "  df = df.append(scrape_page(topic[\"topic\"], topic[\"url\"]), ignore_index=True)\n",
      " 17%|█▋        | 248/1452 [05:20<25:18,  1.26s/it]"
     ]
    },
    {
     "name": "stdout",
     "output_type": "stream",
     "text": [
      "Scraping Cochlear Implants...\n",
      "Found 11 sections for Cochlear Implants\n"
     ]
    },
    {
     "name": "stderr",
     "output_type": "stream",
     "text": [
      "C:\\Users\\Raj\\AppData\\Local\\Temp\\ipykernel_29048\\2168445501.py:6: FutureWarning: The frame.append method is deprecated and will be removed from pandas in a future version. Use pandas.concat instead.\n",
      "  df = df.append(scrape_page(topic[\"topic\"], topic[\"url\"]), ignore_index=True)\n",
      " 17%|█▋        | 249/1452 [05:21<25:30,  1.27s/it]"
     ]
    },
    {
     "name": "stdout",
     "output_type": "stream",
     "text": [
      "Scraping Coenzyme Q10...\n",
      "Found 6 sections for Coenzyme Q10\n"
     ]
    },
    {
     "name": "stderr",
     "output_type": "stream",
     "text": [
      "C:\\Users\\Raj\\AppData\\Local\\Temp\\ipykernel_29048\\2168445501.py:6: FutureWarning: The frame.append method is deprecated and will be removed from pandas in a future version. Use pandas.concat instead.\n",
      "  df = df.append(scrape_page(topic[\"topic\"], topic[\"url\"]), ignore_index=True)\n",
      " 17%|█▋        | 250/1452 [05:23<25:21,  1.27s/it]C:\\Users\\Raj\\AppData\\Local\\Temp\\ipykernel_29048\\2168445501.py:6: FutureWarning: The frame.append method is deprecated and will be removed from pandas in a future version. Use pandas.concat instead.\n",
      "  df = df.append(scrape_page(topic[\"topic\"], topic[\"url\"]), ignore_index=True)\n"
     ]
    },
    {
     "name": "stdout",
     "output_type": "stream",
     "text": [
      "Scraping Cold Agglutinin Disease...\n",
      "Found 9 sections for Cold Agglutinin Disease\n"
     ]
    },
    {
     "name": "stderr",
     "output_type": "stream",
     "text": [
      " 17%|█▋        | 251/1452 [05:24<25:04,  1.25s/it]"
     ]
    },
    {
     "name": "stdout",
     "output_type": "stream",
     "text": [
      "Scraping Cold Packs...\n",
      "Found 8 sections for Cold Packs\n"
     ]
    },
    {
     "name": "stderr",
     "output_type": "stream",
     "text": [
      "C:\\Users\\Raj\\AppData\\Local\\Temp\\ipykernel_29048\\2168445501.py:6: FutureWarning: The frame.append method is deprecated and will be removed from pandas in a future version. Use pandas.concat instead.\n",
      "  df = df.append(scrape_page(topic[\"topic\"], topic[\"url\"]), ignore_index=True)\n",
      " 17%|█▋        | 252/1452 [05:25<25:59,  1.30s/it]"
     ]
    },
    {
     "name": "stdout",
     "output_type": "stream",
     "text": [
      "Scraping Cold Sores...\n",
      "Found 9 sections for Cold Sores\n"
     ]
    },
    {
     "name": "stderr",
     "output_type": "stream",
     "text": [
      "C:\\Users\\Raj\\AppData\\Local\\Temp\\ipykernel_29048\\2168445501.py:6: FutureWarning: The frame.append method is deprecated and will be removed from pandas in a future version. Use pandas.concat instead.\n",
      "  df = df.append(scrape_page(topic[\"topic\"], topic[\"url\"]), ignore_index=True)\n",
      " 17%|█▋        | 253/1452 [05:26<25:43,  1.29s/it]C:\\Users\\Raj\\AppData\\Local\\Temp\\ipykernel_29048\\2168445501.py:6: FutureWarning: The frame.append method is deprecated and will be removed from pandas in a future version. Use pandas.concat instead.\n",
      "  df = df.append(scrape_page(topic[\"topic\"], topic[\"url\"]), ignore_index=True)\n"
     ]
    },
    {
     "name": "stdout",
     "output_type": "stream",
     "text": [
      "Scraping Colic...\n",
      "Found 7 sections for Colic\n"
     ]
    },
    {
     "name": "stderr",
     "output_type": "stream",
     "text": [
      " 17%|█▋        | 254/1452 [05:28<25:15,  1.27s/it]"
     ]
    },
    {
     "name": "stdout",
     "output_type": "stream",
     "text": [
      "Scraping Colitis...\n",
      "Found 8 sections for Colitis\n"
     ]
    },
    {
     "name": "stderr",
     "output_type": "stream",
     "text": [
      "C:\\Users\\Raj\\AppData\\Local\\Temp\\ipykernel_29048\\2168445501.py:6: FutureWarning: The frame.append method is deprecated and will be removed from pandas in a future version. Use pandas.concat instead.\n",
      "  df = df.append(scrape_page(topic[\"topic\"], topic[\"url\"]), ignore_index=True)\n",
      " 18%|█▊        | 255/1452 [05:29<25:43,  1.29s/it]C:\\Users\\Raj\\AppData\\Local\\Temp\\ipykernel_29048\\2168445501.py:6: FutureWarning: The frame.append method is deprecated and will be removed from pandas in a future version. Use pandas.concat instead.\n",
      "  df = df.append(scrape_page(topic[\"topic\"], topic[\"url\"]), ignore_index=True)\n"
     ]
    },
    {
     "name": "stdout",
     "output_type": "stream",
     "text": [
      "Scraping Colitis Gravis...\n",
      "Found 8 sections for Colitis Gravis\n"
     ]
    },
    {
     "name": "stderr",
     "output_type": "stream",
     "text": [
      " 18%|█▊        | 256/1452 [05:30<25:05,  1.26s/it]"
     ]
    },
    {
     "name": "stdout",
     "output_type": "stream",
     "text": [
      "Scraping Coronavirus (COVID-19)...\n",
      "Found 31 sections for Coronavirus (COVID-19)\n"
     ]
    },
    {
     "name": "stderr",
     "output_type": "stream",
     "text": [
      "C:\\Users\\Raj\\AppData\\Local\\Temp\\ipykernel_29048\\2168445501.py:6: FutureWarning: The frame.append method is deprecated and will be removed from pandas in a future version. Use pandas.concat instead.\n",
      "  df = df.append(scrape_page(topic[\"topic\"], topic[\"url\"]), ignore_index=True)\n",
      " 18%|█▊        | 257/1452 [05:31<25:07,  1.26s/it]"
     ]
    },
    {
     "name": "stdout",
     "output_type": "stream",
     "text": [
      "Scraping Coronavirus (COVID-19), Complicaitons...\n",
      "Found 14 sections for Coronavirus (COVID-19), Complicaitons\n"
     ]
    },
    {
     "name": "stderr",
     "output_type": "stream",
     "text": [
      "C:\\Users\\Raj\\AppData\\Local\\Temp\\ipykernel_29048\\2168445501.py:6: FutureWarning: The frame.append method is deprecated and will be removed from pandas in a future version. Use pandas.concat instead.\n",
      "  df = df.append(scrape_page(topic[\"topic\"], topic[\"url\"]), ignore_index=True)\n",
      " 18%|█▊        | 258/1452 [05:33<24:59,  1.26s/it]C:\\Users\\Raj\\AppData\\Local\\Temp\\ipykernel_29048\\2168445501.py:6: FutureWarning: The frame.append method is deprecated and will be removed from pandas in a future version. Use pandas.concat instead.\n",
      "  df = df.append(scrape_page(topic[\"topic\"], topic[\"url\"]), ignore_index=True)\n"
     ]
    },
    {
     "name": "stdout",
     "output_type": "stream",
     "text": [
      "Scraping Coronavirus (COVID-19) and Asthma...\n",
      "Found 9 sections for Coronavirus (COVID-19) and Asthma\n"
     ]
    },
    {
     "name": "stderr",
     "output_type": "stream",
     "text": [
      " 18%|█▊        | 259/1452 [05:34<24:46,  1.25s/it]"
     ]
    },
    {
     "name": "stdout",
     "output_type": "stream",
     "text": [
      "Scraping Coronavirus (COVID-19) and High Blood Pressure...\n",
      "Found 7 sections for Coronavirus (COVID-19) and High Blood Pressure\n"
     ]
    },
    {
     "name": "stderr",
     "output_type": "stream",
     "text": [
      "C:\\Users\\Raj\\AppData\\Local\\Temp\\ipykernel_29048\\2168445501.py:6: FutureWarning: The frame.append method is deprecated and will be removed from pandas in a future version. Use pandas.concat instead.\n",
      "  df = df.append(scrape_page(topic[\"topic\"], topic[\"url\"]), ignore_index=True)\n",
      " 18%|█▊        | 260/1452 [05:35<24:46,  1.25s/it]"
     ]
    },
    {
     "name": "stdout",
     "output_type": "stream",
     "text": [
      "Scraping Coronavirus (COVID-19) and Pregnancy...\n",
      "Found 11 sections for Coronavirus (COVID-19) and Pregnancy\n"
     ]
    },
    {
     "name": "stderr",
     "output_type": "stream",
     "text": [
      "C:\\Users\\Raj\\AppData\\Local\\Temp\\ipykernel_29048\\2168445501.py:6: FutureWarning: The frame.append method is deprecated and will be removed from pandas in a future version. Use pandas.concat instead.\n",
      "  df = df.append(scrape_page(topic[\"topic\"], topic[\"url\"]), ignore_index=True)\n",
      " 18%|█▊        | 261/1452 [05:36<24:44,  1.25s/it]"
     ]
    },
    {
     "name": "stdout",
     "output_type": "stream",
     "text": [
      "Scraping Coronavirus (COVID-19) in Children, Infants...\n",
      "Found 13 sections for Coronavirus (COVID-19) in Children, Infants\n"
     ]
    },
    {
     "name": "stderr",
     "output_type": "stream",
     "text": [
      "C:\\Users\\Raj\\AppData\\Local\\Temp\\ipykernel_29048\\2168445501.py:6: FutureWarning: The frame.append method is deprecated and will be removed from pandas in a future version. Use pandas.concat instead.\n",
      "  df = df.append(scrape_page(topic[\"topic\"], topic[\"url\"]), ignore_index=True)\n",
      " 18%|█▊        | 262/1452 [05:38<24:40,  1.24s/it]"
     ]
    },
    {
     "name": "stdout",
     "output_type": "stream",
     "text": [
      "Scraping Coronavirus (COVID-19), Recovery...\n",
      "Found 10 sections for Coronavirus (COVID-19), Recovery\n"
     ]
    },
    {
     "name": "stderr",
     "output_type": "stream",
     "text": [
      "C:\\Users\\Raj\\AppData\\Local\\Temp\\ipykernel_29048\\2168445501.py:6: FutureWarning: The frame.append method is deprecated and will be removed from pandas in a future version. Use pandas.concat instead.\n",
      "  df = df.append(scrape_page(topic[\"topic\"], topic[\"url\"]), ignore_index=True)\n",
      " 18%|█▊        | 263/1452 [05:39<24:35,  1.24s/it]"
     ]
    },
    {
     "name": "stdout",
     "output_type": "stream",
     "text": [
      "Scraping Coronavirus (COVID-19), Symptoms...\n",
      "Found 17 sections for Coronavirus (COVID-19), Symptoms\n"
     ]
    },
    {
     "name": "stderr",
     "output_type": "stream",
     "text": [
      "C:\\Users\\Raj\\AppData\\Local\\Temp\\ipykernel_29048\\2168445501.py:6: FutureWarning: The frame.append method is deprecated and will be removed from pandas in a future version. Use pandas.concat instead.\n",
      "  df = df.append(scrape_page(topic[\"topic\"], topic[\"url\"]), ignore_index=True)\n",
      " 18%|█▊        | 264/1452 [05:40<24:32,  1.24s/it]"
     ]
    },
    {
     "name": "stdout",
     "output_type": "stream",
     "text": [
      "Scraping Coronavirus (COVID-19), Testing at Home...\n",
      "Found 18 sections for Coronavirus (COVID-19), Testing at Home\n"
     ]
    },
    {
     "name": "stderr",
     "output_type": "stream",
     "text": [
      "C:\\Users\\Raj\\AppData\\Local\\Temp\\ipykernel_29048\\2168445501.py:6: FutureWarning: The frame.append method is deprecated and will be removed from pandas in a future version. Use pandas.concat instead.\n",
      "  df = df.append(scrape_page(topic[\"topic\"], topic[\"url\"]), ignore_index=True)\n",
      " 18%|█▊        | 265/1452 [05:41<24:36,  1.24s/it]"
     ]
    },
    {
     "name": "stdout",
     "output_type": "stream",
     "text": [
      "Scraping Coronavirus (COVID-19), Testing...\n",
      "Found 14 sections for Coronavirus (COVID-19), Testing\n"
     ]
    },
    {
     "name": "stderr",
     "output_type": "stream",
     "text": [
      "C:\\Users\\Raj\\AppData\\Local\\Temp\\ipykernel_29048\\2168445501.py:6: FutureWarning: The frame.append method is deprecated and will be removed from pandas in a future version. Use pandas.concat instead.\n",
      "  df = df.append(scrape_page(topic[\"topic\"], topic[\"url\"]), ignore_index=True)\n",
      " 18%|█▊        | 266/1452 [05:43<24:35,  1.24s/it]C:\\Users\\Raj\\AppData\\Local\\Temp\\ipykernel_29048\\2168445501.py:6: FutureWarning: The frame.append method is deprecated and will be removed from pandas in a future version. Use pandas.concat instead.\n",
      "  df = df.append(scrape_page(topic[\"topic\"], topic[\"url\"]), ignore_index=True)\n"
     ]
    },
    {
     "name": "stdout",
     "output_type": "stream",
     "text": [
      "Scraping Coronavirus, Types...\n",
      "Found 11 sections for Coronavirus, Types\n"
     ]
    },
    {
     "name": "stderr",
     "output_type": "stream",
     "text": [
      " 18%|█▊        | 267/1452 [05:44<24:27,  1.24s/it]"
     ]
    },
    {
     "name": "stdout",
     "output_type": "stream",
     "text": [
      "Scraping COVID-19, Antibody Testing...\n",
      "Found 9 sections for COVID-19, Antibody Testing\n"
     ]
    },
    {
     "name": "stderr",
     "output_type": "stream",
     "text": [
      "C:\\Users\\Raj\\AppData\\Local\\Temp\\ipykernel_29048\\2168445501.py:6: FutureWarning: The frame.append method is deprecated and will be removed from pandas in a future version. Use pandas.concat instead.\n",
      "  df = df.append(scrape_page(topic[\"topic\"], topic[\"url\"]), ignore_index=True)\n",
      " 18%|█▊        | 268/1452 [05:45<24:28,  1.24s/it]"
     ]
    },
    {
     "name": "stdout",
     "output_type": "stream",
     "text": [
      "Scraping CP...\n",
      "Found 10 sections for CP\n"
     ]
    },
    {
     "name": "stderr",
     "output_type": "stream",
     "text": [
      "C:\\Users\\Raj\\AppData\\Local\\Temp\\ipykernel_29048\\2168445501.py:6: FutureWarning: The frame.append method is deprecated and will be removed from pandas in a future version. Use pandas.concat instead.\n",
      "  df = df.append(scrape_page(topic[\"topic\"], topic[\"url\"]), ignore_index=True)\n",
      " 19%|█▊        | 269/1452 [05:46<24:35,  1.25s/it]"
     ]
    },
    {
     "name": "stdout",
     "output_type": "stream",
     "text": [
      "Scraping CPR...\n",
      "Found 5 sections for CPR\n"
     ]
    },
    {
     "name": "stderr",
     "output_type": "stream",
     "text": [
      "C:\\Users\\Raj\\AppData\\Local\\Temp\\ipykernel_29048\\2168445501.py:6: FutureWarning: The frame.append method is deprecated and will be removed from pandas in a future version. Use pandas.concat instead.\n",
      "  df = df.append(scrape_page(topic[\"topic\"], topic[\"url\"]), ignore_index=True)\n",
      " 19%|█▊        | 270/1452 [05:48<24:30,  1.24s/it]"
     ]
    },
    {
     "name": "stdout",
     "output_type": "stream",
     "text": [
      "Scraping Crabs (Pubic Lice)...\n",
      "Found 2 sections for Crabs (Pubic Lice)\n"
     ]
    },
    {
     "name": "stderr",
     "output_type": "stream",
     "text": [
      "C:\\Users\\Raj\\AppData\\Local\\Temp\\ipykernel_29048\\2168445501.py:6: FutureWarning: The frame.append method is deprecated and will be removed from pandas in a future version. Use pandas.concat instead.\n",
      "  df = df.append(scrape_page(topic[\"topic\"], topic[\"url\"]), ignore_index=True)\n",
      " 19%|█▊        | 271/1452 [05:49<24:26,  1.24s/it]"
     ]
    },
    {
     "name": "stdout",
     "output_type": "stream",
     "text": [
      "Scraping Cradle Cap...\n",
      "Found 16 sections for Cradle Cap\n"
     ]
    },
    {
     "name": "stderr",
     "output_type": "stream",
     "text": [
      "C:\\Users\\Raj\\AppData\\Local\\Temp\\ipykernel_29048\\2168445501.py:6: FutureWarning: The frame.append method is deprecated and will be removed from pandas in a future version. Use pandas.concat instead.\n",
      "  df = df.append(scrape_page(topic[\"topic\"], topic[\"url\"]), ignore_index=True)\n",
      " 19%|█▊        | 272/1452 [05:50<24:26,  1.24s/it]"
     ]
    },
    {
     "name": "stdout",
     "output_type": "stream",
     "text": [
      "Scraping Cranial Arteritis...\n",
      "Found 13 sections for Cranial Arteritis\n"
     ]
    },
    {
     "name": "stderr",
     "output_type": "stream",
     "text": [
      "C:\\Users\\Raj\\AppData\\Local\\Temp\\ipykernel_29048\\2168445501.py:6: FutureWarning: The frame.append method is deprecated and will be removed from pandas in a future version. Use pandas.concat instead.\n",
      "  df = df.append(scrape_page(topic[\"topic\"], topic[\"url\"]), ignore_index=True)\n",
      " 19%|█▉        | 273/1452 [05:51<24:31,  1.25s/it]"
     ]
    },
    {
     "name": "stdout",
     "output_type": "stream",
     "text": [
      "Scraping Craniosynostosis...\n",
      "Found 10 sections for Craniosynostosis\n"
     ]
    },
    {
     "name": "stderr",
     "output_type": "stream",
     "text": [
      "C:\\Users\\Raj\\AppData\\Local\\Temp\\ipykernel_29048\\2168445501.py:6: FutureWarning: The frame.append method is deprecated and will be removed from pandas in a future version. Use pandas.concat instead.\n",
      "  df = df.append(scrape_page(topic[\"topic\"], topic[\"url\"]), ignore_index=True)\n",
      " 19%|█▉        | 274/1452 [05:53<24:28,  1.25s/it]"
     ]
    },
    {
     "name": "stdout",
     "output_type": "stream",
     "text": [
      "Scraping Creutzfeldt Jakob Disease...\n",
      "Found 7 sections for Creutzfeldt Jakob Disease\n"
     ]
    },
    {
     "name": "stderr",
     "output_type": "stream",
     "text": [
      "C:\\Users\\Raj\\AppData\\Local\\Temp\\ipykernel_29048\\2168445501.py:6: FutureWarning: The frame.append method is deprecated and will be removed from pandas in a future version. Use pandas.concat instead.\n",
      "  df = df.append(scrape_page(topic[\"topic\"], topic[\"url\"]), ignore_index=True)\n",
      " 19%|█▉        | 275/1452 [05:54<25:12,  1.29s/it]"
     ]
    },
    {
     "name": "stdout",
     "output_type": "stream",
     "text": [
      "Scraping Crib Death...\n",
      "Found 6 sections for Crib Death\n"
     ]
    },
    {
     "name": "stderr",
     "output_type": "stream",
     "text": [
      "C:\\Users\\Raj\\AppData\\Local\\Temp\\ipykernel_29048\\2168445501.py:6: FutureWarning: The frame.append method is deprecated and will be removed from pandas in a future version. Use pandas.concat instead.\n",
      "  df = df.append(scrape_page(topic[\"topic\"], topic[\"url\"]), ignore_index=True)\n",
      " 19%|█▉        | 276/1452 [05:55<25:02,  1.28s/it]C:\\Users\\Raj\\AppData\\Local\\Temp\\ipykernel_29048\\2168445501.py:6: FutureWarning: The frame.append method is deprecated and will be removed from pandas in a future version. Use pandas.concat instead.\n",
      "  df = df.append(scrape_page(topic[\"topic\"], topic[\"url\"]), ignore_index=True)\n"
     ]
    },
    {
     "name": "stdout",
     "output_type": "stream",
     "text": [
      "Scraping Crib Safety...\n",
      "Found 16 sections for Crib Safety\n"
     ]
    },
    {
     "name": "stderr",
     "output_type": "stream",
     "text": [
      " 19%|█▉        | 277/1452 [05:56<24:37,  1.26s/it]"
     ]
    },
    {
     "name": "stdout",
     "output_type": "stream",
     "text": [
      "Scraping Cribriform Carcinoma...\n",
      "Found 6 sections for Cribriform Carcinoma\n"
     ]
    },
    {
     "name": "stderr",
     "output_type": "stream",
     "text": [
      "C:\\Users\\Raj\\AppData\\Local\\Temp\\ipykernel_29048\\2168445501.py:6: FutureWarning: The frame.append method is deprecated and will be removed from pandas in a future version. Use pandas.concat instead.\n",
      "  df = df.append(scrape_page(topic[\"topic\"], topic[\"url\"]), ignore_index=True)\n",
      " 19%|█▉        | 278/1452 [05:58<24:31,  1.25s/it]"
     ]
    },
    {
     "name": "stdout",
     "output_type": "stream",
     "text": [
      "Scraping Cross-Eyes (Strabismus)...\n",
      "Found 5 sections for Cross-Eyes (Strabismus)\n"
     ]
    },
    {
     "name": "stderr",
     "output_type": "stream",
     "text": [
      "C:\\Users\\Raj\\AppData\\Local\\Temp\\ipykernel_29048\\2168445501.py:6: FutureWarning: The frame.append method is deprecated and will be removed from pandas in a future version. Use pandas.concat instead.\n",
      "  df = df.append(scrape_page(topic[\"topic\"], topic[\"url\"]), ignore_index=True)\n",
      " 19%|█▉        | 279/1452 [05:59<24:29,  1.25s/it]"
     ]
    },
    {
     "name": "stdout",
     "output_type": "stream",
     "text": [
      "Scraping Crosti-Gianotti Syndrome...\n",
      "Found 7 sections for Crosti-Gianotti Syndrome\n"
     ]
    },
    {
     "name": "stderr",
     "output_type": "stream",
     "text": [
      "C:\\Users\\Raj\\AppData\\Local\\Temp\\ipykernel_29048\\2168445501.py:6: FutureWarning: The frame.append method is deprecated and will be removed from pandas in a future version. Use pandas.concat instead.\n",
      "  df = df.append(scrape_page(topic[\"topic\"], topic[\"url\"]), ignore_index=True)\n",
      " 19%|█▉        | 280/1452 [06:00<24:30,  1.25s/it]"
     ]
    },
    {
     "name": "stdout",
     "output_type": "stream",
     "text": [
      "Scraping Croup...\n",
      "Found 6 sections for Croup\n"
     ]
    },
    {
     "name": "stderr",
     "output_type": "stream",
     "text": [
      "C:\\Users\\Raj\\AppData\\Local\\Temp\\ipykernel_29048\\2168445501.py:6: FutureWarning: The frame.append method is deprecated and will be removed from pandas in a future version. Use pandas.concat instead.\n",
      "  df = df.append(scrape_page(topic[\"topic\"], topic[\"url\"]), ignore_index=True)\n",
      " 19%|█▉        | 281/1452 [06:01<24:18,  1.25s/it]"
     ]
    },
    {
     "name": "stdout",
     "output_type": "stream",
     "text": [
      "Scraping Croup Treatment...\n",
      "Found 3 sections for Croup Treatment\n"
     ]
    },
    {
     "name": "stderr",
     "output_type": "stream",
     "text": [
      "C:\\Users\\Raj\\AppData\\Local\\Temp\\ipykernel_29048\\2168445501.py:6: FutureWarning: The frame.append method is deprecated and will be removed from pandas in a future version. Use pandas.concat instead.\n",
      "  df = df.append(scrape_page(topic[\"topic\"], topic[\"url\"]), ignore_index=True)\n",
      " 19%|█▉        | 282/1452 [06:03<24:23,  1.25s/it]"
     ]
    },
    {
     "name": "stdout",
     "output_type": "stream",
     "text": [
      "Scraping Crow-Fukase Syndrome...\n"
     ]
    },
    {
     "name": "stderr",
     "output_type": "stream",
     "text": [
      "C:\\Users\\Raj\\AppData\\Local\\Temp\\ipykernel_29048\\2168445501.py:6: FutureWarning: The frame.append method is deprecated and will be removed from pandas in a future version. Use pandas.concat instead.\n",
      "  df = df.append(scrape_page(topic[\"topic\"], topic[\"url\"]), ignore_index=True)\n",
      " 19%|█▉        | 283/1452 [06:04<26:34,  1.36s/it]"
     ]
    },
    {
     "name": "stdout",
     "output_type": "stream",
     "text": [
      "Scraping Cryptococcic Meningitis...\n",
      "Found 13 sections for Cryptococcic Meningitis\n"
     ]
    },
    {
     "name": "stderr",
     "output_type": "stream",
     "text": [
      "C:\\Users\\Raj\\AppData\\Local\\Temp\\ipykernel_29048\\2168445501.py:6: FutureWarning: The frame.append method is deprecated and will be removed from pandas in a future version. Use pandas.concat instead.\n",
      "  df = df.append(scrape_page(topic[\"topic\"], topic[\"url\"]), ignore_index=True)\n",
      " 20%|█▉        | 284/1452 [06:06<25:55,  1.33s/it]"
     ]
    },
    {
     "name": "stdout",
     "output_type": "stream",
     "text": [
      "Scraping Crystal Meth...\n",
      "Found 7 sections for Crystal Meth\n"
     ]
    },
    {
     "name": "stderr",
     "output_type": "stream",
     "text": [
      "C:\\Users\\Raj\\AppData\\Local\\Temp\\ipykernel_29048\\2168445501.py:6: FutureWarning: The frame.append method is deprecated and will be removed from pandas in a future version. Use pandas.concat instead.\n",
      "  df = df.append(scrape_page(topic[\"topic\"], topic[\"url\"]), ignore_index=True)\n",
      " 20%|█▉        | 285/1452 [06:07<25:27,  1.31s/it]"
     ]
    },
    {
     "name": "stdout",
     "output_type": "stream",
     "text": [
      "Scraping Curvature of the Spine (Scoliosis)...\n",
      "Found 9 sections for Curvature of the Spine (Scoliosis)\n"
     ]
    },
    {
     "name": "stderr",
     "output_type": "stream",
     "text": [
      "C:\\Users\\Raj\\AppData\\Local\\Temp\\ipykernel_29048\\2168445501.py:6: FutureWarning: The frame.append method is deprecated and will be removed from pandas in a future version. Use pandas.concat instead.\n",
      "  df = df.append(scrape_page(topic[\"topic\"], topic[\"url\"]), ignore_index=True)\n",
      " 20%|█▉        | 286/1452 [06:08<25:04,  1.29s/it]"
     ]
    },
    {
     "name": "stdout",
     "output_type": "stream",
     "text": [
      "Scraping Cutaneous T-Cell Lymphomas...\n",
      "Found 9 sections for Cutaneous T-Cell Lymphomas\n"
     ]
    },
    {
     "name": "stderr",
     "output_type": "stream",
     "text": [
      "C:\\Users\\Raj\\AppData\\Local\\Temp\\ipykernel_29048\\2168445501.py:6: FutureWarning: The frame.append method is deprecated and will be removed from pandas in a future version. Use pandas.concat instead.\n",
      "  df = df.append(scrape_page(topic[\"topic\"], topic[\"url\"]), ignore_index=True)\n",
      " 20%|█▉        | 287/1452 [06:09<24:40,  1.27s/it]"
     ]
    },
    {
     "name": "stdout",
     "output_type": "stream",
     "text": [
      "Scraping Cushing's Syndrome...\n",
      "Found 11 sections for Cushing's Syndrome\n"
     ]
    },
    {
     "name": "stderr",
     "output_type": "stream",
     "text": [
      "C:\\Users\\Raj\\AppData\\Local\\Temp\\ipykernel_29048\\2168445501.py:6: FutureWarning: The frame.append method is deprecated and will be removed from pandas in a future version. Use pandas.concat instead.\n",
      "  df = df.append(scrape_page(topic[\"topic\"], topic[\"url\"]), ignore_index=True)\n",
      " 20%|█▉        | 288/1452 [06:11<24:35,  1.27s/it]"
     ]
    },
    {
     "name": "stdout",
     "output_type": "stream",
     "text": [
      "Scraping Cyclic Edema...\n",
      "Found 8 sections for Cyclic Edema\n"
     ]
    },
    {
     "name": "stderr",
     "output_type": "stream",
     "text": [
      "C:\\Users\\Raj\\AppData\\Local\\Temp\\ipykernel_29048\\2168445501.py:6: FutureWarning: The frame.append method is deprecated and will be removed from pandas in a future version. Use pandas.concat instead.\n",
      "  df = df.append(scrape_page(topic[\"topic\"], topic[\"url\"]), ignore_index=True)\n",
      " 20%|█▉        | 289/1452 [06:12<24:29,  1.26s/it]"
     ]
    },
    {
     "name": "stdout",
     "output_type": "stream",
     "text": [
      "Scraping Cyclic Migraines...\n",
      "Found 9 sections for Cyclic Migraines\n"
     ]
    },
    {
     "name": "stderr",
     "output_type": "stream",
     "text": [
      "C:\\Users\\Raj\\AppData\\Local\\Temp\\ipykernel_29048\\2168445501.py:6: FutureWarning: The frame.append method is deprecated and will be removed from pandas in a future version. Use pandas.concat instead.\n",
      "  df = df.append(scrape_page(topic[\"topic\"], topic[\"url\"]), ignore_index=True)\n",
      " 20%|█▉        | 290/1452 [06:13<24:21,  1.26s/it]"
     ]
    },
    {
     "name": "stdout",
     "output_type": "stream",
     "text": [
      "Scraping Cyclist's Syndrome...\n",
      "Found 5 sections for Cyclist's Syndrome\n"
     ]
    },
    {
     "name": "stderr",
     "output_type": "stream",
     "text": [
      "C:\\Users\\Raj\\AppData\\Local\\Temp\\ipykernel_29048\\2168445501.py:6: FutureWarning: The frame.append method is deprecated and will be removed from pandas in a future version. Use pandas.concat instead.\n",
      "  df = df.append(scrape_page(topic[\"topic\"], topic[\"url\"]), ignore_index=True)\n",
      " 20%|██        | 291/1452 [06:14<24:16,  1.25s/it]"
     ]
    },
    {
     "name": "stdout",
     "output_type": "stream",
     "text": [
      "Scraping Cyprus Fever...\n",
      "Found 10 sections for Cyprus Fever\n"
     ]
    },
    {
     "name": "stderr",
     "output_type": "stream",
     "text": [
      "C:\\Users\\Raj\\AppData\\Local\\Temp\\ipykernel_29048\\2168445501.py:6: FutureWarning: The frame.append method is deprecated and will be removed from pandas in a future version. Use pandas.concat instead.\n",
      "  df = df.append(scrape_page(topic[\"topic\"], topic[\"url\"]), ignore_index=True)\n",
      " 20%|██        | 292/1452 [06:16<24:13,  1.25s/it]C:\\Users\\Raj\\AppData\\Local\\Temp\\ipykernel_29048\\2168445501.py:6: FutureWarning: The frame.append method is deprecated and will be removed from pandas in a future version. Use pandas.concat instead.\n",
      "  df = df.append(scrape_page(topic[\"topic\"], topic[\"url\"]), ignore_index=True)\n"
     ]
    },
    {
     "name": "stdout",
     "output_type": "stream",
     "text": [
      "Scraping Cystic Fibrosis...\n",
      "Found 6 sections for Cystic Fibrosis\n"
     ]
    },
    {
     "name": "stderr",
     "output_type": "stream",
     "text": [
      " 20%|██        | 293/1452 [06:17<23:57,  1.24s/it]"
     ]
    },
    {
     "name": "stdout",
     "output_type": "stream",
     "text": [
      "Scraping Cystic Fibrosis Carrier Screening...\n",
      "Found 8 sections for Cystic Fibrosis Carrier Screening\n"
     ]
    },
    {
     "name": "stderr",
     "output_type": "stream",
     "text": [
      "C:\\Users\\Raj\\AppData\\Local\\Temp\\ipykernel_29048\\2168445501.py:6: FutureWarning: The frame.append method is deprecated and will be removed from pandas in a future version. Use pandas.concat instead.\n",
      "  df = df.append(scrape_page(topic[\"topic\"], topic[\"url\"]), ignore_index=True)\n",
      " 20%|██        | 294/1452 [06:18<23:58,  1.24s/it]"
     ]
    },
    {
     "name": "stdout",
     "output_type": "stream",
     "text": [
      "Scraping Cystic Hygroma...\n",
      "Found 7 sections for Cystic Hygroma\n"
     ]
    },
    {
     "name": "stderr",
     "output_type": "stream",
     "text": [
      "C:\\Users\\Raj\\AppData\\Local\\Temp\\ipykernel_29048\\2168445501.py:6: FutureWarning: The frame.append method is deprecated and will be removed from pandas in a future version. Use pandas.concat instead.\n",
      "  df = df.append(scrape_page(topic[\"topic\"], topic[\"url\"]), ignore_index=True)\n",
      " 20%|██        | 295/1452 [06:19<24:14,  1.26s/it]"
     ]
    },
    {
     "name": "stdout",
     "output_type": "stream",
     "text": [
      "Scraping Cystic Lung Disease...\n",
      "Found 7 sections for Cystic Lung Disease\n"
     ]
    },
    {
     "name": "stderr",
     "output_type": "stream",
     "text": [
      "C:\\Users\\Raj\\AppData\\Local\\Temp\\ipykernel_29048\\2168445501.py:6: FutureWarning: The frame.append method is deprecated and will be removed from pandas in a future version. Use pandas.concat instead.\n",
      "  df = df.append(scrape_page(topic[\"topic\"], topic[\"url\"]), ignore_index=True)\n",
      " 20%|██        | 296/1452 [06:21<24:47,  1.29s/it]"
     ]
    },
    {
     "name": "stdout",
     "output_type": "stream",
     "text": [
      "Scraping Cysts, Ovarian, Functional...\n",
      "Found 8 sections for Cysts, Ovarian, Functional\n"
     ]
    },
    {
     "name": "stderr",
     "output_type": "stream",
     "text": [
      "C:\\Users\\Raj\\AppData\\Local\\Temp\\ipykernel_29048\\2168445501.py:6: FutureWarning: The frame.append method is deprecated and will be removed from pandas in a future version. Use pandas.concat instead.\n",
      "  df = df.append(scrape_page(topic[\"topic\"], topic[\"url\"]), ignore_index=True)\n",
      " 20%|██        | 297/1452 [06:22<24:29,  1.27s/it]C:\\Users\\Raj\\AppData\\Local\\Temp\\ipykernel_29048\\2168445501.py:6: FutureWarning: The frame.append method is deprecated and will be removed from pandas in a future version. Use pandas.concat instead.\n",
      "  df = df.append(scrape_page(topic[\"topic\"], topic[\"url\"]), ignore_index=True)\n"
     ]
    },
    {
     "name": "stdout",
     "output_type": "stream",
     "text": [
      "Scraping D Trisomy Syndrome...\n",
      "Found 7 sections for D Trisomy Syndrome\n"
     ]
    },
    {
     "name": "stderr",
     "output_type": "stream",
     "text": [
      " 21%|██        | 298/1452 [06:23<24:11,  1.26s/it]"
     ]
    },
    {
     "name": "stdout",
     "output_type": "stream",
     "text": [
      "Scraping Dandruff...\n",
      "Found 1 sections for Dandruff\n"
     ]
    },
    {
     "name": "stderr",
     "output_type": "stream",
     "text": [
      "C:\\Users\\Raj\\AppData\\Local\\Temp\\ipykernel_29048\\2168445501.py:6: FutureWarning: The frame.append method is deprecated and will be removed from pandas in a future version. Use pandas.concat instead.\n",
      "  df = df.append(scrape_page(topic[\"topic\"], topic[\"url\"]), ignore_index=True)\n",
      " 21%|██        | 299/1452 [06:24<24:02,  1.25s/it]"
     ]
    },
    {
     "name": "stdout",
     "output_type": "stream",
     "text": [
      "Scraping Dandy Fever...\n",
      "Found 6 sections for Dandy Fever\n"
     ]
    },
    {
     "name": "stderr",
     "output_type": "stream",
     "text": [
      "C:\\Users\\Raj\\AppData\\Local\\Temp\\ipykernel_29048\\2168445501.py:6: FutureWarning: The frame.append method is deprecated and will be removed from pandas in a future version. Use pandas.concat instead.\n",
      "  df = df.append(scrape_page(topic[\"topic\"], topic[\"url\"]), ignore_index=True)\n",
      " 21%|██        | 300/1452 [06:26<24:01,  1.25s/it]"
     ]
    },
    {
     "name": "stdout",
     "output_type": "stream",
     "text": [
      "Scraping DASH Diet...\n",
      "Found 4 sections for DASH Diet\n"
     ]
    },
    {
     "name": "stderr",
     "output_type": "stream",
     "text": [
      "C:\\Users\\Raj\\AppData\\Local\\Temp\\ipykernel_29048\\2168445501.py:6: FutureWarning: The frame.append method is deprecated and will be removed from pandas in a future version. Use pandas.concat instead.\n",
      "  df = df.append(scrape_page(topic[\"topic\"], topic[\"url\"]), ignore_index=True)\n",
      " 21%|██        | 301/1452 [06:27<23:56,  1.25s/it]"
     ]
    },
    {
     "name": "stdout",
     "output_type": "stream",
     "text": [
      "Scraping Daycare...\n",
      "Found 7 sections for Daycare\n"
     ]
    },
    {
     "name": "stderr",
     "output_type": "stream",
     "text": [
      "C:\\Users\\Raj\\AppData\\Local\\Temp\\ipykernel_29048\\2168445501.py:6: FutureWarning: The frame.append method is deprecated and will be removed from pandas in a future version. Use pandas.concat instead.\n",
      "  df = df.append(scrape_page(topic[\"topic\"], topic[\"url\"]), ignore_index=True)\n",
      " 21%|██        | 302/1452 [06:28<24:42,  1.29s/it]"
     ]
    },
    {
     "name": "stdout",
     "output_type": "stream",
     "text": [
      "Scraping DBA...\n",
      "Found 7 sections for DBA\n"
     ]
    },
    {
     "name": "stderr",
     "output_type": "stream",
     "text": [
      "C:\\Users\\Raj\\AppData\\Local\\Temp\\ipykernel_29048\\2168445501.py:6: FutureWarning: The frame.append method is deprecated and will be removed from pandas in a future version. Use pandas.concat instead.\n",
      "  df = df.append(scrape_page(topic[\"topic\"], topic[\"url\"]), ignore_index=True)\n",
      " 21%|██        | 303/1452 [06:29<24:21,  1.27s/it]"
     ]
    },
    {
     "name": "stdout",
     "output_type": "stream",
     "text": [
      "Scraping Deafness...\n",
      "Found 10 sections for Deafness\n"
     ]
    },
    {
     "name": "stderr",
     "output_type": "stream",
     "text": [
      "C:\\Users\\Raj\\AppData\\Local\\Temp\\ipykernel_29048\\2168445501.py:6: FutureWarning: The frame.append method is deprecated and will be removed from pandas in a future version. Use pandas.concat instead.\n",
      "  df = df.append(scrape_page(topic[\"topic\"], topic[\"url\"]), ignore_index=True)\n",
      " 21%|██        | 304/1452 [06:31<24:13,  1.27s/it]"
     ]
    },
    {
     "name": "stdout",
     "output_type": "stream",
     "text": [
      "Scraping Decubitis Ulcers...\n",
      "Found 8 sections for Decubitis Ulcers\n"
     ]
    },
    {
     "name": "stderr",
     "output_type": "stream",
     "text": [
      "C:\\Users\\Raj\\AppData\\Local\\Temp\\ipykernel_29048\\2168445501.py:6: FutureWarning: The frame.append method is deprecated and will be removed from pandas in a future version. Use pandas.concat instead.\n",
      "  df = df.append(scrape_page(topic[\"topic\"], topic[\"url\"]), ignore_index=True)\n",
      " 21%|██        | 305/1452 [06:32<24:00,  1.26s/it]"
     ]
    },
    {
     "name": "stdout",
     "output_type": "stream",
     "text": [
      "Scraping Deerfly Fever...\n",
      "Found 8 sections for Deerfly Fever\n"
     ]
    },
    {
     "name": "stderr",
     "output_type": "stream",
     "text": [
      "C:\\Users\\Raj\\AppData\\Local\\Temp\\ipykernel_29048\\2168445501.py:6: FutureWarning: The frame.append method is deprecated and will be removed from pandas in a future version. Use pandas.concat instead.\n",
      "  df = df.append(scrape_page(topic[\"topic\"], topic[\"url\"]), ignore_index=True)\n",
      " 21%|██        | 306/1452 [06:33<23:55,  1.25s/it]"
     ]
    },
    {
     "name": "stdout",
     "output_type": "stream",
     "text": [
      "Scraping Degenerative Chorea...\n",
      "Found 7 sections for Degenerative Chorea\n"
     ]
    },
    {
     "name": "stderr",
     "output_type": "stream",
     "text": [
      "C:\\Users\\Raj\\AppData\\Local\\Temp\\ipykernel_29048\\2168445501.py:6: FutureWarning: The frame.append method is deprecated and will be removed from pandas in a future version. Use pandas.concat instead.\n",
      "  df = df.append(scrape_page(topic[\"topic\"], topic[\"url\"]), ignore_index=True)\n",
      " 21%|██        | 307/1452 [06:34<23:58,  1.26s/it]"
     ]
    },
    {
     "name": "stdout",
     "output_type": "stream",
     "text": [
      "Scraping Degenerative Disc Disease...\n",
      "Found 7 sections for Degenerative Disc Disease\n"
     ]
    },
    {
     "name": "stderr",
     "output_type": "stream",
     "text": [
      "C:\\Users\\Raj\\AppData\\Local\\Temp\\ipykernel_29048\\2168445501.py:6: FutureWarning: The frame.append method is deprecated and will be removed from pandas in a future version. Use pandas.concat instead.\n",
      "  df = df.append(scrape_page(topic[\"topic\"], topic[\"url\"]), ignore_index=True)\n",
      " 21%|██        | 308/1452 [06:36<23:52,  1.25s/it]C:\\Users\\Raj\\AppData\\Local\\Temp\\ipykernel_29048\\2168445501.py:6: FutureWarning: The frame.append method is deprecated and will be removed from pandas in a future version. Use pandas.concat instead.\n",
      "  df = df.append(scrape_page(topic[\"topic\"], topic[\"url\"]), ignore_index=True)\n"
     ]
    },
    {
     "name": "stdout",
     "output_type": "stream",
     "text": [
      "Scraping Dehydration...\n",
      "Found 4 sections for Dehydration\n"
     ]
    },
    {
     "name": "stderr",
     "output_type": "stream",
     "text": [
      " 21%|██▏       | 309/1452 [06:37<23:41,  1.24s/it]C:\\Users\\Raj\\AppData\\Local\\Temp\\ipykernel_29048\\2168445501.py:6: FutureWarning: The frame.append method is deprecated and will be removed from pandas in a future version. Use pandas.concat instead.\n",
      "  df = df.append(scrape_page(topic[\"topic\"], topic[\"url\"]), ignore_index=True)\n"
     ]
    },
    {
     "name": "stdout",
     "output_type": "stream",
     "text": [
      "Scraping DH...\n",
      "Found 5 sections for DH\n"
     ]
    },
    {
     "name": "stderr",
     "output_type": "stream",
     "text": [
      " 21%|██▏       | 310/1452 [06:38<23:33,  1.24s/it]"
     ]
    },
    {
     "name": "stdout",
     "output_type": "stream",
     "text": [
      "Scraping Diabetes in Children: Dealing with Low Blood Sugar...\n",
      "Found 5 sections for Diabetes in Children: Dealing with Low Blood Sugar\n"
     ]
    },
    {
     "name": "stderr",
     "output_type": "stream",
     "text": [
      "C:\\Users\\Raj\\AppData\\Local\\Temp\\ipykernel_29048\\2168445501.py:6: FutureWarning: The frame.append method is deprecated and will be removed from pandas in a future version. Use pandas.concat instead.\n",
      "  df = df.append(scrape_page(topic[\"topic\"], topic[\"url\"]), ignore_index=True)\n",
      " 21%|██▏       | 311/1452 [06:40<26:46,  1.41s/it]C:\\Users\\Raj\\AppData\\Local\\Temp\\ipykernel_29048\\2168445501.py:6: FutureWarning: The frame.append method is deprecated and will be removed from pandas in a future version. Use pandas.concat instead.\n",
      "  df = df.append(scrape_page(topic[\"topic\"], topic[\"url\"]), ignore_index=True)\n"
     ]
    },
    {
     "name": "stdout",
     "output_type": "stream",
     "text": [
      "Scraping Diabetes in Children: Preventing Low Blood Sugar...\n",
      "Found 5 sections for Diabetes in Children: Preventing Low Blood Sugar\n"
     ]
    },
    {
     "name": "stderr",
     "output_type": "stream",
     "text": [
      " 21%|██▏       | 312/1452 [06:41<25:25,  1.34s/it]"
     ]
    },
    {
     "name": "stdout",
     "output_type": "stream",
     "text": [
      "Scraping Diabetes in Pregnancy (Gestational Diabetes)...\n",
      "Found 14 sections for Diabetes in Pregnancy (Gestational Diabetes)\n"
     ]
    },
    {
     "name": "stderr",
     "output_type": "stream",
     "text": [
      "C:\\Users\\Raj\\AppData\\Local\\Temp\\ipykernel_29048\\2168445501.py:6: FutureWarning: The frame.append method is deprecated and will be removed from pandas in a future version. Use pandas.concat instead.\n",
      "  df = df.append(scrape_page(topic[\"topic\"], topic[\"url\"]), ignore_index=True)\n",
      " 22%|██▏       | 313/1452 [06:42<25:08,  1.32s/it]"
     ]
    },
    {
     "name": "stdout",
     "output_type": "stream",
     "text": [
      "Scraping Diabetes Insipidus...\n",
      "Found 12 sections for Diabetes Insipidus\n"
     ]
    },
    {
     "name": "stderr",
     "output_type": "stream",
     "text": [
      "C:\\Users\\Raj\\AppData\\Local\\Temp\\ipykernel_29048\\2168445501.py:6: FutureWarning: The frame.append method is deprecated and will be removed from pandas in a future version. Use pandas.concat instead.\n",
      "  df = df.append(scrape_page(topic[\"topic\"], topic[\"url\"]), ignore_index=True)\n",
      " 22%|██▏       | 314/1452 [06:44<25:20,  1.34s/it]C:\\Users\\Raj\\AppData\\Local\\Temp\\ipykernel_29048\\2168445501.py:6: FutureWarning: The frame.append method is deprecated and will be removed from pandas in a future version. Use pandas.concat instead.\n",
      "  df = df.append(scrape_page(topic[\"topic\"], topic[\"url\"]), ignore_index=True)\n"
     ]
    },
    {
     "name": "stdout",
     "output_type": "stream",
     "text": [
      "Scraping Diabetes, Gestational...\n",
      "Found 14 sections for Diabetes, Gestational\n"
     ]
    },
    {
     "name": "stderr",
     "output_type": "stream",
     "text": [
      " 22%|██▏       | 315/1452 [06:45<24:37,  1.30s/it]"
     ]
    },
    {
     "name": "stdout",
     "output_type": "stream",
     "text": [
      "Scraping Diabetes, Type 1...\n",
      "Found 11 sections for Diabetes, Type 1\n"
     ]
    },
    {
     "name": "stderr",
     "output_type": "stream",
     "text": [
      "C:\\Users\\Raj\\AppData\\Local\\Temp\\ipykernel_29048\\2168445501.py:6: FutureWarning: The frame.append method is deprecated and will be removed from pandas in a future version. Use pandas.concat instead.\n",
      "  df = df.append(scrape_page(topic[\"topic\"], topic[\"url\"]), ignore_index=True)\n",
      " 22%|██▏       | 316/1452 [06:46<24:56,  1.32s/it]"
     ]
    },
    {
     "name": "stdout",
     "output_type": "stream",
     "text": [
      "Scraping Diabetes, Type 1: Children Living With the Disease...\n",
      "Found 5 sections for Diabetes, Type 1: Children Living With the Disease\n"
     ]
    },
    {
     "name": "stderr",
     "output_type": "stream",
     "text": [
      "C:\\Users\\Raj\\AppData\\Local\\Temp\\ipykernel_29048\\2168445501.py:6: FutureWarning: The frame.append method is deprecated and will be removed from pandas in a future version. Use pandas.concat instead.\n",
      "  df = df.append(scrape_page(topic[\"topic\"], topic[\"url\"]), ignore_index=True)\n",
      " 22%|██▏       | 317/1452 [06:48<24:24,  1.29s/it]"
     ]
    },
    {
     "name": "stdout",
     "output_type": "stream",
     "text": [
      "Scraping Diabetes, Type 2...\n",
      "Found 14 sections for Diabetes, Type 2\n"
     ]
    },
    {
     "name": "stderr",
     "output_type": "stream",
     "text": [
      "C:\\Users\\Raj\\AppData\\Local\\Temp\\ipykernel_29048\\2168445501.py:6: FutureWarning: The frame.append method is deprecated and will be removed from pandas in a future version. Use pandas.concat instead.\n",
      "  df = df.append(scrape_page(topic[\"topic\"], topic[\"url\"]), ignore_index=True)\n",
      " 22%|██▏       | 318/1452 [06:49<24:09,  1.28s/it]"
     ]
    },
    {
     "name": "stdout",
     "output_type": "stream",
     "text": [
      "Scraping Diabetes, Type 2 in Children...\n",
      "Found 11 sections for Diabetes, Type 2 in Children\n"
     ]
    },
    {
     "name": "stderr",
     "output_type": "stream",
     "text": [
      "C:\\Users\\Raj\\AppData\\Local\\Temp\\ipykernel_29048\\2168445501.py:6: FutureWarning: The frame.append method is deprecated and will be removed from pandas in a future version. Use pandas.concat instead.\n",
      "  df = df.append(scrape_page(topic[\"topic\"], topic[\"url\"]), ignore_index=True)\n",
      " 22%|██▏       | 319/1452 [06:50<23:52,  1.26s/it]"
     ]
    },
    {
     "name": "stdout",
     "output_type": "stream",
     "text": [
      "Scraping Diabetes: Warning Signs...\n",
      "Found 5 sections for Diabetes: Warning Signs\n"
     ]
    },
    {
     "name": "stderr",
     "output_type": "stream",
     "text": [
      "C:\\Users\\Raj\\AppData\\Local\\Temp\\ipykernel_29048\\2168445501.py:6: FutureWarning: The frame.append method is deprecated and will be removed from pandas in a future version. Use pandas.concat instead.\n",
      "  df = df.append(scrape_page(topic[\"topic\"], topic[\"url\"]), ignore_index=True)\n",
      " 22%|██▏       | 320/1452 [06:51<23:37,  1.25s/it]"
     ]
    },
    {
     "name": "stdout",
     "output_type": "stream",
     "text": [
      "Scraping Diabetic Eye Disease...\n",
      "Found 12 sections for Diabetic Eye Disease\n"
     ]
    },
    {
     "name": "stderr",
     "output_type": "stream",
     "text": [
      "C:\\Users\\Raj\\AppData\\Local\\Temp\\ipykernel_29048\\2168445501.py:6: FutureWarning: The frame.append method is deprecated and will be removed from pandas in a future version. Use pandas.concat instead.\n",
      "  df = df.append(scrape_page(topic[\"topic\"], topic[\"url\"]), ignore_index=True)\n",
      " 22%|██▏       | 321/1452 [06:53<23:34,  1.25s/it]"
     ]
    },
    {
     "name": "stdout",
     "output_type": "stream",
     "text": [
      "Scraping Diabetic Ketoacidosis (DKA)...\n",
      "Found 7 sections for Diabetic Ketoacidosis (DKA)\n"
     ]
    },
    {
     "name": "stderr",
     "output_type": "stream",
     "text": [
      "C:\\Users\\Raj\\AppData\\Local\\Temp\\ipykernel_29048\\2168445501.py:6: FutureWarning: The frame.append method is deprecated and will be removed from pandas in a future version. Use pandas.concat instead.\n",
      "  df = df.append(scrape_page(topic[\"topic\"], topic[\"url\"]), ignore_index=True)\n",
      " 22%|██▏       | 322/1452 [06:54<23:38,  1.26s/it]"
     ]
    },
    {
     "name": "stdout",
     "output_type": "stream",
     "text": [
      "Scraping Diabetic Macular Edema...\n",
      "Found 9 sections for Diabetic Macular Edema\n"
     ]
    },
    {
     "name": "stderr",
     "output_type": "stream",
     "text": [
      "C:\\Users\\Raj\\AppData\\Local\\Temp\\ipykernel_29048\\2168445501.py:6: FutureWarning: The frame.append method is deprecated and will be removed from pandas in a future version. Use pandas.concat instead.\n",
      "  df = df.append(scrape_page(topic[\"topic\"], topic[\"url\"]), ignore_index=True)\n",
      " 22%|██▏       | 323/1452 [06:55<23:39,  1.26s/it]C:\\Users\\Raj\\AppData\\Local\\Temp\\ipykernel_29048\\2168445501.py:6: FutureWarning: The frame.append method is deprecated and will be removed from pandas in a future version. Use pandas.concat instead.\n",
      "  df = df.append(scrape_page(topic[\"topic\"], topic[\"url\"]), ignore_index=True)\n"
     ]
    },
    {
     "name": "stdout",
     "output_type": "stream",
     "text": [
      "Scraping Diabetic Neuropathy...\n",
      "Found 7 sections for Diabetic Neuropathy\n"
     ]
    },
    {
     "name": "stderr",
     "output_type": "stream",
     "text": [
      " 22%|██▏       | 324/1452 [06:56<23:23,  1.24s/it]"
     ]
    },
    {
     "name": "stdout",
     "output_type": "stream",
     "text": [
      "Scraping Diabetic Retinopathy...\n",
      "Found 11 sections for Diabetic Retinopathy\n"
     ]
    },
    {
     "name": "stderr",
     "output_type": "stream",
     "text": [
      "C:\\Users\\Raj\\AppData\\Local\\Temp\\ipykernel_29048\\2168445501.py:6: FutureWarning: The frame.append method is deprecated and will be removed from pandas in a future version. Use pandas.concat instead.\n",
      "  df = df.append(scrape_page(topic[\"topic\"], topic[\"url\"]), ignore_index=True)\n",
      " 22%|██▏       | 325/1452 [06:58<23:17,  1.24s/it]"
     ]
    },
    {
     "name": "stdout",
     "output_type": "stream",
     "text": [
      "Scraping Diabetic Sick-Day Guidelines...\n",
      "Found 3 sections for Diabetic Sick-Day Guidelines\n"
     ]
    },
    {
     "name": "stderr",
     "output_type": "stream",
     "text": [
      "C:\\Users\\Raj\\AppData\\Local\\Temp\\ipykernel_29048\\2168445501.py:6: FutureWarning: The frame.append method is deprecated and will be removed from pandas in a future version. Use pandas.concat instead.\n",
      "  df = df.append(scrape_page(topic[\"topic\"], topic[\"url\"]), ignore_index=True)\n",
      " 22%|██▏       | 326/1452 [06:59<23:55,  1.28s/it]"
     ]
    },
    {
     "name": "stdout",
     "output_type": "stream",
     "text": [
      "Scraping Dialysis, Deciding About...\n",
      "Found 11 sections for Dialysis, Deciding About\n"
     ]
    },
    {
     "name": "stderr",
     "output_type": "stream",
     "text": [
      "C:\\Users\\Raj\\AppData\\Local\\Temp\\ipykernel_29048\\2168445501.py:6: FutureWarning: The frame.append method is deprecated and will be removed from pandas in a future version. Use pandas.concat instead.\n",
      "  df = df.append(scrape_page(topic[\"topic\"], topic[\"url\"]), ignore_index=True)\n",
      " 23%|██▎       | 327/1452 [07:00<23:45,  1.27s/it]"
     ]
    },
    {
     "name": "stdout",
     "output_type": "stream",
     "text": [
      "Scraping Diaper Rash...\n",
      "Found 5 sections for Diaper Rash\n"
     ]
    },
    {
     "name": "stderr",
     "output_type": "stream",
     "text": [
      "C:\\Users\\Raj\\AppData\\Local\\Temp\\ipykernel_29048\\2168445501.py:6: FutureWarning: The frame.append method is deprecated and will be removed from pandas in a future version. Use pandas.concat instead.\n",
      "  df = df.append(scrape_page(topic[\"topic\"], topic[\"url\"]), ignore_index=True)\n",
      " 23%|██▎       | 328/1452 [07:02<24:25,  1.30s/it]"
     ]
    },
    {
     "name": "stdout",
     "output_type": "stream",
     "text": [
      "Scraping Diaphragm Use and Care...\n",
      "Found 9 sections for Diaphragm Use and Care\n"
     ]
    },
    {
     "name": "stderr",
     "output_type": "stream",
     "text": [
      "C:\\Users\\Raj\\AppData\\Local\\Temp\\ipykernel_29048\\2168445501.py:6: FutureWarning: The frame.append method is deprecated and will be removed from pandas in a future version. Use pandas.concat instead.\n",
      "  df = df.append(scrape_page(topic[\"topic\"], topic[\"url\"]), ignore_index=True)\n",
      " 23%|██▎       | 329/1452 [07:03<25:20,  1.35s/it]C:\\Users\\Raj\\AppData\\Local\\Temp\\ipykernel_29048\\2168445501.py:6: FutureWarning: The frame.append method is deprecated and will be removed from pandas in a future version. Use pandas.concat instead.\n",
      "  df = df.append(scrape_page(topic[\"topic\"], topic[\"url\"]), ignore_index=True)\n"
     ]
    },
    {
     "name": "stdout",
     "output_type": "stream",
     "text": [
      "Scraping Diarrhea...\n",
      "Found 10 sections for Diarrhea\n"
     ]
    },
    {
     "name": "stderr",
     "output_type": "stream",
     "text": [
      " 23%|██▎       | 330/1452 [07:04<24:34,  1.31s/it]"
     ]
    },
    {
     "name": "stdout",
     "output_type": "stream",
     "text": [
      "Scraping Diet and Meniere's Disease...\n",
      "Found 7 sections for Diet and Meniere's Disease\n"
     ]
    },
    {
     "name": "stderr",
     "output_type": "stream",
     "text": [
      "C:\\Users\\Raj\\AppData\\Local\\Temp\\ipykernel_29048\\2168445501.py:6: FutureWarning: The frame.append method is deprecated and will be removed from pandas in a future version. Use pandas.concat instead.\n",
      "  df = df.append(scrape_page(topic[\"topic\"], topic[\"url\"]), ignore_index=True)\n",
      " 23%|██▎       | 331/1452 [07:05<24:11,  1.30s/it]"
     ]
    },
    {
     "name": "stdout",
     "output_type": "stream",
     "text": [
      "Scraping Diet for Children...\n",
      "Found 3 sections for Diet for Children\n"
     ]
    },
    {
     "name": "stderr",
     "output_type": "stream",
     "text": [
      "C:\\Users\\Raj\\AppData\\Local\\Temp\\ipykernel_29048\\2168445501.py:6: FutureWarning: The frame.append method is deprecated and will be removed from pandas in a future version. Use pandas.concat instead.\n",
      "  df = df.append(scrape_page(topic[\"topic\"], topic[\"url\"]), ignore_index=True)\n",
      " 23%|██▎       | 332/1452 [07:07<23:54,  1.28s/it]"
     ]
    },
    {
     "name": "stdout",
     "output_type": "stream",
     "text": [
      "Scraping Diet for Kidney Disease...\n",
      "Found 7 sections for Diet for Kidney Disease\n"
     ]
    },
    {
     "name": "stderr",
     "output_type": "stream",
     "text": [
      "C:\\Users\\Raj\\AppData\\Local\\Temp\\ipykernel_29048\\2168445501.py:6: FutureWarning: The frame.append method is deprecated and will be removed from pandas in a future version. Use pandas.concat instead.\n",
      "  df = df.append(scrape_page(topic[\"topic\"], topic[\"url\"]), ignore_index=True)\n",
      " 23%|██▎       | 333/1452 [07:08<23:42,  1.27s/it]"
     ]
    },
    {
     "name": "stdout",
     "output_type": "stream",
     "text": [
      "Scraping Dietary Supplements...\n",
      "Found 13 sections for Dietary Supplements\n"
     ]
    },
    {
     "name": "stderr",
     "output_type": "stream",
     "text": [
      "C:\\Users\\Raj\\AppData\\Local\\Temp\\ipykernel_29048\\2168445501.py:6: FutureWarning: The frame.append method is deprecated and will be removed from pandas in a future version. Use pandas.concat instead.\n",
      "  df = df.append(scrape_page(topic[\"topic\"], topic[\"url\"]), ignore_index=True)\n",
      " 23%|██▎       | 334/1452 [07:09<23:28,  1.26s/it]"
     ]
    },
    {
     "name": "stdout",
     "output_type": "stream",
     "text": [
      "Scraping Difficulty Swallowing (Dysphagia)...\n",
      "Found 6 sections for Difficulty Swallowing (Dysphagia)\n"
     ]
    },
    {
     "name": "stderr",
     "output_type": "stream",
     "text": [
      "C:\\Users\\Raj\\AppData\\Local\\Temp\\ipykernel_29048\\2168445501.py:6: FutureWarning: The frame.append method is deprecated and will be removed from pandas in a future version. Use pandas.concat instead.\n",
      "  df = df.append(scrape_page(topic[\"topic\"], topic[\"url\"]), ignore_index=True)\n",
      " 23%|██▎       | 335/1452 [07:10<23:37,  1.27s/it]"
     ]
    },
    {
     "name": "stdout",
     "output_type": "stream",
     "text": [
      "Scraping DMD...\n",
      "Found 13 sections for DMD\n"
     ]
    },
    {
     "name": "stderr",
     "output_type": "stream",
     "text": [
      "C:\\Users\\Raj\\AppData\\Local\\Temp\\ipykernel_29048\\2168445501.py:6: FutureWarning: The frame.append method is deprecated and will be removed from pandas in a future version. Use pandas.concat instead.\n",
      "  df = df.append(scrape_page(topic[\"topic\"], topic[\"url\"]), ignore_index=True)\n",
      " 23%|██▎       | 336/1452 [07:12<24:12,  1.30s/it]"
     ]
    },
    {
     "name": "stdout",
     "output_type": "stream",
     "text": [
      "Scraping Doctor's Appointment, Making the Most of...\n",
      "Found 9 sections for Doctor's Appointment, Making the Most of\n"
     ]
    },
    {
     "name": "stderr",
     "output_type": "stream",
     "text": [
      "C:\\Users\\Raj\\AppData\\Local\\Temp\\ipykernel_29048\\2168445501.py:6: FutureWarning: The frame.append method is deprecated and will be removed from pandas in a future version. Use pandas.concat instead.\n",
      "  df = df.append(scrape_page(topic[\"topic\"], topic[\"url\"]), ignore_index=True)\n",
      " 23%|██▎       | 337/1452 [07:14<27:29,  1.48s/it]"
     ]
    },
    {
     "name": "stdout",
     "output_type": "stream",
     "text": [
      "Scraping Dolichostenomelia...\n",
      "Found 12 sections for Dolichostenomelia\n"
     ]
    },
    {
     "name": "stderr",
     "output_type": "stream",
     "text": [
      "C:\\Users\\Raj\\AppData\\Local\\Temp\\ipykernel_29048\\2168445501.py:6: FutureWarning: The frame.append method is deprecated and will be removed from pandas in a future version. Use pandas.concat instead.\n",
      "  df = df.append(scrape_page(topic[\"topic\"], topic[\"url\"]), ignore_index=True)\n",
      " 23%|██▎       | 338/1452 [07:15<26:21,  1.42s/it]"
     ]
    },
    {
     "name": "stdout",
     "output_type": "stream",
     "text": [
      "Scraping Domestic Violence...\n",
      "Found 9 sections for Domestic Violence\n"
     ]
    },
    {
     "name": "stderr",
     "output_type": "stream",
     "text": [
      "C:\\Users\\Raj\\AppData\\Local\\Temp\\ipykernel_29048\\2168445501.py:6: FutureWarning: The frame.append method is deprecated and will be removed from pandas in a future version. Use pandas.concat instead.\n",
      "  df = df.append(scrape_page(topic[\"topic\"], topic[\"url\"]), ignore_index=True)\n",
      " 23%|██▎       | 339/1452 [07:17<27:50,  1.50s/it]C:\\Users\\Raj\\AppData\\Local\\Temp\\ipykernel_29048\\2168445501.py:6: FutureWarning: The frame.append method is deprecated and will be removed from pandas in a future version. Use pandas.concat instead.\n",
      "  df = df.append(scrape_page(topic[\"topic\"], topic[\"url\"]), ignore_index=True)\n"
     ]
    },
    {
     "name": "stdout",
     "output_type": "stream",
     "text": [
      "Scraping Dowling-Meara Syndrome...\n",
      "Found 10 sections for Dowling-Meara Syndrome\n"
     ]
    },
    {
     "name": "stderr",
     "output_type": "stream",
     "text": [
      " 23%|██▎       | 340/1452 [07:18<26:12,  1.41s/it]"
     ]
    },
    {
     "name": "stdout",
     "output_type": "stream",
     "text": [
      "Scraping Down Syndrome...\n",
      "Found 12 sections for Down Syndrome\n"
     ]
    },
    {
     "name": "stderr",
     "output_type": "stream",
     "text": [
      "C:\\Users\\Raj\\AppData\\Local\\Temp\\ipykernel_29048\\2168445501.py:6: FutureWarning: The frame.append method is deprecated and will be removed from pandas in a future version. Use pandas.concat instead.\n",
      "  df = df.append(scrape_page(topic[\"topic\"], topic[\"url\"]), ignore_index=True)\n",
      " 23%|██▎       | 341/1452 [07:19<25:21,  1.37s/it]C:\\Users\\Raj\\AppData\\Local\\Temp\\ipykernel_29048\\2168445501.py:6: FutureWarning: The frame.append method is deprecated and will be removed from pandas in a future version. Use pandas.concat instead.\n",
      "  df = df.append(scrape_page(topic[\"topic\"], topic[\"url\"]), ignore_index=True)\n"
     ]
    },
    {
     "name": "stdout",
     "output_type": "stream",
     "text": [
      "Scraping DR Syndrome...\n",
      "Found 7 sections for DR Syndrome\n"
     ]
    },
    {
     "name": "stderr",
     "output_type": "stream",
     "text": [
      " 24%|██▎       | 342/1452 [07:20<24:30,  1.32s/it]C:\\Users\\Raj\\AppData\\Local\\Temp\\ipykernel_29048\\2168445501.py:6: FutureWarning: The frame.append method is deprecated and will be removed from pandas in a future version. Use pandas.concat instead.\n",
      "  df = df.append(scrape_page(topic[\"topic\"], topic[\"url\"]), ignore_index=True)\n"
     ]
    },
    {
     "name": "stdout",
     "output_type": "stream",
     "text": [
      "Scraping Drooping Eyelids...\n",
      "Found 5 sections for Drooping Eyelids\n"
     ]
    },
    {
     "name": "stderr",
     "output_type": "stream",
     "text": [
      " 24%|██▎       | 343/1452 [07:22<23:50,  1.29s/it]"
     ]
    },
    {
     "name": "stdout",
     "output_type": "stream",
     "text": [
      "Scraping Drowning Prevention...\n",
      "Found 8 sections for Drowning Prevention\n"
     ]
    },
    {
     "name": "stderr",
     "output_type": "stream",
     "text": [
      "C:\\Users\\Raj\\AppData\\Local\\Temp\\ipykernel_29048\\2168445501.py:6: FutureWarning: The frame.append method is deprecated and will be removed from pandas in a future version. Use pandas.concat instead.\n",
      "  df = df.append(scrape_page(topic[\"topic\"], topic[\"url\"]), ignore_index=True)\n",
      " 24%|██▎       | 344/1452 [07:23<24:28,  1.33s/it]"
     ]
    },
    {
     "name": "stdout",
     "output_type": "stream",
     "text": [
      "Scraping Drug Abuse, Teen...\n",
      "Found 10 sections for Drug Abuse, Teen\n"
     ]
    },
    {
     "name": "stderr",
     "output_type": "stream",
     "text": [
      "C:\\Users\\Raj\\AppData\\Local\\Temp\\ipykernel_29048\\2168445501.py:6: FutureWarning: The frame.append method is deprecated and will be removed from pandas in a future version. Use pandas.concat instead.\n",
      "  df = df.append(scrape_page(topic[\"topic\"], topic[\"url\"]), ignore_index=True)\n",
      " 24%|██▍       | 345/1452 [07:24<24:18,  1.32s/it]"
     ]
    },
    {
     "name": "stdout",
     "output_type": "stream",
     "text": [
      "Scraping Drug Allergies...\n",
      "Found 7 sections for Drug Allergies\n"
     ]
    },
    {
     "name": "stderr",
     "output_type": "stream",
     "text": [
      "C:\\Users\\Raj\\AppData\\Local\\Temp\\ipykernel_29048\\2168445501.py:6: FutureWarning: The frame.append method is deprecated and will be removed from pandas in a future version. Use pandas.concat instead.\n",
      "  df = df.append(scrape_page(topic[\"topic\"], topic[\"url\"]), ignore_index=True)\n",
      " 24%|██▍       | 346/1452 [07:26<23:49,  1.29s/it]C:\\Users\\Raj\\AppData\\Local\\Temp\\ipykernel_29048\\2168445501.py:6: FutureWarning: The frame.append method is deprecated and will be removed from pandas in a future version. Use pandas.concat instead.\n",
      "  df = df.append(scrape_page(topic[\"topic\"], topic[\"url\"]), ignore_index=True)\n"
     ]
    },
    {
     "name": "stdout",
     "output_type": "stream",
     "text": [
      "Scraping Dry Skin and Itching...\n",
      "Found 4 sections for Dry Skin and Itching\n"
     ]
    },
    {
     "name": "stderr",
     "output_type": "stream",
     "text": [
      " 24%|██▍       | 347/1452 [07:27<23:22,  1.27s/it]"
     ]
    },
    {
     "name": "stdout",
     "output_type": "stream",
     "text": [
      "Scraping Duchenne Muscular Dystrophy...\n",
      "Found 15 sections for Duchenne Muscular Dystrophy\n"
     ]
    },
    {
     "name": "stderr",
     "output_type": "stream",
     "text": [
      "C:\\Users\\Raj\\AppData\\Local\\Temp\\ipykernel_29048\\2168445501.py:6: FutureWarning: The frame.append method is deprecated and will be removed from pandas in a future version. Use pandas.concat instead.\n",
      "  df = df.append(scrape_page(topic[\"topic\"], topic[\"url\"]), ignore_index=True)\n",
      " 24%|██▍       | 348/1452 [07:28<23:21,  1.27s/it]"
     ]
    },
    {
     "name": "stdout",
     "output_type": "stream",
     "text": [
      "Scraping Duodenal Ulcer...\n",
      "Found 9 sections for Duodenal Ulcer\n"
     ]
    },
    {
     "name": "stderr",
     "output_type": "stream",
     "text": [
      "C:\\Users\\Raj\\AppData\\Local\\Temp\\ipykernel_29048\\2168445501.py:6: FutureWarning: The frame.append method is deprecated and will be removed from pandas in a future version. Use pandas.concat instead.\n",
      "  df = df.append(scrape_page(topic[\"topic\"], topic[\"url\"]), ignore_index=True)\n",
      " 24%|██▍       | 349/1452 [07:29<23:08,  1.26s/it]"
     ]
    },
    {
     "name": "stdout",
     "output_type": "stream",
     "text": [
      "Scraping Dupuytren's Disease...\n",
      "Found 12 sections for Dupuytren's Disease\n"
     ]
    },
    {
     "name": "stderr",
     "output_type": "stream",
     "text": [
      "C:\\Users\\Raj\\AppData\\Local\\Temp\\ipykernel_29048\\2168445501.py:6: FutureWarning: The frame.append method is deprecated and will be removed from pandas in a future version. Use pandas.concat instead.\n",
      "  df = df.append(scrape_page(topic[\"topic\"], topic[\"url\"]), ignore_index=True)\n",
      " 24%|██▍       | 350/1452 [07:31<23:01,  1.25s/it]"
     ]
    },
    {
     "name": "stdout",
     "output_type": "stream",
     "text": [
      "Scraping Dysania...\n",
      "Found 8 sections for Dysania\n"
     ]
    },
    {
     "name": "stderr",
     "output_type": "stream",
     "text": [
      "C:\\Users\\Raj\\AppData\\Local\\Temp\\ipykernel_29048\\2168445501.py:6: FutureWarning: The frame.append method is deprecated and will be removed from pandas in a future version. Use pandas.concat instead.\n",
      "  df = df.append(scrape_page(topic[\"topic\"], topic[\"url\"]), ignore_index=True)\n",
      " 24%|██▍       | 351/1452 [07:32<22:55,  1.25s/it]C:\\Users\\Raj\\AppData\\Local\\Temp\\ipykernel_29048\\2168445501.py:6: FutureWarning: The frame.append method is deprecated and will be removed from pandas in a future version. Use pandas.concat instead.\n",
      "  df = df.append(scrape_page(topic[\"topic\"], topic[\"url\"]), ignore_index=True)\n"
     ]
    },
    {
     "name": "stdout",
     "output_type": "stream",
     "text": [
      "Scraping Dysfunctional Uterine Bleeding...\n",
      "Found 8 sections for Dysfunctional Uterine Bleeding\n"
     ]
    },
    {
     "name": "stderr",
     "output_type": "stream",
     "text": [
      " 24%|██▍       | 352/1452 [07:33<22:48,  1.24s/it]"
     ]
    },
    {
     "name": "stdout",
     "output_type": "stream",
     "text": [
      "Scraping Dyslexia...\n",
      "Found 3 sections for Dyslexia\n"
     ]
    },
    {
     "name": "stderr",
     "output_type": "stream",
     "text": [
      "C:\\Users\\Raj\\AppData\\Local\\Temp\\ipykernel_29048\\2168445501.py:6: FutureWarning: The frame.append method is deprecated and will be removed from pandas in a future version. Use pandas.concat instead.\n",
      "  df = df.append(scrape_page(topic[\"topic\"], topic[\"url\"]), ignore_index=True)\n",
      " 24%|██▍       | 353/1452 [07:34<22:41,  1.24s/it]"
     ]
    },
    {
     "name": "stdout",
     "output_type": "stream",
     "text": [
      "Scraping Dysmyelogenic Leukodystrophy...\n",
      "Found 7 sections for Dysmyelogenic Leukodystrophy\n"
     ]
    },
    {
     "name": "stderr",
     "output_type": "stream",
     "text": [
      "C:\\Users\\Raj\\AppData\\Local\\Temp\\ipykernel_29048\\2168445501.py:6: FutureWarning: The frame.append method is deprecated and will be removed from pandas in a future version. Use pandas.concat instead.\n",
      "  df = df.append(scrape_page(topic[\"topic\"], topic[\"url\"]), ignore_index=True)\n",
      " 24%|██▍       | 354/1452 [07:35<22:40,  1.24s/it]"
     ]
    },
    {
     "name": "stdout",
     "output_type": "stream",
     "text": [
      "Scraping Dysphonia Spastica...\n",
      "Found 13 sections for Dysphonia Spastica\n"
     ]
    },
    {
     "name": "stderr",
     "output_type": "stream",
     "text": [
      "C:\\Users\\Raj\\AppData\\Local\\Temp\\ipykernel_29048\\2168445501.py:6: FutureWarning: The frame.append method is deprecated and will be removed from pandas in a future version. Use pandas.concat instead.\n",
      "  df = df.append(scrape_page(topic[\"topic\"], topic[\"url\"]), ignore_index=True)\n",
      " 24%|██▍       | 355/1452 [07:37<22:42,  1.24s/it]"
     ]
    },
    {
     "name": "stdout",
     "output_type": "stream",
     "text": [
      "Scraping E. coli Infection...\n"
     ]
    },
    {
     "name": "stderr",
     "output_type": "stream",
     "text": [
      "C:\\Users\\Raj\\AppData\\Local\\Temp\\ipykernel_29048\\2168445501.py:6: FutureWarning: The frame.append method is deprecated and will be removed from pandas in a future version. Use pandas.concat instead.\n",
      "  df = df.append(scrape_page(topic[\"topic\"], topic[\"url\"]), ignore_index=True)\n",
      " 25%|██▍       | 356/1452 [07:39<30:00,  1.64s/it]"
     ]
    },
    {
     "name": "stdout",
     "output_type": "stream",
     "text": [
      "Scraping Early Disease Detection...\n",
      "Found 12 sections for Early Disease Detection\n"
     ]
    },
    {
     "name": "stderr",
     "output_type": "stream",
     "text": [
      "C:\\Users\\Raj\\AppData\\Local\\Temp\\ipykernel_29048\\2168445501.py:6: FutureWarning: The frame.append method is deprecated and will be removed from pandas in a future version. Use pandas.concat instead.\n",
      "  df = df.append(scrape_page(topic[\"topic\"], topic[\"url\"]), ignore_index=True)\n",
      " 25%|██▍       | 357/1452 [07:41<27:43,  1.52s/it]"
     ]
    },
    {
     "name": "stdout",
     "output_type": "stream",
     "text": [
      "Scraping Early Fetal Ultrasound, Deciding About...\n"
     ]
    },
    {
     "name": "stderr",
     "output_type": "stream",
     "text": [
      "C:\\Users\\Raj\\AppData\\Local\\Temp\\ipykernel_29048\\2168445501.py:6: FutureWarning: The frame.append method is deprecated and will be removed from pandas in a future version. Use pandas.concat instead.\n",
      "  df = df.append(scrape_page(topic[\"topic\"], topic[\"url\"]), ignore_index=True)\n",
      " 25%|██▍       | 358/1452 [07:42<29:52,  1.64s/it]"
     ]
    },
    {
     "name": "stdout",
     "output_type": "stream",
     "text": [
      "Scraping Eating Disorder, Pica Type...\n",
      "Found 6 sections for Eating Disorder, Pica Type\n"
     ]
    },
    {
     "name": "stderr",
     "output_type": "stream",
     "text": [
      "C:\\Users\\Raj\\AppData\\Local\\Temp\\ipykernel_29048\\2168445501.py:6: FutureWarning: The frame.append method is deprecated and will be removed from pandas in a future version. Use pandas.concat instead.\n",
      "  df = df.append(scrape_page(topic[\"topic\"], topic[\"url\"]), ignore_index=True)\n",
      " 25%|██▍       | 359/1452 [07:44<28:21,  1.56s/it]"
     ]
    },
    {
     "name": "stdout",
     "output_type": "stream",
     "text": [
      "Scraping Eaton-Lambert Syndrome...\n",
      "Found 8 sections for Eaton-Lambert Syndrome\n"
     ]
    },
    {
     "name": "stderr",
     "output_type": "stream",
     "text": [
      "C:\\Users\\Raj\\AppData\\Local\\Temp\\ipykernel_29048\\2168445501.py:6: FutureWarning: The frame.append method is deprecated and will be removed from pandas in a future version. Use pandas.concat instead.\n",
      "  df = df.append(scrape_page(topic[\"topic\"], topic[\"url\"]), ignore_index=True)\n",
      " 25%|██▍       | 360/1452 [07:45<26:39,  1.46s/it]C:\\Users\\Raj\\AppData\\Local\\Temp\\ipykernel_29048\\2168445501.py:6: FutureWarning: The frame.append method is deprecated and will be removed from pandas in a future version. Use pandas.concat instead.\n",
      "  df = df.append(scrape_page(topic[\"topic\"], topic[\"url\"]), ignore_index=True)\n"
     ]
    },
    {
     "name": "stdout",
     "output_type": "stream",
     "text": [
      "Scraping EB...\n",
      "Found 10 sections for EB\n"
     ]
    },
    {
     "name": "stderr",
     "output_type": "stream",
     "text": [
      " 25%|██▍       | 361/1452 [07:46<25:03,  1.38s/it]"
     ]
    },
    {
     "name": "stdout",
     "output_type": "stream",
     "text": [
      "Scraping Ebola...\n",
      "Found 12 sections for Ebola\n"
     ]
    },
    {
     "name": "stderr",
     "output_type": "stream",
     "text": [
      "C:\\Users\\Raj\\AppData\\Local\\Temp\\ipykernel_29048\\2168445501.py:6: FutureWarning: The frame.append method is deprecated and will be removed from pandas in a future version. Use pandas.concat instead.\n",
      "  df = df.append(scrape_page(topic[\"topic\"], topic[\"url\"]), ignore_index=True)\n",
      " 25%|██▍       | 362/1452 [07:47<24:16,  1.34s/it]"
     ]
    },
    {
     "name": "stdout",
     "output_type": "stream",
     "text": [
      "Scraping Ectodermal Dysplasia, Rapp-Hodgkin type...\n",
      "Found 5 sections for Ectodermal Dysplasia, Rapp-Hodgkin type\n"
     ]
    },
    {
     "name": "stderr",
     "output_type": "stream",
     "text": [
      "C:\\Users\\Raj\\AppData\\Local\\Temp\\ipykernel_29048\\2168445501.py:6: FutureWarning: The frame.append method is deprecated and will be removed from pandas in a future version. Use pandas.concat instead.\n",
      "  df = df.append(scrape_page(topic[\"topic\"], topic[\"url\"]), ignore_index=True)\n",
      " 25%|██▌       | 363/1452 [07:49<26:25,  1.46s/it]"
     ]
    },
    {
     "name": "stdout",
     "output_type": "stream",
     "text": [
      "Scraping Ectodermosis Erosiva Pluriorificialis...\n",
      "Found 7 sections for Ectodermosis Erosiva Pluriorificialis\n"
     ]
    },
    {
     "name": "stderr",
     "output_type": "stream",
     "text": [
      "C:\\Users\\Raj\\AppData\\Local\\Temp\\ipykernel_29048\\2168445501.py:6: FutureWarning: The frame.append method is deprecated and will be removed from pandas in a future version. Use pandas.concat instead.\n",
      "  df = df.append(scrape_page(topic[\"topic\"], topic[\"url\"]), ignore_index=True)\n",
      " 25%|██▌       | 364/1452 [07:51<29:32,  1.63s/it]"
     ]
    },
    {
     "name": "stdout",
     "output_type": "stream",
     "text": [
      "Scraping Ectopia Cordis...\n",
      "Found 9 sections for Ectopia Cordis\n"
     ]
    },
    {
     "name": "stderr",
     "output_type": "stream",
     "text": [
      "C:\\Users\\Raj\\AppData\\Local\\Temp\\ipykernel_29048\\2168445501.py:6: FutureWarning: The frame.append method is deprecated and will be removed from pandas in a future version. Use pandas.concat instead.\n",
      "  df = df.append(scrape_page(topic[\"topic\"], topic[\"url\"]), ignore_index=True)\n",
      " 25%|██▌       | 365/1452 [07:52<27:25,  1.51s/it]"
     ]
    },
    {
     "name": "stdout",
     "output_type": "stream",
     "text": [
      "Scraping Ectopic Pregnancy...\n",
      "Found 11 sections for Ectopic Pregnancy\n"
     ]
    },
    {
     "name": "stderr",
     "output_type": "stream",
     "text": [
      "C:\\Users\\Raj\\AppData\\Local\\Temp\\ipykernel_29048\\2168445501.py:6: FutureWarning: The frame.append method is deprecated and will be removed from pandas in a future version. Use pandas.concat instead.\n",
      "  df = df.append(scrape_page(topic[\"topic\"], topic[\"url\"]), ignore_index=True)\n",
      " 25%|██▌       | 366/1452 [07:54<26:08,  1.44s/it]C:\\Users\\Raj\\AppData\\Local\\Temp\\ipykernel_29048\\2168445501.py:6: FutureWarning: The frame.append method is deprecated and will be removed from pandas in a future version. Use pandas.concat instead.\n",
      "  df = df.append(scrape_page(topic[\"topic\"], topic[\"url\"]), ignore_index=True)\n"
     ]
    },
    {
     "name": "stdout",
     "output_type": "stream",
     "text": [
      "Scraping Ectropion (Drooping Eyelids)...\n",
      "Found 5 sections for Ectropion (Drooping Eyelids)\n"
     ]
    },
    {
     "name": "stderr",
     "output_type": "stream",
     "text": [
      " 25%|██▌       | 367/1452 [07:55<24:47,  1.37s/it]"
     ]
    },
    {
     "name": "stdout",
     "output_type": "stream",
     "text": [
      "Scraping Eczema, Atopic...\n",
      "Found 17 sections for Eczema, Atopic\n"
     ]
    },
    {
     "name": "stderr",
     "output_type": "stream",
     "text": [
      "C:\\Users\\Raj\\AppData\\Local\\Temp\\ipykernel_29048\\2168445501.py:6: FutureWarning: The frame.append method is deprecated and will be removed from pandas in a future version. Use pandas.concat instead.\n",
      "  df = df.append(scrape_page(topic[\"topic\"], topic[\"url\"]), ignore_index=True)\n",
      " 25%|██▌       | 368/1452 [07:56<24:09,  1.34s/it]"
     ]
    },
    {
     "name": "stdout",
     "output_type": "stream",
     "text": [
      "Scraping E-D Syndrome...\n",
      "Found 8 sections for E-D Syndrome\n"
     ]
    },
    {
     "name": "stderr",
     "output_type": "stream",
     "text": [
      "C:\\Users\\Raj\\AppData\\Local\\Temp\\ipykernel_29048\\2168445501.py:6: FutureWarning: The frame.append method is deprecated and will be removed from pandas in a future version. Use pandas.concat instead.\n",
      "  df = df.append(scrape_page(topic[\"topic\"], topic[\"url\"]), ignore_index=True)\n",
      " 25%|██▌       | 369/1452 [07:57<23:40,  1.31s/it]C:\\Users\\Raj\\AppData\\Local\\Temp\\ipykernel_29048\\2168445501.py:6: FutureWarning: The frame.append method is deprecated and will be removed from pandas in a future version. Use pandas.concat instead.\n",
      "  df = df.append(scrape_page(topic[\"topic\"], topic[\"url\"]), ignore_index=True)\n"
     ]
    },
    {
     "name": "stdout",
     "output_type": "stream",
     "text": [
      "Scraping Edema, Idiopathic...\n",
      "Found 8 sections for Edema, Idiopathic\n"
     ]
    },
    {
     "name": "stderr",
     "output_type": "stream",
     "text": [
      " 25%|██▌       | 370/1452 [07:59<23:07,  1.28s/it]C:\\Users\\Raj\\AppData\\Local\\Temp\\ipykernel_29048\\2168445501.py:6: FutureWarning: The frame.append method is deprecated and will be removed from pandas in a future version. Use pandas.concat instead.\n",
      "  df = df.append(scrape_page(topic[\"topic\"], topic[\"url\"]), ignore_index=True)\n"
     ]
    },
    {
     "name": "stdout",
     "output_type": "stream",
     "text": [
      "Scraping EDMD...\n",
      "Found 13 sections for EDMD\n"
     ]
    },
    {
     "name": "stderr",
     "output_type": "stream",
     "text": [
      " 26%|██▌       | 371/1452 [08:00<22:38,  1.26s/it]"
     ]
    },
    {
     "name": "stdout",
     "output_type": "stream",
     "text": [
      "Scraping Edward's Syndrome...\n",
      "Found 8 sections for Edward's Syndrome\n"
     ]
    },
    {
     "name": "stderr",
     "output_type": "stream",
     "text": [
      "C:\\Users\\Raj\\AppData\\Local\\Temp\\ipykernel_29048\\2168445501.py:6: FutureWarning: The frame.append method is deprecated and will be removed from pandas in a future version. Use pandas.concat instead.\n",
      "  df = df.append(scrape_page(topic[\"topic\"], topic[\"url\"]), ignore_index=True)\n",
      " 26%|██▌       | 372/1452 [08:01<22:43,  1.26s/it]C:\\Users\\Raj\\AppData\\Local\\Temp\\ipykernel_29048\\2168445501.py:6: FutureWarning: The frame.append method is deprecated and will be removed from pandas in a future version. Use pandas.concat instead.\n",
      "  df = df.append(scrape_page(topic[\"topic\"], topic[\"url\"]), ignore_index=True)\n"
     ]
    },
    {
     "name": "stdout",
     "output_type": "stream",
     "text": [
      "Scraping Effective Tooth Brushing and Flossing...\n",
      "Found 8 sections for Effective Tooth Brushing and Flossing\n"
     ]
    },
    {
     "name": "stderr",
     "output_type": "stream",
     "text": [
      " 26%|██▌       | 373/1452 [08:02<22:30,  1.25s/it]"
     ]
    },
    {
     "name": "stdout",
     "output_type": "stream",
     "text": [
      "Scraping Egg Allergy...\n",
      "Found 6 sections for Egg Allergy\n"
     ]
    },
    {
     "name": "stderr",
     "output_type": "stream",
     "text": [
      "C:\\Users\\Raj\\AppData\\Local\\Temp\\ipykernel_29048\\2168445501.py:6: FutureWarning: The frame.append method is deprecated and will be removed from pandas in a future version. Use pandas.concat instead.\n",
      "  df = df.append(scrape_page(topic[\"topic\"], topic[\"url\"]), ignore_index=True)\n",
      " 26%|██▌       | 374/1452 [08:04<22:23,  1.25s/it]"
     ]
    },
    {
     "name": "stdout",
     "output_type": "stream",
     "text": [
      "Scraping EHBA...\n",
      "Found 7 sections for EHBA\n"
     ]
    },
    {
     "name": "stderr",
     "output_type": "stream",
     "text": [
      "C:\\Users\\Raj\\AppData\\Local\\Temp\\ipykernel_29048\\2168445501.py:6: FutureWarning: The frame.append method is deprecated and will be removed from pandas in a future version. Use pandas.concat instead.\n",
      "  df = df.append(scrape_page(topic[\"topic\"], topic[\"url\"]), ignore_index=True)\n",
      " 26%|██▌       | 375/1452 [08:05<22:22,  1.25s/it]"
     ]
    },
    {
     "name": "stdout",
     "output_type": "stream",
     "text": [
      "Scraping Eisenmenger Complex...\n",
      "Found 8 sections for Eisenmenger Complex\n"
     ]
    },
    {
     "name": "stderr",
     "output_type": "stream",
     "text": [
      "C:\\Users\\Raj\\AppData\\Local\\Temp\\ipykernel_29048\\2168445501.py:6: FutureWarning: The frame.append method is deprecated and will be removed from pandas in a future version. Use pandas.concat instead.\n",
      "  df = df.append(scrape_page(topic[\"topic\"], topic[\"url\"]), ignore_index=True)\n",
      " 26%|██▌       | 376/1452 [08:07<26:03,  1.45s/it]"
     ]
    },
    {
     "name": "stdout",
     "output_type": "stream",
     "text": [
      "Scraping Ekman-Lobstein Disease...\n",
      "Found 7 sections for Ekman-Lobstein Disease\n"
     ]
    },
    {
     "name": "stderr",
     "output_type": "stream",
     "text": [
      "C:\\Users\\Raj\\AppData\\Local\\Temp\\ipykernel_29048\\2168445501.py:6: FutureWarning: The frame.append method is deprecated and will be removed from pandas in a future version. Use pandas.concat instead.\n",
      "  df = df.append(scrape_page(topic[\"topic\"], topic[\"url\"]), ignore_index=True)\n",
      " 26%|██▌       | 377/1452 [08:08<24:59,  1.40s/it]C:\\Users\\Raj\\AppData\\Local\\Temp\\ipykernel_29048\\2168445501.py:6: FutureWarning: The frame.append method is deprecated and will be removed from pandas in a future version. Use pandas.concat instead.\n",
      "  df = df.append(scrape_page(topic[\"topic\"], topic[\"url\"]), ignore_index=True)\n"
     ]
    },
    {
     "name": "stdout",
     "output_type": "stream",
     "text": [
      "Scraping Electrolyte Panel...\n",
      "Found 6 sections for Electrolyte Panel\n"
     ]
    },
    {
     "name": "stderr",
     "output_type": "stream",
     "text": [
      " 26%|██▌       | 378/1452 [08:09<24:03,  1.34s/it]"
     ]
    },
    {
     "name": "stdout",
     "output_type": "stream",
     "text": [
      "Scraping Elephantiasis...\n",
      "Found 7 sections for Elephantiasis\n"
     ]
    },
    {
     "name": "stderr",
     "output_type": "stream",
     "text": [
      "C:\\Users\\Raj\\AppData\\Local\\Temp\\ipykernel_29048\\2168445501.py:6: FutureWarning: The frame.append method is deprecated and will be removed from pandas in a future version. Use pandas.concat instead.\n",
      "  df = df.append(scrape_page(topic[\"topic\"], topic[\"url\"]), ignore_index=True)\n",
      " 26%|██▌       | 379/1452 [08:11<23:40,  1.32s/it]"
     ]
    },
    {
     "name": "stdout",
     "output_type": "stream",
     "text": [
      "Scraping Embolism, Pulmonary...\n",
      "Found 5 sections for Embolism, Pulmonary\n"
     ]
    },
    {
     "name": "stderr",
     "output_type": "stream",
     "text": [
      "C:\\Users\\Raj\\AppData\\Local\\Temp\\ipykernel_29048\\2168445501.py:6: FutureWarning: The frame.append method is deprecated and will be removed from pandas in a future version. Use pandas.concat instead.\n",
      "  df = df.append(scrape_page(topic[\"topic\"], topic[\"url\"]), ignore_index=True)\n",
      " 26%|██▌       | 380/1452 [08:12<23:16,  1.30s/it]C:\\Users\\Raj\\AppData\\Local\\Temp\\ipykernel_29048\\2168445501.py:6: FutureWarning: The frame.append method is deprecated and will be removed from pandas in a future version. Use pandas.concat instead.\n",
      "  df = df.append(scrape_page(topic[\"topic\"], topic[\"url\"]), ignore_index=True)\n"
     ]
    },
    {
     "name": "stdout",
     "output_type": "stream",
     "text": [
      "Scraping Emergencies, Rescue Breathing and CPR...\n",
      "Found 5 sections for Emergencies, Rescue Breathing and CPR\n"
     ]
    },
    {
     "name": "stderr",
     "output_type": "stream",
     "text": [
      " 26%|██▌       | 381/1452 [08:13<22:49,  1.28s/it]"
     ]
    },
    {
     "name": "stdout",
     "output_type": "stream",
     "text": [
      "Scraping Emphysema...\n",
      "Found 12 sections for Emphysema\n"
     ]
    },
    {
     "name": "stderr",
     "output_type": "stream",
     "text": [
      "C:\\Users\\Raj\\AppData\\Local\\Temp\\ipykernel_29048\\2168445501.py:6: FutureWarning: The frame.append method is deprecated and will be removed from pandas in a future version. Use pandas.concat instead.\n",
      "  df = df.append(scrape_page(topic[\"topic\"], topic[\"url\"]), ignore_index=True)\n",
      " 26%|██▋       | 382/1452 [08:14<23:22,  1.31s/it]"
     ]
    },
    {
     "name": "stdout",
     "output_type": "stream",
     "text": [
      "Scraping Empty Sella Syndrome...\n",
      "Found 4 sections for Empty Sella Syndrome\n"
     ]
    },
    {
     "name": "stderr",
     "output_type": "stream",
     "text": [
      "C:\\Users\\Raj\\AppData\\Local\\Temp\\ipykernel_29048\\2168445501.py:6: FutureWarning: The frame.append method is deprecated and will be removed from pandas in a future version. Use pandas.concat instead.\n",
      "  df = df.append(scrape_page(topic[\"topic\"], topic[\"url\"]), ignore_index=True)\n",
      " 26%|██▋       | 383/1452 [08:16<22:58,  1.29s/it]C:\\Users\\Raj\\AppData\\Local\\Temp\\ipykernel_29048\\2168445501.py:6: FutureWarning: The frame.append method is deprecated and will be removed from pandas in a future version. Use pandas.concat instead.\n",
      "  df = df.append(scrape_page(topic[\"topic\"], topic[\"url\"]), ignore_index=True)\n"
     ]
    },
    {
     "name": "stdout",
     "output_type": "stream",
     "text": [
      "Scraping Encephalitis...\n",
      "Found 7 sections for Encephalitis\n"
     ]
    },
    {
     "name": "stderr",
     "output_type": "stream",
     "text": [
      " 26%|██▋       | 384/1452 [08:17<22:37,  1.27s/it]"
     ]
    },
    {
     "name": "stdout",
     "output_type": "stream",
     "text": [
      "Scraping Encephalofacial Angiomatosis...\n",
      "Found 4 sections for Encephalofacial Angiomatosis\n"
     ]
    },
    {
     "name": "stderr",
     "output_type": "stream",
     "text": [
      "C:\\Users\\Raj\\AppData\\Local\\Temp\\ipykernel_29048\\2168445501.py:6: FutureWarning: The frame.append method is deprecated and will be removed from pandas in a future version. Use pandas.concat instead.\n",
      "  df = df.append(scrape_page(topic[\"topic\"], topic[\"url\"]), ignore_index=True)\n",
      " 27%|██▋       | 385/1452 [08:18<22:31,  1.27s/it]"
     ]
    },
    {
     "name": "stdout",
     "output_type": "stream",
     "text": [
      "Scraping Endocarditis...\n",
      "Found 8 sections for Endocarditis\n"
     ]
    },
    {
     "name": "stderr",
     "output_type": "stream",
     "text": [
      "C:\\Users\\Raj\\AppData\\Local\\Temp\\ipykernel_29048\\2168445501.py:6: FutureWarning: The frame.append method is deprecated and will be removed from pandas in a future version. Use pandas.concat instead.\n",
      "  df = df.append(scrape_page(topic[\"topic\"], topic[\"url\"]), ignore_index=True)\n",
      " 27%|██▋       | 386/1452 [08:19<22:27,  1.26s/it]C:\\Users\\Raj\\AppData\\Local\\Temp\\ipykernel_29048\\2168445501.py:6: FutureWarning: The frame.append method is deprecated and will be removed from pandas in a future version. Use pandas.concat instead.\n",
      "  df = df.append(scrape_page(topic[\"topic\"], topic[\"url\"]), ignore_index=True)\n"
     ]
    },
    {
     "name": "stdout",
     "output_type": "stream",
     "text": [
      "Scraping Endocarditis, Prevention...\n",
      "Found 7 sections for Endocarditis, Prevention\n"
     ]
    },
    {
     "name": "stderr",
     "output_type": "stream",
     "text": [
      " 27%|██▋       | 387/1452 [08:21<22:13,  1.25s/it]"
     ]
    },
    {
     "name": "stdout",
     "output_type": "stream",
     "text": [
      "Scraping Endometrial Cancer...\n",
      "Found 9 sections for Endometrial Cancer\n"
     ]
    },
    {
     "name": "stderr",
     "output_type": "stream",
     "text": [
      "C:\\Users\\Raj\\AppData\\Local\\Temp\\ipykernel_29048\\2168445501.py:6: FutureWarning: The frame.append method is deprecated and will be removed from pandas in a future version. Use pandas.concat instead.\n",
      "  df = df.append(scrape_page(topic[\"topic\"], topic[\"url\"]), ignore_index=True)\n",
      " 27%|██▋       | 388/1452 [08:22<22:17,  1.26s/it]"
     ]
    },
    {
     "name": "stdout",
     "output_type": "stream",
     "text": [
      "Scraping Enterovirus D68...\n",
      "Found 5 sections for Enterovirus D68\n"
     ]
    },
    {
     "name": "stderr",
     "output_type": "stream",
     "text": [
      "C:\\Users\\Raj\\AppData\\Local\\Temp\\ipykernel_29048\\2168445501.py:6: FutureWarning: The frame.append method is deprecated and will be removed from pandas in a future version. Use pandas.concat instead.\n",
      "  df = df.append(scrape_page(topic[\"topic\"], topic[\"url\"]), ignore_index=True)\n",
      " 27%|██▋       | 389/1452 [08:23<22:09,  1.25s/it]"
     ]
    },
    {
     "name": "stdout",
     "output_type": "stream",
     "text": [
      "Scraping Epicondylitis (Tennis Elbow)...\n",
      "Found 8 sections for Epicondylitis (Tennis Elbow)\n"
     ]
    },
    {
     "name": "stderr",
     "output_type": "stream",
     "text": [
      "C:\\Users\\Raj\\AppData\\Local\\Temp\\ipykernel_29048\\2168445501.py:6: FutureWarning: The frame.append method is deprecated and will be removed from pandas in a future version. Use pandas.concat instead.\n",
      "  df = df.append(scrape_page(topic[\"topic\"], topic[\"url\"]), ignore_index=True)\n",
      " 27%|██▋       | 390/1452 [08:24<22:04,  1.25s/it]"
     ]
    },
    {
     "name": "stdout",
     "output_type": "stream",
     "text": [
      "Scraping Epidemic Cerebrospinal Meningitis...\n",
      "Found 9 sections for Epidemic Cerebrospinal Meningitis\n"
     ]
    },
    {
     "name": "stderr",
     "output_type": "stream",
     "text": [
      "C:\\Users\\Raj\\AppData\\Local\\Temp\\ipykernel_29048\\2168445501.py:6: FutureWarning: The frame.append method is deprecated and will be removed from pandas in a future version. Use pandas.concat instead.\n",
      "  df = df.append(scrape_page(topic[\"topic\"], topic[\"url\"]), ignore_index=True)\n",
      " 27%|██▋       | 391/1452 [08:26<22:30,  1.27s/it]"
     ]
    },
    {
     "name": "stdout",
     "output_type": "stream",
     "text": [
      "Scraping Epidemic Cholera...\n",
      "Found 6 sections for Epidemic Cholera\n"
     ]
    },
    {
     "name": "stderr",
     "output_type": "stream",
     "text": [
      "C:\\Users\\Raj\\AppData\\Local\\Temp\\ipykernel_29048\\2168445501.py:6: FutureWarning: The frame.append method is deprecated and will be removed from pandas in a future version. Use pandas.concat instead.\n",
      "  df = df.append(scrape_page(topic[\"topic\"], topic[\"url\"]), ignore_index=True)\n",
      " 27%|██▋       | 392/1452 [08:27<22:15,  1.26s/it]"
     ]
    },
    {
     "name": "stdout",
     "output_type": "stream",
     "text": [
      "Scraping Epididymal Cyst...\n",
      "Found 7 sections for Epididymal Cyst\n"
     ]
    },
    {
     "name": "stderr",
     "output_type": "stream",
     "text": [
      "C:\\Users\\Raj\\AppData\\Local\\Temp\\ipykernel_29048\\2168445501.py:6: FutureWarning: The frame.append method is deprecated and will be removed from pandas in a future version. Use pandas.concat instead.\n",
      "  df = df.append(scrape_page(topic[\"topic\"], topic[\"url\"]), ignore_index=True)\n",
      " 27%|██▋       | 393/1452 [08:28<22:05,  1.25s/it]"
     ]
    },
    {
     "name": "stdout",
     "output_type": "stream",
     "text": [
      "Scraping Epididymitis...\n",
      "Found 12 sections for Epididymitis\n"
     ]
    },
    {
     "name": "stderr",
     "output_type": "stream",
     "text": [
      "C:\\Users\\Raj\\AppData\\Local\\Temp\\ipykernel_29048\\2168445501.py:6: FutureWarning: The frame.append method is deprecated and will be removed from pandas in a future version. Use pandas.concat instead.\n",
      "  df = df.append(scrape_page(topic[\"topic\"], topic[\"url\"]), ignore_index=True)\n",
      " 27%|██▋       | 394/1452 [08:29<22:08,  1.26s/it]"
     ]
    },
    {
     "name": "stdout",
     "output_type": "stream",
     "text": [
      "Scraping Epilepsy and Seizures...\n",
      "Found 7 sections for Epilepsy and Seizures\n"
     ]
    },
    {
     "name": "stderr",
     "output_type": "stream",
     "text": [
      "C:\\Users\\Raj\\AppData\\Local\\Temp\\ipykernel_29048\\2168445501.py:6: FutureWarning: The frame.append method is deprecated and will be removed from pandas in a future version. Use pandas.concat instead.\n",
      "  df = df.append(scrape_page(topic[\"topic\"], topic[\"url\"]), ignore_index=True)\n",
      " 27%|██▋       | 395/1452 [08:31<22:08,  1.26s/it]"
     ]
    },
    {
     "name": "stdout",
     "output_type": "stream",
     "text": [
      "Scraping Episodic Ataxia...\n",
      "Found 10 sections for Episodic Ataxia\n"
     ]
    },
    {
     "name": "stderr",
     "output_type": "stream",
     "text": [
      "C:\\Users\\Raj\\AppData\\Local\\Temp\\ipykernel_29048\\2168445501.py:6: FutureWarning: The frame.append method is deprecated and will be removed from pandas in a future version. Use pandas.concat instead.\n",
      "  df = df.append(scrape_page(topic[\"topic\"], topic[\"url\"]), ignore_index=True)\n",
      " 27%|██▋       | 396/1452 [08:32<22:24,  1.27s/it]"
     ]
    },
    {
     "name": "stdout",
     "output_type": "stream",
     "text": [
      "Scraping Epstein-Barr Virus...\n",
      "Found 9 sections for Epstein-Barr Virus\n"
     ]
    },
    {
     "name": "stderr",
     "output_type": "stream",
     "text": [
      "C:\\Users\\Raj\\AppData\\Local\\Temp\\ipykernel_29048\\2168445501.py:6: FutureWarning: The frame.append method is deprecated and will be removed from pandas in a future version. Use pandas.concat instead.\n",
      "  df = df.append(scrape_page(topic[\"topic\"], topic[\"url\"]), ignore_index=True)\n",
      " 27%|██▋       | 397/1452 [08:33<22:16,  1.27s/it]"
     ]
    },
    {
     "name": "stdout",
     "output_type": "stream",
     "text": [
      "Scraping Erythema Infectiosum (Fifth Disease)...\n",
      "Found 7 sections for Erythema Infectiosum (Fifth Disease)\n"
     ]
    },
    {
     "name": "stderr",
     "output_type": "stream",
     "text": [
      "C:\\Users\\Raj\\AppData\\Local\\Temp\\ipykernel_29048\\2168445501.py:6: FutureWarning: The frame.append method is deprecated and will be removed from pandas in a future version. Use pandas.concat instead.\n",
      "  df = df.append(scrape_page(topic[\"topic\"], topic[\"url\"]), ignore_index=True)\n",
      " 27%|██▋       | 398/1452 [08:35<22:06,  1.26s/it]"
     ]
    },
    {
     "name": "stdout",
     "output_type": "stream",
     "text": [
      "Scraping Erythema Multiforme...\n",
      "Found 4 sections for Erythema Multiforme\n"
     ]
    },
    {
     "name": "stderr",
     "output_type": "stream",
     "text": [
      "C:\\Users\\Raj\\AppData\\Local\\Temp\\ipykernel_29048\\2168445501.py:6: FutureWarning: The frame.append method is deprecated and will be removed from pandas in a future version. Use pandas.concat instead.\n",
      "  df = df.append(scrape_page(topic[\"topic\"], topic[\"url\"]), ignore_index=True)\n",
      " 27%|██▋       | 399/1452 [08:36<24:31,  1.40s/it]"
     ]
    },
    {
     "name": "stdout",
     "output_type": "stream",
     "text": [
      "Scraping Ewing's Family of Tumors...\n",
      "Found 10 sections for Ewing's Family of Tumors\n"
     ]
    },
    {
     "name": "stderr",
     "output_type": "stream",
     "text": [
      "C:\\Users\\Raj\\AppData\\Local\\Temp\\ipykernel_29048\\2168445501.py:6: FutureWarning: The frame.append method is deprecated and will be removed from pandas in a future version. Use pandas.concat instead.\n",
      "  df = df.append(scrape_page(topic[\"topic\"], topic[\"url\"]), ignore_index=True)\n",
      " 28%|██▊       | 400/1452 [08:37<23:45,  1.36s/it]"
     ]
    },
    {
     "name": "stdout",
     "output_type": "stream",
     "text": [
      "Scraping Exercise: 30-Minute Workout Slideshow...\n"
     ]
    },
    {
     "name": "stderr",
     "output_type": "stream",
     "text": [
      "C:\\Users\\Raj\\AppData\\Local\\Temp\\ipykernel_29048\\2168445501.py:6: FutureWarning: The frame.append method is deprecated and will be removed from pandas in a future version. Use pandas.concat instead.\n",
      "  df = df.append(scrape_page(topic[\"topic\"], topic[\"url\"]), ignore_index=True)\n",
      " 28%|██▊       | 401/1452 [08:39<23:09,  1.32s/it]C:\\Users\\Raj\\AppData\\Local\\Temp\\ipykernel_29048\\2168445501.py:6: FutureWarning: The frame.append method is deprecated and will be removed from pandas in a future version. Use pandas.concat instead.\n",
      "  df = df.append(scrape_page(topic[\"topic\"], topic[\"url\"]), ignore_index=True)\n"
     ]
    },
    {
     "name": "stdout",
     "output_type": "stream",
     "text": [
      "Scraping Exercise: 7 Most Effective Exercises Slideshow...\n"
     ]
    },
    {
     "name": "stderr",
     "output_type": "stream",
     "text": [
      " 28%|██▊       | 402/1452 [08:40<22:38,  1.29s/it]"
     ]
    },
    {
     "name": "stdout",
     "output_type": "stream",
     "text": [
      "Scraping Exercise: Flat Abs Slideshow...\n"
     ]
    },
    {
     "name": "stderr",
     "output_type": "stream",
     "text": [
      "C:\\Users\\Raj\\AppData\\Local\\Temp\\ipykernel_29048\\2168445501.py:6: FutureWarning: The frame.append method is deprecated and will be removed from pandas in a future version. Use pandas.concat instead.\n",
      "  df = df.append(scrape_page(topic[\"topic\"], topic[\"url\"]), ignore_index=True)\n",
      " 28%|██▊       | 403/1452 [08:41<23:21,  1.34s/it]"
     ]
    },
    {
     "name": "stdout",
     "output_type": "stream",
     "text": [
      "Scraping Exercises for COPD...\n",
      "Found 14 sections for Exercises for COPD\n"
     ]
    },
    {
     "name": "stderr",
     "output_type": "stream",
     "text": [
      "C:\\Users\\Raj\\AppData\\Local\\Temp\\ipykernel_29048\\2168445501.py:6: FutureWarning: The frame.append method is deprecated and will be removed from pandas in a future version. Use pandas.concat instead.\n",
      "  df = df.append(scrape_page(topic[\"topic\"], topic[\"url\"]), ignore_index=True)\n",
      " 28%|██▊       | 404/1452 [08:43<22:45,  1.30s/it]"
     ]
    },
    {
     "name": "stdout",
     "output_type": "stream",
     "text": [
      "Scraping Exercises to Reduce Low Back Pain...\n"
     ]
    },
    {
     "name": "stderr",
     "output_type": "stream",
     "text": [
      "C:\\Users\\Raj\\AppData\\Local\\Temp\\ipykernel_29048\\2168445501.py:6: FutureWarning: The frame.append method is deprecated and will be removed from pandas in a future version. Use pandas.concat instead.\n",
      "  df = df.append(scrape_page(topic[\"topic\"], topic[\"url\"]), ignore_index=True)\n",
      " 28%|██▊       | 405/1452 [08:44<23:11,  1.33s/it]"
     ]
    },
    {
     "name": "stdout",
     "output_type": "stream",
     "text": [
      "Scraping Exercises to Reduce Plantar Fasciitis...\n",
      "Found 5 sections for Exercises to Reduce Plantar Fasciitis\n"
     ]
    },
    {
     "name": "stderr",
     "output_type": "stream",
     "text": [
      "C:\\Users\\Raj\\AppData\\Local\\Temp\\ipykernel_29048\\2168445501.py:6: FutureWarning: The frame.append method is deprecated and will be removed from pandas in a future version. Use pandas.concat instead.\n",
      "  df = df.append(scrape_page(topic[\"topic\"], topic[\"url\"]), ignore_index=True)\n",
      " 28%|██▊       | 406/1452 [08:45<22:59,  1.32s/it]"
     ]
    },
    {
     "name": "stdout",
     "output_type": "stream",
     "text": [
      "Scraping Exercising for a Healthy Heart...\n",
      "Found 9 sections for Exercising for a Healthy Heart\n"
     ]
    },
    {
     "name": "stderr",
     "output_type": "stream",
     "text": [
      "C:\\Users\\Raj\\AppData\\Local\\Temp\\ipykernel_29048\\2168445501.py:6: FutureWarning: The frame.append method is deprecated and will be removed from pandas in a future version. Use pandas.concat instead.\n",
      "  df = df.append(scrape_page(topic[\"topic\"], topic[\"url\"]), ignore_index=True)\n",
      " 28%|██▊       | 407/1452 [08:47<23:29,  1.35s/it]"
     ]
    },
    {
     "name": "stdout",
     "output_type": "stream",
     "text": [
      "Scraping Exercising with Osteoarthritis...\n",
      "Found 10 sections for Exercising with Osteoarthritis\n"
     ]
    },
    {
     "name": "stderr",
     "output_type": "stream",
     "text": [
      "C:\\Users\\Raj\\AppData\\Local\\Temp\\ipykernel_29048\\2168445501.py:6: FutureWarning: The frame.append method is deprecated and will be removed from pandas in a future version. Use pandas.concat instead.\n",
      "  df = df.append(scrape_page(topic[\"topic\"], topic[\"url\"]), ignore_index=True)\n",
      " 28%|██▊       | 408/1452 [08:48<22:58,  1.32s/it]"
     ]
    },
    {
     "name": "stdout",
     "output_type": "stream",
     "text": [
      "Scraping Exocrine Pancreatic Insufficiency...\n",
      "Found 15 sections for Exocrine Pancreatic Insufficiency\n"
     ]
    },
    {
     "name": "stderr",
     "output_type": "stream",
     "text": [
      "C:\\Users\\Raj\\AppData\\Local\\Temp\\ipykernel_29048\\2168445501.py:6: FutureWarning: The frame.append method is deprecated and will be removed from pandas in a future version. Use pandas.concat instead.\n",
      "  df = df.append(scrape_page(topic[\"topic\"], topic[\"url\"]), ignore_index=True)\n",
      " 28%|██▊       | 409/1452 [08:49<22:34,  1.30s/it]"
     ]
    },
    {
     "name": "stdout",
     "output_type": "stream",
     "text": [
      "Scraping Expanded Rubella Syndrome...\n",
      "Found 10 sections for Expanded Rubella Syndrome\n"
     ]
    },
    {
     "name": "stderr",
     "output_type": "stream",
     "text": [
      "C:\\Users\\Raj\\AppData\\Local\\Temp\\ipykernel_29048\\2168445501.py:6: FutureWarning: The frame.append method is deprecated and will be removed from pandas in a future version. Use pandas.concat instead.\n",
      "  df = df.append(scrape_page(topic[\"topic\"], topic[\"url\"]), ignore_index=True)\n",
      " 28%|██▊       | 410/1452 [08:50<22:23,  1.29s/it]"
     ]
    },
    {
     "name": "stdout",
     "output_type": "stream",
     "text": [
      "Scraping Extragonadal Germ Cell Tumors...\n",
      "Found 8 sections for Extragonadal Germ Cell Tumors\n"
     ]
    },
    {
     "name": "stderr",
     "output_type": "stream",
     "text": [
      "C:\\Users\\Raj\\AppData\\Local\\Temp\\ipykernel_29048\\2168445501.py:6: FutureWarning: The frame.append method is deprecated and will be removed from pandas in a future version. Use pandas.concat instead.\n",
      "  df = df.append(scrape_page(topic[\"topic\"], topic[\"url\"]), ignore_index=True)\n",
      " 28%|██▊       | 411/1452 [08:52<24:47,  1.43s/it]C:\\Users\\Raj\\AppData\\Local\\Temp\\ipykernel_29048\\2168445501.py:6: FutureWarning: The frame.append method is deprecated and will be removed from pandas in a future version. Use pandas.concat instead.\n",
      "  df = df.append(scrape_page(topic[\"topic\"], topic[\"url\"]), ignore_index=True)\n"
     ]
    },
    {
     "name": "stdout",
     "output_type": "stream",
     "text": [
      "Scraping Extrauterine Pregnancy...\n",
      "Found 11 sections for Extrauterine Pregnancy\n"
     ]
    },
    {
     "name": "stderr",
     "output_type": "stream",
     "text": [
      " 28%|██▊       | 412/1452 [08:53<23:33,  1.36s/it]C:\\Users\\Raj\\AppData\\Local\\Temp\\ipykernel_29048\\2168445501.py:6: FutureWarning: The frame.append method is deprecated and will be removed from pandas in a future version. Use pandas.concat instead.\n",
      "  df = df.append(scrape_page(topic[\"topic\"], topic[\"url\"]), ignore_index=True)\n"
     ]
    },
    {
     "name": "stdout",
     "output_type": "stream",
     "text": [
      "Scraping Eye Retraction Syndrome...\n",
      "Found 7 sections for Eye Retraction Syndrome\n"
     ]
    },
    {
     "name": "stderr",
     "output_type": "stream",
     "text": [
      " 28%|██▊       | 413/1452 [08:55<22:43,  1.31s/it]"
     ]
    },
    {
     "name": "stdout",
     "output_type": "stream",
     "text": [
      "Scraping Eyelid Problems...\n",
      "Found 7 sections for Eyelid Problems\n"
     ]
    },
    {
     "name": "stderr",
     "output_type": "stream",
     "text": [
      "C:\\Users\\Raj\\AppData\\Local\\Temp\\ipykernel_29048\\2168445501.py:6: FutureWarning: The frame.append method is deprecated and will be removed from pandas in a future version. Use pandas.concat instead.\n",
      "  df = df.append(scrape_page(topic[\"topic\"], topic[\"url\"]), ignore_index=True)\n",
      " 29%|██▊       | 414/1452 [08:56<22:22,  1.29s/it]"
     ]
    },
    {
     "name": "stdout",
     "output_type": "stream",
     "text": [
      "Scraping Fabry Disease...\n",
      "Found 12 sections for Fabry Disease\n"
     ]
    },
    {
     "name": "stderr",
     "output_type": "stream",
     "text": [
      "C:\\Users\\Raj\\AppData\\Local\\Temp\\ipykernel_29048\\2168445501.py:6: FutureWarning: The frame.append method is deprecated and will be removed from pandas in a future version. Use pandas.concat instead.\n",
      "  df = df.append(scrape_page(topic[\"topic\"], topic[\"url\"]), ignore_index=True)\n",
      " 29%|██▊       | 415/1452 [08:57<22:01,  1.27s/it]C:\\Users\\Raj\\AppData\\Local\\Temp\\ipykernel_29048\\2168445501.py:6: FutureWarning: The frame.append method is deprecated and will be removed from pandas in a future version. Use pandas.concat instead.\n",
      "  df = df.append(scrape_page(topic[\"topic\"], topic[\"url\"]), ignore_index=True)\n"
     ]
    },
    {
     "name": "stdout",
     "output_type": "stream",
     "text": [
      "Scraping Facio-Scapulo-Humeral Dystrophy...\n",
      "Found 13 sections for Facio-Scapulo-Humeral Dystrophy\n"
     ]
    },
    {
     "name": "stderr",
     "output_type": "stream",
     "text": [
      " 29%|██▊       | 416/1452 [08:58<21:29,  1.25s/it]"
     ]
    },
    {
     "name": "stdout",
     "output_type": "stream",
     "text": [
      "Scraping Facioscapulohumeral Muscular Dystrophy...\n",
      "Found 13 sections for Facioscapulohumeral Muscular Dystrophy\n"
     ]
    },
    {
     "name": "stderr",
     "output_type": "stream",
     "text": [
      "C:\\Users\\Raj\\AppData\\Local\\Temp\\ipykernel_29048\\2168445501.py:6: FutureWarning: The frame.append method is deprecated and will be removed from pandas in a future version. Use pandas.concat instead.\n",
      "  df = df.append(scrape_page(topic[\"topic\"], topic[\"url\"]), ignore_index=True)\n",
      " 29%|██▊       | 417/1452 [09:00<21:32,  1.25s/it]"
     ]
    },
    {
     "name": "stdout",
     "output_type": "stream",
     "text": [
      "Scraping Factitious Disorder by Proxy...\n",
      "Found 9 sections for Factitious Disorder by Proxy\n"
     ]
    },
    {
     "name": "stderr",
     "output_type": "stream",
     "text": [
      "C:\\Users\\Raj\\AppData\\Local\\Temp\\ipykernel_29048\\2168445501.py:6: FutureWarning: The frame.append method is deprecated and will be removed from pandas in a future version. Use pandas.concat instead.\n",
      "  df = df.append(scrape_page(topic[\"topic\"], topic[\"url\"]), ignore_index=True)\n",
      " 29%|██▉       | 418/1452 [09:01<21:33,  1.25s/it]"
     ]
    },
    {
     "name": "stdout",
     "output_type": "stream",
     "text": [
      "Scraping Fahr Disease...\n",
      "Found 7 sections for Fahr Disease\n"
     ]
    },
    {
     "name": "stderr",
     "output_type": "stream",
     "text": [
      "C:\\Users\\Raj\\AppData\\Local\\Temp\\ipykernel_29048\\2168445501.py:6: FutureWarning: The frame.append method is deprecated and will be removed from pandas in a future version. Use pandas.concat instead.\n",
      "  df = df.append(scrape_page(topic[\"topic\"], topic[\"url\"]), ignore_index=True)\n",
      " 29%|██▉       | 419/1452 [09:02<21:35,  1.25s/it]C:\\Users\\Raj\\AppData\\Local\\Temp\\ipykernel_29048\\2168445501.py:6: FutureWarning: The frame.append method is deprecated and will be removed from pandas in a future version. Use pandas.concat instead.\n",
      "  df = df.append(scrape_page(topic[\"topic\"], topic[\"url\"]), ignore_index=True)\n"
     ]
    },
    {
     "name": "stdout",
     "output_type": "stream",
     "text": [
      "Scraping Fahr's Disease...\n",
      "Found 7 sections for Fahr's Disease\n"
     ]
    },
    {
     "name": "stderr",
     "output_type": "stream",
     "text": [
      " 29%|██▉       | 420/1452 [09:03<21:13,  1.23s/it]"
     ]
    },
    {
     "name": "stdout",
     "output_type": "stream",
     "text": [
      "Scraping Fainting...\n",
      "Found 4 sections for Fainting\n"
     ]
    },
    {
     "name": "stderr",
     "output_type": "stream",
     "text": [
      "C:\\Users\\Raj\\AppData\\Local\\Temp\\ipykernel_29048\\2168445501.py:6: FutureWarning: The frame.append method is deprecated and will be removed from pandas in a future version. Use pandas.concat instead.\n",
      "  df = df.append(scrape_page(topic[\"topic\"], topic[\"url\"]), ignore_index=True)\n",
      " 29%|██▉       | 421/1452 [09:05<21:15,  1.24s/it]"
     ]
    },
    {
     "name": "stdout",
     "output_type": "stream",
     "text": [
      "Scraping Fall Prevention...\n",
      "Found 4 sections for Fall Prevention\n"
     ]
    },
    {
     "name": "stderr",
     "output_type": "stream",
     "text": [
      "C:\\Users\\Raj\\AppData\\Local\\Temp\\ipykernel_29048\\2168445501.py:6: FutureWarning: The frame.append method is deprecated and will be removed from pandas in a future version. Use pandas.concat instead.\n",
      "  df = df.append(scrape_page(topic[\"topic\"], topic[\"url\"]), ignore_index=True)\n",
      " 29%|██▉       | 422/1452 [09:06<21:12,  1.24s/it]"
     ]
    },
    {
     "name": "stdout",
     "output_type": "stream",
     "text": [
      "Scraping Fallot's Tetralogy...\n",
      "Found 15 sections for Fallot's Tetralogy\n"
     ]
    },
    {
     "name": "stderr",
     "output_type": "stream",
     "text": [
      "C:\\Users\\Raj\\AppData\\Local\\Temp\\ipykernel_29048\\2168445501.py:6: FutureWarning: The frame.append method is deprecated and will be removed from pandas in a future version. Use pandas.concat instead.\n",
      "  df = df.append(scrape_page(topic[\"topic\"], topic[\"url\"]), ignore_index=True)\n",
      " 29%|██▉       | 423/1452 [09:07<23:41,  1.38s/it]"
     ]
    },
    {
     "name": "stdout",
     "output_type": "stream",
     "text": [
      "Scraping Familial Adenomatous Polyposis...\n",
      "Found 13 sections for Familial Adenomatous Polyposis\n"
     ]
    },
    {
     "name": "stderr",
     "output_type": "stream",
     "text": [
      "C:\\Users\\Raj\\AppData\\Local\\Temp\\ipykernel_29048\\2168445501.py:6: FutureWarning: The frame.append method is deprecated and will be removed from pandas in a future version. Use pandas.concat instead.\n",
      "  df = df.append(scrape_page(topic[\"topic\"], topic[\"url\"]), ignore_index=True)\n",
      " 29%|██▉       | 424/1452 [09:09<22:55,  1.34s/it]"
     ]
    },
    {
     "name": "stdout",
     "output_type": "stream",
     "text": [
      "Scraping Familial Alobar Holoprosencephaly...\n",
      "Found 7 sections for Familial Alobar Holoprosencephaly\n"
     ]
    },
    {
     "name": "stderr",
     "output_type": "stream",
     "text": [
      "C:\\Users\\Raj\\AppData\\Local\\Temp\\ipykernel_29048\\2168445501.py:6: FutureWarning: The frame.append method is deprecated and will be removed from pandas in a future version. Use pandas.concat instead.\n",
      "  df = df.append(scrape_page(topic[\"topic\"], topic[\"url\"]), ignore_index=True)\n",
      " 29%|██▉       | 425/1452 [09:10<22:50,  1.33s/it]"
     ]
    },
    {
     "name": "stdout",
     "output_type": "stream",
     "text": [
      "Scraping Familial Chordoma...\n",
      "Found 7 sections for Familial Chordoma\n"
     ]
    },
    {
     "name": "stderr",
     "output_type": "stream",
     "text": [
      "C:\\Users\\Raj\\AppData\\Local\\Temp\\ipykernel_29048\\2168445501.py:6: FutureWarning: The frame.append method is deprecated and will be removed from pandas in a future version. Use pandas.concat instead.\n",
      "  df = df.append(scrape_page(topic[\"topic\"], topic[\"url\"]), ignore_index=True)\n",
      " 29%|██▉       | 426/1452 [09:11<22:23,  1.31s/it]"
     ]
    },
    {
     "name": "stdout",
     "output_type": "stream",
     "text": [
      "Scraping Familial Congestive Cardiomyopathy...\n",
      "Found 1 sections for Familial Congestive Cardiomyopathy\n"
     ]
    },
    {
     "name": "stderr",
     "output_type": "stream",
     "text": [
      "C:\\Users\\Raj\\AppData\\Local\\Temp\\ipykernel_29048\\2168445501.py:6: FutureWarning: The frame.append method is deprecated and will be removed from pandas in a future version. Use pandas.concat instead.\n",
      "  df = df.append(scrape_page(topic[\"topic\"], topic[\"url\"]), ignore_index=True)\n",
      " 29%|██▉       | 427/1452 [09:13<22:03,  1.29s/it]"
     ]
    },
    {
     "name": "stdout",
     "output_type": "stream",
     "text": [
      "Scraping Familial Cutaneous Amyloidosis...\n"
     ]
    },
    {
     "name": "stderr",
     "output_type": "stream",
     "text": [
      "C:\\Users\\Raj\\AppData\\Local\\Temp\\ipykernel_29048\\2168445501.py:6: FutureWarning: The frame.append method is deprecated and will be removed from pandas in a future version. Use pandas.concat instead.\n",
      "  df = df.append(scrape_page(topic[\"topic\"], topic[\"url\"]), ignore_index=True)\n",
      " 29%|██▉       | 428/1452 [09:14<22:01,  1.29s/it]C:\\Users\\Raj\\AppData\\Local\\Temp\\ipykernel_29048\\2168445501.py:6: FutureWarning: The frame.append method is deprecated and will be removed from pandas in a future version. Use pandas.concat instead.\n",
      "  df = df.append(scrape_page(topic[\"topic\"], topic[\"url\"]), ignore_index=True)\n"
     ]
    },
    {
     "name": "stdout",
     "output_type": "stream",
     "text": [
      "Scraping Familial Dilated Cardiomyopathy (FDC)...\n",
      "Found 1 sections for Familial Dilated Cardiomyopathy (FDC)\n"
     ]
    },
    {
     "name": "stderr",
     "output_type": "stream",
     "text": [
      " 30%|██▉       | 429/1452 [09:15<21:30,  1.26s/it]"
     ]
    },
    {
     "name": "stdout",
     "output_type": "stream",
     "text": [
      "Scraping Familial Emphysema...\n",
      "Found 11 sections for Familial Emphysema\n"
     ]
    },
    {
     "name": "stderr",
     "output_type": "stream",
     "text": [
      "C:\\Users\\Raj\\AppData\\Local\\Temp\\ipykernel_29048\\2168445501.py:6: FutureWarning: The frame.append method is deprecated and will be removed from pandas in a future version. Use pandas.concat instead.\n",
      "  df = df.append(scrape_page(topic[\"topic\"], topic[\"url\"]), ignore_index=True)\n",
      " 30%|██▉       | 430/1452 [09:16<21:22,  1.25s/it]"
     ]
    },
    {
     "name": "stdout",
     "output_type": "stream",
     "text": [
      "Scraping Familial Jaundice...\n",
      "Found 6 sections for Familial Jaundice\n"
     ]
    },
    {
     "name": "stderr",
     "output_type": "stream",
     "text": [
      "C:\\Users\\Raj\\AppData\\Local\\Temp\\ipykernel_29048\\2168445501.py:6: FutureWarning: The frame.append method is deprecated and will be removed from pandas in a future version. Use pandas.concat instead.\n",
      "  df = df.append(scrape_page(topic[\"topic\"], topic[\"url\"]), ignore_index=True)\n",
      " 30%|██▉       | 431/1452 [09:17<21:17,  1.25s/it]"
     ]
    },
    {
     "name": "stdout",
     "output_type": "stream",
     "text": [
      "Scraping Familial Lichen Amyloidosis (Type IX)...\n"
     ]
    },
    {
     "name": "stderr",
     "output_type": "stream",
     "text": [
      "C:\\Users\\Raj\\AppData\\Local\\Temp\\ipykernel_29048\\2168445501.py:6: FutureWarning: The frame.append method is deprecated and will be removed from pandas in a future version. Use pandas.concat instead.\n",
      "  df = df.append(scrape_page(topic[\"topic\"], topic[\"url\"]), ignore_index=True)\n",
      " 30%|██▉       | 432/1452 [09:19<21:20,  1.26s/it]"
     ]
    },
    {
     "name": "stdout",
     "output_type": "stream",
     "text": [
      "Scraping Familial Multiple Polyposis...\n",
      "Found 13 sections for Familial Multiple Polyposis\n"
     ]
    },
    {
     "name": "stderr",
     "output_type": "stream",
     "text": [
      "C:\\Users\\Raj\\AppData\\Local\\Temp\\ipykernel_29048\\2168445501.py:6: FutureWarning: The frame.append method is deprecated and will be removed from pandas in a future version. Use pandas.concat instead.\n",
      "  df = df.append(scrape_page(topic[\"topic\"], topic[\"url\"]), ignore_index=True)\n",
      " 30%|██▉       | 433/1452 [09:20<21:09,  1.25s/it]"
     ]
    },
    {
     "name": "stdout",
     "output_type": "stream",
     "text": [
      "Scraping Familial Primary Pulmonary Hypertension...\n",
      "Found 12 sections for Familial Primary Pulmonary Hypertension\n"
     ]
    },
    {
     "name": "stderr",
     "output_type": "stream",
     "text": [
      "C:\\Users\\Raj\\AppData\\Local\\Temp\\ipykernel_29048\\2168445501.py:6: FutureWarning: The frame.append method is deprecated and will be removed from pandas in a future version. Use pandas.concat instead.\n",
      "  df = df.append(scrape_page(topic[\"topic\"], topic[\"url\"]), ignore_index=True)\n",
      " 30%|██▉       | 434/1452 [09:21<21:07,  1.24s/it]C:\\Users\\Raj\\AppData\\Local\\Temp\\ipykernel_29048\\2168445501.py:6: FutureWarning: The frame.append method is deprecated and will be removed from pandas in a future version. Use pandas.concat instead.\n",
      "  df = df.append(scrape_page(topic[\"topic\"], topic[\"url\"]), ignore_index=True)\n"
     ]
    },
    {
     "name": "stdout",
     "output_type": "stream",
     "text": [
      "Scraping Fibrinoid Leukodystrophy...\n",
      "Found 7 sections for Fibrinoid Leukodystrophy\n"
     ]
    },
    {
     "name": "stderr",
     "output_type": "stream",
     "text": [
      " 30%|██▉       | 435/1452 [09:22<20:50,  1.23s/it]"
     ]
    },
    {
     "name": "stdout",
     "output_type": "stream",
     "text": [
      "Scraping Fibrodysplasia Ossificans Progressiva...\n",
      "Found 7 sections for Fibrodysplasia Ossificans Progressiva\n"
     ]
    },
    {
     "name": "stderr",
     "output_type": "stream",
     "text": [
      "C:\\Users\\Raj\\AppData\\Local\\Temp\\ipykernel_29048\\2168445501.py:6: FutureWarning: The frame.append method is deprecated and will be removed from pandas in a future version. Use pandas.concat instead.\n",
      "  df = df.append(scrape_page(topic[\"topic\"], topic[\"url\"]), ignore_index=True)\n",
      " 30%|███       | 436/1452 [09:24<20:48,  1.23s/it]"
     ]
    },
    {
     "name": "stdout",
     "output_type": "stream",
     "text": [
      "Scraping Fibroids...\n",
      "Found 7 sections for Fibroids\n"
     ]
    },
    {
     "name": "stderr",
     "output_type": "stream",
     "text": [
      "C:\\Users\\Raj\\AppData\\Local\\Temp\\ipykernel_29048\\2168445501.py:6: FutureWarning: The frame.append method is deprecated and will be removed from pandas in a future version. Use pandas.concat instead.\n",
      "  df = df.append(scrape_page(topic[\"topic\"], topic[\"url\"]), ignore_index=True)\n",
      " 30%|███       | 437/1452 [09:25<21:00,  1.24s/it]C:\\Users\\Raj\\AppData\\Local\\Temp\\ipykernel_29048\\2168445501.py:6: FutureWarning: The frame.append method is deprecated and will be removed from pandas in a future version. Use pandas.concat instead.\n",
      "  df = df.append(scrape_page(topic[\"topic\"], topic[\"url\"]), ignore_index=True)\n"
     ]
    },
    {
     "name": "stdout",
     "output_type": "stream",
     "text": [
      "Scraping Fibrosing Cholangitis...\n",
      "Found 5 sections for Fibrosing Cholangitis\n"
     ]
    },
    {
     "name": "stderr",
     "output_type": "stream",
     "text": [
      " 30%|███       | 438/1452 [09:26<20:54,  1.24s/it]C:\\Users\\Raj\\AppData\\Local\\Temp\\ipykernel_29048\\2168445501.py:6: FutureWarning: The frame.append method is deprecated and will be removed from pandas in a future version. Use pandas.concat instead.\n",
      "  df = df.append(scrape_page(topic[\"topic\"], topic[\"url\"]), ignore_index=True)\n"
     ]
    },
    {
     "name": "stdout",
     "output_type": "stream",
     "text": [
      "Scraping Fibrous Cavernositis...\n",
      "Found 12 sections for Fibrous Cavernositis\n"
     ]
    },
    {
     "name": "stderr",
     "output_type": "stream",
     "text": [
      " 30%|███       | 439/1452 [09:27<20:49,  1.23s/it]C:\\Users\\Raj\\AppData\\Local\\Temp\\ipykernel_29048\\2168445501.py:6: FutureWarning: The frame.append method is deprecated and will be removed from pandas in a future version. Use pandas.concat instead.\n",
      "  df = df.append(scrape_page(topic[\"topic\"], topic[\"url\"]), ignore_index=True)\n"
     ]
    },
    {
     "name": "stdout",
     "output_type": "stream",
     "text": [
      "Scraping Fibrous Interstitial Pneumonia...\n",
      "Found 9 sections for Fibrous Interstitial Pneumonia\n"
     ]
    },
    {
     "name": "stderr",
     "output_type": "stream",
     "text": [
      " 30%|███       | 440/1452 [09:29<20:45,  1.23s/it]C:\\Users\\Raj\\AppData\\Local\\Temp\\ipykernel_29048\\2168445501.py:6: FutureWarning: The frame.append method is deprecated and will be removed from pandas in a future version. Use pandas.concat instead.\n",
      "  df = df.append(scrape_page(topic[\"topic\"], topic[\"url\"]), ignore_index=True)\n"
     ]
    },
    {
     "name": "stdout",
     "output_type": "stream",
     "text": [
      "Scraping Fibrous Plaques of the Penis...\n",
      "Found 12 sections for Fibrous Plaques of the Penis\n"
     ]
    },
    {
     "name": "stderr",
     "output_type": "stream",
     "text": [
      " 30%|███       | 441/1452 [09:30<20:32,  1.22s/it]C:\\Users\\Raj\\AppData\\Local\\Temp\\ipykernel_29048\\2168445501.py:6: FutureWarning: The frame.append method is deprecated and will be removed from pandas in a future version. Use pandas.concat instead.\n",
      "  df = df.append(scrape_page(topic[\"topic\"], topic[\"url\"]), ignore_index=True)\n"
     ]
    },
    {
     "name": "stdout",
     "output_type": "stream",
     "text": [
      "Scraping Fibrous Sclerosis of the Penis...\n",
      "Found 12 sections for Fibrous Sclerosis of the Penis\n"
     ]
    },
    {
     "name": "stderr",
     "output_type": "stream",
     "text": [
      " 30%|███       | 442/1452 [09:31<20:19,  1.21s/it]"
     ]
    },
    {
     "name": "stdout",
     "output_type": "stream",
     "text": [
      "Scraping Field Fever...\n",
      "Found 11 sections for Field Fever\n"
     ]
    },
    {
     "name": "stderr",
     "output_type": "stream",
     "text": [
      "C:\\Users\\Raj\\AppData\\Local\\Temp\\ipykernel_29048\\2168445501.py:6: FutureWarning: The frame.append method is deprecated and will be removed from pandas in a future version. Use pandas.concat instead.\n",
      "  df = df.append(scrape_page(topic[\"topic\"], topic[\"url\"]), ignore_index=True)\n",
      " 31%|███       | 443/1452 [09:32<20:22,  1.21s/it]"
     ]
    },
    {
     "name": "stdout",
     "output_type": "stream",
     "text": [
      "Scraping Fiery Serpent Infection...\n"
     ]
    },
    {
     "name": "stderr",
     "output_type": "stream",
     "text": [
      "C:\\Users\\Raj\\AppData\\Local\\Temp\\ipykernel_29048\\2168445501.py:6: FutureWarning: The frame.append method is deprecated and will be removed from pandas in a future version. Use pandas.concat instead.\n",
      "  df = df.append(scrape_page(topic[\"topic\"], topic[\"url\"]), ignore_index=True)\n",
      " 31%|███       | 444/1452 [09:34<22:45,  1.35s/it]C:\\Users\\Raj\\AppData\\Local\\Temp\\ipykernel_29048\\2168445501.py:6: FutureWarning: The frame.append method is deprecated and will be removed from pandas in a future version. Use pandas.concat instead.\n",
      "  df = df.append(scrape_page(topic[\"topic\"], topic[\"url\"]), ignore_index=True)\n"
     ]
    },
    {
     "name": "stdout",
     "output_type": "stream",
     "text": [
      "Scraping Fifth Disease...\n",
      "Found 7 sections for Fifth Disease\n"
     ]
    },
    {
     "name": "stderr",
     "output_type": "stream",
     "text": [
      " 31%|███       | 445/1452 [09:35<21:54,  1.31s/it]"
     ]
    },
    {
     "name": "stdout",
     "output_type": "stream",
     "text": [
      "Scraping Fine-Needle Aspiration...\n",
      "Found 7 sections for Fine-Needle Aspiration\n"
     ]
    },
    {
     "name": "stderr",
     "output_type": "stream",
     "text": [
      "C:\\Users\\Raj\\AppData\\Local\\Temp\\ipykernel_29048\\2168445501.py:6: FutureWarning: The frame.append method is deprecated and will be removed from pandas in a future version. Use pandas.concat instead.\n",
      "  df = df.append(scrape_page(topic[\"topic\"], topic[\"url\"]), ignore_index=True)\n",
      " 31%|███       | 446/1452 [09:36<21:31,  1.28s/it]"
     ]
    },
    {
     "name": "stdout",
     "output_type": "stream",
     "text": [
      "Scraping Finger Sucking...\n",
      "Found 3 sections for Finger Sucking\n"
     ]
    },
    {
     "name": "stderr",
     "output_type": "stream",
     "text": [
      "C:\\Users\\Raj\\AppData\\Local\\Temp\\ipykernel_29048\\2168445501.py:6: FutureWarning: The frame.append method is deprecated and will be removed from pandas in a future version. Use pandas.concat instead.\n",
      "  df = df.append(scrape_page(topic[\"topic\"], topic[\"url\"]), ignore_index=True)\n",
      " 31%|███       | 447/1452 [09:38<21:15,  1.27s/it]"
     ]
    },
    {
     "name": "stdout",
     "output_type": "stream",
     "text": [
      "Scraping Finnish Type Amyloidosis (Type V)...\n"
     ]
    },
    {
     "name": "stderr",
     "output_type": "stream",
     "text": [
      "C:\\Users\\Raj\\AppData\\Local\\Temp\\ipykernel_29048\\2168445501.py:6: FutureWarning: The frame.append method is deprecated and will be removed from pandas in a future version. Use pandas.concat instead.\n",
      "  df = df.append(scrape_page(topic[\"topic\"], topic[\"url\"]), ignore_index=True)\n",
      " 31%|███       | 448/1452 [09:39<21:52,  1.31s/it]"
     ]
    },
    {
     "name": "stdout",
     "output_type": "stream",
     "text": [
      "Scraping First Menstrual Period...\n",
      "Found 14 sections for First Menstrual Period\n"
     ]
    },
    {
     "name": "stderr",
     "output_type": "stream",
     "text": [
      "C:\\Users\\Raj\\AppData\\Local\\Temp\\ipykernel_29048\\2168445501.py:6: FutureWarning: The frame.append method is deprecated and will be removed from pandas in a future version. Use pandas.concat instead.\n",
      "  df = df.append(scrape_page(topic[\"topic\"], topic[\"url\"]), ignore_index=True)\n",
      " 31%|███       | 449/1452 [09:40<21:36,  1.29s/it]C:\\Users\\Raj\\AppData\\Local\\Temp\\ipykernel_29048\\2168445501.py:6: FutureWarning: The frame.append method is deprecated and will be removed from pandas in a future version. Use pandas.concat instead.\n",
      "  df = df.append(scrape_page(topic[\"topic\"], topic[\"url\"]), ignore_index=True)\n"
     ]
    },
    {
     "name": "stdout",
     "output_type": "stream",
     "text": [
      "Scraping Fitness: 30-Minute Workout Slideshow...\n"
     ]
    },
    {
     "name": "stderr",
     "output_type": "stream",
     "text": [
      " 31%|███       | 450/1452 [09:41<21:00,  1.26s/it]C:\\Users\\Raj\\AppData\\Local\\Temp\\ipykernel_29048\\2168445501.py:6: FutureWarning: The frame.append method is deprecated and will be removed from pandas in a future version. Use pandas.concat instead.\n",
      "  df = df.append(scrape_page(topic[\"topic\"], topic[\"url\"]), ignore_index=True)\n"
     ]
    },
    {
     "name": "stdout",
     "output_type": "stream",
     "text": [
      "Scraping Fitness: 7 Most Effective Exercises Slideshow...\n"
     ]
    },
    {
     "name": "stderr",
     "output_type": "stream",
     "text": [
      " 31%|███       | 451/1452 [09:43<20:37,  1.24s/it]C:\\Users\\Raj\\AppData\\Local\\Temp\\ipykernel_29048\\2168445501.py:6: FutureWarning: The frame.append method is deprecated and will be removed from pandas in a future version. Use pandas.concat instead.\n",
      "  df = df.append(scrape_page(topic[\"topic\"], topic[\"url\"]), ignore_index=True)\n"
     ]
    },
    {
     "name": "stdout",
     "output_type": "stream",
     "text": [
      "Scraping Fitness: Flat Abs Slideshow...\n"
     ]
    },
    {
     "name": "stderr",
     "output_type": "stream",
     "text": [
      " 31%|███       | 452/1452 [09:44<20:19,  1.22s/it]"
     ]
    },
    {
     "name": "stdout",
     "output_type": "stream",
     "text": [
      "Scraping Fitz Hugh Curtis Syndrome...\n",
      "Found 7 sections for Fitz Hugh Curtis Syndrome\n"
     ]
    },
    {
     "name": "stderr",
     "output_type": "stream",
     "text": [
      "C:\\Users\\Raj\\AppData\\Local\\Temp\\ipykernel_29048\\2168445501.py:6: FutureWarning: The frame.append method is deprecated and will be removed from pandas in a future version. Use pandas.concat instead.\n",
      "  df = df.append(scrape_page(topic[\"topic\"], topic[\"url\"]), ignore_index=True)\n",
      " 31%|███       | 453/1452 [09:45<20:22,  1.22s/it]"
     ]
    },
    {
     "name": "stdout",
     "output_type": "stream",
     "text": [
      "Scraping Flatfoot (Pes Planus)...\n",
      "Found 8 sections for Flatfoot (Pes Planus)\n"
     ]
    },
    {
     "name": "stderr",
     "output_type": "stream",
     "text": [
      "C:\\Users\\Raj\\AppData\\Local\\Temp\\ipykernel_29048\\2168445501.py:6: FutureWarning: The frame.append method is deprecated and will be removed from pandas in a future version. Use pandas.concat instead.\n",
      "  df = df.append(scrape_page(topic[\"topic\"], topic[\"url\"]), ignore_index=True)\n",
      " 31%|███▏      | 454/1452 [09:46<20:26,  1.23s/it]C:\\Users\\Raj\\AppData\\Local\\Temp\\ipykernel_29048\\2168445501.py:6: FutureWarning: The frame.append method is deprecated and will be removed from pandas in a future version. Use pandas.concat instead.\n",
      "  df = df.append(scrape_page(topic[\"topic\"], topic[\"url\"]), ignore_index=True)\n"
     ]
    },
    {
     "name": "stdout",
     "output_type": "stream",
     "text": [
      "Scraping Flesh-Eating Bacteria...\n",
      "Found 11 sections for Flesh-Eating Bacteria\n"
     ]
    },
    {
     "name": "stderr",
     "output_type": "stream",
     "text": [
      " 31%|███▏      | 455/1452 [09:47<20:22,  1.23s/it]"
     ]
    },
    {
     "name": "stdout",
     "output_type": "stream",
     "text": [
      "Scraping Flossing a Child's Teeth...\n",
      "Found 9 sections for Flossing a Child's Teeth\n"
     ]
    },
    {
     "name": "stderr",
     "output_type": "stream",
     "text": [
      "C:\\Users\\Raj\\AppData\\Local\\Temp\\ipykernel_29048\\2168445501.py:6: FutureWarning: The frame.append method is deprecated and will be removed from pandas in a future version. Use pandas.concat instead.\n",
      "  df = df.append(scrape_page(topic[\"topic\"], topic[\"url\"]), ignore_index=True)\n",
      " 31%|███▏      | 456/1452 [09:49<21:03,  1.27s/it]C:\\Users\\Raj\\AppData\\Local\\Temp\\ipykernel_29048\\2168445501.py:6: FutureWarning: The frame.append method is deprecated and will be removed from pandas in a future version. Use pandas.concat instead.\n",
      "  df = df.append(scrape_page(topic[\"topic\"], topic[\"url\"]), ignore_index=True)\n"
     ]
    },
    {
     "name": "stdout",
     "output_type": "stream",
     "text": [
      "Scraping Folate Deficiency Anemia...\n",
      "Found 13 sections for Folate Deficiency Anemia\n"
     ]
    },
    {
     "name": "stderr",
     "output_type": "stream",
     "text": [
      " 31%|███▏      | 457/1452 [09:50<20:47,  1.25s/it]C:\\Users\\Raj\\AppData\\Local\\Temp\\ipykernel_29048\\2168445501.py:6: FutureWarning: The frame.append method is deprecated and will be removed from pandas in a future version. Use pandas.concat instead.\n",
      "  df = df.append(scrape_page(topic[\"topic\"], topic[\"url\"]), ignore_index=True)\n"
     ]
    },
    {
     "name": "stdout",
     "output_type": "stream",
     "text": [
      "Scraping Folic Acid Deficiency Anemia...\n",
      "Found 8 sections for Folic Acid Deficiency Anemia\n"
     ]
    },
    {
     "name": "stderr",
     "output_type": "stream",
     "text": [
      " 32%|███▏      | 458/1452 [09:51<20:34,  1.24s/it]"
     ]
    },
    {
     "name": "stdout",
     "output_type": "stream",
     "text": [
      "Scraping Follicular Lymphoma...\n",
      "Found 15 sections for Follicular Lymphoma\n"
     ]
    },
    {
     "name": "stderr",
     "output_type": "stream",
     "text": [
      "C:\\Users\\Raj\\AppData\\Local\\Temp\\ipykernel_29048\\2168445501.py:6: FutureWarning: The frame.append method is deprecated and will be removed from pandas in a future version. Use pandas.concat instead.\n",
      "  df = df.append(scrape_page(topic[\"topic\"], topic[\"url\"]), ignore_index=True)\n",
      " 32%|███▏      | 459/1452 [09:52<20:31,  1.24s/it]"
     ]
    },
    {
     "name": "stdout",
     "output_type": "stream",
     "text": [
      "Scraping Folliculitis...\n",
      "Found 28 sections for Folliculitis\n"
     ]
    },
    {
     "name": "stderr",
     "output_type": "stream",
     "text": [
      "C:\\Users\\Raj\\AppData\\Local\\Temp\\ipykernel_29048\\2168445501.py:6: FutureWarning: The frame.append method is deprecated and will be removed from pandas in a future version. Use pandas.concat instead.\n",
      "  df = df.append(scrape_page(topic[\"topic\"], topic[\"url\"]), ignore_index=True)\n",
      " 32%|███▏      | 460/1452 [09:54<20:28,  1.24s/it]"
     ]
    },
    {
     "name": "stdout",
     "output_type": "stream",
     "text": [
      "Scraping Fong Disease...\n",
      "Found 4 sections for Fong Disease\n"
     ]
    },
    {
     "name": "stderr",
     "output_type": "stream",
     "text": [
      "C:\\Users\\Raj\\AppData\\Local\\Temp\\ipykernel_29048\\2168445501.py:6: FutureWarning: The frame.append method is deprecated and will be removed from pandas in a future version. Use pandas.concat instead.\n",
      "  df = df.append(scrape_page(topic[\"topic\"], topic[\"url\"]), ignore_index=True)\n",
      " 32%|███▏      | 461/1452 [09:55<21:01,  1.27s/it]"
     ]
    },
    {
     "name": "stdout",
     "output_type": "stream",
     "text": [
      "Scraping Food Addiction...\n",
      "Found 5 sections for Food Addiction\n"
     ]
    },
    {
     "name": "stderr",
     "output_type": "stream",
     "text": [
      "C:\\Users\\Raj\\AppData\\Local\\Temp\\ipykernel_29048\\2168445501.py:6: FutureWarning: The frame.append method is deprecated and will be removed from pandas in a future version. Use pandas.concat instead.\n",
      "  df = df.append(scrape_page(topic[\"topic\"], topic[\"url\"]), ignore_index=True)\n",
      " 32%|███▏      | 462/1452 [09:56<20:46,  1.26s/it]"
     ]
    },
    {
     "name": "stdout",
     "output_type": "stream",
     "text": [
      "Scraping Food Allergies...\n",
      "Found 22 sections for Food Allergies\n"
     ]
    },
    {
     "name": "stderr",
     "output_type": "stream",
     "text": [
      "C:\\Users\\Raj\\AppData\\Local\\Temp\\ipykernel_29048\\2168445501.py:6: FutureWarning: The frame.append method is deprecated and will be removed from pandas in a future version. Use pandas.concat instead.\n",
      "  df = df.append(scrape_page(topic[\"topic\"], topic[\"url\"]), ignore_index=True)\n",
      " 32%|███▏      | 463/1452 [09:58<20:43,  1.26s/it]"
     ]
    },
    {
     "name": "stdout",
     "output_type": "stream",
     "text": [
      "Scraping Food Poisoning, Prevention...\n"
     ]
    },
    {
     "name": "stderr",
     "output_type": "stream",
     "text": [
      "C:\\Users\\Raj\\AppData\\Local\\Temp\\ipykernel_29048\\2168445501.py:6: FutureWarning: The frame.append method is deprecated and will be removed from pandas in a future version. Use pandas.concat instead.\n",
      "  df = df.append(scrape_page(topic[\"topic\"], topic[\"url\"]), ignore_index=True)\n",
      " 32%|███▏      | 464/1452 [09:59<21:59,  1.34s/it]"
     ]
    },
    {
     "name": "stdout",
     "output_type": "stream",
     "text": [
      "Scraping Foot Care for People with Diabetes...\n",
      "Found 13 sections for Foot Care for People with Diabetes\n"
     ]
    },
    {
     "name": "stderr",
     "output_type": "stream",
     "text": [
      "C:\\Users\\Raj\\AppData\\Local\\Temp\\ipykernel_29048\\2168445501.py:6: FutureWarning: The frame.append method is deprecated and will be removed from pandas in a future version. Use pandas.concat instead.\n",
      "  df = df.append(scrape_page(topic[\"topic\"], topic[\"url\"]), ignore_index=True)\n",
      " 32%|███▏      | 465/1452 [10:01<24:11,  1.47s/it]"
     ]
    },
    {
     "name": "stdout",
     "output_type": "stream",
     "text": [
      "Scraping Foot Pain (Plantar Fasciitis)...\n",
      "Found 5 sections for Foot Pain (Plantar Fasciitis)\n"
     ]
    },
    {
     "name": "stderr",
     "output_type": "stream",
     "text": [
      "C:\\Users\\Raj\\AppData\\Local\\Temp\\ipykernel_29048\\2168445501.py:6: FutureWarning: The frame.append method is deprecated and will be removed from pandas in a future version. Use pandas.concat instead.\n",
      "  df = df.append(scrape_page(topic[\"topic\"], topic[\"url\"]), ignore_index=True)\n",
      " 32%|███▏      | 466/1452 [10:02<23:36,  1.44s/it]C:\\Users\\Raj\\AppData\\Local\\Temp\\ipykernel_29048\\2168445501.py:6: FutureWarning: The frame.append method is deprecated and will be removed from pandas in a future version. Use pandas.concat instead.\n",
      "  df = df.append(scrape_page(topic[\"topic\"], topic[\"url\"]), ignore_index=True)\n"
     ]
    },
    {
     "name": "stdout",
     "output_type": "stream",
     "text": [
      "Scraping Foot Problems Slideshow...\n"
     ]
    },
    {
     "name": "stderr",
     "output_type": "stream",
     "text": [
      " 32%|███▏      | 467/1452 [10:03<22:34,  1.37s/it]"
     ]
    },
    {
     "name": "stdout",
     "output_type": "stream",
     "text": [
      "Scraping Foot Problems: Finding the right shoes...\n",
      "Found 4 sections for Foot Problems: Finding the right shoes\n"
     ]
    },
    {
     "name": "stderr",
     "output_type": "stream",
     "text": [
      "C:\\Users\\Raj\\AppData\\Local\\Temp\\ipykernel_29048\\2168445501.py:6: FutureWarning: The frame.append method is deprecated and will be removed from pandas in a future version. Use pandas.concat instead.\n",
      "  df = df.append(scrape_page(topic[\"topic\"], topic[\"url\"]), ignore_index=True)\n",
      " 32%|███▏      | 468/1452 [10:05<21:56,  1.34s/it]C:\\Users\\Raj\\AppData\\Local\\Temp\\ipykernel_29048\\2168445501.py:6: FutureWarning: The frame.append method is deprecated and will be removed from pandas in a future version. Use pandas.concat instead.\n",
      "  df = df.append(scrape_page(topic[\"topic\"], topic[\"url\"]), ignore_index=True)\n"
     ]
    },
    {
     "name": "stdout",
     "output_type": "stream",
     "text": [
      "Scraping FOP...\n",
      "Found 7 sections for FOP\n"
     ]
    },
    {
     "name": "stderr",
     "output_type": "stream",
     "text": [
      " 32%|███▏      | 469/1452 [10:06<21:12,  1.29s/it]"
     ]
    },
    {
     "name": "stdout",
     "output_type": "stream",
     "text": [
      "Scraping Fournier Disease...\n",
      "Found 6 sections for Fournier Disease\n"
     ]
    },
    {
     "name": "stderr",
     "output_type": "stream",
     "text": [
      "C:\\Users\\Raj\\AppData\\Local\\Temp\\ipykernel_29048\\2168445501.py:6: FutureWarning: The frame.append method is deprecated and will be removed from pandas in a future version. Use pandas.concat instead.\n",
      "  df = df.append(scrape_page(topic[\"topic\"], topic[\"url\"]), ignore_index=True)\n",
      " 32%|███▏      | 470/1452 [10:07<20:51,  1.27s/it]"
     ]
    },
    {
     "name": "stdout",
     "output_type": "stream",
     "text": [
      "Scraping Fractured Rib...\n",
      "Found 6 sections for Fractured Rib\n"
     ]
    },
    {
     "name": "stderr",
     "output_type": "stream",
     "text": [
      "C:\\Users\\Raj\\AppData\\Local\\Temp\\ipykernel_29048\\2168445501.py:6: FutureWarning: The frame.append method is deprecated and will be removed from pandas in a future version. Use pandas.concat instead.\n",
      "  df = df.append(scrape_page(topic[\"topic\"], topic[\"url\"]), ignore_index=True)\n",
      " 32%|███▏      | 471/1452 [10:08<20:39,  1.26s/it]"
     ]
    },
    {
     "name": "stdout",
     "output_type": "stream",
     "text": [
      "Scraping Fractures...\n",
      "Found 2 sections for Fractures\n"
     ]
    },
    {
     "name": "stderr",
     "output_type": "stream",
     "text": [
      "C:\\Users\\Raj\\AppData\\Local\\Temp\\ipykernel_29048\\2168445501.py:6: FutureWarning: The frame.append method is deprecated and will be removed from pandas in a future version. Use pandas.concat instead.\n",
      "  df = df.append(scrape_page(topic[\"topic\"], topic[\"url\"]), ignore_index=True)\n",
      " 33%|███▎      | 472/1452 [10:10<20:28,  1.25s/it]"
     ]
    },
    {
     "name": "stdout",
     "output_type": "stream",
     "text": [
      "Scraping Fragile X Syndrome...\n",
      "Found 10 sections for Fragile X Syndrome\n"
     ]
    },
    {
     "name": "stderr",
     "output_type": "stream",
     "text": [
      "C:\\Users\\Raj\\AppData\\Local\\Temp\\ipykernel_29048\\2168445501.py:6: FutureWarning: The frame.append method is deprecated and will be removed from pandas in a future version. Use pandas.concat instead.\n",
      "  df = df.append(scrape_page(topic[\"topic\"], topic[\"url\"]), ignore_index=True)\n",
      " 33%|███▎      | 473/1452 [10:11<20:21,  1.25s/it]C:\\Users\\Raj\\AppData\\Local\\Temp\\ipykernel_29048\\2168445501.py:6: FutureWarning: The frame.append method is deprecated and will be removed from pandas in a future version. Use pandas.concat instead.\n",
      "  df = df.append(scrape_page(topic[\"topic\"], topic[\"url\"]), ignore_index=True)\n"
     ]
    },
    {
     "name": "stdout",
     "output_type": "stream",
     "text": [
      "Scraping FRAXA...\n",
      "Found 10 sections for FRAXA\n"
     ]
    },
    {
     "name": "stderr",
     "output_type": "stream",
     "text": [
      " 33%|███▎      | 474/1452 [10:12<19:57,  1.22s/it]"
     ]
    },
    {
     "name": "stdout",
     "output_type": "stream",
     "text": [
      "Scraping Frostbite...\n",
      "Found 9 sections for Frostbite\n"
     ]
    },
    {
     "name": "stderr",
     "output_type": "stream",
     "text": [
      "C:\\Users\\Raj\\AppData\\Local\\Temp\\ipykernel_29048\\2168445501.py:6: FutureWarning: The frame.append method is deprecated and will be removed from pandas in a future version. Use pandas.concat instead.\n",
      "  df = df.append(scrape_page(topic[\"topic\"], topic[\"url\"]), ignore_index=True)\n",
      " 33%|███▎      | 475/1452 [10:14<22:20,  1.37s/it]C:\\Users\\Raj\\AppData\\Local\\Temp\\ipykernel_29048\\2168445501.py:6: FutureWarning: The frame.append method is deprecated and will be removed from pandas in a future version. Use pandas.concat instead.\n",
      "  df = df.append(scrape_page(topic[\"topic\"], topic[\"url\"]), ignore_index=True)\n"
     ]
    },
    {
     "name": "stdout",
     "output_type": "stream",
     "text": [
      "Scraping Frozen Shoulder...\n",
      "Found 7 sections for Frozen Shoulder\n"
     ]
    },
    {
     "name": "stderr",
     "output_type": "stream",
     "text": [
      " 33%|███▎      | 476/1452 [10:15<21:34,  1.33s/it]C:\\Users\\Raj\\AppData\\Local\\Temp\\ipykernel_29048\\2168445501.py:6: FutureWarning: The frame.append method is deprecated and will be removed from pandas in a future version. Use pandas.concat instead.\n",
      "  df = df.append(scrape_page(topic[\"topic\"], topic[\"url\"]), ignore_index=True)\n"
     ]
    },
    {
     "name": "stdout",
     "output_type": "stream",
     "text": [
      "Scraping Fruit: Exotic Fruits Slideshow...\n"
     ]
    },
    {
     "name": "stderr",
     "output_type": "stream",
     "text": [
      " 33%|███▎      | 477/1452 [10:16<21:04,  1.30s/it]"
     ]
    },
    {
     "name": "stdout",
     "output_type": "stream",
     "text": [
      "Scraping Fulminating Hyperpyrexia...\n",
      "Found 8 sections for Fulminating Hyperpyrexia\n"
     ]
    },
    {
     "name": "stderr",
     "output_type": "stream",
     "text": [
      "C:\\Users\\Raj\\AppData\\Local\\Temp\\ipykernel_29048\\2168445501.py:6: FutureWarning: The frame.append method is deprecated and will be removed from pandas in a future version. Use pandas.concat instead.\n",
      "  df = df.append(scrape_page(topic[\"topic\"], topic[\"url\"]), ignore_index=True)\n",
      " 33%|███▎      | 478/1452 [10:17<20:44,  1.28s/it]"
     ]
    },
    {
     "name": "stdout",
     "output_type": "stream",
     "text": [
      "Scraping Functional Ovarian Cysts...\n",
      "Found 8 sections for Functional Ovarian Cysts\n"
     ]
    },
    {
     "name": "stderr",
     "output_type": "stream",
     "text": [
      "C:\\Users\\Raj\\AppData\\Local\\Temp\\ipykernel_29048\\2168445501.py:6: FutureWarning: The frame.append method is deprecated and will be removed from pandas in a future version. Use pandas.concat instead.\n",
      "  df = df.append(scrape_page(topic[\"topic\"], topic[\"url\"]), ignore_index=True)\n",
      " 33%|███▎      | 479/1452 [10:19<20:31,  1.27s/it]"
     ]
    },
    {
     "name": "stdout",
     "output_type": "stream",
     "text": [
      "Scraping Functioning Carcinoid...\n"
     ]
    },
    {
     "name": "stderr",
     "output_type": "stream",
     "text": [
      "C:\\Users\\Raj\\AppData\\Local\\Temp\\ipykernel_29048\\2168445501.py:6: FutureWarning: The frame.append method is deprecated and will be removed from pandas in a future version. Use pandas.concat instead.\n",
      "  df = df.append(scrape_page(topic[\"topic\"], topic[\"url\"]), ignore_index=True)\n",
      " 33%|███▎      | 480/1452 [10:20<20:43,  1.28s/it]"
     ]
    },
    {
     "name": "stdout",
     "output_type": "stream",
     "text": [
      "Scraping Funeral Planning...\n",
      "Found 10 sections for Funeral Planning\n"
     ]
    },
    {
     "name": "stderr",
     "output_type": "stream",
     "text": [
      "C:\\Users\\Raj\\AppData\\Local\\Temp\\ipykernel_29048\\2168445501.py:6: FutureWarning: The frame.append method is deprecated and will be removed from pandas in a future version. Use pandas.concat instead.\n",
      "  df = df.append(scrape_page(topic[\"topic\"], topic[\"url\"]), ignore_index=True)\n",
      " 33%|███▎      | 481/1452 [10:21<20:30,  1.27s/it]"
     ]
    },
    {
     "name": "stdout",
     "output_type": "stream",
     "text": [
      "Scraping Fungal Nail Infections...\n",
      "Found 10 sections for Fungal Nail Infections\n"
     ]
    },
    {
     "name": "stderr",
     "output_type": "stream",
     "text": [
      "C:\\Users\\Raj\\AppData\\Local\\Temp\\ipykernel_29048\\2168445501.py:6: FutureWarning: The frame.append method is deprecated and will be removed from pandas in a future version. Use pandas.concat instead.\n",
      "  df = df.append(scrape_page(topic[\"topic\"], topic[\"url\"]), ignore_index=True)\n",
      " 33%|███▎      | 482/1452 [10:22<20:34,  1.27s/it]"
     ]
    },
    {
     "name": "stdout",
     "output_type": "stream",
     "text": [
      "Scraping Furrowed Tongue...\n",
      "Found 3 sections for Furrowed Tongue\n"
     ]
    },
    {
     "name": "stderr",
     "output_type": "stream",
     "text": [
      "C:\\Users\\Raj\\AppData\\Local\\Temp\\ipykernel_29048\\2168445501.py:6: FutureWarning: The frame.append method is deprecated and will be removed from pandas in a future version. Use pandas.concat instead.\n",
      "  df = df.append(scrape_page(topic[\"topic\"], topic[\"url\"]), ignore_index=True)\n",
      " 33%|███▎      | 483/1452 [10:24<20:23,  1.26s/it]"
     ]
    },
    {
     "name": "stdout",
     "output_type": "stream",
     "text": [
      "Scraping Galactocerebrosidase (GALC) Deficiency...\n",
      "Found 10 sections for Galactocerebrosidase (GALC) Deficiency\n"
     ]
    },
    {
     "name": "stderr",
     "output_type": "stream",
     "text": [
      "C:\\Users\\Raj\\AppData\\Local\\Temp\\ipykernel_29048\\2168445501.py:6: FutureWarning: The frame.append method is deprecated and will be removed from pandas in a future version. Use pandas.concat instead.\n",
      "  df = df.append(scrape_page(topic[\"topic\"], topic[\"url\"]), ignore_index=True)\n",
      " 33%|███▎      | 484/1452 [10:25<20:21,  1.26s/it]C:\\Users\\Raj\\AppData\\Local\\Temp\\ipykernel_29048\\2168445501.py:6: FutureWarning: The frame.append method is deprecated and will be removed from pandas in a future version. Use pandas.concat instead.\n",
      "  df = df.append(scrape_page(topic[\"topic\"], topic[\"url\"]), ignore_index=True)\n"
     ]
    },
    {
     "name": "stdout",
     "output_type": "stream",
     "text": [
      "Scraping Galactocerebrosidase Deficiency...\n",
      "Found 10 sections for Galactocerebrosidase Deficiency\n"
     ]
    },
    {
     "name": "stderr",
     "output_type": "stream",
     "text": [
      " 33%|███▎      | 485/1452 [10:26<19:57,  1.24s/it]C:\\Users\\Raj\\AppData\\Local\\Temp\\ipykernel_29048\\2168445501.py:6: FutureWarning: The frame.append method is deprecated and will be removed from pandas in a future version. Use pandas.concat instead.\n",
      "  df = df.append(scrape_page(topic[\"topic\"], topic[\"url\"]), ignore_index=True)\n"
     ]
    },
    {
     "name": "stdout",
     "output_type": "stream",
     "text": [
      "Scraping Galactocerebroside Beta-Galactosidase Deficiency...\n",
      "Found 10 sections for Galactocerebroside Beta-Galactosidase Deficiency\n"
     ]
    },
    {
     "name": "stderr",
     "output_type": "stream",
     "text": [
      " 33%|███▎      | 486/1452 [10:27<19:41,  1.22s/it]"
     ]
    },
    {
     "name": "stdout",
     "output_type": "stream",
     "text": [
      "Scraping Galactorrhea-Amenorrhea Syndrome...\n",
      "Found 5 sections for Galactorrhea-Amenorrhea Syndrome\n"
     ]
    },
    {
     "name": "stderr",
     "output_type": "stream",
     "text": [
      "C:\\Users\\Raj\\AppData\\Local\\Temp\\ipykernel_29048\\2168445501.py:6: FutureWarning: The frame.append method is deprecated and will be removed from pandas in a future version. Use pandas.concat instead.\n",
      "  df = df.append(scrape_page(topic[\"topic\"], topic[\"url\"]), ignore_index=True)\n",
      " 34%|███▎      | 487/1452 [10:29<19:51,  1.23s/it]"
     ]
    },
    {
     "name": "stdout",
     "output_type": "stream",
     "text": [
      "Scraping Galactose-1-Phosphate Uridyl Transferase Deficiency...\n",
      "Found 6 sections for Galactose-1-Phosphate Uridyl Transferase Deficiency\n"
     ]
    },
    {
     "name": "stderr",
     "output_type": "stream",
     "text": [
      "C:\\Users\\Raj\\AppData\\Local\\Temp\\ipykernel_29048\\2168445501.py:6: FutureWarning: The frame.append method is deprecated and will be removed from pandas in a future version. Use pandas.concat instead.\n",
      "  df = df.append(scrape_page(topic[\"topic\"], topic[\"url\"]), ignore_index=True)\n",
      " 34%|███▎      | 488/1452 [10:30<20:28,  1.27s/it]C:\\Users\\Raj\\AppData\\Local\\Temp\\ipykernel_29048\\2168445501.py:6: FutureWarning: The frame.append method is deprecated and will be removed from pandas in a future version. Use pandas.concat instead.\n",
      "  df = df.append(scrape_page(topic[\"topic\"], topic[\"url\"]), ignore_index=True)\n"
     ]
    },
    {
     "name": "stdout",
     "output_type": "stream",
     "text": [
      "Scraping Galactosemia...\n",
      "Found 6 sections for Galactosemia\n"
     ]
    },
    {
     "name": "stderr",
     "output_type": "stream",
     "text": [
      " 34%|███▎      | 489/1452 [10:31<20:08,  1.26s/it]"
     ]
    },
    {
     "name": "stdout",
     "output_type": "stream",
     "text": [
      "Scraping Gallbladder Inflammation...\n",
      "Found 11 sections for Gallbladder Inflammation\n"
     ]
    },
    {
     "name": "stderr",
     "output_type": "stream",
     "text": [
      "C:\\Users\\Raj\\AppData\\Local\\Temp\\ipykernel_29048\\2168445501.py:6: FutureWarning: The frame.append method is deprecated and will be removed from pandas in a future version. Use pandas.concat instead.\n",
      "  df = df.append(scrape_page(topic[\"topic\"], topic[\"url\"]), ignore_index=True)\n",
      " 34%|███▎      | 490/1452 [10:33<20:50,  1.30s/it]C:\\Users\\Raj\\AppData\\Local\\Temp\\ipykernel_29048\\2168445501.py:6: FutureWarning: The frame.append method is deprecated and will be removed from pandas in a future version. Use pandas.concat instead.\n",
      "  df = df.append(scrape_page(topic[\"topic\"], topic[\"url\"]), ignore_index=True)\n"
     ]
    },
    {
     "name": "stdout",
     "output_type": "stream",
     "text": [
      "Scraping Gallstones...\n",
      "Found 14 sections for Gallstones\n"
     ]
    },
    {
     "name": "stderr",
     "output_type": "stream",
     "text": [
      " 34%|███▍      | 491/1452 [10:34<20:27,  1.28s/it]C:\\Users\\Raj\\AppData\\Local\\Temp\\ipykernel_29048\\2168445501.py:6: FutureWarning: The frame.append method is deprecated and will be removed from pandas in a future version. Use pandas.concat instead.\n",
      "  df = df.append(scrape_page(topic[\"topic\"], topic[\"url\"]), ignore_index=True)\n"
     ]
    },
    {
     "name": "stdout",
     "output_type": "stream",
     "text": [
      "Scraping GALT Deficiency...\n",
      "Found 6 sections for GALT Deficiency\n"
     ]
    },
    {
     "name": "stderr",
     "output_type": "stream",
     "text": [
      " 34%|███▍      | 492/1452 [10:35<20:00,  1.25s/it]"
     ]
    },
    {
     "name": "stdout",
     "output_type": "stream",
     "text": [
      "Scraping GAN...\n"
     ]
    },
    {
     "name": "stderr",
     "output_type": "stream",
     "text": [
      "C:\\Users\\Raj\\AppData\\Local\\Temp\\ipykernel_29048\\2168445501.py:6: FutureWarning: The frame.append method is deprecated and will be removed from pandas in a future version. Use pandas.concat instead.\n",
      "  df = df.append(scrape_page(topic[\"topic\"], topic[\"url\"]), ignore_index=True)\n",
      " 34%|███▍      | 493/1452 [10:36<20:20,  1.27s/it]"
     ]
    },
    {
     "name": "stdout",
     "output_type": "stream",
     "text": [
      "Scraping Ganglions...\n",
      "Found 10 sections for Ganglions\n"
     ]
    },
    {
     "name": "stderr",
     "output_type": "stream",
     "text": [
      "C:\\Users\\Raj\\AppData\\Local\\Temp\\ipykernel_29048\\2168445501.py:6: FutureWarning: The frame.append method is deprecated and will be removed from pandas in a future version. Use pandas.concat instead.\n",
      "  df = df.append(scrape_page(topic[\"topic\"], topic[\"url\"]), ignore_index=True)\n",
      " 34%|███▍      | 494/1452 [10:38<20:06,  1.26s/it]"
     ]
    },
    {
     "name": "stdout",
     "output_type": "stream",
     "text": [
      "Scraping Gangliosidosis GM2 Type 2...\n",
      "Found 10 sections for Gangliosidosis GM2 Type 2\n"
     ]
    },
    {
     "name": "stderr",
     "output_type": "stream",
     "text": [
      "C:\\Users\\Raj\\AppData\\Local\\Temp\\ipykernel_29048\\2168445501.py:6: FutureWarning: The frame.append method is deprecated and will be removed from pandas in a future version. Use pandas.concat instead.\n",
      "  df = df.append(scrape_page(topic[\"topic\"], topic[\"url\"]), ignore_index=True)\n",
      " 34%|███▍      | 495/1452 [10:39<20:07,  1.26s/it]C:\\Users\\Raj\\AppData\\Local\\Temp\\ipykernel_29048\\2168445501.py:6: FutureWarning: The frame.append method is deprecated and will be removed from pandas in a future version. Use pandas.concat instead.\n",
      "  df = df.append(scrape_page(topic[\"topic\"], topic[\"url\"]), ignore_index=True)\n"
     ]
    },
    {
     "name": "stdout",
     "output_type": "stream",
     "text": [
      "Scraping Ganser Syndrome...\n",
      "Found 8 sections for Ganser Syndrome\n"
     ]
    },
    {
     "name": "stderr",
     "output_type": "stream",
     "text": [
      " 34%|███▍      | 496/1452 [10:40<19:56,  1.25s/it]"
     ]
    },
    {
     "name": "stdout",
     "output_type": "stream",
     "text": [
      "Scraping Gardner Syndrome...\n"
     ]
    },
    {
     "name": "stderr",
     "output_type": "stream",
     "text": [
      "C:\\Users\\Raj\\AppData\\Local\\Temp\\ipykernel_29048\\2168445501.py:6: FutureWarning: The frame.append method is deprecated and will be removed from pandas in a future version. Use pandas.concat instead.\n",
      "  df = df.append(scrape_page(topic[\"topic\"], topic[\"url\"]), ignore_index=True)\n",
      " 34%|███▍      | 497/1452 [10:41<20:09,  1.27s/it]"
     ]
    },
    {
     "name": "stdout",
     "output_type": "stream",
     "text": [
      "Scraping Gargoylism...\n",
      "Found 14 sections for Gargoylism\n"
     ]
    },
    {
     "name": "stderr",
     "output_type": "stream",
     "text": [
      "C:\\Users\\Raj\\AppData\\Local\\Temp\\ipykernel_29048\\2168445501.py:6: FutureWarning: The frame.append method is deprecated and will be removed from pandas in a future version. Use pandas.concat instead.\n",
      "  df = df.append(scrape_page(topic[\"topic\"], topic[\"url\"]), ignore_index=True)\n",
      " 34%|███▍      | 498/1452 [10:43<23:09,  1.46s/it]"
     ]
    },
    {
     "name": "stdout",
     "output_type": "stream",
     "text": [
      "Scraping Gas (Flatus)...\n",
      "Found 9 sections for Gas (Flatus)\n"
     ]
    },
    {
     "name": "stderr",
     "output_type": "stream",
     "text": [
      "C:\\Users\\Raj\\AppData\\Local\\Temp\\ipykernel_29048\\2168445501.py:6: FutureWarning: The frame.append method is deprecated and will be removed from pandas in a future version. Use pandas.concat instead.\n",
      "  df = df.append(scrape_page(topic[\"topic\"], topic[\"url\"]), ignore_index=True)\n",
      " 34%|███▍      | 499/1452 [10:44<22:11,  1.40s/it]"
     ]
    },
    {
     "name": "stdout",
     "output_type": "stream",
     "text": [
      "Scraping Gastric Cancer...\n",
      "Found 11 sections for Gastric Cancer\n"
     ]
    },
    {
     "name": "stderr",
     "output_type": "stream",
     "text": [
      "C:\\Users\\Raj\\AppData\\Local\\Temp\\ipykernel_29048\\2168445501.py:6: FutureWarning: The frame.append method is deprecated and will be removed from pandas in a future version. Use pandas.concat instead.\n",
      "  df = df.append(scrape_page(topic[\"topic\"], topic[\"url\"]), ignore_index=True)\n",
      " 34%|███▍      | 500/1452 [10:46<21:33,  1.36s/it]"
     ]
    },
    {
     "name": "stdout",
     "output_type": "stream",
     "text": [
      "Scraping Gastric Ulcer...\n",
      "Found 9 sections for Gastric Ulcer\n"
     ]
    },
    {
     "name": "stderr",
     "output_type": "stream",
     "text": [
      "C:\\Users\\Raj\\AppData\\Local\\Temp\\ipykernel_29048\\2168445501.py:6: FutureWarning: The frame.append method is deprecated and will be removed from pandas in a future version. Use pandas.concat instead.\n",
      "  df = df.append(scrape_page(topic[\"topic\"], topic[\"url\"]), ignore_index=True)\n",
      " 35%|███▍      | 501/1452 [10:47<20:59,  1.32s/it]"
     ]
    },
    {
     "name": "stdout",
     "output_type": "stream",
     "text": [
      "Scraping Gastrinoma...\n",
      "Found 8 sections for Gastrinoma\n"
     ]
    },
    {
     "name": "stderr",
     "output_type": "stream",
     "text": [
      "C:\\Users\\Raj\\AppData\\Local\\Temp\\ipykernel_29048\\2168445501.py:6: FutureWarning: The frame.append method is deprecated and will be removed from pandas in a future version. Use pandas.concat instead.\n",
      "  df = df.append(scrape_page(topic[\"topic\"], topic[\"url\"]), ignore_index=True)\n",
      " 35%|███▍      | 502/1452 [10:48<20:34,  1.30s/it]"
     ]
    },
    {
     "name": "stdout",
     "output_type": "stream",
     "text": [
      "Scraping Gastritis...\n",
      "Found 6 sections for Gastritis\n"
     ]
    },
    {
     "name": "stderr",
     "output_type": "stream",
     "text": [
      "C:\\Users\\Raj\\AppData\\Local\\Temp\\ipykernel_29048\\2168445501.py:6: FutureWarning: The frame.append method is deprecated and will be removed from pandas in a future version. Use pandas.concat instead.\n",
      "  df = df.append(scrape_page(topic[\"topic\"], topic[\"url\"]), ignore_index=True)\n",
      " 35%|███▍      | 503/1452 [10:49<20:10,  1.28s/it]"
     ]
    },
    {
     "name": "stdout",
     "output_type": "stream",
     "text": [
      "Scraping Gastroenteritis...\n",
      "Found 8 sections for Gastroenteritis\n"
     ]
    },
    {
     "name": "stderr",
     "output_type": "stream",
     "text": [
      "C:\\Users\\Raj\\AppData\\Local\\Temp\\ipykernel_29048\\2168445501.py:6: FutureWarning: The frame.append method is deprecated and will be removed from pandas in a future version. Use pandas.concat instead.\n",
      "  df = df.append(scrape_page(topic[\"topic\"], topic[\"url\"]), ignore_index=True)\n",
      " 35%|███▍      | 504/1452 [10:51<19:56,  1.26s/it]C:\\Users\\Raj\\AppData\\Local\\Temp\\ipykernel_29048\\2168445501.py:6: FutureWarning: The frame.append method is deprecated and will be removed from pandas in a future version. Use pandas.concat instead.\n",
      "  df = df.append(scrape_page(topic[\"topic\"], topic[\"url\"]), ignore_index=True)\n"
     ]
    },
    {
     "name": "stdout",
     "output_type": "stream",
     "text": [
      "Scraping Gastroenteropathy, Protein Losing...\n",
      "Found 6 sections for Gastroenteropathy, Protein Losing\n"
     ]
    },
    {
     "name": "stderr",
     "output_type": "stream",
     "text": [
      " 35%|███▍      | 505/1452 [10:52<19:35,  1.24s/it]"
     ]
    },
    {
     "name": "stdout",
     "output_type": "stream",
     "text": [
      "Scraping Gastroesophageal Reflux Disease (GERD)...\n",
      "Found 8 sections for Gastroesophageal Reflux Disease (GERD)\n"
     ]
    },
    {
     "name": "stderr",
     "output_type": "stream",
     "text": [
      "C:\\Users\\Raj\\AppData\\Local\\Temp\\ipykernel_29048\\2168445501.py:6: FutureWarning: The frame.append method is deprecated and will be removed from pandas in a future version. Use pandas.concat instead.\n",
      "  df = df.append(scrape_page(topic[\"topic\"], topic[\"url\"]), ignore_index=True)\n",
      " 35%|███▍      | 506/1452 [10:53<20:06,  1.28s/it]"
     ]
    },
    {
     "name": "stdout",
     "output_type": "stream",
     "text": [
      "Scraping Gastrointestinal Stromal Tumors...\n",
      "Found 16 sections for Gastrointestinal Stromal Tumors\n"
     ]
    },
    {
     "name": "stderr",
     "output_type": "stream",
     "text": [
      "C:\\Users\\Raj\\AppData\\Local\\Temp\\ipykernel_29048\\2168445501.py:6: FutureWarning: The frame.append method is deprecated and will be removed from pandas in a future version. Use pandas.concat instead.\n",
      "  df = df.append(scrape_page(topic[\"topic\"], topic[\"url\"]), ignore_index=True)\n",
      " 35%|███▍      | 507/1452 [10:55<22:40,  1.44s/it]"
     ]
    },
    {
     "name": "stdout",
     "output_type": "stream",
     "text": [
      "Scraping Gastroparesis...\n",
      "Found 8 sections for Gastroparesis\n"
     ]
    },
    {
     "name": "stderr",
     "output_type": "stream",
     "text": [
      "C:\\Users\\Raj\\AppData\\Local\\Temp\\ipykernel_29048\\2168445501.py:6: FutureWarning: The frame.append method is deprecated and will be removed from pandas in a future version. Use pandas.concat instead.\n",
      "  df = df.append(scrape_page(topic[\"topic\"], topic[\"url\"]), ignore_index=True)\n",
      " 35%|███▍      | 508/1452 [10:56<21:46,  1.38s/it]C:\\Users\\Raj\\AppData\\Local\\Temp\\ipykernel_29048\\2168445501.py:6: FutureWarning: The frame.append method is deprecated and will be removed from pandas in a future version. Use pandas.concat instead.\n",
      "  df = df.append(scrape_page(topic[\"topic\"], topic[\"url\"]), ignore_index=True)\n"
     ]
    },
    {
     "name": "stdout",
     "output_type": "stream",
     "text": [
      "Scraping Gastroschisis...\n",
      "Found 8 sections for Gastroschisis\n"
     ]
    },
    {
     "name": "stderr",
     "output_type": "stream",
     "text": [
      " 35%|███▌      | 509/1452 [10:58<20:58,  1.33s/it]"
     ]
    },
    {
     "name": "stdout",
     "output_type": "stream",
     "text": [
      "Scraping Gaucher Disease...\n",
      "Found 13 sections for Gaucher Disease\n"
     ]
    },
    {
     "name": "stderr",
     "output_type": "stream",
     "text": [
      "C:\\Users\\Raj\\AppData\\Local\\Temp\\ipykernel_29048\\2168445501.py:6: FutureWarning: The frame.append method is deprecated and will be removed from pandas in a future version. Use pandas.concat instead.\n",
      "  df = df.append(scrape_page(topic[\"topic\"], topic[\"url\"]), ignore_index=True)\n",
      " 35%|███▌      | 510/1452 [10:59<20:44,  1.32s/it]"
     ]
    },
    {
     "name": "stdout",
     "output_type": "stream",
     "text": [
      "Scraping Gaucher-Schlagenhaufer...\n",
      "Found 13 sections for Gaucher-Schlagenhaufer\n"
     ]
    },
    {
     "name": "stderr",
     "output_type": "stream",
     "text": [
      "C:\\Users\\Raj\\AppData\\Local\\Temp\\ipykernel_29048\\2168445501.py:6: FutureWarning: The frame.append method is deprecated and will be removed from pandas in a future version. Use pandas.concat instead.\n",
      "  df = df.append(scrape_page(topic[\"topic\"], topic[\"url\"]), ignore_index=True)\n",
      " 35%|███▌      | 511/1452 [11:00<21:31,  1.37s/it]"
     ]
    },
    {
     "name": "stdout",
     "output_type": "stream",
     "text": [
      "Scraping Gayet-Wernicke Syndrome...\n",
      "Found 9 sections for Gayet-Wernicke Syndrome\n"
     ]
    },
    {
     "name": "stderr",
     "output_type": "stream",
     "text": [
      "C:\\Users\\Raj\\AppData\\Local\\Temp\\ipykernel_29048\\2168445501.py:6: FutureWarning: The frame.append method is deprecated and will be removed from pandas in a future version. Use pandas.concat instead.\n",
      "  df = df.append(scrape_page(topic[\"topic\"], topic[\"url\"]), ignore_index=True)\n",
      " 35%|███▌      | 512/1452 [11:02<20:57,  1.34s/it]"
     ]
    },
    {
     "name": "stdout",
     "output_type": "stream",
     "text": [
      "Scraping GHD...\n",
      "Found 11 sections for GHD\n"
     ]
    },
    {
     "name": "stderr",
     "output_type": "stream",
     "text": [
      "C:\\Users\\Raj\\AppData\\Local\\Temp\\ipykernel_29048\\2168445501.py:6: FutureWarning: The frame.append method is deprecated and will be removed from pandas in a future version. Use pandas.concat instead.\n",
      "  df = df.append(scrape_page(topic[\"topic\"], topic[\"url\"]), ignore_index=True)\n",
      " 35%|███▌      | 513/1452 [11:03<20:22,  1.30s/it]"
     ]
    },
    {
     "name": "stdout",
     "output_type": "stream",
     "text": [
      "Scraping Gianotti Crosti Syndrome...\n",
      "Found 7 sections for Gianotti Crosti Syndrome\n"
     ]
    },
    {
     "name": "stderr",
     "output_type": "stream",
     "text": [
      "C:\\Users\\Raj\\AppData\\Local\\Temp\\ipykernel_29048\\2168445501.py:6: FutureWarning: The frame.append method is deprecated and will be removed from pandas in a future version. Use pandas.concat instead.\n",
      "  df = df.append(scrape_page(topic[\"topic\"], topic[\"url\"]), ignore_index=True)\n",
      " 35%|███▌      | 514/1452 [11:04<20:42,  1.32s/it]"
     ]
    },
    {
     "name": "stdout",
     "output_type": "stream",
     "text": [
      "Scraping Giant Axonal Disease...\n"
     ]
    },
    {
     "name": "stderr",
     "output_type": "stream",
     "text": [
      "C:\\Users\\Raj\\AppData\\Local\\Temp\\ipykernel_29048\\2168445501.py:6: FutureWarning: The frame.append method is deprecated and will be removed from pandas in a future version. Use pandas.concat instead.\n",
      "  df = df.append(scrape_page(topic[\"topic\"], topic[\"url\"]), ignore_index=True)\n",
      " 35%|███▌      | 515/1452 [11:05<20:29,  1.31s/it]"
     ]
    },
    {
     "name": "stdout",
     "output_type": "stream",
     "text": [
      "Scraping Giant Axonal Neuropathy...\n"
     ]
    },
    {
     "name": "stderr",
     "output_type": "stream",
     "text": [
      "C:\\Users\\Raj\\AppData\\Local\\Temp\\ipykernel_29048\\2168445501.py:6: FutureWarning: The frame.append method is deprecated and will be removed from pandas in a future version. Use pandas.concat instead.\n",
      "  df = df.append(scrape_page(topic[\"topic\"], topic[\"url\"]), ignore_index=True)\n",
      " 36%|███▌      | 516/1452 [11:07<20:16,  1.30s/it]"
     ]
    },
    {
     "name": "stdout",
     "output_type": "stream",
     "text": [
      "Scraping Giant Cell Arteritis...\n",
      "Found 8 sections for Giant Cell Arteritis\n"
     ]
    },
    {
     "name": "stderr",
     "output_type": "stream",
     "text": [
      "C:\\Users\\Raj\\AppData\\Local\\Temp\\ipykernel_29048\\2168445501.py:6: FutureWarning: The frame.append method is deprecated and will be removed from pandas in a future version. Use pandas.concat instead.\n",
      "  df = df.append(scrape_page(topic[\"topic\"], topic[\"url\"]), ignore_index=True)\n",
      " 36%|███▌      | 517/1452 [11:09<23:25,  1.50s/it]"
     ]
    },
    {
     "name": "stdout",
     "output_type": "stream",
     "text": [
      "Scraping Giant Cell Glioblastoma, Astrocytoma...\n",
      "Found 4 sections for Giant Cell Glioblastoma, Astrocytoma\n"
     ]
    },
    {
     "name": "stderr",
     "output_type": "stream",
     "text": [
      "C:\\Users\\Raj\\AppData\\Local\\Temp\\ipykernel_29048\\2168445501.py:6: FutureWarning: The frame.append method is deprecated and will be removed from pandas in a future version. Use pandas.concat instead.\n",
      "  df = df.append(scrape_page(topic[\"topic\"], topic[\"url\"]), ignore_index=True)\n",
      " 36%|███▌      | 518/1452 [11:10<22:10,  1.42s/it]"
     ]
    },
    {
     "name": "stdout",
     "output_type": "stream",
     "text": [
      "Scraping Giant Cell Glioblastoma, Multiforme...\n",
      "Found 14 sections for Giant Cell Glioblastoma, Multiforme\n"
     ]
    },
    {
     "name": "stderr",
     "output_type": "stream",
     "text": [
      "C:\\Users\\Raj\\AppData\\Local\\Temp\\ipykernel_29048\\2168445501.py:6: FutureWarning: The frame.append method is deprecated and will be removed from pandas in a future version. Use pandas.concat instead.\n",
      "  df = df.append(scrape_page(topic[\"topic\"], topic[\"url\"]), ignore_index=True)\n",
      " 36%|███▌      | 519/1452 [11:11<21:20,  1.37s/it]C:\\Users\\Raj\\AppData\\Local\\Temp\\ipykernel_29048\\2168445501.py:6: FutureWarning: The frame.append method is deprecated and will be removed from pandas in a future version. Use pandas.concat instead.\n",
      "  df = df.append(scrape_page(topic[\"topic\"], topic[\"url\"]), ignore_index=True)\n"
     ]
    },
    {
     "name": "stdout",
     "output_type": "stream",
     "text": [
      "Scraping Giant Cell Interstitial Pneumonia...\n",
      "Found 9 sections for Giant Cell Interstitial Pneumonia\n"
     ]
    },
    {
     "name": "stderr",
     "output_type": "stream",
     "text": [
      " 36%|███▌      | 520/1452 [11:12<20:27,  1.32s/it]"
     ]
    },
    {
     "name": "stdout",
     "output_type": "stream",
     "text": [
      "Scraping Giant Cyst of the Retina...\n",
      "Found 6 sections for Giant Cyst of the Retina\n"
     ]
    },
    {
     "name": "stderr",
     "output_type": "stream",
     "text": [
      "C:\\Users\\Raj\\AppData\\Local\\Temp\\ipykernel_29048\\2168445501.py:6: FutureWarning: The frame.append method is deprecated and will be removed from pandas in a future version. Use pandas.concat instead.\n",
      "  df = df.append(scrape_page(topic[\"topic\"], topic[\"url\"]), ignore_index=True)\n",
      " 36%|███▌      | 521/1452 [11:14<20:01,  1.29s/it]"
     ]
    },
    {
     "name": "stdout",
     "output_type": "stream",
     "text": [
      "Scraping Giant Urticaria...\n",
      "Found 8 sections for Giant Urticaria\n"
     ]
    },
    {
     "name": "stderr",
     "output_type": "stream",
     "text": [
      "C:\\Users\\Raj\\AppData\\Local\\Temp\\ipykernel_29048\\2168445501.py:6: FutureWarning: The frame.append method is deprecated and will be removed from pandas in a future version. Use pandas.concat instead.\n",
      "  df = df.append(scrape_page(topic[\"topic\"], topic[\"url\"]), ignore_index=True)\n",
      " 36%|███▌      | 522/1452 [11:15<19:46,  1.28s/it]"
     ]
    },
    {
     "name": "stdout",
     "output_type": "stream",
     "text": [
      "Scraping Giardiasis...\n",
      "Found 8 sections for Giardiasis\n"
     ]
    },
    {
     "name": "stderr",
     "output_type": "stream",
     "text": [
      "C:\\Users\\Raj\\AppData\\Local\\Temp\\ipykernel_29048\\2168445501.py:6: FutureWarning: The frame.append method is deprecated and will be removed from pandas in a future version. Use pandas.concat instead.\n",
      "  df = df.append(scrape_page(topic[\"topic\"], topic[\"url\"]), ignore_index=True)\n",
      " 36%|███▌      | 523/1452 [11:16<19:38,  1.27s/it]"
     ]
    },
    {
     "name": "stdout",
     "output_type": "stream",
     "text": [
      "Scraping Gilbert Syndrome...\n",
      "Found 6 sections for Gilbert Syndrome\n"
     ]
    },
    {
     "name": "stderr",
     "output_type": "stream",
     "text": [
      "C:\\Users\\Raj\\AppData\\Local\\Temp\\ipykernel_29048\\2168445501.py:6: FutureWarning: The frame.append method is deprecated and will be removed from pandas in a future version. Use pandas.concat instead.\n",
      "  df = df.append(scrape_page(topic[\"topic\"], topic[\"url\"]), ignore_index=True)\n",
      " 36%|███▌      | 524/1452 [11:17<19:28,  1.26s/it]C:\\Users\\Raj\\AppData\\Local\\Temp\\ipykernel_29048\\2168445501.py:6: FutureWarning: The frame.append method is deprecated and will be removed from pandas in a future version. Use pandas.concat instead.\n",
      "  df = df.append(scrape_page(topic[\"topic\"], topic[\"url\"]), ignore_index=True)\n"
     ]
    },
    {
     "name": "stdout",
     "output_type": "stream",
     "text": [
      "Scraping Gilbert-Lereboullet Syndrome...\n",
      "Found 6 sections for Gilbert-Lereboullet Syndrome\n"
     ]
    },
    {
     "name": "stderr",
     "output_type": "stream",
     "text": [
      " 36%|███▌      | 525/1452 [11:19<19:07,  1.24s/it]C:\\Users\\Raj\\AppData\\Local\\Temp\\ipykernel_29048\\2168445501.py:6: FutureWarning: The frame.append method is deprecated and will be removed from pandas in a future version. Use pandas.concat instead.\n",
      "  df = df.append(scrape_page(topic[\"topic\"], topic[\"url\"]), ignore_index=True)\n"
     ]
    },
    {
     "name": "stdout",
     "output_type": "stream",
     "text": [
      "Scraping Gilbert's Disease...\n",
      "Found 6 sections for Gilbert's Disease\n"
     ]
    },
    {
     "name": "stderr",
     "output_type": "stream",
     "text": [
      " 36%|███▌      | 526/1452 [11:20<18:54,  1.23s/it]"
     ]
    },
    {
     "name": "stdout",
     "output_type": "stream",
     "text": [
      "Scraping Gingivitis...\n",
      "Found 12 sections for Gingivitis\n"
     ]
    },
    {
     "name": "stderr",
     "output_type": "stream",
     "text": [
      "C:\\Users\\Raj\\AppData\\Local\\Temp\\ipykernel_29048\\2168445501.py:6: FutureWarning: The frame.append method is deprecated and will be removed from pandas in a future version. Use pandas.concat instead.\n",
      "  df = df.append(scrape_page(topic[\"topic\"], topic[\"url\"]), ignore_index=True)\n",
      " 36%|███▋      | 527/1452 [11:21<18:59,  1.23s/it]"
     ]
    },
    {
     "name": "stdout",
     "output_type": "stream",
     "text": [
      "Scraping Ginkgo Biloba...\n",
      "Found 5 sections for Ginkgo Biloba\n"
     ]
    },
    {
     "name": "stderr",
     "output_type": "stream",
     "text": [
      "C:\\Users\\Raj\\AppData\\Local\\Temp\\ipykernel_29048\\2168445501.py:6: FutureWarning: The frame.append method is deprecated and will be removed from pandas in a future version. Use pandas.concat instead.\n",
      "  df = df.append(scrape_page(topic[\"topic\"], topic[\"url\"]), ignore_index=True)\n",
      " 36%|███▋      | 528/1452 [11:22<19:48,  1.29s/it]"
     ]
    },
    {
     "name": "stdout",
     "output_type": "stream",
     "text": [
      "Scraping Giving a Child an Epinephrine Shot...\n"
     ]
    },
    {
     "name": "stderr",
     "output_type": "stream",
     "text": [
      "C:\\Users\\Raj\\AppData\\Local\\Temp\\ipykernel_29048\\2168445501.py:6: FutureWarning: The frame.append method is deprecated and will be removed from pandas in a future version. Use pandas.concat instead.\n",
      "  df = df.append(scrape_page(topic[\"topic\"], topic[\"url\"]), ignore_index=True)\n",
      " 36%|███▋      | 529/1452 [11:24<19:34,  1.27s/it]"
     ]
    },
    {
     "name": "stdout",
     "output_type": "stream",
     "text": [
      "Scraping Giving Insulin Shots to a Child...\n"
     ]
    },
    {
     "name": "stderr",
     "output_type": "stream",
     "text": [
      "C:\\Users\\Raj\\AppData\\Local\\Temp\\ipykernel_29048\\2168445501.py:6: FutureWarning: The frame.append method is deprecated and will be removed from pandas in a future version. Use pandas.concat instead.\n",
      "  df = df.append(scrape_page(topic[\"topic\"], topic[\"url\"]), ignore_index=True)\n",
      " 37%|███▋      | 530/1452 [11:25<20:59,  1.37s/it]"
     ]
    },
    {
     "name": "stdout",
     "output_type": "stream",
     "text": [
      "Scraping Giving Insulin Shots to Adults...\n",
      "Found 9 sections for Giving Insulin Shots to Adults\n"
     ]
    },
    {
     "name": "stderr",
     "output_type": "stream",
     "text": [
      "C:\\Users\\Raj\\AppData\\Local\\Temp\\ipykernel_29048\\2168445501.py:6: FutureWarning: The frame.append method is deprecated and will be removed from pandas in a future version. Use pandas.concat instead.\n",
      "  df = df.append(scrape_page(topic[\"topic\"], topic[\"url\"]), ignore_index=True)\n",
      " 37%|███▋      | 531/1452 [11:26<20:20,  1.32s/it]"
     ]
    },
    {
     "name": "stdout",
     "output_type": "stream",
     "text": [
      "Scraping Giving Yourself an Epinephrine Shot...\n",
      "Found 8 sections for Giving Yourself an Epinephrine Shot\n"
     ]
    },
    {
     "name": "stderr",
     "output_type": "stream",
     "text": [
      "C:\\Users\\Raj\\AppData\\Local\\Temp\\ipykernel_29048\\2168445501.py:6: FutureWarning: The frame.append method is deprecated and will be removed from pandas in a future version. Use pandas.concat instead.\n",
      "  df = df.append(scrape_page(topic[\"topic\"], topic[\"url\"]), ignore_index=True)\n",
      " 37%|███▋      | 532/1452 [11:28<19:55,  1.30s/it]"
     ]
    },
    {
     "name": "stdout",
     "output_type": "stream",
     "text": [
      "Scraping Glandular Plague...\n",
      "Found 6 sections for Glandular Plague\n"
     ]
    },
    {
     "name": "stderr",
     "output_type": "stream",
     "text": [
      "C:\\Users\\Raj\\AppData\\Local\\Temp\\ipykernel_29048\\2168445501.py:6: FutureWarning: The frame.append method is deprecated and will be removed from pandas in a future version. Use pandas.concat instead.\n",
      "  df = df.append(scrape_page(topic[\"topic\"], topic[\"url\"]), ignore_index=True)\n",
      " 37%|███▋      | 533/1452 [11:29<19:42,  1.29s/it]"
     ]
    },
    {
     "name": "stdout",
     "output_type": "stream",
     "text": [
      "Scraping Glaucoma...\n",
      "Found 17 sections for Glaucoma\n"
     ]
    },
    {
     "name": "stderr",
     "output_type": "stream",
     "text": [
      "C:\\Users\\Raj\\AppData\\Local\\Temp\\ipykernel_29048\\2168445501.py:6: FutureWarning: The frame.append method is deprecated and will be removed from pandas in a future version. Use pandas.concat instead.\n",
      "  df = df.append(scrape_page(topic[\"topic\"], topic[\"url\"]), ignore_index=True)\n",
      " 37%|███▋      | 534/1452 [11:30<19:34,  1.28s/it]C:\\Users\\Raj\\AppData\\Local\\Temp\\ipykernel_29048\\2168445501.py:6: FutureWarning: The frame.append method is deprecated and will be removed from pandas in a future version. Use pandas.concat instead.\n",
      "  df = df.append(scrape_page(topic[\"topic\"], topic[\"url\"]), ignore_index=True)\n"
     ]
    },
    {
     "name": "stdout",
     "output_type": "stream",
     "text": [
      "Scraping Glioblastoma Multiforme...\n",
      "Found 14 sections for Glioblastoma Multiforme\n"
     ]
    },
    {
     "name": "stderr",
     "output_type": "stream",
     "text": [
      " 37%|███▋      | 535/1452 [11:31<19:15,  1.26s/it]"
     ]
    },
    {
     "name": "stdout",
     "output_type": "stream",
     "text": [
      "Scraping Glioma-Polyposis Syndrome...\n",
      "Found 8 sections for Glioma-Polyposis Syndrome\n"
     ]
    },
    {
     "name": "stderr",
     "output_type": "stream",
     "text": [
      "C:\\Users\\Raj\\AppData\\Local\\Temp\\ipykernel_29048\\2168445501.py:6: FutureWarning: The frame.append method is deprecated and will be removed from pandas in a future version. Use pandas.concat instead.\n",
      "  df = df.append(scrape_page(topic[\"topic\"], topic[\"url\"]), ignore_index=True)\n",
      " 37%|███▋      | 536/1452 [11:33<19:05,  1.25s/it]C:\\Users\\Raj\\AppData\\Local\\Temp\\ipykernel_29048\\2168445501.py:6: FutureWarning: The frame.append method is deprecated and will be removed from pandas in a future version. Use pandas.concat instead.\n",
      "  df = df.append(scrape_page(topic[\"topic\"], topic[\"url\"]), ignore_index=True)\n"
     ]
    },
    {
     "name": "stdout",
     "output_type": "stream",
     "text": [
      "Scraping Globoid Cell Leukoencephalopathy...\n",
      "Found 10 sections for Globoid Cell Leukoencephalopathy\n"
     ]
    },
    {
     "name": "stderr",
     "output_type": "stream",
     "text": [
      " 37%|███▋      | 537/1452 [11:34<18:52,  1.24s/it]"
     ]
    },
    {
     "name": "stdout",
     "output_type": "stream",
     "text": [
      "Scraping Glossitis Areata Migrans...\n",
      "Found 6 sections for Glossitis Areata Migrans\n"
     ]
    },
    {
     "name": "stderr",
     "output_type": "stream",
     "text": [
      "C:\\Users\\Raj\\AppData\\Local\\Temp\\ipykernel_29048\\2168445501.py:6: FutureWarning: The frame.append method is deprecated and will be removed from pandas in a future version. Use pandas.concat instead.\n",
      "  df = df.append(scrape_page(topic[\"topic\"], topic[\"url\"]), ignore_index=True)\n",
      " 37%|███▋      | 538/1452 [11:35<19:19,  1.27s/it]"
     ]
    },
    {
     "name": "stdout",
     "output_type": "stream",
     "text": [
      "Scraping Glossopyrosis...\n",
      "Found 7 sections for Glossopyrosis\n"
     ]
    },
    {
     "name": "stderr",
     "output_type": "stream",
     "text": [
      "C:\\Users\\Raj\\AppData\\Local\\Temp\\ipykernel_29048\\2168445501.py:6: FutureWarning: The frame.append method is deprecated and will be removed from pandas in a future version. Use pandas.concat instead.\n",
      "  df = df.append(scrape_page(topic[\"topic\"], topic[\"url\"]), ignore_index=True)\n",
      " 37%|███▋      | 539/1452 [11:36<19:20,  1.27s/it]"
     ]
    },
    {
     "name": "stdout",
     "output_type": "stream",
     "text": [
      "Scraping Glucocerebrosidase Deficiency...\n",
      "Found 13 sections for Glucocerebrosidase Deficiency\n"
     ]
    },
    {
     "name": "stderr",
     "output_type": "stream",
     "text": [
      "C:\\Users\\Raj\\AppData\\Local\\Temp\\ipykernel_29048\\2168445501.py:6: FutureWarning: The frame.append method is deprecated and will be removed from pandas in a future version. Use pandas.concat instead.\n",
      "  df = df.append(scrape_page(topic[\"topic\"], topic[\"url\"]), ignore_index=True)\n",
      " 37%|███▋      | 540/1452 [11:38<19:47,  1.30s/it]"
     ]
    },
    {
     "name": "stdout",
     "output_type": "stream",
     "text": [
      "Scraping Glucocerebrosidosis...\n",
      "Found 13 sections for Glucocerebrosidosis\n"
     ]
    },
    {
     "name": "stderr",
     "output_type": "stream",
     "text": [
      "C:\\Users\\Raj\\AppData\\Local\\Temp\\ipykernel_29048\\2168445501.py:6: FutureWarning: The frame.append method is deprecated and will be removed from pandas in a future version. Use pandas.concat instead.\n",
      "  df = df.append(scrape_page(topic[\"topic\"], topic[\"url\"]), ignore_index=True)\n",
      " 37%|███▋      | 541/1452 [11:39<20:09,  1.33s/it]"
     ]
    },
    {
     "name": "stdout",
     "output_type": "stream",
     "text": [
      "Scraping Glucosamine and Chondroitin...\n",
      "Found 8 sections for Glucosamine and Chondroitin\n"
     ]
    },
    {
     "name": "stderr",
     "output_type": "stream",
     "text": [
      "C:\\Users\\Raj\\AppData\\Local\\Temp\\ipykernel_29048\\2168445501.py:6: FutureWarning: The frame.append method is deprecated and will be removed from pandas in a future version. Use pandas.concat instead.\n",
      "  df = df.append(scrape_page(topic[\"topic\"], topic[\"url\"]), ignore_index=True)\n",
      " 37%|███▋      | 542/1452 [11:41<20:27,  1.35s/it]"
     ]
    },
    {
     "name": "stdout",
     "output_type": "stream",
     "text": [
      "Scraping Glucosyl Ceramide Lipidosis...\n",
      "Found 13 sections for Glucosyl Ceramide Lipidosis\n"
     ]
    },
    {
     "name": "stderr",
     "output_type": "stream",
     "text": [
      "C:\\Users\\Raj\\AppData\\Local\\Temp\\ipykernel_29048\\2168445501.py:6: FutureWarning: The frame.append method is deprecated and will be removed from pandas in a future version. Use pandas.concat instead.\n",
      "  df = df.append(scrape_page(topic[\"topic\"], topic[\"url\"]), ignore_index=True)\n",
      " 37%|███▋      | 543/1452 [11:42<19:54,  1.31s/it]"
     ]
    },
    {
     "name": "stdout",
     "output_type": "stream",
     "text": [
      "Scraping Gluten-Free Diet Slideshow...\n"
     ]
    },
    {
     "name": "stderr",
     "output_type": "stream",
     "text": [
      "C:\\Users\\Raj\\AppData\\Local\\Temp\\ipykernel_29048\\2168445501.py:6: FutureWarning: The frame.append method is deprecated and will be removed from pandas in a future version. Use pandas.concat instead.\n",
      "  df = df.append(scrape_page(topic[\"topic\"], topic[\"url\"]), ignore_index=True)\n",
      " 37%|███▋      | 544/1452 [11:43<19:34,  1.29s/it]"
     ]
    },
    {
     "name": "stdout",
     "output_type": "stream",
     "text": [
      "Scraping Goiter...\n",
      "Found 9 sections for Goiter\n"
     ]
    },
    {
     "name": "stderr",
     "output_type": "stream",
     "text": [
      "C:\\Users\\Raj\\AppData\\Local\\Temp\\ipykernel_29048\\2168445501.py:6: FutureWarning: The frame.append method is deprecated and will be removed from pandas in a future version. Use pandas.concat instead.\n",
      "  df = df.append(scrape_page(topic[\"topic\"], topic[\"url\"]), ignore_index=True)\n",
      " 38%|███▊      | 545/1452 [11:44<19:23,  1.28s/it]"
     ]
    },
    {
     "name": "stdout",
     "output_type": "stream",
     "text": [
      "Scraping Goitrous Autoimmune Thyroiditis...\n",
      "Found 6 sections for Goitrous Autoimmune Thyroiditis\n"
     ]
    },
    {
     "name": "stderr",
     "output_type": "stream",
     "text": [
      "C:\\Users\\Raj\\AppData\\Local\\Temp\\ipykernel_29048\\2168445501.py:6: FutureWarning: The frame.append method is deprecated and will be removed from pandas in a future version. Use pandas.concat instead.\n",
      "  df = df.append(scrape_page(topic[\"topic\"], topic[\"url\"]), ignore_index=True)\n",
      " 38%|███▊      | 546/1452 [11:46<19:38,  1.30s/it]"
     ]
    },
    {
     "name": "stdout",
     "output_type": "stream",
     "text": [
      "Scraping Graft versus Host Disease...\n",
      "Found 5 sections for Graft versus Host Disease\n"
     ]
    },
    {
     "name": "stderr",
     "output_type": "stream",
     "text": [
      "C:\\Users\\Raj\\AppData\\Local\\Temp\\ipykernel_29048\\2168445501.py:6: FutureWarning: The frame.append method is deprecated and will be removed from pandas in a future version. Use pandas.concat instead.\n",
      "  df = df.append(scrape_page(topic[\"topic\"], topic[\"url\"]), ignore_index=True)\n",
      " 38%|███▊      | 547/1452 [11:47<19:23,  1.29s/it]"
     ]
    },
    {
     "name": "stdout",
     "output_type": "stream",
     "text": [
      "Scraping Granuloma Annulare...\n",
      "Found 14 sections for Granuloma Annulare\n"
     ]
    },
    {
     "name": "stderr",
     "output_type": "stream",
     "text": [
      "C:\\Users\\Raj\\AppData\\Local\\Temp\\ipykernel_29048\\2168445501.py:6: FutureWarning: The frame.append method is deprecated and will be removed from pandas in a future version. Use pandas.concat instead.\n",
      "  df = df.append(scrape_page(topic[\"topic\"], topic[\"url\"]), ignore_index=True)\n",
      " 38%|███▊      | 548/1452 [11:48<19:50,  1.32s/it]"
     ]
    },
    {
     "name": "stdout",
     "output_type": "stream",
     "text": [
      "Scraping Granuloma Fungoides...\n",
      "Found 7 sections for Granuloma Fungoides\n"
     ]
    },
    {
     "name": "stderr",
     "output_type": "stream",
     "text": [
      "C:\\Users\\Raj\\AppData\\Local\\Temp\\ipykernel_29048\\2168445501.py:6: FutureWarning: The frame.append method is deprecated and will be removed from pandas in a future version. Use pandas.concat instead.\n",
      "  df = df.append(scrape_page(topic[\"topic\"], topic[\"url\"]), ignore_index=True)\n",
      " 38%|███▊      | 549/1452 [11:50<19:33,  1.30s/it]"
     ]
    },
    {
     "name": "stdout",
     "output_type": "stream",
     "text": [
      "Scraping Grave's Disease...\n",
      "Found 10 sections for Grave's Disease\n"
     ]
    },
    {
     "name": "stderr",
     "output_type": "stream",
     "text": [
      "C:\\Users\\Raj\\AppData\\Local\\Temp\\ipykernel_29048\\2168445501.py:6: FutureWarning: The frame.append method is deprecated and will be removed from pandas in a future version. Use pandas.concat instead.\n",
      "  df = df.append(scrape_page(topic[\"topic\"], topic[\"url\"]), ignore_index=True)\n",
      " 38%|███▊      | 550/1452 [11:51<19:12,  1.28s/it]"
     ]
    },
    {
     "name": "stdout",
     "output_type": "stream",
     "text": [
      "Scraping Grief and Grieving...\n",
      "Found 5 sections for Grief and Grieving\n"
     ]
    },
    {
     "name": "stderr",
     "output_type": "stream",
     "text": [
      "C:\\Users\\Raj\\AppData\\Local\\Temp\\ipykernel_29048\\2168445501.py:6: FutureWarning: The frame.append method is deprecated and will be removed from pandas in a future version. Use pandas.concat instead.\n",
      "  df = df.append(scrape_page(topic[\"topic\"], topic[\"url\"]), ignore_index=True)\n",
      " 38%|███▊      | 551/1452 [11:52<19:38,  1.31s/it]C:\\Users\\Raj\\AppData\\Local\\Temp\\ipykernel_29048\\2168445501.py:6: FutureWarning: The frame.append method is deprecated and will be removed from pandas in a future version. Use pandas.concat instead.\n",
      "  df = df.append(scrape_page(topic[\"topic\"], topic[\"url\"]), ignore_index=True)\n"
     ]
    },
    {
     "name": "stdout",
     "output_type": "stream",
     "text": [
      "Scraping Grooved Tongue...\n",
      "Found 3 sections for Grooved Tongue\n"
     ]
    },
    {
     "name": "stderr",
     "output_type": "stream",
     "text": [
      " 38%|███▊      | 552/1452 [11:53<19:07,  1.28s/it]"
     ]
    },
    {
     "name": "stdout",
     "output_type": "stream",
     "text": [
      "Scraping Group B Streptococcal Infections in Newborns...\n",
      "Found 8 sections for Group B Streptococcal Infections in Newborns\n"
     ]
    },
    {
     "name": "stderr",
     "output_type": "stream",
     "text": [
      "C:\\Users\\Raj\\AppData\\Local\\Temp\\ipykernel_29048\\2168445501.py:6: FutureWarning: The frame.append method is deprecated and will be removed from pandas in a future version. Use pandas.concat instead.\n",
      "  df = df.append(scrape_page(topic[\"topic\"], topic[\"url\"]), ignore_index=True)\n",
      " 38%|███▊      | 553/1452 [11:55<22:06,  1.48s/it]C:\\Users\\Raj\\AppData\\Local\\Temp\\ipykernel_29048\\2168445501.py:6: FutureWarning: The frame.append method is deprecated and will be removed from pandas in a future version. Use pandas.concat instead.\n",
      "  df = df.append(scrape_page(topic[\"topic\"], topic[\"url\"]), ignore_index=True)\n"
     ]
    },
    {
     "name": "stdout",
     "output_type": "stream",
     "text": [
      "Scraping Group B Streptococcal Septicemia of the Newborn...\n",
      "Found 1 sections for Group B Streptococcal Septicemia of the Newborn\n"
     ]
    },
    {
     "name": "stderr",
     "output_type": "stream",
     "text": [
      " 38%|███▊      | 554/1452 [11:57<20:59,  1.40s/it]"
     ]
    },
    {
     "name": "stdout",
     "output_type": "stream",
     "text": [
      "Scraping Grover's Disease...\n",
      "Found 7 sections for Grover's Disease\n"
     ]
    },
    {
     "name": "stderr",
     "output_type": "stream",
     "text": [
      "C:\\Users\\Raj\\AppData\\Local\\Temp\\ipykernel_29048\\2168445501.py:6: FutureWarning: The frame.append method is deprecated and will be removed from pandas in a future version. Use pandas.concat instead.\n",
      "  df = df.append(scrape_page(topic[\"topic\"], topic[\"url\"]), ignore_index=True)\n",
      " 38%|███▊      | 555/1452 [11:58<20:16,  1.36s/it]C:\\Users\\Raj\\AppData\\Local\\Temp\\ipykernel_29048\\2168445501.py:6: FutureWarning: The frame.append method is deprecated and will be removed from pandas in a future version. Use pandas.concat instead.\n",
      "  df = df.append(scrape_page(topic[\"topic\"], topic[\"url\"]), ignore_index=True)\n"
     ]
    },
    {
     "name": "stdout",
     "output_type": "stream",
     "text": [
      "Scraping Growth Hormone Deficiency...\n",
      "Found 11 sections for Growth Hormone Deficiency\n"
     ]
    },
    {
     "name": "stderr",
     "output_type": "stream",
     "text": [
      " 38%|███▊      | 556/1452 [11:59<19:27,  1.30s/it]"
     ]
    },
    {
     "name": "stdout",
     "output_type": "stream",
     "text": [
      "Scraping Guenther Porphyria...\n",
      "Found 13 sections for Guenther Porphyria\n"
     ]
    },
    {
     "name": "stderr",
     "output_type": "stream",
     "text": [
      "C:\\Users\\Raj\\AppData\\Local\\Temp\\ipykernel_29048\\2168445501.py:6: FutureWarning: The frame.append method is deprecated and will be removed from pandas in a future version. Use pandas.concat instead.\n",
      "  df = df.append(scrape_page(topic[\"topic\"], topic[\"url\"]), ignore_index=True)\n",
      " 38%|███▊      | 557/1452 [12:00<19:06,  1.28s/it]"
     ]
    },
    {
     "name": "stdout",
     "output_type": "stream",
     "text": [
      "Scraping Guided Imagery...\n",
      "Found 5 sections for Guided Imagery\n"
     ]
    },
    {
     "name": "stderr",
     "output_type": "stream",
     "text": [
      "C:\\Users\\Raj\\AppData\\Local\\Temp\\ipykernel_29048\\2168445501.py:6: FutureWarning: The frame.append method is deprecated and will be removed from pandas in a future version. Use pandas.concat instead.\n",
      "  df = df.append(scrape_page(topic[\"topic\"], topic[\"url\"]), ignore_index=True)\n",
      " 38%|███▊      | 558/1452 [12:02<23:04,  1.55s/it]"
     ]
    },
    {
     "name": "stdout",
     "output_type": "stream",
     "text": [
      "Scraping Guillain-Barre Syndrome...\n",
      "Found 7 sections for Guillain-Barre Syndrome\n"
     ]
    },
    {
     "name": "stderr",
     "output_type": "stream",
     "text": [
      "C:\\Users\\Raj\\AppData\\Local\\Temp\\ipykernel_29048\\2168445501.py:6: FutureWarning: The frame.append method is deprecated and will be removed from pandas in a future version. Use pandas.concat instead.\n",
      "  df = df.append(scrape_page(topic[\"topic\"], topic[\"url\"]), ignore_index=True)\n",
      " 38%|███▊      | 559/1452 [12:04<21:40,  1.46s/it]"
     ]
    },
    {
     "name": "stdout",
     "output_type": "stream",
     "text": [
      "Scraping Guinea Worm Infection...\n"
     ]
    },
    {
     "name": "stderr",
     "output_type": "stream",
     "text": [
      "C:\\Users\\Raj\\AppData\\Local\\Temp\\ipykernel_29048\\2168445501.py:6: FutureWarning: The frame.append method is deprecated and will be removed from pandas in a future version. Use pandas.concat instead.\n",
      "  df = df.append(scrape_page(topic[\"topic\"], topic[\"url\"]), ignore_index=True)\n",
      " 39%|███▊      | 560/1452 [12:05<20:45,  1.40s/it]C:\\Users\\Raj\\AppData\\Local\\Temp\\ipykernel_29048\\2168445501.py:6: FutureWarning: The frame.append method is deprecated and will be removed from pandas in a future version. Use pandas.concat instead.\n",
      "  df = df.append(scrape_page(topic[\"topic\"], topic[\"url\"]), ignore_index=True)\n"
     ]
    },
    {
     "name": "stdout",
     "output_type": "stream",
     "text": [
      "Scraping Gum Disease...\n",
      "Found 12 sections for Gum Disease\n"
     ]
    },
    {
     "name": "stderr",
     "output_type": "stream",
     "text": [
      " 39%|███▊      | 561/1452 [12:06<19:49,  1.33s/it]C:\\Users\\Raj\\AppData\\Local\\Temp\\ipykernel_29048\\2168445501.py:6: FutureWarning: The frame.append method is deprecated and will be removed from pandas in a future version. Use pandas.concat instead.\n",
      "  df = df.append(scrape_page(topic[\"topic\"], topic[\"url\"]), ignore_index=True)\n"
     ]
    },
    {
     "name": "stdout",
     "output_type": "stream",
     "text": [
      "Scraping Gunther Disease...\n",
      "Found 13 sections for Gunther Disease\n"
     ]
    },
    {
     "name": "stderr",
     "output_type": "stream",
     "text": [
      " 39%|███▊      | 562/1452 [12:07<19:08,  1.29s/it]"
     ]
    },
    {
     "name": "stdout",
     "output_type": "stream",
     "text": [
      "Scraping Guttate Scleroderma, Lichen Sclerosus Type...\n",
      "Found 9 sections for Guttate Scleroderma, Lichen Sclerosus Type\n"
     ]
    },
    {
     "name": "stderr",
     "output_type": "stream",
     "text": [
      "C:\\Users\\Raj\\AppData\\Local\\Temp\\ipykernel_29048\\2168445501.py:6: FutureWarning: The frame.append method is deprecated and will be removed from pandas in a future version. Use pandas.concat instead.\n",
      "  df = df.append(scrape_page(topic[\"topic\"], topic[\"url\"]), ignore_index=True)\n",
      " 39%|███▉      | 563/1452 [12:09<19:03,  1.29s/it]C:\\Users\\Raj\\AppData\\Local\\Temp\\ipykernel_29048\\2168445501.py:6: FutureWarning: The frame.append method is deprecated and will be removed from pandas in a future version. Use pandas.concat instead.\n",
      "  df = df.append(scrape_page(topic[\"topic\"], topic[\"url\"]), ignore_index=True)\n"
     ]
    },
    {
     "name": "stdout",
     "output_type": "stream",
     "text": [
      "Scraping GVHD...\n",
      "Found 5 sections for GVHD\n"
     ]
    },
    {
     "name": "stderr",
     "output_type": "stream",
     "text": [
      " 39%|███▉      | 564/1452 [12:10<18:36,  1.26s/it]"
     ]
    },
    {
     "name": "stdout",
     "output_type": "stream",
     "text": [
      "Scraping Gynecomastia...\n",
      "Found 10 sections for Gynecomastia\n"
     ]
    },
    {
     "name": "stderr",
     "output_type": "stream",
     "text": [
      "C:\\Users\\Raj\\AppData\\Local\\Temp\\ipykernel_29048\\2168445501.py:6: FutureWarning: The frame.append method is deprecated and will be removed from pandas in a future version. Use pandas.concat instead.\n",
      "  df = df.append(scrape_page(topic[\"topic\"], topic[\"url\"]), ignore_index=True)\n",
      " 39%|███▉      | 565/1452 [12:11<18:29,  1.25s/it]"
     ]
    },
    {
     "name": "stdout",
     "output_type": "stream",
     "text": [
      "Scraping H. Pylori...\n",
      "Found 12 sections for H. Pylori\n"
     ]
    },
    {
     "name": "stderr",
     "output_type": "stream",
     "text": [
      "C:\\Users\\Raj\\AppData\\Local\\Temp\\ipykernel_29048\\2168445501.py:6: FutureWarning: The frame.append method is deprecated and will be removed from pandas in a future version. Use pandas.concat instead.\n",
      "  df = df.append(scrape_page(topic[\"topic\"], topic[\"url\"]), ignore_index=True)\n",
      " 39%|███▉      | 566/1452 [12:12<18:27,  1.25s/it]"
     ]
    },
    {
     "name": "stdout",
     "output_type": "stream",
     "text": [
      "Scraping HAE...\n"
     ]
    },
    {
     "name": "stderr",
     "output_type": "stream",
     "text": [
      "C:\\Users\\Raj\\AppData\\Local\\Temp\\ipykernel_29048\\2168445501.py:6: FutureWarning: The frame.append method is deprecated and will be removed from pandas in a future version. Use pandas.concat instead.\n",
      "  df = df.append(scrape_page(topic[\"topic\"], topic[\"url\"]), ignore_index=True)\n",
      " 39%|███▉      | 567/1452 [12:14<18:37,  1.26s/it]C:\\Users\\Raj\\AppData\\Local\\Temp\\ipykernel_29048\\2168445501.py:6: FutureWarning: The frame.append method is deprecated and will be removed from pandas in a future version. Use pandas.concat instead.\n",
      "  df = df.append(scrape_page(topic[\"topic\"], topic[\"url\"]), ignore_index=True)\n"
     ]
    },
    {
     "name": "stdout",
     "output_type": "stream",
     "text": [
      "Scraping Hair-Pulling Syndrome...\n",
      "Found 8 sections for Hair-Pulling Syndrome\n"
     ]
    },
    {
     "name": "stderr",
     "output_type": "stream",
     "text": [
      " 39%|███▉      | 568/1452 [12:15<18:25,  1.25s/it]"
     ]
    },
    {
     "name": "stdout",
     "output_type": "stream",
     "text": [
      "Scraping Halushi-Behcet's Syndrome...\n",
      "Found 9 sections for Halushi-Behcet's Syndrome\n"
     ]
    },
    {
     "name": "stderr",
     "output_type": "stream",
     "text": [
      "C:\\Users\\Raj\\AppData\\Local\\Temp\\ipykernel_29048\\2168445501.py:6: FutureWarning: The frame.append method is deprecated and will be removed from pandas in a future version. Use pandas.concat instead.\n",
      "  df = df.append(scrape_page(topic[\"topic\"], topic[\"url\"]), ignore_index=True)\n",
      " 39%|███▉      | 569/1452 [12:16<18:19,  1.24s/it]"
     ]
    },
    {
     "name": "stdout",
     "output_type": "stream",
     "text": [
      "Scraping Hammer, Claw and Mallet Toes...\n",
      "Found 11 sections for Hammer, Claw and Mallet Toes\n"
     ]
    },
    {
     "name": "stderr",
     "output_type": "stream",
     "text": [
      "C:\\Users\\Raj\\AppData\\Local\\Temp\\ipykernel_29048\\2168445501.py:6: FutureWarning: The frame.append method is deprecated and will be removed from pandas in a future version. Use pandas.concat instead.\n",
      "  df = df.append(scrape_page(topic[\"topic\"], topic[\"url\"]), ignore_index=True)\n",
      " 39%|███▉      | 570/1452 [12:17<18:15,  1.24s/it]"
     ]
    },
    {
     "name": "stdout",
     "output_type": "stream",
     "text": [
      "Scraping Hammer, Claw, Mallet Toe Surgery, Deciding About...\n",
      "Found 11 sections for Hammer, Claw, Mallet Toe Surgery, Deciding About\n"
     ]
    },
    {
     "name": "stderr",
     "output_type": "stream",
     "text": [
      "C:\\Users\\Raj\\AppData\\Local\\Temp\\ipykernel_29048\\2168445501.py:6: FutureWarning: The frame.append method is deprecated and will be removed from pandas in a future version. Use pandas.concat instead.\n",
      "  df = df.append(scrape_page(topic[\"topic\"], topic[\"url\"]), ignore_index=True)\n",
      " 39%|███▉      | 571/1452 [12:18<18:23,  1.25s/it]"
     ]
    },
    {
     "name": "stdout",
     "output_type": "stream",
     "text": [
      "Scraping Hammertoes...\n",
      "Found 5 sections for Hammertoes\n"
     ]
    },
    {
     "name": "stderr",
     "output_type": "stream",
     "text": [
      "C:\\Users\\Raj\\AppData\\Local\\Temp\\ipykernel_29048\\2168445501.py:6: FutureWarning: The frame.append method is deprecated and will be removed from pandas in a future version. Use pandas.concat instead.\n",
      "  df = df.append(scrape_page(topic[\"topic\"], topic[\"url\"]), ignore_index=True)\n",
      " 39%|███▉      | 572/1452 [12:20<18:18,  1.25s/it]"
     ]
    },
    {
     "name": "stdout",
     "output_type": "stream",
     "text": [
      "Scraping Hand-Foot-and-Mouth Disease...\n",
      "Found 8 sections for Hand-Foot-and-Mouth Disease\n"
     ]
    },
    {
     "name": "stderr",
     "output_type": "stream",
     "text": [
      "C:\\Users\\Raj\\AppData\\Local\\Temp\\ipykernel_29048\\2168445501.py:6: FutureWarning: The frame.append method is deprecated and will be removed from pandas in a future version. Use pandas.concat instead.\n",
      "  df = df.append(scrape_page(topic[\"topic\"], topic[\"url\"]), ignore_index=True)\n",
      " 39%|███▉      | 573/1452 [12:21<18:13,  1.24s/it]"
     ]
    },
    {
     "name": "stdout",
     "output_type": "stream",
     "text": [
      "Scraping Hand-Washing...\n",
      "Found 6 sections for Hand-Washing\n"
     ]
    },
    {
     "name": "stderr",
     "output_type": "stream",
     "text": [
      "C:\\Users\\Raj\\AppData\\Local\\Temp\\ipykernel_29048\\2168445501.py:6: FutureWarning: The frame.append method is deprecated and will be removed from pandas in a future version. Use pandas.concat instead.\n",
      "  df = df.append(scrape_page(topic[\"topic\"], topic[\"url\"]), ignore_index=True)\n",
      " 40%|███▉      | 574/1452 [12:22<18:07,  1.24s/it]"
     ]
    },
    {
     "name": "stdout",
     "output_type": "stream",
     "text": [
      "Scraping HANE...\n"
     ]
    },
    {
     "name": "stderr",
     "output_type": "stream",
     "text": [
      "C:\\Users\\Raj\\AppData\\Local\\Temp\\ipykernel_29048\\2168445501.py:6: FutureWarning: The frame.append method is deprecated and will be removed from pandas in a future version. Use pandas.concat instead.\n",
      "  df = df.append(scrape_page(topic[\"topic\"], topic[\"url\"]), ignore_index=True)\n",
      " 40%|███▉      | 575/1452 [12:23<18:17,  1.25s/it]C:\\Users\\Raj\\AppData\\Local\\Temp\\ipykernel_29048\\2168445501.py:6: FutureWarning: The frame.append method is deprecated and will be removed from pandas in a future version. Use pandas.concat instead.\n",
      "  df = df.append(scrape_page(topic[\"topic\"], topic[\"url\"]), ignore_index=True)\n"
     ]
    },
    {
     "name": "stdout",
     "output_type": "stream",
     "text": [
      "Scraping Hashimoto's Disease...\n",
      "Found 6 sections for Hashimoto's Disease\n"
     ]
    },
    {
     "name": "stderr",
     "output_type": "stream",
     "text": [
      " 40%|███▉      | 576/1452 [12:25<17:54,  1.23s/it]"
     ]
    },
    {
     "name": "stdout",
     "output_type": "stream",
     "text": [
      "Scraping Hashimoto's Thyroiditis...\n",
      "Found 5 sections for Hashimoto's Thyroiditis\n"
     ]
    },
    {
     "name": "stderr",
     "output_type": "stream",
     "text": [
      "C:\\Users\\Raj\\AppData\\Local\\Temp\\ipykernel_29048\\2168445501.py:6: FutureWarning: The frame.append method is deprecated and will be removed from pandas in a future version. Use pandas.concat instead.\n",
      "  df = df.append(scrape_page(topic[\"topic\"], topic[\"url\"]), ignore_index=True)\n",
      " 40%|███▉      | 577/1452 [12:26<18:02,  1.24s/it]C:\\Users\\Raj\\AppData\\Local\\Temp\\ipykernel_29048\\2168445501.py:6: FutureWarning: The frame.append method is deprecated and will be removed from pandas in a future version. Use pandas.concat instead.\n",
      "  df = df.append(scrape_page(topic[\"topic\"], topic[\"url\"]), ignore_index=True)\n"
     ]
    },
    {
     "name": "stdout",
     "output_type": "stream",
     "text": [
      "Scraping Hay Fever...\n",
      "Found 10 sections for Hay Fever\n"
     ]
    },
    {
     "name": "stderr",
     "output_type": "stream",
     "text": [
      " 40%|███▉      | 578/1452 [12:27<17:57,  1.23s/it]"
     ]
    },
    {
     "name": "stdout",
     "output_type": "stream",
     "text": [
      "Scraping HD...\n",
      "Found 7 sections for HD\n"
     ]
    },
    {
     "name": "stderr",
     "output_type": "stream",
     "text": [
      "C:\\Users\\Raj\\AppData\\Local\\Temp\\ipykernel_29048\\2168445501.py:6: FutureWarning: The frame.append method is deprecated and will be removed from pandas in a future version. Use pandas.concat instead.\n",
      "  df = df.append(scrape_page(topic[\"topic\"], topic[\"url\"]), ignore_index=True)\n",
      " 40%|███▉      | 579/1452 [12:28<18:00,  1.24s/it]"
     ]
    },
    {
     "name": "stdout",
     "output_type": "stream",
     "text": [
      "Scraping Headaches, Tension-type...\n",
      "Found 11 sections for Headaches, Tension-type\n"
     ]
    },
    {
     "name": "stderr",
     "output_type": "stream",
     "text": [
      "C:\\Users\\Raj\\AppData\\Local\\Temp\\ipykernel_29048\\2168445501.py:6: FutureWarning: The frame.append method is deprecated and will be removed from pandas in a future version. Use pandas.concat instead.\n",
      "  df = df.append(scrape_page(topic[\"topic\"], topic[\"url\"]), ignore_index=True)\n",
      " 40%|███▉      | 580/1452 [12:30<18:06,  1.25s/it]"
     ]
    },
    {
     "name": "stdout",
     "output_type": "stream",
     "text": [
      "Scraping Healing Touch...\n",
      "Found 10 sections for Healing Touch\n"
     ]
    },
    {
     "name": "stderr",
     "output_type": "stream",
     "text": [
      "C:\\Users\\Raj\\AppData\\Local\\Temp\\ipykernel_29048\\2168445501.py:6: FutureWarning: The frame.append method is deprecated and will be removed from pandas in a future version. Use pandas.concat instead.\n",
      "  df = df.append(scrape_page(topic[\"topic\"], topic[\"url\"]), ignore_index=True)\n",
      " 40%|████      | 581/1452 [12:31<18:15,  1.26s/it]"
     ]
    },
    {
     "name": "stdout",
     "output_type": "stream",
     "text": [
      "Scraping Health and Safety...\n",
      "Found 16 sections for Health and Safety\n"
     ]
    },
    {
     "name": "stderr",
     "output_type": "stream",
     "text": [
      "C:\\Users\\Raj\\AppData\\Local\\Temp\\ipykernel_29048\\2168445501.py:6: FutureWarning: The frame.append method is deprecated and will be removed from pandas in a future version. Use pandas.concat instead.\n",
      "  df = df.append(scrape_page(topic[\"topic\"], topic[\"url\"]), ignore_index=True)\n",
      " 40%|████      | 582/1452 [12:32<18:13,  1.26s/it]"
     ]
    },
    {
     "name": "stdout",
     "output_type": "stream",
     "text": [
      "Scraping Hearing Loss...\n",
      "Found 10 sections for Hearing Loss\n"
     ]
    },
    {
     "name": "stderr",
     "output_type": "stream",
     "text": [
      "C:\\Users\\Raj\\AppData\\Local\\Temp\\ipykernel_29048\\2168445501.py:6: FutureWarning: The frame.append method is deprecated and will be removed from pandas in a future version. Use pandas.concat instead.\n",
      "  df = df.append(scrape_page(topic[\"topic\"], topic[\"url\"]), ignore_index=True)\n",
      " 40%|████      | 583/1452 [12:33<18:05,  1.25s/it]"
     ]
    },
    {
     "name": "stdout",
     "output_type": "stream",
     "text": [
      "Scraping Helping Your ADHD Child Succeed In School...\n",
      "Found 14 sections for Helping Your ADHD Child Succeed In School\n"
     ]
    },
    {
     "name": "stderr",
     "output_type": "stream",
     "text": [
      "C:\\Users\\Raj\\AppData\\Local\\Temp\\ipykernel_29048\\2168445501.py:6: FutureWarning: The frame.append method is deprecated and will be removed from pandas in a future version. Use pandas.concat instead.\n",
      "  df = df.append(scrape_page(topic[\"topic\"], topic[\"url\"]), ignore_index=True)\n",
      " 40%|████      | 584/1452 [12:35<18:08,  1.25s/it]"
     ]
    },
    {
     "name": "stdout",
     "output_type": "stream",
     "text": [
      "Scraping Hemophilia A...\n",
      "Found 22 sections for Hemophilia A\n"
     ]
    },
    {
     "name": "stderr",
     "output_type": "stream",
     "text": [
      "C:\\Users\\Raj\\AppData\\Local\\Temp\\ipykernel_29048\\2168445501.py:6: FutureWarning: The frame.append method is deprecated and will be removed from pandas in a future version. Use pandas.concat instead.\n",
      "  df = df.append(scrape_page(topic[\"topic\"], topic[\"url\"]), ignore_index=True)\n",
      " 40%|████      | 585/1452 [12:36<18:08,  1.26s/it]"
     ]
    },
    {
     "name": "stdout",
     "output_type": "stream",
     "text": [
      "Scraping Hemophilia B...\n",
      "Found 12 sections for Hemophilia B\n"
     ]
    },
    {
     "name": "stderr",
     "output_type": "stream",
     "text": [
      "C:\\Users\\Raj\\AppData\\Local\\Temp\\ipykernel_29048\\2168445501.py:6: FutureWarning: The frame.append method is deprecated and will be removed from pandas in a future version. Use pandas.concat instead.\n",
      "  df = df.append(scrape_page(topic[\"topic\"], topic[\"url\"]), ignore_index=True)\n",
      " 40%|████      | 586/1452 [12:37<18:02,  1.25s/it]"
     ]
    },
    {
     "name": "stdout",
     "output_type": "stream",
     "text": [
      "Scraping Hemorrhagic Telangiectasia, Hereditary (HHT)...\n",
      "Found 4 sections for Hemorrhagic Telangiectasia, Hereditary (HHT)\n"
     ]
    },
    {
     "name": "stderr",
     "output_type": "stream",
     "text": [
      "C:\\Users\\Raj\\AppData\\Local\\Temp\\ipykernel_29048\\2168445501.py:6: FutureWarning: The frame.append method is deprecated and will be removed from pandas in a future version. Use pandas.concat instead.\n",
      "  df = df.append(scrape_page(topic[\"topic\"], topic[\"url\"]), ignore_index=True)\n",
      " 40%|████      | 587/1452 [12:38<18:07,  1.26s/it]"
     ]
    },
    {
     "name": "stdout",
     "output_type": "stream",
     "text": [
      "Scraping Henoch-Schonlein Purpura (HSP)...\n",
      "Found 5 sections for Henoch-Schonlein Purpura (HSP)\n"
     ]
    },
    {
     "name": "stderr",
     "output_type": "stream",
     "text": [
      "C:\\Users\\Raj\\AppData\\Local\\Temp\\ipykernel_29048\\2168445501.py:6: FutureWarning: The frame.append method is deprecated and will be removed from pandas in a future version. Use pandas.concat instead.\n",
      "  df = df.append(scrape_page(topic[\"topic\"], topic[\"url\"]), ignore_index=True)\n",
      " 40%|████      | 588/1452 [12:40<17:57,  1.25s/it]"
     ]
    },
    {
     "name": "stdout",
     "output_type": "stream",
     "text": [
      "Scraping Hepatocellular Carcinoma...\n",
      "Found 16 sections for Hepatocellular Carcinoma\n"
     ]
    },
    {
     "name": "stderr",
     "output_type": "stream",
     "text": [
      "C:\\Users\\Raj\\AppData\\Local\\Temp\\ipykernel_29048\\2168445501.py:6: FutureWarning: The frame.append method is deprecated and will be removed from pandas in a future version. Use pandas.concat instead.\n",
      "  df = df.append(scrape_page(topic[\"topic\"], topic[\"url\"]), ignore_index=True)\n",
      " 41%|████      | 589/1452 [12:41<17:55,  1.25s/it]"
     ]
    },
    {
     "name": "stdout",
     "output_type": "stream",
     "text": [
      "Scraping HER2-Positive Breast Cancer...\n"
     ]
    },
    {
     "name": "stderr",
     "output_type": "stream",
     "text": [
      "C:\\Users\\Raj\\AppData\\Local\\Temp\\ipykernel_29048\\2168445501.py:6: FutureWarning: The frame.append method is deprecated and will be removed from pandas in a future version. Use pandas.concat instead.\n",
      "  df = df.append(scrape_page(topic[\"topic\"], topic[\"url\"]), ignore_index=True)\n",
      " 41%|████      | 590/1452 [12:42<18:08,  1.26s/it]"
     ]
    },
    {
     "name": "stdout",
     "output_type": "stream",
     "text": [
      "Scraping Hereditary Angioedema...\n"
     ]
    },
    {
     "name": "stderr",
     "output_type": "stream",
     "text": [
      "C:\\Users\\Raj\\AppData\\Local\\Temp\\ipykernel_29048\\2168445501.py:6: FutureWarning: The frame.append method is deprecated and will be removed from pandas in a future version. Use pandas.concat instead.\n",
      "  df = df.append(scrape_page(topic[\"topic\"], topic[\"url\"]), ignore_index=True)\n",
      " 41%|████      | 591/1452 [12:44<18:28,  1.29s/it]"
     ]
    },
    {
     "name": "stdout",
     "output_type": "stream",
     "text": [
      "Scraping Hereditary Nonspherocytic Hemolytic Anemia (HNHA)...\n",
      "Found 8 sections for Hereditary Nonspherocytic Hemolytic Anemia (HNHA)\n"
     ]
    },
    {
     "name": "stderr",
     "output_type": "stream",
     "text": [
      "C:\\Users\\Raj\\AppData\\Local\\Temp\\ipykernel_29048\\2168445501.py:6: FutureWarning: The frame.append method is deprecated and will be removed from pandas in a future version. Use pandas.concat instead.\n",
      "  df = df.append(scrape_page(topic[\"topic\"], topic[\"url\"]), ignore_index=True)\n",
      " 41%|████      | 592/1452 [12:45<18:15,  1.27s/it]C:\\Users\\Raj\\AppData\\Local\\Temp\\ipykernel_29048\\2168445501.py:6: FutureWarning: The frame.append method is deprecated and will be removed from pandas in a future version. Use pandas.concat instead.\n",
      "  df = df.append(scrape_page(topic[\"topic\"], topic[\"url\"]), ignore_index=True)\n"
     ]
    },
    {
     "name": "stdout",
     "output_type": "stream",
     "text": [
      "Scraping HHT...\n",
      "Found 4 sections for HHT\n"
     ]
    },
    {
     "name": "stderr",
     "output_type": "stream",
     "text": [
      " 41%|████      | 593/1452 [12:46<17:53,  1.25s/it]"
     ]
    },
    {
     "name": "stdout",
     "output_type": "stream",
     "text": [
      "Scraping Hiatal Hernia...\n",
      "Found 8 sections for Hiatal Hernia\n"
     ]
    },
    {
     "name": "stderr",
     "output_type": "stream",
     "text": [
      "C:\\Users\\Raj\\AppData\\Local\\Temp\\ipykernel_29048\\2168445501.py:6: FutureWarning: The frame.append method is deprecated and will be removed from pandas in a future version. Use pandas.concat instead.\n",
      "  df = df.append(scrape_page(topic[\"topic\"], topic[\"url\"]), ignore_index=True)\n",
      " 41%|████      | 594/1452 [12:47<17:48,  1.25s/it]C:\\Users\\Raj\\AppData\\Local\\Temp\\ipykernel_29048\\2168445501.py:6: FutureWarning: The frame.append method is deprecated and will be removed from pandas in a future version. Use pandas.concat instead.\n",
      "  df = df.append(scrape_page(topic[\"topic\"], topic[\"url\"]), ignore_index=True)\n"
     ]
    },
    {
     "name": "stdout",
     "output_type": "stream",
     "text": [
      "Scraping Hiccups...\n",
      "Found 4 sections for Hiccups\n"
     ]
    },
    {
     "name": "stderr",
     "output_type": "stream",
     "text": [
      " 41%|████      | 595/1452 [12:48<17:42,  1.24s/it]"
     ]
    },
    {
     "name": "stdout",
     "output_type": "stream",
     "text": [
      "Scraping Hidradenitis Suppurativa...\n",
      "Found 18 sections for Hidradenitis Suppurativa\n"
     ]
    },
    {
     "name": "stderr",
     "output_type": "stream",
     "text": [
      "C:\\Users\\Raj\\AppData\\Local\\Temp\\ipykernel_29048\\2168445501.py:6: FutureWarning: The frame.append method is deprecated and will be removed from pandas in a future version. Use pandas.concat instead.\n",
      "  df = df.append(scrape_page(topic[\"topic\"], topic[\"url\"]), ignore_index=True)\n",
      " 41%|████      | 596/1452 [12:50<17:43,  1.24s/it]C:\\Users\\Raj\\AppData\\Local\\Temp\\ipykernel_29048\\2168445501.py:6: FutureWarning: The frame.append method is deprecated and will be removed from pandas in a future version. Use pandas.concat instead.\n",
      "  df = df.append(scrape_page(topic[\"topic\"], topic[\"url\"]), ignore_index=True)\n"
     ]
    },
    {
     "name": "stdout",
     "output_type": "stream",
     "text": [
      "Scraping High Altitude Illness...\n",
      "Found 8 sections for High Altitude Illness\n"
     ]
    },
    {
     "name": "stderr",
     "output_type": "stream",
     "text": [
      " 41%|████      | 597/1452 [12:51<17:37,  1.24s/it]"
     ]
    },
    {
     "name": "stdout",
     "output_type": "stream",
     "text": [
      "Scraping High Potassium...\n"
     ]
    },
    {
     "name": "stderr",
     "output_type": "stream",
     "text": [
      "C:\\Users\\Raj\\AppData\\Local\\Temp\\ipykernel_29048\\2168445501.py:6: FutureWarning: The frame.append method is deprecated and will be removed from pandas in a future version. Use pandas.concat instead.\n",
      "  df = df.append(scrape_page(topic[\"topic\"], topic[\"url\"]), ignore_index=True)\n",
      " 41%|████      | 598/1452 [12:52<17:36,  1.24s/it]"
     ]
    },
    {
     "name": "stdout",
     "output_type": "stream",
     "text": [
      "Scraping High Triglycerides...\n",
      "Found 10 sections for High Triglycerides\n"
     ]
    },
    {
     "name": "stderr",
     "output_type": "stream",
     "text": [
      "C:\\Users\\Raj\\AppData\\Local\\Temp\\ipykernel_29048\\2168445501.py:6: FutureWarning: The frame.append method is deprecated and will be removed from pandas in a future version. Use pandas.concat instead.\n",
      "  df = df.append(scrape_page(topic[\"topic\"], topic[\"url\"]), ignore_index=True)\n",
      " 41%|████▏     | 599/1452 [12:53<17:37,  1.24s/it]"
     ]
    },
    {
     "name": "stdout",
     "output_type": "stream",
     "text": [
      "Scraping High-Protein Diet Slideshow...\n"
     ]
    },
    {
     "name": "stderr",
     "output_type": "stream",
     "text": [
      "C:\\Users\\Raj\\AppData\\Local\\Temp\\ipykernel_29048\\2168445501.py:6: FutureWarning: The frame.append method is deprecated and will be removed from pandas in a future version. Use pandas.concat instead.\n",
      "  df = df.append(scrape_page(topic[\"topic\"], topic[\"url\"]), ignore_index=True)\n",
      " 41%|████▏     | 600/1452 [12:55<17:41,  1.25s/it]"
     ]
    },
    {
     "name": "stdout",
     "output_type": "stream",
     "text": [
      "Scraping Hip Dysplasia, Congenital...\n",
      "Found 10 sections for Hip Dysplasia, Congenital\n"
     ]
    },
    {
     "name": "stderr",
     "output_type": "stream",
     "text": [
      "C:\\Users\\Raj\\AppData\\Local\\Temp\\ipykernel_29048\\2168445501.py:6: FutureWarning: The frame.append method is deprecated and will be removed from pandas in a future version. Use pandas.concat instead.\n",
      "  df = df.append(scrape_page(topic[\"topic\"], topic[\"url\"]), ignore_index=True)\n",
      " 41%|████▏     | 601/1452 [12:56<17:40,  1.25s/it]C:\\Users\\Raj\\AppData\\Local\\Temp\\ipykernel_29048\\2168445501.py:6: FutureWarning: The frame.append method is deprecated and will be removed from pandas in a future version. Use pandas.concat instead.\n",
      "  df = df.append(scrape_page(topic[\"topic\"], topic[\"url\"]), ignore_index=True)\n"
     ]
    },
    {
     "name": "stdout",
     "output_type": "stream",
     "text": [
      "Scraping Hip Fracture...\n",
      "Found 6 sections for Hip Fracture\n"
     ]
    },
    {
     "name": "stderr",
     "output_type": "stream",
     "text": [
      " 41%|████▏     | 602/1452 [12:57<17:33,  1.24s/it]"
     ]
    },
    {
     "name": "stdout",
     "output_type": "stream",
     "text": [
      "Scraping Hirschsprung's Disease...\n",
      "Found 7 sections for Hirschsprung's Disease\n"
     ]
    },
    {
     "name": "stderr",
     "output_type": "stream",
     "text": [
      "C:\\Users\\Raj\\AppData\\Local\\Temp\\ipykernel_29048\\2168445501.py:6: FutureWarning: The frame.append method is deprecated and will be removed from pandas in a future version. Use pandas.concat instead.\n",
      "  df = df.append(scrape_page(topic[\"topic\"], topic[\"url\"]), ignore_index=True)\n",
      " 42%|████▏     | 603/1452 [12:58<17:32,  1.24s/it]"
     ]
    },
    {
     "name": "stdout",
     "output_type": "stream",
     "text": [
      "Scraping Hirsutism...\n",
      "Found 6 sections for Hirsutism\n"
     ]
    },
    {
     "name": "stderr",
     "output_type": "stream",
     "text": [
      "C:\\Users\\Raj\\AppData\\Local\\Temp\\ipykernel_29048\\2168445501.py:6: FutureWarning: The frame.append method is deprecated and will be removed from pandas in a future version. Use pandas.concat instead.\n",
      "  df = df.append(scrape_page(topic[\"topic\"], topic[\"url\"]), ignore_index=True)\n",
      " 42%|████▏     | 604/1452 [13:00<17:31,  1.24s/it]"
     ]
    },
    {
     "name": "stdout",
     "output_type": "stream",
     "text": [
      "Scraping Histiocytosis X...\n",
      "Found 6 sections for Histiocytosis X\n"
     ]
    },
    {
     "name": "stderr",
     "output_type": "stream",
     "text": [
      "C:\\Users\\Raj\\AppData\\Local\\Temp\\ipykernel_29048\\2168445501.py:6: FutureWarning: The frame.append method is deprecated and will be removed from pandas in a future version. Use pandas.concat instead.\n",
      "  df = df.append(scrape_page(topic[\"topic\"], topic[\"url\"]), ignore_index=True)\n",
      " 42%|████▏     | 605/1452 [13:01<17:33,  1.24s/it]C:\\Users\\Raj\\AppData\\Local\\Temp\\ipykernel_29048\\2168445501.py:6: FutureWarning: The frame.append method is deprecated and will be removed from pandas in a future version. Use pandas.concat instead.\n",
      "  df = df.append(scrape_page(topic[\"topic\"], topic[\"url\"]), ignore_index=True)\n"
     ]
    },
    {
     "name": "stdout",
     "output_type": "stream",
     "text": [
      "Scraping Hives...\n",
      "Found 8 sections for Hives\n"
     ]
    },
    {
     "name": "stderr",
     "output_type": "stream",
     "text": [
      " 42%|████▏     | 606/1452 [13:02<17:15,  1.22s/it]"
     ]
    },
    {
     "name": "stdout",
     "output_type": "stream",
     "text": [
      "Scraping HLHS...\n",
      "Found 8 sections for HLHS\n"
     ]
    },
    {
     "name": "stderr",
     "output_type": "stream",
     "text": [
      "C:\\Users\\Raj\\AppData\\Local\\Temp\\ipykernel_29048\\2168445501.py:6: FutureWarning: The frame.append method is deprecated and will be removed from pandas in a future version. Use pandas.concat instead.\n",
      "  df = df.append(scrape_page(topic[\"topic\"], topic[\"url\"]), ignore_index=True)\n",
      " 42%|████▏     | 607/1452 [13:04<19:28,  1.38s/it]"
     ]
    },
    {
     "name": "stdout",
     "output_type": "stream",
     "text": [
      "Scraping Hodgkin's Disease...\n"
     ]
    },
    {
     "name": "stderr",
     "output_type": "stream",
     "text": [
      "C:\\Users\\Raj\\AppData\\Local\\Temp\\ipykernel_29048\\2168445501.py:6: FutureWarning: The frame.append method is deprecated and will be removed from pandas in a future version. Use pandas.concat instead.\n",
      "  df = df.append(scrape_page(topic[\"topic\"], topic[\"url\"]), ignore_index=True)\n",
      " 42%|████▏     | 608/1452 [13:05<19:18,  1.37s/it]"
     ]
    },
    {
     "name": "stdout",
     "output_type": "stream",
     "text": [
      "Scraping Hole in the Heart...\n",
      "Found 17 sections for Hole in the Heart\n"
     ]
    },
    {
     "name": "stderr",
     "output_type": "stream",
     "text": [
      "C:\\Users\\Raj\\AppData\\Local\\Temp\\ipykernel_29048\\2168445501.py:6: FutureWarning: The frame.append method is deprecated and will be removed from pandas in a future version. Use pandas.concat instead.\n",
      "  df = df.append(scrape_page(topic[\"topic\"], topic[\"url\"]), ignore_index=True)\n",
      " 42%|████▏     | 609/1452 [13:06<18:44,  1.33s/it]"
     ]
    },
    {
     "name": "stdout",
     "output_type": "stream",
     "text": [
      "Scraping Home Blood Sugar Monitoring...\n",
      "Found 6 sections for Home Blood Sugar Monitoring\n"
     ]
    },
    {
     "name": "stderr",
     "output_type": "stream",
     "text": [
      "C:\\Users\\Raj\\AppData\\Local\\Temp\\ipykernel_29048\\2168445501.py:6: FutureWarning: The frame.append method is deprecated and will be removed from pandas in a future version. Use pandas.concat instead.\n",
      "  df = df.append(scrape_page(topic[\"topic\"], topic[\"url\"]), ignore_index=True)\n",
      " 42%|████▏     | 610/1452 [13:08<18:24,  1.31s/it]"
     ]
    },
    {
     "name": "stdout",
     "output_type": "stream",
     "text": [
      "Scraping Home Blood Sugar Monitoring in Children...\n",
      "Found 5 sections for Home Blood Sugar Monitoring in Children\n"
     ]
    },
    {
     "name": "stderr",
     "output_type": "stream",
     "text": [
      "C:\\Users\\Raj\\AppData\\Local\\Temp\\ipykernel_29048\\2168445501.py:6: FutureWarning: The frame.append method is deprecated and will be removed from pandas in a future version. Use pandas.concat instead.\n",
      "  df = df.append(scrape_page(topic[\"topic\"], topic[\"url\"]), ignore_index=True)\n",
      " 42%|████▏     | 611/1452 [13:09<18:11,  1.30s/it]"
     ]
    },
    {
     "name": "stdout",
     "output_type": "stream",
     "text": [
      "Scraping Home Blood Sugar Monitoring with Gestational Diabetes...\n",
      "Found 14 sections for Home Blood Sugar Monitoring with Gestational Diabetes\n"
     ]
    },
    {
     "name": "stderr",
     "output_type": "stream",
     "text": [
      "C:\\Users\\Raj\\AppData\\Local\\Temp\\ipykernel_29048\\2168445501.py:6: FutureWarning: The frame.append method is deprecated and will be removed from pandas in a future version. Use pandas.concat instead.\n",
      "  df = df.append(scrape_page(topic[\"topic\"], topic[\"url\"]), ignore_index=True)\n",
      " 42%|████▏     | 612/1452 [13:10<19:16,  1.38s/it]"
     ]
    },
    {
     "name": "stdout",
     "output_type": "stream",
     "text": [
      "Scraping Home Health Supplies...\n",
      "Found 20 sections for Home Health Supplies\n"
     ]
    },
    {
     "name": "stderr",
     "output_type": "stream",
     "text": [
      "C:\\Users\\Raj\\AppData\\Local\\Temp\\ipykernel_29048\\2168445501.py:6: FutureWarning: The frame.append method is deprecated and will be removed from pandas in a future version. Use pandas.concat instead.\n",
      "  df = df.append(scrape_page(topic[\"topic\"], topic[\"url\"]), ignore_index=True)\n",
      " 42%|████▏     | 613/1452 [13:12<18:42,  1.34s/it]C:\\Users\\Raj\\AppData\\Local\\Temp\\ipykernel_29048\\2168445501.py:6: FutureWarning: The frame.append method is deprecated and will be removed from pandas in a future version. Use pandas.concat instead.\n",
      "  df = df.append(scrape_page(topic[\"topic\"], topic[\"url\"]), ignore_index=True)\n"
     ]
    },
    {
     "name": "stdout",
     "output_type": "stream",
     "text": [
      "Scraping Homeopathy...\n",
      "Found 6 sections for Homeopathy\n"
     ]
    },
    {
     "name": "stderr",
     "output_type": "stream",
     "text": [
      " 42%|████▏     | 614/1452 [13:13<18:11,  1.30s/it]"
     ]
    },
    {
     "name": "stdout",
     "output_type": "stream",
     "text": [
      "Scraping Homocystinuria...\n",
      "Found 9 sections for Homocystinuria\n"
     ]
    },
    {
     "name": "stderr",
     "output_type": "stream",
     "text": [
      "C:\\Users\\Raj\\AppData\\Local\\Temp\\ipykernel_29048\\2168445501.py:6: FutureWarning: The frame.append method is deprecated and will be removed from pandas in a future version. Use pandas.concat instead.\n",
      "  df = df.append(scrape_page(topic[\"topic\"], topic[\"url\"]), ignore_index=True)\n",
      " 42%|████▏     | 615/1452 [13:14<17:49,  1.28s/it]C:\\Users\\Raj\\AppData\\Local\\Temp\\ipykernel_29048\\2168445501.py:6: FutureWarning: The frame.append method is deprecated and will be removed from pandas in a future version. Use pandas.concat instead.\n",
      "  df = df.append(scrape_page(topic[\"topic\"], topic[\"url\"]), ignore_index=True)\n"
     ]
    },
    {
     "name": "stdout",
     "output_type": "stream",
     "text": [
      "Scraping Homozygous Alpha-1-Antitrypsin Deficiency...\n",
      "Found 11 sections for Homozygous Alpha-1-Antitrypsin Deficiency\n"
     ]
    },
    {
     "name": "stderr",
     "output_type": "stream",
     "text": [
      " 42%|████▏     | 616/1452 [13:15<17:34,  1.26s/it]"
     ]
    },
    {
     "name": "stdout",
     "output_type": "stream",
     "text": [
      "Scraping Homozygous Familial Hypercholesterolemia...\n",
      "Found 15 sections for Homozygous Familial Hypercholesterolemia\n"
     ]
    },
    {
     "name": "stderr",
     "output_type": "stream",
     "text": [
      "C:\\Users\\Raj\\AppData\\Local\\Temp\\ipykernel_29048\\2168445501.py:6: FutureWarning: The frame.append method is deprecated and will be removed from pandas in a future version. Use pandas.concat instead.\n",
      "  df = df.append(scrape_page(topic[\"topic\"], topic[\"url\"]), ignore_index=True)\n",
      " 42%|████▏     | 617/1452 [13:17<19:53,  1.43s/it]C:\\Users\\Raj\\AppData\\Local\\Temp\\ipykernel_29048\\2168445501.py:6: FutureWarning: The frame.append method is deprecated and will be removed from pandas in a future version. Use pandas.concat instead.\n",
      "  df = df.append(scrape_page(topic[\"topic\"], topic[\"url\"]), ignore_index=True)\n"
     ]
    },
    {
     "name": "stdout",
     "output_type": "stream",
     "text": [
      "Scraping Hordeolum...\n",
      "Found 3 sections for Hordeolum\n"
     ]
    },
    {
     "name": "stderr",
     "output_type": "stream",
     "text": [
      " 43%|████▎     | 618/1452 [13:18<18:59,  1.37s/it]"
     ]
    },
    {
     "name": "stdout",
     "output_type": "stream",
     "text": [
      "Scraping Hormone Therapy for Endometriosis...\n",
      "Found 8 sections for Hormone Therapy for Endometriosis\n"
     ]
    },
    {
     "name": "stderr",
     "output_type": "stream",
     "text": [
      "C:\\Users\\Raj\\AppData\\Local\\Temp\\ipykernel_29048\\2168445501.py:6: FutureWarning: The frame.append method is deprecated and will be removed from pandas in a future version. Use pandas.concat instead.\n",
      "  df = df.append(scrape_page(topic[\"topic\"], topic[\"url\"]), ignore_index=True)\n",
      " 43%|████▎     | 619/1452 [13:20<18:30,  1.33s/it]C:\\Users\\Raj\\AppData\\Local\\Temp\\ipykernel_29048\\2168445501.py:6: FutureWarning: The frame.append method is deprecated and will be removed from pandas in a future version. Use pandas.concat instead.\n",
      "  df = df.append(scrape_page(topic[\"topic\"], topic[\"url\"]), ignore_index=True)\n"
     ]
    },
    {
     "name": "stdout",
     "output_type": "stream",
     "text": [
      "Scraping Horner's Syndrome...\n",
      "Found 8 sections for Horner's Syndrome\n"
     ]
    },
    {
     "name": "stderr",
     "output_type": "stream",
     "text": [
      " 43%|████▎     | 620/1452 [13:21<18:01,  1.30s/it]"
     ]
    },
    {
     "name": "stdout",
     "output_type": "stream",
     "text": [
      "Scraping Hospice...\n",
      "Found 8 sections for Hospice\n"
     ]
    },
    {
     "name": "stderr",
     "output_type": "stream",
     "text": [
      "C:\\Users\\Raj\\AppData\\Local\\Temp\\ipykernel_29048\\2168445501.py:6: FutureWarning: The frame.append method is deprecated and will be removed from pandas in a future version. Use pandas.concat instead.\n",
      "  df = df.append(scrape_page(topic[\"topic\"], topic[\"url\"]), ignore_index=True)\n",
      " 43%|████▎     | 621/1452 [13:22<17:44,  1.28s/it]"
     ]
    },
    {
     "name": "stdout",
     "output_type": "stream",
     "text": [
      "Scraping Hospice Care...\n",
      "Found 7 sections for Hospice Care\n"
     ]
    },
    {
     "name": "stderr",
     "output_type": "stream",
     "text": [
      "C:\\Users\\Raj\\AppData\\Local\\Temp\\ipykernel_29048\\2168445501.py:6: FutureWarning: The frame.append method is deprecated and will be removed from pandas in a future version. Use pandas.concat instead.\n",
      "  df = df.append(scrape_page(topic[\"topic\"], topic[\"url\"]), ignore_index=True)\n",
      " 43%|████▎     | 622/1452 [13:23<17:31,  1.27s/it]"
     ]
    },
    {
     "name": "stdout",
     "output_type": "stream",
     "text": [
      "Scraping How to Allergy-Proof Your Environment...\n",
      "Found 8 sections for How to Allergy-Proof Your Environment\n"
     ]
    },
    {
     "name": "stderr",
     "output_type": "stream",
     "text": [
      "C:\\Users\\Raj\\AppData\\Local\\Temp\\ipykernel_29048\\2168445501.py:6: FutureWarning: The frame.append method is deprecated and will be removed from pandas in a future version. Use pandas.concat instead.\n",
      "  df = df.append(scrape_page(topic[\"topic\"], topic[\"url\"]), ignore_index=True)\n",
      " 43%|████▎     | 623/1452 [13:25<17:27,  1.26s/it]"
     ]
    },
    {
     "name": "stdout",
     "output_type": "stream",
     "text": [
      "Scraping How to Avoid Outdoor Allergy Triggers...\n",
      "Found 2 sections for How to Avoid Outdoor Allergy Triggers\n"
     ]
    },
    {
     "name": "stderr",
     "output_type": "stream",
     "text": [
      "C:\\Users\\Raj\\AppData\\Local\\Temp\\ipykernel_29048\\2168445501.py:6: FutureWarning: The frame.append method is deprecated and will be removed from pandas in a future version. Use pandas.concat instead.\n",
      "  df = df.append(scrape_page(topic[\"topic\"], topic[\"url\"]), ignore_index=True)\n",
      " 43%|████▎     | 624/1452 [13:26<19:22,  1.40s/it]"
     ]
    },
    {
     "name": "stdout",
     "output_type": "stream",
     "text": [
      "Scraping How to Control Itching from Chickenpox...\n",
      "Found 6 sections for How to Control Itching from Chickenpox\n"
     ]
    },
    {
     "name": "stderr",
     "output_type": "stream",
     "text": [
      "C:\\Users\\Raj\\AppData\\Local\\Temp\\ipykernel_29048\\2168445501.py:6: FutureWarning: The frame.append method is deprecated and will be removed from pandas in a future version. Use pandas.concat instead.\n",
      "  df = df.append(scrape_page(topic[\"topic\"], topic[\"url\"]), ignore_index=True)\n",
      " 43%|████▎     | 625/1452 [13:28<18:38,  1.35s/it]"
     ]
    },
    {
     "name": "stdout",
     "output_type": "stream",
     "text": [
      "Scraping How to Improve Your Sleep...\n"
     ]
    },
    {
     "name": "stderr",
     "output_type": "stream",
     "text": [
      "C:\\Users\\Raj\\AppData\\Local\\Temp\\ipykernel_29048\\2168445501.py:6: FutureWarning: The frame.append method is deprecated and will be removed from pandas in a future version. Use pandas.concat instead.\n",
      "  df = df.append(scrape_page(topic[\"topic\"], topic[\"url\"]), ignore_index=True)\n",
      " 43%|████▎     | 626/1452 [13:29<18:44,  1.36s/it]"
     ]
    },
    {
     "name": "stdout",
     "output_type": "stream",
     "text": [
      "Scraping How to Measure Peak Expiratory Flow...\n",
      "Found 8 sections for How to Measure Peak Expiratory Flow\n"
     ]
    },
    {
     "name": "stderr",
     "output_type": "stream",
     "text": [
      "C:\\Users\\Raj\\AppData\\Local\\Temp\\ipykernel_29048\\2168445501.py:6: FutureWarning: The frame.append method is deprecated and will be removed from pandas in a future version. Use pandas.concat instead.\n",
      "  df = df.append(scrape_page(topic[\"topic\"], topic[\"url\"]), ignore_index=True)\n",
      " 43%|████▎     | 627/1452 [13:30<18:12,  1.32s/it]C:\\Users\\Raj\\AppData\\Local\\Temp\\ipykernel_29048\\2168445501.py:6: FutureWarning: The frame.append method is deprecated and will be removed from pandas in a future version. Use pandas.concat instead.\n",
      "  df = df.append(scrape_page(topic[\"topic\"], topic[\"url\"]), ignore_index=True)\n"
     ]
    },
    {
     "name": "stdout",
     "output_type": "stream",
     "text": [
      "Scraping How to Remove a Tick...\n",
      "Found 5 sections for How to Remove a Tick\n"
     ]
    },
    {
     "name": "stderr",
     "output_type": "stream",
     "text": [
      " 43%|████▎     | 628/1452 [13:31<17:47,  1.30s/it]"
     ]
    },
    {
     "name": "stdout",
     "output_type": "stream",
     "text": [
      "Scraping How to Stop Bleeding From a Minor Head Wound...\n",
      "Found 9 sections for How to Stop Bleeding From a Minor Head Wound\n"
     ]
    },
    {
     "name": "stderr",
     "output_type": "stream",
     "text": [
      "C:\\Users\\Raj\\AppData\\Local\\Temp\\ipykernel_29048\\2168445501.py:6: FutureWarning: The frame.append method is deprecated and will be removed from pandas in a future version. Use pandas.concat instead.\n",
      "  df = df.append(scrape_page(topic[\"topic\"], topic[\"url\"]), ignore_index=True)\n",
      " 43%|████▎     | 629/1452 [13:33<17:38,  1.29s/it]"
     ]
    },
    {
     "name": "stdout",
     "output_type": "stream",
     "text": [
      "Scraping How to Stop Drinking Alcohol...\n"
     ]
    },
    {
     "name": "stderr",
     "output_type": "stream",
     "text": [
      "C:\\Users\\Raj\\AppData\\Local\\Temp\\ipykernel_29048\\2168445501.py:6: FutureWarning: The frame.append method is deprecated and will be removed from pandas in a future version. Use pandas.concat instead.\n",
      "  df = df.append(scrape_page(topic[\"topic\"], topic[\"url\"]), ignore_index=True)\n",
      " 43%|████▎     | 630/1452 [13:34<17:43,  1.29s/it]"
     ]
    },
    {
     "name": "stdout",
     "output_type": "stream",
     "text": [
      "Scraping How to Stop Thumb-Sucking...\n",
      "Found 8 sections for How to Stop Thumb-Sucking\n"
     ]
    },
    {
     "name": "stderr",
     "output_type": "stream",
     "text": [
      "C:\\Users\\Raj\\AppData\\Local\\Temp\\ipykernel_29048\\2168445501.py:6: FutureWarning: The frame.append method is deprecated and will be removed from pandas in a future version. Use pandas.concat instead.\n",
      "  df = df.append(scrape_page(topic[\"topic\"], topic[\"url\"]), ignore_index=True)\n",
      " 43%|████▎     | 631/1452 [13:35<17:35,  1.29s/it]"
     ]
    },
    {
     "name": "stdout",
     "output_type": "stream",
     "text": [
      "Scraping How to Use a Condom...\n",
      "Found 12 sections for How to Use a Condom\n"
     ]
    },
    {
     "name": "stderr",
     "output_type": "stream",
     "text": [
      "C:\\Users\\Raj\\AppData\\Local\\Temp\\ipykernel_29048\\2168445501.py:6: FutureWarning: The frame.append method is deprecated and will be removed from pandas in a future version. Use pandas.concat instead.\n",
      "  df = df.append(scrape_page(topic[\"topic\"], topic[\"url\"]), ignore_index=True)\n",
      " 44%|████▎     | 632/1452 [13:37<18:40,  1.37s/it]C:\\Users\\Raj\\AppData\\Local\\Temp\\ipykernel_29048\\2168445501.py:6: FutureWarning: The frame.append method is deprecated and will be removed from pandas in a future version. Use pandas.concat instead.\n",
      "  df = df.append(scrape_page(topic[\"topic\"], topic[\"url\"]), ignore_index=True)\n"
     ]
    },
    {
     "name": "stdout",
     "output_type": "stream",
     "text": [
      "Scraping Human Cyclic Neutropenia...\n",
      "Found 7 sections for Human Cyclic Neutropenia\n"
     ]
    },
    {
     "name": "stderr",
     "output_type": "stream",
     "text": [
      " 44%|████▎     | 633/1452 [13:38<18:03,  1.32s/it]"
     ]
    },
    {
     "name": "stdout",
     "output_type": "stream",
     "text": [
      "Scraping Human Cytomegalovirus Infection...\n",
      "Found 8 sections for Human Cytomegalovirus Infection\n"
     ]
    },
    {
     "name": "stderr",
     "output_type": "stream",
     "text": [
      "C:\\Users\\Raj\\AppData\\Local\\Temp\\ipykernel_29048\\2168445501.py:6: FutureWarning: The frame.append method is deprecated and will be removed from pandas in a future version. Use pandas.concat instead.\n",
      "  df = df.append(scrape_page(topic[\"topic\"], topic[\"url\"]), ignore_index=True)\n",
      " 44%|████▎     | 634/1452 [13:39<17:44,  1.30s/it]"
     ]
    },
    {
     "name": "stdout",
     "output_type": "stream",
     "text": [
      "Scraping Humor Therapy...\n",
      "Found 10 sections for Humor Therapy\n"
     ]
    },
    {
     "name": "stderr",
     "output_type": "stream",
     "text": [
      "C:\\Users\\Raj\\AppData\\Local\\Temp\\ipykernel_29048\\2168445501.py:6: FutureWarning: The frame.append method is deprecated and will be removed from pandas in a future version. Use pandas.concat instead.\n",
      "  df = df.append(scrape_page(topic[\"topic\"], topic[\"url\"]), ignore_index=True)\n",
      " 44%|████▎     | 635/1452 [13:41<20:41,  1.52s/it]"
     ]
    },
    {
     "name": "stdout",
     "output_type": "stream",
     "text": [
      "Scraping Hunter Syndrome...\n",
      "Found 14 sections for Hunter Syndrome\n"
     ]
    },
    {
     "name": "stderr",
     "output_type": "stream",
     "text": [
      "C:\\Users\\Raj\\AppData\\Local\\Temp\\ipykernel_29048\\2168445501.py:6: FutureWarning: The frame.append method is deprecated and will be removed from pandas in a future version. Use pandas.concat instead.\n",
      "  df = df.append(scrape_page(topic[\"topic\"], topic[\"url\"]), ignore_index=True)\n",
      " 44%|████▍     | 636/1452 [13:43<19:28,  1.43s/it]C:\\Users\\Raj\\AppData\\Local\\Temp\\ipykernel_29048\\2168445501.py:6: FutureWarning: The frame.append method is deprecated and will be removed from pandas in a future version. Use pandas.concat instead.\n",
      "  df = df.append(scrape_page(topic[\"topic\"], topic[\"url\"]), ignore_index=True)\n"
     ]
    },
    {
     "name": "stdout",
     "output_type": "stream",
     "text": [
      "Scraping Huntington's Chorea (HD)...\n",
      "Found 7 sections for Huntington's Chorea (HD)\n"
     ]
    },
    {
     "name": "stderr",
     "output_type": "stream",
     "text": [
      " 44%|████▍     | 637/1452 [13:44<18:31,  1.36s/it]C:\\Users\\Raj\\AppData\\Local\\Temp\\ipykernel_29048\\2168445501.py:6: FutureWarning: The frame.append method is deprecated and will be removed from pandas in a future version. Use pandas.concat instead.\n",
      "  df = df.append(scrape_page(topic[\"topic\"], topic[\"url\"]), ignore_index=True)\n"
     ]
    },
    {
     "name": "stdout",
     "output_type": "stream",
     "text": [
      "Scraping Huntington's Disease (HD)...\n",
      "Found 7 sections for Huntington's Disease (HD)\n"
     ]
    },
    {
     "name": "stderr",
     "output_type": "stream",
     "text": [
      " 44%|████▍     | 638/1452 [13:45<17:46,  1.31s/it]C:\\Users\\Raj\\AppData\\Local\\Temp\\ipykernel_29048\\2168445501.py:6: FutureWarning: The frame.append method is deprecated and will be removed from pandas in a future version. Use pandas.concat instead.\n",
      "  df = df.append(scrape_page(topic[\"topic\"], topic[\"url\"]), ignore_index=True)\n"
     ]
    },
    {
     "name": "stdout",
     "output_type": "stream",
     "text": [
      "Scraping Hurler Disease...\n",
      "Found 14 sections for Hurler Disease\n"
     ]
    },
    {
     "name": "stderr",
     "output_type": "stream",
     "text": [
      " 44%|████▍     | 639/1452 [13:46<17:22,  1.28s/it]C:\\Users\\Raj\\AppData\\Local\\Temp\\ipykernel_29048\\2168445501.py:6: FutureWarning: The frame.append method is deprecated and will be removed from pandas in a future version. Use pandas.concat instead.\n",
      "  df = df.append(scrape_page(topic[\"topic\"], topic[\"url\"]), ignore_index=True)\n"
     ]
    },
    {
     "name": "stdout",
     "output_type": "stream",
     "text": [
      "Scraping Hutchinson-Gilford Progeria Syndrome (HGPS)...\n",
      "Found 9 sections for Hutchinson-Gilford Progeria Syndrome (HGPS)\n"
     ]
    },
    {
     "name": "stderr",
     "output_type": "stream",
     "text": [
      " 44%|████▍     | 640/1452 [13:47<17:06,  1.26s/it]C:\\Users\\Raj\\AppData\\Local\\Temp\\ipykernel_29048\\2168445501.py:6: FutureWarning: The frame.append method is deprecated and will be removed from pandas in a future version. Use pandas.concat instead.\n",
      "  df = df.append(scrape_page(topic[\"topic\"], topic[\"url\"]), ignore_index=True)\n"
     ]
    },
    {
     "name": "stdout",
     "output_type": "stream",
     "text": [
      "Scraping Hutchinson-Gilford Syndrome (HGPS)...\n",
      "Found 9 sections for Hutchinson-Gilford Syndrome (HGPS)\n"
     ]
    },
    {
     "name": "stderr",
     "output_type": "stream",
     "text": [
      " 44%|████▍     | 641/1452 [13:49<16:44,  1.24s/it]"
     ]
    },
    {
     "name": "stdout",
     "output_type": "stream",
     "text": [
      "Scraping Hydatidiform Mole...\n",
      "Found 8 sections for Hydatidiform Mole\n"
     ]
    },
    {
     "name": "stderr",
     "output_type": "stream",
     "text": [
      "C:\\Users\\Raj\\AppData\\Local\\Temp\\ipykernel_29048\\2168445501.py:6: FutureWarning: The frame.append method is deprecated and will be removed from pandas in a future version. Use pandas.concat instead.\n",
      "  df = df.append(scrape_page(topic[\"topic\"], topic[\"url\"]), ignore_index=True)\n",
      " 44%|████▍     | 642/1452 [13:50<16:48,  1.24s/it]"
     ]
    },
    {
     "name": "stdout",
     "output_type": "stream",
     "text": [
      "Scraping Hydrocele...\n",
      "Found 6 sections for Hydrocele\n"
     ]
    },
    {
     "name": "stderr",
     "output_type": "stream",
     "text": [
      "C:\\Users\\Raj\\AppData\\Local\\Temp\\ipykernel_29048\\2168445501.py:6: FutureWarning: The frame.append method is deprecated and will be removed from pandas in a future version. Use pandas.concat instead.\n",
      "  df = df.append(scrape_page(topic[\"topic\"], topic[\"url\"]), ignore_index=True)\n",
      " 44%|████▍     | 643/1452 [13:51<16:52,  1.25s/it]"
     ]
    },
    {
     "name": "stdout",
     "output_type": "stream",
     "text": [
      "Scraping Hydrocephalus...\n",
      "Found 9 sections for Hydrocephalus\n"
     ]
    },
    {
     "name": "stderr",
     "output_type": "stream",
     "text": [
      "C:\\Users\\Raj\\AppData\\Local\\Temp\\ipykernel_29048\\2168445501.py:6: FutureWarning: The frame.append method is deprecated and will be removed from pandas in a future version. Use pandas.concat instead.\n",
      "  df = df.append(scrape_page(topic[\"topic\"], topic[\"url\"]), ignore_index=True)\n",
      " 44%|████▍     | 644/1452 [13:52<16:50,  1.25s/it]"
     ]
    },
    {
     "name": "stdout",
     "output_type": "stream",
     "text": [
      "Scraping Hydrocephalus, Congenital...\n",
      "Found 6 sections for Hydrocephalus, Congenital\n"
     ]
    },
    {
     "name": "stderr",
     "output_type": "stream",
     "text": [
      "C:\\Users\\Raj\\AppData\\Local\\Temp\\ipykernel_29048\\2168445501.py:6: FutureWarning: The frame.append method is deprecated and will be removed from pandas in a future version. Use pandas.concat instead.\n",
      "  df = df.append(scrape_page(topic[\"topic\"], topic[\"url\"]), ignore_index=True)\n",
      " 44%|████▍     | 645/1452 [13:54<16:48,  1.25s/it]"
     ]
    },
    {
     "name": "stdout",
     "output_type": "stream",
     "text": [
      "Scraping Hydrotherapy...\n",
      "Found 8 sections for Hydrotherapy\n"
     ]
    },
    {
     "name": "stderr",
     "output_type": "stream",
     "text": [
      "C:\\Users\\Raj\\AppData\\Local\\Temp\\ipykernel_29048\\2168445501.py:6: FutureWarning: The frame.append method is deprecated and will be removed from pandas in a future version. Use pandas.concat instead.\n",
      "  df = df.append(scrape_page(topic[\"topic\"], topic[\"url\"]), ignore_index=True)\n",
      " 44%|████▍     | 646/1452 [13:55<16:38,  1.24s/it]"
     ]
    },
    {
     "name": "stdout",
     "output_type": "stream",
     "text": [
      "Scraping Hygroma Colli...\n",
      "Found 4 sections for Hygroma Colli\n"
     ]
    },
    {
     "name": "stderr",
     "output_type": "stream",
     "text": [
      "C:\\Users\\Raj\\AppData\\Local\\Temp\\ipykernel_29048\\2168445501.py:6: FutureWarning: The frame.append method is deprecated and will be removed from pandas in a future version. Use pandas.concat instead.\n",
      "  df = df.append(scrape_page(topic[\"topic\"], topic[\"url\"]), ignore_index=True)\n",
      " 45%|████▍     | 647/1452 [13:56<16:38,  1.24s/it]"
     ]
    },
    {
     "name": "stdout",
     "output_type": "stream",
     "text": [
      "Scraping Hyperammonemia due to Ornithine Transcarbamylase Deficiency...\n",
      "Found 7 sections for Hyperammonemia due to Ornithine Transcarbamylase Deficiency\n"
     ]
    },
    {
     "name": "stderr",
     "output_type": "stream",
     "text": [
      "C:\\Users\\Raj\\AppData\\Local\\Temp\\ipykernel_29048\\2168445501.py:6: FutureWarning: The frame.append method is deprecated and will be removed from pandas in a future version. Use pandas.concat instead.\n",
      "  df = df.append(scrape_page(topic[\"topic\"], topic[\"url\"]), ignore_index=True)\n",
      " 45%|████▍     | 648/1452 [13:57<16:39,  1.24s/it]"
     ]
    },
    {
     "name": "stdout",
     "output_type": "stream",
     "text": [
      "Scraping Hypercalcemia-Supravalvar Aortic Stenosis...\n",
      "Found 14 sections for Hypercalcemia-Supravalvar Aortic Stenosis\n"
     ]
    },
    {
     "name": "stderr",
     "output_type": "stream",
     "text": [
      "C:\\Users\\Raj\\AppData\\Local\\Temp\\ipykernel_29048\\2168445501.py:6: FutureWarning: The frame.append method is deprecated and will be removed from pandas in a future version. Use pandas.concat instead.\n",
      "  df = df.append(scrape_page(topic[\"topic\"], topic[\"url\"]), ignore_index=True)\n",
      " 45%|████▍     | 649/1452 [13:59<16:41,  1.25s/it]"
     ]
    },
    {
     "name": "stdout",
     "output_type": "stream",
     "text": [
      "Scraping Hyperemesis Gravidarum...\n",
      "Found 6 sections for Hyperemesis Gravidarum\n"
     ]
    },
    {
     "name": "stderr",
     "output_type": "stream",
     "text": [
      "C:\\Users\\Raj\\AppData\\Local\\Temp\\ipykernel_29048\\2168445501.py:6: FutureWarning: The frame.append method is deprecated and will be removed from pandas in a future version. Use pandas.concat instead.\n",
      "  df = df.append(scrape_page(topic[\"topic\"], topic[\"url\"]), ignore_index=True)\n",
      " 45%|████▍     | 650/1452 [14:00<16:40,  1.25s/it]"
     ]
    },
    {
     "name": "stdout",
     "output_type": "stream",
     "text": [
      "Scraping Hypoparathyroidism...\n"
     ]
    },
    {
     "name": "stderr",
     "output_type": "stream",
     "text": [
      "C:\\Users\\Raj\\AppData\\Local\\Temp\\ipykernel_29048\\2168445501.py:6: FutureWarning: The frame.append method is deprecated and will be removed from pandas in a future version. Use pandas.concat instead.\n",
      "  df = df.append(scrape_page(topic[\"topic\"], topic[\"url\"]), ignore_index=True)\n",
      " 45%|████▍     | 651/1452 [14:01<17:01,  1.27s/it]"
     ]
    },
    {
     "name": "stdout",
     "output_type": "stream",
     "text": [
      "Scraping Hypoplastic Left Heart Syndrome (HLHS)...\n",
      "Found 8 sections for Hypoplastic Left Heart Syndrome (HLHS)\n"
     ]
    },
    {
     "name": "stderr",
     "output_type": "stream",
     "text": [
      "C:\\Users\\Raj\\AppData\\Local\\Temp\\ipykernel_29048\\2168445501.py:6: FutureWarning: The frame.append method is deprecated and will be removed from pandas in a future version. Use pandas.concat instead.\n",
      "  df = df.append(scrape_page(topic[\"topic\"], topic[\"url\"]), ignore_index=True)\n",
      " 45%|████▍     | 652/1452 [14:02<16:58,  1.27s/it]C:\\Users\\Raj\\AppData\\Local\\Temp\\ipykernel_29048\\2168445501.py:6: FutureWarning: The frame.append method is deprecated and will be removed from pandas in a future version. Use pandas.concat instead.\n",
      "  df = df.append(scrape_page(topic[\"topic\"], topic[\"url\"]), ignore_index=True)\n"
     ]
    },
    {
     "name": "stdout",
     "output_type": "stream",
     "text": [
      "Scraping Hypotonia-Hypomentia-Hypogonadism-Obesity Syndrome (HHHO)...\n",
      "Found 9 sections for Hypotonia-Hypomentia-Hypogonadism-Obesity Syndrome (HHHO)\n"
     ]
    },
    {
     "name": "stderr",
     "output_type": "stream",
     "text": [
      " 45%|████▍     | 653/1452 [14:04<16:45,  1.26s/it]"
     ]
    },
    {
     "name": "stdout",
     "output_type": "stream",
     "text": [
      "Scraping IBS (Irritable Bowel Syndrome)...\n",
      "Found 8 sections for IBS (Irritable Bowel Syndrome)\n"
     ]
    },
    {
     "name": "stderr",
     "output_type": "stream",
     "text": [
      "C:\\Users\\Raj\\AppData\\Local\\Temp\\ipykernel_29048\\2168445501.py:6: FutureWarning: The frame.append method is deprecated and will be removed from pandas in a future version. Use pandas.concat instead.\n",
      "  df = df.append(scrape_page(topic[\"topic\"], topic[\"url\"]), ignore_index=True)\n",
      " 45%|████▌     | 654/1452 [14:05<16:41,  1.25s/it]"
     ]
    },
    {
     "name": "stdout",
     "output_type": "stream",
     "text": [
      "Scraping IBS-D...\n",
      "Found 7 sections for IBS-D\n"
     ]
    },
    {
     "name": "stderr",
     "output_type": "stream",
     "text": [
      "C:\\Users\\Raj\\AppData\\Local\\Temp\\ipykernel_29048\\2168445501.py:6: FutureWarning: The frame.append method is deprecated and will be removed from pandas in a future version. Use pandas.concat instead.\n",
      "  df = df.append(scrape_page(topic[\"topic\"], topic[\"url\"]), ignore_index=True)\n",
      " 45%|████▌     | 655/1452 [14:06<16:34,  1.25s/it]"
     ]
    },
    {
     "name": "stdout",
     "output_type": "stream",
     "text": [
      "Scraping IC...\n",
      "Found 13 sections for IC\n"
     ]
    },
    {
     "name": "stderr",
     "output_type": "stream",
     "text": [
      "C:\\Users\\Raj\\AppData\\Local\\Temp\\ipykernel_29048\\2168445501.py:6: FutureWarning: The frame.append method is deprecated and will be removed from pandas in a future version. Use pandas.concat instead.\n",
      "  df = df.append(scrape_page(topic[\"topic\"], topic[\"url\"]), ignore_index=True)\n",
      " 45%|████▌     | 656/1452 [14:07<16:30,  1.24s/it]"
     ]
    },
    {
     "name": "stdout",
     "output_type": "stream",
     "text": [
      "Scraping ICD...\n",
      "Found 7 sections for ICD\n"
     ]
    },
    {
     "name": "stderr",
     "output_type": "stream",
     "text": [
      "C:\\Users\\Raj\\AppData\\Local\\Temp\\ipykernel_29048\\2168445501.py:6: FutureWarning: The frame.append method is deprecated and will be removed from pandas in a future version. Use pandas.concat instead.\n",
      "  df = df.append(scrape_page(topic[\"topic\"], topic[\"url\"]), ignore_index=True)\n",
      " 45%|████▌     | 657/1452 [14:09<16:28,  1.24s/it]"
     ]
    },
    {
     "name": "stdout",
     "output_type": "stream",
     "text": [
      "Scraping Ice and Cold Packs...\n",
      "Found 8 sections for Ice and Cold Packs\n"
     ]
    },
    {
     "name": "stderr",
     "output_type": "stream",
     "text": [
      "C:\\Users\\Raj\\AppData\\Local\\Temp\\ipykernel_29048\\2168445501.py:6: FutureWarning: The frame.append method is deprecated and will be removed from pandas in a future version. Use pandas.concat instead.\n",
      "  df = df.append(scrape_page(topic[\"topic\"], topic[\"url\"]), ignore_index=True)\n",
      " 45%|████▌     | 658/1452 [14:10<17:01,  1.29s/it]"
     ]
    },
    {
     "name": "stdout",
     "output_type": "stream",
     "text": [
      "Scraping Iceland Disease...\n",
      "Found 5 sections for Iceland Disease\n"
     ]
    },
    {
     "name": "stderr",
     "output_type": "stream",
     "text": [
      "C:\\Users\\Raj\\AppData\\Local\\Temp\\ipykernel_29048\\2168445501.py:6: FutureWarning: The frame.append method is deprecated and will be removed from pandas in a future version. Use pandas.concat instead.\n",
      "  df = df.append(scrape_page(topic[\"topic\"], topic[\"url\"]), ignore_index=True)\n",
      " 45%|████▌     | 659/1452 [14:11<16:54,  1.28s/it]"
     ]
    },
    {
     "name": "stdout",
     "output_type": "stream",
     "text": [
      "Scraping Icelandic Type Amyloidosis (Type VI)...\n"
     ]
    },
    {
     "name": "stderr",
     "output_type": "stream",
     "text": [
      "C:\\Users\\Raj\\AppData\\Local\\Temp\\ipykernel_29048\\2168445501.py:6: FutureWarning: The frame.append method is deprecated and will be removed from pandas in a future version. Use pandas.concat instead.\n",
      "  df = df.append(scrape_page(topic[\"topic\"], topic[\"url\"]), ignore_index=True)\n",
      " 45%|████▌     | 660/1452 [14:13<17:08,  1.30s/it]"
     ]
    },
    {
     "name": "stdout",
     "output_type": "stream",
     "text": [
      "Scraping Ichthyosis...\n",
      "Found 10 sections for Ichthyosis\n"
     ]
    },
    {
     "name": "stderr",
     "output_type": "stream",
     "text": [
      "C:\\Users\\Raj\\AppData\\Local\\Temp\\ipykernel_29048\\2168445501.py:6: FutureWarning: The frame.append method is deprecated and will be removed from pandas in a future version. Use pandas.concat instead.\n",
      "  df = df.append(scrape_page(topic[\"topic\"], topic[\"url\"]), ignore_index=True)\n",
      " 46%|████▌     | 661/1452 [14:14<16:53,  1.28s/it]C:\\Users\\Raj\\AppData\\Local\\Temp\\ipykernel_29048\\2168445501.py:6: FutureWarning: The frame.append method is deprecated and will be removed from pandas in a future version. Use pandas.concat instead.\n",
      "  df = df.append(scrape_page(topic[\"topic\"], topic[\"url\"]), ignore_index=True)\n"
     ]
    },
    {
     "name": "stdout",
     "output_type": "stream",
     "text": [
      "Scraping Icterus (Chronic Familial)...\n",
      "Found 8 sections for Icterus (Chronic Familial)\n"
     ]
    },
    {
     "name": "stderr",
     "output_type": "stream",
     "text": [
      " 46%|████▌     | 662/1452 [14:15<16:33,  1.26s/it]"
     ]
    },
    {
     "name": "stdout",
     "output_type": "stream",
     "text": [
      "Scraping Identifying and avoiding migraine triggers...\n"
     ]
    },
    {
     "name": "stderr",
     "output_type": "stream",
     "text": [
      "C:\\Users\\Raj\\AppData\\Local\\Temp\\ipykernel_29048\\2168445501.py:6: FutureWarning: The frame.append method is deprecated and will be removed from pandas in a future version. Use pandas.concat instead.\n",
      "  df = df.append(scrape_page(topic[\"topic\"], topic[\"url\"]), ignore_index=True)\n",
      " 46%|████▌     | 663/1452 [14:16<16:31,  1.26s/it]"
     ]
    },
    {
     "name": "stdout",
     "output_type": "stream",
     "text": [
      "Scraping Identifying Asthma Triggers...\n",
      "Found 16 sections for Identifying Asthma Triggers\n"
     ]
    },
    {
     "name": "stderr",
     "output_type": "stream",
     "text": [
      "C:\\Users\\Raj\\AppData\\Local\\Temp\\ipykernel_29048\\2168445501.py:6: FutureWarning: The frame.append method is deprecated and will be removed from pandas in a future version. Use pandas.concat instead.\n",
      "  df = df.append(scrape_page(topic[\"topic\"], topic[\"url\"]), ignore_index=True)\n",
      " 46%|████▌     | 664/1452 [14:18<16:29,  1.26s/it]"
     ]
    },
    {
     "name": "stdout",
     "output_type": "stream",
     "text": [
      "Scraping Idiopathic Amyloidosis...\n"
     ]
    },
    {
     "name": "stderr",
     "output_type": "stream",
     "text": [
      "C:\\Users\\Raj\\AppData\\Local\\Temp\\ipykernel_29048\\2168445501.py:6: FutureWarning: The frame.append method is deprecated and will be removed from pandas in a future version. Use pandas.concat instead.\n",
      "  df = df.append(scrape_page(topic[\"topic\"], topic[\"url\"]), ignore_index=True)\n",
      " 46%|████▌     | 665/1452 [14:19<16:37,  1.27s/it]"
     ]
    },
    {
     "name": "stdout",
     "output_type": "stream",
     "text": [
      "Scraping Idiopathic Aplastic Anemia...\n",
      "Found 13 sections for Idiopathic Aplastic Anemia\n"
     ]
    },
    {
     "name": "stderr",
     "output_type": "stream",
     "text": [
      "C:\\Users\\Raj\\AppData\\Local\\Temp\\ipykernel_29048\\2168445501.py:6: FutureWarning: The frame.append method is deprecated and will be removed from pandas in a future version. Use pandas.concat instead.\n",
      "  df = df.append(scrape_page(topic[\"topic\"], topic[\"url\"]), ignore_index=True)\n",
      " 46%|████▌     | 666/1452 [14:20<16:34,  1.27s/it]C:\\Users\\Raj\\AppData\\Local\\Temp\\ipykernel_29048\\2168445501.py:6: FutureWarning: The frame.append method is deprecated and will be removed from pandas in a future version. Use pandas.concat instead.\n",
      "  df = df.append(scrape_page(topic[\"topic\"], topic[\"url\"]), ignore_index=True)\n"
     ]
    },
    {
     "name": "stdout",
     "output_type": "stream",
     "text": [
      "Scraping Idiopathic Autoimmune Hemolytic Anemia...\n",
      "Found 8 sections for Idiopathic Autoimmune Hemolytic Anemia\n"
     ]
    },
    {
     "name": "stderr",
     "output_type": "stream",
     "text": [
      " 46%|████▌     | 667/1452 [14:21<16:17,  1.25s/it]"
     ]
    },
    {
     "name": "stdout",
     "output_type": "stream",
     "text": [
      "Scraping Idiopathic Basal Ganglia Calcification...\n",
      "Found 7 sections for Idiopathic Basal Ganglia Calcification\n"
     ]
    },
    {
     "name": "stderr",
     "output_type": "stream",
     "text": [
      "C:\\Users\\Raj\\AppData\\Local\\Temp\\ipykernel_29048\\2168445501.py:6: FutureWarning: The frame.append method is deprecated and will be removed from pandas in a future version. Use pandas.concat instead.\n",
      "  df = df.append(scrape_page(topic[\"topic\"], topic[\"url\"]), ignore_index=True)\n",
      " 46%|████▌     | 668/1452 [14:23<16:39,  1.27s/it]"
     ]
    },
    {
     "name": "stdout",
     "output_type": "stream",
     "text": [
      "Scraping Idiopathic Chronic Erosive Gastritis...\n",
      "Found 6 sections for Idiopathic Chronic Erosive Gastritis\n"
     ]
    },
    {
     "name": "stderr",
     "output_type": "stream",
     "text": [
      "C:\\Users\\Raj\\AppData\\Local\\Temp\\ipykernel_29048\\2168445501.py:6: FutureWarning: The frame.append method is deprecated and will be removed from pandas in a future version. Use pandas.concat instead.\n",
      "  df = df.append(scrape_page(topic[\"topic\"], topic[\"url\"]), ignore_index=True)\n",
      " 46%|████▌     | 669/1452 [14:24<16:26,  1.26s/it]"
     ]
    },
    {
     "name": "stdout",
     "output_type": "stream",
     "text": [
      "Scraping Idiopathic Dilated Cardiomyopathy...\n",
      "Found 1 sections for Idiopathic Dilated Cardiomyopathy\n"
     ]
    },
    {
     "name": "stderr",
     "output_type": "stream",
     "text": [
      "C:\\Users\\Raj\\AppData\\Local\\Temp\\ipykernel_29048\\2168445501.py:6: FutureWarning: The frame.append method is deprecated and will be removed from pandas in a future version. Use pandas.concat instead.\n",
      "  df = df.append(scrape_page(topic[\"topic\"], topic[\"url\"]), ignore_index=True)\n",
      " 46%|████▌     | 670/1452 [14:25<16:42,  1.28s/it]"
     ]
    },
    {
     "name": "stdout",
     "output_type": "stream",
     "text": [
      "Scraping Idiopathic Pulmonary Fibrosis...\n",
      "Found 10 sections for Idiopathic Pulmonary Fibrosis\n"
     ]
    },
    {
     "name": "stderr",
     "output_type": "stream",
     "text": [
      "C:\\Users\\Raj\\AppData\\Local\\Temp\\ipykernel_29048\\2168445501.py:6: FutureWarning: The frame.append method is deprecated and will be removed from pandas in a future version. Use pandas.concat instead.\n",
      "  df = df.append(scrape_page(topic[\"topic\"], topic[\"url\"]), ignore_index=True)\n",
      " 46%|████▌     | 671/1452 [14:26<16:30,  1.27s/it]"
     ]
    },
    {
     "name": "stdout",
     "output_type": "stream",
     "text": [
      "Scraping IgA Nephropathy...\n",
      "Found 2 sections for IgA Nephropathy\n"
     ]
    },
    {
     "name": "stderr",
     "output_type": "stream",
     "text": [
      "C:\\Users\\Raj\\AppData\\Local\\Temp\\ipykernel_29048\\2168445501.py:6: FutureWarning: The frame.append method is deprecated and will be removed from pandas in a future version. Use pandas.concat instead.\n",
      "  df = df.append(scrape_page(topic[\"topic\"], topic[\"url\"]), ignore_index=True)\n",
      " 46%|████▋     | 672/1452 [14:28<17:58,  1.38s/it]"
     ]
    },
    {
     "name": "stdout",
     "output_type": "stream",
     "text": [
      "Scraping Illinois Type Amyloidosis...\n"
     ]
    },
    {
     "name": "stderr",
     "output_type": "stream",
     "text": [
      "C:\\Users\\Raj\\AppData\\Local\\Temp\\ipykernel_29048\\2168445501.py:6: FutureWarning: The frame.append method is deprecated and will be removed from pandas in a future version. Use pandas.concat instead.\n",
      "  df = df.append(scrape_page(topic[\"topic\"], topic[\"url\"]), ignore_index=True)\n",
      " 46%|████▋     | 673/1452 [14:29<17:37,  1.36s/it]C:\\Users\\Raj\\AppData\\Local\\Temp\\ipykernel_29048\\2168445501.py:6: FutureWarning: The frame.append method is deprecated and will be removed from pandas in a future version. Use pandas.concat instead.\n",
      "  df = df.append(scrape_page(topic[\"topic\"], topic[\"url\"]), ignore_index=True)\n"
     ]
    },
    {
     "name": "stdout",
     "output_type": "stream",
     "text": [
      "Scraping Immune Hemolytic Anemia...\n",
      "Found 8 sections for Immune Hemolytic Anemia\n"
     ]
    },
    {
     "name": "stderr",
     "output_type": "stream",
     "text": [
      " 46%|████▋     | 674/1452 [14:31<16:56,  1.31s/it]"
     ]
    },
    {
     "name": "stdout",
     "output_type": "stream",
     "text": [
      "Scraping Immunizations...\n",
      "Found 3 sections for Immunizations\n"
     ]
    },
    {
     "name": "stderr",
     "output_type": "stream",
     "text": [
      "C:\\Users\\Raj\\AppData\\Local\\Temp\\ipykernel_29048\\2168445501.py:6: FutureWarning: The frame.append method is deprecated and will be removed from pandas in a future version. Use pandas.concat instead.\n",
      "  df = df.append(scrape_page(topic[\"topic\"], topic[\"url\"]), ignore_index=True)\n",
      " 46%|████▋     | 675/1452 [14:32<16:43,  1.29s/it]"
     ]
    },
    {
     "name": "stdout",
     "output_type": "stream",
     "text": [
      "Scraping Immunoblastic Lymphadenopathy...\n",
      "Found 9 sections for Immunoblastic Lymphadenopathy\n"
     ]
    },
    {
     "name": "stderr",
     "output_type": "stream",
     "text": [
      "C:\\Users\\Raj\\AppData\\Local\\Temp\\ipykernel_29048\\2168445501.py:6: FutureWarning: The frame.append method is deprecated and will be removed from pandas in a future version. Use pandas.concat instead.\n",
      "  df = df.append(scrape_page(topic[\"topic\"], topic[\"url\"]), ignore_index=True)\n",
      " 47%|████▋     | 676/1452 [14:33<16:35,  1.28s/it]C:\\Users\\Raj\\AppData\\Local\\Temp\\ipykernel_29048\\2168445501.py:6: FutureWarning: The frame.append method is deprecated and will be removed from pandas in a future version. Use pandas.concat instead.\n",
      "  df = df.append(scrape_page(topic[\"topic\"], topic[\"url\"]), ignore_index=True)\n"
     ]
    },
    {
     "name": "stdout",
     "output_type": "stream",
     "text": [
      "Scraping Immunodeficiency with Ataxia Telangiectasia...\n",
      "Found 10 sections for Immunodeficiency with Ataxia Telangiectasia\n"
     ]
    },
    {
     "name": "stderr",
     "output_type": "stream",
     "text": [
      " 47%|████▋     | 677/1452 [14:34<16:19,  1.26s/it]"
     ]
    },
    {
     "name": "stdout",
     "output_type": "stream",
     "text": [
      "Scraping Impaired Glucose Tolerance...\n",
      "Found 10 sections for Impaired Glucose Tolerance\n"
     ]
    },
    {
     "name": "stderr",
     "output_type": "stream",
     "text": [
      "C:\\Users\\Raj\\AppData\\Local\\Temp\\ipykernel_29048\\2168445501.py:6: FutureWarning: The frame.append method is deprecated and will be removed from pandas in a future version. Use pandas.concat instead.\n",
      "  df = df.append(scrape_page(topic[\"topic\"], topic[\"url\"]), ignore_index=True)\n",
      " 47%|████▋     | 678/1452 [14:36<16:09,  1.25s/it]"
     ]
    },
    {
     "name": "stdout",
     "output_type": "stream",
     "text": [
      "Scraping Impetigo...\n",
      "Found 3 sections for Impetigo\n"
     ]
    },
    {
     "name": "stderr",
     "output_type": "stream",
     "text": [
      "C:\\Users\\Raj\\AppData\\Local\\Temp\\ipykernel_29048\\2168445501.py:6: FutureWarning: The frame.append method is deprecated and will be removed from pandas in a future version. Use pandas.concat instead.\n",
      "  df = df.append(scrape_page(topic[\"topic\"], topic[\"url\"]), ignore_index=True)\n",
      " 47%|████▋     | 679/1452 [14:37<16:05,  1.25s/it]"
     ]
    },
    {
     "name": "stdout",
     "output_type": "stream",
     "text": [
      "Scraping Incision Care After Surgery...\n",
      "Found 9 sections for Incision Care After Surgery\n"
     ]
    },
    {
     "name": "stderr",
     "output_type": "stream",
     "text": [
      "C:\\Users\\Raj\\AppData\\Local\\Temp\\ipykernel_29048\\2168445501.py:6: FutureWarning: The frame.append method is deprecated and will be removed from pandas in a future version. Use pandas.concat instead.\n",
      "  df = df.append(scrape_page(topic[\"topic\"], topic[\"url\"]), ignore_index=True)\n",
      " 47%|████▋     | 680/1452 [14:38<16:06,  1.25s/it]"
     ]
    },
    {
     "name": "stdout",
     "output_type": "stream",
     "text": [
      "Scraping Incontinence in Men...\n",
      "Found 7 sections for Incontinence in Men\n"
     ]
    },
    {
     "name": "stderr",
     "output_type": "stream",
     "text": [
      "C:\\Users\\Raj\\AppData\\Local\\Temp\\ipykernel_29048\\2168445501.py:6: FutureWarning: The frame.append method is deprecated and will be removed from pandas in a future version. Use pandas.concat instead.\n",
      "  df = df.append(scrape_page(topic[\"topic\"], topic[\"url\"]), ignore_index=True)\n",
      " 47%|████▋     | 681/1452 [14:39<16:01,  1.25s/it]"
     ]
    },
    {
     "name": "stdout",
     "output_type": "stream",
     "text": [
      "Scraping Indiana Type Amyloidosis (Type II)...\n"
     ]
    },
    {
     "name": "stderr",
     "output_type": "stream",
     "text": [
      "C:\\Users\\Raj\\AppData\\Local\\Temp\\ipykernel_29048\\2168445501.py:6: FutureWarning: The frame.append method is deprecated and will be removed from pandas in a future version. Use pandas.concat instead.\n",
      "  df = df.append(scrape_page(topic[\"topic\"], topic[\"url\"]), ignore_index=True)\n",
      " 47%|████▋     | 682/1452 [14:41<16:11,  1.26s/it]"
     ]
    },
    {
     "name": "stdout",
     "output_type": "stream",
     "text": [
      "Scraping Indolent Systemic Mastocytosis...\n",
      "Found 8 sections for Indolent Systemic Mastocytosis\n"
     ]
    },
    {
     "name": "stderr",
     "output_type": "stream",
     "text": [
      "C:\\Users\\Raj\\AppData\\Local\\Temp\\ipykernel_29048\\2168445501.py:6: FutureWarning: The frame.append method is deprecated and will be removed from pandas in a future version. Use pandas.concat instead.\n",
      "  df = df.append(scrape_page(topic[\"topic\"], topic[\"url\"]), ignore_index=True)\n",
      " 47%|████▋     | 683/1452 [14:42<16:14,  1.27s/it]"
     ]
    },
    {
     "name": "stdout",
     "output_type": "stream",
     "text": [
      "Scraping Infantile Gaucher Disease...\n",
      "Found 13 sections for Infantile Gaucher Disease\n"
     ]
    },
    {
     "name": "stderr",
     "output_type": "stream",
     "text": [
      "C:\\Users\\Raj\\AppData\\Local\\Temp\\ipykernel_29048\\2168445501.py:6: FutureWarning: The frame.append method is deprecated and will be removed from pandas in a future version. Use pandas.concat instead.\n",
      "  df = df.append(scrape_page(topic[\"topic\"], topic[\"url\"]), ignore_index=True)\n",
      " 47%|████▋     | 684/1452 [14:43<16:09,  1.26s/it]"
     ]
    },
    {
     "name": "stdout",
     "output_type": "stream",
     "text": [
      "Scraping Infantile Myoclonic Encephalopathy...\n",
      "Found 7 sections for Infantile Myoclonic Encephalopathy\n"
     ]
    },
    {
     "name": "stderr",
     "output_type": "stream",
     "text": [
      "C:\\Users\\Raj\\AppData\\Local\\Temp\\ipykernel_29048\\2168445501.py:6: FutureWarning: The frame.append method is deprecated and will be removed from pandas in a future version. Use pandas.concat instead.\n",
      "  df = df.append(scrape_page(topic[\"topic\"], topic[\"url\"]), ignore_index=True)\n",
      " 47%|████▋     | 685/1452 [14:44<16:34,  1.30s/it]"
     ]
    },
    {
     "name": "stdout",
     "output_type": "stream",
     "text": [
      "Scraping Infantile Sleep Apnea...\n",
      "Found 4 sections for Infantile Sleep Apnea\n"
     ]
    },
    {
     "name": "stderr",
     "output_type": "stream",
     "text": [
      "C:\\Users\\Raj\\AppData\\Local\\Temp\\ipykernel_29048\\2168445501.py:6: FutureWarning: The frame.append method is deprecated and will be removed from pandas in a future version. Use pandas.concat instead.\n",
      "  df = df.append(scrape_page(topic[\"topic\"], topic[\"url\"]), ignore_index=True)\n",
      " 47%|████▋     | 686/1452 [14:46<16:19,  1.28s/it]C:\\Users\\Raj\\AppData\\Local\\Temp\\ipykernel_29048\\2168445501.py:6: FutureWarning: The frame.append method is deprecated and will be removed from pandas in a future version. Use pandas.concat instead.\n",
      "  df = df.append(scrape_page(topic[\"topic\"], topic[\"url\"]), ignore_index=True)\n"
     ]
    },
    {
     "name": "stdout",
     "output_type": "stream",
     "text": [
      "Scraping Infantile Spasms...\n",
      "Found 7 sections for Infantile Spasms\n"
     ]
    },
    {
     "name": "stderr",
     "output_type": "stream",
     "text": [
      " 47%|████▋     | 687/1452 [14:47<15:56,  1.25s/it]"
     ]
    },
    {
     "name": "stdout",
     "output_type": "stream",
     "text": [
      "Scraping Infantile Spinal Muscular Atrophy...\n"
     ]
    },
    {
     "name": "stderr",
     "output_type": "stream",
     "text": [
      "C:\\Users\\Raj\\AppData\\Local\\Temp\\ipykernel_29048\\2168445501.py:6: FutureWarning: The frame.append method is deprecated and will be removed from pandas in a future version. Use pandas.concat instead.\n",
      "  df = df.append(scrape_page(topic[\"topic\"], topic[\"url\"]), ignore_index=True)\n",
      " 47%|████▋     | 688/1452 [14:48<16:08,  1.27s/it]"
     ]
    },
    {
     "name": "stdout",
     "output_type": "stream",
     "text": [
      "Scraping Infantile Spinal Muscular Atrophy Type I...\n"
     ]
    },
    {
     "name": "stderr",
     "output_type": "stream",
     "text": [
      "C:\\Users\\Raj\\AppData\\Local\\Temp\\ipykernel_29048\\2168445501.py:6: FutureWarning: The frame.append method is deprecated and will be removed from pandas in a future version. Use pandas.concat instead.\n",
      "  df = df.append(scrape_page(topic[\"topic\"], topic[\"url\"]), ignore_index=True)\n",
      " 47%|████▋     | 689/1452 [14:49<16:09,  1.27s/it]"
     ]
    },
    {
     "name": "stdout",
     "output_type": "stream",
     "text": [
      "Scraping Infectious Chorea...\n",
      "Found 4 sections for Infectious Chorea\n"
     ]
    },
    {
     "name": "stderr",
     "output_type": "stream",
     "text": [
      "C:\\Users\\Raj\\AppData\\Local\\Temp\\ipykernel_29048\\2168445501.py:6: FutureWarning: The frame.append method is deprecated and will be removed from pandas in a future version. Use pandas.concat instead.\n",
      "  df = df.append(scrape_page(topic[\"topic\"], topic[\"url\"]), ignore_index=True)\n",
      " 48%|████▊     | 690/1452 [14:51<18:30,  1.46s/it]"
     ]
    },
    {
     "name": "stdout",
     "output_type": "stream",
     "text": [
      "Scraping Infectious Mononucleosis...\n",
      "Found 8 sections for Infectious Mononucleosis\n"
     ]
    },
    {
     "name": "stderr",
     "output_type": "stream",
     "text": [
      "C:\\Users\\Raj\\AppData\\Local\\Temp\\ipykernel_29048\\2168445501.py:6: FutureWarning: The frame.append method is deprecated and will be removed from pandas in a future version. Use pandas.concat instead.\n",
      "  df = df.append(scrape_page(topic[\"topic\"], topic[\"url\"]), ignore_index=True)\n",
      " 48%|████▊     | 691/1452 [14:53<17:45,  1.40s/it]"
     ]
    },
    {
     "name": "stdout",
     "output_type": "stream",
     "text": [
      "Scraping Inherited Lipodystrophy...\n",
      "Found 16 sections for Inherited Lipodystrophy\n"
     ]
    },
    {
     "name": "stderr",
     "output_type": "stream",
     "text": [
      "C:\\Users\\Raj\\AppData\\Local\\Temp\\ipykernel_29048\\2168445501.py:6: FutureWarning: The frame.append method is deprecated and will be removed from pandas in a future version. Use pandas.concat instead.\n",
      "  df = df.append(scrape_page(topic[\"topic\"], topic[\"url\"]), ignore_index=True)\n",
      " 48%|████▊     | 692/1452 [14:55<20:21,  1.61s/it]"
     ]
    },
    {
     "name": "stdout",
     "output_type": "stream",
     "text": [
      "Scraping Iron Deficiency Anemia...\n",
      "Found 10 sections for Iron Deficiency Anemia\n"
     ]
    },
    {
     "name": "stderr",
     "output_type": "stream",
     "text": [
      "C:\\Users\\Raj\\AppData\\Local\\Temp\\ipykernel_29048\\2168445501.py:6: FutureWarning: The frame.append method is deprecated and will be removed from pandas in a future version. Use pandas.concat instead.\n",
      "  df = df.append(scrape_page(topic[\"topic\"], topic[\"url\"]), ignore_index=True)\n",
      " 48%|████▊     | 693/1452 [14:56<18:51,  1.49s/it]"
     ]
    },
    {
     "name": "stdout",
     "output_type": "stream",
     "text": [
      "Scraping Iron Overload Anemia...\n",
      "Found 5 sections for Iron Overload Anemia\n"
     ]
    },
    {
     "name": "stderr",
     "output_type": "stream",
     "text": [
      "C:\\Users\\Raj\\AppData\\Local\\Temp\\ipykernel_29048\\2168445501.py:6: FutureWarning: The frame.append method is deprecated and will be removed from pandas in a future version. Use pandas.concat instead.\n",
      "  df = df.append(scrape_page(topic[\"topic\"], topic[\"url\"]), ignore_index=True)\n",
      " 48%|████▊     | 694/1452 [14:57<17:53,  1.42s/it]"
     ]
    },
    {
     "name": "stdout",
     "output_type": "stream",
     "text": [
      "Scraping Irregular Menstrual Periods...\n",
      "Found 8 sections for Irregular Menstrual Periods\n"
     ]
    },
    {
     "name": "stderr",
     "output_type": "stream",
     "text": [
      "C:\\Users\\Raj\\AppData\\Local\\Temp\\ipykernel_29048\\2168445501.py:6: FutureWarning: The frame.append method is deprecated and will be removed from pandas in a future version. Use pandas.concat instead.\n",
      "  df = df.append(scrape_page(topic[\"topic\"], topic[\"url\"]), ignore_index=True)\n",
      " 48%|████▊     | 695/1452 [14:58<17:19,  1.37s/it]"
     ]
    },
    {
     "name": "stdout",
     "output_type": "stream",
     "text": [
      "Scraping Ischemic Necrosis of Bone...\n",
      "Found 10 sections for Ischemic Necrosis of Bone\n"
     ]
    },
    {
     "name": "stderr",
     "output_type": "stream",
     "text": [
      "C:\\Users\\Raj\\AppData\\Local\\Temp\\ipykernel_29048\\2168445501.py:6: FutureWarning: The frame.append method is deprecated and will be removed from pandas in a future version. Use pandas.concat instead.\n",
      "  df = df.append(scrape_page(topic[\"topic\"], topic[\"url\"]), ignore_index=True)\n",
      " 48%|████▊     | 696/1452 [15:00<16:50,  1.34s/it]"
     ]
    },
    {
     "name": "stdout",
     "output_type": "stream",
     "text": [
      "Scraping Islet Cell Cancer...\n",
      "Found 6 sections for Islet Cell Cancer\n"
     ]
    },
    {
     "name": "stderr",
     "output_type": "stream",
     "text": [
      "C:\\Users\\Raj\\AppData\\Local\\Temp\\ipykernel_29048\\2168445501.py:6: FutureWarning: The frame.append method is deprecated and will be removed from pandas in a future version. Use pandas.concat instead.\n",
      "  df = df.append(scrape_page(topic[\"topic\"], topic[\"url\"]), ignore_index=True)\n",
      " 48%|████▊     | 697/1452 [15:01<16:31,  1.31s/it]"
     ]
    },
    {
     "name": "stdout",
     "output_type": "stream",
     "text": [
      "Scraping Isoleucine 33 Amyloidosis...\n"
     ]
    },
    {
     "name": "stderr",
     "output_type": "stream",
     "text": [
      "C:\\Users\\Raj\\AppData\\Local\\Temp\\ipykernel_29048\\2168445501.py:6: FutureWarning: The frame.append method is deprecated and will be removed from pandas in a future version. Use pandas.concat instead.\n",
      "  df = df.append(scrape_page(topic[\"topic\"], topic[\"url\"]), ignore_index=True)\n",
      " 48%|████▊     | 698/1452 [15:02<16:24,  1.31s/it]"
     ]
    },
    {
     "name": "stdout",
     "output_type": "stream",
     "text": [
      "Scraping ITP...\n",
      "Found 5 sections for ITP\n"
     ]
    },
    {
     "name": "stderr",
     "output_type": "stream",
     "text": [
      "C:\\Users\\Raj\\AppData\\Local\\Temp\\ipykernel_29048\\2168445501.py:6: FutureWarning: The frame.append method is deprecated and will be removed from pandas in a future version. Use pandas.concat instead.\n",
      "  df = df.append(scrape_page(topic[\"topic\"], topic[\"url\"]), ignore_index=True)\n",
      " 48%|████▊     | 699/1452 [15:04<16:08,  1.29s/it]"
     ]
    },
    {
     "name": "stdout",
     "output_type": "stream",
     "text": [
      "Scraping Jakob-Creutzfeldt Disease...\n",
      "Found 7 sections for Jakob-Creutzfeldt Disease\n"
     ]
    },
    {
     "name": "stderr",
     "output_type": "stream",
     "text": [
      "C:\\Users\\Raj\\AppData\\Local\\Temp\\ipykernel_29048\\2168445501.py:6: FutureWarning: The frame.append method is deprecated and will be removed from pandas in a future version. Use pandas.concat instead.\n",
      "  df = df.append(scrape_page(topic[\"topic\"], topic[\"url\"]), ignore_index=True)\n",
      " 48%|████▊     | 700/1452 [15:05<15:58,  1.27s/it]C:\\Users\\Raj\\AppData\\Local\\Temp\\ipykernel_29048\\2168445501.py:6: FutureWarning: The frame.append method is deprecated and will be removed from pandas in a future version. Use pandas.concat instead.\n",
      "  df = df.append(scrape_page(topic[\"topic\"], topic[\"url\"]), ignore_index=True)\n"
     ]
    },
    {
     "name": "stdout",
     "output_type": "stream",
     "text": [
      "Scraping Jakob's Disease...\n",
      "Found 7 sections for Jakob's Disease\n"
     ]
    },
    {
     "name": "stderr",
     "output_type": "stream",
     "text": [
      " 48%|████▊     | 701/1452 [15:06<15:34,  1.24s/it]"
     ]
    },
    {
     "name": "stdout",
     "output_type": "stream",
     "text": [
      "Scraping Jansen Disease...\n",
      "Found 7 sections for Jansen Disease\n"
     ]
    },
    {
     "name": "stderr",
     "output_type": "stream",
     "text": [
      "C:\\Users\\Raj\\AppData\\Local\\Temp\\ipykernel_29048\\2168445501.py:6: FutureWarning: The frame.append method is deprecated and will be removed from pandas in a future version. Use pandas.concat instead.\n",
      "  df = df.append(scrape_page(topic[\"topic\"], topic[\"url\"]), ignore_index=True)\n",
      " 48%|████▊     | 702/1452 [15:07<15:34,  1.25s/it]C:\\Users\\Raj\\AppData\\Local\\Temp\\ipykernel_29048\\2168445501.py:6: FutureWarning: The frame.append method is deprecated and will be removed from pandas in a future version. Use pandas.concat instead.\n",
      "  df = df.append(scrape_page(topic[\"topic\"], topic[\"url\"]), ignore_index=True)\n"
     ]
    },
    {
     "name": "stdout",
     "output_type": "stream",
     "text": [
      "Scraping Japanese B Encephalitis...\n",
      "Found 7 sections for Japanese B Encephalitis\n"
     ]
    },
    {
     "name": "stderr",
     "output_type": "stream",
     "text": [
      " 48%|████▊     | 703/1452 [15:08<15:29,  1.24s/it]"
     ]
    },
    {
     "name": "stdout",
     "output_type": "stream",
     "text": [
      "Scraping Jaundice...\n",
      "Found 11 sections for Jaundice\n"
     ]
    },
    {
     "name": "stderr",
     "output_type": "stream",
     "text": [
      "C:\\Users\\Raj\\AppData\\Local\\Temp\\ipykernel_29048\\2168445501.py:6: FutureWarning: The frame.append method is deprecated and will be removed from pandas in a future version. Use pandas.concat instead.\n",
      "  df = df.append(scrape_page(topic[\"topic\"], topic[\"url\"]), ignore_index=True)\n",
      " 48%|████▊     | 704/1452 [15:10<17:19,  1.39s/it]"
     ]
    },
    {
     "name": "stdout",
     "output_type": "stream",
     "text": [
      "Scraping Jaundice in Newborns (Hyperbilirubinemia)...\n",
      "Found 3 sections for Jaundice in Newborns (Hyperbilirubinemia)\n"
     ]
    },
    {
     "name": "stderr",
     "output_type": "stream",
     "text": [
      "C:\\Users\\Raj\\AppData\\Local\\Temp\\ipykernel_29048\\2168445501.py:6: FutureWarning: The frame.append method is deprecated and will be removed from pandas in a future version. Use pandas.concat instead.\n",
      "  df = df.append(scrape_page(topic[\"topic\"], topic[\"url\"]), ignore_index=True)\n",
      " 49%|████▊     | 705/1452 [15:11<16:46,  1.35s/it]"
     ]
    },
    {
     "name": "stdout",
     "output_type": "stream",
     "text": [
      "Scraping Jejunal Atresia...\n",
      "Found 7 sections for Jejunal Atresia\n"
     ]
    },
    {
     "name": "stderr",
     "output_type": "stream",
     "text": [
      "C:\\Users\\Raj\\AppData\\Local\\Temp\\ipykernel_29048\\2168445501.py:6: FutureWarning: The frame.append method is deprecated and will be removed from pandas in a future version. Use pandas.concat instead.\n",
      "  df = df.append(scrape_page(topic[\"topic\"], topic[\"url\"]), ignore_index=True)\n",
      " 49%|████▊     | 706/1452 [15:13<16:18,  1.31s/it]"
     ]
    },
    {
     "name": "stdout",
     "output_type": "stream",
     "text": [
      "Scraping Job Stress Management...\n",
      "Found 5 sections for Job Stress Management\n"
     ]
    },
    {
     "name": "stderr",
     "output_type": "stream",
     "text": [
      "C:\\Users\\Raj\\AppData\\Local\\Temp\\ipykernel_29048\\2168445501.py:6: FutureWarning: The frame.append method is deprecated and will be removed from pandas in a future version. Use pandas.concat instead.\n",
      "  df = df.append(scrape_page(topic[\"topic\"], topic[\"url\"]), ignore_index=True)\n",
      " 49%|████▊     | 707/1452 [15:14<15:59,  1.29s/it]"
     ]
    },
    {
     "name": "stdout",
     "output_type": "stream",
     "text": [
      "Scraping Jock Itch...\n",
      "Found 7 sections for Jock Itch\n"
     ]
    },
    {
     "name": "stderr",
     "output_type": "stream",
     "text": [
      "C:\\Users\\Raj\\AppData\\Local\\Temp\\ipykernel_29048\\2168445501.py:6: FutureWarning: The frame.append method is deprecated and will be removed from pandas in a future version. Use pandas.concat instead.\n",
      "  df = df.append(scrape_page(topic[\"topic\"], topic[\"url\"]), ignore_index=True)\n",
      " 49%|████▉     | 708/1452 [15:15<15:55,  1.28s/it]"
     ]
    },
    {
     "name": "stdout",
     "output_type": "stream",
     "text": [
      "Scraping Johnson-Stevens Disease...\n",
      "Found 7 sections for Johnson-Stevens Disease\n"
     ]
    },
    {
     "name": "stderr",
     "output_type": "stream",
     "text": [
      "C:\\Users\\Raj\\AppData\\Local\\Temp\\ipykernel_29048\\2168445501.py:6: FutureWarning: The frame.append method is deprecated and will be removed from pandas in a future version. Use pandas.concat instead.\n",
      "  df = df.append(scrape_page(topic[\"topic\"], topic[\"url\"]), ignore_index=True)\n",
      " 49%|████▉     | 709/1452 [15:16<15:50,  1.28s/it]"
     ]
    },
    {
     "name": "stdout",
     "output_type": "stream",
     "text": [
      "Scraping Jonston's Alopecia...\n",
      "Found 10 sections for Jonston's Alopecia\n"
     ]
    },
    {
     "name": "stderr",
     "output_type": "stream",
     "text": [
      "C:\\Users\\Raj\\AppData\\Local\\Temp\\ipykernel_29048\\2168445501.py:6: FutureWarning: The frame.append method is deprecated and will be removed from pandas in a future version. Use pandas.concat instead.\n",
      "  df = df.append(scrape_page(topic[\"topic\"], topic[\"url\"]), ignore_index=True)\n",
      " 49%|████▉     | 710/1452 [15:18<15:55,  1.29s/it]"
     ]
    },
    {
     "name": "stdout",
     "output_type": "stream",
     "text": [
      "Scraping JRA Juvenile Rheumatoid Arthritis...\n",
      "Found 16 sections for JRA Juvenile Rheumatoid Arthritis\n"
     ]
    },
    {
     "name": "stderr",
     "output_type": "stream",
     "text": [
      "C:\\Users\\Raj\\AppData\\Local\\Temp\\ipykernel_29048\\2168445501.py:6: FutureWarning: The frame.append method is deprecated and will be removed from pandas in a future version. Use pandas.concat instead.\n",
      "  df = df.append(scrape_page(topic[\"topic\"], topic[\"url\"]), ignore_index=True)\n",
      " 49%|████▉     | 711/1452 [15:19<15:44,  1.27s/it]"
     ]
    },
    {
     "name": "stdout",
     "output_type": "stream",
     "text": [
      "Scraping Jumping Frenchmen of Maine...\n"
     ]
    },
    {
     "name": "stderr",
     "output_type": "stream",
     "text": [
      "C:\\Users\\Raj\\AppData\\Local\\Temp\\ipykernel_29048\\2168445501.py:6: FutureWarning: The frame.append method is deprecated and will be removed from pandas in a future version. Use pandas.concat instead.\n",
      "  df = df.append(scrape_page(topic[\"topic\"], topic[\"url\"]), ignore_index=True)\n",
      " 49%|████▉     | 712/1452 [15:20<15:36,  1.27s/it]"
     ]
    },
    {
     "name": "stdout",
     "output_type": "stream",
     "text": [
      "Scraping Juvenile Diabetes...\n",
      "Found 11 sections for Juvenile Diabetes\n"
     ]
    },
    {
     "name": "stderr",
     "output_type": "stream",
     "text": [
      "C:\\Users\\Raj\\AppData\\Local\\Temp\\ipykernel_29048\\2168445501.py:6: FutureWarning: The frame.append method is deprecated and will be removed from pandas in a future version. Use pandas.concat instead.\n",
      "  df = df.append(scrape_page(topic[\"topic\"], topic[\"url\"]), ignore_index=True)\n",
      " 49%|████▉     | 713/1452 [15:21<15:32,  1.26s/it]"
     ]
    },
    {
     "name": "stdout",
     "output_type": "stream",
     "text": [
      "Scraping Juvenile Retinoschisis...\n"
     ]
    },
    {
     "name": "stderr",
     "output_type": "stream",
     "text": [
      "C:\\Users\\Raj\\AppData\\Local\\Temp\\ipykernel_29048\\2168445501.py:6: FutureWarning: The frame.append method is deprecated and will be removed from pandas in a future version. Use pandas.concat instead.\n",
      "  df = df.append(scrape_page(topic[\"topic\"], topic[\"url\"]), ignore_index=True)\n",
      " 49%|████▉     | 714/1452 [15:23<17:20,  1.41s/it]C:\\Users\\Raj\\AppData\\Local\\Temp\\ipykernel_29048\\2168445501.py:6: FutureWarning: The frame.append method is deprecated and will be removed from pandas in a future version. Use pandas.concat instead.\n",
      "  df = df.append(scrape_page(topic[\"topic\"], topic[\"url\"]), ignore_index=True)\n"
     ]
    },
    {
     "name": "stdout",
     "output_type": "stream",
     "text": [
      "Scraping Juvenile Rheumatoid Arthritis...\n",
      "Found 16 sections for Juvenile Rheumatoid Arthritis\n"
     ]
    },
    {
     "name": "stderr",
     "output_type": "stream",
     "text": [
      " 49%|████▉     | 715/1452 [15:24<16:30,  1.34s/it]"
     ]
    },
    {
     "name": "stdout",
     "output_type": "stream",
     "text": [
      "Scraping Kava...\n",
      "Found 6 sections for Kava\n"
     ]
    },
    {
     "name": "stderr",
     "output_type": "stream",
     "text": [
      "C:\\Users\\Raj\\AppData\\Local\\Temp\\ipykernel_29048\\2168445501.py:6: FutureWarning: The frame.append method is deprecated and will be removed from pandas in a future version. Use pandas.concat instead.\n",
      "  df = df.append(scrape_page(topic[\"topic\"], topic[\"url\"]), ignore_index=True)\n",
      " 49%|████▉     | 716/1452 [15:26<16:06,  1.31s/it]"
     ]
    },
    {
     "name": "stdout",
     "output_type": "stream",
     "text": [
      "Scraping Kawasaki Disease...\n",
      "Found 6 sections for Kawasaki Disease\n"
     ]
    },
    {
     "name": "stderr",
     "output_type": "stream",
     "text": [
      "C:\\Users\\Raj\\AppData\\Local\\Temp\\ipykernel_29048\\2168445501.py:6: FutureWarning: The frame.append method is deprecated and will be removed from pandas in a future version. Use pandas.concat instead.\n",
      "  df = df.append(scrape_page(topic[\"topic\"], topic[\"url\"]), ignore_index=True)\n",
      " 49%|████▉     | 717/1452 [15:27<15:47,  1.29s/it]"
     ]
    },
    {
     "name": "stdout",
     "output_type": "stream",
     "text": [
      "Scraping KC...\n",
      "Found 6 sections for KC\n"
     ]
    },
    {
     "name": "stderr",
     "output_type": "stream",
     "text": [
      "C:\\Users\\Raj\\AppData\\Local\\Temp\\ipykernel_29048\\2168445501.py:6: FutureWarning: The frame.append method is deprecated and will be removed from pandas in a future version. Use pandas.concat instead.\n",
      "  df = df.append(scrape_page(topic[\"topic\"], topic[\"url\"]), ignore_index=True)\n",
      " 49%|████▉     | 718/1452 [15:28<15:39,  1.28s/it]C:\\Users\\Raj\\AppData\\Local\\Temp\\ipykernel_29048\\2168445501.py:6: FutureWarning: The frame.append method is deprecated and will be removed from pandas in a future version. Use pandas.concat instead.\n",
      "  df = df.append(scrape_page(topic[\"topic\"], topic[\"url\"]), ignore_index=True)\n"
     ]
    },
    {
     "name": "stdout",
     "output_type": "stream",
     "text": [
      "Scraping Kegel Exercises...\n",
      "Found 6 sections for Kegel Exercises\n"
     ]
    },
    {
     "name": "stderr",
     "output_type": "stream",
     "text": [
      " 50%|████▉     | 719/1452 [15:29<15:25,  1.26s/it]C:\\Users\\Raj\\AppData\\Local\\Temp\\ipykernel_29048\\2168445501.py:6: FutureWarning: The frame.append method is deprecated and will be removed from pandas in a future version. Use pandas.concat instead.\n",
      "  df = df.append(scrape_page(topic[\"topic\"], topic[\"url\"]), ignore_index=True)\n"
     ]
    },
    {
     "name": "stdout",
     "output_type": "stream",
     "text": [
      "Scraping Keratoconus...\n",
      "Found 6 sections for Keratoconus\n"
     ]
    },
    {
     "name": "stderr",
     "output_type": "stream",
     "text": [
      " 50%|████▉     | 720/1452 [15:31<15:06,  1.24s/it]C:\\Users\\Raj\\AppData\\Local\\Temp\\ipykernel_29048\\2168445501.py:6: FutureWarning: The frame.append method is deprecated and will be removed from pandas in a future version. Use pandas.concat instead.\n",
      "  df = df.append(scrape_page(topic[\"topic\"], topic[\"url\"]), ignore_index=True)\n"
     ]
    },
    {
     "name": "stdout",
     "output_type": "stream",
     "text": [
      "Scraping Keratosis Seborrheic...\n",
      "Found 8 sections for Keratosis Seborrheic\n"
     ]
    },
    {
     "name": "stderr",
     "output_type": "stream",
     "text": [
      " 50%|████▉     | 721/1452 [15:32<15:02,  1.23s/it]"
     ]
    },
    {
     "name": "stdout",
     "output_type": "stream",
     "text": [
      "Scraping Kernicterus...\n",
      "Found 7 sections for Kernicterus\n"
     ]
    },
    {
     "name": "stderr",
     "output_type": "stream",
     "text": [
      "C:\\Users\\Raj\\AppData\\Local\\Temp\\ipykernel_29048\\2168445501.py:6: FutureWarning: The frame.append method is deprecated and will be removed from pandas in a future version. Use pandas.concat instead.\n",
      "  df = df.append(scrape_page(topic[\"topic\"], topic[\"url\"]), ignore_index=True)\n",
      " 50%|████▉     | 722/1452 [15:33<15:28,  1.27s/it]"
     ]
    },
    {
     "name": "stdout",
     "output_type": "stream",
     "text": [
      "Scraping Kidney Disease Diet...\n",
      "Found 7 sections for Kidney Disease Diet\n"
     ]
    },
    {
     "name": "stderr",
     "output_type": "stream",
     "text": [
      "C:\\Users\\Raj\\AppData\\Local\\Temp\\ipykernel_29048\\2168445501.py:6: FutureWarning: The frame.append method is deprecated and will be removed from pandas in a future version. Use pandas.concat instead.\n",
      "  df = df.append(scrape_page(topic[\"topic\"], topic[\"url\"]), ignore_index=True)\n",
      " 50%|████▉     | 723/1452 [15:34<15:17,  1.26s/it]"
     ]
    },
    {
     "name": "stdout",
     "output_type": "stream",
     "text": [
      "Scraping Kidney Disease, Chronic...\n",
      "Found 8 sections for Kidney Disease, Chronic\n"
     ]
    },
    {
     "name": "stderr",
     "output_type": "stream",
     "text": [
      "C:\\Users\\Raj\\AppData\\Local\\Temp\\ipykernel_29048\\2168445501.py:6: FutureWarning: The frame.append method is deprecated and will be removed from pandas in a future version. Use pandas.concat instead.\n",
      "  df = df.append(scrape_page(topic[\"topic\"], topic[\"url\"]), ignore_index=True)\n",
      " 50%|████▉     | 724/1452 [15:36<15:13,  1.25s/it]"
     ]
    },
    {
     "name": "stdout",
     "output_type": "stream",
     "text": [
      "Scraping Kidney Disease, Diabetic...\n",
      "Found 5 sections for Kidney Disease, Diabetic\n"
     ]
    },
    {
     "name": "stderr",
     "output_type": "stream",
     "text": [
      "C:\\Users\\Raj\\AppData\\Local\\Temp\\ipykernel_29048\\2168445501.py:6: FutureWarning: The frame.append method is deprecated and will be removed from pandas in a future version. Use pandas.concat instead.\n",
      "  df = df.append(scrape_page(topic[\"topic\"], topic[\"url\"]), ignore_index=True)\n",
      " 50%|████▉     | 725/1452 [15:37<15:09,  1.25s/it]"
     ]
    },
    {
     "name": "stdout",
     "output_type": "stream",
     "text": [
      "Scraping Kidney Disease, Hypertension-Related...\n",
      "Found 6 sections for Kidney Disease, Hypertension-Related\n"
     ]
    },
    {
     "name": "stderr",
     "output_type": "stream",
     "text": [
      "C:\\Users\\Raj\\AppData\\Local\\Temp\\ipykernel_29048\\2168445501.py:6: FutureWarning: The frame.append method is deprecated and will be removed from pandas in a future version. Use pandas.concat instead.\n",
      "  df = df.append(scrape_page(topic[\"topic\"], topic[\"url\"]), ignore_index=True)\n",
      " 50%|█████     | 726/1452 [15:39<17:34,  1.45s/it]"
     ]
    },
    {
     "name": "stdout",
     "output_type": "stream",
     "text": [
      "Scraping Kidney Failure, Acute...\n",
      "Found 9 sections for Kidney Failure, Acute\n"
     ]
    },
    {
     "name": "stderr",
     "output_type": "stream",
     "text": [
      "C:\\Users\\Raj\\AppData\\Local\\Temp\\ipykernel_29048\\2168445501.py:6: FutureWarning: The frame.append method is deprecated and will be removed from pandas in a future version. Use pandas.concat instead.\n",
      "  df = df.append(scrape_page(topic[\"topic\"], topic[\"url\"]), ignore_index=True)\n",
      " 50%|█████     | 727/1452 [15:40<16:50,  1.39s/it]"
     ]
    },
    {
     "name": "stdout",
     "output_type": "stream",
     "text": [
      "Scraping Klinefelter Syndrome...\n",
      "Found 7 sections for Klinefelter Syndrome\n"
     ]
    },
    {
     "name": "stderr",
     "output_type": "stream",
     "text": [
      "C:\\Users\\Raj\\AppData\\Local\\Temp\\ipykernel_29048\\2168445501.py:6: FutureWarning: The frame.append method is deprecated and will be removed from pandas in a future version. Use pandas.concat instead.\n",
      "  df = df.append(scrape_page(topic[\"topic\"], topic[\"url\"]), ignore_index=True)\n",
      " 50%|█████     | 728/1452 [15:41<16:21,  1.36s/it]"
     ]
    },
    {
     "name": "stdout",
     "output_type": "stream",
     "text": [
      "Scraping Klippel-Trenaunay-Weber Syndrome...\n",
      "Found 4 sections for Klippel-Trenaunay-Weber Syndrome\n"
     ]
    },
    {
     "name": "stderr",
     "output_type": "stream",
     "text": [
      "C:\\Users\\Raj\\AppData\\Local\\Temp\\ipykernel_29048\\2168445501.py:6: FutureWarning: The frame.append method is deprecated and will be removed from pandas in a future version. Use pandas.concat instead.\n",
      "  df = df.append(scrape_page(topic[\"topic\"], topic[\"url\"]), ignore_index=True)\n",
      " 50%|█████     | 729/1452 [15:43<15:56,  1.32s/it]"
     ]
    },
    {
     "name": "stdout",
     "output_type": "stream",
     "text": [
      "Scraping Knee Replacement Surgery...\n",
      "Found 5 sections for Knee Replacement Surgery\n"
     ]
    },
    {
     "name": "stderr",
     "output_type": "stream",
     "text": [
      "C:\\Users\\Raj\\AppData\\Local\\Temp\\ipykernel_29048\\2168445501.py:6: FutureWarning: The frame.append method is deprecated and will be removed from pandas in a future version. Use pandas.concat instead.\n",
      "  df = df.append(scrape_page(topic[\"topic\"], topic[\"url\"]), ignore_index=True)\n",
      " 50%|█████     | 730/1452 [15:44<15:39,  1.30s/it]"
     ]
    },
    {
     "name": "stdout",
     "output_type": "stream",
     "text": [
      "Scraping Kneecap Instability...\n",
      "Found 17 sections for Kneecap Instability\n"
     ]
    },
    {
     "name": "stderr",
     "output_type": "stream",
     "text": [
      "C:\\Users\\Raj\\AppData\\Local\\Temp\\ipykernel_29048\\2168445501.py:6: FutureWarning: The frame.append method is deprecated and will be removed from pandas in a future version. Use pandas.concat instead.\n",
      "  df = df.append(scrape_page(topic[\"topic\"], topic[\"url\"]), ignore_index=True)\n",
      " 50%|█████     | 731/1452 [15:45<15:22,  1.28s/it]C:\\Users\\Raj\\AppData\\Local\\Temp\\ipykernel_29048\\2168445501.py:6: FutureWarning: The frame.append method is deprecated and will be removed from pandas in a future version. Use pandas.concat instead.\n",
      "  df = df.append(scrape_page(topic[\"topic\"], topic[\"url\"]), ignore_index=True)\n"
     ]
    },
    {
     "name": "stdout",
     "output_type": "stream",
     "text": [
      "Scraping Kneecap Tracking Disorder...\n",
      "Found 17 sections for Kneecap Tracking Disorder\n"
     ]
    },
    {
     "name": "stderr",
     "output_type": "stream",
     "text": [
      " 50%|█████     | 732/1452 [15:46<15:03,  1.25s/it]"
     ]
    },
    {
     "name": "stdout",
     "output_type": "stream",
     "text": [
      "Scraping Kratom...\n",
      "Found 5 sections for Kratom\n"
     ]
    },
    {
     "name": "stderr",
     "output_type": "stream",
     "text": [
      "C:\\Users\\Raj\\AppData\\Local\\Temp\\ipykernel_29048\\2168445501.py:6: FutureWarning: The frame.append method is deprecated and will be removed from pandas in a future version. Use pandas.concat instead.\n",
      "  df = df.append(scrape_page(topic[\"topic\"], topic[\"url\"]), ignore_index=True)\n",
      " 50%|█████     | 733/1452 [15:48<15:16,  1.27s/it]C:\\Users\\Raj\\AppData\\Local\\Temp\\ipykernel_29048\\2168445501.py:6: FutureWarning: The frame.append method is deprecated and will be removed from pandas in a future version. Use pandas.concat instead.\n",
      "  df = df.append(scrape_page(topic[\"topic\"], topic[\"url\"]), ignore_index=True)\n"
     ]
    },
    {
     "name": "stdout",
     "output_type": "stream",
     "text": [
      "Scraping KTW Syndrome...\n",
      "Found 4 sections for KTW Syndrome\n"
     ]
    },
    {
     "name": "stderr",
     "output_type": "stream",
     "text": [
      " 51%|█████     | 734/1452 [15:49<14:52,  1.24s/it]"
     ]
    },
    {
     "name": "stdout",
     "output_type": "stream",
     "text": [
      "Scraping Lab Results...\n",
      "Found 6 sections for Lab Results\n"
     ]
    },
    {
     "name": "stderr",
     "output_type": "stream",
     "text": [
      "C:\\Users\\Raj\\AppData\\Local\\Temp\\ipykernel_29048\\2168445501.py:6: FutureWarning: The frame.append method is deprecated and will be removed from pandas in a future version. Use pandas.concat instead.\n",
      "  df = df.append(scrape_page(topic[\"topic\"], topic[\"url\"]), ignore_index=True)\n",
      " 51%|█████     | 735/1452 [15:50<14:54,  1.25s/it]C:\\Users\\Raj\\AppData\\Local\\Temp\\ipykernel_29048\\2168445501.py:6: FutureWarning: The frame.append method is deprecated and will be removed from pandas in a future version. Use pandas.concat instead.\n",
      "  df = df.append(scrape_page(topic[\"topic\"], topic[\"url\"]), ignore_index=True)\n"
     ]
    },
    {
     "name": "stdout",
     "output_type": "stream",
     "text": [
      "Scraping Labhart-Willi Syndrome...\n",
      "Found 9 sections for Labhart-Willi Syndrome\n"
     ]
    },
    {
     "name": "stderr",
     "output_type": "stream",
     "text": [
      " 51%|█████     | 736/1452 [15:51<14:40,  1.23s/it]C:\\Users\\Raj\\AppData\\Local\\Temp\\ipykernel_29048\\2168445501.py:6: FutureWarning: The frame.append method is deprecated and will be removed from pandas in a future version. Use pandas.concat instead.\n",
      "  df = df.append(scrape_page(topic[\"topic\"], topic[\"url\"]), ignore_index=True)\n"
     ]
    },
    {
     "name": "stdout",
     "output_type": "stream",
     "text": [
      "Scraping Labor and Delivery...\n",
      "Found 10 sections for Labor and Delivery\n"
     ]
    },
    {
     "name": "stderr",
     "output_type": "stream",
     "text": [
      " 51%|█████     | 737/1452 [15:52<14:39,  1.23s/it]"
     ]
    },
    {
     "name": "stdout",
     "output_type": "stream",
     "text": [
      "Scraping Labor and Delivery Complications...\n",
      "Found 17 sections for Labor and Delivery Complications\n"
     ]
    },
    {
     "name": "stderr",
     "output_type": "stream",
     "text": [
      "C:\\Users\\Raj\\AppData\\Local\\Temp\\ipykernel_29048\\2168445501.py:6: FutureWarning: The frame.append method is deprecated and will be removed from pandas in a future version. Use pandas.concat instead.\n",
      "  df = df.append(scrape_page(topic[\"topic\"], topic[\"url\"]), ignore_index=True)\n",
      " 51%|█████     | 738/1452 [15:54<15:17,  1.28s/it]"
     ]
    },
    {
     "name": "stdout",
     "output_type": "stream",
     "text": [
      "Scraping Labyrinthine Positional Nystagmus...\n",
      "Found 8 sections for Labyrinthine Positional Nystagmus\n"
     ]
    },
    {
     "name": "stderr",
     "output_type": "stream",
     "text": [
      "C:\\Users\\Raj\\AppData\\Local\\Temp\\ipykernel_29048\\2168445501.py:6: FutureWarning: The frame.append method is deprecated and will be removed from pandas in a future version. Use pandas.concat instead.\n",
      "  df = df.append(scrape_page(topic[\"topic\"], topic[\"url\"]), ignore_index=True)\n",
      " 51%|█████     | 739/1452 [15:55<15:08,  1.27s/it]"
     ]
    },
    {
     "name": "stdout",
     "output_type": "stream",
     "text": [
      "Scraping Labyrinthitis...\n",
      "Found 10 sections for Labyrinthitis\n"
     ]
    },
    {
     "name": "stderr",
     "output_type": "stream",
     "text": [
      "C:\\Users\\Raj\\AppData\\Local\\Temp\\ipykernel_29048\\2168445501.py:6: FutureWarning: The frame.append method is deprecated and will be removed from pandas in a future version. Use pandas.concat instead.\n",
      "  df = df.append(scrape_page(topic[\"topic\"], topic[\"url\"]), ignore_index=True)\n",
      " 51%|█████     | 740/1452 [15:56<15:00,  1.26s/it]"
     ]
    },
    {
     "name": "stdout",
     "output_type": "stream",
     "text": [
      "Scraping Lactation Mastitis...\n",
      "Found 6 sections for Lactation Mastitis\n"
     ]
    },
    {
     "name": "stderr",
     "output_type": "stream",
     "text": [
      "C:\\Users\\Raj\\AppData\\Local\\Temp\\ipykernel_29048\\2168445501.py:6: FutureWarning: The frame.append method is deprecated and will be removed from pandas in a future version. Use pandas.concat instead.\n",
      "  df = df.append(scrape_page(topic[\"topic\"], topic[\"url\"]), ignore_index=True)\n",
      " 51%|█████     | 741/1452 [15:58<15:01,  1.27s/it]"
     ]
    },
    {
     "name": "stdout",
     "output_type": "stream",
     "text": [
      "Scraping Lactose Intolerance...\n",
      "Found 9 sections for Lactose Intolerance\n"
     ]
    },
    {
     "name": "stderr",
     "output_type": "stream",
     "text": [
      "C:\\Users\\Raj\\AppData\\Local\\Temp\\ipykernel_29048\\2168445501.py:6: FutureWarning: The frame.append method is deprecated and will be removed from pandas in a future version. Use pandas.concat instead.\n",
      "  df = df.append(scrape_page(topic[\"topic\"], topic[\"url\"]), ignore_index=True)\n",
      " 51%|█████     | 742/1452 [15:59<14:52,  1.26s/it]C:\\Users\\Raj\\AppData\\Local\\Temp\\ipykernel_29048\\2168445501.py:6: FutureWarning: The frame.append method is deprecated and will be removed from pandas in a future version. Use pandas.concat instead.\n",
      "  df = df.append(scrape_page(topic[\"topic\"], topic[\"url\"]), ignore_index=True)\n"
     ]
    },
    {
     "name": "stdout",
     "output_type": "stream",
     "text": [
      "Scraping LAM...\n",
      "Found 7 sections for LAM\n"
     ]
    },
    {
     "name": "stderr",
     "output_type": "stream",
     "text": [
      " 51%|█████     | 743/1452 [16:00<14:45,  1.25s/it]"
     ]
    },
    {
     "name": "stdout",
     "output_type": "stream",
     "text": [
      "Scraping Lambert-Eaton Myasthenic Syndrome...\n",
      "Found 8 sections for Lambert-Eaton Myasthenic Syndrome\n"
     ]
    },
    {
     "name": "stderr",
     "output_type": "stream",
     "text": [
      "C:\\Users\\Raj\\AppData\\Local\\Temp\\ipykernel_29048\\2168445501.py:6: FutureWarning: The frame.append method is deprecated and will be removed from pandas in a future version. Use pandas.concat instead.\n",
      "  df = df.append(scrape_page(topic[\"topic\"], topic[\"url\"]), ignore_index=True)\n",
      " 51%|█████     | 744/1452 [16:01<14:49,  1.26s/it]C:\\Users\\Raj\\AppData\\Local\\Temp\\ipykernel_29048\\2168445501.py:6: FutureWarning: The frame.append method is deprecated and will be removed from pandas in a future version. Use pandas.concat instead.\n",
      "  df = df.append(scrape_page(topic[\"topic\"], topic[\"url\"]), ignore_index=True)\n"
     ]
    },
    {
     "name": "stdout",
     "output_type": "stream",
     "text": [
      "Scraping Lamellar Ichthyosis...\n",
      "Found 10 sections for Lamellar Ichthyosis\n"
     ]
    },
    {
     "name": "stderr",
     "output_type": "stream",
     "text": [
      " 51%|█████▏    | 745/1452 [16:02<14:32,  1.23s/it]"
     ]
    },
    {
     "name": "stdout",
     "output_type": "stream",
     "text": [
      "Scraping Langerhans Cell Histiocytosis...\n",
      "Found 6 sections for Langerhans Cell Histiocytosis\n"
     ]
    },
    {
     "name": "stderr",
     "output_type": "stream",
     "text": [
      "C:\\Users\\Raj\\AppData\\Local\\Temp\\ipykernel_29048\\2168445501.py:6: FutureWarning: The frame.append method is deprecated and will be removed from pandas in a future version. Use pandas.concat instead.\n",
      "  df = df.append(scrape_page(topic[\"topic\"], topic[\"url\"]), ignore_index=True)\n",
      " 51%|█████▏    | 746/1452 [16:04<14:33,  1.24s/it]"
     ]
    },
    {
     "name": "stdout",
     "output_type": "stream",
     "text": [
      "Scraping Latex Allergy...\n",
      "Found 12 sections for Latex Allergy\n"
     ]
    },
    {
     "name": "stderr",
     "output_type": "stream",
     "text": [
      "C:\\Users\\Raj\\AppData\\Local\\Temp\\ipykernel_29048\\2168445501.py:6: FutureWarning: The frame.append method is deprecated and will be removed from pandas in a future version. Use pandas.concat instead.\n",
      "  df = df.append(scrape_page(topic[\"topic\"], topic[\"url\"]), ignore_index=True)\n",
      " 51%|█████▏    | 747/1452 [16:05<14:47,  1.26s/it]"
     ]
    },
    {
     "name": "stdout",
     "output_type": "stream",
     "text": [
      "Scraping Laxatives...\n",
      "Found 8 sections for Laxatives\n"
     ]
    },
    {
     "name": "stderr",
     "output_type": "stream",
     "text": [
      "C:\\Users\\Raj\\AppData\\Local\\Temp\\ipykernel_29048\\2168445501.py:6: FutureWarning: The frame.append method is deprecated and will be removed from pandas in a future version. Use pandas.concat instead.\n",
      "  df = df.append(scrape_page(topic[\"topic\"], topic[\"url\"]), ignore_index=True)\n",
      " 52%|█████▏    | 748/1452 [16:06<15:25,  1.31s/it]"
     ]
    },
    {
     "name": "stdout",
     "output_type": "stream",
     "text": [
      "Scraping Lazy Eye (Amblyopia)...\n",
      "Found 10 sections for Lazy Eye (Amblyopia)\n"
     ]
    },
    {
     "name": "stderr",
     "output_type": "stream",
     "text": [
      "C:\\Users\\Raj\\AppData\\Local\\Temp\\ipykernel_29048\\2168445501.py:6: FutureWarning: The frame.append method is deprecated and will be removed from pandas in a future version. Use pandas.concat instead.\n",
      "  df = df.append(scrape_page(topic[\"topic\"], topic[\"url\"]), ignore_index=True)\n",
      " 52%|█████▏    | 749/1452 [16:08<15:08,  1.29s/it]C:\\Users\\Raj\\AppData\\Local\\Temp\\ipykernel_29048\\2168445501.py:6: FutureWarning: The frame.append method is deprecated and will be removed from pandas in a future version. Use pandas.concat instead.\n",
      "  df = df.append(scrape_page(topic[\"topic\"], topic[\"url\"]), ignore_index=True)\n"
     ]
    },
    {
     "name": "stdout",
     "output_type": "stream",
     "text": [
      "Scraping LCH...\n",
      "Found 6 sections for LCH\n"
     ]
    },
    {
     "name": "stderr",
     "output_type": "stream",
     "text": [
      " 52%|█████▏    | 750/1452 [16:09<14:47,  1.26s/it]"
     ]
    },
    {
     "name": "stdout",
     "output_type": "stream",
     "text": [
      "Scraping Lennox-Gastaut Syndrome...\n",
      "Found 11 sections for Lennox-Gastaut Syndrome\n"
     ]
    },
    {
     "name": "stderr",
     "output_type": "stream",
     "text": [
      "C:\\Users\\Raj\\AppData\\Local\\Temp\\ipykernel_29048\\2168445501.py:6: FutureWarning: The frame.append method is deprecated and will be removed from pandas in a future version. Use pandas.concat instead.\n",
      "  df = df.append(scrape_page(topic[\"topic\"], topic[\"url\"]), ignore_index=True)\n",
      " 52%|█████▏    | 751/1452 [16:10<14:42,  1.26s/it]"
     ]
    },
    {
     "name": "stdout",
     "output_type": "stream",
     "text": [
      "Scraping LGMD...\n",
      "Found 13 sections for LGMD\n"
     ]
    },
    {
     "name": "stderr",
     "output_type": "stream",
     "text": [
      "C:\\Users\\Raj\\AppData\\Local\\Temp\\ipykernel_29048\\2168445501.py:6: FutureWarning: The frame.append method is deprecated and will be removed from pandas in a future version. Use pandas.concat instead.\n",
      "  df = df.append(scrape_page(topic[\"topic\"], topic[\"url\"]), ignore_index=True)\n",
      " 52%|█████▏    | 752/1452 [16:11<14:39,  1.26s/it]"
     ]
    },
    {
     "name": "stdout",
     "output_type": "stream",
     "text": [
      "Scraping LGS...\n",
      "Found 11 sections for LGS\n"
     ]
    },
    {
     "name": "stderr",
     "output_type": "stream",
     "text": [
      "C:\\Users\\Raj\\AppData\\Local\\Temp\\ipykernel_29048\\2168445501.py:6: FutureWarning: The frame.append method is deprecated and will be removed from pandas in a future version. Use pandas.concat instead.\n",
      "  df = df.append(scrape_page(topic[\"topic\"], topic[\"url\"]), ignore_index=True)\n",
      " 52%|█████▏    | 753/1452 [16:13<14:47,  1.27s/it]"
     ]
    },
    {
     "name": "stdout",
     "output_type": "stream",
     "text": [
      "Scraping Lice...\n",
      "Found 2 sections for Lice\n"
     ]
    },
    {
     "name": "stderr",
     "output_type": "stream",
     "text": [
      "C:\\Users\\Raj\\AppData\\Local\\Temp\\ipykernel_29048\\2168445501.py:6: FutureWarning: The frame.append method is deprecated and will be removed from pandas in a future version. Use pandas.concat instead.\n",
      "  df = df.append(scrape_page(topic[\"topic\"], topic[\"url\"]), ignore_index=True)\n",
      " 52%|█████▏    | 754/1452 [16:14<14:39,  1.26s/it]"
     ]
    },
    {
     "name": "stdout",
     "output_type": "stream",
     "text": [
      "Scraping Lichen Amyloidosis...\n"
     ]
    },
    {
     "name": "stderr",
     "output_type": "stream",
     "text": [
      "C:\\Users\\Raj\\AppData\\Local\\Temp\\ipykernel_29048\\2168445501.py:6: FutureWarning: The frame.append method is deprecated and will be removed from pandas in a future version. Use pandas.concat instead.\n",
      "  df = df.append(scrape_page(topic[\"topic\"], topic[\"url\"]), ignore_index=True)\n",
      " 52%|█████▏    | 755/1452 [16:15<14:42,  1.27s/it]"
     ]
    },
    {
     "name": "stdout",
     "output_type": "stream",
     "text": [
      "Scraping Lichen Annularis...\n",
      "Found 14 sections for Lichen Annularis\n"
     ]
    },
    {
     "name": "stderr",
     "output_type": "stream",
     "text": [
      "C:\\Users\\Raj\\AppData\\Local\\Temp\\ipykernel_29048\\2168445501.py:6: FutureWarning: The frame.append method is deprecated and will be removed from pandas in a future version. Use pandas.concat instead.\n",
      "  df = df.append(scrape_page(topic[\"topic\"], topic[\"url\"]), ignore_index=True)\n",
      " 52%|█████▏    | 756/1452 [16:16<14:34,  1.26s/it]"
     ]
    },
    {
     "name": "stdout",
     "output_type": "stream",
     "text": [
      "Scraping Lichen Planus Sclerosus Atrophicus...\n",
      "Found 8 sections for Lichen Planus Sclerosus Atrophicus\n"
     ]
    },
    {
     "name": "stderr",
     "output_type": "stream",
     "text": [
      "C:\\Users\\Raj\\AppData\\Local\\Temp\\ipykernel_29048\\2168445501.py:6: FutureWarning: The frame.append method is deprecated and will be removed from pandas in a future version. Use pandas.concat instead.\n",
      "  df = df.append(scrape_page(topic[\"topic\"], topic[\"url\"]), ignore_index=True)\n",
      " 52%|█████▏    | 757/1452 [16:18<14:29,  1.25s/it]"
     ]
    },
    {
     "name": "stdout",
     "output_type": "stream",
     "text": [
      "Scraping Lichen Psoriasis...\n",
      "Found 9 sections for Lichen Psoriasis\n"
     ]
    },
    {
     "name": "stderr",
     "output_type": "stream",
     "text": [
      "C:\\Users\\Raj\\AppData\\Local\\Temp\\ipykernel_29048\\2168445501.py:6: FutureWarning: The frame.append method is deprecated and will be removed from pandas in a future version. Use pandas.concat instead.\n",
      "  df = df.append(scrape_page(topic[\"topic\"], topic[\"url\"]), ignore_index=True)\n",
      " 52%|█████▏    | 758/1452 [16:19<14:49,  1.28s/it]C:\\Users\\Raj\\AppData\\Local\\Temp\\ipykernel_29048\\2168445501.py:6: FutureWarning: The frame.append method is deprecated and will be removed from pandas in a future version. Use pandas.concat instead.\n",
      "  df = df.append(scrape_page(topic[\"topic\"], topic[\"url\"]), ignore_index=True)\n"
     ]
    },
    {
     "name": "stdout",
     "output_type": "stream",
     "text": [
      "Scraping Lichen Ruber Planus...\n",
      "Found 8 sections for Lichen Ruber Planus\n"
     ]
    },
    {
     "name": "stderr",
     "output_type": "stream",
     "text": [
      " 52%|█████▏    | 759/1452 [16:20<14:28,  1.25s/it]"
     ]
    },
    {
     "name": "stdout",
     "output_type": "stream",
     "text": [
      "Scraping Lichen Sclerosus...\n",
      "Found 9 sections for Lichen Sclerosus\n"
     ]
    },
    {
     "name": "stderr",
     "output_type": "stream",
     "text": [
      "C:\\Users\\Raj\\AppData\\Local\\Temp\\ipykernel_29048\\2168445501.py:6: FutureWarning: The frame.append method is deprecated and will be removed from pandas in a future version. Use pandas.concat instead.\n",
      "  df = df.append(scrape_page(topic[\"topic\"], topic[\"url\"]), ignore_index=True)\n",
      " 52%|█████▏    | 760/1452 [16:21<14:24,  1.25s/it]"
     ]
    },
    {
     "name": "stdout",
     "output_type": "stream",
     "text": [
      "Scraping Lichen Urticatus...\n",
      "Found 8 sections for Lichen Urticatus\n"
     ]
    },
    {
     "name": "stderr",
     "output_type": "stream",
     "text": [
      "C:\\Users\\Raj\\AppData\\Local\\Temp\\ipykernel_29048\\2168445501.py:6: FutureWarning: The frame.append method is deprecated and will be removed from pandas in a future version. Use pandas.concat instead.\n",
      "  df = df.append(scrape_page(topic[\"topic\"], topic[\"url\"]), ignore_index=True)\n",
      " 52%|█████▏    | 761/1452 [16:23<14:29,  1.26s/it]C:\\Users\\Raj\\AppData\\Local\\Temp\\ipykernel_29048\\2168445501.py:6: FutureWarning: The frame.append method is deprecated and will be removed from pandas in a future version. Use pandas.concat instead.\n",
      "  df = df.append(scrape_page(topic[\"topic\"], topic[\"url\"]), ignore_index=True)\n"
     ]
    },
    {
     "name": "stdout",
     "output_type": "stream",
     "text": [
      "Scraping Life Support...\n",
      "Found 6 sections for Life Support\n"
     ]
    },
    {
     "name": "stderr",
     "output_type": "stream",
     "text": [
      " 52%|█████▏    | 762/1452 [16:24<14:21,  1.25s/it]"
     ]
    },
    {
     "name": "stdout",
     "output_type": "stream",
     "text": [
      "Scraping Lingua Fissurata...\n",
      "Found 3 sections for Lingua Fissurata\n"
     ]
    },
    {
     "name": "stderr",
     "output_type": "stream",
     "text": [
      "C:\\Users\\Raj\\AppData\\Local\\Temp\\ipykernel_29048\\2168445501.py:6: FutureWarning: The frame.append method is deprecated and will be removed from pandas in a future version. Use pandas.concat instead.\n",
      "  df = df.append(scrape_page(topic[\"topic\"], topic[\"url\"]), ignore_index=True)\n",
      " 53%|█████▎    | 763/1452 [16:25<14:15,  1.24s/it]"
     ]
    },
    {
     "name": "stdout",
     "output_type": "stream",
     "text": [
      "Scraping Lingua Nigra...\n",
      "Found 5 sections for Lingua Nigra\n"
     ]
    },
    {
     "name": "stderr",
     "output_type": "stream",
     "text": [
      "C:\\Users\\Raj\\AppData\\Local\\Temp\\ipykernel_29048\\2168445501.py:6: FutureWarning: The frame.append method is deprecated and will be removed from pandas in a future version. Use pandas.concat instead.\n",
      "  df = df.append(scrape_page(topic[\"topic\"], topic[\"url\"]), ignore_index=True)\n",
      " 53%|█████▎    | 764/1452 [16:26<14:16,  1.24s/it]"
     ]
    },
    {
     "name": "stdout",
     "output_type": "stream",
     "text": [
      "Scraping Linguofacial Dyskinesia...\n"
     ]
    },
    {
     "name": "stderr",
     "output_type": "stream",
     "text": [
      "C:\\Users\\Raj\\AppData\\Local\\Temp\\ipykernel_29048\\2168445501.py:6: FutureWarning: The frame.append method is deprecated and will be removed from pandas in a future version. Use pandas.concat instead.\n",
      "  df = df.append(scrape_page(topic[\"topic\"], topic[\"url\"]), ignore_index=True)\n",
      " 53%|█████▎    | 765/1452 [16:28<14:25,  1.26s/it]"
     ]
    },
    {
     "name": "stdout",
     "output_type": "stream",
     "text": [
      "Scraping Lipodystrophy...\n",
      "Found 15 sections for Lipodystrophy\n"
     ]
    },
    {
     "name": "stderr",
     "output_type": "stream",
     "text": [
      "C:\\Users\\Raj\\AppData\\Local\\Temp\\ipykernel_29048\\2168445501.py:6: FutureWarning: The frame.append method is deprecated and will be removed from pandas in a future version. Use pandas.concat instead.\n",
      "  df = df.append(scrape_page(topic[\"topic\"], topic[\"url\"]), ignore_index=True)\n",
      " 53%|█████▎    | 766/1452 [16:29<14:33,  1.27s/it]"
     ]
    },
    {
     "name": "stdout",
     "output_type": "stream",
     "text": [
      "Scraping Lipoma...\n",
      "Found 8 sections for Lipoma\n"
     ]
    },
    {
     "name": "stderr",
     "output_type": "stream",
     "text": [
      "C:\\Users\\Raj\\AppData\\Local\\Temp\\ipykernel_29048\\2168445501.py:6: FutureWarning: The frame.append method is deprecated and will be removed from pandas in a future version. Use pandas.concat instead.\n",
      "  df = df.append(scrape_page(topic[\"topic\"], topic[\"url\"]), ignore_index=True)\n",
      " 53%|█████▎    | 767/1452 [16:30<14:23,  1.26s/it]"
     ]
    },
    {
     "name": "stdout",
     "output_type": "stream",
     "text": [
      "Scraping Liposarcoma...\n"
     ]
    },
    {
     "name": "stderr",
     "output_type": "stream",
     "text": [
      "C:\\Users\\Raj\\AppData\\Local\\Temp\\ipykernel_29048\\2168445501.py:6: FutureWarning: The frame.append method is deprecated and will be removed from pandas in a future version. Use pandas.concat instead.\n",
      "  df = df.append(scrape_page(topic[\"topic\"], topic[\"url\"]), ignore_index=True)\n",
      " 53%|█████▎    | 768/1452 [16:32<14:33,  1.28s/it]"
     ]
    },
    {
     "name": "stdout",
     "output_type": "stream",
     "text": [
      "Scraping Lissencephaly...\n",
      "Found 9 sections for Lissencephaly\n"
     ]
    },
    {
     "name": "stderr",
     "output_type": "stream",
     "text": [
      "C:\\Users\\Raj\\AppData\\Local\\Temp\\ipykernel_29048\\2168445501.py:6: FutureWarning: The frame.append method is deprecated and will be removed from pandas in a future version. Use pandas.concat instead.\n",
      "  df = df.append(scrape_page(topic[\"topic\"], topic[\"url\"]), ignore_index=True)\n",
      " 53%|█████▎    | 769/1452 [16:33<15:46,  1.39s/it]"
     ]
    },
    {
     "name": "stdout",
     "output_type": "stream",
     "text": [
      "Scraping Listeria Infection...\n"
     ]
    },
    {
     "name": "stderr",
     "output_type": "stream",
     "text": [
      "C:\\Users\\Raj\\AppData\\Local\\Temp\\ipykernel_29048\\2168445501.py:6: FutureWarning: The frame.append method is deprecated and will be removed from pandas in a future version. Use pandas.concat instead.\n",
      "  df = df.append(scrape_page(topic[\"topic\"], topic[\"url\"]), ignore_index=True)\n",
      " 53%|█████▎    | 770/1452 [16:35<16:16,  1.43s/it]"
     ]
    },
    {
     "name": "stdout",
     "output_type": "stream",
     "text": [
      "Scraping Listeriosis...\n",
      "Found 9 sections for Listeriosis\n"
     ]
    },
    {
     "name": "stderr",
     "output_type": "stream",
     "text": [
      "C:\\Users\\Raj\\AppData\\Local\\Temp\\ipykernel_29048\\2168445501.py:6: FutureWarning: The frame.append method is deprecated and will be removed from pandas in a future version. Use pandas.concat instead.\n",
      "  df = df.append(scrape_page(topic[\"topic\"], topic[\"url\"]), ignore_index=True)\n",
      " 53%|█████▎    | 771/1452 [16:36<15:39,  1.38s/it]"
     ]
    },
    {
     "name": "stdout",
     "output_type": "stream",
     "text": [
      "Scraping Liver Cancer...\n",
      "Found 4 sections for Liver Cancer\n"
     ]
    },
    {
     "name": "stderr",
     "output_type": "stream",
     "text": [
      "C:\\Users\\Raj\\AppData\\Local\\Temp\\ipykernel_29048\\2168445501.py:6: FutureWarning: The frame.append method is deprecated and will be removed from pandas in a future version. Use pandas.concat instead.\n",
      "  df = df.append(scrape_page(topic[\"topic\"], topic[\"url\"]), ignore_index=True)\n",
      " 53%|█████▎    | 772/1452 [16:37<15:11,  1.34s/it]"
     ]
    },
    {
     "name": "stdout",
     "output_type": "stream",
     "text": [
      "Scraping Liver Cancer Treatment...\n",
      "Found 4 sections for Liver Cancer Treatment\n"
     ]
    },
    {
     "name": "stderr",
     "output_type": "stream",
     "text": [
      "C:\\Users\\Raj\\AppData\\Local\\Temp\\ipykernel_29048\\2168445501.py:6: FutureWarning: The frame.append method is deprecated and will be removed from pandas in a future version. Use pandas.concat instead.\n",
      "  df = df.append(scrape_page(topic[\"topic\"], topic[\"url\"]), ignore_index=True)\n",
      " 53%|█████▎    | 773/1452 [16:39<15:01,  1.33s/it]C:\\Users\\Raj\\AppData\\Local\\Temp\\ipykernel_29048\\2168445501.py:6: FutureWarning: The frame.append method is deprecated and will be removed from pandas in a future version. Use pandas.concat instead.\n",
      "  df = df.append(scrape_page(topic[\"topic\"], topic[\"url\"]), ignore_index=True)\n"
     ]
    },
    {
     "name": "stdout",
     "output_type": "stream",
     "text": [
      "Scraping Localized Epidermolysis Bullosa...\n",
      "Found 10 sections for Localized Epidermolysis Bullosa\n"
     ]
    },
    {
     "name": "stderr",
     "output_type": "stream",
     "text": [
      " 53%|█████▎    | 774/1452 [16:40<14:38,  1.30s/it]"
     ]
    },
    {
     "name": "stdout",
     "output_type": "stream",
     "text": [
      "Scraping Lou Gehrig's Disease...\n",
      "Found 7 sections for Lou Gehrig's Disease\n"
     ]
    },
    {
     "name": "stderr",
     "output_type": "stream",
     "text": [
      "C:\\Users\\Raj\\AppData\\Local\\Temp\\ipykernel_29048\\2168445501.py:6: FutureWarning: The frame.append method is deprecated and will be removed from pandas in a future version. Use pandas.concat instead.\n",
      "  df = df.append(scrape_page(topic[\"topic\"], topic[\"url\"]), ignore_index=True)\n",
      " 53%|█████▎    | 775/1452 [16:41<14:25,  1.28s/it]"
     ]
    },
    {
     "name": "stdout",
     "output_type": "stream",
     "text": [
      "Scraping Low Back Pain...\n",
      "Found 10 sections for Low Back Pain\n"
     ]
    },
    {
     "name": "stderr",
     "output_type": "stream",
     "text": [
      "C:\\Users\\Raj\\AppData\\Local\\Temp\\ipykernel_29048\\2168445501.py:6: FutureWarning: The frame.append method is deprecated and will be removed from pandas in a future version. Use pandas.concat instead.\n",
      "  df = df.append(scrape_page(topic[\"topic\"], topic[\"url\"]), ignore_index=True)\n",
      " 53%|█████▎    | 776/1452 [16:42<14:20,  1.27s/it]C:\\Users\\Raj\\AppData\\Local\\Temp\\ipykernel_29048\\2168445501.py:6: FutureWarning: The frame.append method is deprecated and will be removed from pandas in a future version. Use pandas.concat instead.\n",
      "  df = df.append(scrape_page(topic[\"topic\"], topic[\"url\"]), ignore_index=True)\n"
     ]
    },
    {
     "name": "stdout",
     "output_type": "stream",
     "text": [
      "Scraping Low Back Pain Deciding About MRI...\n",
      "Found 8 sections for Low Back Pain Deciding About MRI\n"
     ]
    },
    {
     "name": "stderr",
     "output_type": "stream",
     "text": [
      " 54%|█████▎    | 777/1452 [16:44<14:09,  1.26s/it]"
     ]
    },
    {
     "name": "stdout",
     "output_type": "stream",
     "text": [
      "Scraping Low Back Pain Exercises...\n"
     ]
    },
    {
     "name": "stderr",
     "output_type": "stream",
     "text": [
      "C:\\Users\\Raj\\AppData\\Local\\Temp\\ipykernel_29048\\2168445501.py:6: FutureWarning: The frame.append method is deprecated and will be removed from pandas in a future version. Use pandas.concat instead.\n",
      "  df = df.append(scrape_page(topic[\"topic\"], topic[\"url\"]), ignore_index=True)\n",
      " 54%|█████▎    | 778/1452 [16:45<14:43,  1.31s/it]"
     ]
    },
    {
     "name": "stdout",
     "output_type": "stream",
     "text": [
      "Scraping Low Blood Pressure...\n",
      "Found 6 sections for Low Blood Pressure\n"
     ]
    },
    {
     "name": "stderr",
     "output_type": "stream",
     "text": [
      "C:\\Users\\Raj\\AppData\\Local\\Temp\\ipykernel_29048\\2168445501.py:6: FutureWarning: The frame.append method is deprecated and will be removed from pandas in a future version. Use pandas.concat instead.\n",
      "  df = df.append(scrape_page(topic[\"topic\"], topic[\"url\"]), ignore_index=True)\n",
      " 54%|█████▎    | 779/1452 [16:46<14:27,  1.29s/it]C:\\Users\\Raj\\AppData\\Local\\Temp\\ipykernel_29048\\2168445501.py:6: FutureWarning: The frame.append method is deprecated and will be removed from pandas in a future version. Use pandas.concat instead.\n",
      "  df = df.append(scrape_page(topic[\"topic\"], topic[\"url\"]), ignore_index=True)\n"
     ]
    },
    {
     "name": "stdout",
     "output_type": "stream",
     "text": [
      "Scraping Low Potassium Syndrome...\n",
      "Found 5 sections for Low Potassium Syndrome\n"
     ]
    },
    {
     "name": "stderr",
     "output_type": "stream",
     "text": [
      " 54%|█████▎    | 780/1452 [16:47<14:10,  1.27s/it]"
     ]
    },
    {
     "name": "stdout",
     "output_type": "stream",
     "text": [
      "Scraping Low-Carb Diets for Weight Loss...\n",
      "Found 4 sections for Low-Carb Diets for Weight Loss\n"
     ]
    },
    {
     "name": "stderr",
     "output_type": "stream",
     "text": [
      "C:\\Users\\Raj\\AppData\\Local\\Temp\\ipykernel_29048\\2168445501.py:6: FutureWarning: The frame.append method is deprecated and will be removed from pandas in a future version. Use pandas.concat instead.\n",
      "  df = df.append(scrape_page(topic[\"topic\"], topic[\"url\"]), ignore_index=True)\n",
      " 54%|█████▍    | 781/1452 [16:49<14:09,  1.27s/it]"
     ]
    },
    {
     "name": "stdout",
     "output_type": "stream",
     "text": [
      "Scraping Low-Dose Aspirin Therapy...\n",
      "Found 14 sections for Low-Dose Aspirin Therapy\n"
     ]
    },
    {
     "name": "stderr",
     "output_type": "stream",
     "text": [
      "C:\\Users\\Raj\\AppData\\Local\\Temp\\ipykernel_29048\\2168445501.py:6: FutureWarning: The frame.append method is deprecated and will be removed from pandas in a future version. Use pandas.concat instead.\n",
      "  df = df.append(scrape_page(topic[\"topic\"], topic[\"url\"]), ignore_index=True)\n",
      " 54%|█████▍    | 782/1452 [16:50<14:01,  1.26s/it]"
     ]
    },
    {
     "name": "stdout",
     "output_type": "stream",
     "text": [
      "Scraping Lumbar Pain...\n",
      "Found 7 sections for Lumbar Pain\n"
     ]
    },
    {
     "name": "stderr",
     "output_type": "stream",
     "text": [
      "C:\\Users\\Raj\\AppData\\Local\\Temp\\ipykernel_29048\\2168445501.py:6: FutureWarning: The frame.append method is deprecated and will be removed from pandas in a future version. Use pandas.concat instead.\n",
      "  df = df.append(scrape_page(topic[\"topic\"], topic[\"url\"]), ignore_index=True)\n",
      " 54%|█████▍    | 783/1452 [16:51<14:15,  1.28s/it]"
     ]
    },
    {
     "name": "stdout",
     "output_type": "stream",
     "text": [
      "Scraping Lung Carcinoid Tumors...\n",
      "Found 8 sections for Lung Carcinoid Tumors\n"
     ]
    },
    {
     "name": "stderr",
     "output_type": "stream",
     "text": [
      "C:\\Users\\Raj\\AppData\\Local\\Temp\\ipykernel_29048\\2168445501.py:6: FutureWarning: The frame.append method is deprecated and will be removed from pandas in a future version. Use pandas.concat instead.\n",
      "  df = df.append(scrape_page(topic[\"topic\"], topic[\"url\"]), ignore_index=True)\n",
      " 54%|█████▍    | 784/1452 [16:53<16:14,  1.46s/it]C:\\Users\\Raj\\AppData\\Local\\Temp\\ipykernel_29048\\2168445501.py:6: FutureWarning: The frame.append method is deprecated and will be removed from pandas in a future version. Use pandas.concat instead.\n",
      "  df = df.append(scrape_page(topic[\"topic\"], topic[\"url\"]), ignore_index=True)\n"
     ]
    },
    {
     "name": "stdout",
     "output_type": "stream",
     "text": [
      "Scraping Lung Nocardiosis...\n",
      "Found 4 sections for Lung Nocardiosis\n"
     ]
    },
    {
     "name": "stderr",
     "output_type": "stream",
     "text": [
      " 54%|█████▍    | 785/1452 [16:54<15:26,  1.39s/it]"
     ]
    },
    {
     "name": "stdout",
     "output_type": "stream",
     "text": [
      "Scraping Lyme Disease...\n",
      "Found 17 sections for Lyme Disease\n"
     ]
    },
    {
     "name": "stderr",
     "output_type": "stream",
     "text": [
      "C:\\Users\\Raj\\AppData\\Local\\Temp\\ipykernel_29048\\2168445501.py:6: FutureWarning: The frame.append method is deprecated and will be removed from pandas in a future version. Use pandas.concat instead.\n",
      "  df = df.append(scrape_page(topic[\"topic\"], topic[\"url\"]), ignore_index=True)\n",
      " 54%|█████▍    | 786/1452 [16:56<14:53,  1.34s/it]"
     ]
    },
    {
     "name": "stdout",
     "output_type": "stream",
     "text": [
      "Scraping Lymph Node Cancer...\n"
     ]
    },
    {
     "name": "stderr",
     "output_type": "stream",
     "text": [
      "C:\\Users\\Raj\\AppData\\Local\\Temp\\ipykernel_29048\\2168445501.py:6: FutureWarning: The frame.append method is deprecated and will be removed from pandas in a future version. Use pandas.concat instead.\n",
      "  df = df.append(scrape_page(topic[\"topic\"], topic[\"url\"]), ignore_index=True)\n",
      " 54%|█████▍    | 787/1452 [16:57<14:46,  1.33s/it]C:\\Users\\Raj\\AppData\\Local\\Temp\\ipykernel_29048\\2168445501.py:6: FutureWarning: The frame.append method is deprecated and will be removed from pandas in a future version. Use pandas.concat instead.\n",
      "  df = df.append(scrape_page(topic[\"topic\"], topic[\"url\"]), ignore_index=True)\n"
     ]
    },
    {
     "name": "stdout",
     "output_type": "stream",
     "text": [
      "Scraping Lymphangioleimyomatosis...\n",
      "Found 7 sections for Lymphangioleimyomatosis\n"
     ]
    },
    {
     "name": "stderr",
     "output_type": "stream",
     "text": [
      " 54%|█████▍    | 788/1452 [16:58<14:15,  1.29s/it]C:\\Users\\Raj\\AppData\\Local\\Temp\\ipykernel_29048\\2168445501.py:6: FutureWarning: The frame.append method is deprecated and will be removed from pandas in a future version. Use pandas.concat instead.\n",
      "  df = df.append(scrape_page(topic[\"topic\"], topic[\"url\"]), ignore_index=True)\n"
     ]
    },
    {
     "name": "stdout",
     "output_type": "stream",
     "text": [
      "Scraping Lymphedema...\n",
      "Found 5 sections for Lymphedema\n"
     ]
    },
    {
     "name": "stderr",
     "output_type": "stream",
     "text": [
      " 54%|█████▍    | 789/1452 [16:59<14:00,  1.27s/it]"
     ]
    },
    {
     "name": "stdout",
     "output_type": "stream",
     "text": [
      "Scraping Lymphoma, Non-Hodgkin's...\n"
     ]
    },
    {
     "name": "stderr",
     "output_type": "stream",
     "text": [
      "C:\\Users\\Raj\\AppData\\Local\\Temp\\ipykernel_29048\\2168445501.py:6: FutureWarning: The frame.append method is deprecated and will be removed from pandas in a future version. Use pandas.concat instead.\n",
      "  df = df.append(scrape_page(topic[\"topic\"], topic[\"url\"]), ignore_index=True)\n",
      " 54%|█████▍    | 790/1452 [17:01<14:00,  1.27s/it]"
     ]
    },
    {
     "name": "stdout",
     "output_type": "stream",
     "text": [
      "Scraping Lysosomal Storage Disorders...\n",
      "Found 10 sections for Lysosomal Storage Disorders\n"
     ]
    },
    {
     "name": "stderr",
     "output_type": "stream",
     "text": [
      "C:\\Users\\Raj\\AppData\\Local\\Temp\\ipykernel_29048\\2168445501.py:6: FutureWarning: The frame.append method is deprecated and will be removed from pandas in a future version. Use pandas.concat instead.\n",
      "  df = df.append(scrape_page(topic[\"topic\"], topic[\"url\"]), ignore_index=True)\n",
      " 54%|█████▍    | 791/1452 [17:02<13:55,  1.26s/it]"
     ]
    },
    {
     "name": "stdout",
     "output_type": "stream",
     "text": [
      "Scraping Male Sexual Problems...\n",
      "Found 13 sections for Male Sexual Problems\n"
     ]
    },
    {
     "name": "stderr",
     "output_type": "stream",
     "text": [
      "C:\\Users\\Raj\\AppData\\Local\\Temp\\ipykernel_29048\\2168445501.py:6: FutureWarning: The frame.append method is deprecated and will be removed from pandas in a future version. Use pandas.concat instead.\n",
      "  df = df.append(scrape_page(topic[\"topic\"], topic[\"url\"]), ignore_index=True)\n",
      " 55%|█████▍    | 792/1452 [17:03<13:50,  1.26s/it]"
     ]
    },
    {
     "name": "stdout",
     "output_type": "stream",
     "text": [
      "Scraping Malignant Appendical Tumor...\n",
      "Found 6 sections for Malignant Appendical Tumor\n"
     ]
    },
    {
     "name": "stderr",
     "output_type": "stream",
     "text": [
      "C:\\Users\\Raj\\AppData\\Local\\Temp\\ipykernel_29048\\2168445501.py:6: FutureWarning: The frame.append method is deprecated and will be removed from pandas in a future version. Use pandas.concat instead.\n",
      "  df = df.append(scrape_page(topic[\"topic\"], topic[\"url\"]), ignore_index=True)\n",
      " 55%|█████▍    | 793/1452 [17:05<15:17,  1.39s/it]"
     ]
    },
    {
     "name": "stdout",
     "output_type": "stream",
     "text": [
      "Scraping Malignant Carcinoid Syndrome...\n"
     ]
    },
    {
     "name": "stderr",
     "output_type": "stream",
     "text": [
      "C:\\Users\\Raj\\AppData\\Local\\Temp\\ipykernel_29048\\2168445501.py:6: FutureWarning: The frame.append method is deprecated and will be removed from pandas in a future version. Use pandas.concat instead.\n",
      "  df = df.append(scrape_page(topic[\"topic\"], topic[\"url\"]), ignore_index=True)\n",
      " 55%|█████▍    | 794/1452 [17:06<14:55,  1.36s/it]"
     ]
    },
    {
     "name": "stdout",
     "output_type": "stream",
     "text": [
      "Scraping Malignant Large Bowel Tumor...\n",
      "Found 6 sections for Malignant Large Bowel Tumor\n"
     ]
    },
    {
     "name": "stderr",
     "output_type": "stream",
     "text": [
      "C:\\Users\\Raj\\AppData\\Local\\Temp\\ipykernel_29048\\2168445501.py:6: FutureWarning: The frame.append method is deprecated and will be removed from pandas in a future version. Use pandas.concat instead.\n",
      "  df = df.append(scrape_page(topic[\"topic\"], topic[\"url\"]), ignore_index=True)\n",
      " 55%|█████▍    | 795/1452 [17:07<14:37,  1.33s/it]"
     ]
    },
    {
     "name": "stdout",
     "output_type": "stream",
     "text": [
      "Scraping Malignant Mesothelioma...\n",
      "Found 12 sections for Malignant Mesothelioma\n"
     ]
    },
    {
     "name": "stderr",
     "output_type": "stream",
     "text": [
      "C:\\Users\\Raj\\AppData\\Local\\Temp\\ipykernel_29048\\2168445501.py:6: FutureWarning: The frame.append method is deprecated and will be removed from pandas in a future version. Use pandas.concat instead.\n",
      "  df = df.append(scrape_page(topic[\"topic\"], topic[\"url\"]), ignore_index=True)\n",
      " 55%|█████▍    | 796/1452 [17:09<14:20,  1.31s/it]"
     ]
    },
    {
     "name": "stdout",
     "output_type": "stream",
     "text": [
      "Scraping Mallet Toes...\n",
      "Found 11 sections for Mallet Toes\n"
     ]
    },
    {
     "name": "stderr",
     "output_type": "stream",
     "text": [
      "C:\\Users\\Raj\\AppData\\Local\\Temp\\ipykernel_29048\\2168445501.py:6: FutureWarning: The frame.append method is deprecated and will be removed from pandas in a future version. Use pandas.concat instead.\n",
      "  df = df.append(scrape_page(topic[\"topic\"], topic[\"url\"]), ignore_index=True)\n",
      " 55%|█████▍    | 797/1452 [17:10<14:05,  1.29s/it]"
     ]
    },
    {
     "name": "stdout",
     "output_type": "stream",
     "text": [
      "Scraping Malocclusion and Orthodontics...\n",
      "Found 5 sections for Malocclusion and Orthodontics\n"
     ]
    },
    {
     "name": "stderr",
     "output_type": "stream",
     "text": [
      "C:\\Users\\Raj\\AppData\\Local\\Temp\\ipykernel_29048\\2168445501.py:6: FutureWarning: The frame.append method is deprecated and will be removed from pandas in a future version. Use pandas.concat instead.\n",
      "  df = df.append(scrape_page(topic[\"topic\"], topic[\"url\"]), ignore_index=True)\n",
      " 55%|█████▍    | 798/1452 [17:11<13:53,  1.27s/it]"
     ]
    },
    {
     "name": "stdout",
     "output_type": "stream",
     "text": [
      "Scraping Maltreatment, Child...\n",
      "Found 12 sections for Maltreatment, Child\n"
     ]
    },
    {
     "name": "stderr",
     "output_type": "stream",
     "text": [
      "C:\\Users\\Raj\\AppData\\Local\\Temp\\ipykernel_29048\\2168445501.py:6: FutureWarning: The frame.append method is deprecated and will be removed from pandas in a future version. Use pandas.concat instead.\n",
      "  df = df.append(scrape_page(topic[\"topic\"], topic[\"url\"]), ignore_index=True)\n",
      " 55%|█████▌    | 799/1452 [17:12<13:43,  1.26s/it]"
     ]
    },
    {
     "name": "stdout",
     "output_type": "stream",
     "text": [
      "Scraping Mammary Paget's Disease...\n",
      "Found 10 sections for Mammary Paget's Disease\n"
     ]
    },
    {
     "name": "stderr",
     "output_type": "stream",
     "text": [
      "C:\\Users\\Raj\\AppData\\Local\\Temp\\ipykernel_29048\\2168445501.py:6: FutureWarning: The frame.append method is deprecated and will be removed from pandas in a future version. Use pandas.concat instead.\n",
      "  df = df.append(scrape_page(topic[\"topic\"], topic[\"url\"]), ignore_index=True)\n",
      " 55%|█████▌    | 800/1452 [17:14<13:43,  1.26s/it]"
     ]
    },
    {
     "name": "stdout",
     "output_type": "stream",
     "text": [
      "Scraping Managing a Headache...\n",
      "Found 8 sections for Managing a Headache\n"
     ]
    },
    {
     "name": "stderr",
     "output_type": "stream",
     "text": [
      "C:\\Users\\Raj\\AppData\\Local\\Temp\\ipykernel_29048\\2168445501.py:6: FutureWarning: The frame.append method is deprecated and will be removed from pandas in a future version. Use pandas.concat instead.\n",
      "  df = df.append(scrape_page(topic[\"topic\"], topic[\"url\"]), ignore_index=True)\n",
      " 55%|█████▌    | 801/1452 [17:15<15:30,  1.43s/it]"
     ]
    },
    {
     "name": "stdout",
     "output_type": "stream",
     "text": [
      "Scraping Managing a Manic Episode...\n",
      "Found 11 sections for Managing a Manic Episode\n"
     ]
    },
    {
     "name": "stderr",
     "output_type": "stream",
     "text": [
      "C:\\Users\\Raj\\AppData\\Local\\Temp\\ipykernel_29048\\2168445501.py:6: FutureWarning: The frame.append method is deprecated and will be removed from pandas in a future version. Use pandas.concat instead.\n",
      "  df = df.append(scrape_page(topic[\"topic\"], topic[\"url\"]), ignore_index=True)\n",
      " 55%|█████▌    | 802/1452 [17:17<14:57,  1.38s/it]"
     ]
    },
    {
     "name": "stdout",
     "output_type": "stream",
     "text": [
      "Scraping Managing an Episode of Croup...\n",
      "Found 3 sections for Managing an Episode of Croup\n"
     ]
    },
    {
     "name": "stderr",
     "output_type": "stream",
     "text": [
      "C:\\Users\\Raj\\AppData\\Local\\Temp\\ipykernel_29048\\2168445501.py:6: FutureWarning: The frame.append method is deprecated and will be removed from pandas in a future version. Use pandas.concat instead.\n",
      "  df = df.append(scrape_page(topic[\"topic\"], topic[\"url\"]), ignore_index=True)\n",
      " 55%|█████▌    | 803/1452 [17:18<14:25,  1.33s/it]"
     ]
    },
    {
     "name": "stdout",
     "output_type": "stream",
     "text": [
      "Scraping Managing Eating Problems After a Stroke...\n",
      "Found 3 sections for Managing Eating Problems After a Stroke\n"
     ]
    },
    {
     "name": "stderr",
     "output_type": "stream",
     "text": [
      "C:\\Users\\Raj\\AppData\\Local\\Temp\\ipykernel_29048\\2168445501.py:6: FutureWarning: The frame.append method is deprecated and will be removed from pandas in a future version. Use pandas.concat instead.\n",
      "  df = df.append(scrape_page(topic[\"topic\"], topic[\"url\"]), ignore_index=True)\n",
      " 55%|█████▌    | 804/1452 [17:19<14:08,  1.31s/it]"
     ]
    },
    {
     "name": "stdout",
     "output_type": "stream",
     "text": [
      "Scraping Managing Hot Flashes...\n",
      "Found 6 sections for Managing Hot Flashes\n"
     ]
    },
    {
     "name": "stderr",
     "output_type": "stream",
     "text": [
      "C:\\Users\\Raj\\AppData\\Local\\Temp\\ipykernel_29048\\2168445501.py:6: FutureWarning: The frame.append method is deprecated and will be removed from pandas in a future version. Use pandas.concat instead.\n",
      "  df = df.append(scrape_page(topic[\"topic\"], topic[\"url\"]), ignore_index=True)\n",
      " 55%|█████▌    | 805/1452 [17:20<13:57,  1.30s/it]"
     ]
    },
    {
     "name": "stdout",
     "output_type": "stream",
     "text": [
      "Scraping Managing Job Stress...\n",
      "Found 5 sections for Managing Job Stress\n"
     ]
    },
    {
     "name": "stderr",
     "output_type": "stream",
     "text": [
      "C:\\Users\\Raj\\AppData\\Local\\Temp\\ipykernel_29048\\2168445501.py:6: FutureWarning: The frame.append method is deprecated and will be removed from pandas in a future version. Use pandas.concat instead.\n",
      "  df = df.append(scrape_page(topic[\"topic\"], topic[\"url\"]), ignore_index=True)\n",
      " 56%|█████▌    | 806/1452 [17:22<13:42,  1.27s/it]"
     ]
    },
    {
     "name": "stdout",
     "output_type": "stream",
     "text": [
      "Scraping Managing Morning Sickness...\n",
      "Found 6 sections for Managing Morning Sickness\n"
     ]
    },
    {
     "name": "stderr",
     "output_type": "stream",
     "text": [
      "C:\\Users\\Raj\\AppData\\Local\\Temp\\ipykernel_29048\\2168445501.py:6: FutureWarning: The frame.append method is deprecated and will be removed from pandas in a future version. Use pandas.concat instead.\n",
      "  df = df.append(scrape_page(topic[\"topic\"], topic[\"url\"]), ignore_index=True)\n",
      " 56%|█████▌    | 807/1452 [17:23<13:37,  1.27s/it]"
     ]
    },
    {
     "name": "stdout",
     "output_type": "stream",
     "text": [
      "Scraping Managing Poor Eyesight from Diabetes...\n",
      "Found 12 sections for Managing Poor Eyesight from Diabetes\n"
     ]
    },
    {
     "name": "stderr",
     "output_type": "stream",
     "text": [
      "C:\\Users\\Raj\\AppData\\Local\\Temp\\ipykernel_29048\\2168445501.py:6: FutureWarning: The frame.append method is deprecated and will be removed from pandas in a future version. Use pandas.concat instead.\n",
      "  df = df.append(scrape_page(topic[\"topic\"], topic[\"url\"]), ignore_index=True)\n",
      " 56%|█████▌    | 808/1452 [17:24<13:33,  1.26s/it]"
     ]
    },
    {
     "name": "stdout",
     "output_type": "stream",
     "text": [
      "Scraping Managing your Feelings of Grief...\n",
      "Found 9 sections for Managing your Feelings of Grief\n"
     ]
    },
    {
     "name": "stderr",
     "output_type": "stream",
     "text": [
      "C:\\Users\\Raj\\AppData\\Local\\Temp\\ipykernel_29048\\2168445501.py:6: FutureWarning: The frame.append method is deprecated and will be removed from pandas in a future version. Use pandas.concat instead.\n",
      "  df = df.append(scrape_page(topic[\"topic\"], topic[\"url\"]), ignore_index=True)\n",
      " 56%|█████▌    | 809/1452 [17:25<13:25,  1.25s/it]"
     ]
    },
    {
     "name": "stdout",
     "output_type": "stream",
     "text": [
      "Scraping Mandibular Ameloblastoma...\n",
      "Found 5 sections for Mandibular Ameloblastoma\n"
     ]
    },
    {
     "name": "stderr",
     "output_type": "stream",
     "text": [
      "C:\\Users\\Raj\\AppData\\Local\\Temp\\ipykernel_29048\\2168445501.py:6: FutureWarning: The frame.append method is deprecated and will be removed from pandas in a future version. Use pandas.concat instead.\n",
      "  df = df.append(scrape_page(topic[\"topic\"], topic[\"url\"]), ignore_index=True)\n",
      " 56%|█████▌    | 810/1452 [17:27<13:21,  1.25s/it]"
     ]
    },
    {
     "name": "stdout",
     "output_type": "stream",
     "text": [
      "Scraping Manic Depression in Children and Teens...\n",
      "Found 6 sections for Manic Depression in Children and Teens\n"
     ]
    },
    {
     "name": "stderr",
     "output_type": "stream",
     "text": [
      "C:\\Users\\Raj\\AppData\\Local\\Temp\\ipykernel_29048\\2168445501.py:6: FutureWarning: The frame.append method is deprecated and will be removed from pandas in a future version. Use pandas.concat instead.\n",
      "  df = df.append(scrape_page(topic[\"topic\"], topic[\"url\"]), ignore_index=True)\n",
      " 56%|█████▌    | 811/1452 [17:28<13:18,  1.24s/it]"
     ]
    },
    {
     "name": "stdout",
     "output_type": "stream",
     "text": [
      "Scraping Manic-Depressive Disorder...\n",
      "Found 16 sections for Manic-Depressive Disorder\n"
     ]
    },
    {
     "name": "stderr",
     "output_type": "stream",
     "text": [
      "C:\\Users\\Raj\\AppData\\Local\\Temp\\ipykernel_29048\\2168445501.py:6: FutureWarning: The frame.append method is deprecated and will be removed from pandas in a future version. Use pandas.concat instead.\n",
      "  df = df.append(scrape_page(topic[\"topic\"], topic[\"url\"]), ignore_index=True)\n",
      " 56%|█████▌    | 812/1452 [17:29<13:16,  1.24s/it]"
     ]
    },
    {
     "name": "stdout",
     "output_type": "stream",
     "text": [
      "Scraping Manual Therapy or Bodywork...\n",
      "Found 22 sections for Manual Therapy or Bodywork\n"
     ]
    },
    {
     "name": "stderr",
     "output_type": "stream",
     "text": [
      "C:\\Users\\Raj\\AppData\\Local\\Temp\\ipykernel_29048\\2168445501.py:6: FutureWarning: The frame.append method is deprecated and will be removed from pandas in a future version. Use pandas.concat instead.\n",
      "  df = df.append(scrape_page(topic[\"topic\"], topic[\"url\"]), ignore_index=True)\n",
      " 56%|█████▌    | 813/1452 [17:30<13:13,  1.24s/it]"
     ]
    },
    {
     "name": "stdout",
     "output_type": "stream",
     "text": [
      "Scraping Meralgia Paresthetica...\n",
      "Found 7 sections for Meralgia Paresthetica\n"
     ]
    },
    {
     "name": "stderr",
     "output_type": "stream",
     "text": [
      "C:\\Users\\Raj\\AppData\\Local\\Temp\\ipykernel_29048\\2168445501.py:6: FutureWarning: The frame.append method is deprecated and will be removed from pandas in a future version. Use pandas.concat instead.\n",
      "  df = df.append(scrape_page(topic[\"topic\"], topic[\"url\"]), ignore_index=True)\n",
      " 56%|█████▌    | 814/1452 [17:32<13:21,  1.26s/it]"
     ]
    },
    {
     "name": "stdout",
     "output_type": "stream",
     "text": [
      "Scraping Metastatic Melanoma...\n",
      "Found 15 sections for Metastatic Melanoma\n"
     ]
    },
    {
     "name": "stderr",
     "output_type": "stream",
     "text": [
      "C:\\Users\\Raj\\AppData\\Local\\Temp\\ipykernel_29048\\2168445501.py:6: FutureWarning: The frame.append method is deprecated and will be removed from pandas in a future version. Use pandas.concat instead.\n",
      "  df = df.append(scrape_page(topic[\"topic\"], topic[\"url\"]), ignore_index=True)\n",
      " 56%|█████▌    | 815/1452 [17:33<13:34,  1.28s/it]C:\\Users\\Raj\\AppData\\Local\\Temp\\ipykernel_29048\\2168445501.py:6: FutureWarning: The frame.append method is deprecated and will be removed from pandas in a future version. Use pandas.concat instead.\n",
      "  df = df.append(scrape_page(topic[\"topic\"], topic[\"url\"]), ignore_index=True)\n"
     ]
    },
    {
     "name": "stdout",
     "output_type": "stream",
     "text": [
      "Scraping MG...\n",
      "Found 8 sections for MG\n"
     ]
    },
    {
     "name": "stderr",
     "output_type": "stream",
     "text": [
      " 56%|█████▌    | 816/1452 [17:34<13:15,  1.25s/it]"
     ]
    },
    {
     "name": "stdout",
     "output_type": "stream",
     "text": [
      "Scraping Microangiopathic Hemolytic Anemia...\n",
      "Found 19 sections for Microangiopathic Hemolytic Anemia\n"
     ]
    },
    {
     "name": "stderr",
     "output_type": "stream",
     "text": [
      "C:\\Users\\Raj\\AppData\\Local\\Temp\\ipykernel_29048\\2168445501.py:6: FutureWarning: The frame.append method is deprecated and will be removed from pandas in a future version. Use pandas.concat instead.\n",
      "  df = df.append(scrape_page(topic[\"topic\"], topic[\"url\"]), ignore_index=True)\n",
      " 56%|█████▋    | 817/1452 [17:35<13:12,  1.25s/it]C:\\Users\\Raj\\AppData\\Local\\Temp\\ipykernel_29048\\2168445501.py:6: FutureWarning: The frame.append method is deprecated and will be removed from pandas in a future version. Use pandas.concat instead.\n",
      "  df = df.append(scrape_page(topic[\"topic\"], topic[\"url\"]), ignore_index=True)\n"
     ]
    },
    {
     "name": "stdout",
     "output_type": "stream",
     "text": [
      "Scraping Micropolygyria with Muscular Dystrophy...\n",
      "Found 13 sections for Micropolygyria with Muscular Dystrophy\n"
     ]
    },
    {
     "name": "stderr",
     "output_type": "stream",
     "text": [
      " 56%|█████▋    | 818/1452 [17:37<13:00,  1.23s/it]"
     ]
    },
    {
     "name": "stdout",
     "output_type": "stream",
     "text": [
      "Scraping Middle Ear Infection...\n",
      "Found 3 sections for Middle Ear Infection\n"
     ]
    },
    {
     "name": "stderr",
     "output_type": "stream",
     "text": [
      "C:\\Users\\Raj\\AppData\\Local\\Temp\\ipykernel_29048\\2168445501.py:6: FutureWarning: The frame.append method is deprecated and will be removed from pandas in a future version. Use pandas.concat instead.\n",
      "  df = df.append(scrape_page(topic[\"topic\"], topic[\"url\"]), ignore_index=True)\n",
      " 56%|█████▋    | 819/1452 [17:38<12:59,  1.23s/it]"
     ]
    },
    {
     "name": "stdout",
     "output_type": "stream",
     "text": [
      "Scraping Milk Allergy...\n",
      "Found 5 sections for Milk Allergy\n"
     ]
    },
    {
     "name": "stderr",
     "output_type": "stream",
     "text": [
      "C:\\Users\\Raj\\AppData\\Local\\Temp\\ipykernel_29048\\2168445501.py:6: FutureWarning: The frame.append method is deprecated and will be removed from pandas in a future version. Use pandas.concat instead.\n",
      "  df = df.append(scrape_page(topic[\"topic\"], topic[\"url\"]), ignore_index=True)\n",
      " 56%|█████▋    | 820/1452 [17:39<13:01,  1.24s/it]C:\\Users\\Raj\\AppData\\Local\\Temp\\ipykernel_29048\\2168445501.py:6: FutureWarning: The frame.append method is deprecated and will be removed from pandas in a future version. Use pandas.concat instead.\n",
      "  df = df.append(scrape_page(topic[\"topic\"], topic[\"url\"]), ignore_index=True)\n"
     ]
    },
    {
     "name": "stdout",
     "output_type": "stream",
     "text": [
      "Scraping Milk Intolerance...\n",
      "Found 9 sections for Milk Intolerance\n"
     ]
    },
    {
     "name": "stderr",
     "output_type": "stream",
     "text": [
      " 57%|█████▋    | 821/1452 [17:40<12:50,  1.22s/it]"
     ]
    },
    {
     "name": "stdout",
     "output_type": "stream",
     "text": [
      "Scraping Milk Thistle...\n",
      "Found 9 sections for Milk Thistle\n"
     ]
    },
    {
     "name": "stderr",
     "output_type": "stream",
     "text": [
      "C:\\Users\\Raj\\AppData\\Local\\Temp\\ipykernel_29048\\2168445501.py:6: FutureWarning: The frame.append method is deprecated and will be removed from pandas in a future version. Use pandas.concat instead.\n",
      "  df = df.append(scrape_page(topic[\"topic\"], topic[\"url\"]), ignore_index=True)\n",
      " 57%|█████▋    | 822/1452 [17:41<12:54,  1.23s/it]"
     ]
    },
    {
     "name": "stdout",
     "output_type": "stream",
     "text": [
      "Scraping Mini-Stroke (TIA)...\n",
      "Found 6 sections for Mini-Stroke (TIA)\n"
     ]
    },
    {
     "name": "stderr",
     "output_type": "stream",
     "text": [
      "C:\\Users\\Raj\\AppData\\Local\\Temp\\ipykernel_29048\\2168445501.py:6: FutureWarning: The frame.append method is deprecated and will be removed from pandas in a future version. Use pandas.concat instead.\n",
      "  df = df.append(scrape_page(topic[\"topic\"], topic[\"url\"]), ignore_index=True)\n",
      " 57%|█████▋    | 823/1452 [17:43<12:52,  1.23s/it]"
     ]
    },
    {
     "name": "stdout",
     "output_type": "stream",
     "text": [
      "Scraping Miscarriage...\n",
      "Found 11 sections for Miscarriage\n"
     ]
    },
    {
     "name": "stderr",
     "output_type": "stream",
     "text": [
      "C:\\Users\\Raj\\AppData\\Local\\Temp\\ipykernel_29048\\2168445501.py:6: FutureWarning: The frame.append method is deprecated and will be removed from pandas in a future version. Use pandas.concat instead.\n",
      "  df = df.append(scrape_page(topic[\"topic\"], topic[\"url\"]), ignore_index=True)\n",
      " 57%|█████▋    | 824/1452 [17:44<12:53,  1.23s/it]"
     ]
    },
    {
     "name": "stdout",
     "output_type": "stream",
     "text": [
      "Scraping Misophonia...\n",
      "Found 7 sections for Misophonia\n"
     ]
    },
    {
     "name": "stderr",
     "output_type": "stream",
     "text": [
      "C:\\Users\\Raj\\AppData\\Local\\Temp\\ipykernel_29048\\2168445501.py:6: FutureWarning: The frame.append method is deprecated and will be removed from pandas in a future version. Use pandas.concat instead.\n",
      "  df = df.append(scrape_page(topic[\"topic\"], topic[\"url\"]), ignore_index=True)\n",
      " 57%|█████▋    | 825/1452 [17:45<13:00,  1.24s/it]C:\\Users\\Raj\\AppData\\Local\\Temp\\ipykernel_29048\\2168445501.py:6: FutureWarning: The frame.append method is deprecated and will be removed from pandas in a future version. Use pandas.concat instead.\n",
      "  df = df.append(scrape_page(topic[\"topic\"], topic[\"url\"]), ignore_index=True)\n"
     ]
    },
    {
     "name": "stdout",
     "output_type": "stream",
     "text": [
      "Scraping Missed Period...\n",
      "Found 7 sections for Missed Period\n"
     ]
    },
    {
     "name": "stderr",
     "output_type": "stream",
     "text": [
      " 57%|█████▋    | 826/1452 [17:46<12:54,  1.24s/it]"
     ]
    },
    {
     "name": "stdout",
     "output_type": "stream",
     "text": [
      "Scraping Mitchell Disease...\n",
      "Found 6 sections for Mitchell Disease\n"
     ]
    },
    {
     "name": "stderr",
     "output_type": "stream",
     "text": [
      "C:\\Users\\Raj\\AppData\\Local\\Temp\\ipykernel_29048\\2168445501.py:6: FutureWarning: The frame.append method is deprecated and will be removed from pandas in a future version. Use pandas.concat instead.\n",
      "  df = df.append(scrape_page(topic[\"topic\"], topic[\"url\"]), ignore_index=True)\n",
      " 57%|█████▋    | 827/1452 [17:48<12:51,  1.23s/it]"
     ]
    },
    {
     "name": "stdout",
     "output_type": "stream",
     "text": [
      "Scraping Mitral Valve Regurgitation...\n",
      "Found 10 sections for Mitral Valve Regurgitation\n"
     ]
    },
    {
     "name": "stderr",
     "output_type": "stream",
     "text": [
      "C:\\Users\\Raj\\AppData\\Local\\Temp\\ipykernel_29048\\2168445501.py:6: FutureWarning: The frame.append method is deprecated and will be removed from pandas in a future version. Use pandas.concat instead.\n",
      "  df = df.append(scrape_page(topic[\"topic\"], topic[\"url\"]), ignore_index=True)\n",
      " 57%|█████▋    | 828/1452 [17:49<12:49,  1.23s/it]C:\\Users\\Raj\\AppData\\Local\\Temp\\ipykernel_29048\\2168445501.py:6: FutureWarning: The frame.append method is deprecated and will be removed from pandas in a future version. Use pandas.concat instead.\n",
      "  df = df.append(scrape_page(topic[\"topic\"], topic[\"url\"]), ignore_index=True)\n"
     ]
    },
    {
     "name": "stdout",
     "output_type": "stream",
     "text": [
      "Scraping Mixed Connective Tissue Disease (MCTD)...\n",
      "Found 6 sections for Mixed Connective Tissue Disease (MCTD)\n"
     ]
    },
    {
     "name": "stderr",
     "output_type": "stream",
     "text": [
      " 57%|█████▋    | 829/1452 [17:50<12:45,  1.23s/it]"
     ]
    },
    {
     "name": "stdout",
     "output_type": "stream",
     "text": [
      "Scraping Mixed Hepatic Porphyria...\n",
      "Found 13 sections for Mixed Hepatic Porphyria\n"
     ]
    },
    {
     "name": "stderr",
     "output_type": "stream",
     "text": [
      "C:\\Users\\Raj\\AppData\\Local\\Temp\\ipykernel_29048\\2168445501.py:6: FutureWarning: The frame.append method is deprecated and will be removed from pandas in a future version. Use pandas.concat instead.\n",
      "  df = df.append(scrape_page(topic[\"topic\"], topic[\"url\"]), ignore_index=True)\n",
      " 57%|█████▋    | 830/1452 [17:51<12:44,  1.23s/it]"
     ]
    },
    {
     "name": "stdout",
     "output_type": "stream",
     "text": [
      "Scraping Molar Pregnancy...\n",
      "Found 8 sections for Molar Pregnancy\n"
     ]
    },
    {
     "name": "stderr",
     "output_type": "stream",
     "text": [
      "C:\\Users\\Raj\\AppData\\Local\\Temp\\ipykernel_29048\\2168445501.py:6: FutureWarning: The frame.append method is deprecated and will be removed from pandas in a future version. Use pandas.concat instead.\n",
      "  df = df.append(scrape_page(topic[\"topic\"], topic[\"url\"]), ignore_index=True)\n",
      " 57%|█████▋    | 831/1452 [17:53<12:47,  1.24s/it]C:\\Users\\Raj\\AppData\\Local\\Temp\\ipykernel_29048\\2168445501.py:6: FutureWarning: The frame.append method is deprecated and will be removed from pandas in a future version. Use pandas.concat instead.\n",
      "  df = df.append(scrape_page(topic[\"topic\"], topic[\"url\"]), ignore_index=True)\n"
     ]
    },
    {
     "name": "stdout",
     "output_type": "stream",
     "text": [
      "Scraping Moles...\n",
      "Found 20 sections for Moles\n"
     ]
    },
    {
     "name": "stderr",
     "output_type": "stream",
     "text": [
      " 57%|█████▋    | 832/1452 [17:54<12:43,  1.23s/it]"
     ]
    },
    {
     "name": "stdout",
     "output_type": "stream",
     "text": [
      "Scraping Molluscum Contagiosum...\n",
      "Found 7 sections for Molluscum Contagiosum\n"
     ]
    },
    {
     "name": "stderr",
     "output_type": "stream",
     "text": [
      "C:\\Users\\Raj\\AppData\\Local\\Temp\\ipykernel_29048\\2168445501.py:6: FutureWarning: The frame.append method is deprecated and will be removed from pandas in a future version. Use pandas.concat instead.\n",
      "  df = df.append(scrape_page(topic[\"topic\"], topic[\"url\"]), ignore_index=True)\n",
      " 57%|█████▋    | 833/1452 [17:56<15:17,  1.48s/it]"
     ]
    },
    {
     "name": "stdout",
     "output_type": "stream",
     "text": [
      "Scraping Monitoring your Blood Pressure at home...\n",
      "Found 10 sections for Monitoring your Blood Pressure at home\n"
     ]
    },
    {
     "name": "stderr",
     "output_type": "stream",
     "text": [
      "C:\\Users\\Raj\\AppData\\Local\\Temp\\ipykernel_29048\\2168445501.py:6: FutureWarning: The frame.append method is deprecated and will be removed from pandas in a future version. Use pandas.concat instead.\n",
      "  df = df.append(scrape_page(topic[\"topic\"], topic[\"url\"]), ignore_index=True)\n",
      " 57%|█████▋    | 834/1452 [17:57<14:32,  1.41s/it]"
     ]
    },
    {
     "name": "stdout",
     "output_type": "stream",
     "text": [
      "Scraping Mono (Infectious Mononucleosis)...\n",
      "Found 8 sections for Mono (Infectious Mononucleosis)\n"
     ]
    },
    {
     "name": "stderr",
     "output_type": "stream",
     "text": [
      "C:\\Users\\Raj\\AppData\\Local\\Temp\\ipykernel_29048\\2168445501.py:6: FutureWarning: The frame.append method is deprecated and will be removed from pandas in a future version. Use pandas.concat instead.\n",
      "  df = df.append(scrape_page(topic[\"topic\"], topic[\"url\"]), ignore_index=True)\n",
      " 58%|█████▊    | 835/1452 [17:58<14:10,  1.38s/it]"
     ]
    },
    {
     "name": "stdout",
     "output_type": "stream",
     "text": [
      "Scraping Monomodal Visual Amnesia...\n",
      "Found 8 sections for Monomodal Visual Amnesia\n"
     ]
    },
    {
     "name": "stderr",
     "output_type": "stream",
     "text": [
      "C:\\Users\\Raj\\AppData\\Local\\Temp\\ipykernel_29048\\2168445501.py:6: FutureWarning: The frame.append method is deprecated and will be removed from pandas in a future version. Use pandas.concat instead.\n",
      "  df = df.append(scrape_page(topic[\"topic\"], topic[\"url\"]), ignore_index=True)\n",
      " 58%|█████▊    | 836/1452 [18:00<13:43,  1.34s/it]C:\\Users\\Raj\\AppData\\Local\\Temp\\ipykernel_29048\\2168445501.py:6: FutureWarning: The frame.append method is deprecated and will be removed from pandas in a future version. Use pandas.concat instead.\n",
      "  df = df.append(scrape_page(topic[\"topic\"], topic[\"url\"]), ignore_index=True)\n"
     ]
    },
    {
     "name": "stdout",
     "output_type": "stream",
     "text": [
      "Scraping Morgagni-Turner-Albright Syndrome...\n",
      "Found 9 sections for Morgagni-Turner-Albright Syndrome\n"
     ]
    },
    {
     "name": "stderr",
     "output_type": "stream",
     "text": [
      " 58%|█████▊    | 837/1452 [18:01<13:21,  1.30s/it]C:\\Users\\Raj\\AppData\\Local\\Temp\\ipykernel_29048\\2168445501.py:6: FutureWarning: The frame.append method is deprecated and will be removed from pandas in a future version. Use pandas.concat instead.\n",
      "  df = df.append(scrape_page(topic[\"topic\"], topic[\"url\"]), ignore_index=True)\n"
     ]
    },
    {
     "name": "stdout",
     "output_type": "stream",
     "text": [
      "Scraping Morning Sickness...\n",
      "Found 6 sections for Morning Sickness\n"
     ]
    },
    {
     "name": "stderr",
     "output_type": "stream",
     "text": [
      " 58%|█████▊    | 838/1452 [18:02<13:01,  1.27s/it]"
     ]
    },
    {
     "name": "stdout",
     "output_type": "stream",
     "text": [
      "Scraping Morvan Disease -- Syringomyelia...\n",
      "Found 7 sections for Morvan Disease -- Syringomyelia\n"
     ]
    },
    {
     "name": "stderr",
     "output_type": "stream",
     "text": [
      "C:\\Users\\Raj\\AppData\\Local\\Temp\\ipykernel_29048\\2168445501.py:6: FutureWarning: The frame.append method is deprecated and will be removed from pandas in a future version. Use pandas.concat instead.\n",
      "  df = df.append(scrape_page(topic[\"topic\"], topic[\"url\"]), ignore_index=True)\n",
      " 58%|█████▊    | 839/1452 [18:03<13:00,  1.27s/it]C:\\Users\\Raj\\AppData\\Local\\Temp\\ipykernel_29048\\2168445501.py:6: FutureWarning: The frame.append method is deprecated and will be removed from pandas in a future version. Use pandas.concat instead.\n",
      "  df = df.append(scrape_page(topic[\"topic\"], topic[\"url\"]), ignore_index=True)\n"
     ]
    },
    {
     "name": "stdout",
     "output_type": "stream",
     "text": [
      "Scraping Motion Sickness...\n",
      "Found 11 sections for Motion Sickness\n"
     ]
    },
    {
     "name": "stderr",
     "output_type": "stream",
     "text": [
      " 58%|█████▊    | 840/1452 [18:05<12:49,  1.26s/it]"
     ]
    },
    {
     "name": "stdout",
     "output_type": "stream",
     "text": [
      "Scraping Motor Neuron Disease...\n"
     ]
    },
    {
     "name": "stderr",
     "output_type": "stream",
     "text": [
      "C:\\Users\\Raj\\AppData\\Local\\Temp\\ipykernel_29048\\2168445501.py:6: FutureWarning: The frame.append method is deprecated and will be removed from pandas in a future version. Use pandas.concat instead.\n",
      "  df = df.append(scrape_page(topic[\"topic\"], topic[\"url\"]), ignore_index=True)\n",
      " 58%|█████▊    | 841/1452 [18:06<12:51,  1.26s/it]"
     ]
    },
    {
     "name": "stdout",
     "output_type": "stream",
     "text": [
      "Scraping Mountain Fever...\n",
      "Found 8 sections for Mountain Fever\n"
     ]
    },
    {
     "name": "stderr",
     "output_type": "stream",
     "text": [
      "C:\\Users\\Raj\\AppData\\Local\\Temp\\ipykernel_29048\\2168445501.py:6: FutureWarning: The frame.append method is deprecated and will be removed from pandas in a future version. Use pandas.concat instead.\n",
      "  df = df.append(scrape_page(topic[\"topic\"], topic[\"url\"]), ignore_index=True)\n",
      " 58%|█████▊    | 842/1452 [18:07<12:47,  1.26s/it]"
     ]
    },
    {
     "name": "stdout",
     "output_type": "stream",
     "text": [
      "Scraping Mountain Sickness, Acute...\n",
      "Found 8 sections for Mountain Sickness, Acute\n"
     ]
    },
    {
     "name": "stderr",
     "output_type": "stream",
     "text": [
      "C:\\Users\\Raj\\AppData\\Local\\Temp\\ipykernel_29048\\2168445501.py:6: FutureWarning: The frame.append method is deprecated and will be removed from pandas in a future version. Use pandas.concat instead.\n",
      "  df = df.append(scrape_page(topic[\"topic\"], topic[\"url\"]), ignore_index=True)\n",
      " 58%|█████▊    | 843/1452 [18:08<12:48,  1.26s/it]"
     ]
    },
    {
     "name": "stdout",
     "output_type": "stream",
     "text": [
      "Scraping Mouth (Oral) Cancer...\n",
      "Found 9 sections for Mouth (Oral) Cancer\n"
     ]
    },
    {
     "name": "stderr",
     "output_type": "stream",
     "text": [
      "C:\\Users\\Raj\\AppData\\Local\\Temp\\ipykernel_29048\\2168445501.py:6: FutureWarning: The frame.append method is deprecated and will be removed from pandas in a future version. Use pandas.concat instead.\n",
      "  df = df.append(scrape_page(topic[\"topic\"], topic[\"url\"]), ignore_index=True)\n",
      " 58%|█████▊    | 844/1452 [18:10<12:44,  1.26s/it]"
     ]
    },
    {
     "name": "stdout",
     "output_type": "stream",
     "text": [
      "Scraping MPS...\n",
      "Found 14 sections for MPS\n"
     ]
    },
    {
     "name": "stderr",
     "output_type": "stream",
     "text": [
      "C:\\Users\\Raj\\AppData\\Local\\Temp\\ipykernel_29048\\2168445501.py:6: FutureWarning: The frame.append method is deprecated and will be removed from pandas in a future version. Use pandas.concat instead.\n",
      "  df = df.append(scrape_page(topic[\"topic\"], topic[\"url\"]), ignore_index=True)\n",
      " 58%|█████▊    | 845/1452 [18:11<12:40,  1.25s/it]C:\\Users\\Raj\\AppData\\Local\\Temp\\ipykernel_29048\\2168445501.py:6: FutureWarning: The frame.append method is deprecated and will be removed from pandas in a future version. Use pandas.concat instead.\n",
      "  df = df.append(scrape_page(topic[\"topic\"], topic[\"url\"]), ignore_index=True)\n"
     ]
    },
    {
     "name": "stdout",
     "output_type": "stream",
     "text": [
      "Scraping MPS Disorder...\n",
      "Found 14 sections for MPS Disorder\n"
     ]
    },
    {
     "name": "stderr",
     "output_type": "stream",
     "text": [
      " 58%|█████▊    | 846/1452 [18:12<12:28,  1.24s/it]"
     ]
    },
    {
     "name": "stdout",
     "output_type": "stream",
     "text": [
      "Scraping MPS Disorder I...\n",
      "Found 14 sections for MPS Disorder I\n"
     ]
    },
    {
     "name": "stderr",
     "output_type": "stream",
     "text": [
      "C:\\Users\\Raj\\AppData\\Local\\Temp\\ipykernel_29048\\2168445501.py:6: FutureWarning: The frame.append method is deprecated and will be removed from pandas in a future version. Use pandas.concat instead.\n",
      "  df = df.append(scrape_page(topic[\"topic\"], topic[\"url\"]), ignore_index=True)\n",
      " 58%|█████▊    | 847/1452 [18:14<13:20,  1.32s/it]C:\\Users\\Raj\\AppData\\Local\\Temp\\ipykernel_29048\\2168445501.py:6: FutureWarning: The frame.append method is deprecated and will be removed from pandas in a future version. Use pandas.concat instead.\n",
      "  df = df.append(scrape_page(topic[\"topic\"], topic[\"url\"]), ignore_index=True)\n"
     ]
    },
    {
     "name": "stdout",
     "output_type": "stream",
     "text": [
      "Scraping MPS Disorder II...\n",
      "Found 14 sections for MPS Disorder II\n"
     ]
    },
    {
     "name": "stderr",
     "output_type": "stream",
     "text": [
      " 58%|█████▊    | 848/1452 [18:15<12:57,  1.29s/it]C:\\Users\\Raj\\AppData\\Local\\Temp\\ipykernel_29048\\2168445501.py:6: FutureWarning: The frame.append method is deprecated and will be removed from pandas in a future version. Use pandas.concat instead.\n",
      "  df = df.append(scrape_page(topic[\"topic\"], topic[\"url\"]), ignore_index=True)\n"
     ]
    },
    {
     "name": "stdout",
     "output_type": "stream",
     "text": [
      "Scraping MPS I...\n",
      "Found 14 sections for MPS I\n"
     ]
    },
    {
     "name": "stderr",
     "output_type": "stream",
     "text": [
      " 58%|█████▊    | 849/1452 [18:16<12:44,  1.27s/it]C:\\Users\\Raj\\AppData\\Local\\Temp\\ipykernel_29048\\2168445501.py:6: FutureWarning: The frame.append method is deprecated and will be removed from pandas in a future version. Use pandas.concat instead.\n",
      "  df = df.append(scrape_page(topic[\"topic\"], topic[\"url\"]), ignore_index=True)\n"
     ]
    },
    {
     "name": "stdout",
     "output_type": "stream",
     "text": [
      "Scraping MPS II...\n",
      "Found 14 sections for MPS II\n"
     ]
    },
    {
     "name": "stderr",
     "output_type": "stream",
     "text": [
      " 59%|█████▊    | 850/1452 [18:17<12:31,  1.25s/it]"
     ]
    },
    {
     "name": "stdout",
     "output_type": "stream",
     "text": [
      "Scraping MRSA...\n",
      "Found 8 sections for MRSA\n"
     ]
    },
    {
     "name": "stderr",
     "output_type": "stream",
     "text": [
      "C:\\Users\\Raj\\AppData\\Local\\Temp\\ipykernel_29048\\2168445501.py:6: FutureWarning: The frame.append method is deprecated and will be removed from pandas in a future version. Use pandas.concat instead.\n",
      "  df = df.append(scrape_page(topic[\"topic\"], topic[\"url\"]), ignore_index=True)\n",
      " 59%|█████▊    | 851/1452 [18:18<12:26,  1.24s/it]"
     ]
    },
    {
     "name": "stdout",
     "output_type": "stream",
     "text": [
      "Scraping MSA...\n",
      "Found 6 sections for MSA\n"
     ]
    },
    {
     "name": "stderr",
     "output_type": "stream",
     "text": [
      "C:\\Users\\Raj\\AppData\\Local\\Temp\\ipykernel_29048\\2168445501.py:6: FutureWarning: The frame.append method is deprecated and will be removed from pandas in a future version. Use pandas.concat instead.\n",
      "  df = df.append(scrape_page(topic[\"topic\"], topic[\"url\"]), ignore_index=True)\n",
      " 59%|█████▊    | 852/1452 [18:20<12:26,  1.24s/it]C:\\Users\\Raj\\AppData\\Local\\Temp\\ipykernel_29048\\2168445501.py:6: FutureWarning: The frame.append method is deprecated and will be removed from pandas in a future version. Use pandas.concat instead.\n",
      "  df = df.append(scrape_page(topic[\"topic\"], topic[\"url\"]), ignore_index=True)\n"
     ]
    },
    {
     "name": "stdout",
     "output_type": "stream",
     "text": [
      "Scraping MSL...\n",
      "Found 8 sections for MSL\n"
     ]
    },
    {
     "name": "stderr",
     "output_type": "stream",
     "text": [
      " 59%|█████▊    | 853/1452 [18:21<12:19,  1.23s/it]C:\\Users\\Raj\\AppData\\Local\\Temp\\ipykernel_29048\\2168445501.py:6: FutureWarning: The frame.append method is deprecated and will be removed from pandas in a future version. Use pandas.concat instead.\n",
      "  df = df.append(scrape_page(topic[\"topic\"], topic[\"url\"]), ignore_index=True)\n"
     ]
    },
    {
     "name": "stdout",
     "output_type": "stream",
     "text": [
      "Scraping Mucopolysaccharidoses...\n",
      "Found 14 sections for Mucopolysaccharidoses\n"
     ]
    },
    {
     "name": "stderr",
     "output_type": "stream",
     "text": [
      " 59%|█████▉    | 854/1452 [18:22<12:13,  1.23s/it]C:\\Users\\Raj\\AppData\\Local\\Temp\\ipykernel_29048\\2168445501.py:6: FutureWarning: The frame.append method is deprecated and will be removed from pandas in a future version. Use pandas.concat instead.\n",
      "  df = df.append(scrape_page(topic[\"topic\"], topic[\"url\"]), ignore_index=True)\n"
     ]
    },
    {
     "name": "stdout",
     "output_type": "stream",
     "text": [
      "Scraping Mucopolysaccharidosis Type I...\n",
      "Found 14 sections for Mucopolysaccharidosis Type I\n"
     ]
    },
    {
     "name": "stderr",
     "output_type": "stream",
     "text": [
      " 59%|█████▉    | 855/1452 [18:23<12:06,  1.22s/it]C:\\Users\\Raj\\AppData\\Local\\Temp\\ipykernel_29048\\2168445501.py:6: FutureWarning: The frame.append method is deprecated and will be removed from pandas in a future version. Use pandas.concat instead.\n",
      "  df = df.append(scrape_page(topic[\"topic\"], topic[\"url\"]), ignore_index=True)\n"
     ]
    },
    {
     "name": "stdout",
     "output_type": "stream",
     "text": [
      "Scraping Mucopolysaccharidosis Type II...\n",
      "Found 14 sections for Mucopolysaccharidosis Type II\n"
     ]
    },
    {
     "name": "stderr",
     "output_type": "stream",
     "text": [
      " 59%|█████▉    | 856/1452 [18:24<12:00,  1.21s/it]"
     ]
    },
    {
     "name": "stdout",
     "output_type": "stream",
     "text": [
      "Scraping Mucous Membrane Pemphigoid...\n",
      "Found 10 sections for Mucous Membrane Pemphigoid\n"
     ]
    },
    {
     "name": "stderr",
     "output_type": "stream",
     "text": [
      "C:\\Users\\Raj\\AppData\\Local\\Temp\\ipykernel_29048\\2168445501.py:6: FutureWarning: The frame.append method is deprecated and will be removed from pandas in a future version. Use pandas.concat instead.\n",
      "  df = df.append(scrape_page(topic[\"topic\"], topic[\"url\"]), ignore_index=True)\n",
      " 59%|█████▉    | 857/1452 [18:26<12:20,  1.24s/it]"
     ]
    },
    {
     "name": "stdout",
     "output_type": "stream",
     "text": [
      "Scraping Mud Fever...\n",
      "Found 11 sections for Mud Fever\n"
     ]
    },
    {
     "name": "stderr",
     "output_type": "stream",
     "text": [
      "C:\\Users\\Raj\\AppData\\Local\\Temp\\ipykernel_29048\\2168445501.py:6: FutureWarning: The frame.append method is deprecated and will be removed from pandas in a future version. Use pandas.concat instead.\n",
      "  df = df.append(scrape_page(topic[\"topic\"], topic[\"url\"]), ignore_index=True)\n",
      " 59%|█████▉    | 858/1452 [18:27<12:16,  1.24s/it]"
     ]
    },
    {
     "name": "stdout",
     "output_type": "stream",
     "text": [
      "Scraping Multifocal Motor Neuropathy...\n"
     ]
    },
    {
     "name": "stderr",
     "output_type": "stream",
     "text": [
      "C:\\Users\\Raj\\AppData\\Local\\Temp\\ipykernel_29048\\2168445501.py:6: FutureWarning: The frame.append method is deprecated and will be removed from pandas in a future version. Use pandas.concat instead.\n",
      "  df = df.append(scrape_page(topic[\"topic\"], topic[\"url\"]), ignore_index=True)\n",
      " 59%|█████▉    | 859/1452 [18:28<12:20,  1.25s/it]"
     ]
    },
    {
     "name": "stdout",
     "output_type": "stream",
     "text": [
      "Scraping Multiple Endocrine Deficiency Syndrome...\n",
      "Found 8 sections for Multiple Endocrine Deficiency Syndrome\n"
     ]
    },
    {
     "name": "stderr",
     "output_type": "stream",
     "text": [
      "C:\\Users\\Raj\\AppData\\Local\\Temp\\ipykernel_29048\\2168445501.py:6: FutureWarning: The frame.append method is deprecated and will be removed from pandas in a future version. Use pandas.concat instead.\n",
      "  df = df.append(scrape_page(topic[\"topic\"], topic[\"url\"]), ignore_index=True)\n",
      " 59%|█████▉    | 860/1452 [18:30<12:18,  1.25s/it]"
     ]
    },
    {
     "name": "stdout",
     "output_type": "stream",
     "text": [
      "Scraping Multiple Lentigines Syndrome...\n",
      "Found 4 sections for Multiple Lentigines Syndrome\n"
     ]
    },
    {
     "name": "stderr",
     "output_type": "stream",
     "text": [
      "C:\\Users\\Raj\\AppData\\Local\\Temp\\ipykernel_29048\\2168445501.py:6: FutureWarning: The frame.append method is deprecated and will be removed from pandas in a future version. Use pandas.concat instead.\n",
      "  df = df.append(scrape_page(topic[\"topic\"], topic[\"url\"]), ignore_index=True)\n",
      " 59%|█████▉    | 861/1452 [18:31<13:44,  1.39s/it]"
     ]
    },
    {
     "name": "stdout",
     "output_type": "stream",
     "text": [
      "Scraping Multiple Myeloma...\n",
      "Found 18 sections for Multiple Myeloma\n"
     ]
    },
    {
     "name": "stderr",
     "output_type": "stream",
     "text": [
      "C:\\Users\\Raj\\AppData\\Local\\Temp\\ipykernel_29048\\2168445501.py:6: FutureWarning: The frame.append method is deprecated and will be removed from pandas in a future version. Use pandas.concat instead.\n",
      "  df = df.append(scrape_page(topic[\"topic\"], topic[\"url\"]), ignore_index=True)\n",
      " 59%|█████▉    | 862/1452 [18:33<13:14,  1.35s/it]"
     ]
    },
    {
     "name": "stdout",
     "output_type": "stream",
     "text": [
      "Scraping Multiple Peripheral Neuritis...\n",
      "Found 8 sections for Multiple Peripheral Neuritis\n"
     ]
    },
    {
     "name": "stderr",
     "output_type": "stream",
     "text": [
      "C:\\Users\\Raj\\AppData\\Local\\Temp\\ipykernel_29048\\2168445501.py:6: FutureWarning: The frame.append method is deprecated and will be removed from pandas in a future version. Use pandas.concat instead.\n",
      "  df = df.append(scrape_page(topic[\"topic\"], topic[\"url\"]), ignore_index=True)\n",
      " 59%|█████▉    | 863/1452 [18:34<12:52,  1.31s/it]"
     ]
    },
    {
     "name": "stdout",
     "output_type": "stream",
     "text": [
      "Scraping Multiple Polyposis of the Colon...\n",
      "Found 13 sections for Multiple Polyposis of the Colon\n"
     ]
    },
    {
     "name": "stderr",
     "output_type": "stream",
     "text": [
      "C:\\Users\\Raj\\AppData\\Local\\Temp\\ipykernel_29048\\2168445501.py:6: FutureWarning: The frame.append method is deprecated and will be removed from pandas in a future version. Use pandas.concat instead.\n",
      "  df = df.append(scrape_page(topic[\"topic\"], topic[\"url\"]), ignore_index=True)\n",
      " 60%|█████▉    | 864/1452 [18:35<12:42,  1.30s/it]"
     ]
    },
    {
     "name": "stdout",
     "output_type": "stream",
     "text": [
      "Scraping Multiple Pregnancy: Twins or More...\n",
      "Found 3 sections for Multiple Pregnancy: Twins or More\n"
     ]
    },
    {
     "name": "stderr",
     "output_type": "stream",
     "text": [
      "C:\\Users\\Raj\\AppData\\Local\\Temp\\ipykernel_29048\\2168445501.py:6: FutureWarning: The frame.append method is deprecated and will be removed from pandas in a future version. Use pandas.concat instead.\n",
      "  df = df.append(scrape_page(topic[\"topic\"], topic[\"url\"]), ignore_index=True)\n",
      " 60%|█████▉    | 865/1452 [18:36<12:28,  1.28s/it]"
     ]
    },
    {
     "name": "stdout",
     "output_type": "stream",
     "text": [
      "Scraping Multiple Sulfatase Deficiency...\n",
      "Found 7 sections for Multiple Sulfatase Deficiency\n"
     ]
    },
    {
     "name": "stderr",
     "output_type": "stream",
     "text": [
      "C:\\Users\\Raj\\AppData\\Local\\Temp\\ipykernel_29048\\2168445501.py:6: FutureWarning: The frame.append method is deprecated and will be removed from pandas in a future version. Use pandas.concat instead.\n",
      "  df = df.append(scrape_page(topic[\"topic\"], topic[\"url\"]), ignore_index=True)\n",
      " 60%|█████▉    | 866/1452 [18:37<12:20,  1.26s/it]"
     ]
    },
    {
     "name": "stdout",
     "output_type": "stream",
     "text": [
      "Scraping Multiple Symmetric Lipomatosis...\n",
      "Found 8 sections for Multiple Symmetric Lipomatosis\n"
     ]
    },
    {
     "name": "stderr",
     "output_type": "stream",
     "text": [
      "C:\\Users\\Raj\\AppData\\Local\\Temp\\ipykernel_29048\\2168445501.py:6: FutureWarning: The frame.append method is deprecated and will be removed from pandas in a future version. Use pandas.concat instead.\n",
      "  df = df.append(scrape_page(topic[\"topic\"], topic[\"url\"]), ignore_index=True)\n",
      " 60%|█████▉    | 867/1452 [18:39<12:16,  1.26s/it]"
     ]
    },
    {
     "name": "stdout",
     "output_type": "stream",
     "text": [
      "Scraping Mumps...\n",
      "Found 6 sections for Mumps\n"
     ]
    },
    {
     "name": "stderr",
     "output_type": "stream",
     "text": [
      "C:\\Users\\Raj\\AppData\\Local\\Temp\\ipykernel_29048\\2168445501.py:6: FutureWarning: The frame.append method is deprecated and will be removed from pandas in a future version. Use pandas.concat instead.\n",
      "  df = df.append(scrape_page(topic[\"topic\"], topic[\"url\"]), ignore_index=True)\n",
      " 60%|█████▉    | 868/1452 [18:40<12:13,  1.26s/it]"
     ]
    },
    {
     "name": "stdout",
     "output_type": "stream",
     "text": [
      "Scraping Munchausen Syndrome by Proxy...\n",
      "Found 9 sections for Munchausen Syndrome by Proxy\n"
     ]
    },
    {
     "name": "stderr",
     "output_type": "stream",
     "text": [
      "C:\\Users\\Raj\\AppData\\Local\\Temp\\ipykernel_29048\\2168445501.py:6: FutureWarning: The frame.append method is deprecated and will be removed from pandas in a future version. Use pandas.concat instead.\n",
      "  df = df.append(scrape_page(topic[\"topic\"], topic[\"url\"]), ignore_index=True)\n",
      " 60%|█████▉    | 869/1452 [18:41<12:09,  1.25s/it]"
     ]
    },
    {
     "name": "stdout",
     "output_type": "stream",
     "text": [
      "Scraping Murk Jansen Metaphyseal Chondrodysplasia...\n",
      "Found 7 sections for Murk Jansen Metaphyseal Chondrodysplasia\n"
     ]
    },
    {
     "name": "stderr",
     "output_type": "stream",
     "text": [
      "C:\\Users\\Raj\\AppData\\Local\\Temp\\ipykernel_29048\\2168445501.py:6: FutureWarning: The frame.append method is deprecated and will be removed from pandas in a future version. Use pandas.concat instead.\n",
      "  df = df.append(scrape_page(topic[\"topic\"], topic[\"url\"]), ignore_index=True)\n",
      " 60%|█████▉    | 870/1452 [18:42<12:09,  1.25s/it]C:\\Users\\Raj\\AppData\\Local\\Temp\\ipykernel_29048\\2168445501.py:6: FutureWarning: The frame.append method is deprecated and will be removed from pandas in a future version. Use pandas.concat instead.\n",
      "  df = df.append(scrape_page(topic[\"topic\"], topic[\"url\"]), ignore_index=True)\n"
     ]
    },
    {
     "name": "stdout",
     "output_type": "stream",
     "text": [
      "Scraping Muscular Dystrophies...\n",
      "Found 10 sections for Muscular Dystrophies\n"
     ]
    },
    {
     "name": "stderr",
     "output_type": "stream",
     "text": [
      " 60%|█████▉    | 871/1452 [18:44<12:02,  1.24s/it]C:\\Users\\Raj\\AppData\\Local\\Temp\\ipykernel_29048\\2168445501.py:6: FutureWarning: The frame.append method is deprecated and will be removed from pandas in a future version. Use pandas.concat instead.\n",
      "  df = df.append(scrape_page(topic[\"topic\"], topic[\"url\"]), ignore_index=True)\n"
     ]
    },
    {
     "name": "stdout",
     "output_type": "stream",
     "text": [
      "Scraping Myelodysplastic Syndrome (MDS)...\n",
      "Found 12 sections for Myelodysplastic Syndrome (MDS)\n"
     ]
    },
    {
     "name": "stderr",
     "output_type": "stream",
     "text": [
      " 60%|██████    | 872/1452 [18:45<11:58,  1.24s/it]"
     ]
    },
    {
     "name": "stdout",
     "output_type": "stream",
     "text": [
      "Scraping Nail Fungus...\n",
      "Found 8 sections for Nail Fungus\n"
     ]
    },
    {
     "name": "stderr",
     "output_type": "stream",
     "text": [
      "C:\\Users\\Raj\\AppData\\Local\\Temp\\ipykernel_29048\\2168445501.py:6: FutureWarning: The frame.append method is deprecated and will be removed from pandas in a future version. Use pandas.concat instead.\n",
      "  df = df.append(scrape_page(topic[\"topic\"], topic[\"url\"]), ignore_index=True)\n",
      " 60%|██████    | 873/1452 [18:46<12:00,  1.24s/it]"
     ]
    },
    {
     "name": "stdout",
     "output_type": "stream",
     "text": [
      "Scraping Nail Patella Syndrome...\n",
      "Found 4 sections for Nail Patella Syndrome\n"
     ]
    },
    {
     "name": "stderr",
     "output_type": "stream",
     "text": [
      "C:\\Users\\Raj\\AppData\\Local\\Temp\\ipykernel_29048\\2168445501.py:6: FutureWarning: The frame.append method is deprecated and will be removed from pandas in a future version. Use pandas.concat instead.\n",
      "  df = df.append(scrape_page(topic[\"topic\"], topic[\"url\"]), ignore_index=True)\n",
      " 60%|██████    | 874/1452 [18:47<12:00,  1.25s/it]C:\\Users\\Raj\\AppData\\Local\\Temp\\ipykernel_29048\\2168445501.py:6: FutureWarning: The frame.append method is deprecated and will be removed from pandas in a future version. Use pandas.concat instead.\n",
      "  df = df.append(scrape_page(topic[\"topic\"], topic[\"url\"]), ignore_index=True)\n"
     ]
    },
    {
     "name": "stdout",
     "output_type": "stream",
     "text": [
      "Scraping Nail-Biting...\n",
      "Found 4 sections for Nail-Biting\n"
     ]
    },
    {
     "name": "stderr",
     "output_type": "stream",
     "text": [
      " 60%|██████    | 875/1452 [18:49<11:55,  1.24s/it]"
     ]
    },
    {
     "name": "stdout",
     "output_type": "stream",
     "text": [
      "Scraping Narcolepsy...\n",
      "Found 7 sections for Narcolepsy\n"
     ]
    },
    {
     "name": "stderr",
     "output_type": "stream",
     "text": [
      "C:\\Users\\Raj\\AppData\\Local\\Temp\\ipykernel_29048\\2168445501.py:6: FutureWarning: The frame.append method is deprecated and will be removed from pandas in a future version. Use pandas.concat instead.\n",
      "  df = df.append(scrape_page(topic[\"topic\"], topic[\"url\"]), ignore_index=True)\n",
      " 60%|██████    | 876/1452 [18:50<11:55,  1.24s/it]C:\\Users\\Raj\\AppData\\Local\\Temp\\ipykernel_29048\\2168445501.py:6: FutureWarning: The frame.append method is deprecated and will be removed from pandas in a future version. Use pandas.concat instead.\n",
      "  df = df.append(scrape_page(topic[\"topic\"], topic[\"url\"]), ignore_index=True)\n"
     ]
    },
    {
     "name": "stdout",
     "output_type": "stream",
     "text": [
      "Scraping Narcoleptic Syndrome...\n",
      "Found 7 sections for Narcoleptic Syndrome\n"
     ]
    },
    {
     "name": "stderr",
     "output_type": "stream",
     "text": [
      " 60%|██████    | 877/1452 [18:51<11:43,  1.22s/it]"
     ]
    },
    {
     "name": "stdout",
     "output_type": "stream",
     "text": [
      "Scraping Nasal Septal Perforation Repair...\n",
      "Found 6 sections for Nasal Septal Perforation Repair\n"
     ]
    },
    {
     "name": "stderr",
     "output_type": "stream",
     "text": [
      "C:\\Users\\Raj\\AppData\\Local\\Temp\\ipykernel_29048\\2168445501.py:6: FutureWarning: The frame.append method is deprecated and will be removed from pandas in a future version. Use pandas.concat instead.\n",
      "  df = df.append(scrape_page(topic[\"topic\"], topic[\"url\"]), ignore_index=True)\n",
      " 60%|██████    | 878/1452 [18:52<11:43,  1.22s/it]"
     ]
    },
    {
     "name": "stdout",
     "output_type": "stream",
     "text": [
      "Scraping NASH (Nonalcoholic Steatohepatitis)...\n",
      "Found 13 sections for NASH (Nonalcoholic Steatohepatitis)\n"
     ]
    },
    {
     "name": "stderr",
     "output_type": "stream",
     "text": [
      "C:\\Users\\Raj\\AppData\\Local\\Temp\\ipykernel_29048\\2168445501.py:6: FutureWarning: The frame.append method is deprecated and will be removed from pandas in a future version. Use pandas.concat instead.\n",
      "  df = df.append(scrape_page(topic[\"topic\"], topic[\"url\"]), ignore_index=True)\n",
      " 61%|██████    | 879/1452 [18:54<11:58,  1.25s/it]"
     ]
    },
    {
     "name": "stdout",
     "output_type": "stream",
     "text": [
      "Scraping Nasopharyngeal Cancer...\n",
      "Found 10 sections for Nasopharyngeal Cancer\n"
     ]
    },
    {
     "name": "stderr",
     "output_type": "stream",
     "text": [
      "C:\\Users\\Raj\\AppData\\Local\\Temp\\ipykernel_29048\\2168445501.py:6: FutureWarning: The frame.append method is deprecated and will be removed from pandas in a future version. Use pandas.concat instead.\n",
      "  df = df.append(scrape_page(topic[\"topic\"], topic[\"url\"]), ignore_index=True)\n",
      " 61%|██████    | 880/1452 [18:55<12:00,  1.26s/it]C:\\Users\\Raj\\AppData\\Local\\Temp\\ipykernel_29048\\2168445501.py:6: FutureWarning: The frame.append method is deprecated and will be removed from pandas in a future version. Use pandas.concat instead.\n",
      "  df = df.append(scrape_page(topic[\"topic\"], topic[\"url\"]), ignore_index=True)\n"
     ]
    },
    {
     "name": "stdout",
     "output_type": "stream",
     "text": [
      "Scraping Naturopathic Medicine...\n",
      "Found 6 sections for Naturopathic Medicine\n"
     ]
    },
    {
     "name": "stderr",
     "output_type": "stream",
     "text": [
      " 61%|██████    | 881/1452 [18:56<11:49,  1.24s/it]"
     ]
    },
    {
     "name": "stdout",
     "output_type": "stream",
     "text": [
      "Scraping Nausea...\n",
      "Found 7 sections for Nausea\n"
     ]
    },
    {
     "name": "stderr",
     "output_type": "stream",
     "text": [
      "C:\\Users\\Raj\\AppData\\Local\\Temp\\ipykernel_29048\\2168445501.py:6: FutureWarning: The frame.append method is deprecated and will be removed from pandas in a future version. Use pandas.concat instead.\n",
      "  df = df.append(scrape_page(topic[\"topic\"], topic[\"url\"]), ignore_index=True)\n",
      " 61%|██████    | 882/1452 [18:57<11:47,  1.24s/it]"
     ]
    },
    {
     "name": "stdout",
     "output_type": "stream",
     "text": [
      "Scraping Navicular Fracture of the Wrist...\n",
      "Found 10 sections for Navicular Fracture of the Wrist\n"
     ]
    },
    {
     "name": "stderr",
     "output_type": "stream",
     "text": [
      "C:\\Users\\Raj\\AppData\\Local\\Temp\\ipykernel_29048\\2168445501.py:6: FutureWarning: The frame.append method is deprecated and will be removed from pandas in a future version. Use pandas.concat instead.\n",
      "  df = df.append(scrape_page(topic[\"topic\"], topic[\"url\"]), ignore_index=True)\n",
      " 61%|██████    | 883/1452 [18:59<11:46,  1.24s/it]"
     ]
    },
    {
     "name": "stdout",
     "output_type": "stream",
     "text": [
      "Scraping NDI...\n",
      "Found 12 sections for NDI\n"
     ]
    },
    {
     "name": "stderr",
     "output_type": "stream",
     "text": [
      "C:\\Users\\Raj\\AppData\\Local\\Temp\\ipykernel_29048\\2168445501.py:6: FutureWarning: The frame.append method is deprecated and will be removed from pandas in a future version. Use pandas.concat instead.\n",
      "  df = df.append(scrape_page(topic[\"topic\"], topic[\"url\"]), ignore_index=True)\n",
      " 61%|██████    | 884/1452 [19:00<12:05,  1.28s/it]"
     ]
    },
    {
     "name": "stdout",
     "output_type": "stream",
     "text": [
      "Scraping Nearsightedness (Myopia)...\n",
      "Found 6 sections for Nearsightedness (Myopia)\n"
     ]
    },
    {
     "name": "stderr",
     "output_type": "stream",
     "text": [
      "C:\\Users\\Raj\\AppData\\Local\\Temp\\ipykernel_29048\\2168445501.py:6: FutureWarning: The frame.append method is deprecated and will be removed from pandas in a future version. Use pandas.concat instead.\n",
      "  df = df.append(scrape_page(topic[\"topic\"], topic[\"url\"]), ignore_index=True)\n",
      " 61%|██████    | 885/1452 [19:01<11:55,  1.26s/it]"
     ]
    },
    {
     "name": "stdout",
     "output_type": "stream",
     "text": [
      "Scraping Neck Pain...\n",
      "Found 5 sections for Neck Pain\n"
     ]
    },
    {
     "name": "stderr",
     "output_type": "stream",
     "text": [
      "C:\\Users\\Raj\\AppData\\Local\\Temp\\ipykernel_29048\\2168445501.py:6: FutureWarning: The frame.append method is deprecated and will be removed from pandas in a future version. Use pandas.concat instead.\n",
      "  df = df.append(scrape_page(topic[\"topic\"], topic[\"url\"]), ignore_index=True)\n",
      " 61%|██████    | 886/1452 [19:02<11:51,  1.26s/it]"
     ]
    },
    {
     "name": "stdout",
     "output_type": "stream",
     "text": [
      "Scraping Necrotizing Enterocolitis...\n",
      "Found 8 sections for Necrotizing Enterocolitis\n"
     ]
    },
    {
     "name": "stderr",
     "output_type": "stream",
     "text": [
      "C:\\Users\\Raj\\AppData\\Local\\Temp\\ipykernel_29048\\2168445501.py:6: FutureWarning: The frame.append method is deprecated and will be removed from pandas in a future version. Use pandas.concat instead.\n",
      "  df = df.append(scrape_page(topic[\"topic\"], topic[\"url\"]), ignore_index=True)\n",
      " 61%|██████    | 887/1452 [19:04<11:46,  1.25s/it]"
     ]
    },
    {
     "name": "stdout",
     "output_type": "stream",
     "text": [
      "Scraping Necrotizing Fasciitis...\n",
      "Found 11 sections for Necrotizing Fasciitis\n"
     ]
    },
    {
     "name": "stderr",
     "output_type": "stream",
     "text": [
      "C:\\Users\\Raj\\AppData\\Local\\Temp\\ipykernel_29048\\2168445501.py:6: FutureWarning: The frame.append method is deprecated and will be removed from pandas in a future version. Use pandas.concat instead.\n",
      "  df = df.append(scrape_page(topic[\"topic\"], topic[\"url\"]), ignore_index=True)\n",
      " 61%|██████    | 888/1452 [19:05<11:44,  1.25s/it]"
     ]
    },
    {
     "name": "stdout",
     "output_type": "stream",
     "text": [
      "Scraping Necrotizing Fasciitis of the Perineum...\n",
      "Found 6 sections for Necrotizing Fasciitis of the Perineum\n"
     ]
    },
    {
     "name": "stderr",
     "output_type": "stream",
     "text": [
      "C:\\Users\\Raj\\AppData\\Local\\Temp\\ipykernel_29048\\2168445501.py:6: FutureWarning: The frame.append method is deprecated and will be removed from pandas in a future version. Use pandas.concat instead.\n",
      "  df = df.append(scrape_page(topic[\"topic\"], topic[\"url\"]), ignore_index=True)\n",
      " 61%|██████    | 889/1452 [19:06<11:38,  1.24s/it]"
     ]
    },
    {
     "name": "stdout",
     "output_type": "stream",
     "text": [
      "Scraping Needle Aspiration Biopsy...\n",
      "Found 7 sections for Needle Aspiration Biopsy\n"
     ]
    },
    {
     "name": "stderr",
     "output_type": "stream",
     "text": [
      "C:\\Users\\Raj\\AppData\\Local\\Temp\\ipykernel_29048\\2168445501.py:6: FutureWarning: The frame.append method is deprecated and will be removed from pandas in a future version. Use pandas.concat instead.\n",
      "  df = df.append(scrape_page(topic[\"topic\"], topic[\"url\"]), ignore_index=True)\n",
      " 61%|██████▏   | 890/1452 [19:07<11:43,  1.25s/it]"
     ]
    },
    {
     "name": "stdout",
     "output_type": "stream",
     "text": [
      "Scraping Neonatal Listeriosis...\n",
      "Found 9 sections for Neonatal Listeriosis\n"
     ]
    },
    {
     "name": "stderr",
     "output_type": "stream",
     "text": [
      "C:\\Users\\Raj\\AppData\\Local\\Temp\\ipykernel_29048\\2168445501.py:6: FutureWarning: The frame.append method is deprecated and will be removed from pandas in a future version. Use pandas.concat instead.\n",
      "  df = df.append(scrape_page(topic[\"topic\"], topic[\"url\"]), ignore_index=True)\n",
      " 61%|██████▏   | 891/1452 [19:09<11:39,  1.25s/it]"
     ]
    },
    {
     "name": "stdout",
     "output_type": "stream",
     "text": [
      "Scraping Nephrocarcinoma...\n",
      "Found 11 sections for Nephrocarcinoma\n"
     ]
    },
    {
     "name": "stderr",
     "output_type": "stream",
     "text": [
      "C:\\Users\\Raj\\AppData\\Local\\Temp\\ipykernel_29048\\2168445501.py:6: FutureWarning: The frame.append method is deprecated and will be removed from pandas in a future version. Use pandas.concat instead.\n",
      "  df = df.append(scrape_page(topic[\"topic\"], topic[\"url\"]), ignore_index=True)\n",
      " 61%|██████▏   | 892/1452 [19:10<11:34,  1.24s/it]"
     ]
    },
    {
     "name": "stdout",
     "output_type": "stream",
     "text": [
      "Scraping Nephrogenic Diabetes Insipidus...\n",
      "Found 12 sections for Nephrogenic Diabetes Insipidus\n"
     ]
    },
    {
     "name": "stderr",
     "output_type": "stream",
     "text": [
      "C:\\Users\\Raj\\AppData\\Local\\Temp\\ipykernel_29048\\2168445501.py:6: FutureWarning: The frame.append method is deprecated and will be removed from pandas in a future version. Use pandas.concat instead.\n",
      "  df = df.append(scrape_page(topic[\"topic\"], topic[\"url\"]), ignore_index=True)\n",
      " 62%|██████▏   | 893/1452 [19:11<11:50,  1.27s/it]"
     ]
    },
    {
     "name": "stdout",
     "output_type": "stream",
     "text": [
      "Scraping Nephropathy Diabetic...\n",
      "Found 5 sections for Nephropathy Diabetic\n"
     ]
    },
    {
     "name": "stderr",
     "output_type": "stream",
     "text": [
      "C:\\Users\\Raj\\AppData\\Local\\Temp\\ipykernel_29048\\2168445501.py:6: FutureWarning: The frame.append method is deprecated and will be removed from pandas in a future version. Use pandas.concat instead.\n",
      "  df = df.append(scrape_page(topic[\"topic\"], topic[\"url\"]), ignore_index=True)\n",
      " 62%|██████▏   | 894/1452 [19:12<11:45,  1.26s/it]"
     ]
    },
    {
     "name": "stdout",
     "output_type": "stream",
     "text": [
      "Scraping Neurofibromatosis...\n",
      "Found 9 sections for Neurofibromatosis\n"
     ]
    },
    {
     "name": "stderr",
     "output_type": "stream",
     "text": [
      "C:\\Users\\Raj\\AppData\\Local\\Temp\\ipykernel_29048\\2168445501.py:6: FutureWarning: The frame.append method is deprecated and will be removed from pandas in a future version. Use pandas.concat instead.\n",
      "  df = df.append(scrape_page(topic[\"topic\"], topic[\"url\"]), ignore_index=True)\n",
      " 62%|██████▏   | 895/1452 [19:14<11:45,  1.27s/it]"
     ]
    },
    {
     "name": "stdout",
     "output_type": "stream",
     "text": [
      "Scraping Nicotine Withdrawal...\n"
     ]
    },
    {
     "name": "stderr",
     "output_type": "stream",
     "text": [
      "C:\\Users\\Raj\\AppData\\Local\\Temp\\ipykernel_29048\\2168445501.py:6: FutureWarning: The frame.append method is deprecated and will be removed from pandas in a future version. Use pandas.concat instead.\n",
      "  df = df.append(scrape_page(topic[\"topic\"], topic[\"url\"]), ignore_index=True)\n",
      " 62%|██████▏   | 896/1452 [19:15<12:44,  1.38s/it]C:\\Users\\Raj\\AppData\\Local\\Temp\\ipykernel_29048\\2168445501.py:6: FutureWarning: The frame.append method is deprecated and will be removed from pandas in a future version. Use pandas.concat instead.\n",
      "  df = df.append(scrape_page(topic[\"topic\"], topic[\"url\"]), ignore_index=True)\n"
     ]
    },
    {
     "name": "stdout",
     "output_type": "stream",
     "text": [
      "Scraping Night Blindness...\n",
      "Found 3 sections for Night Blindness\n"
     ]
    },
    {
     "name": "stderr",
     "output_type": "stream",
     "text": [
      " 62%|██████▏   | 897/1452 [19:17<12:16,  1.33s/it]"
     ]
    },
    {
     "name": "stdout",
     "output_type": "stream",
     "text": [
      "Scraping Night Eating...\n",
      "Found 3 sections for Night Eating\n"
     ]
    },
    {
     "name": "stderr",
     "output_type": "stream",
     "text": [
      "C:\\Users\\Raj\\AppData\\Local\\Temp\\ipykernel_29048\\2168445501.py:6: FutureWarning: The frame.append method is deprecated and will be removed from pandas in a future version. Use pandas.concat instead.\n",
      "  df = df.append(scrape_page(topic[\"topic\"], topic[\"url\"]), ignore_index=True)\n",
      " 62%|██████▏   | 898/1452 [19:18<12:03,  1.31s/it]"
     ]
    },
    {
     "name": "stdout",
     "output_type": "stream",
     "text": [
      "Scraping Nitroglycerin for Chest Pain...\n",
      "Found 5 sections for Nitroglycerin for Chest Pain\n"
     ]
    },
    {
     "name": "stderr",
     "output_type": "stream",
     "text": [
      "C:\\Users\\Raj\\AppData\\Local\\Temp\\ipykernel_29048\\2168445501.py:6: FutureWarning: The frame.append method is deprecated and will be removed from pandas in a future version. Use pandas.concat instead.\n",
      "  df = df.append(scrape_page(topic[\"topic\"], topic[\"url\"]), ignore_index=True)\n",
      " 62%|██████▏   | 899/1452 [19:19<11:50,  1.28s/it]"
     ]
    },
    {
     "name": "stdout",
     "output_type": "stream",
     "text": [
      "Scraping Nocardiosis...\n",
      "Found 4 sections for Nocardiosis\n"
     ]
    },
    {
     "name": "stderr",
     "output_type": "stream",
     "text": [
      "C:\\Users\\Raj\\AppData\\Local\\Temp\\ipykernel_29048\\2168445501.py:6: FutureWarning: The frame.append method is deprecated and will be removed from pandas in a future version. Use pandas.concat instead.\n",
      "  df = df.append(scrape_page(topic[\"topic\"], topic[\"url\"]), ignore_index=True)\n",
      " 62%|██████▏   | 900/1452 [19:20<11:41,  1.27s/it]"
     ]
    },
    {
     "name": "stdout",
     "output_type": "stream",
     "text": [
      "Scraping Nocturnal Enuresis...\n"
     ]
    },
    {
     "name": "stderr",
     "output_type": "stream",
     "text": [
      "C:\\Users\\Raj\\AppData\\Local\\Temp\\ipykernel_29048\\2168445501.py:6: FutureWarning: The frame.append method is deprecated and will be removed from pandas in a future version. Use pandas.concat instead.\n",
      "  df = df.append(scrape_page(topic[\"topic\"], topic[\"url\"]), ignore_index=True)\n",
      " 62%|██████▏   | 901/1452 [19:22<12:09,  1.32s/it]C:\\Users\\Raj\\AppData\\Local\\Temp\\ipykernel_29048\\2168445501.py:6: FutureWarning: The frame.append method is deprecated and will be removed from pandas in a future version. Use pandas.concat instead.\n",
      "  df = df.append(scrape_page(topic[\"topic\"], topic[\"url\"]), ignore_index=True)\n"
     ]
    },
    {
     "name": "stdout",
     "output_type": "stream",
     "text": [
      "Scraping Nonalcoholic Fatty Liver Disease...\n",
      "Found 13 sections for Nonalcoholic Fatty Liver Disease\n"
     ]
    },
    {
     "name": "stderr",
     "output_type": "stream",
     "text": [
      " 62%|██████▏   | 902/1452 [19:23<11:44,  1.28s/it]"
     ]
    },
    {
     "name": "stdout",
     "output_type": "stream",
     "text": [
      "Scraping Non-Hodgkin's Lymphoma...\n"
     ]
    },
    {
     "name": "stderr",
     "output_type": "stream",
     "text": [
      "C:\\Users\\Raj\\AppData\\Local\\Temp\\ipykernel_29048\\2168445501.py:6: FutureWarning: The frame.append method is deprecated and will be removed from pandas in a future version. Use pandas.concat instead.\n",
      "  df = df.append(scrape_page(topic[\"topic\"], topic[\"url\"]), ignore_index=True)\n",
      " 62%|██████▏   | 903/1452 [19:24<12:03,  1.32s/it]"
     ]
    },
    {
     "name": "stdout",
     "output_type": "stream",
     "text": [
      "Scraping Noninfectious Uveitis...\n",
      "Found 9 sections for Noninfectious Uveitis\n"
     ]
    },
    {
     "name": "stderr",
     "output_type": "stream",
     "text": [
      "C:\\Users\\Raj\\AppData\\Local\\Temp\\ipykernel_29048\\2168445501.py:6: FutureWarning: The frame.append method is deprecated and will be removed from pandas in a future version. Use pandas.concat instead.\n",
      "  df = df.append(scrape_page(topic[\"topic\"], topic[\"url\"]), ignore_index=True)\n",
      " 62%|██████▏   | 904/1452 [19:26<11:51,  1.30s/it]"
     ]
    },
    {
     "name": "stdout",
     "output_type": "stream",
     "text": [
      "Scraping Nonmelanoma Skin Cancer...\n"
     ]
    },
    {
     "name": "stderr",
     "output_type": "stream",
     "text": [
      "C:\\Users\\Raj\\AppData\\Local\\Temp\\ipykernel_29048\\2168445501.py:6: FutureWarning: The frame.append method is deprecated and will be removed from pandas in a future version. Use pandas.concat instead.\n",
      "  df = df.append(scrape_page(topic[\"topic\"], topic[\"url\"]), ignore_index=True)\n",
      " 62%|██████▏   | 905/1452 [19:27<12:09,  1.33s/it]C:\\Users\\Raj\\AppData\\Local\\Temp\\ipykernel_29048\\2168445501.py:6: FutureWarning: The frame.append method is deprecated and will be removed from pandas in a future version. Use pandas.concat instead.\n",
      "  df = df.append(scrape_page(topic[\"topic\"], topic[\"url\"]), ignore_index=True)\n"
     ]
    },
    {
     "name": "stdout",
     "output_type": "stream",
     "text": [
      "Scraping Non-Scarring Epidermolysis Bullosa...\n",
      "Found 10 sections for Non-Scarring Epidermolysis Bullosa\n"
     ]
    },
    {
     "name": "stderr",
     "output_type": "stream",
     "text": [
      " 62%|██████▏   | 906/1452 [19:28<11:49,  1.30s/it]"
     ]
    },
    {
     "name": "stdout",
     "output_type": "stream",
     "text": [
      "Scraping Non-Small Cell Lung Cancer...\n",
      "Found 12 sections for Non-Small Cell Lung Cancer\n"
     ]
    },
    {
     "name": "stderr",
     "output_type": "stream",
     "text": [
      "C:\\Users\\Raj\\AppData\\Local\\Temp\\ipykernel_29048\\2168445501.py:6: FutureWarning: The frame.append method is deprecated and will be removed from pandas in a future version. Use pandas.concat instead.\n",
      "  df = df.append(scrape_page(topic[\"topic\"], topic[\"url\"]), ignore_index=True)\n",
      " 62%|██████▏   | 907/1452 [19:29<11:38,  1.28s/it]C:\\Users\\Raj\\AppData\\Local\\Temp\\ipykernel_29048\\2168445501.py:6: FutureWarning: The frame.append method is deprecated and will be removed from pandas in a future version. Use pandas.concat instead.\n",
      "  df = df.append(scrape_page(topic[\"topic\"], topic[\"url\"]), ignore_index=True)\n"
     ]
    },
    {
     "name": "stdout",
     "output_type": "stream",
     "text": [
      "Scraping Nonthrombocytopenic Idiopathic Purpura...\n",
      "Found 5 sections for Nonthrombocytopenic Idiopathic Purpura\n"
     ]
    },
    {
     "name": "stderr",
     "output_type": "stream",
     "text": [
      " 63%|██████▎   | 908/1452 [19:31<11:26,  1.26s/it]"
     ]
    },
    {
     "name": "stdout",
     "output_type": "stream",
     "text": [
      "Scraping Nontraditional Medicine...\n",
      "Found 17 sections for Nontraditional Medicine\n"
     ]
    },
    {
     "name": "stderr",
     "output_type": "stream",
     "text": [
      "C:\\Users\\Raj\\AppData\\Local\\Temp\\ipykernel_29048\\2168445501.py:6: FutureWarning: The frame.append method is deprecated and will be removed from pandas in a future version. Use pandas.concat instead.\n",
      "  df = df.append(scrape_page(topic[\"topic\"], topic[\"url\"]), ignore_index=True)\n",
      " 63%|██████▎   | 909/1452 [19:32<11:32,  1.28s/it]"
     ]
    },
    {
     "name": "stdout",
     "output_type": "stream",
     "text": [
      "Scraping Noonan Syndrome...\n",
      "Found 8 sections for Noonan Syndrome\n"
     ]
    },
    {
     "name": "stderr",
     "output_type": "stream",
     "text": [
      "C:\\Users\\Raj\\AppData\\Local\\Temp\\ipykernel_29048\\2168445501.py:6: FutureWarning: The frame.append method is deprecated and will be removed from pandas in a future version. Use pandas.concat instead.\n",
      "  df = df.append(scrape_page(topic[\"topic\"], topic[\"url\"]), ignore_index=True)\n",
      " 63%|██████▎   | 910/1452 [19:33<11:23,  1.26s/it]"
     ]
    },
    {
     "name": "stdout",
     "output_type": "stream",
     "text": [
      "Scraping Normal Menstrual Cycle...\n",
      "Found 5 sections for Normal Menstrual Cycle\n"
     ]
    },
    {
     "name": "stderr",
     "output_type": "stream",
     "text": [
      "C:\\Users\\Raj\\AppData\\Local\\Temp\\ipykernel_29048\\2168445501.py:6: FutureWarning: The frame.append method is deprecated and will be removed from pandas in a future version. Use pandas.concat instead.\n",
      "  df = df.append(scrape_page(topic[\"topic\"], topic[\"url\"]), ignore_index=True)\n",
      " 63%|██████▎   | 911/1452 [19:34<11:17,  1.25s/it]C:\\Users\\Raj\\AppData\\Local\\Temp\\ipykernel_29048\\2168445501.py:6: FutureWarning: The frame.append method is deprecated and will be removed from pandas in a future version. Use pandas.concat instead.\n",
      "  df = df.append(scrape_page(topic[\"topic\"], topic[\"url\"]), ignore_index=True)\n"
     ]
    },
    {
     "name": "stdout",
     "output_type": "stream",
     "text": [
      "Scraping Noroviruses...\n",
      "Found 11 sections for Noroviruses\n"
     ]
    },
    {
     "name": "stderr",
     "output_type": "stream",
     "text": [
      " 63%|██████▎   | 912/1452 [19:36<11:12,  1.25s/it]"
     ]
    },
    {
     "name": "stdout",
     "output_type": "stream",
     "text": [
      "Scraping Norrbottnian Gaucher Disease...\n",
      "Found 13 sections for Norrbottnian Gaucher Disease\n"
     ]
    },
    {
     "name": "stderr",
     "output_type": "stream",
     "text": [
      "C:\\Users\\Raj\\AppData\\Local\\Temp\\ipykernel_29048\\2168445501.py:6: FutureWarning: The frame.append method is deprecated and will be removed from pandas in a future version. Use pandas.concat instead.\n",
      "  df = df.append(scrape_page(topic[\"topic\"], topic[\"url\"]), ignore_index=True)\n",
      " 63%|██████▎   | 913/1452 [19:37<11:14,  1.25s/it]"
     ]
    },
    {
     "name": "stdout",
     "output_type": "stream",
     "text": [
      "Scraping Nose Fracture...\n",
      "Found 8 sections for Nose Fracture\n"
     ]
    },
    {
     "name": "stderr",
     "output_type": "stream",
     "text": [
      "C:\\Users\\Raj\\AppData\\Local\\Temp\\ipykernel_29048\\2168445501.py:6: FutureWarning: The frame.append method is deprecated and will be removed from pandas in a future version. Use pandas.concat instead.\n",
      "  df = df.append(scrape_page(topic[\"topic\"], topic[\"url\"]), ignore_index=True)\n",
      " 63%|██████▎   | 914/1452 [19:38<11:09,  1.24s/it]"
     ]
    },
    {
     "name": "stdout",
     "output_type": "stream",
     "text": [
      "Scraping Nosebleed Stopping...\n",
      "Found 4 sections for Nosebleed Stopping\n"
     ]
    },
    {
     "name": "stderr",
     "output_type": "stream",
     "text": [
      "C:\\Users\\Raj\\AppData\\Local\\Temp\\ipykernel_29048\\2168445501.py:6: FutureWarning: The frame.append method is deprecated and will be removed from pandas in a future version. Use pandas.concat instead.\n",
      "  df = df.append(scrape_page(topic[\"topic\"], topic[\"url\"]), ignore_index=True)\n",
      " 63%|██████▎   | 915/1452 [19:39<11:06,  1.24s/it]C:\\Users\\Raj\\AppData\\Local\\Temp\\ipykernel_29048\\2168445501.py:6: FutureWarning: The frame.append method is deprecated and will be removed from pandas in a future version. Use pandas.concat instead.\n",
      "  df = df.append(scrape_page(topic[\"topic\"], topic[\"url\"]), ignore_index=True)\n"
     ]
    },
    {
     "name": "stdout",
     "output_type": "stream",
     "text": [
      "Scraping NPS...\n",
      "Found 4 sections for NPS\n"
     ]
    },
    {
     "name": "stderr",
     "output_type": "stream",
     "text": [
      " 63%|██████▎   | 916/1452 [19:41<10:56,  1.22s/it]C:\\Users\\Raj\\AppData\\Local\\Temp\\ipykernel_29048\\2168445501.py:6: FutureWarning: The frame.append method is deprecated and will be removed from pandas in a future version. Use pandas.concat instead.\n",
      "  df = df.append(scrape_page(topic[\"topic\"], topic[\"url\"]), ignore_index=True)\n"
     ]
    },
    {
     "name": "stdout",
     "output_type": "stream",
     "text": [
      "Scraping NS...\n",
      "Found 8 sections for NS\n"
     ]
    },
    {
     "name": "stderr",
     "output_type": "stream",
     "text": [
      " 63%|██████▎   | 917/1452 [19:42<10:50,  1.22s/it]"
     ]
    },
    {
     "name": "stdout",
     "output_type": "stream",
     "text": [
      "Scraping NSAIDs...\n",
      "Found 10 sections for NSAIDs\n"
     ]
    },
    {
     "name": "stderr",
     "output_type": "stream",
     "text": [
      "C:\\Users\\Raj\\AppData\\Local\\Temp\\ipykernel_29048\\2168445501.py:6: FutureWarning: The frame.append method is deprecated and will be removed from pandas in a future version. Use pandas.concat instead.\n",
      "  df = df.append(scrape_page(topic[\"topic\"], topic[\"url\"]), ignore_index=True)\n",
      " 63%|██████▎   | 918/1452 [19:43<10:55,  1.23s/it]"
     ]
    },
    {
     "name": "stdout",
     "output_type": "stream",
     "text": [
      "Scraping Nursery Equipment Safety Checklist...\n",
      "Found 4 sections for Nursery Equipment Safety Checklist\n"
     ]
    },
    {
     "name": "stderr",
     "output_type": "stream",
     "text": [
      "C:\\Users\\Raj\\AppData\\Local\\Temp\\ipykernel_29048\\2168445501.py:6: FutureWarning: The frame.append method is deprecated and will be removed from pandas in a future version. Use pandas.concat instead.\n",
      "  df = df.append(scrape_page(topic[\"topic\"], topic[\"url\"]), ignore_index=True)\n",
      " 63%|██████▎   | 919/1452 [19:44<10:56,  1.23s/it]"
     ]
    },
    {
     "name": "stdout",
     "output_type": "stream",
     "text": [
      "Scraping Nutritional Rickets...\n",
      "Found 7 sections for Nutritional Rickets\n"
     ]
    },
    {
     "name": "stderr",
     "output_type": "stream",
     "text": [
      "C:\\Users\\Raj\\AppData\\Local\\Temp\\ipykernel_29048\\2168445501.py:6: FutureWarning: The frame.append method is deprecated and will be removed from pandas in a future version. Use pandas.concat instead.\n",
      "  df = df.append(scrape_page(topic[\"topic\"], topic[\"url\"]), ignore_index=True)\n",
      " 63%|██████▎   | 920/1452 [19:46<10:57,  1.24s/it]"
     ]
    },
    {
     "name": "stdout",
     "output_type": "stream",
     "text": [
      "Scraping Nystagmus Benign Paroxysmal Positional...\n",
      "Found 8 sections for Nystagmus Benign Paroxysmal Positional\n"
     ]
    },
    {
     "name": "stderr",
     "output_type": "stream",
     "text": [
      "C:\\Users\\Raj\\AppData\\Local\\Temp\\ipykernel_29048\\2168445501.py:6: FutureWarning: The frame.append method is deprecated and will be removed from pandas in a future version. Use pandas.concat instead.\n",
      "  df = df.append(scrape_page(topic[\"topic\"], topic[\"url\"]), ignore_index=True)\n",
      " 63%|██████▎   | 921/1452 [19:47<10:55,  1.23s/it]"
     ]
    },
    {
     "name": "stdout",
     "output_type": "stream",
     "text": [
      "Scraping Obesity...\n",
      "Found 4 sections for Obesity\n"
     ]
    },
    {
     "name": "stderr",
     "output_type": "stream",
     "text": [
      "C:\\Users\\Raj\\AppData\\Local\\Temp\\ipykernel_29048\\2168445501.py:6: FutureWarning: The frame.append method is deprecated and will be removed from pandas in a future version. Use pandas.concat instead.\n",
      "  df = df.append(scrape_page(topic[\"topic\"], topic[\"url\"]), ignore_index=True)\n",
      " 63%|██████▎   | 922/1452 [19:48<11:08,  1.26s/it]"
     ]
    },
    {
     "name": "stdout",
     "output_type": "stream",
     "text": [
      "Scraping Obsessive-Compulsive Disorder (OCD)...\n",
      "Found 7 sections for Obsessive-Compulsive Disorder (OCD)\n"
     ]
    },
    {
     "name": "stderr",
     "output_type": "stream",
     "text": [
      "C:\\Users\\Raj\\AppData\\Local\\Temp\\ipykernel_29048\\2168445501.py:6: FutureWarning: The frame.append method is deprecated and will be removed from pandas in a future version. Use pandas.concat instead.\n",
      "  df = df.append(scrape_page(topic[\"topic\"], topic[\"url\"]), ignore_index=True)\n",
      " 64%|██████▎   | 923/1452 [19:49<11:07,  1.26s/it]"
     ]
    },
    {
     "name": "stdout",
     "output_type": "stream",
     "text": [
      "Scraping Obstetric Panel...\n",
      "Found 7 sections for Obstetric Panel\n"
     ]
    },
    {
     "name": "stderr",
     "output_type": "stream",
     "text": [
      "C:\\Users\\Raj\\AppData\\Local\\Temp\\ipykernel_29048\\2168445501.py:6: FutureWarning: The frame.append method is deprecated and will be removed from pandas in a future version. Use pandas.concat instead.\n",
      "  df = df.append(scrape_page(topic[\"topic\"], topic[\"url\"]), ignore_index=True)\n",
      " 64%|██████▎   | 924/1452 [19:51<11:04,  1.26s/it]"
     ]
    },
    {
     "name": "stdout",
     "output_type": "stream",
     "text": [
      "Scraping Obstructive Hypertrophic Cardiomyopathy...\n",
      "Found 12 sections for Obstructive Hypertrophic Cardiomyopathy\n"
     ]
    },
    {
     "name": "stderr",
     "output_type": "stream",
     "text": [
      "C:\\Users\\Raj\\AppData\\Local\\Temp\\ipykernel_29048\\2168445501.py:6: FutureWarning: The frame.append method is deprecated and will be removed from pandas in a future version. Use pandas.concat instead.\n",
      "  df = df.append(scrape_page(topic[\"topic\"], topic[\"url\"]), ignore_index=True)\n",
      " 64%|██████▎   | 925/1452 [19:52<11:01,  1.26s/it]"
     ]
    },
    {
     "name": "stdout",
     "output_type": "stream",
     "text": [
      "Scraping Obstructive Sleep Apnea...\n",
      "Found 10 sections for Obstructive Sleep Apnea\n"
     ]
    },
    {
     "name": "stderr",
     "output_type": "stream",
     "text": [
      "C:\\Users\\Raj\\AppData\\Local\\Temp\\ipykernel_29048\\2168445501.py:6: FutureWarning: The frame.append method is deprecated and will be removed from pandas in a future version. Use pandas.concat instead.\n",
      "  df = df.append(scrape_page(topic[\"topic\"], topic[\"url\"]), ignore_index=True)\n",
      " 64%|██████▍   | 926/1452 [19:53<10:57,  1.25s/it]"
     ]
    },
    {
     "name": "stdout",
     "output_type": "stream",
     "text": [
      "Scraping Occupational Therapy...\n",
      "Found 9 sections for Occupational Therapy\n"
     ]
    },
    {
     "name": "stderr",
     "output_type": "stream",
     "text": [
      "C:\\Users\\Raj\\AppData\\Local\\Temp\\ipykernel_29048\\2168445501.py:6: FutureWarning: The frame.append method is deprecated and will be removed from pandas in a future version. Use pandas.concat instead.\n",
      "  df = df.append(scrape_page(topic[\"topic\"], topic[\"url\"]), ignore_index=True)\n",
      " 64%|██████▍   | 927/1452 [19:54<10:56,  1.25s/it]C:\\Users\\Raj\\AppData\\Local\\Temp\\ipykernel_29048\\2168445501.py:6: FutureWarning: The frame.append method is deprecated and will be removed from pandas in a future version. Use pandas.concat instead.\n",
      "  df = df.append(scrape_page(topic[\"topic\"], topic[\"url\"]), ignore_index=True)\n"
     ]
    },
    {
     "name": "stdout",
     "output_type": "stream",
     "text": [
      "Scraping OCD (Obsessive Compulsive Disorder)...\n",
      "Found 7 sections for OCD (Obsessive Compulsive Disorder)\n"
     ]
    },
    {
     "name": "stderr",
     "output_type": "stream",
     "text": [
      " 64%|██████▍   | 928/1452 [19:56<10:45,  1.23s/it]"
     ]
    },
    {
     "name": "stdout",
     "output_type": "stream",
     "text": [
      "Scraping Ocular Motor Apraxia, Cogan Type...\n",
      "Found 11 sections for Ocular Motor Apraxia, Cogan Type\n"
     ]
    },
    {
     "name": "stderr",
     "output_type": "stream",
     "text": [
      "C:\\Users\\Raj\\AppData\\Local\\Temp\\ipykernel_29048\\2168445501.py:6: FutureWarning: The frame.append method is deprecated and will be removed from pandas in a future version. Use pandas.concat instead.\n",
      "  df = df.append(scrape_page(topic[\"topic\"], topic[\"url\"]), ignore_index=True)\n",
      " 64%|██████▍   | 929/1452 [19:57<10:43,  1.23s/it]C:\\Users\\Raj\\AppData\\Local\\Temp\\ipykernel_29048\\2168445501.py:6: FutureWarning: The frame.append method is deprecated and will be removed from pandas in a future version. Use pandas.concat instead.\n",
      "  df = df.append(scrape_page(topic[\"topic\"], topic[\"url\"]), ignore_index=True)\n"
     ]
    },
    {
     "name": "stdout",
     "output_type": "stream",
     "text": [
      "Scraping Oculocutaneous Albinism...\n",
      "Found 5 sections for Oculocutaneous Albinism\n"
     ]
    },
    {
     "name": "stderr",
     "output_type": "stream",
     "text": [
      " 64%|██████▍   | 930/1452 [19:58<10:41,  1.23s/it]C:\\Users\\Raj\\AppData\\Local\\Temp\\ipykernel_29048\\2168445501.py:6: FutureWarning: The frame.append method is deprecated and will be removed from pandas in a future version. Use pandas.concat instead.\n",
      "  df = df.append(scrape_page(topic[\"topic\"], topic[\"url\"]), ignore_index=True)\n"
     ]
    },
    {
     "name": "stdout",
     "output_type": "stream",
     "text": [
      "Scraping Oculomotor Apraxia, Cogan type...\n",
      "Found 11 sections for Oculomotor Apraxia, Cogan type\n"
     ]
    },
    {
     "name": "stderr",
     "output_type": "stream",
     "text": [
      " 64%|██████▍   | 931/1452 [19:59<10:33,  1.22s/it]"
     ]
    },
    {
     "name": "stdout",
     "output_type": "stream",
     "text": [
      "Scraping Oculosympathetic Palsy...\n",
      "Found 8 sections for Oculosympathetic Palsy\n"
     ]
    },
    {
     "name": "stderr",
     "output_type": "stream",
     "text": [
      "C:\\Users\\Raj\\AppData\\Local\\Temp\\ipykernel_29048\\2168445501.py:6: FutureWarning: The frame.append method is deprecated and will be removed from pandas in a future version. Use pandas.concat instead.\n",
      "  df = df.append(scrape_page(topic[\"topic\"], topic[\"url\"]), ignore_index=True)\n",
      " 64%|██████▍   | 932/1452 [20:00<10:33,  1.22s/it]"
     ]
    },
    {
     "name": "stdout",
     "output_type": "stream",
     "text": [
      "Scraping Ohio Type Amyloidosis (Type VII)...\n"
     ]
    },
    {
     "name": "stderr",
     "output_type": "stream",
     "text": [
      "C:\\Users\\Raj\\AppData\\Local\\Temp\\ipykernel_29048\\2168445501.py:6: FutureWarning: The frame.append method is deprecated and will be removed from pandas in a future version. Use pandas.concat instead.\n",
      "  df = df.append(scrape_page(topic[\"topic\"], topic[\"url\"]), ignore_index=True)\n",
      " 64%|██████▍   | 933/1452 [20:02<10:43,  1.24s/it]"
     ]
    },
    {
     "name": "stdout",
     "output_type": "stream",
     "text": [
      "Scraping Olecranon Bursitis...\n",
      "Found 9 sections for Olecranon Bursitis\n"
     ]
    },
    {
     "name": "stderr",
     "output_type": "stream",
     "text": [
      "C:\\Users\\Raj\\AppData\\Local\\Temp\\ipykernel_29048\\2168445501.py:6: FutureWarning: The frame.append method is deprecated and will be removed from pandas in a future version. Use pandas.concat instead.\n",
      "  df = df.append(scrape_page(topic[\"topic\"], topic[\"url\"]), ignore_index=True)\n",
      " 64%|██████▍   | 934/1452 [20:03<10:42,  1.24s/it]"
     ]
    },
    {
     "name": "stdout",
     "output_type": "stream",
     "text": [
      "Scraping Oophorectomy...\n",
      "Found 8 sections for Oophorectomy\n"
     ]
    },
    {
     "name": "stderr",
     "output_type": "stream",
     "text": [
      "C:\\Users\\Raj\\AppData\\Local\\Temp\\ipykernel_29048\\2168445501.py:6: FutureWarning: The frame.append method is deprecated and will be removed from pandas in a future version. Use pandas.concat instead.\n",
      "  df = df.append(scrape_page(topic[\"topic\"], topic[\"url\"]), ignore_index=True)\n",
      " 64%|██████▍   | 935/1452 [20:04<10:45,  1.25s/it]"
     ]
    },
    {
     "name": "stdout",
     "output_type": "stream",
     "text": [
      "Scraping Opportunistic Infections...\n",
      "Found 4 sections for Opportunistic Infections\n"
     ]
    },
    {
     "name": "stderr",
     "output_type": "stream",
     "text": [
      "C:\\Users\\Raj\\AppData\\Local\\Temp\\ipykernel_29048\\2168445501.py:6: FutureWarning: The frame.append method is deprecated and will be removed from pandas in a future version. Use pandas.concat instead.\n",
      "  df = df.append(scrape_page(topic[\"topic\"], topic[\"url\"]), ignore_index=True)\n",
      " 64%|██████▍   | 936/1452 [20:05<10:44,  1.25s/it]"
     ]
    },
    {
     "name": "stdout",
     "output_type": "stream",
     "text": [
      "Scraping Opthalmoneuromyelitis...\n",
      "Found 7 sections for Opthalmoneuromyelitis\n"
     ]
    },
    {
     "name": "stderr",
     "output_type": "stream",
     "text": [
      "C:\\Users\\Raj\\AppData\\Local\\Temp\\ipykernel_29048\\2168445501.py:6: FutureWarning: The frame.append method is deprecated and will be removed from pandas in a future version. Use pandas.concat instead.\n",
      "  df = df.append(scrape_page(topic[\"topic\"], topic[\"url\"]), ignore_index=True)\n",
      " 65%|██████▍   | 937/1452 [20:07<10:41,  1.25s/it]"
     ]
    },
    {
     "name": "stdout",
     "output_type": "stream",
     "text": [
      "Scraping Optic Neuromyelitis...\n",
      "Found 7 sections for Optic Neuromyelitis\n"
     ]
    },
    {
     "name": "stderr",
     "output_type": "stream",
     "text": [
      "C:\\Users\\Raj\\AppData\\Local\\Temp\\ipykernel_29048\\2168445501.py:6: FutureWarning: The frame.append method is deprecated and will be removed from pandas in a future version. Use pandas.concat instead.\n",
      "  df = df.append(scrape_page(topic[\"topic\"], topic[\"url\"]), ignore_index=True)\n",
      " 65%|██████▍   | 938/1452 [20:08<10:37,  1.24s/it]"
     ]
    },
    {
     "name": "stdout",
     "output_type": "stream",
     "text": [
      "Scraping Oral Cancer...\n",
      "Found 9 sections for Oral Cancer\n"
     ]
    },
    {
     "name": "stderr",
     "output_type": "stream",
     "text": [
      "C:\\Users\\Raj\\AppData\\Local\\Temp\\ipykernel_29048\\2168445501.py:6: FutureWarning: The frame.append method is deprecated and will be removed from pandas in a future version. Use pandas.concat instead.\n",
      "  df = df.append(scrape_page(topic[\"topic\"], topic[\"url\"]), ignore_index=True)\n",
      " 65%|██████▍   | 939/1452 [20:09<10:35,  1.24s/it]"
     ]
    },
    {
     "name": "stdout",
     "output_type": "stream",
     "text": [
      "Scraping Oral Galvanism...\n",
      "Found 7 sections for Oral Galvanism\n"
     ]
    },
    {
     "name": "stderr",
     "output_type": "stream",
     "text": [
      "C:\\Users\\Raj\\AppData\\Local\\Temp\\ipykernel_29048\\2168445501.py:6: FutureWarning: The frame.append method is deprecated and will be removed from pandas in a future version. Use pandas.concat instead.\n",
      "  df = df.append(scrape_page(topic[\"topic\"], topic[\"url\"]), ignore_index=True)\n",
      " 65%|██████▍   | 940/1452 [20:10<10:38,  1.25s/it]"
     ]
    },
    {
     "name": "stdout",
     "output_type": "stream",
     "text": [
      "Scraping Oral-Facial Dyskinesia...\n"
     ]
    },
    {
     "name": "stderr",
     "output_type": "stream",
     "text": [
      "C:\\Users\\Raj\\AppData\\Local\\Temp\\ipykernel_29048\\2168445501.py:6: FutureWarning: The frame.append method is deprecated and will be removed from pandas in a future version. Use pandas.concat instead.\n",
      "  df = df.append(scrape_page(topic[\"topic\"], topic[\"url\"]), ignore_index=True)\n",
      " 65%|██████▍   | 941/1452 [20:12<11:07,  1.31s/it]"
     ]
    },
    {
     "name": "stdout",
     "output_type": "stream",
     "text": [
      "Scraping Organ Transplant...\n",
      "Found 12 sections for Organ Transplant\n"
     ]
    },
    {
     "name": "stderr",
     "output_type": "stream",
     "text": [
      "C:\\Users\\Raj\\AppData\\Local\\Temp\\ipykernel_29048\\2168445501.py:6: FutureWarning: The frame.append method is deprecated and will be removed from pandas in a future version. Use pandas.concat instead.\n",
      "  df = df.append(scrape_page(topic[\"topic\"], topic[\"url\"]), ignore_index=True)\n",
      " 65%|██████▍   | 942/1452 [20:13<11:01,  1.30s/it]"
     ]
    },
    {
     "name": "stdout",
     "output_type": "stream",
     "text": [
      "Scraping Organic Foods Slideshow...\n"
     ]
    },
    {
     "name": "stderr",
     "output_type": "stream",
     "text": [
      "C:\\Users\\Raj\\AppData\\Local\\Temp\\ipykernel_29048\\2168445501.py:6: FutureWarning: The frame.append method is deprecated and will be removed from pandas in a future version. Use pandas.concat instead.\n",
      "  df = df.append(scrape_page(topic[\"topic\"], topic[\"url\"]), ignore_index=True)\n",
      " 65%|██████▍   | 943/1452 [20:14<10:50,  1.28s/it]"
     ]
    },
    {
     "name": "stdout",
     "output_type": "stream",
     "text": [
      "Scraping Orthodontics...\n"
     ]
    },
    {
     "name": "stderr",
     "output_type": "stream",
     "text": [
      "C:\\Users\\Raj\\AppData\\Local\\Temp\\ipykernel_29048\\2168445501.py:6: FutureWarning: The frame.append method is deprecated and will be removed from pandas in a future version. Use pandas.concat instead.\n",
      "  df = df.append(scrape_page(topic[\"topic\"], topic[\"url\"]), ignore_index=True)\n",
      " 65%|██████▌   | 944/1452 [20:16<11:03,  1.31s/it]"
     ]
    },
    {
     "name": "stdout",
     "output_type": "stream",
     "text": [
      "Scraping Osgood Schlatter Condition...\n",
      "Found 7 sections for Osgood Schlatter Condition\n"
     ]
    },
    {
     "name": "stderr",
     "output_type": "stream",
     "text": [
      "C:\\Users\\Raj\\AppData\\Local\\Temp\\ipykernel_29048\\2168445501.py:6: FutureWarning: The frame.append method is deprecated and will be removed from pandas in a future version. Use pandas.concat instead.\n",
      "  df = df.append(scrape_page(topic[\"topic\"], topic[\"url\"]), ignore_index=True)\n",
      " 65%|██████▌   | 945/1452 [20:17<11:01,  1.31s/it]"
     ]
    },
    {
     "name": "stdout",
     "output_type": "stream",
     "text": [
      "Scraping Outpatient Services...\n"
     ]
    },
    {
     "name": "stderr",
     "output_type": "stream",
     "text": [
      "C:\\Users\\Raj\\AppData\\Local\\Temp\\ipykernel_29048\\2168445501.py:6: FutureWarning: The frame.append method is deprecated and will be removed from pandas in a future version. Use pandas.concat instead.\n",
      "  df = df.append(scrape_page(topic[\"topic\"], topic[\"url\"]), ignore_index=True)\n",
      " 65%|██████▌   | 946/1452 [20:19<12:02,  1.43s/it]"
     ]
    },
    {
     "name": "stdout",
     "output_type": "stream",
     "text": [
      "Scraping Ovarian Cysts...\n",
      "Found 8 sections for Ovarian Cysts\n"
     ]
    },
    {
     "name": "stderr",
     "output_type": "stream",
     "text": [
      "C:\\Users\\Raj\\AppData\\Local\\Temp\\ipykernel_29048\\2168445501.py:6: FutureWarning: The frame.append method is deprecated and will be removed from pandas in a future version. Use pandas.concat instead.\n",
      "  df = df.append(scrape_page(topic[\"topic\"], topic[\"url\"]), ignore_index=True)\n",
      " 65%|██████▌   | 947/1452 [20:20<11:30,  1.37s/it]"
     ]
    },
    {
     "name": "stdout",
     "output_type": "stream",
     "text": [
      "Scraping Ovarian Epithelial Cancer...\n",
      "Found 6 sections for Ovarian Epithelial Cancer\n"
     ]
    },
    {
     "name": "stderr",
     "output_type": "stream",
     "text": [
      "C:\\Users\\Raj\\AppData\\Local\\Temp\\ipykernel_29048\\2168445501.py:6: FutureWarning: The frame.append method is deprecated and will be removed from pandas in a future version. Use pandas.concat instead.\n",
      "  df = df.append(scrape_page(topic[\"topic\"], topic[\"url\"]), ignore_index=True)\n",
      " 65%|██████▌   | 948/1452 [20:21<11:11,  1.33s/it]"
     ]
    },
    {
     "name": "stdout",
     "output_type": "stream",
     "text": [
      "Scraping Ovarian Hyperthecosis...\n",
      "Found 14 sections for Ovarian Hyperthecosis\n"
     ]
    },
    {
     "name": "stderr",
     "output_type": "stream",
     "text": [
      "C:\\Users\\Raj\\AppData\\Local\\Temp\\ipykernel_29048\\2168445501.py:6: FutureWarning: The frame.append method is deprecated and will be removed from pandas in a future version. Use pandas.concat instead.\n",
      "  df = df.append(scrape_page(topic[\"topic\"], topic[\"url\"]), ignore_index=True)\n",
      " 65%|██████▌   | 949/1452 [20:22<10:51,  1.30s/it]"
     ]
    },
    {
     "name": "stdout",
     "output_type": "stream",
     "text": [
      "Scraping Ovarian Syndrome...\n",
      "Found 14 sections for Ovarian Syndrome\n"
     ]
    },
    {
     "name": "stderr",
     "output_type": "stream",
     "text": [
      "C:\\Users\\Raj\\AppData\\Local\\Temp\\ipykernel_29048\\2168445501.py:6: FutureWarning: The frame.append method is deprecated and will be removed from pandas in a future version. Use pandas.concat instead.\n",
      "  df = df.append(scrape_page(topic[\"topic\"], topic[\"url\"]), ignore_index=True)\n",
      " 65%|██████▌   | 950/1452 [20:24<10:39,  1.27s/it]"
     ]
    },
    {
     "name": "stdout",
     "output_type": "stream",
     "text": [
      "Scraping Overactive Thyroid...\n",
      "Found 12 sections for Overactive Thyroid\n"
     ]
    },
    {
     "name": "stderr",
     "output_type": "stream",
     "text": [
      "C:\\Users\\Raj\\AppData\\Local\\Temp\\ipykernel_29048\\2168445501.py:6: FutureWarning: The frame.append method is deprecated and will be removed from pandas in a future version. Use pandas.concat instead.\n",
      "  df = df.append(scrape_page(topic[\"topic\"], topic[\"url\"]), ignore_index=True)\n",
      " 65%|██████▌   | 951/1452 [20:25<10:55,  1.31s/it]"
     ]
    },
    {
     "name": "stdout",
     "output_type": "stream",
     "text": [
      "Scraping Over-the-Counter Medications (OTC)...\n",
      "Found 12 sections for Over-the-Counter Medications (OTC)\n"
     ]
    },
    {
     "name": "stderr",
     "output_type": "stream",
     "text": [
      "C:\\Users\\Raj\\AppData\\Local\\Temp\\ipykernel_29048\\2168445501.py:6: FutureWarning: The frame.append method is deprecated and will be removed from pandas in a future version. Use pandas.concat instead.\n",
      "  df = df.append(scrape_page(topic[\"topic\"], topic[\"url\"]), ignore_index=True)\n",
      " 66%|██████▌   | 952/1452 [20:26<10:43,  1.29s/it]"
     ]
    },
    {
     "name": "stdout",
     "output_type": "stream",
     "text": [
      "Scraping Overweight Child...\n"
     ]
    },
    {
     "name": "stderr",
     "output_type": "stream",
     "text": [
      "C:\\Users\\Raj\\AppData\\Local\\Temp\\ipykernel_29048\\2168445501.py:6: FutureWarning: The frame.append method is deprecated and will be removed from pandas in a future version. Use pandas.concat instead.\n",
      "  df = df.append(scrape_page(topic[\"topic\"], topic[\"url\"]), ignore_index=True)\n",
      " 66%|██████▌   | 953/1452 [20:28<11:40,  1.40s/it]"
     ]
    },
    {
     "name": "stdout",
     "output_type": "stream",
     "text": [
      "Scraping Ovulation Calendar...\n"
     ]
    },
    {
     "name": "stderr",
     "output_type": "stream",
     "text": [
      "C:\\Users\\Raj\\AppData\\Local\\Temp\\ipykernel_29048\\2168445501.py:6: FutureWarning: The frame.append method is deprecated and will be removed from pandas in a future version. Use pandas.concat instead.\n",
      "  df = df.append(scrape_page(topic[\"topic\"], topic[\"url\"]), ignore_index=True)\n",
      " 66%|██████▌   | 954/1452 [20:29<11:50,  1.43s/it]"
     ]
    },
    {
     "name": "stdout",
     "output_type": "stream",
     "text": [
      "Scraping Parathyroid, Underactivity of...\n"
     ]
    },
    {
     "name": "stderr",
     "output_type": "stream",
     "text": [
      "C:\\Users\\Raj\\AppData\\Local\\Temp\\ipykernel_29048\\2168445501.py:6: FutureWarning: The frame.append method is deprecated and will be removed from pandas in a future version. Use pandas.concat instead.\n",
      "  df = df.append(scrape_page(topic[\"topic\"], topic[\"url\"]), ignore_index=True)\n",
      " 66%|██████▌   | 955/1452 [20:31<11:29,  1.39s/it]C:\\Users\\Raj\\AppData\\Local\\Temp\\ipykernel_29048\\2168445501.py:6: FutureWarning: The frame.append method is deprecated and will be removed from pandas in a future version. Use pandas.concat instead.\n",
      "  df = df.append(scrape_page(topic[\"topic\"], topic[\"url\"]), ignore_index=True)\n"
     ]
    },
    {
     "name": "stdout",
     "output_type": "stream",
     "text": [
      "Scraping Paroxysmal Nocturnal Hemoglobinuria (PNH)...\n",
      "Found 14 sections for Paroxysmal Nocturnal Hemoglobinuria (PNH)\n"
     ]
    },
    {
     "name": "stderr",
     "output_type": "stream",
     "text": [
      " 66%|██████▌   | 956/1452 [20:32<11:03,  1.34s/it]"
     ]
    },
    {
     "name": "stdout",
     "output_type": "stream",
     "text": [
      "Scraping Phobias...\n",
      "Found 9 sections for Phobias\n"
     ]
    },
    {
     "name": "stderr",
     "output_type": "stream",
     "text": [
      "C:\\Users\\Raj\\AppData\\Local\\Temp\\ipykernel_29048\\2168445501.py:6: FutureWarning: The frame.append method is deprecated and will be removed from pandas in a future version. Use pandas.concat instead.\n",
      "  df = df.append(scrape_page(topic[\"topic\"], topic[\"url\"]), ignore_index=True)\n",
      " 66%|██████▌   | 957/1452 [20:34<11:55,  1.45s/it]C:\\Users\\Raj\\AppData\\Local\\Temp\\ipykernel_29048\\2168445501.py:6: FutureWarning: The frame.append method is deprecated and will be removed from pandas in a future version. Use pandas.concat instead.\n",
      "  df = df.append(scrape_page(topic[\"topic\"], topic[\"url\"]), ignore_index=True)\n"
     ]
    },
    {
     "name": "stdout",
     "output_type": "stream",
     "text": [
      "Scraping Physical Allergy Urticaria...\n",
      "Found 4 sections for Physical Allergy Urticaria\n"
     ]
    },
    {
     "name": "stderr",
     "output_type": "stream",
     "text": [
      " 66%|██████▌   | 958/1452 [20:35<11:21,  1.38s/it]"
     ]
    },
    {
     "name": "stdout",
     "output_type": "stream",
     "text": [
      "Scraping Pica...\n",
      "Found 6 sections for Pica\n"
     ]
    },
    {
     "name": "stderr",
     "output_type": "stream",
     "text": [
      "C:\\Users\\Raj\\AppData\\Local\\Temp\\ipykernel_29048\\2168445501.py:6: FutureWarning: The frame.append method is deprecated and will be removed from pandas in a future version. Use pandas.concat instead.\n",
      "  df = df.append(scrape_page(topic[\"topic\"], topic[\"url\"]), ignore_index=True)\n",
      " 66%|██████▌   | 959/1452 [20:36<10:57,  1.33s/it]"
     ]
    },
    {
     "name": "stdout",
     "output_type": "stream",
     "text": [
      "Scraping PID (Pelvic Inflammatory Disease)...\n",
      "Found 7 sections for PID (Pelvic Inflammatory Disease)\n"
     ]
    },
    {
     "name": "stderr",
     "output_type": "stream",
     "text": [
      "C:\\Users\\Raj\\AppData\\Local\\Temp\\ipykernel_29048\\2168445501.py:6: FutureWarning: The frame.append method is deprecated and will be removed from pandas in a future version. Use pandas.concat instead.\n",
      "  df = df.append(scrape_page(topic[\"topic\"], topic[\"url\"]), ignore_index=True)\n",
      " 66%|██████▌   | 960/1452 [20:37<10:43,  1.31s/it]"
     ]
    },
    {
     "name": "stdout",
     "output_type": "stream",
     "text": [
      "Scraping Placebo...\n",
      "Found 7 sections for Placebo\n"
     ]
    },
    {
     "name": "stderr",
     "output_type": "stream",
     "text": [
      "C:\\Users\\Raj\\AppData\\Local\\Temp\\ipykernel_29048\\2168445501.py:6: FutureWarning: The frame.append method is deprecated and will be removed from pandas in a future version. Use pandas.concat instead.\n",
      "  df = df.append(scrape_page(topic[\"topic\"], topic[\"url\"]), ignore_index=True)\n",
      " 66%|██████▌   | 961/1452 [20:39<10:41,  1.31s/it]"
     ]
    },
    {
     "name": "stdout",
     "output_type": "stream",
     "text": [
      "Scraping Plaque...\n",
      "Found 11 sections for Plaque\n"
     ]
    },
    {
     "name": "stderr",
     "output_type": "stream",
     "text": [
      "C:\\Users\\Raj\\AppData\\Local\\Temp\\ipykernel_29048\\2168445501.py:6: FutureWarning: The frame.append method is deprecated and will be removed from pandas in a future version. Use pandas.concat instead.\n",
      "  df = df.append(scrape_page(topic[\"topic\"], topic[\"url\"]), ignore_index=True)\n",
      " 66%|██████▋   | 962/1452 [20:40<10:33,  1.29s/it]"
     ]
    },
    {
     "name": "stdout",
     "output_type": "stream",
     "text": [
      "Scraping Plasmapheresis...\n",
      "Found 10 sections for Plasmapheresis\n"
     ]
    },
    {
     "name": "stderr",
     "output_type": "stream",
     "text": [
      "C:\\Users\\Raj\\AppData\\Local\\Temp\\ipykernel_29048\\2168445501.py:6: FutureWarning: The frame.append method is deprecated and will be removed from pandas in a future version. Use pandas.concat instead.\n",
      "  df = df.append(scrape_page(topic[\"topic\"], topic[\"url\"]), ignore_index=True)\n",
      " 66%|██████▋   | 963/1452 [20:41<10:26,  1.28s/it]C:\\Users\\Raj\\AppData\\Local\\Temp\\ipykernel_29048\\2168445501.py:6: FutureWarning: The frame.append method is deprecated and will be removed from pandas in a future version. Use pandas.concat instead.\n",
      "  df = df.append(scrape_page(topic[\"topic\"], topic[\"url\"]), ignore_index=True)\n"
     ]
    },
    {
     "name": "stdout",
     "output_type": "stream",
     "text": [
      "Scraping Platelet...\n",
      "Found 6 sections for Platelet\n"
     ]
    },
    {
     "name": "stderr",
     "output_type": "stream",
     "text": [
      " 66%|██████▋   | 964/1452 [20:42<10:17,  1.27s/it]"
     ]
    },
    {
     "name": "stdout",
     "output_type": "stream",
     "text": [
      "Scraping Pleura...\n",
      "Found 6 sections for Pleura\n"
     ]
    },
    {
     "name": "stderr",
     "output_type": "stream",
     "text": [
      "C:\\Users\\Raj\\AppData\\Local\\Temp\\ipykernel_29048\\2168445501.py:6: FutureWarning: The frame.append method is deprecated and will be removed from pandas in a future version. Use pandas.concat instead.\n",
      "  df = df.append(scrape_page(topic[\"topic\"], topic[\"url\"]), ignore_index=True)\n",
      " 66%|██████▋   | 965/1452 [20:44<10:15,  1.26s/it]"
     ]
    },
    {
     "name": "stdout",
     "output_type": "stream",
     "text": [
      "Scraping Pleuritis...\n",
      "Found 6 sections for Pleuritis\n"
     ]
    },
    {
     "name": "stderr",
     "output_type": "stream",
     "text": [
      "C:\\Users\\Raj\\AppData\\Local\\Temp\\ipykernel_29048\\2168445501.py:6: FutureWarning: The frame.append method is deprecated and will be removed from pandas in a future version. Use pandas.concat instead.\n",
      "  df = df.append(scrape_page(topic[\"topic\"], topic[\"url\"]), ignore_index=True)\n",
      " 67%|██████▋   | 966/1452 [20:45<10:14,  1.26s/it]"
     ]
    },
    {
     "name": "stdout",
     "output_type": "stream",
     "text": [
      "Scraping Pollen...\n",
      "Found 5 sections for Pollen\n"
     ]
    },
    {
     "name": "stderr",
     "output_type": "stream",
     "text": [
      "C:\\Users\\Raj\\AppData\\Local\\Temp\\ipykernel_29048\\2168445501.py:6: FutureWarning: The frame.append method is deprecated and will be removed from pandas in a future version. Use pandas.concat instead.\n",
      "  df = df.append(scrape_page(topic[\"topic\"], topic[\"url\"]), ignore_index=True)\n",
      " 67%|██████▋   | 967/1452 [20:46<10:09,  1.26s/it]C:\\Users\\Raj\\AppData\\Local\\Temp\\ipykernel_29048\\2168445501.py:6: FutureWarning: The frame.append method is deprecated and will be removed from pandas in a future version. Use pandas.concat instead.\n",
      "  df = df.append(scrape_page(topic[\"topic\"], topic[\"url\"]), ignore_index=True)\n"
     ]
    },
    {
     "name": "stdout",
     "output_type": "stream",
     "text": [
      "Scraping Polycythemia Vera...\n",
      "Found 11 sections for Polycythemia Vera\n"
     ]
    },
    {
     "name": "stderr",
     "output_type": "stream",
     "text": [
      " 67%|██████▋   | 968/1452 [20:47<10:03,  1.25s/it]"
     ]
    },
    {
     "name": "stdout",
     "output_type": "stream",
     "text": [
      "Scraping Polymyalgia Rheumatica...\n",
      "Found 13 sections for Polymyalgia Rheumatica\n"
     ]
    },
    {
     "name": "stderr",
     "output_type": "stream",
     "text": [
      "C:\\Users\\Raj\\AppData\\Local\\Temp\\ipykernel_29048\\2168445501.py:6: FutureWarning: The frame.append method is deprecated and will be removed from pandas in a future version. Use pandas.concat instead.\n",
      "  df = df.append(scrape_page(topic[\"topic\"], topic[\"url\"]), ignore_index=True)\n",
      " 67%|██████▋   | 969/1452 [20:49<10:01,  1.25s/it]"
     ]
    },
    {
     "name": "stdout",
     "output_type": "stream",
     "text": [
      "Scraping Polyp...\n",
      "Found 22 sections for Polyp\n"
     ]
    },
    {
     "name": "stderr",
     "output_type": "stream",
     "text": [
      "C:\\Users\\Raj\\AppData\\Local\\Temp\\ipykernel_29048\\2168445501.py:6: FutureWarning: The frame.append method is deprecated and will be removed from pandas in a future version. Use pandas.concat instead.\n",
      "  df = df.append(scrape_page(topic[\"topic\"], topic[\"url\"]), ignore_index=True)\n",
      " 67%|██████▋   | 970/1452 [20:50<09:58,  1.24s/it]"
     ]
    },
    {
     "name": "stdout",
     "output_type": "stream",
     "text": [
      "Scraping Pompe Disease...\n",
      "Found 11 sections for Pompe Disease\n"
     ]
    },
    {
     "name": "stderr",
     "output_type": "stream",
     "text": [
      "C:\\Users\\Raj\\AppData\\Local\\Temp\\ipykernel_29048\\2168445501.py:6: FutureWarning: The frame.append method is deprecated and will be removed from pandas in a future version. Use pandas.concat instead.\n",
      "  df = df.append(scrape_page(topic[\"topic\"], topic[\"url\"]), ignore_index=True)\n",
      " 67%|██████▋   | 971/1452 [20:52<11:27,  1.43s/it]"
     ]
    },
    {
     "name": "stdout",
     "output_type": "stream",
     "text": [
      "Scraping Porcelain Inlay...\n",
      "Found 17 sections for Porcelain Inlay\n"
     ]
    },
    {
     "name": "stderr",
     "output_type": "stream",
     "text": [
      "C:\\Users\\Raj\\AppData\\Local\\Temp\\ipykernel_29048\\2168445501.py:6: FutureWarning: The frame.append method is deprecated and will be removed from pandas in a future version. Use pandas.concat instead.\n",
      "  df = df.append(scrape_page(topic[\"topic\"], topic[\"url\"]), ignore_index=True)\n",
      " 67%|██████▋   | 972/1452 [20:53<11:00,  1.38s/it]"
     ]
    },
    {
     "name": "stdout",
     "output_type": "stream",
     "text": [
      "Scraping Postcoital Test...\n",
      "Found 7 sections for Postcoital Test\n"
     ]
    },
    {
     "name": "stderr",
     "output_type": "stream",
     "text": [
      "C:\\Users\\Raj\\AppData\\Local\\Temp\\ipykernel_29048\\2168445501.py:6: FutureWarning: The frame.append method is deprecated and will be removed from pandas in a future version. Use pandas.concat instead.\n",
      "  df = df.append(scrape_page(topic[\"topic\"], topic[\"url\"]), ignore_index=True)\n",
      " 67%|██████▋   | 973/1452 [20:54<10:41,  1.34s/it]"
     ]
    },
    {
     "name": "stdout",
     "output_type": "stream",
     "text": [
      "Scraping Posttraumatic Stress Disorder (PTSD)...\n",
      "Found 11 sections for Posttraumatic Stress Disorder (PTSD)\n"
     ]
    },
    {
     "name": "stderr",
     "output_type": "stream",
     "text": [
      "C:\\Users\\Raj\\AppData\\Local\\Temp\\ipykernel_29048\\2168445501.py:6: FutureWarning: The frame.append method is deprecated and will be removed from pandas in a future version. Use pandas.concat instead.\n",
      "  df = df.append(scrape_page(topic[\"topic\"], topic[\"url\"]), ignore_index=True)\n",
      " 67%|██████▋   | 974/1452 [20:56<10:36,  1.33s/it]"
     ]
    },
    {
     "name": "stdout",
     "output_type": "stream",
     "text": [
      "Scraping Posttraumatic Stress Syndrome...\n",
      "Found 6 sections for Posttraumatic Stress Syndrome\n"
     ]
    },
    {
     "name": "stderr",
     "output_type": "stream",
     "text": [
      "C:\\Users\\Raj\\AppData\\Local\\Temp\\ipykernel_29048\\2168445501.py:6: FutureWarning: The frame.append method is deprecated and will be removed from pandas in a future version. Use pandas.concat instead.\n",
      "  df = df.append(scrape_page(topic[\"topic\"], topic[\"url\"]), ignore_index=True)\n",
      " 67%|██████▋   | 975/1452 [20:57<11:35,  1.46s/it]"
     ]
    },
    {
     "name": "stdout",
     "output_type": "stream",
     "text": [
      "Scraping Postural Tremor...\n",
      "Found 6 sections for Postural Tremor\n"
     ]
    },
    {
     "name": "stderr",
     "output_type": "stream",
     "text": [
      "C:\\Users\\Raj\\AppData\\Local\\Temp\\ipykernel_29048\\2168445501.py:6: FutureWarning: The frame.append method is deprecated and will be removed from pandas in a future version. Use pandas.concat instead.\n",
      "  df = df.append(scrape_page(topic[\"topic\"], topic[\"url\"]), ignore_index=True)\n",
      " 67%|██████▋   | 976/1452 [20:59<11:01,  1.39s/it]"
     ]
    },
    {
     "name": "stdout",
     "output_type": "stream",
     "text": [
      "Scraping Potassium (K)...\n",
      "Found 6 sections for Potassium (K)\n"
     ]
    },
    {
     "name": "stderr",
     "output_type": "stream",
     "text": [
      "C:\\Users\\Raj\\AppData\\Local\\Temp\\ipykernel_29048\\2168445501.py:6: FutureWarning: The frame.append method is deprecated and will be removed from pandas in a future version. Use pandas.concat instead.\n",
      "  df = df.append(scrape_page(topic[\"topic\"], topic[\"url\"]), ignore_index=True)\n",
      " 67%|██████▋   | 977/1452 [21:00<10:43,  1.35s/it]C:\\Users\\Raj\\AppData\\Local\\Temp\\ipykernel_29048\\2168445501.py:6: FutureWarning: The frame.append method is deprecated and will be removed from pandas in a future version. Use pandas.concat instead.\n",
      "  df = df.append(scrape_page(topic[\"topic\"], topic[\"url\"]), ignore_index=True)\n"
     ]
    },
    {
     "name": "stdout",
     "output_type": "stream",
     "text": [
      "Scraping Prediabetes...\n",
      "Found 10 sections for Prediabetes\n"
     ]
    },
    {
     "name": "stderr",
     "output_type": "stream",
     "text": [
      " 67%|██████▋   | 978/1452 [21:01<10:22,  1.31s/it]"
     ]
    },
    {
     "name": "stdout",
     "output_type": "stream",
     "text": [
      "Scraping Preeclampsia and High Blood Pressure...\n",
      "Found 12 sections for Preeclampsia and High Blood Pressure\n"
     ]
    },
    {
     "name": "stderr",
     "output_type": "stream",
     "text": [
      "C:\\Users\\Raj\\AppData\\Local\\Temp\\ipykernel_29048\\2168445501.py:6: FutureWarning: The frame.append method is deprecated and will be removed from pandas in a future version. Use pandas.concat instead.\n",
      "  df = df.append(scrape_page(topic[\"topic\"], topic[\"url\"]), ignore_index=True)\n",
      " 67%|██████▋   | 979/1452 [21:02<10:28,  1.33s/it]"
     ]
    },
    {
     "name": "stdout",
     "output_type": "stream",
     "text": [
      "Scraping Pregnancy with Asthma...\n",
      "Found 7 sections for Pregnancy with Asthma\n"
     ]
    },
    {
     "name": "stderr",
     "output_type": "stream",
     "text": [
      "C:\\Users\\Raj\\AppData\\Local\\Temp\\ipykernel_29048\\2168445501.py:6: FutureWarning: The frame.append method is deprecated and will be removed from pandas in a future version. Use pandas.concat instead.\n",
      "  df = df.append(scrape_page(topic[\"topic\"], topic[\"url\"]), ignore_index=True)\n",
      " 67%|██████▋   | 980/1452 [21:04<10:14,  1.30s/it]"
     ]
    },
    {
     "name": "stdout",
     "output_type": "stream",
     "text": [
      "Scraping Pregnancy, Ectopic...\n",
      "Found 11 sections for Pregnancy, Ectopic\n"
     ]
    },
    {
     "name": "stderr",
     "output_type": "stream",
     "text": [
      "C:\\Users\\Raj\\AppData\\Local\\Temp\\ipykernel_29048\\2168445501.py:6: FutureWarning: The frame.append method is deprecated and will be removed from pandas in a future version. Use pandas.concat instead.\n",
      "  df = df.append(scrape_page(topic[\"topic\"], topic[\"url\"]), ignore_index=True)\n",
      " 68%|██████▊   | 981/1452 [21:05<10:03,  1.28s/it]C:\\Users\\Raj\\AppData\\Local\\Temp\\ipykernel_29048\\2168445501.py:6: FutureWarning: The frame.append method is deprecated and will be removed from pandas in a future version. Use pandas.concat instead.\n",
      "  df = df.append(scrape_page(topic[\"topic\"], topic[\"url\"]), ignore_index=True)\n"
     ]
    },
    {
     "name": "stdout",
     "output_type": "stream",
     "text": [
      "Scraping Pregnancy, Extrauterine...\n",
      "Found 11 sections for Pregnancy, Extrauterine\n"
     ]
    },
    {
     "name": "stderr",
     "output_type": "stream",
     "text": [
      " 68%|██████▊   | 982/1452 [21:06<09:50,  1.26s/it]C:\\Users\\Raj\\AppData\\Local\\Temp\\ipykernel_29048\\2168445501.py:6: FutureWarning: The frame.append method is deprecated and will be removed from pandas in a future version. Use pandas.concat instead.\n",
      "  df = df.append(scrape_page(topic[\"topic\"], topic[\"url\"]), ignore_index=True)\n"
     ]
    },
    {
     "name": "stdout",
     "output_type": "stream",
     "text": [
      "Scraping Pregnancy, Tubal...\n",
      "Found 11 sections for Pregnancy, Tubal\n"
     ]
    },
    {
     "name": "stderr",
     "output_type": "stream",
     "text": [
      " 68%|██████▊   | 983/1452 [21:07<09:45,  1.25s/it]C:\\Users\\Raj\\AppData\\Local\\Temp\\ipykernel_29048\\2168445501.py:6: FutureWarning: The frame.append method is deprecated and will be removed from pandas in a future version. Use pandas.concat instead.\n",
      "  df = df.append(scrape_page(topic[\"topic\"], topic[\"url\"]), ignore_index=True)\n"
     ]
    },
    {
     "name": "stdout",
     "output_type": "stream",
     "text": [
      "Scraping Pregnancy: Fetal Development Slideshow...\n"
     ]
    },
    {
     "name": "stderr",
     "output_type": "stream",
     "text": [
      " 68%|██████▊   | 984/1452 [21:08<09:34,  1.23s/it]"
     ]
    },
    {
     "name": "stdout",
     "output_type": "stream",
     "text": [
      "Scraping Premature Infant...\n",
      "Found 4 sections for Premature Infant\n"
     ]
    },
    {
     "name": "stderr",
     "output_type": "stream",
     "text": [
      "C:\\Users\\Raj\\AppData\\Local\\Temp\\ipykernel_29048\\2168445501.py:6: FutureWarning: The frame.append method is deprecated and will be removed from pandas in a future version. Use pandas.concat instead.\n",
      "  df = df.append(scrape_page(topic[\"topic\"], topic[\"url\"]), ignore_index=True)\n",
      " 68%|██████▊   | 985/1452 [21:10<11:05,  1.43s/it]C:\\Users\\Raj\\AppData\\Local\\Temp\\ipykernel_29048\\2168445501.py:6: FutureWarning: The frame.append method is deprecated and will be removed from pandas in a future version. Use pandas.concat instead.\n",
      "  df = df.append(scrape_page(topic[\"topic\"], topic[\"url\"]), ignore_index=True)\n"
     ]
    },
    {
     "name": "stdout",
     "output_type": "stream",
     "text": [
      "Scraping Premenstrual Syndrome (PMS)...\n",
      "Found 10 sections for Premenstrual Syndrome (PMS)\n"
     ]
    },
    {
     "name": "stderr",
     "output_type": "stream",
     "text": [
      " 68%|██████▊   | 986/1452 [21:12<10:35,  1.36s/it]C:\\Users\\Raj\\AppData\\Local\\Temp\\ipykernel_29048\\2168445501.py:6: FutureWarning: The frame.append method is deprecated and will be removed from pandas in a future version. Use pandas.concat instead.\n",
      "  df = df.append(scrape_page(topic[\"topic\"], topic[\"url\"]), ignore_index=True)\n"
     ]
    },
    {
     "name": "stdout",
     "output_type": "stream",
     "text": [
      "Scraping Presbyopia...\n",
      "Found 5 sections for Presbyopia\n"
     ]
    },
    {
     "name": "stderr",
     "output_type": "stream",
     "text": [
      " 68%|██████▊   | 987/1452 [21:13<10:14,  1.32s/it]"
     ]
    },
    {
     "name": "stdout",
     "output_type": "stream",
     "text": [
      "Scraping Preterm Labor...\n",
      "Found 11 sections for Preterm Labor\n"
     ]
    },
    {
     "name": "stderr",
     "output_type": "stream",
     "text": [
      "C:\\Users\\Raj\\AppData\\Local\\Temp\\ipykernel_29048\\2168445501.py:6: FutureWarning: The frame.append method is deprecated and will be removed from pandas in a future version. Use pandas.concat instead.\n",
      "  df = df.append(scrape_page(topic[\"topic\"], topic[\"url\"]), ignore_index=True)\n",
      " 68%|██████▊   | 988/1452 [21:14<10:01,  1.30s/it]"
     ]
    },
    {
     "name": "stdout",
     "output_type": "stream",
     "text": [
      "Scraping Prevention of Liver Cancer...\n",
      "Found 1 sections for Prevention of Liver Cancer\n"
     ]
    },
    {
     "name": "stderr",
     "output_type": "stream",
     "text": [
      "C:\\Users\\Raj\\AppData\\Local\\Temp\\ipykernel_29048\\2168445501.py:6: FutureWarning: The frame.append method is deprecated and will be removed from pandas in a future version. Use pandas.concat instead.\n",
      "  df = df.append(scrape_page(topic[\"topic\"], topic[\"url\"]), ignore_index=True)\n",
      " 68%|██████▊   | 989/1452 [21:15<09:53,  1.28s/it]"
     ]
    },
    {
     "name": "stdout",
     "output_type": "stream",
     "text": [
      "Scraping Primary Immunodeficiency...\n"
     ]
    },
    {
     "name": "stderr",
     "output_type": "stream",
     "text": [
      "C:\\Users\\Raj\\AppData\\Local\\Temp\\ipykernel_29048\\2168445501.py:6: FutureWarning: The frame.append method is deprecated and will be removed from pandas in a future version. Use pandas.concat instead.\n",
      "  df = df.append(scrape_page(topic[\"topic\"], topic[\"url\"]), ignore_index=True)\n",
      " 68%|██████▊   | 990/1452 [21:17<09:58,  1.30s/it]"
     ]
    },
    {
     "name": "stdout",
     "output_type": "stream",
     "text": [
      "Scraping Pulmonary Arterial Hypertension...\n",
      "Found 12 sections for Pulmonary Arterial Hypertension\n"
     ]
    },
    {
     "name": "stderr",
     "output_type": "stream",
     "text": [
      "C:\\Users\\Raj\\AppData\\Local\\Temp\\ipykernel_29048\\2168445501.py:6: FutureWarning: The frame.append method is deprecated and will be removed from pandas in a future version. Use pandas.concat instead.\n",
      "  df = df.append(scrape_page(topic[\"topic\"], topic[\"url\"]), ignore_index=True)\n",
      " 68%|██████▊   | 991/1452 [21:18<09:50,  1.28s/it]C:\\Users\\Raj\\AppData\\Local\\Temp\\ipykernel_29048\\2168445501.py:6: FutureWarning: The frame.append method is deprecated and will be removed from pandas in a future version. Use pandas.concat instead.\n",
      "  df = df.append(scrape_page(topic[\"topic\"], topic[\"url\"]), ignore_index=True)\n"
     ]
    },
    {
     "name": "stdout",
     "output_type": "stream",
     "text": [
      "Scraping Purpura, Henoch-Schonlein...\n",
      "Found 5 sections for Purpura, Henoch-Schonlein\n"
     ]
    },
    {
     "name": "stderr",
     "output_type": "stream",
     "text": [
      " 68%|██████▊   | 992/1452 [21:19<09:37,  1.26s/it]C:\\Users\\Raj\\AppData\\Local\\Temp\\ipykernel_29048\\2168445501.py:6: FutureWarning: The frame.append method is deprecated and will be removed from pandas in a future version. Use pandas.concat instead.\n",
      "  df = df.append(scrape_page(topic[\"topic\"], topic[\"url\"]), ignore_index=True)\n"
     ]
    },
    {
     "name": "stdout",
     "output_type": "stream",
     "text": [
      "Scraping Paroxysmal Positional Nystagmus...\n",
      "Found 8 sections for Paroxysmal Positional Nystagmus\n"
     ]
    },
    {
     "name": "stderr",
     "output_type": "stream",
     "text": [
      " 68%|██████▊   | 993/1452 [21:20<09:25,  1.23s/it]"
     ]
    },
    {
     "name": "stdout",
     "output_type": "stream",
     "text": [
      "Scraping Paroxysmal Sleep...\n",
      "Found 7 sections for Paroxysmal Sleep\n"
     ]
    },
    {
     "name": "stderr",
     "output_type": "stream",
     "text": [
      "C:\\Users\\Raj\\AppData\\Local\\Temp\\ipykernel_29048\\2168445501.py:6: FutureWarning: The frame.append method is deprecated and will be removed from pandas in a future version. Use pandas.concat instead.\n",
      "  df = df.append(scrape_page(topic[\"topic\"], topic[\"url\"]), ignore_index=True)\n",
      " 68%|██████▊   | 994/1452 [21:21<09:22,  1.23s/it]"
     ]
    },
    {
     "name": "stdout",
     "output_type": "stream",
     "text": [
      "Scraping Pfeiffer Syndrome Type I...\n",
      "Found 8 sections for Pfeiffer Syndrome Type I\n"
     ]
    },
    {
     "name": "stderr",
     "output_type": "stream",
     "text": [
      "C:\\Users\\Raj\\AppData\\Local\\Temp\\ipykernel_29048\\2168445501.py:6: FutureWarning: The frame.append method is deprecated and will be removed from pandas in a future version. Use pandas.concat instead.\n",
      "  df = df.append(scrape_page(topic[\"topic\"], topic[\"url\"]), ignore_index=True)\n",
      " 69%|██████▊   | 995/1452 [21:23<09:24,  1.24s/it]"
     ]
    },
    {
     "name": "stdout",
     "output_type": "stream",
     "text": [
      "Scraping Phakomatosis TS...\n",
      "Found 13 sections for Phakomatosis TS\n"
     ]
    },
    {
     "name": "stderr",
     "output_type": "stream",
     "text": [
      "C:\\Users\\Raj\\AppData\\Local\\Temp\\ipykernel_29048\\2168445501.py:6: FutureWarning: The frame.append method is deprecated and will be removed from pandas in a future version. Use pandas.concat instead.\n",
      "  df = df.append(scrape_page(topic[\"topic\"], topic[\"url\"]), ignore_index=True)\n",
      " 69%|██████▊   | 996/1452 [21:24<09:26,  1.24s/it]"
     ]
    },
    {
     "name": "stdout",
     "output_type": "stream",
     "text": [
      "Scraping Pharmacogenic Myopathy...\n",
      "Found 8 sections for Pharmacogenic Myopathy\n"
     ]
    },
    {
     "name": "stderr",
     "output_type": "stream",
     "text": [
      "C:\\Users\\Raj\\AppData\\Local\\Temp\\ipykernel_29048\\2168445501.py:6: FutureWarning: The frame.append method is deprecated and will be removed from pandas in a future version. Use pandas.concat instead.\n",
      "  df = df.append(scrape_page(topic[\"topic\"], topic[\"url\"]), ignore_index=True)\n",
      " 69%|██████▊   | 997/1452 [21:25<09:25,  1.24s/it]"
     ]
    },
    {
     "name": "stdout",
     "output_type": "stream",
     "text": [
      "Scraping Phenylketonuria (PKU)...\n",
      "Found 6 sections for Phenylketonuria (PKU)\n"
     ]
    },
    {
     "name": "stderr",
     "output_type": "stream",
     "text": [
      "C:\\Users\\Raj\\AppData\\Local\\Temp\\ipykernel_29048\\2168445501.py:6: FutureWarning: The frame.append method is deprecated and will be removed from pandas in a future version. Use pandas.concat instead.\n",
      "  df = df.append(scrape_page(topic[\"topic\"], topic[\"url\"]), ignore_index=True)\n",
      " 69%|██████▊   | 998/1452 [21:26<09:23,  1.24s/it]"
     ]
    },
    {
     "name": "stdout",
     "output_type": "stream",
     "text": [
      "Scraping Physical Abuse...\n",
      "Found 12 sections for Physical Abuse\n"
     ]
    },
    {
     "name": "stderr",
     "output_type": "stream",
     "text": [
      "C:\\Users\\Raj\\AppData\\Local\\Temp\\ipykernel_29048\\2168445501.py:6: FutureWarning: The frame.append method is deprecated and will be removed from pandas in a future version. Use pandas.concat instead.\n",
      "  df = df.append(scrape_page(topic[\"topic\"], topic[\"url\"]), ignore_index=True)\n",
      " 69%|██████▉   | 999/1452 [21:28<09:32,  1.26s/it]"
     ]
    },
    {
     "name": "stdout",
     "output_type": "stream",
     "text": [
      "Scraping Physical Fitness...\n",
      "Found 7 sections for Physical Fitness\n"
     ]
    },
    {
     "name": "stderr",
     "output_type": "stream",
     "text": [
      "C:\\Users\\Raj\\AppData\\Local\\Temp\\ipykernel_29048\\2168445501.py:6: FutureWarning: The frame.append method is deprecated and will be removed from pandas in a future version. Use pandas.concat instead.\n",
      "  df = df.append(scrape_page(topic[\"topic\"], topic[\"url\"]), ignore_index=True)\n",
      " 69%|██████▉   | 1000/1452 [21:29<09:28,  1.26s/it]"
     ]
    },
    {
     "name": "stdout",
     "output_type": "stream",
     "text": [
      "Scraping Physical Therapy...\n",
      "Found 6 sections for Physical Therapy\n"
     ]
    },
    {
     "name": "stderr",
     "output_type": "stream",
     "text": [
      "C:\\Users\\Raj\\AppData\\Local\\Temp\\ipykernel_29048\\2168445501.py:6: FutureWarning: The frame.append method is deprecated and will be removed from pandas in a future version. Use pandas.concat instead.\n",
      "  df = df.append(scrape_page(topic[\"topic\"], topic[\"url\"]), ignore_index=True)\n",
      " 69%|██████▉   | 1001/1452 [21:30<09:26,  1.26s/it]"
     ]
    },
    {
     "name": "stdout",
     "output_type": "stream",
     "text": [
      "Scraping Physical Urticaria, Cholinergic Type...\n",
      "Found 8 sections for Physical Urticaria, Cholinergic Type\n"
     ]
    },
    {
     "name": "stderr",
     "output_type": "stream",
     "text": [
      "C:\\Users\\Raj\\AppData\\Local\\Temp\\ipykernel_29048\\2168445501.py:6: FutureWarning: The frame.append method is deprecated and will be removed from pandas in a future version. Use pandas.concat instead.\n",
      "  df = df.append(scrape_page(topic[\"topic\"], topic[\"url\"]), ignore_index=True)\n",
      " 69%|██████▉   | 1002/1452 [21:32<09:27,  1.26s/it]"
     ]
    },
    {
     "name": "stdout",
     "output_type": "stream",
     "text": [
      "Scraping PI...\n",
      "Found 11 sections for PI\n"
     ]
    },
    {
     "name": "stderr",
     "output_type": "stream",
     "text": [
      "C:\\Users\\Raj\\AppData\\Local\\Temp\\ipykernel_29048\\2168445501.py:6: FutureWarning: The frame.append method is deprecated and will be removed from pandas in a future version. Use pandas.concat instead.\n",
      "  df = df.append(scrape_page(topic[\"topic\"], topic[\"url\"]), ignore_index=True)\n",
      " 69%|██████▉   | 1003/1452 [21:33<09:22,  1.25s/it]"
     ]
    },
    {
     "name": "stdout",
     "output_type": "stream",
     "text": [
      "Scraping Pick's Disease...\n",
      "Found 7 sections for Pick's Disease\n"
     ]
    },
    {
     "name": "stderr",
     "output_type": "stream",
     "text": [
      "C:\\Users\\Raj\\AppData\\Local\\Temp\\ipykernel_29048\\2168445501.py:6: FutureWarning: The frame.append method is deprecated and will be removed from pandas in a future version. Use pandas.concat instead.\n",
      "  df = df.append(scrape_page(topic[\"topic\"], topic[\"url\"]), ignore_index=True)\n",
      " 69%|██████▉   | 1004/1452 [21:34<09:17,  1.25s/it]"
     ]
    },
    {
     "name": "stdout",
     "output_type": "stream",
     "text": [
      "Scraping Piercings...\n",
      "Found 11 sections for Piercings\n"
     ]
    },
    {
     "name": "stderr",
     "output_type": "stream",
     "text": [
      "C:\\Users\\Raj\\AppData\\Local\\Temp\\ipykernel_29048\\2168445501.py:6: FutureWarning: The frame.append method is deprecated and will be removed from pandas in a future version. Use pandas.concat instead.\n",
      "  df = df.append(scrape_page(topic[\"topic\"], topic[\"url\"]), ignore_index=True)\n",
      " 69%|██████▉   | 1005/1452 [21:35<09:19,  1.25s/it]C:\\Users\\Raj\\AppData\\Local\\Temp\\ipykernel_29048\\2168445501.py:6: FutureWarning: The frame.append method is deprecated and will be removed from pandas in a future version. Use pandas.concat instead.\n",
      "  df = df.append(scrape_page(topic[\"topic\"], topic[\"url\"]), ignore_index=True)\n"
     ]
    },
    {
     "name": "stdout",
     "output_type": "stream",
     "text": [
      "Scraping Pilonidal Disease...\n",
      "Found 10 sections for Pilonidal Disease\n"
     ]
    },
    {
     "name": "stderr",
     "output_type": "stream",
     "text": [
      " 69%|██████▉   | 1006/1452 [21:36<09:13,  1.24s/it]"
     ]
    },
    {
     "name": "stdout",
     "output_type": "stream",
     "text": [
      "Scraping Pneumonia...\n",
      "Found 7 sections for Pneumonia\n"
     ]
    },
    {
     "name": "stderr",
     "output_type": "stream",
     "text": [
      "C:\\Users\\Raj\\AppData\\Local\\Temp\\ipykernel_29048\\2168445501.py:6: FutureWarning: The frame.append method is deprecated and will be removed from pandas in a future version. Use pandas.concat instead.\n",
      "  df = df.append(scrape_page(topic[\"topic\"], topic[\"url\"]), ignore_index=True)\n",
      " 69%|██████▉   | 1007/1452 [21:38<09:11,  1.24s/it]C:\\Users\\Raj\\AppData\\Local\\Temp\\ipykernel_29048\\2168445501.py:6: FutureWarning: The frame.append method is deprecated and will be removed from pandas in a future version. Use pandas.concat instead.\n",
      "  df = df.append(scrape_page(topic[\"topic\"], topic[\"url\"]), ignore_index=True)\n"
     ]
    },
    {
     "name": "stdout",
     "output_type": "stream",
     "text": [
      "Scraping Polycystic Ovary Syndrome (PCOS)...\n",
      "Found 14 sections for Polycystic Ovary Syndrome (PCOS)\n"
     ]
    },
    {
     "name": "stderr",
     "output_type": "stream",
     "text": [
      " 69%|██████▉   | 1008/1452 [21:39<09:03,  1.22s/it]"
     ]
    },
    {
     "name": "stdout",
     "output_type": "stream",
     "text": [
      "Scraping Polymyositis...\n",
      "Found 7 sections for Polymyositis\n"
     ]
    },
    {
     "name": "stderr",
     "output_type": "stream",
     "text": [
      "C:\\Users\\Raj\\AppData\\Local\\Temp\\ipykernel_29048\\2168445501.py:6: FutureWarning: The frame.append method is deprecated and will be removed from pandas in a future version. Use pandas.concat instead.\n",
      "  df = df.append(scrape_page(topic[\"topic\"], topic[\"url\"]), ignore_index=True)\n",
      " 69%|██████▉   | 1009/1452 [21:40<09:08,  1.24s/it]"
     ]
    },
    {
     "name": "stdout",
     "output_type": "stream",
     "text": [
      "Scraping Pornography Addiction...\n",
      "Found 9 sections for Pornography Addiction\n"
     ]
    },
    {
     "name": "stderr",
     "output_type": "stream",
     "text": [
      "C:\\Users\\Raj\\AppData\\Local\\Temp\\ipykernel_29048\\2168445501.py:6: FutureWarning: The frame.append method is deprecated and will be removed from pandas in a future version. Use pandas.concat instead.\n",
      "  df = df.append(scrape_page(topic[\"topic\"], topic[\"url\"]), ignore_index=True)\n",
      " 70%|██████▉   | 1010/1452 [21:41<09:07,  1.24s/it]C:\\Users\\Raj\\AppData\\Local\\Temp\\ipykernel_29048\\2168445501.py:6: FutureWarning: The frame.append method is deprecated and will be removed from pandas in a future version. Use pandas.concat instead.\n",
      "  df = df.append(scrape_page(topic[\"topic\"], topic[\"url\"]), ignore_index=True)\n"
     ]
    },
    {
     "name": "stdout",
     "output_type": "stream",
     "text": [
      "Scraping Positron Emission Tomography (PET)...\n",
      "Found 8 sections for Positron Emission Tomography (PET)\n"
     ]
    },
    {
     "name": "stderr",
     "output_type": "stream",
     "text": [
      " 70%|██████▉   | 1011/1452 [21:43<09:03,  1.23s/it]C:\\Users\\Raj\\AppData\\Local\\Temp\\ipykernel_29048\\2168445501.py:6: FutureWarning: The frame.append method is deprecated and will be removed from pandas in a future version. Use pandas.concat instead.\n",
      "  df = df.append(scrape_page(topic[\"topic\"], topic[\"url\"]), ignore_index=True)\n"
     ]
    },
    {
     "name": "stdout",
     "output_type": "stream",
     "text": [
      "Scraping PPH...\n",
      "Found 12 sections for PPH\n"
     ]
    },
    {
     "name": "stderr",
     "output_type": "stream",
     "text": [
      " 70%|██████▉   | 1012/1452 [21:44<08:56,  1.22s/it]C:\\Users\\Raj\\AppData\\Local\\Temp\\ipykernel_29048\\2168445501.py:6: FutureWarning: The frame.append method is deprecated and will be removed from pandas in a future version. Use pandas.concat instead.\n",
      "  df = df.append(scrape_page(topic[\"topic\"], topic[\"url\"]), ignore_index=True)\n"
     ]
    },
    {
     "name": "stdout",
     "output_type": "stream",
     "text": [
      "Scraping PPS (Post-Polio Syndrome)...\n",
      "Found 5 sections for PPS (Post-Polio Syndrome)\n"
     ]
    },
    {
     "name": "stderr",
     "output_type": "stream",
     "text": [
      " 70%|██████▉   | 1013/1452 [21:45<08:55,  1.22s/it]"
     ]
    },
    {
     "name": "stdout",
     "output_type": "stream",
     "text": [
      "Scraping Prader Willi Syndrome...\n",
      "Found 9 sections for Prader Willi Syndrome\n"
     ]
    },
    {
     "name": "stderr",
     "output_type": "stream",
     "text": [
      "C:\\Users\\Raj\\AppData\\Local\\Temp\\ipykernel_29048\\2168445501.py:6: FutureWarning: The frame.append method is deprecated and will be removed from pandas in a future version. Use pandas.concat instead.\n",
      "  df = df.append(scrape_page(topic[\"topic\"], topic[\"url\"]), ignore_index=True)\n",
      " 70%|██████▉   | 1014/1452 [21:46<08:58,  1.23s/it]C:\\Users\\Raj\\AppData\\Local\\Temp\\ipykernel_29048\\2168445501.py:6: FutureWarning: The frame.append method is deprecated and will be removed from pandas in a future version. Use pandas.concat instead.\n",
      "  df = df.append(scrape_page(topic[\"topic\"], topic[\"url\"]), ignore_index=True)\n"
     ]
    },
    {
     "name": "stdout",
     "output_type": "stream",
     "text": [
      "Scraping Prader-Labhart-Willi Fancone Syndrome...\n",
      "Found 9 sections for Prader-Labhart-Willi Fancone Syndrome\n"
     ]
    },
    {
     "name": "stderr",
     "output_type": "stream",
     "text": [
      " 70%|██████▉   | 1015/1452 [21:47<08:53,  1.22s/it]C:\\Users\\Raj\\AppData\\Local\\Temp\\ipykernel_29048\\2168445501.py:6: FutureWarning: The frame.append method is deprecated and will be removed from pandas in a future version. Use pandas.concat instead.\n",
      "  df = df.append(scrape_page(topic[\"topic\"], topic[\"url\"]), ignore_index=True)\n"
     ]
    },
    {
     "name": "stdout",
     "output_type": "stream",
     "text": [
      "Scraping Prayer...\n",
      "Found 14 sections for Prayer\n"
     ]
    },
    {
     "name": "stderr",
     "output_type": "stream",
     "text": [
      " 70%|██████▉   | 1016/1452 [21:49<08:52,  1.22s/it]"
     ]
    },
    {
     "name": "stdout",
     "output_type": "stream",
     "text": [
      "Scraping Prealbumin Tyr-77 Amyloidosis...\n"
     ]
    },
    {
     "name": "stderr",
     "output_type": "stream",
     "text": [
      "C:\\Users\\Raj\\AppData\\Local\\Temp\\ipykernel_29048\\2168445501.py:6: FutureWarning: The frame.append method is deprecated and will be removed from pandas in a future version. Use pandas.concat instead.\n",
      "  df = df.append(scrape_page(topic[\"topic\"], topic[\"url\"]), ignore_index=True)\n",
      " 70%|███████   | 1017/1452 [21:50<09:10,  1.27s/it]"
     ]
    },
    {
     "name": "stdout",
     "output_type": "stream",
     "text": [
      "Scraping Precocious Puberty...\n",
      "Found 13 sections for Precocious Puberty\n"
     ]
    },
    {
     "name": "stderr",
     "output_type": "stream",
     "text": [
      "C:\\Users\\Raj\\AppData\\Local\\Temp\\ipykernel_29048\\2168445501.py:6: FutureWarning: The frame.append method is deprecated and will be removed from pandas in a future version. Use pandas.concat instead.\n",
      "  df = df.append(scrape_page(topic[\"topic\"], topic[\"url\"]), ignore_index=True)\n",
      " 70%|███████   | 1018/1452 [21:51<09:07,  1.26s/it]"
     ]
    },
    {
     "name": "stdout",
     "output_type": "stream",
     "text": [
      "Scraping Pregnancy, Cervical...\n",
      "Found 11 sections for Pregnancy, Cervical\n"
     ]
    },
    {
     "name": "stderr",
     "output_type": "stream",
     "text": [
      "C:\\Users\\Raj\\AppData\\Local\\Temp\\ipykernel_29048\\2168445501.py:6: FutureWarning: The frame.append method is deprecated and will be removed from pandas in a future version. Use pandas.concat instead.\n",
      "  df = df.append(scrape_page(topic[\"topic\"], topic[\"url\"]), ignore_index=True)\n",
      " 70%|███████   | 1019/1452 [21:53<09:05,  1.26s/it]C:\\Users\\Raj\\AppData\\Local\\Temp\\ipykernel_29048\\2168445501.py:6: FutureWarning: The frame.append method is deprecated and will be removed from pandas in a future version. Use pandas.concat instead.\n",
      "  df = df.append(scrape_page(topic[\"topic\"], topic[\"url\"]), ignore_index=True)\n"
     ]
    },
    {
     "name": "stdout",
     "output_type": "stream",
     "text": [
      "Scraping Pregnancy-Induced Hypertension...\n",
      "Found 12 sections for Pregnancy-Induced Hypertension\n"
     ]
    },
    {
     "name": "stderr",
     "output_type": "stream",
     "text": [
      " 70%|███████   | 1020/1452 [21:54<08:56,  1.24s/it]"
     ]
    },
    {
     "name": "stdout",
     "output_type": "stream",
     "text": [
      "Scraping Premature Ejaculation...\n",
      "Found 7 sections for Premature Ejaculation\n"
     ]
    },
    {
     "name": "stderr",
     "output_type": "stream",
     "text": [
      "C:\\Users\\Raj\\AppData\\Local\\Temp\\ipykernel_29048\\2168445501.py:6: FutureWarning: The frame.append method is deprecated and will be removed from pandas in a future version. Use pandas.concat instead.\n",
      "  df = df.append(scrape_page(topic[\"topic\"], topic[\"url\"]), ignore_index=True)\n",
      " 70%|███████   | 1021/1452 [21:55<08:59,  1.25s/it]C:\\Users\\Raj\\AppData\\Local\\Temp\\ipykernel_29048\\2168445501.py:6: FutureWarning: The frame.append method is deprecated and will be removed from pandas in a future version. Use pandas.concat instead.\n",
      "  df = df.append(scrape_page(topic[\"topic\"], topic[\"url\"]), ignore_index=True)\n"
     ]
    },
    {
     "name": "stdout",
     "output_type": "stream",
     "text": [
      "Scraping Premature Ovarian Failure...\n",
      "Found 7 sections for Premature Ovarian Failure\n"
     ]
    },
    {
     "name": "stderr",
     "output_type": "stream",
     "text": [
      " 70%|███████   | 1022/1452 [21:56<08:55,  1.24s/it]"
     ]
    },
    {
     "name": "stdout",
     "output_type": "stream",
     "text": [
      "Scraping Premature Senility Syndrome...\n",
      "Found 9 sections for Premature Senility Syndrome\n"
     ]
    },
    {
     "name": "stderr",
     "output_type": "stream",
     "text": [
      "C:\\Users\\Raj\\AppData\\Local\\Temp\\ipykernel_29048\\2168445501.py:6: FutureWarning: The frame.append method is deprecated and will be removed from pandas in a future version. Use pandas.concat instead.\n",
      "  df = df.append(scrape_page(topic[\"topic\"], topic[\"url\"]), ignore_index=True)\n",
      " 70%|███████   | 1023/1452 [21:58<08:51,  1.24s/it]"
     ]
    },
    {
     "name": "stdout",
     "output_type": "stream",
     "text": [
      "Scraping Prescription Medications...\n",
      "Found 5 sections for Prescription Medications\n"
     ]
    },
    {
     "name": "stderr",
     "output_type": "stream",
     "text": [
      "C:\\Users\\Raj\\AppData\\Local\\Temp\\ipykernel_29048\\2168445501.py:6: FutureWarning: The frame.append method is deprecated and will be removed from pandas in a future version. Use pandas.concat instead.\n",
      "  df = df.append(scrape_page(topic[\"topic\"], topic[\"url\"]), ignore_index=True)\n",
      " 71%|███████   | 1024/1452 [21:59<10:14,  1.43s/it]C:\\Users\\Raj\\AppData\\Local\\Temp\\ipykernel_29048\\2168445501.py:6: FutureWarning: The frame.append method is deprecated and will be removed from pandas in a future version. Use pandas.concat instead.\n",
      "  df = df.append(scrape_page(topic[\"topic\"], topic[\"url\"]), ignore_index=True)\n"
     ]
    },
    {
     "name": "stdout",
     "output_type": "stream",
     "text": [
      "Scraping Presenile Tremor Syndrome...\n",
      "Found 10 sections for Presenile Tremor Syndrome\n"
     ]
    },
    {
     "name": "stderr",
     "output_type": "stream",
     "text": [
      " 71%|███████   | 1025/1452 [22:01<09:45,  1.37s/it]"
     ]
    },
    {
     "name": "stdout",
     "output_type": "stream",
     "text": [
      "Scraping Pressure Sores...\n",
      "Found 8 sections for Pressure Sores\n"
     ]
    },
    {
     "name": "stderr",
     "output_type": "stream",
     "text": [
      "C:\\Users\\Raj\\AppData\\Local\\Temp\\ipykernel_29048\\2168445501.py:6: FutureWarning: The frame.append method is deprecated and will be removed from pandas in a future version. Use pandas.concat instead.\n",
      "  df = df.append(scrape_page(topic[\"topic\"], topic[\"url\"]), ignore_index=True)\n",
      " 71%|███████   | 1026/1452 [22:02<09:27,  1.33s/it]C:\\Users\\Raj\\AppData\\Local\\Temp\\ipykernel_29048\\2168445501.py:6: FutureWarning: The frame.append method is deprecated and will be removed from pandas in a future version. Use pandas.concat instead.\n",
      "  df = df.append(scrape_page(topic[\"topic\"], topic[\"url\"]), ignore_index=True)\n"
     ]
    },
    {
     "name": "stdout",
     "output_type": "stream",
     "text": [
      "Scraping Preventing Carpal Tunnel Syndrome...\n",
      "Found 10 sections for Preventing Carpal Tunnel Syndrome\n"
     ]
    },
    {
     "name": "stderr",
     "output_type": "stream",
     "text": [
      " 71%|███████   | 1027/1452 [22:03<09:11,  1.30s/it]"
     ]
    },
    {
     "name": "stdout",
     "output_type": "stream",
     "text": [
      "Scraping Preventing Falls...\n",
      "Found 4 sections for Preventing Falls\n"
     ]
    },
    {
     "name": "stderr",
     "output_type": "stream",
     "text": [
      "C:\\Users\\Raj\\AppData\\Local\\Temp\\ipykernel_29048\\2168445501.py:6: FutureWarning: The frame.append method is deprecated and will be removed from pandas in a future version. Use pandas.concat instead.\n",
      "  df = df.append(scrape_page(topic[\"topic\"], topic[\"url\"]), ignore_index=True)\n",
      " 71%|███████   | 1028/1452 [22:04<09:01,  1.28s/it]"
     ]
    },
    {
     "name": "stdout",
     "output_type": "stream",
     "text": [
      "Scraping Preventing Medical Errors...\n",
      "Found 1 sections for Preventing Medical Errors\n"
     ]
    },
    {
     "name": "stderr",
     "output_type": "stream",
     "text": [
      "C:\\Users\\Raj\\AppData\\Local\\Temp\\ipykernel_29048\\2168445501.py:6: FutureWarning: The frame.append method is deprecated and will be removed from pandas in a future version. Use pandas.concat instead.\n",
      "  df = df.append(scrape_page(topic[\"topic\"], topic[\"url\"]), ignore_index=True)\n",
      " 71%|███████   | 1029/1452 [22:06<10:29,  1.49s/it]"
     ]
    },
    {
     "name": "stdout",
     "output_type": "stream",
     "text": [
      "Scraping Preventing Poisoning in Young Children...\n",
      "Found 3 sections for Preventing Poisoning in Young Children\n"
     ]
    },
    {
     "name": "stderr",
     "output_type": "stream",
     "text": [
      "C:\\Users\\Raj\\AppData\\Local\\Temp\\ipykernel_29048\\2168445501.py:6: FutureWarning: The frame.append method is deprecated and will be removed from pandas in a future version. Use pandas.concat instead.\n",
      "  df = df.append(scrape_page(topic[\"topic\"], topic[\"url\"]), ignore_index=True)\n",
      " 71%|███████   | 1030/1452 [22:08<11:10,  1.59s/it]"
     ]
    },
    {
     "name": "stdout",
     "output_type": "stream",
     "text": [
      "Scraping Primary Amyloidosis...\n"
     ]
    },
    {
     "name": "stderr",
     "output_type": "stream",
     "text": [
      "C:\\Users\\Raj\\AppData\\Local\\Temp\\ipykernel_29048\\2168445501.py:6: FutureWarning: The frame.append method is deprecated and will be removed from pandas in a future version. Use pandas.concat instead.\n",
      "  df = df.append(scrape_page(topic[\"topic\"], topic[\"url\"]), ignore_index=True)\n",
      " 71%|███████   | 1031/1452 [22:09<10:28,  1.49s/it]"
     ]
    },
    {
     "name": "stdout",
     "output_type": "stream",
     "text": [
      "Scraping Primary Biliary Cirrhosis (PBC)...\n",
      "Found 5 sections for Primary Biliary Cirrhosis (PBC)\n"
     ]
    },
    {
     "name": "stderr",
     "output_type": "stream",
     "text": [
      "C:\\Users\\Raj\\AppData\\Local\\Temp\\ipykernel_29048\\2168445501.py:6: FutureWarning: The frame.append method is deprecated and will be removed from pandas in a future version. Use pandas.concat instead.\n",
      "  df = df.append(scrape_page(topic[\"topic\"], topic[\"url\"]), ignore_index=True)\n",
      " 71%|███████   | 1032/1452 [22:11<09:53,  1.41s/it]"
     ]
    },
    {
     "name": "stdout",
     "output_type": "stream",
     "text": [
      "Scraping Primary Ciliary Dyskinesia...\n",
      "Found 6 sections for Primary Ciliary Dyskinesia\n"
     ]
    },
    {
     "name": "stderr",
     "output_type": "stream",
     "text": [
      "C:\\Users\\Raj\\AppData\\Local\\Temp\\ipykernel_29048\\2168445501.py:6: FutureWarning: The frame.append method is deprecated and will be removed from pandas in a future version. Use pandas.concat instead.\n",
      "  df = df.append(scrape_page(topic[\"topic\"], topic[\"url\"]), ignore_index=True)\n",
      " 71%|███████   | 1033/1452 [22:13<11:02,  1.58s/it]"
     ]
    },
    {
     "name": "stdout",
     "output_type": "stream",
     "text": [
      "Scraping Primary Cutaneous Amyloidosis...\n"
     ]
    },
    {
     "name": "stderr",
     "output_type": "stream",
     "text": [
      "C:\\Users\\Raj\\AppData\\Local\\Temp\\ipykernel_29048\\2168445501.py:6: FutureWarning: The frame.append method is deprecated and will be removed from pandas in a future version. Use pandas.concat instead.\n",
      "  df = df.append(scrape_page(topic[\"topic\"], topic[\"url\"]), ignore_index=True)\n",
      " 71%|███████   | 1034/1452 [22:14<10:22,  1.49s/it]"
     ]
    },
    {
     "name": "stdout",
     "output_type": "stream",
     "text": [
      "Scraping Pudendal Neuralgia...\n",
      "Found 5 sections for Pudendal Neuralgia\n"
     ]
    },
    {
     "name": "stderr",
     "output_type": "stream",
     "text": [
      "C:\\Users\\Raj\\AppData\\Local\\Temp\\ipykernel_29048\\2168445501.py:6: FutureWarning: The frame.append method is deprecated and will be removed from pandas in a future version. Use pandas.concat instead.\n",
      "  df = df.append(scrape_page(topic[\"topic\"], topic[\"url\"]), ignore_index=True)\n",
      " 71%|███████▏  | 1035/1452 [22:15<09:51,  1.42s/it]"
     ]
    },
    {
     "name": "stdout",
     "output_type": "stream",
     "text": [
      "Scraping Pulmonary Arterial Hypertension...\n",
      "Found 12 sections for Pulmonary Arterial Hypertension\n"
     ]
    },
    {
     "name": "stderr",
     "output_type": "stream",
     "text": [
      "C:\\Users\\Raj\\AppData\\Local\\Temp\\ipykernel_29048\\2168445501.py:6: FutureWarning: The frame.append method is deprecated and will be removed from pandas in a future version. Use pandas.concat instead.\n",
      "  df = df.append(scrape_page(topic[\"topic\"], topic[\"url\"]), ignore_index=True)\n",
      " 71%|███████▏  | 1036/1452 [22:16<09:29,  1.37s/it]"
     ]
    },
    {
     "name": "stdout",
     "output_type": "stream",
     "text": [
      "Scraping Pulmonary Embolism...\n",
      "Found 5 sections for Pulmonary Embolism\n"
     ]
    },
    {
     "name": "stderr",
     "output_type": "stream",
     "text": [
      "C:\\Users\\Raj\\AppData\\Local\\Temp\\ipykernel_29048\\2168445501.py:6: FutureWarning: The frame.append method is deprecated and will be removed from pandas in a future version. Use pandas.concat instead.\n",
      "  df = df.append(scrape_page(topic[\"topic\"], topic[\"url\"]), ignore_index=True)\n",
      " 71%|███████▏  | 1037/1452 [22:18<09:10,  1.33s/it]C:\\Users\\Raj\\AppData\\Local\\Temp\\ipykernel_29048\\2168445501.py:6: FutureWarning: The frame.append method is deprecated and will be removed from pandas in a future version. Use pandas.concat instead.\n",
      "  df = df.append(scrape_page(topic[\"topic\"], topic[\"url\"]), ignore_index=True)\n"
     ]
    },
    {
     "name": "stdout",
     "output_type": "stream",
     "text": [
      "Scraping Pulmonary Hypertension, Primary...\n",
      "Found 12 sections for Pulmonary Hypertension, Primary\n"
     ]
    },
    {
     "name": "stderr",
     "output_type": "stream",
     "text": [
      " 71%|███████▏  | 1038/1452 [22:19<08:52,  1.29s/it]C:\\Users\\Raj\\AppData\\Local\\Temp\\ipykernel_29048\\2168445501.py:6: FutureWarning: The frame.append method is deprecated and will be removed from pandas in a future version. Use pandas.concat instead.\n",
      "  df = df.append(scrape_page(topic[\"topic\"], topic[\"url\"]), ignore_index=True)\n"
     ]
    },
    {
     "name": "stdout",
     "output_type": "stream",
     "text": [
      "Scraping Pulmonary Hypertension, Secondary...\n",
      "Found 12 sections for Pulmonary Hypertension, Secondary\n"
     ]
    },
    {
     "name": "stderr",
     "output_type": "stream",
     "text": [
      " 72%|███████▏  | 1039/1452 [22:20<08:38,  1.25s/it]"
     ]
    },
    {
     "name": "stdout",
     "output_type": "stream",
     "text": [
      "Scraping Pulmonary Lymphangiomyomatosis...\n",
      "Found 7 sections for Pulmonary Lymphangiomyomatosis\n"
     ]
    },
    {
     "name": "stderr",
     "output_type": "stream",
     "text": [
      "C:\\Users\\Raj\\AppData\\Local\\Temp\\ipykernel_29048\\2168445501.py:6: FutureWarning: The frame.append method is deprecated and will be removed from pandas in a future version. Use pandas.concat instead.\n",
      "  df = df.append(scrape_page(topic[\"topic\"], topic[\"url\"]), ignore_index=True)\n",
      " 72%|███████▏  | 1040/1452 [22:21<08:37,  1.26s/it]"
     ]
    },
    {
     "name": "stdout",
     "output_type": "stream",
     "text": [
      "Scraping Pump Lung...\n",
      "Found 10 sections for Pump Lung\n"
     ]
    },
    {
     "name": "stderr",
     "output_type": "stream",
     "text": [
      "C:\\Users\\Raj\\AppData\\Local\\Temp\\ipykernel_29048\\2168445501.py:6: FutureWarning: The frame.append method is deprecated and will be removed from pandas in a future version. Use pandas.concat instead.\n",
      "  df = df.append(scrape_page(topic[\"topic\"], topic[\"url\"]), ignore_index=True)\n",
      " 72%|███████▏  | 1041/1452 [22:22<08:33,  1.25s/it]"
     ]
    },
    {
     "name": "stdout",
     "output_type": "stream",
     "text": [
      "Scraping Pure Cutaneous Histiocytosis...\n",
      "Found 6 sections for Pure Cutaneous Histiocytosis\n"
     ]
    },
    {
     "name": "stderr",
     "output_type": "stream",
     "text": [
      "C:\\Users\\Raj\\AppData\\Local\\Temp\\ipykernel_29048\\2168445501.py:6: FutureWarning: The frame.append method is deprecated and will be removed from pandas in a future version. Use pandas.concat instead.\n",
      "  df = df.append(scrape_page(topic[\"topic\"], topic[\"url\"]), ignore_index=True)\n",
      " 72%|███████▏  | 1042/1452 [22:24<08:30,  1.24s/it]"
     ]
    },
    {
     "name": "stdout",
     "output_type": "stream",
     "text": [
      "Scraping Purpura Hemorrhagica ITP...\n",
      "Found 5 sections for Purpura Hemorrhagica ITP\n"
     ]
    },
    {
     "name": "stderr",
     "output_type": "stream",
     "text": [
      "C:\\Users\\Raj\\AppData\\Local\\Temp\\ipykernel_29048\\2168445501.py:6: FutureWarning: The frame.append method is deprecated and will be removed from pandas in a future version. Use pandas.concat instead.\n",
      "  df = df.append(scrape_page(topic[\"topic\"], topic[\"url\"]), ignore_index=True)\n",
      " 72%|███████▏  | 1043/1452 [22:25<08:28,  1.24s/it]C:\\Users\\Raj\\AppData\\Local\\Temp\\ipykernel_29048\\2168445501.py:6: FutureWarning: The frame.append method is deprecated and will be removed from pandas in a future version. Use pandas.concat instead.\n",
      "  df = df.append(scrape_page(topic[\"topic\"], topic[\"url\"]), ignore_index=True)\n"
     ]
    },
    {
     "name": "stdout",
     "output_type": "stream",
     "text": [
      "Scraping Purpura, Idiopathic Thrombocytopenic...\n",
      "Found 5 sections for Purpura, Idiopathic Thrombocytopenic\n"
     ]
    },
    {
     "name": "stderr",
     "output_type": "stream",
     "text": [
      " 72%|███████▏  | 1044/1452 [22:26<08:20,  1.23s/it]C:\\Users\\Raj\\AppData\\Local\\Temp\\ipykernel_29048\\2168445501.py:6: FutureWarning: The frame.append method is deprecated and will be removed from pandas in a future version. Use pandas.concat instead.\n",
      "  df = df.append(scrape_page(topic[\"topic\"], topic[\"url\"]), ignore_index=True)\n"
     ]
    },
    {
     "name": "stdout",
     "output_type": "stream",
     "text": [
      "Scraping Purpura, Thrombotic Thrombocytopenic...\n",
      "Found 19 sections for Purpura, Thrombotic Thrombocytopenic\n"
     ]
    },
    {
     "name": "stderr",
     "output_type": "stream",
     "text": [
      " 72%|███████▏  | 1045/1452 [22:27<08:18,  1.23s/it]"
     ]
    },
    {
     "name": "stdout",
     "output_type": "stream",
     "text": [
      "Scraping Purulent Arthritis...\n",
      "Found 8 sections for Purulent Arthritis\n"
     ]
    },
    {
     "name": "stderr",
     "output_type": "stream",
     "text": [
      "C:\\Users\\Raj\\AppData\\Local\\Temp\\ipykernel_29048\\2168445501.py:6: FutureWarning: The frame.append method is deprecated and will be removed from pandas in a future version. Use pandas.concat instead.\n",
      "  df = df.append(scrape_page(topic[\"topic\"], topic[\"url\"]), ignore_index=True)\n",
      " 72%|███████▏  | 1046/1452 [22:29<08:18,  1.23s/it]"
     ]
    },
    {
     "name": "stdout",
     "output_type": "stream",
     "text": [
      "Scraping PVD (Peripheral Vascular Disease)...\n",
      "Found 12 sections for PVD (Peripheral Vascular Disease)\n"
     ]
    },
    {
     "name": "stderr",
     "output_type": "stream",
     "text": [
      "C:\\Users\\Raj\\AppData\\Local\\Temp\\ipykernel_29048\\2168445501.py:6: FutureWarning: The frame.append method is deprecated and will be removed from pandas in a future version. Use pandas.concat instead.\n",
      "  df = df.append(scrape_page(topic[\"topic\"], topic[\"url\"]), ignore_index=True)\n",
      " 72%|███████▏  | 1047/1452 [22:30<08:18,  1.23s/it]"
     ]
    },
    {
     "name": "stdout",
     "output_type": "stream",
     "text": [
      "Scraping Rabbit Fever...\n",
      "Found 8 sections for Rabbit Fever\n"
     ]
    },
    {
     "name": "stderr",
     "output_type": "stream",
     "text": [
      "C:\\Users\\Raj\\AppData\\Local\\Temp\\ipykernel_29048\\2168445501.py:6: FutureWarning: The frame.append method is deprecated and will be removed from pandas in a future version. Use pandas.concat instead.\n",
      "  df = df.append(scrape_page(topic[\"topic\"], topic[\"url\"]), ignore_index=True)\n",
      " 72%|███████▏  | 1048/1452 [22:31<08:16,  1.23s/it]"
     ]
    },
    {
     "name": "stdout",
     "output_type": "stream",
     "text": [
      "Scraping Rabies...\n",
      "Found 7 sections for Rabies\n"
     ]
    },
    {
     "name": "stderr",
     "output_type": "stream",
     "text": [
      "C:\\Users\\Raj\\AppData\\Local\\Temp\\ipykernel_29048\\2168445501.py:6: FutureWarning: The frame.append method is deprecated and will be removed from pandas in a future version. Use pandas.concat instead.\n",
      "  df = df.append(scrape_page(topic[\"topic\"], topic[\"url\"]), ignore_index=True)\n",
      " 72%|███████▏  | 1049/1452 [22:32<08:16,  1.23s/it]"
     ]
    },
    {
     "name": "stdout",
     "output_type": "stream",
     "text": [
      "Scraping Rabson-Mendenhall Syndrome...\n",
      "Found 7 sections for Rabson-Mendenhall Syndrome\n"
     ]
    },
    {
     "name": "stderr",
     "output_type": "stream",
     "text": [
      "C:\\Users\\Raj\\AppData\\Local\\Temp\\ipykernel_29048\\2168445501.py:6: FutureWarning: The frame.append method is deprecated and will be removed from pandas in a future version. Use pandas.concat instead.\n",
      "  df = df.append(scrape_page(topic[\"topic\"], topic[\"url\"]), ignore_index=True)\n",
      " 72%|███████▏  | 1050/1452 [22:34<09:17,  1.39s/it]"
     ]
    },
    {
     "name": "stdout",
     "output_type": "stream",
     "text": [
      "Scraping Radial Head Subluxation...\n",
      "Found 9 sections for Radial Head Subluxation\n"
     ]
    },
    {
     "name": "stderr",
     "output_type": "stream",
     "text": [
      "C:\\Users\\Raj\\AppData\\Local\\Temp\\ipykernel_29048\\2168445501.py:6: FutureWarning: The frame.append method is deprecated and will be removed from pandas in a future version. Use pandas.concat instead.\n",
      "  df = df.append(scrape_page(topic[\"topic\"], topic[\"url\"]), ignore_index=True)\n",
      " 72%|███████▏  | 1051/1452 [22:35<08:57,  1.34s/it]"
     ]
    },
    {
     "name": "stdout",
     "output_type": "stream",
     "text": [
      "Scraping Radiation Disease...\n",
      "Found 5 sections for Radiation Disease\n"
     ]
    },
    {
     "name": "stderr",
     "output_type": "stream",
     "text": [
      "C:\\Users\\Raj\\AppData\\Local\\Temp\\ipykernel_29048\\2168445501.py:6: FutureWarning: The frame.append method is deprecated and will be removed from pandas in a future version. Use pandas.concat instead.\n",
      "  df = df.append(scrape_page(topic[\"topic\"], topic[\"url\"]), ignore_index=True)\n",
      " 72%|███████▏  | 1052/1452 [22:37<08:45,  1.31s/it]C:\\Users\\Raj\\AppData\\Local\\Temp\\ipykernel_29048\\2168445501.py:6: FutureWarning: The frame.append method is deprecated and will be removed from pandas in a future version. Use pandas.concat instead.\n",
      "  df = df.append(scrape_page(topic[\"topic\"], topic[\"url\"]), ignore_index=True)\n"
     ]
    },
    {
     "name": "stdout",
     "output_type": "stream",
     "text": [
      "Scraping Radiation Effects...\n",
      "Found 5 sections for Radiation Effects\n"
     ]
    },
    {
     "name": "stderr",
     "output_type": "stream",
     "text": [
      " 73%|███████▎  | 1053/1452 [22:38<08:28,  1.28s/it]C:\\Users\\Raj\\AppData\\Local\\Temp\\ipykernel_29048\\2168445501.py:6: FutureWarning: The frame.append method is deprecated and will be removed from pandas in a future version. Use pandas.concat instead.\n",
      "  df = df.append(scrape_page(topic[\"topic\"], topic[\"url\"]), ignore_index=True)\n"
     ]
    },
    {
     "name": "stdout",
     "output_type": "stream",
     "text": [
      "Scraping Radiation Illness...\n",
      "Found 5 sections for Radiation Illness\n"
     ]
    },
    {
     "name": "stderr",
     "output_type": "stream",
     "text": [
      " 73%|███████▎  | 1054/1452 [22:39<08:19,  1.25s/it]C:\\Users\\Raj\\AppData\\Local\\Temp\\ipykernel_29048\\2168445501.py:6: FutureWarning: The frame.append method is deprecated and will be removed from pandas in a future version. Use pandas.concat instead.\n",
      "  df = df.append(scrape_page(topic[\"topic\"], topic[\"url\"]), ignore_index=True)\n"
     ]
    },
    {
     "name": "stdout",
     "output_type": "stream",
     "text": [
      "Scraping Radiation Injuries...\n",
      "Found 5 sections for Radiation Injuries\n"
     ]
    },
    {
     "name": "stderr",
     "output_type": "stream",
     "text": [
      " 73%|███████▎  | 1055/1452 [22:40<08:11,  1.24s/it]"
     ]
    },
    {
     "name": "stdout",
     "output_type": "stream",
     "text": [
      "Scraping Radiation Reaction...\n",
      "Found 5 sections for Radiation Reaction\n"
     ]
    },
    {
     "name": "stderr",
     "output_type": "stream",
     "text": [
      "C:\\Users\\Raj\\AppData\\Local\\Temp\\ipykernel_29048\\2168445501.py:6: FutureWarning: The frame.append method is deprecated and will be removed from pandas in a future version. Use pandas.concat instead.\n",
      "  df = df.append(scrape_page(topic[\"topic\"], topic[\"url\"]), ignore_index=True)\n",
      " 73%|███████▎  | 1056/1452 [22:41<08:15,  1.25s/it]C:\\Users\\Raj\\AppData\\Local\\Temp\\ipykernel_29048\\2168445501.py:6: FutureWarning: The frame.append method is deprecated and will be removed from pandas in a future version. Use pandas.concat instead.\n",
      "  df = df.append(scrape_page(topic[\"topic\"], topic[\"url\"]), ignore_index=True)\n"
     ]
    },
    {
     "name": "stdout",
     "output_type": "stream",
     "text": [
      "Scraping Radiation Sickness...\n",
      "Found 5 sections for Radiation Sickness\n"
     ]
    },
    {
     "name": "stderr",
     "output_type": "stream",
     "text": [
      " 73%|███████▎  | 1057/1452 [22:43<08:06,  1.23s/it]C:\\Users\\Raj\\AppData\\Local\\Temp\\ipykernel_29048\\2168445501.py:6: FutureWarning: The frame.append method is deprecated and will be removed from pandas in a future version. Use pandas.concat instead.\n",
      "  df = df.append(scrape_page(topic[\"topic\"], topic[\"url\"]), ignore_index=True)\n"
     ]
    },
    {
     "name": "stdout",
     "output_type": "stream",
     "text": [
      "Scraping Radiation Syndromes...\n",
      "Found 5 sections for Radiation Syndromes\n"
     ]
    },
    {
     "name": "stderr",
     "output_type": "stream",
     "text": [
      " 73%|███████▎  | 1058/1452 [22:44<08:04,  1.23s/it]"
     ]
    },
    {
     "name": "stdout",
     "output_type": "stream",
     "text": [
      "Scraping Radiation Therapy for Cancer...\n",
      "Found 12 sections for Radiation Therapy for Cancer\n"
     ]
    },
    {
     "name": "stderr",
     "output_type": "stream",
     "text": [
      "C:\\Users\\Raj\\AppData\\Local\\Temp\\ipykernel_29048\\2168445501.py:6: FutureWarning: The frame.append method is deprecated and will be removed from pandas in a future version. Use pandas.concat instead.\n",
      "  df = df.append(scrape_page(topic[\"topic\"], topic[\"url\"]), ignore_index=True)\n",
      " 73%|███████▎  | 1059/1452 [22:45<08:17,  1.27s/it]"
     ]
    },
    {
     "name": "stdout",
     "output_type": "stream",
     "text": [
      "Scraping Radon...\n",
      "Found 6 sections for Radon\n"
     ]
    },
    {
     "name": "stderr",
     "output_type": "stream",
     "text": [
      "C:\\Users\\Raj\\AppData\\Local\\Temp\\ipykernel_29048\\2168445501.py:6: FutureWarning: The frame.append method is deprecated and will be removed from pandas in a future version. Use pandas.concat instead.\n",
      "  df = df.append(scrape_page(topic[\"topic\"], topic[\"url\"]), ignore_index=True)\n",
      " 73%|███████▎  | 1060/1452 [22:46<08:11,  1.25s/it]"
     ]
    },
    {
     "name": "stdout",
     "output_type": "stream",
     "text": [
      "Scraping Rapp Hodgkin Syndrome...\n",
      "Found 5 sections for Rapp Hodgkin Syndrome\n"
     ]
    },
    {
     "name": "stderr",
     "output_type": "stream",
     "text": [
      "C:\\Users\\Raj\\AppData\\Local\\Temp\\ipykernel_29048\\2168445501.py:6: FutureWarning: The frame.append method is deprecated and will be removed from pandas in a future version. Use pandas.concat instead.\n",
      "  df = df.append(scrape_page(topic[\"topic\"], topic[\"url\"]), ignore_index=True)\n",
      " 73%|███████▎  | 1061/1452 [22:48<08:09,  1.25s/it]C:\\Users\\Raj\\AppData\\Local\\Temp\\ipykernel_29048\\2168445501.py:6: FutureWarning: The frame.append method is deprecated and will be removed from pandas in a future version. Use pandas.concat instead.\n",
      "  df = df.append(scrape_page(topic[\"topic\"], topic[\"url\"]), ignore_index=True)\n"
     ]
    },
    {
     "name": "stdout",
     "output_type": "stream",
     "text": [
      "Scraping Rash...\n",
      "Found 14 sections for Rash\n"
     ]
    },
    {
     "name": "stderr",
     "output_type": "stream",
     "text": [
      " 73%|███████▎  | 1062/1452 [22:49<08:04,  1.24s/it]C:\\Users\\Raj\\AppData\\Local\\Temp\\ipykernel_29048\\2168445501.py:6: FutureWarning: The frame.append method is deprecated and will be removed from pandas in a future version. Use pandas.concat instead.\n",
      "  df = df.append(scrape_page(topic[\"topic\"], topic[\"url\"]), ignore_index=True)\n"
     ]
    },
    {
     "name": "stdout",
     "output_type": "stream",
     "text": [
      "Scraping Rash & Other Skin Problems in Children...\n"
     ]
    },
    {
     "name": "stderr",
     "output_type": "stream",
     "text": [
      " 73%|███████▎  | 1063/1452 [22:50<08:00,  1.23s/it]"
     ]
    },
    {
     "name": "stdout",
     "output_type": "stream",
     "text": [
      "Scraping Raynaud's Phenomenon...\n",
      "Found 10 sections for Raynaud's Phenomenon\n"
     ]
    },
    {
     "name": "stderr",
     "output_type": "stream",
     "text": [
      "C:\\Users\\Raj\\AppData\\Local\\Temp\\ipykernel_29048\\2168445501.py:6: FutureWarning: The frame.append method is deprecated and will be removed from pandas in a future version. Use pandas.concat instead.\n",
      "  df = df.append(scrape_page(topic[\"topic\"], topic[\"url\"]), ignore_index=True)\n",
      " 73%|███████▎  | 1064/1452 [22:51<08:02,  1.24s/it]"
     ]
    },
    {
     "name": "stdout",
     "output_type": "stream",
     "text": [
      "Scraping Razor Bumps...\n",
      "Found 7 sections for Razor Bumps\n"
     ]
    },
    {
     "name": "stderr",
     "output_type": "stream",
     "text": [
      "C:\\Users\\Raj\\AppData\\Local\\Temp\\ipykernel_29048\\2168445501.py:6: FutureWarning: The frame.append method is deprecated and will be removed from pandas in a future version. Use pandas.concat instead.\n",
      "  df = df.append(scrape_page(topic[\"topic\"], topic[\"url\"]), ignore_index=True)\n",
      " 73%|███████▎  | 1065/1452 [22:53<08:02,  1.25s/it]"
     ]
    },
    {
     "name": "stdout",
     "output_type": "stream",
     "text": [
      "Scraping RCC...\n",
      "Found 11 sections for RCC\n"
     ]
    },
    {
     "name": "stderr",
     "output_type": "stream",
     "text": [
      "C:\\Users\\Raj\\AppData\\Local\\Temp\\ipykernel_29048\\2168445501.py:6: FutureWarning: The frame.append method is deprecated and will be removed from pandas in a future version. Use pandas.concat instead.\n",
      "  df = df.append(scrape_page(topic[\"topic\"], topic[\"url\"]), ignore_index=True)\n",
      " 73%|███████▎  | 1066/1452 [22:54<07:59,  1.24s/it]"
     ]
    },
    {
     "name": "stdout",
     "output_type": "stream",
     "text": [
      "Scraping Reactive Attachment Disorder...\n",
      "Found 10 sections for Reactive Attachment Disorder\n"
     ]
    },
    {
     "name": "stderr",
     "output_type": "stream",
     "text": [
      "C:\\Users\\Raj\\AppData\\Local\\Temp\\ipykernel_29048\\2168445501.py:6: FutureWarning: The frame.append method is deprecated and will be removed from pandas in a future version. Use pandas.concat instead.\n",
      "  df = df.append(scrape_page(topic[\"topic\"], topic[\"url\"]), ignore_index=True)\n",
      " 73%|███████▎  | 1067/1452 [22:55<07:57,  1.24s/it]"
     ]
    },
    {
     "name": "stdout",
     "output_type": "stream",
     "text": [
      "Scraping Recessive X-linked Ichthyosis...\n",
      "Found 10 sections for Recessive X-linked Ichthyosis\n"
     ]
    },
    {
     "name": "stderr",
     "output_type": "stream",
     "text": [
      "C:\\Users\\Raj\\AppData\\Local\\Temp\\ipykernel_29048\\2168445501.py:6: FutureWarning: The frame.append method is deprecated and will be removed from pandas in a future version. Use pandas.concat instead.\n",
      "  df = df.append(scrape_page(topic[\"topic\"], topic[\"url\"]), ignore_index=True)\n",
      " 74%|███████▎  | 1068/1452 [22:56<07:57,  1.24s/it]"
     ]
    },
    {
     "name": "stdout",
     "output_type": "stream",
     "text": [
      "Scraping Reconstructive Surgery...\n",
      "Found 4 sections for Reconstructive Surgery\n"
     ]
    },
    {
     "name": "stderr",
     "output_type": "stream",
     "text": [
      "C:\\Users\\Raj\\AppData\\Local\\Temp\\ipykernel_29048\\2168445501.py:6: FutureWarning: The frame.append method is deprecated and will be removed from pandas in a future version. Use pandas.concat instead.\n",
      "  df = df.append(scrape_page(topic[\"topic\"], topic[\"url\"]), ignore_index=True)\n",
      " 74%|███████▎  | 1069/1452 [22:58<07:56,  1.24s/it]"
     ]
    },
    {
     "name": "stdout",
     "output_type": "stream",
     "text": [
      "Scraping Rectal Cancer...\n"
     ]
    },
    {
     "name": "stderr",
     "output_type": "stream",
     "text": [
      "C:\\Users\\Raj\\AppData\\Local\\Temp\\ipykernel_29048\\2168445501.py:6: FutureWarning: The frame.append method is deprecated and will be removed from pandas in a future version. Use pandas.concat instead.\n",
      "  df = df.append(scrape_page(topic[\"topic\"], topic[\"url\"]), ignore_index=True)\n",
      " 74%|███████▎  | 1070/1452 [22:59<08:04,  1.27s/it]"
     ]
    },
    {
     "name": "stdout",
     "output_type": "stream",
     "text": [
      "Scraping Rectal Prolapse...\n",
      "Found 9 sections for Rectal Prolapse\n"
     ]
    },
    {
     "name": "stderr",
     "output_type": "stream",
     "text": [
      "C:\\Users\\Raj\\AppData\\Local\\Temp\\ipykernel_29048\\2168445501.py:6: FutureWarning: The frame.append method is deprecated and will be removed from pandas in a future version. Use pandas.concat instead.\n",
      "  df = df.append(scrape_page(topic[\"topic\"], topic[\"url\"]), ignore_index=True)\n",
      " 74%|███████▍  | 1071/1452 [23:00<08:01,  1.26s/it]"
     ]
    },
    {
     "name": "stdout",
     "output_type": "stream",
     "text": [
      "Scraping Recurrent Multiple Myeloma...\n",
      "Found 10 sections for Recurrent Multiple Myeloma\n"
     ]
    },
    {
     "name": "stderr",
     "output_type": "stream",
     "text": [
      "C:\\Users\\Raj\\AppData\\Local\\Temp\\ipykernel_29048\\2168445501.py:6: FutureWarning: The frame.append method is deprecated and will be removed from pandas in a future version. Use pandas.concat instead.\n",
      "  df = df.append(scrape_page(topic[\"topic\"], topic[\"url\"]), ignore_index=True)\n",
      " 74%|███████▍  | 1072/1452 [23:02<08:50,  1.40s/it]C:\\Users\\Raj\\AppData\\Local\\Temp\\ipykernel_29048\\2168445501.py:6: FutureWarning: The frame.append method is deprecated and will be removed from pandas in a future version. Use pandas.concat instead.\n",
      "  df = df.append(scrape_page(topic[\"topic\"], topic[\"url\"]), ignore_index=True)\n"
     ]
    },
    {
     "name": "stdout",
     "output_type": "stream",
     "text": [
      "Scraping Red Measles...\n",
      "Found 11 sections for Red Measles\n"
     ]
    },
    {
     "name": "stderr",
     "output_type": "stream",
     "text": [
      " 74%|███████▍  | 1073/1452 [23:03<08:29,  1.34s/it]"
     ]
    },
    {
     "name": "stdout",
     "output_type": "stream",
     "text": [
      "Scraping Reducing Medical Costs...\n",
      "Found 6 sections for Reducing Medical Costs\n"
     ]
    },
    {
     "name": "stderr",
     "output_type": "stream",
     "text": [
      "C:\\Users\\Raj\\AppData\\Local\\Temp\\ipykernel_29048\\2168445501.py:6: FutureWarning: The frame.append method is deprecated and will be removed from pandas in a future version. Use pandas.concat instead.\n",
      "  df = df.append(scrape_page(topic[\"topic\"], topic[\"url\"]), ignore_index=True)\n",
      " 74%|███████▍  | 1074/1452 [23:04<08:17,  1.32s/it]"
     ]
    },
    {
     "name": "stdout",
     "output_type": "stream",
     "text": [
      "Scraping Reducing Medication Costs...\n",
      "Found 8 sections for Reducing Medication Costs\n"
     ]
    },
    {
     "name": "stderr",
     "output_type": "stream",
     "text": [
      "C:\\Users\\Raj\\AppData\\Local\\Temp\\ipykernel_29048\\2168445501.py:6: FutureWarning: The frame.append method is deprecated and will be removed from pandas in a future version. Use pandas.concat instead.\n",
      "  df = df.append(scrape_page(topic[\"topic\"], topic[\"url\"]), ignore_index=True)\n",
      " 74%|███████▍  | 1075/1452 [23:06<09:14,  1.47s/it]"
     ]
    },
    {
     "name": "stdout",
     "output_type": "stream",
     "text": [
      "Scraping Redwater Fever...\n",
      "Found 5 sections for Redwater Fever\n"
     ]
    },
    {
     "name": "stderr",
     "output_type": "stream",
     "text": [
      "C:\\Users\\Raj\\AppData\\Local\\Temp\\ipykernel_29048\\2168445501.py:6: FutureWarning: The frame.append method is deprecated and will be removed from pandas in a future version. Use pandas.concat instead.\n",
      "  df = df.append(scrape_page(topic[\"topic\"], topic[\"url\"]), ignore_index=True)\n",
      " 74%|███████▍  | 1076/1452 [23:07<08:46,  1.40s/it]"
     ]
    },
    {
     "name": "stdout",
     "output_type": "stream",
     "text": [
      "Scraping Reflex Neurovascular Dystrophy...\n",
      "Found 9 sections for Reflex Neurovascular Dystrophy\n"
     ]
    },
    {
     "name": "stderr",
     "output_type": "stream",
     "text": [
      "C:\\Users\\Raj\\AppData\\Local\\Temp\\ipykernel_29048\\2168445501.py:6: FutureWarning: The frame.append method is deprecated and will be removed from pandas in a future version. Use pandas.concat instead.\n",
      "  df = df.append(scrape_page(topic[\"topic\"], topic[\"url\"]), ignore_index=True)\n",
      " 74%|███████▍  | 1077/1452 [23:09<08:28,  1.35s/it]C:\\Users\\Raj\\AppData\\Local\\Temp\\ipykernel_29048\\2168445501.py:6: FutureWarning: The frame.append method is deprecated and will be removed from pandas in a future version. Use pandas.concat instead.\n",
      "  df = df.append(scrape_page(topic[\"topic\"], topic[\"url\"]), ignore_index=True)\n"
     ]
    },
    {
     "name": "stdout",
     "output_type": "stream",
     "text": [
      "Scraping Reflex Sympathetic Dystrophy Syndrome...\n",
      "Found 9 sections for Reflex Sympathetic Dystrophy Syndrome\n"
     ]
    },
    {
     "name": "stderr",
     "output_type": "stream",
     "text": [
      " 74%|███████▍  | 1078/1452 [23:10<08:08,  1.30s/it]"
     ]
    },
    {
     "name": "stdout",
     "output_type": "stream",
     "text": [
      "Scraping Refractory Anemia...\n",
      "Found 13 sections for Refractory Anemia\n"
     ]
    },
    {
     "name": "stderr",
     "output_type": "stream",
     "text": [
      "C:\\Users\\Raj\\AppData\\Local\\Temp\\ipykernel_29048\\2168445501.py:6: FutureWarning: The frame.append method is deprecated and will be removed from pandas in a future version. Use pandas.concat instead.\n",
      "  df = df.append(scrape_page(topic[\"topic\"], topic[\"url\"]), ignore_index=True)\n",
      " 74%|███████▍  | 1079/1452 [23:11<08:09,  1.31s/it]"
     ]
    },
    {
     "name": "stdout",
     "output_type": "stream",
     "text": [
      "Scraping Refractory Epilepsy...\n",
      "Found 14 sections for Refractory Epilepsy\n"
     ]
    },
    {
     "name": "stderr",
     "output_type": "stream",
     "text": [
      "C:\\Users\\Raj\\AppData\\Local\\Temp\\ipykernel_29048\\2168445501.py:6: FutureWarning: The frame.append method is deprecated and will be removed from pandas in a future version. Use pandas.concat instead.\n",
      "  df = df.append(scrape_page(topic[\"topic\"], topic[\"url\"]), ignore_index=True)\n",
      " 74%|███████▍  | 1080/1452 [23:12<08:04,  1.30s/it]"
     ]
    },
    {
     "name": "stdout",
     "output_type": "stream",
     "text": [
      "Scraping Rehabilitation for a Meniscus Tear...\n",
      "Found 7 sections for Rehabilitation for a Meniscus Tear\n"
     ]
    },
    {
     "name": "stderr",
     "output_type": "stream",
     "text": [
      "C:\\Users\\Raj\\AppData\\Local\\Temp\\ipykernel_29048\\2168445501.py:6: FutureWarning: The frame.append method is deprecated and will be removed from pandas in a future version. Use pandas.concat instead.\n",
      "  df = df.append(scrape_page(topic[\"topic\"], topic[\"url\"]), ignore_index=True)\n",
      " 74%|███████▍  | 1081/1452 [23:14<07:56,  1.29s/it]"
     ]
    },
    {
     "name": "stdout",
     "output_type": "stream",
     "text": [
      "Scraping Rehabilitation for Multiple Sclerosis...\n",
      "Found 6 sections for Rehabilitation for Multiple Sclerosis\n"
     ]
    },
    {
     "name": "stderr",
     "output_type": "stream",
     "text": [
      "C:\\Users\\Raj\\AppData\\Local\\Temp\\ipykernel_29048\\2168445501.py:6: FutureWarning: The frame.append method is deprecated and will be removed from pandas in a future version. Use pandas.concat instead.\n",
      "  df = df.append(scrape_page(topic[\"topic\"], topic[\"url\"]), ignore_index=True)\n",
      " 75%|███████▍  | 1082/1452 [23:15<07:51,  1.27s/it]C:\\Users\\Raj\\AppData\\Local\\Temp\\ipykernel_29048\\2168445501.py:6: FutureWarning: The frame.append method is deprecated and will be removed from pandas in a future version. Use pandas.concat instead.\n",
      "  df = df.append(scrape_page(topic[\"topic\"], topic[\"url\"]), ignore_index=True)\n"
     ]
    },
    {
     "name": "stdout",
     "output_type": "stream",
     "text": [
      "Scraping Renal Cell Carcinoma...\n",
      "Found 11 sections for Renal Cell Carcinoma\n"
     ]
    },
    {
     "name": "stderr",
     "output_type": "stream",
     "text": [
      " 75%|███████▍  | 1083/1452 [23:16<07:40,  1.25s/it]"
     ]
    },
    {
     "name": "stdout",
     "output_type": "stream",
     "text": [
      "Scraping Rh Sensitization During Pregnancy...\n",
      "Found 6 sections for Rh Sensitization During Pregnancy\n"
     ]
    },
    {
     "name": "stderr",
     "output_type": "stream",
     "text": [
      "C:\\Users\\Raj\\AppData\\Local\\Temp\\ipykernel_29048\\2168445501.py:6: FutureWarning: The frame.append method is deprecated and will be removed from pandas in a future version. Use pandas.concat instead.\n",
      "  df = df.append(scrape_page(topic[\"topic\"], topic[\"url\"]), ignore_index=True)\n",
      " 75%|███████▍  | 1084/1452 [23:17<07:39,  1.25s/it]"
     ]
    },
    {
     "name": "stdout",
     "output_type": "stream",
     "text": [
      "Scraping Rheumatic Chorea...\n",
      "Found 4 sections for Rheumatic Chorea\n"
     ]
    },
    {
     "name": "stderr",
     "output_type": "stream",
     "text": [
      "C:\\Users\\Raj\\AppData\\Local\\Temp\\ipykernel_29048\\2168445501.py:6: FutureWarning: The frame.append method is deprecated and will be removed from pandas in a future version. Use pandas.concat instead.\n",
      "  df = df.append(scrape_page(topic[\"topic\"], topic[\"url\"]), ignore_index=True)\n",
      " 75%|███████▍  | 1085/1452 [23:19<07:37,  1.25s/it]"
     ]
    },
    {
     "name": "stdout",
     "output_type": "stream",
     "text": [
      "Scraping Rheumatic Purpura...\n",
      "Found 5 sections for Rheumatic Purpura\n"
     ]
    },
    {
     "name": "stderr",
     "output_type": "stream",
     "text": [
      "C:\\Users\\Raj\\AppData\\Local\\Temp\\ipykernel_29048\\2168445501.py:6: FutureWarning: The frame.append method is deprecated and will be removed from pandas in a future version. Use pandas.concat instead.\n",
      "  df = df.append(scrape_page(topic[\"topic\"], topic[\"url\"]), ignore_index=True)\n",
      " 75%|███████▍  | 1086/1452 [23:20<07:36,  1.25s/it]C:\\Users\\Raj\\AppData\\Local\\Temp\\ipykernel_29048\\2168445501.py:6: FutureWarning: The frame.append method is deprecated and will be removed from pandas in a future version. Use pandas.concat instead.\n",
      "  df = df.append(scrape_page(topic[\"topic\"], topic[\"url\"]), ignore_index=True)\n"
     ]
    },
    {
     "name": "stdout",
     "output_type": "stream",
     "text": [
      "Scraping RHS...\n",
      "Found 5 sections for RHS\n"
     ]
    },
    {
     "name": "stderr",
     "output_type": "stream",
     "text": [
      " 75%|███████▍  | 1087/1452 [23:21<07:27,  1.23s/it]"
     ]
    },
    {
     "name": "stdout",
     "output_type": "stream",
     "text": [
      "Scraping RICE...\n",
      "Found 6 sections for RICE\n"
     ]
    },
    {
     "name": "stderr",
     "output_type": "stream",
     "text": [
      "C:\\Users\\Raj\\AppData\\Local\\Temp\\ipykernel_29048\\2168445501.py:6: FutureWarning: The frame.append method is deprecated and will be removed from pandas in a future version. Use pandas.concat instead.\n",
      "  df = df.append(scrape_page(topic[\"topic\"], topic[\"url\"]), ignore_index=True)\n",
      " 75%|███████▍  | 1088/1452 [23:22<07:28,  1.23s/it]C:\\Users\\Raj\\AppData\\Local\\Temp\\ipykernel_29048\\2168445501.py:6: FutureWarning: The frame.append method is deprecated and will be removed from pandas in a future version. Use pandas.concat instead.\n",
      "  df = df.append(scrape_page(topic[\"topic\"], topic[\"url\"]), ignore_index=True)\n"
     ]
    },
    {
     "name": "stdout",
     "output_type": "stream",
     "text": [
      "Scraping Rickets...\n",
      "Found 7 sections for Rickets\n"
     ]
    },
    {
     "name": "stderr",
     "output_type": "stream",
     "text": [
      " 75%|███████▌  | 1089/1452 [23:23<07:26,  1.23s/it]C:\\Users\\Raj\\AppData\\Local\\Temp\\ipykernel_29048\\2168445501.py:6: FutureWarning: The frame.append method is deprecated and will be removed from pandas in a future version. Use pandas.concat instead.\n",
      "  df = df.append(scrape_page(topic[\"topic\"], topic[\"url\"]), ignore_index=True)\n"
     ]
    },
    {
     "name": "stdout",
     "output_type": "stream",
     "text": [
      "Scraping Rickets, Vitamin D Deficiency...\n",
      "Found 7 sections for Rickets, Vitamin D Deficiency\n"
     ]
    },
    {
     "name": "stderr",
     "output_type": "stream",
     "text": [
      " 75%|███████▌  | 1090/1452 [23:25<07:20,  1.22s/it]C:\\Users\\Raj\\AppData\\Local\\Temp\\ipykernel_29048\\2168445501.py:6: FutureWarning: The frame.append method is deprecated and will be removed from pandas in a future version. Use pandas.concat instead.\n",
      "  df = df.append(scrape_page(topic[\"topic\"], topic[\"url\"]), ignore_index=True)\n"
     ]
    },
    {
     "name": "stdout",
     "output_type": "stream",
     "text": [
      "Scraping Ringed Eruption (Granuloma Annulare)...\n",
      "Found 14 sections for Ringed Eruption (Granuloma Annulare)\n"
     ]
    },
    {
     "name": "stderr",
     "output_type": "stream",
     "text": [
      " 75%|███████▌  | 1091/1452 [23:26<07:15,  1.21s/it]"
     ]
    },
    {
     "name": "stdout",
     "output_type": "stream",
     "text": [
      "Scraping Ringworm...\n",
      "Found 7 sections for Ringworm\n"
     ]
    },
    {
     "name": "stderr",
     "output_type": "stream",
     "text": [
      "C:\\Users\\Raj\\AppData\\Local\\Temp\\ipykernel_29048\\2168445501.py:6: FutureWarning: The frame.append method is deprecated and will be removed from pandas in a future version. Use pandas.concat instead.\n",
      "  df = df.append(scrape_page(topic[\"topic\"], topic[\"url\"]), ignore_index=True)\n",
      " 75%|███████▌  | 1092/1452 [23:27<07:21,  1.23s/it]C:\\Users\\Raj\\AppData\\Local\\Temp\\ipykernel_29048\\2168445501.py:6: FutureWarning: The frame.append method is deprecated and will be removed from pandas in a future version. Use pandas.concat instead.\n",
      "  df = df.append(scrape_page(topic[\"topic\"], topic[\"url\"]), ignore_index=True)\n"
     ]
    },
    {
     "name": "stdout",
     "output_type": "stream",
     "text": [
      "Scraping Ringworm of the Scalp or Beard...\n",
      "Found 7 sections for Ringworm of the Scalp or Beard\n"
     ]
    },
    {
     "name": "stderr",
     "output_type": "stream",
     "text": [
      " 75%|███████▌  | 1093/1452 [23:28<07:19,  1.22s/it]"
     ]
    },
    {
     "name": "stdout",
     "output_type": "stream",
     "text": [
      "Scraping Ringworm Slideshow...\n"
     ]
    },
    {
     "name": "stderr",
     "output_type": "stream",
     "text": [
      "C:\\Users\\Raj\\AppData\\Local\\Temp\\ipykernel_29048\\2168445501.py:6: FutureWarning: The frame.append method is deprecated and will be removed from pandas in a future version. Use pandas.concat instead.\n",
      "  df = df.append(scrape_page(topic[\"topic\"], topic[\"url\"]), ignore_index=True)\n",
      " 75%|███████▌  | 1094/1452 [23:30<07:20,  1.23s/it]"
     ]
    },
    {
     "name": "stdout",
     "output_type": "stream",
     "text": [
      "Scraping RLF...\n",
      "Found 7 sections for RLF\n"
     ]
    },
    {
     "name": "stderr",
     "output_type": "stream",
     "text": [
      "C:\\Users\\Raj\\AppData\\Local\\Temp\\ipykernel_29048\\2168445501.py:6: FutureWarning: The frame.append method is deprecated and will be removed from pandas in a future version. Use pandas.concat instead.\n",
      "  df = df.append(scrape_page(topic[\"topic\"], topic[\"url\"]), ignore_index=True)\n",
      " 75%|███████▌  | 1095/1452 [23:31<07:20,  1.23s/it]"
     ]
    },
    {
     "name": "stdout",
     "output_type": "stream",
     "text": [
      "Scraping RLS (Restless Legs Syndrome)...\n",
      "Found 9 sections for RLS (Restless Legs Syndrome)\n"
     ]
    },
    {
     "name": "stderr",
     "output_type": "stream",
     "text": [
      "C:\\Users\\Raj\\AppData\\Local\\Temp\\ipykernel_29048\\2168445501.py:6: FutureWarning: The frame.append method is deprecated and will be removed from pandas in a future version. Use pandas.concat instead.\n",
      "  df = df.append(scrape_page(topic[\"topic\"], topic[\"url\"]), ignore_index=True)\n",
      " 75%|███████▌  | 1096/1452 [23:32<07:22,  1.24s/it]"
     ]
    },
    {
     "name": "stdout",
     "output_type": "stream",
     "text": [
      "Scraping Rocky Mountain Spotted Fever...\n",
      "Found 8 sections for Rocky Mountain Spotted Fever\n"
     ]
    },
    {
     "name": "stderr",
     "output_type": "stream",
     "text": [
      "C:\\Users\\Raj\\AppData\\Local\\Temp\\ipykernel_29048\\2168445501.py:6: FutureWarning: The frame.append method is deprecated and will be removed from pandas in a future version. Use pandas.concat instead.\n",
      "  df = df.append(scrape_page(topic[\"topic\"], topic[\"url\"]), ignore_index=True)\n",
      " 76%|███████▌  | 1097/1452 [23:33<07:24,  1.25s/it]C:\\Users\\Raj\\AppData\\Local\\Temp\\ipykernel_29048\\2168445501.py:6: FutureWarning: The frame.append method is deprecated and will be removed from pandas in a future version. Use pandas.concat instead.\n",
      "  df = df.append(scrape_page(topic[\"topic\"], topic[\"url\"]), ignore_index=True)\n"
     ]
    },
    {
     "name": "stdout",
     "output_type": "stream",
     "text": [
      "Scraping ROP...\n",
      "Found 7 sections for ROP\n"
     ]
    },
    {
     "name": "stderr",
     "output_type": "stream",
     "text": [
      " 76%|███████▌  | 1098/1452 [23:35<07:16,  1.23s/it]"
     ]
    },
    {
     "name": "stdout",
     "output_type": "stream",
     "text": [
      "Scraping Rosacea...\n",
      "Found 10 sections for Rosacea\n"
     ]
    },
    {
     "name": "stderr",
     "output_type": "stream",
     "text": [
      "C:\\Users\\Raj\\AppData\\Local\\Temp\\ipykernel_29048\\2168445501.py:6: FutureWarning: The frame.append method is deprecated and will be removed from pandas in a future version. Use pandas.concat instead.\n",
      "  df = df.append(scrape_page(topic[\"topic\"], topic[\"url\"]), ignore_index=True)\n",
      " 76%|███████▌  | 1099/1452 [23:36<07:24,  1.26s/it]C:\\Users\\Raj\\AppData\\Local\\Temp\\ipykernel_29048\\2168445501.py:6: FutureWarning: The frame.append method is deprecated and will be removed from pandas in a future version. Use pandas.concat instead.\n",
      "  df = df.append(scrape_page(topic[\"topic\"], topic[\"url\"]), ignore_index=True)\n"
     ]
    },
    {
     "name": "stdout",
     "output_type": "stream",
     "text": [
      "Scraping Roseola...\n",
      "Found 5 sections for Roseola\n"
     ]
    },
    {
     "name": "stderr",
     "output_type": "stream",
     "text": [
      " 76%|███████▌  | 1100/1452 [23:37<07:18,  1.24s/it]"
     ]
    },
    {
     "name": "stdout",
     "output_type": "stream",
     "text": [
      "Scraping Rotator Cuff Disorders...\n",
      "Found 5 sections for Rotator Cuff Disorders\n"
     ]
    },
    {
     "name": "stderr",
     "output_type": "stream",
     "text": [
      "C:\\Users\\Raj\\AppData\\Local\\Temp\\ipykernel_29048\\2168445501.py:6: FutureWarning: The frame.append method is deprecated and will be removed from pandas in a future version. Use pandas.concat instead.\n",
      "  df = df.append(scrape_page(topic[\"topic\"], topic[\"url\"]), ignore_index=True)\n",
      " 76%|███████▌  | 1101/1452 [23:38<07:17,  1.25s/it]"
     ]
    },
    {
     "name": "stdout",
     "output_type": "stream",
     "text": [
      "Scraping Rotator Cuff Rehabilition...\n",
      "Found 5 sections for Rotator Cuff Rehabilition\n"
     ]
    },
    {
     "name": "stderr",
     "output_type": "stream",
     "text": [
      "C:\\Users\\Raj\\AppData\\Local\\Temp\\ipykernel_29048\\2168445501.py:6: FutureWarning: The frame.append method is deprecated and will be removed from pandas in a future version. Use pandas.concat instead.\n",
      "  df = df.append(scrape_page(topic[\"topic\"], topic[\"url\"]), ignore_index=True)\n",
      " 76%|███████▌  | 1102/1452 [23:40<07:15,  1.24s/it]"
     ]
    },
    {
     "name": "stdout",
     "output_type": "stream",
     "text": [
      "Scraping RP...\n",
      "Found 6 sections for RP\n"
     ]
    },
    {
     "name": "stderr",
     "output_type": "stream",
     "text": [
      "C:\\Users\\Raj\\AppData\\Local\\Temp\\ipykernel_29048\\2168445501.py:6: FutureWarning: The frame.append method is deprecated and will be removed from pandas in a future version. Use pandas.concat instead.\n",
      "  df = df.append(scrape_page(topic[\"topic\"], topic[\"url\"]), ignore_index=True)\n",
      " 76%|███████▌  | 1103/1452 [23:41<07:16,  1.25s/it]"
     ]
    },
    {
     "name": "stdout",
     "output_type": "stream",
     "text": [
      "Scraping RS...\n",
      "Found 19 sections for RS\n"
     ]
    },
    {
     "name": "stderr",
     "output_type": "stream",
     "text": [
      "C:\\Users\\Raj\\AppData\\Local\\Temp\\ipykernel_29048\\2168445501.py:6: FutureWarning: The frame.append method is deprecated and will be removed from pandas in a future version. Use pandas.concat instead.\n",
      "  df = df.append(scrape_page(topic[\"topic\"], topic[\"url\"]), ignore_index=True)\n",
      " 76%|███████▌  | 1104/1452 [23:42<07:14,  1.25s/it]"
     ]
    },
    {
     "name": "stdout",
     "output_type": "stream",
     "text": [
      "Scraping RS, X-Linked...\n"
     ]
    },
    {
     "name": "stderr",
     "output_type": "stream",
     "text": [
      "C:\\Users\\Raj\\AppData\\Local\\Temp\\ipykernel_29048\\2168445501.py:6: FutureWarning: The frame.append method is deprecated and will be removed from pandas in a future version. Use pandas.concat instead.\n",
      "  df = df.append(scrape_page(topic[\"topic\"], topic[\"url\"]), ignore_index=True)\n",
      " 76%|███████▌  | 1105/1452 [23:44<08:00,  1.39s/it]C:\\Users\\Raj\\AppData\\Local\\Temp\\ipykernel_29048\\2168445501.py:6: FutureWarning: The frame.append method is deprecated and will be removed from pandas in a future version. Use pandas.concat instead.\n",
      "  df = df.append(scrape_page(topic[\"topic\"], topic[\"url\"]), ignore_index=True)\n"
     ]
    },
    {
     "name": "stdout",
     "output_type": "stream",
     "text": [
      "Scraping RSDS...\n",
      "Found 9 sections for RSDS\n"
     ]
    },
    {
     "name": "stderr",
     "output_type": "stream",
     "text": [
      " 76%|███████▌  | 1106/1452 [23:45<07:40,  1.33s/it]"
     ]
    },
    {
     "name": "stdout",
     "output_type": "stream",
     "text": [
      "Scraping RSV Infection...\n",
      "Found 6 sections for RSV Infection\n"
     ]
    },
    {
     "name": "stderr",
     "output_type": "stream",
     "text": [
      "C:\\Users\\Raj\\AppData\\Local\\Temp\\ipykernel_29048\\2168445501.py:6: FutureWarning: The frame.append method is deprecated and will be removed from pandas in a future version. Use pandas.concat instead.\n",
      "  df = df.append(scrape_page(topic[\"topic\"], topic[\"url\"]), ignore_index=True)\n",
      " 76%|███████▌  | 1107/1452 [23:46<07:29,  1.30s/it]C:\\Users\\Raj\\AppData\\Local\\Temp\\ipykernel_29048\\2168445501.py:6: FutureWarning: The frame.append method is deprecated and will be removed from pandas in a future version. Use pandas.concat instead.\n",
      "  df = df.append(scrape_page(topic[\"topic\"], topic[\"url\"]), ignore_index=True)\n"
     ]
    },
    {
     "name": "stdout",
     "output_type": "stream",
     "text": [
      "Scraping RTS -- Rett Syndrome...\n",
      "Found 19 sections for RTS -- Rett Syndrome\n"
     ]
    },
    {
     "name": "stderr",
     "output_type": "stream",
     "text": [
      " 76%|███████▋  | 1108/1452 [23:47<07:16,  1.27s/it]"
     ]
    },
    {
     "name": "stdout",
     "output_type": "stream",
     "text": [
      "Scraping Rubella (German Measles)...\n",
      "Found 10 sections for Rubella (German Measles)\n"
     ]
    },
    {
     "name": "stderr",
     "output_type": "stream",
     "text": [
      "C:\\Users\\Raj\\AppData\\Local\\Temp\\ipykernel_29048\\2168445501.py:6: FutureWarning: The frame.append method is deprecated and will be removed from pandas in a future version. Use pandas.concat instead.\n",
      "  df = df.append(scrape_page(topic[\"topic\"], topic[\"url\"]), ignore_index=True)\n",
      " 76%|███████▋  | 1109/1452 [23:49<07:15,  1.27s/it]C:\\Users\\Raj\\AppData\\Local\\Temp\\ipykernel_29048\\2168445501.py:6: FutureWarning: The frame.append method is deprecated and will be removed from pandas in a future version. Use pandas.concat instead.\n",
      "  df = df.append(scrape_page(topic[\"topic\"], topic[\"url\"]), ignore_index=True)\n"
     ]
    },
    {
     "name": "stdout",
     "output_type": "stream",
     "text": [
      "Scraping Rubeola (Measles)...\n",
      "Found 11 sections for Rubeola (Measles)\n"
     ]
    },
    {
     "name": "stderr",
     "output_type": "stream",
     "text": [
      " 76%|███████▋  | 1110/1452 [23:50<07:09,  1.26s/it]"
     ]
    },
    {
     "name": "stdout",
     "output_type": "stream",
     "text": [
      "Scraping Ruptured Disc...\n",
      "Found 5 sections for Ruptured Disc\n"
     ]
    },
    {
     "name": "stderr",
     "output_type": "stream",
     "text": [
      "C:\\Users\\Raj\\AppData\\Local\\Temp\\ipykernel_29048\\2168445501.py:6: FutureWarning: The frame.append method is deprecated and will be removed from pandas in a future version. Use pandas.concat instead.\n",
      "  df = df.append(scrape_page(topic[\"topic\"], topic[\"url\"]), ignore_index=True)\n",
      " 77%|███████▋  | 1111/1452 [23:51<07:06,  1.25s/it]"
     ]
    },
    {
     "name": "stdout",
     "output_type": "stream",
     "text": [
      "Scraping Russian Autumnal Encephalitis...\n",
      "Found 7 sections for Russian Autumnal Encephalitis\n"
     ]
    },
    {
     "name": "stderr",
     "output_type": "stream",
     "text": [
      "C:\\Users\\Raj\\AppData\\Local\\Temp\\ipykernel_29048\\2168445501.py:6: FutureWarning: The frame.append method is deprecated and will be removed from pandas in a future version. Use pandas.concat instead.\n",
      "  df = df.append(scrape_page(topic[\"topic\"], topic[\"url\"]), ignore_index=True)\n",
      " 77%|███████▋  | 1112/1452 [23:52<07:06,  1.25s/it]"
     ]
    },
    {
     "name": "stdout",
     "output_type": "stream",
     "text": [
      "Scraping Sacrococcygeal Chordoma...\n",
      "Found 7 sections for Sacrococcygeal Chordoma\n"
     ]
    },
    {
     "name": "stderr",
     "output_type": "stream",
     "text": [
      "C:\\Users\\Raj\\AppData\\Local\\Temp\\ipykernel_29048\\2168445501.py:6: FutureWarning: The frame.append method is deprecated and will be removed from pandas in a future version. Use pandas.concat instead.\n",
      "  df = df.append(scrape_page(topic[\"topic\"], topic[\"url\"]), ignore_index=True)\n",
      " 77%|███████▋  | 1113/1452 [23:54<07:05,  1.25s/it]"
     ]
    },
    {
     "name": "stdout",
     "output_type": "stream",
     "text": [
      "Scraping Sacroiliac Joint Pain...\n",
      "Found 7 sections for Sacroiliac Joint Pain\n"
     ]
    },
    {
     "name": "stderr",
     "output_type": "stream",
     "text": [
      "C:\\Users\\Raj\\AppData\\Local\\Temp\\ipykernel_29048\\2168445501.py:6: FutureWarning: The frame.append method is deprecated and will be removed from pandas in a future version. Use pandas.concat instead.\n",
      "  df = df.append(scrape_page(topic[\"topic\"], topic[\"url\"]), ignore_index=True)\n",
      " 77%|███████▋  | 1114/1452 [23:55<07:00,  1.25s/it]"
     ]
    },
    {
     "name": "stdout",
     "output_type": "stream",
     "text": [
      "Scraping SAD (Seasonal Affective Disorder)...\n",
      "Found 13 sections for SAD (Seasonal Affective Disorder)\n"
     ]
    },
    {
     "name": "stderr",
     "output_type": "stream",
     "text": [
      "C:\\Users\\Raj\\AppData\\Local\\Temp\\ipykernel_29048\\2168445501.py:6: FutureWarning: The frame.append method is deprecated and will be removed from pandas in a future version. Use pandas.concat instead.\n",
      "  df = df.append(scrape_page(topic[\"topic\"], topic[\"url\"]), ignore_index=True)\n",
      " 77%|███████▋  | 1115/1452 [23:56<06:59,  1.25s/it]"
     ]
    },
    {
     "name": "stdout",
     "output_type": "stream",
     "text": [
      "Scraping S-adenosylmethinoine (SAM-e)...\n",
      "Found 5 sections for S-adenosylmethinoine (SAM-e)\n"
     ]
    },
    {
     "name": "stderr",
     "output_type": "stream",
     "text": [
      "C:\\Users\\Raj\\AppData\\Local\\Temp\\ipykernel_29048\\2168445501.py:6: FutureWarning: The frame.append method is deprecated and will be removed from pandas in a future version. Use pandas.concat instead.\n",
      "  df = df.append(scrape_page(topic[\"topic\"], topic[\"url\"]), ignore_index=True)\n",
      " 77%|███████▋  | 1116/1452 [23:57<06:57,  1.24s/it]"
     ]
    },
    {
     "name": "stdout",
     "output_type": "stream",
     "text": [
      "Scraping Safe Food Handling...\n",
      "Found 16 sections for Safe Food Handling\n"
     ]
    },
    {
     "name": "stderr",
     "output_type": "stream",
     "text": [
      "C:\\Users\\Raj\\AppData\\Local\\Temp\\ipykernel_29048\\2168445501.py:6: FutureWarning: The frame.append method is deprecated and will be removed from pandas in a future version. Use pandas.concat instead.\n",
      "  df = df.append(scrape_page(topic[\"topic\"], topic[\"url\"]), ignore_index=True)\n",
      " 77%|███████▋  | 1117/1452 [23:59<07:14,  1.30s/it]"
     ]
    },
    {
     "name": "stdout",
     "output_type": "stream",
     "text": [
      "Scraping Safe Sex...\n"
     ]
    },
    {
     "name": "stderr",
     "output_type": "stream",
     "text": [
      "C:\\Users\\Raj\\AppData\\Local\\Temp\\ipykernel_29048\\2168445501.py:6: FutureWarning: The frame.append method is deprecated and will be removed from pandas in a future version. Use pandas.concat instead.\n",
      "  df = df.append(scrape_page(topic[\"topic\"], topic[\"url\"]), ignore_index=True)\n",
      " 77%|███████▋  | 1118/1452 [24:00<07:14,  1.30s/it]"
     ]
    },
    {
     "name": "stdout",
     "output_type": "stream",
     "text": [
      "Scraping Safety Tips When Taking Anticoagulants...\n",
      "Found 10 sections for Safety Tips When Taking Anticoagulants\n"
     ]
    },
    {
     "name": "stderr",
     "output_type": "stream",
     "text": [
      "C:\\Users\\Raj\\AppData\\Local\\Temp\\ipykernel_29048\\2168445501.py:6: FutureWarning: The frame.append method is deprecated and will be removed from pandas in a future version. Use pandas.concat instead.\n",
      "  df = df.append(scrape_page(topic[\"topic\"], topic[\"url\"]), ignore_index=True)\n",
      " 77%|███████▋  | 1119/1452 [24:01<07:10,  1.29s/it]"
     ]
    },
    {
     "name": "stdout",
     "output_type": "stream",
     "text": [
      "Scraping Safety, Baby and Toddler...\n",
      "Found 16 sections for Safety, Baby and Toddler\n"
     ]
    },
    {
     "name": "stderr",
     "output_type": "stream",
     "text": [
      "C:\\Users\\Raj\\AppData\\Local\\Temp\\ipykernel_29048\\2168445501.py:6: FutureWarning: The frame.append method is deprecated and will be removed from pandas in a future version. Use pandas.concat instead.\n",
      "  df = df.append(scrape_page(topic[\"topic\"], topic[\"url\"]), ignore_index=True)\n",
      " 77%|███████▋  | 1120/1452 [24:03<07:04,  1.28s/it]"
     ]
    },
    {
     "name": "stdout",
     "output_type": "stream",
     "text": [
      "Scraping Salivary Gland Infection...\n",
      "Found 8 sections for Salivary Gland Infection\n"
     ]
    },
    {
     "name": "stderr",
     "output_type": "stream",
     "text": [
      "C:\\Users\\Raj\\AppData\\Local\\Temp\\ipykernel_29048\\2168445501.py:6: FutureWarning: The frame.append method is deprecated and will be removed from pandas in a future version. Use pandas.concat instead.\n",
      "  df = df.append(scrape_page(topic[\"topic\"], topic[\"url\"]), ignore_index=True)\n",
      " 77%|███████▋  | 1121/1452 [24:04<07:07,  1.29s/it]"
     ]
    },
    {
     "name": "stdout",
     "output_type": "stream",
     "text": [
      "Scraping Salmonellosis...\n",
      "Found 14 sections for Salmonellosis\n"
     ]
    },
    {
     "name": "stderr",
     "output_type": "stream",
     "text": [
      "C:\\Users\\Raj\\AppData\\Local\\Temp\\ipykernel_29048\\2168445501.py:6: FutureWarning: The frame.append method is deprecated and will be removed from pandas in a future version. Use pandas.concat instead.\n",
      "  df = df.append(scrape_page(topic[\"topic\"], topic[\"url\"]), ignore_index=True)\n",
      " 77%|███████▋  | 1122/1452 [24:05<07:16,  1.32s/it]C:\\Users\\Raj\\AppData\\Local\\Temp\\ipykernel_29048\\2168445501.py:6: FutureWarning: The frame.append method is deprecated and will be removed from pandas in a future version. Use pandas.concat instead.\n",
      "  df = df.append(scrape_page(topic[\"topic\"], topic[\"url\"]), ignore_index=True)\n"
     ]
    },
    {
     "name": "stdout",
     "output_type": "stream",
     "text": [
      "Scraping SAM-e...\n",
      "Found 5 sections for SAM-e\n"
     ]
    },
    {
     "name": "stderr",
     "output_type": "stream",
     "text": [
      " 77%|███████▋  | 1123/1452 [24:07<07:02,  1.28s/it]"
     ]
    },
    {
     "name": "stdout",
     "output_type": "stream",
     "text": [
      "Scraping Sarcoid of Boeck...\n",
      "Found 2 sections for Sarcoid of Boeck\n"
     ]
    },
    {
     "name": "stderr",
     "output_type": "stream",
     "text": [
      "C:\\Users\\Raj\\AppData\\Local\\Temp\\ipykernel_29048\\2168445501.py:6: FutureWarning: The frame.append method is deprecated and will be removed from pandas in a future version. Use pandas.concat instead.\n",
      "  df = df.append(scrape_page(topic[\"topic\"], topic[\"url\"]), ignore_index=True)\n",
      " 77%|███████▋  | 1124/1452 [24:08<06:57,  1.27s/it]"
     ]
    },
    {
     "name": "stdout",
     "output_type": "stream",
     "text": [
      "Scraping Sarcoidosis...\n",
      "Found 8 sections for Sarcoidosis\n"
     ]
    },
    {
     "name": "stderr",
     "output_type": "stream",
     "text": [
      "C:\\Users\\Raj\\AppData\\Local\\Temp\\ipykernel_29048\\2168445501.py:6: FutureWarning: The frame.append method is deprecated and will be removed from pandas in a future version. Use pandas.concat instead.\n",
      "  df = df.append(scrape_page(topic[\"topic\"], topic[\"url\"]), ignore_index=True)\n",
      " 77%|███████▋  | 1125/1452 [24:09<06:52,  1.26s/it]"
     ]
    },
    {
     "name": "stdout",
     "output_type": "stream",
     "text": [
      "Scraping SARS (Severe Acute Respiratory Syndrome)...\n",
      "Found 8 sections for SARS (Severe Acute Respiratory Syndrome)\n"
     ]
    },
    {
     "name": "stderr",
     "output_type": "stream",
     "text": [
      "C:\\Users\\Raj\\AppData\\Local\\Temp\\ipykernel_29048\\2168445501.py:6: FutureWarning: The frame.append method is deprecated and will be removed from pandas in a future version. Use pandas.concat instead.\n",
      "  df = df.append(scrape_page(topic[\"topic\"], topic[\"url\"]), ignore_index=True)\n",
      " 78%|███████▊  | 1126/1452 [24:10<06:49,  1.25s/it]"
     ]
    },
    {
     "name": "stdout",
     "output_type": "stream",
     "text": [
      "Scraping Saw Palmetto...\n",
      "Found 7 sections for Saw Palmetto\n"
     ]
    },
    {
     "name": "stderr",
     "output_type": "stream",
     "text": [
      "C:\\Users\\Raj\\AppData\\Local\\Temp\\ipykernel_29048\\2168445501.py:6: FutureWarning: The frame.append method is deprecated and will be removed from pandas in a future version. Use pandas.concat instead.\n",
      "  df = df.append(scrape_page(topic[\"topic\"], topic[\"url\"]), ignore_index=True)\n",
      " 78%|███████▊  | 1127/1452 [24:12<06:49,  1.26s/it]"
     ]
    },
    {
     "name": "stdout",
     "output_type": "stream",
     "text": [
      "Scraping Scabies...\n",
      "Found 4 sections for Scabies\n"
     ]
    },
    {
     "name": "stderr",
     "output_type": "stream",
     "text": [
      "C:\\Users\\Raj\\AppData\\Local\\Temp\\ipykernel_29048\\2168445501.py:6: FutureWarning: The frame.append method is deprecated and will be removed from pandas in a future version. Use pandas.concat instead.\n",
      "  df = df.append(scrape_page(topic[\"topic\"], topic[\"url\"]), ignore_index=True)\n",
      " 78%|███████▊  | 1128/1452 [24:13<06:47,  1.26s/it]"
     ]
    },
    {
     "name": "stdout",
     "output_type": "stream",
     "text": [
      "Scraping Scalded Skin Syndrome...\n",
      "Found 1 sections for Scalded Skin Syndrome\n"
     ]
    },
    {
     "name": "stderr",
     "output_type": "stream",
     "text": [
      "C:\\Users\\Raj\\AppData\\Local\\Temp\\ipykernel_29048\\2168445501.py:6: FutureWarning: The frame.append method is deprecated and will be removed from pandas in a future version. Use pandas.concat instead.\n",
      "  df = df.append(scrape_page(topic[\"topic\"], topic[\"url\"]), ignore_index=True)\n",
      " 78%|███████▊  | 1129/1452 [24:14<06:43,  1.25s/it]"
     ]
    },
    {
     "name": "stdout",
     "output_type": "stream",
     "text": [
      "Scraping Scarlet Fever...\n",
      "Found 6 sections for Scarlet Fever\n"
     ]
    },
    {
     "name": "stderr",
     "output_type": "stream",
     "text": [
      "C:\\Users\\Raj\\AppData\\Local\\Temp\\ipykernel_29048\\2168445501.py:6: FutureWarning: The frame.append method is deprecated and will be removed from pandas in a future version. Use pandas.concat instead.\n",
      "  df = df.append(scrape_page(topic[\"topic\"], topic[\"url\"]), ignore_index=True)\n",
      " 78%|███████▊  | 1130/1452 [24:15<06:41,  1.25s/it]"
     ]
    },
    {
     "name": "stdout",
     "output_type": "stream",
     "text": [
      "Scraping Scarring Bullosa...\n",
      "Found 10 sections for Scarring Bullosa\n"
     ]
    },
    {
     "name": "stderr",
     "output_type": "stream",
     "text": [
      "C:\\Users\\Raj\\AppData\\Local\\Temp\\ipykernel_29048\\2168445501.py:6: FutureWarning: The frame.append method is deprecated and will be removed from pandas in a future version. Use pandas.concat instead.\n",
      "  df = df.append(scrape_page(topic[\"topic\"], topic[\"url\"]), ignore_index=True)\n",
      " 78%|███████▊  | 1131/1452 [24:17<06:40,  1.25s/it]"
     ]
    },
    {
     "name": "stdout",
     "output_type": "stream",
     "text": [
      "Scraping Scars...\n",
      "Found 3 sections for Scars\n"
     ]
    },
    {
     "name": "stderr",
     "output_type": "stream",
     "text": [
      "C:\\Users\\Raj\\AppData\\Local\\Temp\\ipykernel_29048\\2168445501.py:6: FutureWarning: The frame.append method is deprecated and will be removed from pandas in a future version. Use pandas.concat instead.\n",
      "  df = df.append(scrape_page(topic[\"topic\"], topic[\"url\"]), ignore_index=True)\n",
      " 78%|███████▊  | 1132/1452 [24:18<06:37,  1.24s/it]"
     ]
    },
    {
     "name": "stdout",
     "output_type": "stream",
     "text": [
      "Scraping Schereshevkii-Turner Syndrome...\n",
      "Found 9 sections for Schereshevkii-Turner Syndrome\n"
     ]
    },
    {
     "name": "stderr",
     "output_type": "stream",
     "text": [
      "C:\\Users\\Raj\\AppData\\Local\\Temp\\ipykernel_29048\\2168445501.py:6: FutureWarning: The frame.append method is deprecated and will be removed from pandas in a future version. Use pandas.concat instead.\n",
      "  df = df.append(scrape_page(topic[\"topic\"], topic[\"url\"]), ignore_index=True)\n",
      " 78%|███████▊  | 1133/1452 [24:19<06:36,  1.24s/it]"
     ]
    },
    {
     "name": "stdout",
     "output_type": "stream",
     "text": [
      "Scraping Secondary Psychosis...\n",
      "Found 12 sections for Secondary Psychosis\n"
     ]
    },
    {
     "name": "stderr",
     "output_type": "stream",
     "text": [
      "C:\\Users\\Raj\\AppData\\Local\\Temp\\ipykernel_29048\\2168445501.py:6: FutureWarning: The frame.append method is deprecated and will be removed from pandas in a future version. Use pandas.concat instead.\n",
      "  df = df.append(scrape_page(topic[\"topic\"], topic[\"url\"]), ignore_index=True)\n",
      " 78%|███████▊  | 1134/1452 [24:20<06:37,  1.25s/it]"
     ]
    },
    {
     "name": "stdout",
     "output_type": "stream",
     "text": [
      "Scraping Severe Hearing Loss...\n",
      "Found 15 sections for Severe Hearing Loss\n"
     ]
    },
    {
     "name": "stderr",
     "output_type": "stream",
     "text": [
      "C:\\Users\\Raj\\AppData\\Local\\Temp\\ipykernel_29048\\2168445501.py:6: FutureWarning: The frame.append method is deprecated and will be removed from pandas in a future version. Use pandas.concat instead.\n",
      "  df = df.append(scrape_page(topic[\"topic\"], topic[\"url\"]), ignore_index=True)\n",
      " 78%|███████▊  | 1135/1452 [24:21<06:35,  1.25s/it]"
     ]
    },
    {
     "name": "stdout",
     "output_type": "stream",
     "text": [
      "Scraping Shaken Baby Syndrome...\n",
      "Found 10 sections for Shaken Baby Syndrome\n"
     ]
    },
    {
     "name": "stderr",
     "output_type": "stream",
     "text": [
      "C:\\Users\\Raj\\AppData\\Local\\Temp\\ipykernel_29048\\2168445501.py:6: FutureWarning: The frame.append method is deprecated and will be removed from pandas in a future version. Use pandas.concat instead.\n",
      "  df = df.append(scrape_page(topic[\"topic\"], topic[\"url\"]), ignore_index=True)\n",
      " 78%|███████▊  | 1136/1452 [24:23<06:33,  1.24s/it]"
     ]
    },
    {
     "name": "stdout",
     "output_type": "stream",
     "text": [
      "Scraping Shigellosis...\n",
      "Found 9 sections for Shigellosis\n"
     ]
    },
    {
     "name": "stderr",
     "output_type": "stream",
     "text": [
      "C:\\Users\\Raj\\AppData\\Local\\Temp\\ipykernel_29048\\2168445501.py:6: FutureWarning: The frame.append method is deprecated and will be removed from pandas in a future version. Use pandas.concat instead.\n",
      "  df = df.append(scrape_page(topic[\"topic\"], topic[\"url\"]), ignore_index=True)\n",
      " 78%|███████▊  | 1137/1452 [24:24<06:32,  1.25s/it]"
     ]
    },
    {
     "name": "stdout",
     "output_type": "stream",
     "text": [
      "Scraping Shock...\n",
      "Found 9 sections for Shock\n"
     ]
    },
    {
     "name": "stderr",
     "output_type": "stream",
     "text": [
      "C:\\Users\\Raj\\AppData\\Local\\Temp\\ipykernel_29048\\2168445501.py:6: FutureWarning: The frame.append method is deprecated and will be removed from pandas in a future version. Use pandas.concat instead.\n",
      "  df = df.append(scrape_page(topic[\"topic\"], topic[\"url\"]), ignore_index=True)\n",
      " 78%|███████▊  | 1138/1452 [24:25<06:32,  1.25s/it]"
     ]
    },
    {
     "name": "stdout",
     "output_type": "stream",
     "text": [
      "Scraping Shock Lung...\n",
      "Found 10 sections for Shock Lung\n"
     ]
    },
    {
     "name": "stderr",
     "output_type": "stream",
     "text": [
      "C:\\Users\\Raj\\AppData\\Local\\Temp\\ipykernel_29048\\2168445501.py:6: FutureWarning: The frame.append method is deprecated and will be removed from pandas in a future version. Use pandas.concat instead.\n",
      "  df = df.append(scrape_page(topic[\"topic\"], topic[\"url\"]), ignore_index=True)\n",
      " 78%|███████▊  | 1139/1452 [24:26<06:30,  1.25s/it]"
     ]
    },
    {
     "name": "stdout",
     "output_type": "stream",
     "text": [
      "Scraping Short Bowel Syndrome...\n",
      "Found 12 sections for Short Bowel Syndrome\n"
     ]
    },
    {
     "name": "stderr",
     "output_type": "stream",
     "text": [
      "C:\\Users\\Raj\\AppData\\Local\\Temp\\ipykernel_29048\\2168445501.py:6: FutureWarning: The frame.append method is deprecated and will be removed from pandas in a future version. Use pandas.concat instead.\n",
      "  df = df.append(scrape_page(topic[\"topic\"], topic[\"url\"]), ignore_index=True)\n",
      " 79%|███████▊  | 1140/1452 [24:28<06:31,  1.25s/it]"
     ]
    },
    {
     "name": "stdout",
     "output_type": "stream",
     "text": [
      "Scraping Sickle Cell Crisis...\n",
      "Found 6 sections for Sickle Cell Crisis\n"
     ]
    },
    {
     "name": "stderr",
     "output_type": "stream",
     "text": [
      "C:\\Users\\Raj\\AppData\\Local\\Temp\\ipykernel_29048\\2168445501.py:6: FutureWarning: The frame.append method is deprecated and will be removed from pandas in a future version. Use pandas.concat instead.\n",
      "  df = df.append(scrape_page(topic[\"topic\"], topic[\"url\"]), ignore_index=True)\n",
      " 79%|███████▊  | 1141/1452 [24:29<06:31,  1.26s/it]"
     ]
    },
    {
     "name": "stdout",
     "output_type": "stream",
     "text": [
      "Scraping Sitz Bath...\n",
      "Found 3 sections for Sitz Bath\n"
     ]
    },
    {
     "name": "stderr",
     "output_type": "stream",
     "text": [
      "C:\\Users\\Raj\\AppData\\Local\\Temp\\ipykernel_29048\\2168445501.py:6: FutureWarning: The frame.append method is deprecated and will be removed from pandas in a future version. Use pandas.concat instead.\n",
      "  df = df.append(scrape_page(topic[\"topic\"], topic[\"url\"]), ignore_index=True)\n",
      " 79%|███████▊  | 1142/1452 [24:30<06:27,  1.25s/it]"
     ]
    },
    {
     "name": "stdout",
     "output_type": "stream",
     "text": [
      "Scraping Sjogren's Syndrome...\n",
      "Found 15 sections for Sjogren's Syndrome\n"
     ]
    },
    {
     "name": "stderr",
     "output_type": "stream",
     "text": [
      "C:\\Users\\Raj\\AppData\\Local\\Temp\\ipykernel_29048\\2168445501.py:6: FutureWarning: The frame.append method is deprecated and will be removed from pandas in a future version. Use pandas.concat instead.\n",
      "  df = df.append(scrape_page(topic[\"topic\"], topic[\"url\"]), ignore_index=True)\n",
      " 79%|███████▊  | 1143/1452 [24:32<06:31,  1.27s/it]"
     ]
    },
    {
     "name": "stdout",
     "output_type": "stream",
     "text": [
      "Scraping Skin Cancer Screening...\n"
     ]
    },
    {
     "name": "stderr",
     "output_type": "stream",
     "text": [
      "C:\\Users\\Raj\\AppData\\Local\\Temp\\ipykernel_29048\\2168445501.py:6: FutureWarning: The frame.append method is deprecated and will be removed from pandas in a future version. Use pandas.concat instead.\n",
      "  df = df.append(scrape_page(topic[\"topic\"], topic[\"url\"]), ignore_index=True)\n",
      " 79%|███████▉  | 1144/1452 [24:33<06:34,  1.28s/it]"
     ]
    },
    {
     "name": "stdout",
     "output_type": "stream",
     "text": [
      "Scraping Skin Cancer Slideshow...\n"
     ]
    },
    {
     "name": "stderr",
     "output_type": "stream",
     "text": [
      "C:\\Users\\Raj\\AppData\\Local\\Temp\\ipykernel_29048\\2168445501.py:6: FutureWarning: The frame.append method is deprecated and will be removed from pandas in a future version. Use pandas.concat instead.\n",
      "  df = df.append(scrape_page(topic[\"topic\"], topic[\"url\"]), ignore_index=True)\n",
      " 79%|███████▉  | 1145/1452 [24:34<06:28,  1.27s/it]"
     ]
    },
    {
     "name": "stdout",
     "output_type": "stream",
     "text": [
      "Scraping Skin Cancer Treatment...\n",
      "Found 5 sections for Skin Cancer Treatment\n"
     ]
    },
    {
     "name": "stderr",
     "output_type": "stream",
     "text": [
      "C:\\Users\\Raj\\AppData\\Local\\Temp\\ipykernel_29048\\2168445501.py:6: FutureWarning: The frame.append method is deprecated and will be removed from pandas in a future version. Use pandas.concat instead.\n",
      "  df = df.append(scrape_page(topic[\"topic\"], topic[\"url\"]), ignore_index=True)\n",
      " 79%|███████▉  | 1146/1452 [24:36<07:08,  1.40s/it]"
     ]
    },
    {
     "name": "stdout",
     "output_type": "stream",
     "text": [
      "Scraping Skin Cancer, Nonmelanoma...\n"
     ]
    },
    {
     "name": "stderr",
     "output_type": "stream",
     "text": [
      "C:\\Users\\Raj\\AppData\\Local\\Temp\\ipykernel_29048\\2168445501.py:6: FutureWarning: The frame.append method is deprecated and will be removed from pandas in a future version. Use pandas.concat instead.\n",
      "  df = df.append(scrape_page(topic[\"topic\"], topic[\"url\"]), ignore_index=True)\n",
      " 79%|███████▉  | 1147/1452 [24:37<07:04,  1.39s/it]"
     ]
    },
    {
     "name": "stdout",
     "output_type": "stream",
     "text": [
      "Scraping Skin Cancer, Squamous Cell Type...\n"
     ]
    },
    {
     "name": "stderr",
     "output_type": "stream",
     "text": [
      "C:\\Users\\Raj\\AppData\\Local\\Temp\\ipykernel_29048\\2168445501.py:6: FutureWarning: The frame.append method is deprecated and will be removed from pandas in a future version. Use pandas.concat instead.\n",
      "  df = df.append(scrape_page(topic[\"topic\"], topic[\"url\"]), ignore_index=True)\n",
      " 79%|███████▉  | 1148/1452 [24:39<07:00,  1.38s/it]"
     ]
    },
    {
     "name": "stdout",
     "output_type": "stream",
     "text": [
      "Scraping Skin Care Tips...\n",
      "Found 2 sections for Skin Care Tips\n"
     ]
    },
    {
     "name": "stderr",
     "output_type": "stream",
     "text": [
      "C:\\Users\\Raj\\AppData\\Local\\Temp\\ipykernel_29048\\2168445501.py:6: FutureWarning: The frame.append method is deprecated and will be removed from pandas in a future version. Use pandas.concat instead.\n",
      "  df = df.append(scrape_page(topic[\"topic\"], topic[\"url\"]), ignore_index=True)\n",
      " 79%|███████▉  | 1149/1452 [24:40<06:45,  1.34s/it]C:\\Users\\Raj\\AppData\\Local\\Temp\\ipykernel_29048\\2168445501.py:6: FutureWarning: The frame.append method is deprecated and will be removed from pandas in a future version. Use pandas.concat instead.\n",
      "  df = df.append(scrape_page(topic[\"topic\"], topic[\"url\"]), ignore_index=True)\n"
     ]
    },
    {
     "name": "stdout",
     "output_type": "stream",
     "text": [
      "Scraping Skin Problems in Adults...\n"
     ]
    },
    {
     "name": "stderr",
     "output_type": "stream",
     "text": [
      " 79%|███████▉  | 1150/1452 [24:41<06:34,  1.31s/it]C:\\Users\\Raj\\AppData\\Local\\Temp\\ipykernel_29048\\2168445501.py:6: FutureWarning: The frame.append method is deprecated and will be removed from pandas in a future version. Use pandas.concat instead.\n",
      "  df = df.append(scrape_page(topic[\"topic\"], topic[\"url\"]), ignore_index=True)\n"
     ]
    },
    {
     "name": "stdout",
     "output_type": "stream",
     "text": [
      "Scraping Skin Problems in Children...\n"
     ]
    },
    {
     "name": "stderr",
     "output_type": "stream",
     "text": [
      " 79%|███████▉  | 1151/1452 [24:42<06:20,  1.27s/it]"
     ]
    },
    {
     "name": "stdout",
     "output_type": "stream",
     "text": [
      "Scraping Skin Protection from the Sun...\n",
      "Found 4 sections for Skin Protection from the Sun\n"
     ]
    },
    {
     "name": "stderr",
     "output_type": "stream",
     "text": [
      "C:\\Users\\Raj\\AppData\\Local\\Temp\\ipykernel_29048\\2168445501.py:6: FutureWarning: The frame.append method is deprecated and will be removed from pandas in a future version. Use pandas.concat instead.\n",
      "  df = df.append(scrape_page(topic[\"topic\"], topic[\"url\"]), ignore_index=True)\n",
      " 79%|███████▉  | 1152/1452 [24:44<07:14,  1.45s/it]"
     ]
    },
    {
     "name": "stdout",
     "output_type": "stream",
     "text": [
      "Scraping Skin Rash...\n",
      "Found 14 sections for Skin Rash\n"
     ]
    },
    {
     "name": "stderr",
     "output_type": "stream",
     "text": [
      "C:\\Users\\Raj\\AppData\\Local\\Temp\\ipykernel_29048\\2168445501.py:6: FutureWarning: The frame.append method is deprecated and will be removed from pandas in a future version. Use pandas.concat instead.\n",
      "  df = df.append(scrape_page(topic[\"topic\"], topic[\"url\"]), ignore_index=True)\n",
      " 79%|███████▉  | 1153/1452 [24:45<06:54,  1.39s/it]"
     ]
    },
    {
     "name": "stdout",
     "output_type": "stream",
     "text": [
      "Scraping Skin Tags...\n",
      "Found 20 sections for Skin Tags\n"
     ]
    },
    {
     "name": "stderr",
     "output_type": "stream",
     "text": [
      "C:\\Users\\Raj\\AppData\\Local\\Temp\\ipykernel_29048\\2168445501.py:6: FutureWarning: The frame.append method is deprecated and will be removed from pandas in a future version. Use pandas.concat instead.\n",
      "  df = df.append(scrape_page(topic[\"topic\"], topic[\"url\"]), ignore_index=True)\n",
      " 79%|███████▉  | 1154/1452 [24:47<06:43,  1.36s/it]C:\\Users\\Raj\\AppData\\Local\\Temp\\ipykernel_29048\\2168445501.py:6: FutureWarning: The frame.append method is deprecated and will be removed from pandas in a future version. Use pandas.concat instead.\n",
      "  df = df.append(scrape_page(topic[\"topic\"], topic[\"url\"]), ignore_index=True)\n"
     ]
    },
    {
     "name": "stdout",
     "output_type": "stream",
     "text": [
      "Scraping Skull Base Chordoma...\n",
      "Found 7 sections for Skull Base Chordoma\n"
     ]
    },
    {
     "name": "stderr",
     "output_type": "stream",
     "text": [
      " 80%|███████▉  | 1155/1452 [24:48<06:30,  1.32s/it]C:\\Users\\Raj\\AppData\\Local\\Temp\\ipykernel_29048\\2168445501.py:6: FutureWarning: The frame.append method is deprecated and will be removed from pandas in a future version. Use pandas.concat instead.\n",
      "  df = df.append(scrape_page(topic[\"topic\"], topic[\"url\"]), ignore_index=True)\n"
     ]
    },
    {
     "name": "stdout",
     "output_type": "stream",
     "text": [
      "Scraping Sleep Epilepsy...\n",
      "Found 7 sections for Sleep Epilepsy\n"
     ]
    },
    {
     "name": "stderr",
     "output_type": "stream",
     "text": [
      " 80%|███████▉  | 1156/1452 [24:49<06:20,  1.28s/it]"
     ]
    },
    {
     "name": "stdout",
     "output_type": "stream",
     "text": [
      "Scraping Slipped Capital Femoral Epiphysis...\n",
      "Found 6 sections for Slipped Capital Femoral Epiphysis\n"
     ]
    },
    {
     "name": "stderr",
     "output_type": "stream",
     "text": [
      "C:\\Users\\Raj\\AppData\\Local\\Temp\\ipykernel_29048\\2168445501.py:6: FutureWarning: The frame.append method is deprecated and will be removed from pandas in a future version. Use pandas.concat instead.\n",
      "  df = df.append(scrape_page(topic[\"topic\"], topic[\"url\"]), ignore_index=True)\n",
      " 80%|███████▉  | 1157/1452 [24:50<06:14,  1.27s/it]C:\\Users\\Raj\\AppData\\Local\\Temp\\ipykernel_29048\\2168445501.py:6: FutureWarning: The frame.append method is deprecated and will be removed from pandas in a future version. Use pandas.concat instead.\n",
      "  df = df.append(scrape_page(topic[\"topic\"], topic[\"url\"]), ignore_index=True)\n"
     ]
    },
    {
     "name": "stdout",
     "output_type": "stream",
     "text": [
      "Scraping Slipped Disc...\n",
      "Found 5 sections for Slipped Disc\n"
     ]
    },
    {
     "name": "stderr",
     "output_type": "stream",
     "text": [
      " 80%|███████▉  | 1158/1452 [24:51<06:09,  1.26s/it]"
     ]
    },
    {
     "name": "stdout",
     "output_type": "stream",
     "text": [
      "Scraping Slow Heart Rate (Bradycardia)...\n",
      "Found 9 sections for Slow Heart Rate (Bradycardia)\n"
     ]
    },
    {
     "name": "stderr",
     "output_type": "stream",
     "text": [
      "C:\\Users\\Raj\\AppData\\Local\\Temp\\ipykernel_29048\\2168445501.py:6: FutureWarning: The frame.append method is deprecated and will be removed from pandas in a future version. Use pandas.concat instead.\n",
      "  df = df.append(scrape_page(topic[\"topic\"], topic[\"url\"]), ignore_index=True)\n",
      " 80%|███████▉  | 1159/1452 [24:53<06:06,  1.25s/it]"
     ]
    },
    {
     "name": "stdout",
     "output_type": "stream",
     "text": [
      "Scraping Small Bowel Obstruction...\n",
      "Found 8 sections for Small Bowel Obstruction\n"
     ]
    },
    {
     "name": "stderr",
     "output_type": "stream",
     "text": [
      "C:\\Users\\Raj\\AppData\\Local\\Temp\\ipykernel_29048\\2168445501.py:6: FutureWarning: The frame.append method is deprecated and will be removed from pandas in a future version. Use pandas.concat instead.\n",
      "  df = df.append(scrape_page(topic[\"topic\"], topic[\"url\"]), ignore_index=True)\n",
      " 80%|███████▉  | 1160/1452 [24:54<06:04,  1.25s/it]"
     ]
    },
    {
     "name": "stdout",
     "output_type": "stream",
     "text": [
      "Scraping Small Intestine Cancer...\n",
      "Found 6 sections for Small Intestine Cancer\n"
     ]
    },
    {
     "name": "stderr",
     "output_type": "stream",
     "text": [
      "C:\\Users\\Raj\\AppData\\Local\\Temp\\ipykernel_29048\\2168445501.py:6: FutureWarning: The frame.append method is deprecated and will be removed from pandas in a future version. Use pandas.concat instead.\n",
      "  df = df.append(scrape_page(topic[\"topic\"], topic[\"url\"]), ignore_index=True)\n",
      " 80%|███████▉  | 1161/1452 [24:55<06:03,  1.25s/it]"
     ]
    },
    {
     "name": "stdout",
     "output_type": "stream",
     "text": [
      "Scraping Small Lymphocytic Lymphoma...\n",
      "Found 14 sections for Small Lymphocytic Lymphoma\n"
     ]
    },
    {
     "name": "stderr",
     "output_type": "stream",
     "text": [
      "C:\\Users\\Raj\\AppData\\Local\\Temp\\ipykernel_29048\\2168445501.py:6: FutureWarning: The frame.append method is deprecated and will be removed from pandas in a future version. Use pandas.concat instead.\n",
      "  df = df.append(scrape_page(topic[\"topic\"], topic[\"url\"]), ignore_index=True)\n",
      " 80%|████████  | 1162/1452 [24:56<06:04,  1.26s/it]"
     ]
    },
    {
     "name": "stdout",
     "output_type": "stream",
     "text": [
      "Scraping Smallpox...\n",
      "Found 10 sections for Smallpox\n"
     ]
    },
    {
     "name": "stderr",
     "output_type": "stream",
     "text": [
      "C:\\Users\\Raj\\AppData\\Local\\Temp\\ipykernel_29048\\2168445501.py:6: FutureWarning: The frame.append method is deprecated and will be removed from pandas in a future version. Use pandas.concat instead.\n",
      "  df = df.append(scrape_page(topic[\"topic\"], topic[\"url\"]), ignore_index=True)\n",
      " 80%|████████  | 1163/1452 [24:59<07:22,  1.53s/it]"
     ]
    },
    {
     "name": "stdout",
     "output_type": "stream",
     "text": [
      "Scraping Snoring...\n",
      "Found 6 sections for Snoring\n"
     ]
    },
    {
     "name": "stderr",
     "output_type": "stream",
     "text": [
      "C:\\Users\\Raj\\AppData\\Local\\Temp\\ipykernel_29048\\2168445501.py:6: FutureWarning: The frame.append method is deprecated and will be removed from pandas in a future version. Use pandas.concat instead.\n",
      "  df = df.append(scrape_page(topic[\"topic\"], topic[\"url\"]), ignore_index=True)\n",
      " 80%|████████  | 1164/1452 [25:00<06:56,  1.45s/it]"
     ]
    },
    {
     "name": "stdout",
     "output_type": "stream",
     "text": [
      "Scraping Social Anxiety Disorder...\n",
      "Found 12 sections for Social Anxiety Disorder\n"
     ]
    },
    {
     "name": "stderr",
     "output_type": "stream",
     "text": [
      "C:\\Users\\Raj\\AppData\\Local\\Temp\\ipykernel_29048\\2168445501.py:6: FutureWarning: The frame.append method is deprecated and will be removed from pandas in a future version. Use pandas.concat instead.\n",
      "  df = df.append(scrape_page(topic[\"topic\"], topic[\"url\"]), ignore_index=True)\n",
      " 80%|████████  | 1165/1452 [25:01<06:37,  1.39s/it]"
     ]
    },
    {
     "name": "stdout",
     "output_type": "stream",
     "text": [
      "Scraping Soft Tissue Sarcoma...\n",
      "Found 6 sections for Soft Tissue Sarcoma\n"
     ]
    },
    {
     "name": "stderr",
     "output_type": "stream",
     "text": [
      "C:\\Users\\Raj\\AppData\\Local\\Temp\\ipykernel_29048\\2168445501.py:6: FutureWarning: The frame.append method is deprecated and will be removed from pandas in a future version. Use pandas.concat instead.\n",
      "  df = df.append(scrape_page(topic[\"topic\"], topic[\"url\"]), ignore_index=True)\n",
      " 80%|████████  | 1166/1452 [25:02<06:28,  1.36s/it]"
     ]
    },
    {
     "name": "stdout",
     "output_type": "stream",
     "text": [
      "Scraping Spasmodic Torticollis...\n",
      "Found 7 sections for Spasmodic Torticollis\n"
     ]
    },
    {
     "name": "stderr",
     "output_type": "stream",
     "text": [
      "C:\\Users\\Raj\\AppData\\Local\\Temp\\ipykernel_29048\\2168445501.py:6: FutureWarning: The frame.append method is deprecated and will be removed from pandas in a future version. Use pandas.concat instead.\n",
      "  df = df.append(scrape_page(topic[\"topic\"], topic[\"url\"]), ignore_index=True)\n",
      " 80%|████████  | 1167/1452 [25:04<06:16,  1.32s/it]"
     ]
    },
    {
     "name": "stdout",
     "output_type": "stream",
     "text": [
      "Scraping Spastic Colon...\n",
      "Found 8 sections for Spastic Colon\n"
     ]
    },
    {
     "name": "stderr",
     "output_type": "stream",
     "text": [
      "C:\\Users\\Raj\\AppData\\Local\\Temp\\ipykernel_29048\\2168445501.py:6: FutureWarning: The frame.append method is deprecated and will be removed from pandas in a future version. Use pandas.concat instead.\n",
      "  df = df.append(scrape_page(topic[\"topic\"], topic[\"url\"]), ignore_index=True)\n",
      " 80%|████████  | 1168/1452 [25:05<06:08,  1.30s/it]"
     ]
    },
    {
     "name": "stdout",
     "output_type": "stream",
     "text": [
      "Scraping Spastic Dysphonia...\n",
      "Found 13 sections for Spastic Dysphonia\n"
     ]
    },
    {
     "name": "stderr",
     "output_type": "stream",
     "text": [
      "C:\\Users\\Raj\\AppData\\Local\\Temp\\ipykernel_29048\\2168445501.py:6: FutureWarning: The frame.append method is deprecated and will be removed from pandas in a future version. Use pandas.concat instead.\n",
      "  df = df.append(scrape_page(topic[\"topic\"], topic[\"url\"]), ignore_index=True)\n",
      " 81%|████████  | 1169/1452 [25:06<06:10,  1.31s/it]"
     ]
    },
    {
     "name": "stdout",
     "output_type": "stream",
     "text": [
      "Scraping SPD Calcinosis...\n",
      "Found 7 sections for SPD Calcinosis\n"
     ]
    },
    {
     "name": "stderr",
     "output_type": "stream",
     "text": [
      "C:\\Users\\Raj\\AppData\\Local\\Temp\\ipykernel_29048\\2168445501.py:6: FutureWarning: The frame.append method is deprecated and will be removed from pandas in a future version. Use pandas.concat instead.\n",
      "  df = df.append(scrape_page(topic[\"topic\"], topic[\"url\"]), ignore_index=True)\n",
      " 81%|████████  | 1170/1452 [25:07<06:02,  1.29s/it]"
     ]
    },
    {
     "name": "stdout",
     "output_type": "stream",
     "text": [
      "Scraping Specialists, Medical Care...\n",
      "Found 7 sections for Specialists, Medical Care\n"
     ]
    },
    {
     "name": "stderr",
     "output_type": "stream",
     "text": [
      "C:\\Users\\Raj\\AppData\\Local\\Temp\\ipykernel_29048\\2168445501.py:6: FutureWarning: The frame.append method is deprecated and will be removed from pandas in a future version. Use pandas.concat instead.\n",
      "  df = df.append(scrape_page(topic[\"topic\"], topic[\"url\"]), ignore_index=True)\n",
      " 81%|████████  | 1171/1452 [25:09<05:58,  1.28s/it]C:\\Users\\Raj\\AppData\\Local\\Temp\\ipykernel_29048\\2168445501.py:6: FutureWarning: The frame.append method is deprecated and will be removed from pandas in a future version. Use pandas.concat instead.\n",
      "  df = df.append(scrape_page(topic[\"topic\"], topic[\"url\"]), ignore_index=True)\n"
     ]
    },
    {
     "name": "stdout",
     "output_type": "stream",
     "text": [
      "Scraping Speech and Language Development...\n",
      "Found 15 sections for Speech and Language Development\n"
     ]
    },
    {
     "name": "stderr",
     "output_type": "stream",
     "text": [
      " 81%|████████  | 1172/1452 [25:10<05:52,  1.26s/it]"
     ]
    },
    {
     "name": "stdout",
     "output_type": "stream",
     "text": [
      "Scraping Spermatocele (Epididymal Cyst)...\n",
      "Found 7 sections for Spermatocele (Epididymal Cyst)\n"
     ]
    },
    {
     "name": "stderr",
     "output_type": "stream",
     "text": [
      "C:\\Users\\Raj\\AppData\\Local\\Temp\\ipykernel_29048\\2168445501.py:6: FutureWarning: The frame.append method is deprecated and will be removed from pandas in a future version. Use pandas.concat instead.\n",
      "  df = df.append(scrape_page(topic[\"topic\"], topic[\"url\"]), ignore_index=True)\n",
      " 81%|████████  | 1173/1452 [25:11<05:50,  1.25s/it]"
     ]
    },
    {
     "name": "stdout",
     "output_type": "stream",
     "text": [
      "Scraping Spherocytic Anemia...\n",
      "Found 8 sections for Spherocytic Anemia\n"
     ]
    },
    {
     "name": "stderr",
     "output_type": "stream",
     "text": [
      "C:\\Users\\Raj\\AppData\\Local\\Temp\\ipykernel_29048\\2168445501.py:6: FutureWarning: The frame.append method is deprecated and will be removed from pandas in a future version. Use pandas.concat instead.\n",
      "  df = df.append(scrape_page(topic[\"topic\"], topic[\"url\"]), ignore_index=True)\n",
      " 81%|████████  | 1174/1452 [25:12<05:47,  1.25s/it]"
     ]
    },
    {
     "name": "stdout",
     "output_type": "stream",
     "text": [
      "Scraping Sphingolipidosis 1...\n",
      "Found 13 sections for Sphingolipidosis 1\n"
     ]
    },
    {
     "name": "stderr",
     "output_type": "stream",
     "text": [
      "C:\\Users\\Raj\\AppData\\Local\\Temp\\ipykernel_29048\\2168445501.py:6: FutureWarning: The frame.append method is deprecated and will be removed from pandas in a future version. Use pandas.concat instead.\n",
      "  df = df.append(scrape_page(topic[\"topic\"], topic[\"url\"]), ignore_index=True)\n",
      " 81%|████████  | 1175/1452 [25:14<05:44,  1.25s/it]"
     ]
    },
    {
     "name": "stdout",
     "output_type": "stream",
     "text": [
      "Scraping Sphingolipidosis, Krabbe's Type...\n",
      "Found 10 sections for Sphingolipidosis, Krabbe's Type\n"
     ]
    },
    {
     "name": "stderr",
     "output_type": "stream",
     "text": [
      "C:\\Users\\Raj\\AppData\\Local\\Temp\\ipykernel_29048\\2168445501.py:6: FutureWarning: The frame.append method is deprecated and will be removed from pandas in a future version. Use pandas.concat instead.\n",
      "  df = df.append(scrape_page(topic[\"topic\"], topic[\"url\"]), ignore_index=True)\n",
      " 81%|████████  | 1176/1452 [25:15<05:43,  1.25s/it]C:\\Users\\Raj\\AppData\\Local\\Temp\\ipykernel_29048\\2168445501.py:6: FutureWarning: The frame.append method is deprecated and will be removed from pandas in a future version. Use pandas.concat instead.\n",
      "  df = df.append(scrape_page(topic[\"topic\"], topic[\"url\"]), ignore_index=True)\n"
     ]
    },
    {
     "name": "stdout",
     "output_type": "stream",
     "text": [
      "Scraping Sphingomyelinase Deficiency...\n",
      "Found 10 sections for Sphingomyelinase Deficiency\n"
     ]
    },
    {
     "name": "stderr",
     "output_type": "stream",
     "text": [
      " 81%|████████  | 1177/1452 [25:16<05:37,  1.23s/it]"
     ]
    },
    {
     "name": "stdout",
     "output_type": "stream",
     "text": [
      "Scraping Spider Bite, Black Widow...\n",
      "Found 5 sections for Spider Bite, Black Widow\n"
     ]
    },
    {
     "name": "stderr",
     "output_type": "stream",
     "text": [
      "C:\\Users\\Raj\\AppData\\Local\\Temp\\ipykernel_29048\\2168445501.py:6: FutureWarning: The frame.append method is deprecated and will be removed from pandas in a future version. Use pandas.concat instead.\n",
      "  df = df.append(scrape_page(topic[\"topic\"], topic[\"url\"]), ignore_index=True)\n",
      " 81%|████████  | 1178/1452 [25:17<05:36,  1.23s/it]"
     ]
    },
    {
     "name": "stdout",
     "output_type": "stream",
     "text": [
      "Scraping Spider Bite, Brown Recluse...\n",
      "Found 7 sections for Spider Bite, Brown Recluse\n"
     ]
    },
    {
     "name": "stderr",
     "output_type": "stream",
     "text": [
      "C:\\Users\\Raj\\AppData\\Local\\Temp\\ipykernel_29048\\2168445501.py:6: FutureWarning: The frame.append method is deprecated and will be removed from pandas in a future version. Use pandas.concat instead.\n",
      "  df = df.append(scrape_page(topic[\"topic\"], topic[\"url\"]), ignore_index=True)\n",
      " 81%|████████  | 1179/1452 [25:19<05:35,  1.23s/it]"
     ]
    },
    {
     "name": "stdout",
     "output_type": "stream",
     "text": [
      "Scraping Spider Bites...\n",
      "Found 1 sections for Spider Bites\n"
     ]
    },
    {
     "name": "stderr",
     "output_type": "stream",
     "text": [
      "C:\\Users\\Raj\\AppData\\Local\\Temp\\ipykernel_29048\\2168445501.py:6: FutureWarning: The frame.append method is deprecated and will be removed from pandas in a future version. Use pandas.concat instead.\n",
      "  df = df.append(scrape_page(topic[\"topic\"], topic[\"url\"]), ignore_index=True)\n",
      " 81%|████████▏ | 1180/1452 [25:20<05:34,  1.23s/it]"
     ]
    },
    {
     "name": "stdout",
     "output_type": "stream",
     "text": [
      "Scraping Spider Veins...\n",
      "Found 12 sections for Spider Veins\n"
     ]
    },
    {
     "name": "stderr",
     "output_type": "stream",
     "text": [
      "C:\\Users\\Raj\\AppData\\Local\\Temp\\ipykernel_29048\\2168445501.py:6: FutureWarning: The frame.append method is deprecated and will be removed from pandas in a future version. Use pandas.concat instead.\n",
      "  df = df.append(scrape_page(topic[\"topic\"], topic[\"url\"]), ignore_index=True)\n",
      " 81%|████████▏ | 1181/1452 [25:21<05:34,  1.24s/it]"
     ]
    },
    {
     "name": "stdout",
     "output_type": "stream",
     "text": [
      "Scraping Spielmeyer-Vogt Disease...\n",
      "Found 8 sections for Spielmeyer-Vogt Disease\n"
     ]
    },
    {
     "name": "stderr",
     "output_type": "stream",
     "text": [
      "C:\\Users\\Raj\\AppData\\Local\\Temp\\ipykernel_29048\\2168445501.py:6: FutureWarning: The frame.append method is deprecated and will be removed from pandas in a future version. Use pandas.concat instead.\n",
      "  df = df.append(scrape_page(topic[\"topic\"], topic[\"url\"]), ignore_index=True)\n",
      " 81%|████████▏ | 1182/1452 [25:22<05:32,  1.23s/it]"
     ]
    },
    {
     "name": "stdout",
     "output_type": "stream",
     "text": [
      "Scraping Spielmeyer-Vogt-Batten Syndrome...\n",
      "Found 8 sections for Spielmeyer-Vogt-Batten Syndrome\n"
     ]
    },
    {
     "name": "stderr",
     "output_type": "stream",
     "text": [
      "C:\\Users\\Raj\\AppData\\Local\\Temp\\ipykernel_29048\\2168445501.py:6: FutureWarning: The frame.append method is deprecated and will be removed from pandas in a future version. Use pandas.concat instead.\n",
      "  df = df.append(scrape_page(topic[\"topic\"], topic[\"url\"]), ignore_index=True)\n",
      " 81%|████████▏ | 1183/1452 [25:24<05:33,  1.24s/it]"
     ]
    },
    {
     "name": "stdout",
     "output_type": "stream",
     "text": [
      "Scraping Spina Bifida...\n",
      "Found 11 sections for Spina Bifida\n"
     ]
    },
    {
     "name": "stderr",
     "output_type": "stream",
     "text": [
      "C:\\Users\\Raj\\AppData\\Local\\Temp\\ipykernel_29048\\2168445501.py:6: FutureWarning: The frame.append method is deprecated and will be removed from pandas in a future version. Use pandas.concat instead.\n",
      "  df = df.append(scrape_page(topic[\"topic\"], topic[\"url\"]), ignore_index=True)\n",
      " 82%|████████▏ | 1184/1452 [25:25<05:31,  1.24s/it]"
     ]
    },
    {
     "name": "stdout",
     "output_type": "stream",
     "text": [
      "Scraping Spinal Arachnoiditis...\n",
      "Found 5 sections for Spinal Arachnoiditis\n"
     ]
    },
    {
     "name": "stderr",
     "output_type": "stream",
     "text": [
      "C:\\Users\\Raj\\AppData\\Local\\Temp\\ipykernel_29048\\2168445501.py:6: FutureWarning: The frame.append method is deprecated and will be removed from pandas in a future version. Use pandas.concat instead.\n",
      "  df = df.append(scrape_page(topic[\"topic\"], topic[\"url\"]), ignore_index=True)\n",
      " 82%|████████▏ | 1185/1452 [25:26<05:30,  1.24s/it]C:\\Users\\Raj\\AppData\\Local\\Temp\\ipykernel_29048\\2168445501.py:6: FutureWarning: The frame.append method is deprecated and will be removed from pandas in a future version. Use pandas.concat instead.\n",
      "  df = df.append(scrape_page(topic[\"topic\"], topic[\"url\"]), ignore_index=True)\n"
     ]
    },
    {
     "name": "stdout",
     "output_type": "stream",
     "text": [
      "Scraping Spinal Chordoma...\n",
      "Found 7 sections for Spinal Chordoma\n"
     ]
    },
    {
     "name": "stderr",
     "output_type": "stream",
     "text": [
      " 82%|████████▏ | 1186/1452 [25:27<05:25,  1.22s/it]"
     ]
    },
    {
     "name": "stdout",
     "output_type": "stream",
     "text": [
      "Scraping Spinal Cord Injury...\n",
      "Found 5 sections for Spinal Cord Injury\n"
     ]
    },
    {
     "name": "stderr",
     "output_type": "stream",
     "text": [
      "C:\\Users\\Raj\\AppData\\Local\\Temp\\ipykernel_29048\\2168445501.py:6: FutureWarning: The frame.append method is deprecated and will be removed from pandas in a future version. Use pandas.concat instead.\n",
      "  df = df.append(scrape_page(topic[\"topic\"], topic[\"url\"]), ignore_index=True)\n",
      " 82%|████████▏ | 1187/1452 [25:29<05:36,  1.27s/it]"
     ]
    },
    {
     "name": "stdout",
     "output_type": "stream",
     "text": [
      "Scraping Spinal Meningitis...\n",
      "Found 13 sections for Spinal Meningitis\n"
     ]
    },
    {
     "name": "stderr",
     "output_type": "stream",
     "text": [
      "C:\\Users\\Raj\\AppData\\Local\\Temp\\ipykernel_29048\\2168445501.py:6: FutureWarning: The frame.append method is deprecated and will be removed from pandas in a future version. Use pandas.concat instead.\n",
      "  df = df.append(scrape_page(topic[\"topic\"], topic[\"url\"]), ignore_index=True)\n",
      " 82%|████████▏ | 1188/1452 [25:30<05:32,  1.26s/it]"
     ]
    },
    {
     "name": "stdout",
     "output_type": "stream",
     "text": [
      "Scraping Spinal Muscular Atrophy (SMA)...\n",
      "Found 13 sections for Spinal Muscular Atrophy (SMA)\n"
     ]
    },
    {
     "name": "stderr",
     "output_type": "stream",
     "text": [
      "C:\\Users\\Raj\\AppData\\Local\\Temp\\ipykernel_29048\\2168445501.py:6: FutureWarning: The frame.append method is deprecated and will be removed from pandas in a future version. Use pandas.concat instead.\n",
      "  df = df.append(scrape_page(topic[\"topic\"], topic[\"url\"]), ignore_index=True)\n",
      " 82%|████████▏ | 1189/1452 [25:31<05:30,  1.26s/it]"
     ]
    },
    {
     "name": "stdout",
     "output_type": "stream",
     "text": [
      "Scraping Spinal Stenosis...\n",
      "Found 9 sections for Spinal Stenosis\n"
     ]
    },
    {
     "name": "stderr",
     "output_type": "stream",
     "text": [
      "C:\\Users\\Raj\\AppData\\Local\\Temp\\ipykernel_29048\\2168445501.py:6: FutureWarning: The frame.append method is deprecated and will be removed from pandas in a future version. Use pandas.concat instead.\n",
      "  df = df.append(scrape_page(topic[\"topic\"], topic[\"url\"]), ignore_index=True)\n",
      " 82%|████████▏ | 1190/1452 [25:33<06:08,  1.41s/it]"
     ]
    },
    {
     "name": "stdout",
     "output_type": "stream",
     "text": [
      "Scraping Spinocerebellar Ataxia...\n",
      "Found 10 sections for Spinocerebellar Ataxia\n"
     ]
    },
    {
     "name": "stderr",
     "output_type": "stream",
     "text": [
      "C:\\Users\\Raj\\AppData\\Local\\Temp\\ipykernel_29048\\2168445501.py:6: FutureWarning: The frame.append method is deprecated and will be removed from pandas in a future version. Use pandas.concat instead.\n",
      "  df = df.append(scrape_page(topic[\"topic\"], topic[\"url\"]), ignore_index=True)\n",
      " 82%|████████▏ | 1191/1452 [25:34<05:56,  1.37s/it]C:\\Users\\Raj\\AppData\\Local\\Temp\\ipykernel_29048\\2168445501.py:6: FutureWarning: The frame.append method is deprecated and will be removed from pandas in a future version. Use pandas.concat instead.\n",
      "  df = df.append(scrape_page(topic[\"topic\"], topic[\"url\"]), ignore_index=True)\n"
     ]
    },
    {
     "name": "stdout",
     "output_type": "stream",
     "text": [
      "Scraping Spiritual Healing...\n",
      "Found 10 sections for Spiritual Healing\n"
     ]
    },
    {
     "name": "stderr",
     "output_type": "stream",
     "text": [
      " 82%|████████▏ | 1192/1452 [25:35<05:43,  1.32s/it]"
     ]
    },
    {
     "name": "stdout",
     "output_type": "stream",
     "text": [
      "Scraping Splenomegalic Polycythemia...\n",
      "Found 11 sections for Splenomegalic Polycythemia\n"
     ]
    },
    {
     "name": "stderr",
     "output_type": "stream",
     "text": [
      "C:\\Users\\Raj\\AppData\\Local\\Temp\\ipykernel_29048\\2168445501.py:6: FutureWarning: The frame.append method is deprecated and will be removed from pandas in a future version. Use pandas.concat instead.\n",
      "  df = df.append(scrape_page(topic[\"topic\"], topic[\"url\"]), ignore_index=True)\n",
      " 82%|████████▏ | 1193/1452 [25:37<05:36,  1.30s/it]"
     ]
    },
    {
     "name": "stdout",
     "output_type": "stream",
     "text": [
      "Scraping Splenomegaly with Rheumatoid Arthritis...\n",
      "Found 6 sections for Splenomegaly with Rheumatoid Arthritis\n"
     ]
    },
    {
     "name": "stderr",
     "output_type": "stream",
     "text": [
      "C:\\Users\\Raj\\AppData\\Local\\Temp\\ipykernel_29048\\2168445501.py:6: FutureWarning: The frame.append method is deprecated and will be removed from pandas in a future version. Use pandas.concat instead.\n",
      "  df = df.append(scrape_page(topic[\"topic\"], topic[\"url\"]), ignore_index=True)\n",
      " 82%|████████▏ | 1194/1452 [25:38<05:30,  1.28s/it]"
     ]
    },
    {
     "name": "stdout",
     "output_type": "stream",
     "text": [
      "Scraping Splint Care Tips...\n",
      "Found 7 sections for Splint Care Tips\n"
     ]
    },
    {
     "name": "stderr",
     "output_type": "stream",
     "text": [
      "C:\\Users\\Raj\\AppData\\Local\\Temp\\ipykernel_29048\\2168445501.py:6: FutureWarning: The frame.append method is deprecated and will be removed from pandas in a future version. Use pandas.concat instead.\n",
      "  df = df.append(scrape_page(topic[\"topic\"], topic[\"url\"]), ignore_index=True)\n",
      " 82%|████████▏ | 1195/1452 [25:39<05:27,  1.27s/it]"
     ]
    },
    {
     "name": "stdout",
     "output_type": "stream",
     "text": [
      "Scraping Splinter Removal...\n",
      "Found 5 sections for Splinter Removal\n"
     ]
    },
    {
     "name": "stderr",
     "output_type": "stream",
     "text": [
      "C:\\Users\\Raj\\AppData\\Local\\Temp\\ipykernel_29048\\2168445501.py:6: FutureWarning: The frame.append method is deprecated and will be removed from pandas in a future version. Use pandas.concat instead.\n",
      "  df = df.append(scrape_page(topic[\"topic\"], topic[\"url\"]), ignore_index=True)\n",
      " 82%|████████▏ | 1196/1452 [25:40<05:24,  1.27s/it]"
     ]
    },
    {
     "name": "stdout",
     "output_type": "stream",
     "text": [
      "Scraping Stage 4 Lung Cancer (Alk)...\n",
      "Found 19 sections for Stage 4 Lung Cancer (Alk)\n"
     ]
    },
    {
     "name": "stderr",
     "output_type": "stream",
     "text": [
      "C:\\Users\\Raj\\AppData\\Local\\Temp\\ipykernel_29048\\2168445501.py:6: FutureWarning: The frame.append method is deprecated and will be removed from pandas in a future version. Use pandas.concat instead.\n",
      "  df = df.append(scrape_page(topic[\"topic\"], topic[\"url\"]), ignore_index=True)\n",
      " 82%|████████▏ | 1197/1452 [25:42<05:25,  1.28s/it]"
     ]
    },
    {
     "name": "stdout",
     "output_type": "stream",
     "text": [
      "Scraping Stevens Johnson Syndrome...\n",
      "Found 7 sections for Stevens Johnson Syndrome\n"
     ]
    },
    {
     "name": "stderr",
     "output_type": "stream",
     "text": [
      "C:\\Users\\Raj\\AppData\\Local\\Temp\\ipykernel_29048\\2168445501.py:6: FutureWarning: The frame.append method is deprecated and will be removed from pandas in a future version. Use pandas.concat instead.\n",
      "  df = df.append(scrape_page(topic[\"topic\"], topic[\"url\"]), ignore_index=True)\n",
      " 83%|████████▎ | 1198/1452 [25:43<05:21,  1.27s/it]"
     ]
    },
    {
     "name": "stdout",
     "output_type": "stream",
     "text": [
      "Scraping Subcortical Dementia...\n",
      "Found 8 sections for Subcortical Dementia\n"
     ]
    },
    {
     "name": "stderr",
     "output_type": "stream",
     "text": [
      "C:\\Users\\Raj\\AppData\\Local\\Temp\\ipykernel_29048\\2168445501.py:6: FutureWarning: The frame.append method is deprecated and will be removed from pandas in a future version. Use pandas.concat instead.\n",
      "  df = df.append(scrape_page(topic[\"topic\"], topic[\"url\"]), ignore_index=True)\n",
      " 83%|████████▎ | 1199/1452 [25:44<05:19,  1.26s/it]C:\\Users\\Raj\\AppData\\Local\\Temp\\ipykernel_29048\\2168445501.py:6: FutureWarning: The frame.append method is deprecated and will be removed from pandas in a future version. Use pandas.concat instead.\n",
      "  df = df.append(scrape_page(topic[\"topic\"], topic[\"url\"]), ignore_index=True)\n"
     ]
    },
    {
     "name": "stdout",
     "output_type": "stream",
     "text": [
      "Scraping Subcortical Ischemic Vascular Disease...\n",
      "Found 8 sections for Subcortical Ischemic Vascular Disease\n"
     ]
    },
    {
     "name": "stderr",
     "output_type": "stream",
     "text": [
      " 83%|████████▎ | 1200/1452 [25:45<05:12,  1.24s/it]"
     ]
    },
    {
     "name": "stdout",
     "output_type": "stream",
     "text": [
      "Scraping Subendocardial Sclerosis...\n",
      "Found 26 sections for Subendocardial Sclerosis\n"
     ]
    },
    {
     "name": "stderr",
     "output_type": "stream",
     "text": [
      "C:\\Users\\Raj\\AppData\\Local\\Temp\\ipykernel_29048\\2168445501.py:6: FutureWarning: The frame.append method is deprecated and will be removed from pandas in a future version. Use pandas.concat instead.\n",
      "  df = df.append(scrape_page(topic[\"topic\"], topic[\"url\"]), ignore_index=True)\n",
      " 83%|████████▎ | 1201/1452 [25:47<05:48,  1.39s/it]"
     ]
    },
    {
     "name": "stdout",
     "output_type": "stream",
     "text": [
      "Scraping Substance Abuse, Teen...\n",
      "Found 10 sections for Substance Abuse, Teen\n"
     ]
    },
    {
     "name": "stderr",
     "output_type": "stream",
     "text": [
      "C:\\Users\\Raj\\AppData\\Local\\Temp\\ipykernel_29048\\2168445501.py:6: FutureWarning: The frame.append method is deprecated and will be removed from pandas in a future version. Use pandas.concat instead.\n",
      "  df = df.append(scrape_page(topic[\"topic\"], topic[\"url\"]), ignore_index=True)\n",
      " 83%|████████▎ | 1202/1452 [25:48<05:40,  1.36s/it]"
     ]
    },
    {
     "name": "stdout",
     "output_type": "stream",
     "text": [
      "Scraping Sucrose Intolerance...\n"
     ]
    },
    {
     "name": "stderr",
     "output_type": "stream",
     "text": [
      "C:\\Users\\Raj\\AppData\\Local\\Temp\\ipykernel_29048\\2168445501.py:6: FutureWarning: The frame.append method is deprecated and will be removed from pandas in a future version. Use pandas.concat instead.\n",
      "  df = df.append(scrape_page(topic[\"topic\"], topic[\"url\"]), ignore_index=True)\n",
      " 83%|████████▎ | 1203/1452 [25:50<05:52,  1.42s/it]"
     ]
    },
    {
     "name": "stdout",
     "output_type": "stream",
     "text": [
      "Scraping Sudanophilic Leukodystrophy...\n",
      "Found 7 sections for Sudanophilic Leukodystrophy\n"
     ]
    },
    {
     "name": "stderr",
     "output_type": "stream",
     "text": [
      "C:\\Users\\Raj\\AppData\\Local\\Temp\\ipykernel_29048\\2168445501.py:6: FutureWarning: The frame.append method is deprecated and will be removed from pandas in a future version. Use pandas.concat instead.\n",
      "  df = df.append(scrape_page(topic[\"topic\"], topic[\"url\"]), ignore_index=True)\n",
      " 83%|████████▎ | 1204/1452 [25:51<05:38,  1.36s/it]"
     ]
    },
    {
     "name": "stdout",
     "output_type": "stream",
     "text": [
      "Scraping Sudden Infant Death Syndrome (SIDS)...\n",
      "Found 6 sections for Sudden Infant Death Syndrome (SIDS)\n"
     ]
    },
    {
     "name": "stderr",
     "output_type": "stream",
     "text": [
      "C:\\Users\\Raj\\AppData\\Local\\Temp\\ipykernel_29048\\2168445501.py:6: FutureWarning: The frame.append method is deprecated and will be removed from pandas in a future version. Use pandas.concat instead.\n",
      "  df = df.append(scrape_page(topic[\"topic\"], topic[\"url\"]), ignore_index=True)\n",
      " 83%|████████▎ | 1205/1452 [25:52<05:36,  1.36s/it]"
     ]
    },
    {
     "name": "stdout",
     "output_type": "stream",
     "text": [
      "Scraping Summer Encephalitis...\n",
      "Found 7 sections for Summer Encephalitis\n"
     ]
    },
    {
     "name": "stderr",
     "output_type": "stream",
     "text": [
      "C:\\Users\\Raj\\AppData\\Local\\Temp\\ipykernel_29048\\2168445501.py:6: FutureWarning: The frame.append method is deprecated and will be removed from pandas in a future version. Use pandas.concat instead.\n",
      "  df = df.append(scrape_page(topic[\"topic\"], topic[\"url\"]), ignore_index=True)\n",
      " 83%|████████▎ | 1206/1452 [25:54<05:25,  1.32s/it]"
     ]
    },
    {
     "name": "stdout",
     "output_type": "stream",
     "text": [
      "Scraping Summer Skin Hazards...\n"
     ]
    },
    {
     "name": "stderr",
     "output_type": "stream",
     "text": [
      "C:\\Users\\Raj\\AppData\\Local\\Temp\\ipykernel_29048\\2168445501.py:6: FutureWarning: The frame.append method is deprecated and will be removed from pandas in a future version. Use pandas.concat instead.\n",
      "  df = df.append(scrape_page(topic[\"topic\"], topic[\"url\"]), ignore_index=True)\n",
      " 83%|████████▎ | 1207/1452 [25:55<05:21,  1.31s/it]"
     ]
    },
    {
     "name": "stdout",
     "output_type": "stream",
     "text": [
      "Scraping Sunburn...\n",
      "Found 8 sections for Sunburn\n"
     ]
    },
    {
     "name": "stderr",
     "output_type": "stream",
     "text": [
      "C:\\Users\\Raj\\AppData\\Local\\Temp\\ipykernel_29048\\2168445501.py:6: FutureWarning: The frame.append method is deprecated and will be removed from pandas in a future version. Use pandas.concat instead.\n",
      "  df = df.append(scrape_page(topic[\"topic\"], topic[\"url\"]), ignore_index=True)\n",
      " 83%|████████▎ | 1208/1452 [25:57<05:51,  1.44s/it]"
     ]
    },
    {
     "name": "stdout",
     "output_type": "stream",
     "text": [
      "Scraping Suppurative Arthritis...\n",
      "Found 8 sections for Suppurative Arthritis\n"
     ]
    },
    {
     "name": "stderr",
     "output_type": "stream",
     "text": [
      "C:\\Users\\Raj\\AppData\\Local\\Temp\\ipykernel_29048\\2168445501.py:6: FutureWarning: The frame.append method is deprecated and will be removed from pandas in a future version. Use pandas.concat instead.\n",
      "  df = df.append(scrape_page(topic[\"topic\"], topic[\"url\"]), ignore_index=True)\n",
      " 83%|████████▎ | 1209/1452 [25:58<05:35,  1.38s/it]"
     ]
    },
    {
     "name": "stdout",
     "output_type": "stream",
     "text": [
      "Scraping Supraventricular Tachycardia...\n",
      "Found 12 sections for Supraventricular Tachycardia\n"
     ]
    },
    {
     "name": "stderr",
     "output_type": "stream",
     "text": [
      "C:\\Users\\Raj\\AppData\\Local\\Temp\\ipykernel_29048\\2168445501.py:6: FutureWarning: The frame.append method is deprecated and will be removed from pandas in a future version. Use pandas.concat instead.\n",
      "  df = df.append(scrape_page(topic[\"topic\"], topic[\"url\"]), ignore_index=True)\n",
      " 83%|████████▎ | 1210/1452 [25:59<05:25,  1.34s/it]"
     ]
    },
    {
     "name": "stdout",
     "output_type": "stream",
     "text": [
      "Scraping Surgery: What to Expect...\n",
      "Found 8 sections for Surgery: What to Expect\n"
     ]
    },
    {
     "name": "stderr",
     "output_type": "stream",
     "text": [
      "C:\\Users\\Raj\\AppData\\Local\\Temp\\ipykernel_29048\\2168445501.py:6: FutureWarning: The frame.append method is deprecated and will be removed from pandas in a future version. Use pandas.concat instead.\n",
      "  df = df.append(scrape_page(topic[\"topic\"], topic[\"url\"]), ignore_index=True)\n",
      " 83%|████████▎ | 1211/1452 [26:00<05:17,  1.32s/it]"
     ]
    },
    {
     "name": "stdout",
     "output_type": "stream",
     "text": [
      "Scraping Sweet Syndrome...\n"
     ]
    },
    {
     "name": "stderr",
     "output_type": "stream",
     "text": [
      "C:\\Users\\Raj\\AppData\\Local\\Temp\\ipykernel_29048\\2168445501.py:6: FutureWarning: The frame.append method is deprecated and will be removed from pandas in a future version. Use pandas.concat instead.\n",
      "  df = df.append(scrape_page(topic[\"topic\"], topic[\"url\"]), ignore_index=True)\n",
      " 83%|████████▎ | 1212/1452 [26:02<05:17,  1.32s/it]"
     ]
    },
    {
     "name": "stdout",
     "output_type": "stream",
     "text": [
      "Scraping Swollen Lymph Nodes...\n",
      "Found 6 sections for Swollen Lymph Nodes\n"
     ]
    },
    {
     "name": "stderr",
     "output_type": "stream",
     "text": [
      "C:\\Users\\Raj\\AppData\\Local\\Temp\\ipykernel_29048\\2168445501.py:6: FutureWarning: The frame.append method is deprecated and will be removed from pandas in a future version. Use pandas.concat instead.\n",
      "  df = df.append(scrape_page(topic[\"topic\"], topic[\"url\"]), ignore_index=True)\n",
      " 84%|████████▎ | 1213/1452 [26:03<05:10,  1.30s/it]"
     ]
    },
    {
     "name": "stdout",
     "output_type": "stream",
     "text": [
      "Scraping Symmastia...\n",
      "Found 4 sections for Symmastia\n"
     ]
    },
    {
     "name": "stderr",
     "output_type": "stream",
     "text": [
      "C:\\Users\\Raj\\AppData\\Local\\Temp\\ipykernel_29048\\2168445501.py:6: FutureWarning: The frame.append method is deprecated and will be removed from pandas in a future version. Use pandas.concat instead.\n",
      "  df = df.append(scrape_page(topic[\"topic\"], topic[\"url\"]), ignore_index=True)\n",
      " 84%|████████▎ | 1214/1452 [26:04<05:05,  1.28s/it]C:\\Users\\Raj\\AppData\\Local\\Temp\\ipykernel_29048\\2168445501.py:6: FutureWarning: The frame.append method is deprecated and will be removed from pandas in a future version. Use pandas.concat instead.\n",
      "  df = df.append(scrape_page(topic[\"topic\"], topic[\"url\"]), ignore_index=True)\n"
     ]
    },
    {
     "name": "stdout",
     "output_type": "stream",
     "text": [
      "Scraping Symptomatic Porphyria...\n",
      "Found 13 sections for Symptomatic Porphyria\n"
     ]
    },
    {
     "name": "stderr",
     "output_type": "stream",
     "text": [
      " 84%|████████▎ | 1215/1452 [26:05<04:58,  1.26s/it]"
     ]
    },
    {
     "name": "stdout",
     "output_type": "stream",
     "text": [
      "Scraping Syndactylic Oxycephaly...\n",
      "Found 10 sections for Syndactylic Oxycephaly\n"
     ]
    },
    {
     "name": "stderr",
     "output_type": "stream",
     "text": [
      "C:\\Users\\Raj\\AppData\\Local\\Temp\\ipykernel_29048\\2168445501.py:6: FutureWarning: The frame.append method is deprecated and will be removed from pandas in a future version. Use pandas.concat instead.\n",
      "  df = df.append(scrape_page(topic[\"topic\"], topic[\"url\"]), ignore_index=True)\n",
      " 84%|████████▎ | 1216/1452 [26:07<04:56,  1.26s/it]"
     ]
    },
    {
     "name": "stdout",
     "output_type": "stream",
     "text": [
      "Scraping Synergistic Necrotizing Fasciitis...\n",
      "Found 6 sections for Synergistic Necrotizing Fasciitis\n"
     ]
    },
    {
     "name": "stderr",
     "output_type": "stream",
     "text": [
      "C:\\Users\\Raj\\AppData\\Local\\Temp\\ipykernel_29048\\2168445501.py:6: FutureWarning: The frame.append method is deprecated and will be removed from pandas in a future version. Use pandas.concat instead.\n",
      "  df = df.append(scrape_page(topic[\"topic\"], topic[\"url\"]), ignore_index=True)\n",
      " 84%|████████▍ | 1217/1452 [26:08<04:53,  1.25s/it]"
     ]
    },
    {
     "name": "stdout",
     "output_type": "stream",
     "text": [
      "Scraping Syphilis...\n"
     ]
    },
    {
     "name": "stderr",
     "output_type": "stream",
     "text": [
      "C:\\Users\\Raj\\AppData\\Local\\Temp\\ipykernel_29048\\2168445501.py:6: FutureWarning: The frame.append method is deprecated and will be removed from pandas in a future version. Use pandas.concat instead.\n",
      "  df = df.append(scrape_page(topic[\"topic\"], topic[\"url\"]), ignore_index=True)\n",
      " 84%|████████▍ | 1218/1452 [26:09<04:57,  1.27s/it]"
     ]
    },
    {
     "name": "stdout",
     "output_type": "stream",
     "text": [
      "Scraping Syphilis, Congenital...\n"
     ]
    },
    {
     "name": "stderr",
     "output_type": "stream",
     "text": [
      "C:\\Users\\Raj\\AppData\\Local\\Temp\\ipykernel_29048\\2168445501.py:6: FutureWarning: The frame.append method is deprecated and will be removed from pandas in a future version. Use pandas.concat instead.\n",
      "  df = df.append(scrape_page(topic[\"topic\"], topic[\"url\"]), ignore_index=True)\n",
      " 84%|████████▍ | 1219/1452 [26:11<05:00,  1.29s/it]"
     ]
    },
    {
     "name": "stdout",
     "output_type": "stream",
     "text": [
      "Scraping Syringomyelia...\n",
      "Found 7 sections for Syringomyelia\n"
     ]
    },
    {
     "name": "stderr",
     "output_type": "stream",
     "text": [
      "C:\\Users\\Raj\\AppData\\Local\\Temp\\ipykernel_29048\\2168445501.py:6: FutureWarning: The frame.append method is deprecated and will be removed from pandas in a future version. Use pandas.concat instead.\n",
      "  df = df.append(scrape_page(topic[\"topic\"], topic[\"url\"]), ignore_index=True)\n",
      " 84%|████████▍ | 1220/1452 [26:12<04:58,  1.29s/it]"
     ]
    },
    {
     "name": "stdout",
     "output_type": "stream",
     "text": [
      "Scraping Systemic Aleukemic Reticuloendotheliosis...\n",
      "Found 6 sections for Systemic Aleukemic Reticuloendotheliosis\n"
     ]
    },
    {
     "name": "stderr",
     "output_type": "stream",
     "text": [
      "C:\\Users\\Raj\\AppData\\Local\\Temp\\ipykernel_29048\\2168445501.py:6: FutureWarning: The frame.append method is deprecated and will be removed from pandas in a future version. Use pandas.concat instead.\n",
      "  df = df.append(scrape_page(topic[\"topic\"], topic[\"url\"]), ignore_index=True)\n",
      " 84%|████████▍ | 1221/1452 [26:13<04:54,  1.27s/it]"
     ]
    },
    {
     "name": "stdout",
     "output_type": "stream",
     "text": [
      "Scraping Systemic Mast Cell Disease...\n",
      "Found 8 sections for Systemic Mast Cell Disease\n"
     ]
    },
    {
     "name": "stderr",
     "output_type": "stream",
     "text": [
      "C:\\Users\\Raj\\AppData\\Local\\Temp\\ipykernel_29048\\2168445501.py:6: FutureWarning: The frame.append method is deprecated and will be removed from pandas in a future version. Use pandas.concat instead.\n",
      "  df = df.append(scrape_page(topic[\"topic\"], topic[\"url\"]), ignore_index=True)\n",
      " 84%|████████▍ | 1222/1452 [26:14<04:50,  1.26s/it]C:\\Users\\Raj\\AppData\\Local\\Temp\\ipykernel_29048\\2168445501.py:6: FutureWarning: The frame.append method is deprecated and will be removed from pandas in a future version. Use pandas.concat instead.\n",
      "  df = df.append(scrape_page(topic[\"topic\"], topic[\"url\"]), ignore_index=True)\n"
     ]
    },
    {
     "name": "stdout",
     "output_type": "stream",
     "text": [
      "Scraping Systemic Mastocytosis...\n",
      "Found 8 sections for Systemic Mastocytosis\n"
     ]
    },
    {
     "name": "stderr",
     "output_type": "stream",
     "text": [
      " 84%|████████▍ | 1223/1452 [26:16<04:45,  1.25s/it]C:\\Users\\Raj\\AppData\\Local\\Temp\\ipykernel_29048\\2168445501.py:6: FutureWarning: The frame.append method is deprecated and will be removed from pandas in a future version. Use pandas.concat instead.\n",
      "  df = df.append(scrape_page(topic[\"topic\"], topic[\"url\"]), ignore_index=True)\n"
     ]
    },
    {
     "name": "stdout",
     "output_type": "stream",
     "text": [
      "Scraping Tachycardia, Supraventricular...\n",
      "Found 12 sections for Tachycardia, Supraventricular\n"
     ]
    },
    {
     "name": "stderr",
     "output_type": "stream",
     "text": [
      " 84%|████████▍ | 1224/1452 [26:17<04:40,  1.23s/it]"
     ]
    },
    {
     "name": "stdout",
     "output_type": "stream",
     "text": [
      "Scraping Tai Chi and Qi Gong...\n",
      "Found 6 sections for Tai Chi and Qi Gong\n"
     ]
    },
    {
     "name": "stderr",
     "output_type": "stream",
     "text": [
      "C:\\Users\\Raj\\AppData\\Local\\Temp\\ipykernel_29048\\2168445501.py:6: FutureWarning: The frame.append method is deprecated and will be removed from pandas in a future version. Use pandas.concat instead.\n",
      "  df = df.append(scrape_page(topic[\"topic\"], topic[\"url\"]), ignore_index=True)\n",
      " 84%|████████▍ | 1225/1452 [26:18<04:43,  1.25s/it]"
     ]
    },
    {
     "name": "stdout",
     "output_type": "stream",
     "text": [
      "Scraping Takayasu Disease...\n",
      "Found 12 sections for Takayasu Disease\n"
     ]
    },
    {
     "name": "stderr",
     "output_type": "stream",
     "text": [
      "C:\\Users\\Raj\\AppData\\Local\\Temp\\ipykernel_29048\\2168445501.py:6: FutureWarning: The frame.append method is deprecated and will be removed from pandas in a future version. Use pandas.concat instead.\n",
      "  df = df.append(scrape_page(topic[\"topic\"], topic[\"url\"]), ignore_index=True)\n",
      " 84%|████████▍ | 1226/1452 [26:19<04:43,  1.26s/it]"
     ]
    },
    {
     "name": "stdout",
     "output_type": "stream",
     "text": [
      "Scraping Talking With Your Teenager About Sex...\n",
      "Found 6 sections for Talking With Your Teenager About Sex\n"
     ]
    },
    {
     "name": "stderr",
     "output_type": "stream",
     "text": [
      "C:\\Users\\Raj\\AppData\\Local\\Temp\\ipykernel_29048\\2168445501.py:6: FutureWarning: The frame.append method is deprecated and will be removed from pandas in a future version. Use pandas.concat instead.\n",
      "  df = df.append(scrape_page(topic[\"topic\"], topic[\"url\"]), ignore_index=True)\n",
      " 85%|████████▍ | 1227/1452 [26:21<04:48,  1.28s/it]"
     ]
    },
    {
     "name": "stdout",
     "output_type": "stream",
     "text": [
      "Scraping Tardive Dyskinesia...\n"
     ]
    },
    {
     "name": "stderr",
     "output_type": "stream",
     "text": [
      "C:\\Users\\Raj\\AppData\\Local\\Temp\\ipykernel_29048\\2168445501.py:6: FutureWarning: The frame.append method is deprecated and will be removed from pandas in a future version. Use pandas.concat instead.\n",
      "  df = df.append(scrape_page(topic[\"topic\"], topic[\"url\"]), ignore_index=True)\n",
      " 85%|████████▍ | 1228/1452 [26:22<04:47,  1.28s/it]"
     ]
    },
    {
     "name": "stdout",
     "output_type": "stream",
     "text": [
      "Scraping Tardive Dystonia...\n"
     ]
    },
    {
     "name": "stderr",
     "output_type": "stream",
     "text": [
      "C:\\Users\\Raj\\AppData\\Local\\Temp\\ipykernel_29048\\2168445501.py:6: FutureWarning: The frame.append method is deprecated and will be removed from pandas in a future version. Use pandas.concat instead.\n",
      "  df = df.append(scrape_page(topic[\"topic\"], topic[\"url\"]), ignore_index=True)\n",
      " 85%|████████▍ | 1229/1452 [26:23<04:46,  1.28s/it]"
     ]
    },
    {
     "name": "stdout",
     "output_type": "stream",
     "text": [
      "Scraping Tardive Muscular Dystrophy...\n",
      "Found 13 sections for Tardive Muscular Dystrophy\n"
     ]
    },
    {
     "name": "stderr",
     "output_type": "stream",
     "text": [
      "C:\\Users\\Raj\\AppData\\Local\\Temp\\ipykernel_29048\\2168445501.py:6: FutureWarning: The frame.append method is deprecated and will be removed from pandas in a future version. Use pandas.concat instead.\n",
      "  df = df.append(scrape_page(topic[\"topic\"], topic[\"url\"]), ignore_index=True)\n",
      " 85%|████████▍ | 1230/1452 [26:25<04:41,  1.27s/it]"
     ]
    },
    {
     "name": "stdout",
     "output_type": "stream",
     "text": [
      "Scraping Tardive Oral Dyskinesia...\n"
     ]
    },
    {
     "name": "stderr",
     "output_type": "stream",
     "text": [
      "C:\\Users\\Raj\\AppData\\Local\\Temp\\ipykernel_29048\\2168445501.py:6: FutureWarning: The frame.append method is deprecated and will be removed from pandas in a future version. Use pandas.concat instead.\n",
      "  df = df.append(scrape_page(topic[\"topic\"], topic[\"url\"]), ignore_index=True)\n",
      " 85%|████████▍ | 1231/1452 [26:26<04:41,  1.28s/it]"
     ]
    },
    {
     "name": "stdout",
     "output_type": "stream",
     "text": [
      "Scraping Tarsal Cyst...\n",
      "Found 8 sections for Tarsal Cyst\n"
     ]
    },
    {
     "name": "stderr",
     "output_type": "stream",
     "text": [
      "C:\\Users\\Raj\\AppData\\Local\\Temp\\ipykernel_29048\\2168445501.py:6: FutureWarning: The frame.append method is deprecated and will be removed from pandas in a future version. Use pandas.concat instead.\n",
      "  df = df.append(scrape_page(topic[\"topic\"], topic[\"url\"]), ignore_index=True)\n",
      " 85%|████████▍ | 1232/1452 [26:27<04:37,  1.26s/it]"
     ]
    },
    {
     "name": "stdout",
     "output_type": "stream",
     "text": [
      "Scraping Tay-Sachs Disease...\n",
      "Found 10 sections for Tay-Sachs Disease\n"
     ]
    },
    {
     "name": "stderr",
     "output_type": "stream",
     "text": [
      "C:\\Users\\Raj\\AppData\\Local\\Temp\\ipykernel_29048\\2168445501.py:6: FutureWarning: The frame.append method is deprecated and will be removed from pandas in a future version. Use pandas.concat instead.\n",
      "  df = df.append(scrape_page(topic[\"topic\"], topic[\"url\"]), ignore_index=True)\n",
      " 85%|████████▍ | 1233/1452 [26:28<04:36,  1.26s/it]"
     ]
    },
    {
     "name": "stdout",
     "output_type": "stream",
     "text": [
      "Scraping TB (Tuberculosis)...\n",
      "Found 14 sections for TB (Tuberculosis)\n"
     ]
    },
    {
     "name": "stderr",
     "output_type": "stream",
     "text": [
      "C:\\Users\\Raj\\AppData\\Local\\Temp\\ipykernel_29048\\2168445501.py:6: FutureWarning: The frame.append method is deprecated and will be removed from pandas in a future version. Use pandas.concat instead.\n",
      "  df = df.append(scrape_page(topic[\"topic\"], topic[\"url\"]), ignore_index=True)\n",
      " 85%|████████▍ | 1234/1452 [26:30<04:32,  1.25s/it]C:\\Users\\Raj\\AppData\\Local\\Temp\\ipykernel_29048\\2168445501.py:6: FutureWarning: The frame.append method is deprecated and will be removed from pandas in a future version. Use pandas.concat instead.\n",
      "  df = df.append(scrape_page(topic[\"topic\"], topic[\"url\"]), ignore_index=True)\n"
     ]
    },
    {
     "name": "stdout",
     "output_type": "stream",
     "text": [
      "Scraping TBM...\n",
      "Found 13 sections for TBM\n"
     ]
    },
    {
     "name": "stderr",
     "output_type": "stream",
     "text": [
      " 85%|████████▌ | 1235/1452 [26:31<04:29,  1.24s/it]C:\\Users\\Raj\\AppData\\Local\\Temp\\ipykernel_29048\\2168445501.py:6: FutureWarning: The frame.append method is deprecated and will be removed from pandas in a future version. Use pandas.concat instead.\n",
      "  df = df.append(scrape_page(topic[\"topic\"], topic[\"url\"]), ignore_index=True)\n"
     ]
    },
    {
     "name": "stdout",
     "output_type": "stream",
     "text": [
      "Scraping TCOF1...\n",
      "Found 6 sections for TCOF1\n"
     ]
    },
    {
     "name": "stderr",
     "output_type": "stream",
     "text": [
      " 85%|████████▌ | 1236/1452 [26:32<04:26,  1.24s/it]C:\\Users\\Raj\\AppData\\Local\\Temp\\ipykernel_29048\\2168445501.py:6: FutureWarning: The frame.append method is deprecated and will be removed from pandas in a future version. Use pandas.concat instead.\n",
      "  df = df.append(scrape_page(topic[\"topic\"], topic[\"url\"]), ignore_index=True)\n"
     ]
    },
    {
     "name": "stdout",
     "output_type": "stream",
     "text": [
      "Scraping TCS...\n",
      "Found 6 sections for TCS\n"
     ]
    },
    {
     "name": "stderr",
     "output_type": "stream",
     "text": [
      " 85%|████████▌ | 1237/1452 [26:33<04:23,  1.22s/it]"
     ]
    },
    {
     "name": "stdout",
     "output_type": "stream",
     "text": [
      "Scraping TD...\n"
     ]
    },
    {
     "name": "stderr",
     "output_type": "stream",
     "text": [
      "C:\\Users\\Raj\\AppData\\Local\\Temp\\ipykernel_29048\\2168445501.py:6: FutureWarning: The frame.append method is deprecated and will be removed from pandas in a future version. Use pandas.concat instead.\n",
      "  df = df.append(scrape_page(topic[\"topic\"], topic[\"url\"]), ignore_index=True)\n",
      " 85%|████████▌ | 1238/1452 [26:34<04:27,  1.25s/it]"
     ]
    },
    {
     "name": "stdout",
     "output_type": "stream",
     "text": [
      "Scraping Tea Tree Oil...\n",
      "Found 5 sections for Tea Tree Oil\n"
     ]
    },
    {
     "name": "stderr",
     "output_type": "stream",
     "text": [
      "C:\\Users\\Raj\\AppData\\Local\\Temp\\ipykernel_29048\\2168445501.py:6: FutureWarning: The frame.append method is deprecated and will be removed from pandas in a future version. Use pandas.concat instead.\n",
      "  df = df.append(scrape_page(topic[\"topic\"], topic[\"url\"]), ignore_index=True)\n",
      " 85%|████████▌ | 1239/1452 [26:36<04:26,  1.25s/it]"
     ]
    },
    {
     "name": "stdout",
     "output_type": "stream",
     "text": [
      "Scraping Teen Alcohol and Drug Abuse...\n",
      "Found 10 sections for Teen Alcohol and Drug Abuse\n"
     ]
    },
    {
     "name": "stderr",
     "output_type": "stream",
     "text": [
      "C:\\Users\\Raj\\AppData\\Local\\Temp\\ipykernel_29048\\2168445501.py:6: FutureWarning: The frame.append method is deprecated and will be removed from pandas in a future version. Use pandas.concat instead.\n",
      "  df = df.append(scrape_page(topic[\"topic\"], topic[\"url\"]), ignore_index=True)\n",
      " 85%|████████▌ | 1240/1452 [26:37<04:26,  1.26s/it]"
     ]
    },
    {
     "name": "stdout",
     "output_type": "stream",
     "text": [
      "Scraping Teen Depression...\n",
      "Found 14 sections for Teen Depression\n"
     ]
    },
    {
     "name": "stderr",
     "output_type": "stream",
     "text": [
      "C:\\Users\\Raj\\AppData\\Local\\Temp\\ipykernel_29048\\2168445501.py:6: FutureWarning: The frame.append method is deprecated and will be removed from pandas in a future version. Use pandas.concat instead.\n",
      "  df = df.append(scrape_page(topic[\"topic\"], topic[\"url\"]), ignore_index=True)\n",
      " 85%|████████▌ | 1241/1452 [26:38<04:24,  1.25s/it]"
     ]
    },
    {
     "name": "stdout",
     "output_type": "stream",
     "text": [
      "Scraping Teen Drug Abuse...\n",
      "Found 10 sections for Teen Drug Abuse\n"
     ]
    },
    {
     "name": "stderr",
     "output_type": "stream",
     "text": [
      "C:\\Users\\Raj\\AppData\\Local\\Temp\\ipykernel_29048\\2168445501.py:6: FutureWarning: The frame.append method is deprecated and will be removed from pandas in a future version. Use pandas.concat instead.\n",
      "  df = df.append(scrape_page(topic[\"topic\"], topic[\"url\"]), ignore_index=True)\n",
      " 86%|████████▌ | 1242/1452 [26:39<04:23,  1.26s/it]"
     ]
    },
    {
     "name": "stdout",
     "output_type": "stream",
     "text": [
      "Scraping Teen Substance Abuse...\n",
      "Found 10 sections for Teen Substance Abuse\n"
     ]
    },
    {
     "name": "stderr",
     "output_type": "stream",
     "text": [
      "C:\\Users\\Raj\\AppData\\Local\\Temp\\ipykernel_29048\\2168445501.py:6: FutureWarning: The frame.append method is deprecated and will be removed from pandas in a future version. Use pandas.concat instead.\n",
      "  df = df.append(scrape_page(topic[\"topic\"], topic[\"url\"]), ignore_index=True)\n",
      " 86%|████████▌ | 1243/1452 [26:41<04:22,  1.26s/it]"
     ]
    },
    {
     "name": "stdout",
     "output_type": "stream",
     "text": [
      "Scraping Teething...\n",
      "Found 10 sections for Teething\n"
     ]
    },
    {
     "name": "stderr",
     "output_type": "stream",
     "text": [
      "C:\\Users\\Raj\\AppData\\Local\\Temp\\ipykernel_29048\\2168445501.py:6: FutureWarning: The frame.append method is deprecated and will be removed from pandas in a future version. Use pandas.concat instead.\n",
      "  df = df.append(scrape_page(topic[\"topic\"], topic[\"url\"]), ignore_index=True)\n",
      " 86%|████████▌ | 1244/1452 [26:42<04:20,  1.25s/it]"
     ]
    },
    {
     "name": "stdout",
     "output_type": "stream",
     "text": [
      "Scraping Temper Tantrums...\n",
      "Found 7 sections for Temper Tantrums\n"
     ]
    },
    {
     "name": "stderr",
     "output_type": "stream",
     "text": [
      "C:\\Users\\Raj\\AppData\\Local\\Temp\\ipykernel_29048\\2168445501.py:6: FutureWarning: The frame.append method is deprecated and will be removed from pandas in a future version. Use pandas.concat instead.\n",
      "  df = df.append(scrape_page(topic[\"topic\"], topic[\"url\"]), ignore_index=True)\n",
      " 86%|████████▌ | 1245/1452 [26:43<04:18,  1.25s/it]"
     ]
    },
    {
     "name": "stdout",
     "output_type": "stream",
     "text": [
      "Scraping Temporal Arteritis...\n",
      "Found 13 sections for Temporal Arteritis\n"
     ]
    },
    {
     "name": "stderr",
     "output_type": "stream",
     "text": [
      "C:\\Users\\Raj\\AppData\\Local\\Temp\\ipykernel_29048\\2168445501.py:6: FutureWarning: The frame.append method is deprecated and will be removed from pandas in a future version. Use pandas.concat instead.\n",
      "  df = df.append(scrape_page(topic[\"topic\"], topic[\"url\"]), ignore_index=True)\n",
      " 86%|████████▌ | 1246/1452 [26:44<04:15,  1.24s/it]"
     ]
    },
    {
     "name": "stdout",
     "output_type": "stream",
     "text": [
      "Scraping Temporary Blindness...\n",
      "Found 9 sections for Temporary Blindness\n"
     ]
    },
    {
     "name": "stderr",
     "output_type": "stream",
     "text": [
      "C:\\Users\\Raj\\AppData\\Local\\Temp\\ipykernel_29048\\2168445501.py:6: FutureWarning: The frame.append method is deprecated and will be removed from pandas in a future version. Use pandas.concat instead.\n",
      "  df = df.append(scrape_page(topic[\"topic\"], topic[\"url\"]), ignore_index=True)\n",
      " 86%|████████▌ | 1247/1452 [26:46<04:18,  1.26s/it]C:\\Users\\Raj\\AppData\\Local\\Temp\\ipykernel_29048\\2168445501.py:6: FutureWarning: The frame.append method is deprecated and will be removed from pandas in a future version. Use pandas.concat instead.\n",
      "  df = df.append(scrape_page(topic[\"topic\"], topic[\"url\"]), ignore_index=True)\n"
     ]
    },
    {
     "name": "stdout",
     "output_type": "stream",
     "text": [
      "Scraping Temporomandibular (TM) Disorders...\n",
      "Found 13 sections for Temporomandibular (TM) Disorders\n"
     ]
    },
    {
     "name": "stderr",
     "output_type": "stream",
     "text": [
      " 86%|████████▌ | 1248/1452 [26:47<04:14,  1.25s/it]"
     ]
    },
    {
     "name": "stdout",
     "output_type": "stream",
     "text": [
      "Scraping Tendinitis...\n",
      "Found 9 sections for Tendinitis\n"
     ]
    },
    {
     "name": "stderr",
     "output_type": "stream",
     "text": [
      "C:\\Users\\Raj\\AppData\\Local\\Temp\\ipykernel_29048\\2168445501.py:6: FutureWarning: The frame.append method is deprecated and will be removed from pandas in a future version. Use pandas.concat instead.\n",
      "  df = df.append(scrape_page(topic[\"topic\"], topic[\"url\"]), ignore_index=True)\n",
      " 86%|████████▌ | 1249/1452 [26:48<04:13,  1.25s/it]C:\\Users\\Raj\\AppData\\Local\\Temp\\ipykernel_29048\\2168445501.py:6: FutureWarning: The frame.append method is deprecated and will be removed from pandas in a future version. Use pandas.concat instead.\n",
      "  df = df.append(scrape_page(topic[\"topic\"], topic[\"url\"]), ignore_index=True)\n"
     ]
    },
    {
     "name": "stdout",
     "output_type": "stream",
     "text": [
      "Scraping Tendinopathy...\n",
      "Found 9 sections for Tendinopathy\n"
     ]
    },
    {
     "name": "stderr",
     "output_type": "stream",
     "text": [
      " 86%|████████▌ | 1250/1452 [26:49<04:08,  1.23s/it]"
     ]
    },
    {
     "name": "stdout",
     "output_type": "stream",
     "text": [
      "Scraping Tenosynovitis...\n",
      "Found 10 sections for Tenosynovitis\n"
     ]
    },
    {
     "name": "stderr",
     "output_type": "stream",
     "text": [
      "C:\\Users\\Raj\\AppData\\Local\\Temp\\ipykernel_29048\\2168445501.py:6: FutureWarning: The frame.append method is deprecated and will be removed from pandas in a future version. Use pandas.concat instead.\n",
      "  df = df.append(scrape_page(topic[\"topic\"], topic[\"url\"]), ignore_index=True)\n",
      " 86%|████████▌ | 1251/1452 [26:51<04:08,  1.24s/it]"
     ]
    },
    {
     "name": "stdout",
     "output_type": "stream",
     "text": [
      "Scraping Tennis Elbow...\n",
      "Found 8 sections for Tennis Elbow\n"
     ]
    },
    {
     "name": "stderr",
     "output_type": "stream",
     "text": [
      "C:\\Users\\Raj\\AppData\\Local\\Temp\\ipykernel_29048\\2168445501.py:6: FutureWarning: The frame.append method is deprecated and will be removed from pandas in a future version. Use pandas.concat instead.\n",
      "  df = df.append(scrape_page(topic[\"topic\"], topic[\"url\"]), ignore_index=True)\n",
      " 86%|████████▌ | 1252/1452 [26:52<04:07,  1.24s/it]"
     ]
    },
    {
     "name": "stdout",
     "output_type": "stream",
     "text": [
      "Scraping TENS...\n"
     ]
    },
    {
     "name": "stderr",
     "output_type": "stream",
     "text": [
      "C:\\Users\\Raj\\AppData\\Local\\Temp\\ipykernel_29048\\2168445501.py:6: FutureWarning: The frame.append method is deprecated and will be removed from pandas in a future version. Use pandas.concat instead.\n",
      "  df = df.append(scrape_page(topic[\"topic\"], topic[\"url\"]), ignore_index=True)\n",
      " 86%|████████▋ | 1253/1452 [26:54<04:31,  1.37s/it]"
     ]
    },
    {
     "name": "stdout",
     "output_type": "stream",
     "text": [
      "Scraping Thalassemia...\n",
      "Found 10 sections for Thalassemia\n"
     ]
    },
    {
     "name": "stderr",
     "output_type": "stream",
     "text": [
      "C:\\Users\\Raj\\AppData\\Local\\Temp\\ipykernel_29048\\2168445501.py:6: FutureWarning: The frame.append method is deprecated and will be removed from pandas in a future version. Use pandas.concat instead.\n",
      "  df = df.append(scrape_page(topic[\"topic\"], topic[\"url\"]), ignore_index=True)\n",
      " 86%|████████▋ | 1254/1452 [26:55<04:22,  1.33s/it]"
     ]
    },
    {
     "name": "stdout",
     "output_type": "stream",
     "text": [
      "Scraping Thiamine Deficiency...\n",
      "Found 9 sections for Thiamine Deficiency\n"
     ]
    },
    {
     "name": "stderr",
     "output_type": "stream",
     "text": [
      "C:\\Users\\Raj\\AppData\\Local\\Temp\\ipykernel_29048\\2168445501.py:6: FutureWarning: The frame.append method is deprecated and will be removed from pandas in a future version. Use pandas.concat instead.\n",
      "  df = df.append(scrape_page(topic[\"topic\"], topic[\"url\"]), ignore_index=True)\n",
      " 86%|████████▋ | 1255/1452 [26:56<04:16,  1.30s/it]C:\\Users\\Raj\\AppData\\Local\\Temp\\ipykernel_29048\\2168445501.py:6: FutureWarning: The frame.append method is deprecated and will be removed from pandas in a future version. Use pandas.concat instead.\n",
      "  df = df.append(scrape_page(topic[\"topic\"], topic[\"url\"]), ignore_index=True)\n"
     ]
    },
    {
     "name": "stdout",
     "output_type": "stream",
     "text": [
      "Scraping Thoracic Outlet Syndrome...\n",
      "Found 10 sections for Thoracic Outlet Syndrome\n"
     ]
    },
    {
     "name": "stderr",
     "output_type": "stream",
     "text": [
      " 87%|████████▋ | 1256/1452 [26:57<04:10,  1.28s/it]C:\\Users\\Raj\\AppData\\Local\\Temp\\ipykernel_29048\\2168445501.py:6: FutureWarning: The frame.append method is deprecated and will be removed from pandas in a future version. Use pandas.concat instead.\n",
      "  df = df.append(scrape_page(topic[\"topic\"], topic[\"url\"]), ignore_index=True)\n"
     ]
    },
    {
     "name": "stdout",
     "output_type": "stream",
     "text": [
      "Scraping Thromboangiitis Obliterans...\n",
      "Found 7 sections for Thromboangiitis Obliterans\n"
     ]
    },
    {
     "name": "stderr",
     "output_type": "stream",
     "text": [
      " 87%|████████▋ | 1257/1452 [26:58<04:05,  1.26s/it]"
     ]
    },
    {
     "name": "stdout",
     "output_type": "stream",
     "text": [
      "Scraping Thrombocytopenia...\n",
      "Found 19 sections for Thrombocytopenia\n"
     ]
    },
    {
     "name": "stderr",
     "output_type": "stream",
     "text": [
      "C:\\Users\\Raj\\AppData\\Local\\Temp\\ipykernel_29048\\2168445501.py:6: FutureWarning: The frame.append method is deprecated and will be removed from pandas in a future version. Use pandas.concat instead.\n",
      "  df = df.append(scrape_page(topic[\"topic\"], topic[\"url\"]), ignore_index=True)\n",
      " 87%|████████▋ | 1258/1452 [27:00<04:04,  1.26s/it]"
     ]
    },
    {
     "name": "stdout",
     "output_type": "stream",
     "text": [
      "Scraping Thrombocytopenia, Essential...\n",
      "Found 10 sections for Thrombocytopenia, Essential\n"
     ]
    },
    {
     "name": "stderr",
     "output_type": "stream",
     "text": [
      "C:\\Users\\Raj\\AppData\\Local\\Temp\\ipykernel_29048\\2168445501.py:6: FutureWarning: The frame.append method is deprecated and will be removed from pandas in a future version. Use pandas.concat instead.\n",
      "  df = df.append(scrape_page(topic[\"topic\"], topic[\"url\"]), ignore_index=True)\n",
      " 87%|████████▋ | 1259/1452 [27:01<04:01,  1.25s/it]C:\\Users\\Raj\\AppData\\Local\\Temp\\ipykernel_29048\\2168445501.py:6: FutureWarning: The frame.append method is deprecated and will be removed from pandas in a future version. Use pandas.concat instead.\n",
      "  df = df.append(scrape_page(topic[\"topic\"], topic[\"url\"]), ignore_index=True)\n"
     ]
    },
    {
     "name": "stdout",
     "output_type": "stream",
     "text": [
      "Scraping Thrombophlebitis...\n",
      "Found 13 sections for Thrombophlebitis\n"
     ]
    },
    {
     "name": "stderr",
     "output_type": "stream",
     "text": [
      " 87%|████████▋ | 1260/1452 [27:02<03:58,  1.24s/it]"
     ]
    },
    {
     "name": "stdout",
     "output_type": "stream",
     "text": [
      "Scraping Thromboulcerative Colitis...\n",
      "Found 8 sections for Thromboulcerative Colitis\n"
     ]
    },
    {
     "name": "stderr",
     "output_type": "stream",
     "text": [
      "C:\\Users\\Raj\\AppData\\Local\\Temp\\ipykernel_29048\\2168445501.py:6: FutureWarning: The frame.append method is deprecated and will be removed from pandas in a future version. Use pandas.concat instead.\n",
      "  df = df.append(scrape_page(topic[\"topic\"], topic[\"url\"]), ignore_index=True)\n",
      " 87%|████████▋ | 1261/1452 [27:03<03:56,  1.24s/it]"
     ]
    },
    {
     "name": "stdout",
     "output_type": "stream",
     "text": [
      "Scraping Thrush...\n",
      "Found 9 sections for Thrush\n"
     ]
    },
    {
     "name": "stderr",
     "output_type": "stream",
     "text": [
      "C:\\Users\\Raj\\AppData\\Local\\Temp\\ipykernel_29048\\2168445501.py:6: FutureWarning: The frame.append method is deprecated and will be removed from pandas in a future version. Use pandas.concat instead.\n",
      "  df = df.append(scrape_page(topic[\"topic\"], topic[\"url\"]), ignore_index=True)\n",
      " 87%|████████▋ | 1262/1452 [27:05<03:55,  1.24s/it]"
     ]
    },
    {
     "name": "stdout",
     "output_type": "stream",
     "text": [
      "Scraping Thumb-Sucking...\n",
      "Found 3 sections for Thumb-Sucking\n"
     ]
    },
    {
     "name": "stderr",
     "output_type": "stream",
     "text": [
      "C:\\Users\\Raj\\AppData\\Local\\Temp\\ipykernel_29048\\2168445501.py:6: FutureWarning: The frame.append method is deprecated and will be removed from pandas in a future version. Use pandas.concat instead.\n",
      "  df = df.append(scrape_page(topic[\"topic\"], topic[\"url\"]), ignore_index=True)\n",
      " 87%|████████▋ | 1263/1452 [27:06<03:54,  1.24s/it]"
     ]
    },
    {
     "name": "stdout",
     "output_type": "stream",
     "text": [
      "Scraping Thyroid Cancer...\n",
      "Found 8 sections for Thyroid Cancer\n"
     ]
    },
    {
     "name": "stderr",
     "output_type": "stream",
     "text": [
      "C:\\Users\\Raj\\AppData\\Local\\Temp\\ipykernel_29048\\2168445501.py:6: FutureWarning: The frame.append method is deprecated and will be removed from pandas in a future version. Use pandas.concat instead.\n",
      "  df = df.append(scrape_page(topic[\"topic\"], topic[\"url\"]), ignore_index=True)\n",
      " 87%|████████▋ | 1264/1452 [27:07<03:53,  1.24s/it]"
     ]
    },
    {
     "name": "stdout",
     "output_type": "stream",
     "text": [
      "Scraping Thyroid Disorders...\n",
      "Found 3 sections for Thyroid Disorders\n"
     ]
    },
    {
     "name": "stderr",
     "output_type": "stream",
     "text": [
      "C:\\Users\\Raj\\AppData\\Local\\Temp\\ipykernel_29048\\2168445501.py:6: FutureWarning: The frame.append method is deprecated and will be removed from pandas in a future version. Use pandas.concat instead.\n",
      "  df = df.append(scrape_page(topic[\"topic\"], topic[\"url\"]), ignore_index=True)\n",
      " 87%|████████▋ | 1265/1452 [27:08<03:51,  1.24s/it]"
     ]
    },
    {
     "name": "stdout",
     "output_type": "stream",
     "text": [
      "Scraping Thyroid Nodules...\n",
      "Found 8 sections for Thyroid Nodules\n"
     ]
    },
    {
     "name": "stderr",
     "output_type": "stream",
     "text": [
      "C:\\Users\\Raj\\AppData\\Local\\Temp\\ipykernel_29048\\2168445501.py:6: FutureWarning: The frame.append method is deprecated and will be removed from pandas in a future version. Use pandas.concat instead.\n",
      "  df = df.append(scrape_page(topic[\"topic\"], topic[\"url\"]), ignore_index=True)\n",
      " 87%|████████▋ | 1266/1452 [27:10<03:55,  1.27s/it]C:\\Users\\Raj\\AppData\\Local\\Temp\\ipykernel_29048\\2168445501.py:6: FutureWarning: The frame.append method is deprecated and will be removed from pandas in a future version. Use pandas.concat instead.\n",
      "  df = df.append(scrape_page(topic[\"topic\"], topic[\"url\"]), ignore_index=True)\n"
     ]
    },
    {
     "name": "stdout",
     "output_type": "stream",
     "text": [
      "Scraping Thyrotoxicosis...\n",
      "Found 7 sections for Thyrotoxicosis\n"
     ]
    },
    {
     "name": "stderr",
     "output_type": "stream",
     "text": [
      " 87%|████████▋ | 1267/1452 [27:11<03:51,  1.25s/it]"
     ]
    },
    {
     "name": "stdout",
     "output_type": "stream",
     "text": [
      "Scraping TIA (Transient Ischemic Attack)...\n",
      "Found 6 sections for TIA (Transient Ischemic Attack)\n"
     ]
    },
    {
     "name": "stderr",
     "output_type": "stream",
     "text": [
      "C:\\Users\\Raj\\AppData\\Local\\Temp\\ipykernel_29048\\2168445501.py:6: FutureWarning: The frame.append method is deprecated and will be removed from pandas in a future version. Use pandas.concat instead.\n",
      "  df = df.append(scrape_page(topic[\"topic\"], topic[\"url\"]), ignore_index=True)\n",
      " 87%|████████▋ | 1268/1452 [27:12<03:49,  1.25s/it]"
     ]
    },
    {
     "name": "stdout",
     "output_type": "stream",
     "text": [
      "Scraping Tic Douloureux...\n",
      "Found 13 sections for Tic Douloureux\n"
     ]
    },
    {
     "name": "stderr",
     "output_type": "stream",
     "text": [
      "C:\\Users\\Raj\\AppData\\Local\\Temp\\ipykernel_29048\\2168445501.py:6: FutureWarning: The frame.append method is deprecated and will be removed from pandas in a future version. Use pandas.concat instead.\n",
      "  df = df.append(scrape_page(topic[\"topic\"], topic[\"url\"]), ignore_index=True)\n",
      " 87%|████████▋ | 1269/1452 [27:14<04:17,  1.41s/it]C:\\Users\\Raj\\AppData\\Local\\Temp\\ipykernel_29048\\2168445501.py:6: FutureWarning: The frame.append method is deprecated and will be removed from pandas in a future version. Use pandas.concat instead.\n",
      "  df = df.append(scrape_page(topic[\"topic\"], topic[\"url\"]), ignore_index=True)\n"
     ]
    },
    {
     "name": "stdout",
     "output_type": "stream",
     "text": [
      "Scraping Tick Bites...\n",
      "Found 9 sections for Tick Bites\n"
     ]
    },
    {
     "name": "stderr",
     "output_type": "stream",
     "text": [
      " 87%|████████▋ | 1270/1452 [27:15<04:06,  1.35s/it]C:\\Users\\Raj\\AppData\\Local\\Temp\\ipykernel_29048\\2168445501.py:6: FutureWarning: The frame.append method is deprecated and will be removed from pandas in a future version. Use pandas.concat instead.\n",
      "  df = df.append(scrape_page(topic[\"topic\"], topic[\"url\"]), ignore_index=True)\n"
     ]
    },
    {
     "name": "stdout",
     "output_type": "stream",
     "text": [
      "Scraping Tick Removal...\n",
      "Found 5 sections for Tick Removal\n"
     ]
    },
    {
     "name": "stderr",
     "output_type": "stream",
     "text": [
      " 88%|████████▊ | 1271/1452 [27:16<03:57,  1.31s/it]"
     ]
    },
    {
     "name": "stdout",
     "output_type": "stream",
     "text": [
      "Scraping Tietze Syndrome...\n",
      "Found 6 sections for Tietze Syndrome\n"
     ]
    },
    {
     "name": "stderr",
     "output_type": "stream",
     "text": [
      "C:\\Users\\Raj\\AppData\\Local\\Temp\\ipykernel_29048\\2168445501.py:6: FutureWarning: The frame.append method is deprecated and will be removed from pandas in a future version. Use pandas.concat instead.\n",
      "  df = df.append(scrape_page(topic[\"topic\"], topic[\"url\"]), ignore_index=True)\n",
      " 88%|████████▊ | 1272/1452 [27:18<03:53,  1.30s/it]"
     ]
    },
    {
     "name": "stdout",
     "output_type": "stream",
     "text": [
      "Scraping Tinea Versicolor...\n",
      "Found 8 sections for Tinea Versicolor\n"
     ]
    },
    {
     "name": "stderr",
     "output_type": "stream",
     "text": [
      "C:\\Users\\Raj\\AppData\\Local\\Temp\\ipykernel_29048\\2168445501.py:6: FutureWarning: The frame.append method is deprecated and will be removed from pandas in a future version. Use pandas.concat instead.\n",
      "  df = df.append(scrape_page(topic[\"topic\"], topic[\"url\"]), ignore_index=True)\n",
      " 88%|████████▊ | 1273/1452 [27:19<03:48,  1.27s/it]C:\\Users\\Raj\\AppData\\Local\\Temp\\ipykernel_29048\\2168445501.py:6: FutureWarning: The frame.append method is deprecated and will be removed from pandas in a future version. Use pandas.concat instead.\n",
      "  df = df.append(scrape_page(topic[\"topic\"], topic[\"url\"]), ignore_index=True)\n"
     ]
    },
    {
     "name": "stdout",
     "output_type": "stream",
     "text": [
      "Scraping TMJ Disorder...\n",
      "Found 13 sections for TMJ Disorder\n"
     ]
    },
    {
     "name": "stderr",
     "output_type": "stream",
     "text": [
      " 88%|████████▊ | 1274/1452 [27:20<03:42,  1.25s/it]"
     ]
    },
    {
     "name": "stdout",
     "output_type": "stream",
     "text": [
      "Scraping Toddler Hygiene...\n",
      "Found 16 sections for Toddler Hygiene\n"
     ]
    },
    {
     "name": "stderr",
     "output_type": "stream",
     "text": [
      "C:\\Users\\Raj\\AppData\\Local\\Temp\\ipykernel_29048\\2168445501.py:6: FutureWarning: The frame.append method is deprecated and will be removed from pandas in a future version. Use pandas.concat instead.\n",
      "  df = df.append(scrape_page(topic[\"topic\"], topic[\"url\"]), ignore_index=True)\n",
      " 88%|████████▊ | 1275/1452 [27:21<03:41,  1.25s/it]"
     ]
    },
    {
     "name": "stdout",
     "output_type": "stream",
     "text": [
      "Scraping Toddler Safety...\n",
      "Found 16 sections for Toddler Safety\n"
     ]
    },
    {
     "name": "stderr",
     "output_type": "stream",
     "text": [
      "C:\\Users\\Raj\\AppData\\Local\\Temp\\ipykernel_29048\\2168445501.py:6: FutureWarning: The frame.append method is deprecated and will be removed from pandas in a future version. Use pandas.concat instead.\n",
      "  df = df.append(scrape_page(topic[\"topic\"], topic[\"url\"]), ignore_index=True)\n",
      " 88%|████████▊ | 1276/1452 [27:23<03:39,  1.25s/it]"
     ]
    },
    {
     "name": "stdout",
     "output_type": "stream",
     "text": [
      "Scraping Toe Fracture...\n",
      "Found 9 sections for Toe Fracture\n"
     ]
    },
    {
     "name": "stderr",
     "output_type": "stream",
     "text": [
      "C:\\Users\\Raj\\AppData\\Local\\Temp\\ipykernel_29048\\2168445501.py:6: FutureWarning: The frame.append method is deprecated and will be removed from pandas in a future version. Use pandas.concat instead.\n",
      "  df = df.append(scrape_page(topic[\"topic\"], topic[\"url\"]), ignore_index=True)\n",
      " 88%|████████▊ | 1277/1452 [27:24<03:38,  1.25s/it]"
     ]
    },
    {
     "name": "stdout",
     "output_type": "stream",
     "text": [
      "Scraping Toilet Training...\n",
      "Found 7 sections for Toilet Training\n"
     ]
    },
    {
     "name": "stderr",
     "output_type": "stream",
     "text": [
      "C:\\Users\\Raj\\AppData\\Local\\Temp\\ipykernel_29048\\2168445501.py:6: FutureWarning: The frame.append method is deprecated and will be removed from pandas in a future version. Use pandas.concat instead.\n",
      "  df = df.append(scrape_page(topic[\"topic\"], topic[\"url\"]), ignore_index=True)\n",
      " 88%|████████▊ | 1278/1452 [27:25<03:37,  1.25s/it]"
     ]
    },
    {
     "name": "stdout",
     "output_type": "stream",
     "text": [
      "Scraping Tongue Carcinoma...\n",
      "Found 7 sections for Tongue Carcinoma\n"
     ]
    },
    {
     "name": "stderr",
     "output_type": "stream",
     "text": [
      "C:\\Users\\Raj\\AppData\\Local\\Temp\\ipykernel_29048\\2168445501.py:6: FutureWarning: The frame.append method is deprecated and will be removed from pandas in a future version. Use pandas.concat instead.\n",
      "  df = df.append(scrape_page(topic[\"topic\"], topic[\"url\"]), ignore_index=True)\n",
      " 88%|████████▊ | 1279/1452 [27:26<03:35,  1.25s/it]C:\\Users\\Raj\\AppData\\Local\\Temp\\ipykernel_29048\\2168445501.py:6: FutureWarning: The frame.append method is deprecated and will be removed from pandas in a future version. Use pandas.concat instead.\n",
      "  df = df.append(scrape_page(topic[\"topic\"], topic[\"url\"]), ignore_index=True)\n"
     ]
    },
    {
     "name": "stdout",
     "output_type": "stream",
     "text": [
      "Scraping Tongue, Fissured...\n",
      "Found 3 sections for Tongue, Fissured\n"
     ]
    },
    {
     "name": "stderr",
     "output_type": "stream",
     "text": [
      " 88%|████████▊ | 1280/1452 [27:28<03:33,  1.24s/it]"
     ]
    },
    {
     "name": "stdout",
     "output_type": "stream",
     "text": [
      "Scraping Tongue, Geographic...\n",
      "Found 6 sections for Tongue, Geographic\n"
     ]
    },
    {
     "name": "stderr",
     "output_type": "stream",
     "text": [
      "C:\\Users\\Raj\\AppData\\Local\\Temp\\ipykernel_29048\\2168445501.py:6: FutureWarning: The frame.append method is deprecated and will be removed from pandas in a future version. Use pandas.concat instead.\n",
      "  df = df.append(scrape_page(topic[\"topic\"], topic[\"url\"]), ignore_index=True)\n",
      " 88%|████████▊ | 1281/1452 [27:29<03:31,  1.24s/it]"
     ]
    },
    {
     "name": "stdout",
     "output_type": "stream",
     "text": [
      "Scraping Tongue, Hairy...\n",
      "Found 5 sections for Tongue, Hairy\n"
     ]
    },
    {
     "name": "stderr",
     "output_type": "stream",
     "text": [
      "C:\\Users\\Raj\\AppData\\Local\\Temp\\ipykernel_29048\\2168445501.py:6: FutureWarning: The frame.append method is deprecated and will be removed from pandas in a future version. Use pandas.concat instead.\n",
      "  df = df.append(scrape_page(topic[\"topic\"], topic[\"url\"]), ignore_index=True)\n",
      " 88%|████████▊ | 1282/1452 [27:30<03:29,  1.24s/it]"
     ]
    },
    {
     "name": "stdout",
     "output_type": "stream",
     "text": [
      "Scraping Tongue-Tie...\n",
      "Found 10 sections for Tongue-Tie\n"
     ]
    },
    {
     "name": "stderr",
     "output_type": "stream",
     "text": [
      "C:\\Users\\Raj\\AppData\\Local\\Temp\\ipykernel_29048\\2168445501.py:6: FutureWarning: The frame.append method is deprecated and will be removed from pandas in a future version. Use pandas.concat instead.\n",
      "  df = df.append(scrape_page(topic[\"topic\"], topic[\"url\"]), ignore_index=True)\n",
      " 88%|████████▊ | 1283/1452 [27:31<03:29,  1.24s/it]"
     ]
    },
    {
     "name": "stdout",
     "output_type": "stream",
     "text": [
      "Scraping Tonic Pupil Syndrome...\n"
     ]
    },
    {
     "name": "stderr",
     "output_type": "stream",
     "text": [
      "C:\\Users\\Raj\\AppData\\Local\\Temp\\ipykernel_29048\\2168445501.py:6: FutureWarning: The frame.append method is deprecated and will be removed from pandas in a future version. Use pandas.concat instead.\n",
      "  df = df.append(scrape_page(topic[\"topic\"], topic[\"url\"]), ignore_index=True)\n",
      " 88%|████████▊ | 1284/1452 [27:33<03:35,  1.28s/it]"
     ]
    },
    {
     "name": "stdout",
     "output_type": "stream",
     "text": [
      "Scraping Tonsillitis...\n",
      "Found 11 sections for Tonsillitis\n"
     ]
    },
    {
     "name": "stderr",
     "output_type": "stream",
     "text": [
      "C:\\Users\\Raj\\AppData\\Local\\Temp\\ipykernel_29048\\2168445501.py:6: FutureWarning: The frame.append method is deprecated and will be removed from pandas in a future version. Use pandas.concat instead.\n",
      "  df = df.append(scrape_page(topic[\"topic\"], topic[\"url\"]), ignore_index=True)\n",
      " 88%|████████▊ | 1285/1452 [27:34<03:39,  1.32s/it]"
     ]
    },
    {
     "name": "stdout",
     "output_type": "stream",
     "text": [
      "Scraping Tooth Decay...\n",
      "Found 2 sections for Tooth Decay\n"
     ]
    },
    {
     "name": "stderr",
     "output_type": "stream",
     "text": [
      "C:\\Users\\Raj\\AppData\\Local\\Temp\\ipykernel_29048\\2168445501.py:6: FutureWarning: The frame.append method is deprecated and will be removed from pandas in a future version. Use pandas.concat instead.\n",
      "  df = df.append(scrape_page(topic[\"topic\"], topic[\"url\"]), ignore_index=True)\n",
      " 89%|████████▊ | 1286/1452 [27:35<03:35,  1.30s/it]"
     ]
    },
    {
     "name": "stdout",
     "output_type": "stream",
     "text": [
      "Scraping Torch Infection...\n",
      "Found 15 sections for Torch Infection\n"
     ]
    },
    {
     "name": "stderr",
     "output_type": "stream",
     "text": [
      "C:\\Users\\Raj\\AppData\\Local\\Temp\\ipykernel_29048\\2168445501.py:6: FutureWarning: The frame.append method is deprecated and will be removed from pandas in a future version. Use pandas.concat instead.\n",
      "  df = df.append(scrape_page(topic[\"topic\"], topic[\"url\"]), ignore_index=True)\n",
      " 89%|████████▊ | 1287/1452 [27:37<03:31,  1.28s/it]"
     ]
    },
    {
     "name": "stdout",
     "output_type": "stream",
     "text": [
      "Scraping TORCH Syndrome...\n",
      "Found 15 sections for TORCH Syndrome\n"
     ]
    },
    {
     "name": "stderr",
     "output_type": "stream",
     "text": [
      "C:\\Users\\Raj\\AppData\\Local\\Temp\\ipykernel_29048\\2168445501.py:6: FutureWarning: The frame.append method is deprecated and will be removed from pandas in a future version. Use pandas.concat instead.\n",
      "  df = df.append(scrape_page(topic[\"topic\"], topic[\"url\"]), ignore_index=True)\n",
      " 89%|████████▊ | 1288/1452 [27:38<03:29,  1.28s/it]"
     ]
    },
    {
     "name": "stdout",
     "output_type": "stream",
     "text": [
      "Scraping Torn Rotator Cuff...\n",
      "Found 5 sections for Torn Rotator Cuff\n"
     ]
    },
    {
     "name": "stderr",
     "output_type": "stream",
     "text": [
      "C:\\Users\\Raj\\AppData\\Local\\Temp\\ipykernel_29048\\2168445501.py:6: FutureWarning: The frame.append method is deprecated and will be removed from pandas in a future version. Use pandas.concat instead.\n",
      "  df = df.append(scrape_page(topic[\"topic\"], topic[\"url\"]), ignore_index=True)\n",
      " 89%|████████▉ | 1289/1452 [27:39<03:26,  1.26s/it]C:\\Users\\Raj\\AppData\\Local\\Temp\\ipykernel_29048\\2168445501.py:6: FutureWarning: The frame.append method is deprecated and will be removed from pandas in a future version. Use pandas.concat instead.\n",
      "  df = df.append(scrape_page(topic[\"topic\"], topic[\"url\"]), ignore_index=True)\n"
     ]
    },
    {
     "name": "stdout",
     "output_type": "stream",
     "text": [
      "Scraping Torsion Dystonia...\n",
      "Found 6 sections for Torsion Dystonia\n"
     ]
    },
    {
     "name": "stderr",
     "output_type": "stream",
     "text": [
      " 89%|████████▉ | 1290/1452 [27:40<03:22,  1.25s/it]"
     ]
    },
    {
     "name": "stdout",
     "output_type": "stream",
     "text": [
      "Scraping Torticollis...\n",
      "Found 7 sections for Torticollis\n"
     ]
    },
    {
     "name": "stderr",
     "output_type": "stream",
     "text": [
      "C:\\Users\\Raj\\AppData\\Local\\Temp\\ipykernel_29048\\2168445501.py:6: FutureWarning: The frame.append method is deprecated and will be removed from pandas in a future version. Use pandas.concat instead.\n",
      "  df = df.append(scrape_page(topic[\"topic\"], topic[\"url\"]), ignore_index=True)\n",
      " 89%|████████▉ | 1291/1452 [27:42<03:21,  1.25s/it]"
     ]
    },
    {
     "name": "stdout",
     "output_type": "stream",
     "text": [
      "Scraping Torular Meningitis...\n",
      "Found 13 sections for Torular Meningitis\n"
     ]
    },
    {
     "name": "stderr",
     "output_type": "stream",
     "text": [
      "C:\\Users\\Raj\\AppData\\Local\\Temp\\ipykernel_29048\\2168445501.py:6: FutureWarning: The frame.append method is deprecated and will be removed from pandas in a future version. Use pandas.concat instead.\n",
      "  df = df.append(scrape_page(topic[\"topic\"], topic[\"url\"]), ignore_index=True)\n",
      " 89%|████████▉ | 1292/1452 [27:43<03:19,  1.25s/it]"
     ]
    },
    {
     "name": "stdout",
     "output_type": "stream",
     "text": [
      "Scraping Tourette's Syndrome...\n",
      "Found 13 sections for Tourette's Syndrome\n"
     ]
    },
    {
     "name": "stderr",
     "output_type": "stream",
     "text": [
      "C:\\Users\\Raj\\AppData\\Local\\Temp\\ipykernel_29048\\2168445501.py:6: FutureWarning: The frame.append method is deprecated and will be removed from pandas in a future version. Use pandas.concat instead.\n",
      "  df = df.append(scrape_page(topic[\"topic\"], topic[\"url\"]), ignore_index=True)\n",
      " 89%|████████▉ | 1293/1452 [27:44<03:17,  1.24s/it]"
     ]
    },
    {
     "name": "stdout",
     "output_type": "stream",
     "text": [
      "Scraping Toxic Epidermal Necrolysis...\n",
      "Found 1 sections for Toxic Epidermal Necrolysis\n"
     ]
    },
    {
     "name": "stderr",
     "output_type": "stream",
     "text": [
      "C:\\Users\\Raj\\AppData\\Local\\Temp\\ipykernel_29048\\2168445501.py:6: FutureWarning: The frame.append method is deprecated and will be removed from pandas in a future version. Use pandas.concat instead.\n",
      "  df = df.append(scrape_page(topic[\"topic\"], topic[\"url\"]), ignore_index=True)\n",
      " 89%|████████▉ | 1294/1452 [27:45<03:16,  1.24s/it]"
     ]
    },
    {
     "name": "stdout",
     "output_type": "stream",
     "text": [
      "Scraping Toxic Paralytic Anemia...\n",
      "Found 13 sections for Toxic Paralytic Anemia\n"
     ]
    },
    {
     "name": "stderr",
     "output_type": "stream",
     "text": [
      "C:\\Users\\Raj\\AppData\\Local\\Temp\\ipykernel_29048\\2168445501.py:6: FutureWarning: The frame.append method is deprecated and will be removed from pandas in a future version. Use pandas.concat instead.\n",
      "  df = df.append(scrape_page(topic[\"topic\"], topic[\"url\"]), ignore_index=True)\n",
      " 89%|████████▉ | 1295/1452 [27:46<03:15,  1.24s/it]"
     ]
    },
    {
     "name": "stdout",
     "output_type": "stream",
     "text": [
      "Scraping Toxic Shock Syndrome...\n",
      "Found 7 sections for Toxic Shock Syndrome\n"
     ]
    },
    {
     "name": "stderr",
     "output_type": "stream",
     "text": [
      "C:\\Users\\Raj\\AppData\\Local\\Temp\\ipykernel_29048\\2168445501.py:6: FutureWarning: The frame.append method is deprecated and will be removed from pandas in a future version. Use pandas.concat instead.\n",
      "  df = df.append(scrape_page(topic[\"topic\"], topic[\"url\"]), ignore_index=True)\n",
      " 89%|████████▉ | 1296/1452 [27:48<03:14,  1.24s/it]"
     ]
    },
    {
     "name": "stdout",
     "output_type": "stream",
     "text": [
      "Scraping Toxoplasmosis...\n",
      "Found 10 sections for Toxoplasmosis\n"
     ]
    },
    {
     "name": "stderr",
     "output_type": "stream",
     "text": [
      "C:\\Users\\Raj\\AppData\\Local\\Temp\\ipykernel_29048\\2168445501.py:6: FutureWarning: The frame.append method is deprecated and will be removed from pandas in a future version. Use pandas.concat instead.\n",
      "  df = df.append(scrape_page(topic[\"topic\"], topic[\"url\"]), ignore_index=True)\n",
      " 89%|████████▉ | 1297/1452 [27:50<03:45,  1.46s/it]"
     ]
    },
    {
     "name": "stdout",
     "output_type": "stream",
     "text": [
      "Scraping Transient Acantholytic Dermatosis...\n",
      "Found 7 sections for Transient Acantholytic Dermatosis\n"
     ]
    },
    {
     "name": "stderr",
     "output_type": "stream",
     "text": [
      "C:\\Users\\Raj\\AppData\\Local\\Temp\\ipykernel_29048\\2168445501.py:6: FutureWarning: The frame.append method is deprecated and will be removed from pandas in a future version. Use pandas.concat instead.\n",
      "  df = df.append(scrape_page(topic[\"topic\"], topic[\"url\"]), ignore_index=True)\n",
      " 89%|████████▉ | 1298/1452 [27:51<03:34,  1.39s/it]C:\\Users\\Raj\\AppData\\Local\\Temp\\ipykernel_29048\\2168445501.py:6: FutureWarning: The frame.append method is deprecated and will be removed from pandas in a future version. Use pandas.concat instead.\n",
      "  df = df.append(scrape_page(topic[\"topic\"], topic[\"url\"]), ignore_index=True)\n"
     ]
    },
    {
     "name": "stdout",
     "output_type": "stream",
     "text": [
      "Scraping Transient Ischemic Attack (TIA)...\n",
      "Found 6 sections for Transient Ischemic Attack (TIA)\n"
     ]
    },
    {
     "name": "stderr",
     "output_type": "stream",
     "text": [
      " 89%|████████▉ | 1299/1452 [27:52<03:23,  1.33s/it]"
     ]
    },
    {
     "name": "stdout",
     "output_type": "stream",
     "text": [
      "Scraping Transthyretin Familial Amyloid Polyneuropathy...\n"
     ]
    },
    {
     "name": "stderr",
     "output_type": "stream",
     "text": [
      "C:\\Users\\Raj\\AppData\\Local\\Temp\\ipykernel_29048\\2168445501.py:6: FutureWarning: The frame.append method is deprecated and will be removed from pandas in a future version. Use pandas.concat instead.\n",
      "  df = df.append(scrape_page(topic[\"topic\"], topic[\"url\"]), ignore_index=True)\n",
      " 90%|████████▉ | 1300/1452 [27:53<03:20,  1.32s/it]"
     ]
    },
    {
     "name": "stdout",
     "output_type": "stream",
     "text": [
      "Scraping Transthyretin Methionine-30 Amyloidosis (Type I)...\n"
     ]
    },
    {
     "name": "stderr",
     "output_type": "stream",
     "text": [
      "C:\\Users\\Raj\\AppData\\Local\\Temp\\ipykernel_29048\\2168445501.py:6: FutureWarning: The frame.append method is deprecated and will be removed from pandas in a future version. Use pandas.concat instead.\n",
      "  df = df.append(scrape_page(topic[\"topic\"], topic[\"url\"]), ignore_index=True)\n",
      " 90%|████████▉ | 1301/1452 [27:55<03:18,  1.31s/it]"
     ]
    },
    {
     "name": "stdout",
     "output_type": "stream",
     "text": [
      "Scraping Transverse Myelitis...\n",
      "Found 12 sections for Transverse Myelitis\n"
     ]
    },
    {
     "name": "stderr",
     "output_type": "stream",
     "text": [
      "C:\\Users\\Raj\\AppData\\Local\\Temp\\ipykernel_29048\\2168445501.py:6: FutureWarning: The frame.append method is deprecated and will be removed from pandas in a future version. Use pandas.concat instead.\n",
      "  df = df.append(scrape_page(topic[\"topic\"], topic[\"url\"]), ignore_index=True)\n",
      " 90%|████████▉ | 1302/1452 [27:57<03:41,  1.47s/it]C:\\Users\\Raj\\AppData\\Local\\Temp\\ipykernel_29048\\2168445501.py:6: FutureWarning: The frame.append method is deprecated and will be removed from pandas in a future version. Use pandas.concat instead.\n",
      "  df = df.append(scrape_page(topic[\"topic\"], topic[\"url\"]), ignore_index=True)\n"
     ]
    },
    {
     "name": "stdout",
     "output_type": "stream",
     "text": [
      "Scraping Traumatic Brain Injury (Concussion)...\n",
      "Found 8 sections for Traumatic Brain Injury (Concussion)\n"
     ]
    },
    {
     "name": "stderr",
     "output_type": "stream",
     "text": [
      " 90%|████████▉ | 1303/1452 [27:58<03:28,  1.40s/it]"
     ]
    },
    {
     "name": "stdout",
     "output_type": "stream",
     "text": [
      "Scraping Travel Health...\n",
      "Found 15 sections for Travel Health\n"
     ]
    },
    {
     "name": "stderr",
     "output_type": "stream",
     "text": [
      "C:\\Users\\Raj\\AppData\\Local\\Temp\\ipykernel_29048\\2168445501.py:6: FutureWarning: The frame.append method is deprecated and will be removed from pandas in a future version. Use pandas.concat instead.\n",
      "  df = df.append(scrape_page(topic[\"topic\"], topic[\"url\"]), ignore_index=True)\n",
      " 90%|████████▉ | 1304/1452 [28:00<03:49,  1.55s/it]"
     ]
    },
    {
     "name": "stdout",
     "output_type": "stream",
     "text": [
      "Scraping Traveler's Diarrhea...\n",
      "Found 8 sections for Traveler's Diarrhea\n"
     ]
    },
    {
     "name": "stderr",
     "output_type": "stream",
     "text": [
      "C:\\Users\\Raj\\AppData\\Local\\Temp\\ipykernel_29048\\2168445501.py:6: FutureWarning: The frame.append method is deprecated and will be removed from pandas in a future version. Use pandas.concat instead.\n",
      "  df = df.append(scrape_page(topic[\"topic\"], topic[\"url\"]), ignore_index=True)\n",
      " 90%|████████▉ | 1305/1452 [28:01<03:34,  1.46s/it]"
     ]
    },
    {
     "name": "stdout",
     "output_type": "stream",
     "text": [
      "Scraping Treacher Collins Syndrome...\n",
      "Found 6 sections for Treacher Collins Syndrome\n"
     ]
    },
    {
     "name": "stderr",
     "output_type": "stream",
     "text": [
      "C:\\Users\\Raj\\AppData\\Local\\Temp\\ipykernel_29048\\2168445501.py:6: FutureWarning: The frame.append method is deprecated and will be removed from pandas in a future version. Use pandas.concat instead.\n",
      "  df = df.append(scrape_page(topic[\"topic\"], topic[\"url\"]), ignore_index=True)\n",
      " 90%|████████▉ | 1306/1452 [28:02<03:23,  1.40s/it]C:\\Users\\Raj\\AppData\\Local\\Temp\\ipykernel_29048\\2168445501.py:6: FutureWarning: The frame.append method is deprecated and will be removed from pandas in a future version. Use pandas.concat instead.\n",
      "  df = df.append(scrape_page(topic[\"topic\"], topic[\"url\"]), ignore_index=True)\n"
     ]
    },
    {
     "name": "stdout",
     "output_type": "stream",
     "text": [
      "Scraping Treacher Collins-Franceschetti Syndrome 1...\n",
      "Found 6 sections for Treacher Collins-Franceschetti Syndrome 1\n"
     ]
    },
    {
     "name": "stderr",
     "output_type": "stream",
     "text": [
      " 90%|█████████ | 1307/1452 [28:03<03:12,  1.33s/it]C:\\Users\\Raj\\AppData\\Local\\Temp\\ipykernel_29048\\2168445501.py:6: FutureWarning: The frame.append method is deprecated and will be removed from pandas in a future version. Use pandas.concat instead.\n",
      "  df = df.append(scrape_page(topic[\"topic\"], topic[\"url\"]), ignore_index=True)\n"
     ]
    },
    {
     "name": "stdout",
     "output_type": "stream",
     "text": [
      "Scraping Tremor...\n",
      "Found 10 sections for Tremor\n"
     ]
    },
    {
     "name": "stderr",
     "output_type": "stream",
     "text": [
      " 90%|█████████ | 1308/1452 [28:05<03:07,  1.30s/it]C:\\Users\\Raj\\AppData\\Local\\Temp\\ipykernel_29048\\2168445501.py:6: FutureWarning: The frame.append method is deprecated and will be removed from pandas in a future version. Use pandas.concat instead.\n",
      "  df = df.append(scrape_page(topic[\"topic\"], topic[\"url\"]), ignore_index=True)\n"
     ]
    },
    {
     "name": "stdout",
     "output_type": "stream",
     "text": [
      "Scraping Tremor, Familial...\n",
      "Found 10 sections for Tremor, Familial\n"
     ]
    },
    {
     "name": "stderr",
     "output_type": "stream",
     "text": [
      " 90%|█████████ | 1309/1452 [28:06<03:00,  1.26s/it]C:\\Users\\Raj\\AppData\\Local\\Temp\\ipykernel_29048\\2168445501.py:6: FutureWarning: The frame.append method is deprecated and will be removed from pandas in a future version. Use pandas.concat instead.\n",
      "  df = df.append(scrape_page(topic[\"topic\"], topic[\"url\"]), ignore_index=True)\n"
     ]
    },
    {
     "name": "stdout",
     "output_type": "stream",
     "text": [
      "Scraping Tremor, Familial Essential...\n",
      "Found 10 sections for Tremor, Familial Essential\n"
     ]
    },
    {
     "name": "stderr",
     "output_type": "stream",
     "text": [
      " 90%|█████████ | 1310/1452 [28:07<02:57,  1.25s/it]C:\\Users\\Raj\\AppData\\Local\\Temp\\ipykernel_29048\\2168445501.py:6: FutureWarning: The frame.append method is deprecated and will be removed from pandas in a future version. Use pandas.concat instead.\n",
      "  df = df.append(scrape_page(topic[\"topic\"], topic[\"url\"]), ignore_index=True)\n"
     ]
    },
    {
     "name": "stdout",
     "output_type": "stream",
     "text": [
      "Scraping Tremor, Hereditary Benign...\n",
      "Found 10 sections for Tremor, Hereditary Benign\n"
     ]
    },
    {
     "name": "stderr",
     "output_type": "stream",
     "text": [
      " 90%|█████████ | 1311/1452 [28:08<02:52,  1.23s/it]"
     ]
    },
    {
     "name": "stdout",
     "output_type": "stream",
     "text": [
      "Scraping Trichomoniasis...\n",
      "Found 7 sections for Trichomoniasis\n"
     ]
    },
    {
     "name": "stderr",
     "output_type": "stream",
     "text": [
      "C:\\Users\\Raj\\AppData\\Local\\Temp\\ipykernel_29048\\2168445501.py:6: FutureWarning: The frame.append method is deprecated and will be removed from pandas in a future version. Use pandas.concat instead.\n",
      "  df = df.append(scrape_page(topic[\"topic\"], topic[\"url\"]), ignore_index=True)\n",
      " 90%|█████████ | 1312/1452 [28:09<02:51,  1.23s/it]"
     ]
    },
    {
     "name": "stdout",
     "output_type": "stream",
     "text": [
      "Scraping Trichotillomania...\n",
      "Found 8 sections for Trichotillomania\n"
     ]
    },
    {
     "name": "stderr",
     "output_type": "stream",
     "text": [
      "C:\\Users\\Raj\\AppData\\Local\\Temp\\ipykernel_29048\\2168445501.py:6: FutureWarning: The frame.append method is deprecated and will be removed from pandas in a future version. Use pandas.concat instead.\n",
      "  df = df.append(scrape_page(topic[\"topic\"], topic[\"url\"]), ignore_index=True)\n",
      " 90%|█████████ | 1313/1452 [28:11<02:53,  1.25s/it]C:\\Users\\Raj\\AppData\\Local\\Temp\\ipykernel_29048\\2168445501.py:6: FutureWarning: The frame.append method is deprecated and will be removed from pandas in a future version. Use pandas.concat instead.\n",
      "  df = df.append(scrape_page(topic[\"topic\"], topic[\"url\"]), ignore_index=True)\n"
     ]
    },
    {
     "name": "stdout",
     "output_type": "stream",
     "text": [
      "Scraping Trigeminal Neuralgia...\n",
      "Found 13 sections for Trigeminal Neuralgia\n"
     ]
    },
    {
     "name": "stderr",
     "output_type": "stream",
     "text": [
      " 90%|█████████ | 1314/1452 [28:12<02:49,  1.23s/it]"
     ]
    },
    {
     "name": "stdout",
     "output_type": "stream",
     "text": [
      "Scraping Triple Symptom Complex of Behcet...\n",
      "Found 9 sections for Triple Symptom Complex of Behcet\n"
     ]
    },
    {
     "name": "stderr",
     "output_type": "stream",
     "text": [
      "C:\\Users\\Raj\\AppData\\Local\\Temp\\ipykernel_29048\\2168445501.py:6: FutureWarning: The frame.append method is deprecated and will be removed from pandas in a future version. Use pandas.concat instead.\n",
      "  df = df.append(scrape_page(topic[\"topic\"], topic[\"url\"]), ignore_index=True)\n",
      " 91%|█████████ | 1315/1452 [28:13<02:48,  1.23s/it]C:\\Users\\Raj\\AppData\\Local\\Temp\\ipykernel_29048\\2168445501.py:6: FutureWarning: The frame.append method is deprecated and will be removed from pandas in a future version. Use pandas.concat instead.\n",
      "  df = df.append(scrape_page(topic[\"topic\"], topic[\"url\"]), ignore_index=True)\n"
     ]
    },
    {
     "name": "stdout",
     "output_type": "stream",
     "text": [
      "Scraping Triplets...\n",
      "Found 3 sections for Triplets\n"
     ]
    },
    {
     "name": "stderr",
     "output_type": "stream",
     "text": [
      " 91%|█████████ | 1316/1452 [28:14<02:46,  1.22s/it]"
     ]
    },
    {
     "name": "stdout",
     "output_type": "stream",
     "text": [
      "Scraping Trisomy 13 Syndrome...\n",
      "Found 7 sections for Trisomy 13 Syndrome\n"
     ]
    },
    {
     "name": "stderr",
     "output_type": "stream",
     "text": [
      "C:\\Users\\Raj\\AppData\\Local\\Temp\\ipykernel_29048\\2168445501.py:6: FutureWarning: The frame.append method is deprecated and will be removed from pandas in a future version. Use pandas.concat instead.\n",
      "  df = df.append(scrape_page(topic[\"topic\"], topic[\"url\"]), ignore_index=True)\n",
      " 91%|█████████ | 1317/1452 [28:16<02:45,  1.23s/it]"
     ]
    },
    {
     "name": "stdout",
     "output_type": "stream",
     "text": [
      "Scraping Trisomy 18 Syndrome...\n",
      "Found 8 sections for Trisomy 18 Syndrome\n"
     ]
    },
    {
     "name": "stderr",
     "output_type": "stream",
     "text": [
      "C:\\Users\\Raj\\AppData\\Local\\Temp\\ipykernel_29048\\2168445501.py:6: FutureWarning: The frame.append method is deprecated and will be removed from pandas in a future version. Use pandas.concat instead.\n",
      "  df = df.append(scrape_page(topic[\"topic\"], topic[\"url\"]), ignore_index=True)\n",
      " 91%|█████████ | 1318/1452 [28:17<02:48,  1.26s/it]"
     ]
    },
    {
     "name": "stdout",
     "output_type": "stream",
     "text": [
      "Scraping Tubal Pregnancy...\n",
      "Found 11 sections for Tubal Pregnancy\n"
     ]
    },
    {
     "name": "stderr",
     "output_type": "stream",
     "text": [
      "C:\\Users\\Raj\\AppData\\Local\\Temp\\ipykernel_29048\\2168445501.py:6: FutureWarning: The frame.append method is deprecated and will be removed from pandas in a future version. Use pandas.concat instead.\n",
      "  df = df.append(scrape_page(topic[\"topic\"], topic[\"url\"]), ignore_index=True)\n",
      " 91%|█████████ | 1319/1452 [28:18<02:46,  1.25s/it]C:\\Users\\Raj\\AppData\\Local\\Temp\\ipykernel_29048\\2168445501.py:6: FutureWarning: The frame.append method is deprecated and will be removed from pandas in a future version. Use pandas.concat instead.\n",
      "  df = df.append(scrape_page(topic[\"topic\"], topic[\"url\"]), ignore_index=True)\n"
     ]
    },
    {
     "name": "stdout",
     "output_type": "stream",
     "text": [
      "Scraping Tuberculosis (TB)...\n",
      "Found 14 sections for Tuberculosis (TB)\n"
     ]
    },
    {
     "name": "stderr",
     "output_type": "stream",
     "text": [
      " 91%|█████████ | 1320/1452 [28:19<02:42,  1.23s/it]C:\\Users\\Raj\\AppData\\Local\\Temp\\ipykernel_29048\\2168445501.py:6: FutureWarning: The frame.append method is deprecated and will be removed from pandas in a future version. Use pandas.concat instead.\n",
      "  df = df.append(scrape_page(topic[\"topic\"], topic[\"url\"]), ignore_index=True)\n"
     ]
    },
    {
     "name": "stdout",
     "output_type": "stream",
     "text": [
      "Scraping Tuberculous Meningitis...\n",
      "Found 13 sections for Tuberculous Meningitis\n"
     ]
    },
    {
     "name": "stderr",
     "output_type": "stream",
     "text": [
      " 91%|█████████ | 1321/1452 [28:20<02:39,  1.22s/it]"
     ]
    },
    {
     "name": "stdout",
     "output_type": "stream",
     "text": [
      "Scraping Tuberose Sclerosis...\n",
      "Found 13 sections for Tuberose Sclerosis\n"
     ]
    },
    {
     "name": "stderr",
     "output_type": "stream",
     "text": [
      "C:\\Users\\Raj\\AppData\\Local\\Temp\\ipykernel_29048\\2168445501.py:6: FutureWarning: The frame.append method is deprecated and will be removed from pandas in a future version. Use pandas.concat instead.\n",
      "  df = df.append(scrape_page(topic[\"topic\"], topic[\"url\"]), ignore_index=True)\n",
      " 91%|█████████ | 1322/1452 [28:22<02:41,  1.24s/it]C:\\Users\\Raj\\AppData\\Local\\Temp\\ipykernel_29048\\2168445501.py:6: FutureWarning: The frame.append method is deprecated and will be removed from pandas in a future version. Use pandas.concat instead.\n",
      "  df = df.append(scrape_page(topic[\"topic\"], topic[\"url\"]), ignore_index=True)\n"
     ]
    },
    {
     "name": "stdout",
     "output_type": "stream",
     "text": [
      "Scraping Tuberous Sclerosis...\n",
      "Found 13 sections for Tuberous Sclerosis\n"
     ]
    },
    {
     "name": "stderr",
     "output_type": "stream",
     "text": [
      " 91%|█████████ | 1323/1452 [28:23<02:37,  1.22s/it]C:\\Users\\Raj\\AppData\\Local\\Temp\\ipykernel_29048\\2168445501.py:6: FutureWarning: The frame.append method is deprecated and will be removed from pandas in a future version. Use pandas.concat instead.\n",
      "  df = df.append(scrape_page(topic[\"topic\"], topic[\"url\"]), ignore_index=True)\n"
     ]
    },
    {
     "name": "stdout",
     "output_type": "stream",
     "text": [
      "Scraping Tuberous Sclerosis Complex...\n",
      "Found 13 sections for Tuberous Sclerosis Complex\n"
     ]
    },
    {
     "name": "stderr",
     "output_type": "stream",
     "text": [
      " 91%|█████████ | 1324/1452 [28:24<02:34,  1.21s/it]C:\\Users\\Raj\\AppData\\Local\\Temp\\ipykernel_29048\\2168445501.py:6: FutureWarning: The frame.append method is deprecated and will be removed from pandas in a future version. Use pandas.concat instead.\n",
      "  df = df.append(scrape_page(topic[\"topic\"], topic[\"url\"]), ignore_index=True)\n"
     ]
    },
    {
     "name": "stdout",
     "output_type": "stream",
     "text": [
      "Scraping Tuberous Sclerosis-1...\n",
      "Found 13 sections for Tuberous Sclerosis-1\n"
     ]
    },
    {
     "name": "stderr",
     "output_type": "stream",
     "text": [
      " 91%|█████████▏| 1325/1452 [28:25<02:33,  1.20s/it]C:\\Users\\Raj\\AppData\\Local\\Temp\\ipykernel_29048\\2168445501.py:6: FutureWarning: The frame.append method is deprecated and will be removed from pandas in a future version. Use pandas.concat instead.\n",
      "  df = df.append(scrape_page(topic[\"topic\"], topic[\"url\"]), ignore_index=True)\n"
     ]
    },
    {
     "name": "stdout",
     "output_type": "stream",
     "text": [
      "Scraping Tularemia...\n",
      "Found 8 sections for Tularemia\n"
     ]
    },
    {
     "name": "stderr",
     "output_type": "stream",
     "text": [
      " 91%|█████████▏| 1326/1452 [28:27<02:32,  1.21s/it]"
     ]
    },
    {
     "name": "stdout",
     "output_type": "stream",
     "text": [
      "Scraping Turner Syndrome...\n",
      "Found 9 sections for Turner Syndrome\n"
     ]
    },
    {
     "name": "stderr",
     "output_type": "stream",
     "text": [
      "C:\\Users\\Raj\\AppData\\Local\\Temp\\ipykernel_29048\\2168445501.py:6: FutureWarning: The frame.append method is deprecated and will be removed from pandas in a future version. Use pandas.concat instead.\n",
      "  df = df.append(scrape_page(topic[\"topic\"], topic[\"url\"]), ignore_index=True)\n",
      " 91%|█████████▏| 1327/1452 [28:28<02:36,  1.25s/it]C:\\Users\\Raj\\AppData\\Local\\Temp\\ipykernel_29048\\2168445501.py:6: FutureWarning: The frame.append method is deprecated and will be removed from pandas in a future version. Use pandas.concat instead.\n",
      "  df = df.append(scrape_page(topic[\"topic\"], topic[\"url\"]), ignore_index=True)\n"
     ]
    },
    {
     "name": "stdout",
     "output_type": "stream",
     "text": [
      "Scraping Turner-Varny Syndrome...\n",
      "Found 9 sections for Turner-Varny Syndrome\n"
     ]
    },
    {
     "name": "stderr",
     "output_type": "stream",
     "text": [
      " 91%|█████████▏| 1328/1452 [28:29<02:32,  1.23s/it]C:\\Users\\Raj\\AppData\\Local\\Temp\\ipykernel_29048\\2168445501.py:6: FutureWarning: The frame.append method is deprecated and will be removed from pandas in a future version. Use pandas.concat instead.\n",
      "  df = df.append(scrape_page(topic[\"topic\"], topic[\"url\"]), ignore_index=True)\n"
     ]
    },
    {
     "name": "stdout",
     "output_type": "stream",
     "text": [
      "Scraping Twin Twin Transfusion Syndrome...\n",
      "Found 3 sections for Twin Twin Transfusion Syndrome\n"
     ]
    },
    {
     "name": "stderr",
     "output_type": "stream",
     "text": [
      " 92%|█████████▏| 1329/1452 [28:30<02:30,  1.23s/it]"
     ]
    },
    {
     "name": "stdout",
     "output_type": "stream",
     "text": [
      "Scraping Twins...\n",
      "Found 3 sections for Twins\n"
     ]
    },
    {
     "name": "stderr",
     "output_type": "stream",
     "text": [
      "C:\\Users\\Raj\\AppData\\Local\\Temp\\ipykernel_29048\\2168445501.py:6: FutureWarning: The frame.append method is deprecated and will be removed from pandas in a future version. Use pandas.concat instead.\n",
      "  df = df.append(scrape_page(topic[\"topic\"], topic[\"url\"]), ignore_index=True)\n",
      " 92%|█████████▏| 1330/1452 [28:32<02:29,  1.23s/it]C:\\Users\\Raj\\AppData\\Local\\Temp\\ipykernel_29048\\2168445501.py:6: FutureWarning: The frame.append method is deprecated and will be removed from pandas in a future version. Use pandas.concat instead.\n",
      "  df = df.append(scrape_page(topic[\"topic\"], topic[\"url\"]), ignore_index=True)\n"
     ]
    },
    {
     "name": "stdout",
     "output_type": "stream",
     "text": [
      "Scraping Twin-to-Twin Transfusion Syndrome...\n",
      "Found 3 sections for Twin-to-Twin Transfusion Syndrome\n"
     ]
    },
    {
     "name": "stderr",
     "output_type": "stream",
     "text": [
      " 92%|█████████▏| 1331/1452 [28:33<02:27,  1.22s/it]"
     ]
    },
    {
     "name": "stdout",
     "output_type": "stream",
     "text": [
      "Scraping Type 1 Diabetes...\n",
      "Found 11 sections for Type 1 Diabetes\n"
     ]
    },
    {
     "name": "stderr",
     "output_type": "stream",
     "text": [
      "C:\\Users\\Raj\\AppData\\Local\\Temp\\ipykernel_29048\\2168445501.py:6: FutureWarning: The frame.append method is deprecated and will be removed from pandas in a future version. Use pandas.concat instead.\n",
      "  df = df.append(scrape_page(topic[\"topic\"], topic[\"url\"]), ignore_index=True)\n",
      " 92%|█████████▏| 1332/1452 [28:34<02:26,  1.22s/it]"
     ]
    },
    {
     "name": "stdout",
     "output_type": "stream",
     "text": [
      "Scraping Type 2 Diabetes...\n",
      "Found 14 sections for Type 2 Diabetes\n"
     ]
    },
    {
     "name": "stderr",
     "output_type": "stream",
     "text": [
      "C:\\Users\\Raj\\AppData\\Local\\Temp\\ipykernel_29048\\2168445501.py:6: FutureWarning: The frame.append method is deprecated and will be removed from pandas in a future version. Use pandas.concat instead.\n",
      "  df = df.append(scrape_page(topic[\"topic\"], topic[\"url\"]), ignore_index=True)\n",
      " 92%|█████████▏| 1333/1452 [28:35<02:26,  1.23s/it]C:\\Users\\Raj\\AppData\\Local\\Temp\\ipykernel_29048\\2168445501.py:6: FutureWarning: The frame.append method is deprecated and will be removed from pandas in a future version. Use pandas.concat instead.\n",
      "  df = df.append(scrape_page(topic[\"topic\"], topic[\"url\"]), ignore_index=True)\n"
     ]
    },
    {
     "name": "stdout",
     "output_type": "stream",
     "text": [
      "Scraping Type 2 Diabetes in Children...\n",
      "Found 11 sections for Type 2 Diabetes in Children\n"
     ]
    },
    {
     "name": "stderr",
     "output_type": "stream",
     "text": [
      " 92%|█████████▏| 1334/1452 [28:36<02:24,  1.23s/it]"
     ]
    },
    {
     "name": "stdout",
     "output_type": "stream",
     "text": [
      "Scraping Type II Histiocytosis...\n",
      "Found 6 sections for Type II Histiocytosis\n"
     ]
    },
    {
     "name": "stderr",
     "output_type": "stream",
     "text": [
      "C:\\Users\\Raj\\AppData\\Local\\Temp\\ipykernel_29048\\2168445501.py:6: FutureWarning: The frame.append method is deprecated and will be removed from pandas in a future version. Use pandas.concat instead.\n",
      "  df = df.append(scrape_page(topic[\"topic\"], topic[\"url\"]), ignore_index=True)\n",
      " 92%|█████████▏| 1335/1452 [28:38<02:25,  1.24s/it]"
     ]
    },
    {
     "name": "stdout",
     "output_type": "stream",
     "text": [
      "Scraping Typhoid...\n",
      "Found 6 sections for Typhoid\n"
     ]
    },
    {
     "name": "stderr",
     "output_type": "stream",
     "text": [
      "C:\\Users\\Raj\\AppData\\Local\\Temp\\ipykernel_29048\\2168445501.py:6: FutureWarning: The frame.append method is deprecated and will be removed from pandas in a future version. Use pandas.concat instead.\n",
      "  df = df.append(scrape_page(topic[\"topic\"], topic[\"url\"]), ignore_index=True)\n",
      " 92%|█████████▏| 1336/1452 [28:39<02:23,  1.24s/it]C:\\Users\\Raj\\AppData\\Local\\Temp\\ipykernel_29048\\2168445501.py:6: FutureWarning: The frame.append method is deprecated and will be removed from pandas in a future version. Use pandas.concat instead.\n",
      "  df = df.append(scrape_page(topic[\"topic\"], topic[\"url\"]), ignore_index=True)\n"
     ]
    },
    {
     "name": "stdout",
     "output_type": "stream",
     "text": [
      "Scraping Typhoid Fever...\n",
      "Found 6 sections for Typhoid Fever\n"
     ]
    },
    {
     "name": "stderr",
     "output_type": "stream",
     "text": [
      " 92%|█████████▏| 1337/1452 [28:40<02:20,  1.22s/it]"
     ]
    },
    {
     "name": "stdout",
     "output_type": "stream",
     "text": [
      "Scraping UCE...\n",
      "Found 7 sections for UCE\n"
     ]
    },
    {
     "name": "stderr",
     "output_type": "stream",
     "text": [
      "C:\\Users\\Raj\\AppData\\Local\\Temp\\ipykernel_29048\\2168445501.py:6: FutureWarning: The frame.append method is deprecated and will be removed from pandas in a future version. Use pandas.concat instead.\n",
      "  df = df.append(scrape_page(topic[\"topic\"], topic[\"url\"]), ignore_index=True)\n",
      " 92%|█████████▏| 1338/1452 [28:41<02:19,  1.23s/it]"
     ]
    },
    {
     "name": "stdout",
     "output_type": "stream",
     "text": [
      "Scraping Ulcer, Peptic...\n",
      "Found 9 sections for Ulcer, Peptic\n"
     ]
    },
    {
     "name": "stderr",
     "output_type": "stream",
     "text": [
      "C:\\Users\\Raj\\AppData\\Local\\Temp\\ipykernel_29048\\2168445501.py:6: FutureWarning: The frame.append method is deprecated and will be removed from pandas in a future version. Use pandas.concat instead.\n",
      "  df = df.append(scrape_page(topic[\"topic\"], topic[\"url\"]), ignore_index=True)\n",
      " 92%|█████████▏| 1339/1452 [28:43<02:19,  1.23s/it]"
     ]
    },
    {
     "name": "stdout",
     "output_type": "stream",
     "text": [
      "Scraping ULS (Upper Limb Spascity)...\n"
     ]
    },
    {
     "name": "stderr",
     "output_type": "stream",
     "text": [
      "C:\\Users\\Raj\\AppData\\Local\\Temp\\ipykernel_29048\\2168445501.py:6: FutureWarning: The frame.append method is deprecated and will be removed from pandas in a future version. Use pandas.concat instead.\n",
      "  df = df.append(scrape_page(topic[\"topic\"], topic[\"url\"]), ignore_index=True)\n",
      " 92%|█████████▏| 1340/1452 [28:44<02:19,  1.25s/it]"
     ]
    },
    {
     "name": "stdout",
     "output_type": "stream",
     "text": [
      "Scraping Umbilical Cord Blood Stem Cells...\n",
      "Found 11 sections for Umbilical Cord Blood Stem Cells\n"
     ]
    },
    {
     "name": "stderr",
     "output_type": "stream",
     "text": [
      "C:\\Users\\Raj\\AppData\\Local\\Temp\\ipykernel_29048\\2168445501.py:6: FutureWarning: The frame.append method is deprecated and will be removed from pandas in a future version. Use pandas.concat instead.\n",
      "  df = df.append(scrape_page(topic[\"topic\"], topic[\"url\"]), ignore_index=True)\n",
      " 92%|█████████▏| 1341/1452 [28:45<02:24,  1.30s/it]"
     ]
    },
    {
     "name": "stdout",
     "output_type": "stream",
     "text": [
      "Scraping Umbilical Cord Care...\n",
      "Found 6 sections for Umbilical Cord Care\n"
     ]
    },
    {
     "name": "stderr",
     "output_type": "stream",
     "text": [
      "C:\\Users\\Raj\\AppData\\Local\\Temp\\ipykernel_29048\\2168445501.py:6: FutureWarning: The frame.append method is deprecated and will be removed from pandas in a future version. Use pandas.concat instead.\n",
      "  df = df.append(scrape_page(topic[\"topic\"], topic[\"url\"]), ignore_index=True)\n",
      " 92%|█████████▏| 1342/1452 [28:47<02:21,  1.28s/it]"
     ]
    },
    {
     "name": "stdout",
     "output_type": "stream",
     "text": [
      "Scraping Umbilical Hernia in Children...\n",
      "Found 10 sections for Umbilical Hernia in Children\n"
     ]
    },
    {
     "name": "stderr",
     "output_type": "stream",
     "text": [
      "C:\\Users\\Raj\\AppData\\Local\\Temp\\ipykernel_29048\\2168445501.py:6: FutureWarning: The frame.append method is deprecated and will be removed from pandas in a future version. Use pandas.concat instead.\n",
      "  df = df.append(scrape_page(topic[\"topic\"], topic[\"url\"]), ignore_index=True)\n",
      " 92%|█████████▏| 1343/1452 [28:48<02:19,  1.28s/it]"
     ]
    },
    {
     "name": "stdout",
     "output_type": "stream",
     "text": [
      "Scraping Uncircumcised Penis, Care and Cleaning...\n",
      "Found 4 sections for Uncircumcised Penis, Care and Cleaning\n"
     ]
    },
    {
     "name": "stderr",
     "output_type": "stream",
     "text": [
      "C:\\Users\\Raj\\AppData\\Local\\Temp\\ipykernel_29048\\2168445501.py:6: FutureWarning: The frame.append method is deprecated and will be removed from pandas in a future version. Use pandas.concat instead.\n",
      "  df = df.append(scrape_page(topic[\"topic\"], topic[\"url\"]), ignore_index=True)\n",
      " 93%|█████████▎| 1344/1452 [28:49<02:19,  1.29s/it]"
     ]
    },
    {
     "name": "stdout",
     "output_type": "stream",
     "text": [
      "Scraping Unconjugated Benign Bilirubinemia...\n",
      "Found 6 sections for Unconjugated Benign Bilirubinemia\n"
     ]
    },
    {
     "name": "stderr",
     "output_type": "stream",
     "text": [
      "C:\\Users\\Raj\\AppData\\Local\\Temp\\ipykernel_29048\\2168445501.py:6: FutureWarning: The frame.append method is deprecated and will be removed from pandas in a future version. Use pandas.concat instead.\n",
      "  df = df.append(scrape_page(topic[\"topic\"], topic[\"url\"]), ignore_index=True)\n",
      " 93%|█████████▎| 1345/1452 [28:50<02:17,  1.29s/it]"
     ]
    },
    {
     "name": "stdout",
     "output_type": "stream",
     "text": [
      "Scraping Underactive Thyroid...\n",
      "Found 13 sections for Underactive Thyroid\n"
     ]
    },
    {
     "name": "stderr",
     "output_type": "stream",
     "text": [
      "C:\\Users\\Raj\\AppData\\Local\\Temp\\ipykernel_29048\\2168445501.py:6: FutureWarning: The frame.append method is deprecated and will be removed from pandas in a future version. Use pandas.concat instead.\n",
      "  df = df.append(scrape_page(topic[\"topic\"], topic[\"url\"]), ignore_index=True)\n",
      " 93%|█████████▎| 1346/1452 [28:52<02:15,  1.28s/it]"
     ]
    },
    {
     "name": "stdout",
     "output_type": "stream",
     "text": [
      "Scraping Understanding Lab Test Results...\n",
      "Found 6 sections for Understanding Lab Test Results\n"
     ]
    },
    {
     "name": "stderr",
     "output_type": "stream",
     "text": [
      "C:\\Users\\Raj\\AppData\\Local\\Temp\\ipykernel_29048\\2168445501.py:6: FutureWarning: The frame.append method is deprecated and will be removed from pandas in a future version. Use pandas.concat instead.\n",
      "  df = df.append(scrape_page(topic[\"topic\"], topic[\"url\"]), ignore_index=True)\n",
      " 93%|█████████▎| 1347/1452 [28:53<02:13,  1.27s/it]"
     ]
    },
    {
     "name": "stdout",
     "output_type": "stream",
     "text": [
      "Scraping Undescended Testicle...\n",
      "Found 8 sections for Undescended Testicle\n"
     ]
    },
    {
     "name": "stderr",
     "output_type": "stream",
     "text": [
      "C:\\Users\\Raj\\AppData\\Local\\Temp\\ipykernel_29048\\2168445501.py:6: FutureWarning: The frame.append method is deprecated and will be removed from pandas in a future version. Use pandas.concat instead.\n",
      "  df = df.append(scrape_page(topic[\"topic\"], topic[\"url\"]), ignore_index=True)\n",
      " 93%|█████████▎| 1348/1452 [28:54<02:10,  1.26s/it]"
     ]
    },
    {
     "name": "stdout",
     "output_type": "stream",
     "text": [
      "Scraping Unstable Angina...\n",
      "Found 16 sections for Unstable Angina\n"
     ]
    },
    {
     "name": "stderr",
     "output_type": "stream",
     "text": [
      "C:\\Users\\Raj\\AppData\\Local\\Temp\\ipykernel_29048\\2168445501.py:6: FutureWarning: The frame.append method is deprecated and will be removed from pandas in a future version. Use pandas.concat instead.\n",
      "  df = df.append(scrape_page(topic[\"topic\"], topic[\"url\"]), ignore_index=True)\n",
      " 93%|█████████▎| 1349/1452 [28:55<02:08,  1.25s/it]"
     ]
    },
    {
     "name": "stdout",
     "output_type": "stream",
     "text": [
      "Scraping Unstable Kneecap...\n",
      "Found 17 sections for Unstable Kneecap\n"
     ]
    },
    {
     "name": "stderr",
     "output_type": "stream",
     "text": [
      "C:\\Users\\Raj\\AppData\\Local\\Temp\\ipykernel_29048\\2168445501.py:6: FutureWarning: The frame.append method is deprecated and will be removed from pandas in a future version. Use pandas.concat instead.\n",
      "  df = df.append(scrape_page(topic[\"topic\"], topic[\"url\"]), ignore_index=True)\n",
      " 93%|█████████▎| 1350/1452 [28:57<02:06,  1.24s/it]C:\\Users\\Raj\\AppData\\Local\\Temp\\ipykernel_29048\\2168445501.py:6: FutureWarning: The frame.append method is deprecated and will be removed from pandas in a future version. Use pandas.concat instead.\n",
      "  df = df.append(scrape_page(topic[\"topic\"], topic[\"url\"]), ignore_index=True)\n"
     ]
    },
    {
     "name": "stdout",
     "output_type": "stream",
     "text": [
      "Scraping Urea Cycle Disorders...\n",
      "Found 7 sections for Urea Cycle Disorders\n"
     ]
    },
    {
     "name": "stderr",
     "output_type": "stream",
     "text": [
      " 93%|█████████▎| 1351/1452 [28:58<02:03,  1.22s/it]"
     ]
    },
    {
     "name": "stdout",
     "output_type": "stream",
     "text": [
      "Scraping Urethral Cancer...\n",
      "Found 8 sections for Urethral Cancer\n"
     ]
    },
    {
     "name": "stderr",
     "output_type": "stream",
     "text": [
      "C:\\Users\\Raj\\AppData\\Local\\Temp\\ipykernel_29048\\2168445501.py:6: FutureWarning: The frame.append method is deprecated and will be removed from pandas in a future version. Use pandas.concat instead.\n",
      "  df = df.append(scrape_page(topic[\"topic\"], topic[\"url\"]), ignore_index=True)\n",
      " 93%|█████████▎| 1352/1452 [29:00<02:21,  1.41s/it]"
     ]
    },
    {
     "name": "stdout",
     "output_type": "stream",
     "text": [
      "Scraping Urinary Incontinence in Men...\n",
      "Found 7 sections for Urinary Incontinence in Men\n"
     ]
    },
    {
     "name": "stderr",
     "output_type": "stream",
     "text": [
      "C:\\Users\\Raj\\AppData\\Local\\Temp\\ipykernel_29048\\2168445501.py:6: FutureWarning: The frame.append method is deprecated and will be removed from pandas in a future version. Use pandas.concat instead.\n",
      "  df = df.append(scrape_page(topic[\"topic\"], topic[\"url\"]), ignore_index=True)\n",
      " 93%|█████████▎| 1353/1452 [29:01<02:15,  1.37s/it]"
     ]
    },
    {
     "name": "stdout",
     "output_type": "stream",
     "text": [
      "Scraping Urinary Incontinence in Women...\n",
      "Found 12 sections for Urinary Incontinence in Women\n"
     ]
    },
    {
     "name": "stderr",
     "output_type": "stream",
     "text": [
      "C:\\Users\\Raj\\AppData\\Local\\Temp\\ipykernel_29048\\2168445501.py:6: FutureWarning: The frame.append method is deprecated and will be removed from pandas in a future version. Use pandas.concat instead.\n",
      "  df = df.append(scrape_page(topic[\"topic\"], topic[\"url\"]), ignore_index=True)\n",
      " 93%|█████████▎| 1354/1452 [29:02<02:10,  1.33s/it]"
     ]
    },
    {
     "name": "stdout",
     "output_type": "stream",
     "text": [
      "Scraping Urinary Tract Infections...\n",
      "Found 5 sections for Urinary Tract Infections\n"
     ]
    },
    {
     "name": "stderr",
     "output_type": "stream",
     "text": [
      "C:\\Users\\Raj\\AppData\\Local\\Temp\\ipykernel_29048\\2168445501.py:6: FutureWarning: The frame.append method is deprecated and will be removed from pandas in a future version. Use pandas.concat instead.\n",
      "  df = df.append(scrape_page(topic[\"topic\"], topic[\"url\"]), ignore_index=True)\n",
      " 93%|█████████▎| 1355/1452 [29:03<02:06,  1.30s/it]"
     ]
    },
    {
     "name": "stdout",
     "output_type": "stream",
     "text": [
      "Scraping Urticaria...\n",
      "Found 8 sections for Urticaria\n"
     ]
    },
    {
     "name": "stderr",
     "output_type": "stream",
     "text": [
      "C:\\Users\\Raj\\AppData\\Local\\Temp\\ipykernel_29048\\2168445501.py:6: FutureWarning: The frame.append method is deprecated and will be removed from pandas in a future version. Use pandas.concat instead.\n",
      "  df = df.append(scrape_page(topic[\"topic\"], topic[\"url\"]), ignore_index=True)\n",
      " 93%|█████████▎| 1356/1452 [29:05<02:03,  1.28s/it]"
     ]
    },
    {
     "name": "stdout",
     "output_type": "stream",
     "text": [
      "Scraping Uterine Bleeding...\n",
      "Found 8 sections for Uterine Bleeding\n"
     ]
    },
    {
     "name": "stderr",
     "output_type": "stream",
     "text": [
      "C:\\Users\\Raj\\AppData\\Local\\Temp\\ipykernel_29048\\2168445501.py:6: FutureWarning: The frame.append method is deprecated and will be removed from pandas in a future version. Use pandas.concat instead.\n",
      "  df = df.append(scrape_page(topic[\"topic\"], topic[\"url\"]), ignore_index=True)\n",
      " 93%|█████████▎| 1357/1452 [29:06<02:01,  1.28s/it]"
     ]
    },
    {
     "name": "stdout",
     "output_type": "stream",
     "text": [
      "Scraping Uterine Cancer...\n",
      "Found 9 sections for Uterine Cancer\n"
     ]
    },
    {
     "name": "stderr",
     "output_type": "stream",
     "text": [
      "C:\\Users\\Raj\\AppData\\Local\\Temp\\ipykernel_29048\\2168445501.py:6: FutureWarning: The frame.append method is deprecated and will be removed from pandas in a future version. Use pandas.concat instead.\n",
      "  df = df.append(scrape_page(topic[\"topic\"], topic[\"url\"]), ignore_index=True)\n",
      " 94%|█████████▎| 1358/1452 [29:07<02:00,  1.28s/it]"
     ]
    },
    {
     "name": "stdout",
     "output_type": "stream",
     "text": [
      "Scraping Uterine Fibroids...\n",
      "Found 7 sections for Uterine Fibroids\n"
     ]
    },
    {
     "name": "stderr",
     "output_type": "stream",
     "text": [
      "C:\\Users\\Raj\\AppData\\Local\\Temp\\ipykernel_29048\\2168445501.py:6: FutureWarning: The frame.append method is deprecated and will be removed from pandas in a future version. Use pandas.concat instead.\n",
      "  df = df.append(scrape_page(topic[\"topic\"], topic[\"url\"]), ignore_index=True)\n",
      " 94%|█████████▎| 1359/1452 [29:08<01:58,  1.28s/it]"
     ]
    },
    {
     "name": "stdout",
     "output_type": "stream",
     "text": [
      "Scraping Uveitis...\n",
      "Found 8 sections for Uveitis\n"
     ]
    },
    {
     "name": "stderr",
     "output_type": "stream",
     "text": [
      "C:\\Users\\Raj\\AppData\\Local\\Temp\\ipykernel_29048\\2168445501.py:6: FutureWarning: The frame.append method is deprecated and will be removed from pandas in a future version. Use pandas.concat instead.\n",
      "  df = df.append(scrape_page(topic[\"topic\"], topic[\"url\"]), ignore_index=True)\n",
      " 94%|█████████▎| 1360/1452 [29:10<01:56,  1.26s/it]"
     ]
    },
    {
     "name": "stdout",
     "output_type": "stream",
     "text": [
      "Scraping Vaccinations...\n",
      "Found 10 sections for Vaccinations\n"
     ]
    },
    {
     "name": "stderr",
     "output_type": "stream",
     "text": [
      "C:\\Users\\Raj\\AppData\\Local\\Temp\\ipykernel_29048\\2168445501.py:6: FutureWarning: The frame.append method is deprecated and will be removed from pandas in a future version. Use pandas.concat instead.\n",
      "  df = df.append(scrape_page(topic[\"topic\"], topic[\"url\"]), ignore_index=True)\n",
      " 94%|█████████▎| 1361/1452 [29:11<01:54,  1.26s/it]"
     ]
    },
    {
     "name": "stdout",
     "output_type": "stream",
     "text": [
      "Scraping Vaginal Birth After Cesarean (VBAC)...\n",
      "Found 6 sections for Vaginal Birth After Cesarean (VBAC)\n"
     ]
    },
    {
     "name": "stderr",
     "output_type": "stream",
     "text": [
      "C:\\Users\\Raj\\AppData\\Local\\Temp\\ipykernel_29048\\2168445501.py:6: FutureWarning: The frame.append method is deprecated and will be removed from pandas in a future version. Use pandas.concat instead.\n",
      "  df = df.append(scrape_page(topic[\"topic\"], topic[\"url\"]), ignore_index=True)\n",
      " 94%|█████████▍| 1362/1452 [29:12<01:52,  1.25s/it]"
     ]
    },
    {
     "name": "stdout",
     "output_type": "stream",
     "text": [
      "Scraping Vaginal Cancer...\n",
      "Found 11 sections for Vaginal Cancer\n"
     ]
    },
    {
     "name": "stderr",
     "output_type": "stream",
     "text": [
      "C:\\Users\\Raj\\AppData\\Local\\Temp\\ipykernel_29048\\2168445501.py:6: FutureWarning: The frame.append method is deprecated and will be removed from pandas in a future version. Use pandas.concat instead.\n",
      "  df = df.append(scrape_page(topic[\"topic\"], topic[\"url\"]), ignore_index=True)\n",
      " 94%|█████████▍| 1363/1452 [29:13<01:51,  1.25s/it]"
     ]
    },
    {
     "name": "stdout",
     "output_type": "stream",
     "text": [
      "Scraping Vaginal Discharge...\n",
      "Found 10 sections for Vaginal Discharge\n"
     ]
    },
    {
     "name": "stderr",
     "output_type": "stream",
     "text": [
      "C:\\Users\\Raj\\AppData\\Local\\Temp\\ipykernel_29048\\2168445501.py:6: FutureWarning: The frame.append method is deprecated and will be removed from pandas in a future version. Use pandas.concat instead.\n",
      "  df = df.append(scrape_page(topic[\"topic\"], topic[\"url\"]), ignore_index=True)\n",
      " 94%|█████████▍| 1364/1452 [29:15<01:49,  1.25s/it]"
     ]
    },
    {
     "name": "stdout",
     "output_type": "stream",
     "text": [
      "Scraping Vaginal Yeast Infections...\n",
      "Found 6 sections for Vaginal Yeast Infections\n"
     ]
    },
    {
     "name": "stderr",
     "output_type": "stream",
     "text": [
      "C:\\Users\\Raj\\AppData\\Local\\Temp\\ipykernel_29048\\2168445501.py:6: FutureWarning: The frame.append method is deprecated and will be removed from pandas in a future version. Use pandas.concat instead.\n",
      "  df = df.append(scrape_page(topic[\"topic\"], topic[\"url\"]), ignore_index=True)\n",
      " 94%|█████████▍| 1365/1452 [29:16<01:48,  1.24s/it]"
     ]
    },
    {
     "name": "stdout",
     "output_type": "stream",
     "text": [
      "Scraping Vaginitis...\n",
      "Found 10 sections for Vaginitis\n"
     ]
    },
    {
     "name": "stderr",
     "output_type": "stream",
     "text": [
      "C:\\Users\\Raj\\AppData\\Local\\Temp\\ipykernel_29048\\2168445501.py:6: FutureWarning: The frame.append method is deprecated and will be removed from pandas in a future version. Use pandas.concat instead.\n",
      "  df = df.append(scrape_page(topic[\"topic\"], topic[\"url\"]), ignore_index=True)\n",
      " 94%|█████████▍| 1366/1452 [29:17<01:48,  1.26s/it]"
     ]
    },
    {
     "name": "stdout",
     "output_type": "stream",
     "text": [
      "Scraping Valerian...\n",
      "Found 5 sections for Valerian\n"
     ]
    },
    {
     "name": "stderr",
     "output_type": "stream",
     "text": [
      "C:\\Users\\Raj\\AppData\\Local\\Temp\\ipykernel_29048\\2168445501.py:6: FutureWarning: The frame.append method is deprecated and will be removed from pandas in a future version. Use pandas.concat instead.\n",
      "  df = df.append(scrape_page(topic[\"topic\"], topic[\"url\"]), ignore_index=True)\n",
      " 94%|█████████▍| 1367/1452 [29:18<01:46,  1.25s/it]"
     ]
    },
    {
     "name": "stdout",
     "output_type": "stream",
     "text": [
      "Scraping Valgus Calcaneus...\n",
      "Found 6 sections for Valgus Calcaneus\n"
     ]
    },
    {
     "name": "stderr",
     "output_type": "stream",
     "text": [
      "C:\\Users\\Raj\\AppData\\Local\\Temp\\ipykernel_29048\\2168445501.py:6: FutureWarning: The frame.append method is deprecated and will be removed from pandas in a future version. Use pandas.concat instead.\n",
      "  df = df.append(scrape_page(topic[\"topic\"], topic[\"url\"]), ignore_index=True)\n",
      " 94%|█████████▍| 1368/1452 [29:20<01:44,  1.25s/it]"
     ]
    },
    {
     "name": "stdout",
     "output_type": "stream",
     "text": [
      "Scraping Van Buren's Disease...\n",
      "Found 12 sections for Van Buren's Disease\n"
     ]
    },
    {
     "name": "stderr",
     "output_type": "stream",
     "text": [
      "C:\\Users\\Raj\\AppData\\Local\\Temp\\ipykernel_29048\\2168445501.py:6: FutureWarning: The frame.append method is deprecated and will be removed from pandas in a future version. Use pandas.concat instead.\n",
      "  df = df.append(scrape_page(topic[\"topic\"], topic[\"url\"]), ignore_index=True)\n",
      " 94%|█████████▍| 1369/1452 [29:21<01:42,  1.24s/it]"
     ]
    },
    {
     "name": "stdout",
     "output_type": "stream",
     "text": [
      "Scraping Van Lohuizen Syndrome...\n",
      "Found 7 sections for Van Lohuizen Syndrome\n"
     ]
    },
    {
     "name": "stderr",
     "output_type": "stream",
     "text": [
      "C:\\Users\\Raj\\AppData\\Local\\Temp\\ipykernel_29048\\2168445501.py:6: FutureWarning: The frame.append method is deprecated and will be removed from pandas in a future version. Use pandas.concat instead.\n",
      "  df = df.append(scrape_page(topic[\"topic\"], topic[\"url\"]), ignore_index=True)\n",
      " 94%|█████████▍| 1370/1452 [29:22<01:41,  1.24s/it]"
     ]
    },
    {
     "name": "stdout",
     "output_type": "stream",
     "text": [
      "Scraping Vancomycin-Resistant Enterococci (VRE)...\n",
      "Found 4 sections for Vancomycin-Resistant Enterococci (VRE)\n"
     ]
    },
    {
     "name": "stderr",
     "output_type": "stream",
     "text": [
      "C:\\Users\\Raj\\AppData\\Local\\Temp\\ipykernel_29048\\2168445501.py:6: FutureWarning: The frame.append method is deprecated and will be removed from pandas in a future version. Use pandas.concat instead.\n",
      "  df = df.append(scrape_page(topic[\"topic\"], topic[\"url\"]), ignore_index=True)\n",
      " 94%|█████████▍| 1371/1452 [29:23<01:40,  1.25s/it]"
     ]
    },
    {
     "name": "stdout",
     "output_type": "stream",
     "text": [
      "Scraping Varicella Embryopathy...\n",
      "Found 5 sections for Varicella Embryopathy\n"
     ]
    },
    {
     "name": "stderr",
     "output_type": "stream",
     "text": [
      "C:\\Users\\Raj\\AppData\\Local\\Temp\\ipykernel_29048\\2168445501.py:6: FutureWarning: The frame.append method is deprecated and will be removed from pandas in a future version. Use pandas.concat instead.\n",
      "  df = df.append(scrape_page(topic[\"topic\"], topic[\"url\"]), ignore_index=True)\n",
      " 94%|█████████▍| 1372/1452 [29:25<01:39,  1.24s/it]"
     ]
    },
    {
     "name": "stdout",
     "output_type": "stream",
     "text": [
      "Scraping Varicose Veins...\n",
      "Found 3 sections for Varicose Veins\n"
     ]
    },
    {
     "name": "stderr",
     "output_type": "stream",
     "text": [
      "C:\\Users\\Raj\\AppData\\Local\\Temp\\ipykernel_29048\\2168445501.py:6: FutureWarning: The frame.append method is deprecated and will be removed from pandas in a future version. Use pandas.concat instead.\n",
      "  df = df.append(scrape_page(topic[\"topic\"], topic[\"url\"]), ignore_index=True)\n",
      " 95%|█████████▍| 1373/1452 [29:26<01:38,  1.24s/it]"
     ]
    },
    {
     "name": "stdout",
     "output_type": "stream",
     "text": [
      "Scraping Variola Virus...\n",
      "Found 10 sections for Variola Virus\n"
     ]
    },
    {
     "name": "stderr",
     "output_type": "stream",
     "text": [
      "C:\\Users\\Raj\\AppData\\Local\\Temp\\ipykernel_29048\\2168445501.py:6: FutureWarning: The frame.append method is deprecated and will be removed from pandas in a future version. Use pandas.concat instead.\n",
      "  df = df.append(scrape_page(topic[\"topic\"], topic[\"url\"]), ignore_index=True)\n",
      " 95%|█████████▍| 1374/1452 [29:27<01:37,  1.25s/it]C:\\Users\\Raj\\AppData\\Local\\Temp\\ipykernel_29048\\2168445501.py:6: FutureWarning: The frame.append method is deprecated and will be removed from pandas in a future version. Use pandas.concat instead.\n",
      "  df = df.append(scrape_page(topic[\"topic\"], topic[\"url\"]), ignore_index=True)\n"
     ]
    },
    {
     "name": "stdout",
     "output_type": "stream",
     "text": [
      "Scraping Varioliform Gastritis...\n",
      "Found 6 sections for Varioliform Gastritis\n"
     ]
    },
    {
     "name": "stderr",
     "output_type": "stream",
     "text": [
      " 95%|█████████▍| 1375/1452 [29:28<01:35,  1.24s/it]"
     ]
    },
    {
     "name": "stdout",
     "output_type": "stream",
     "text": [
      "Scraping Vascular Access Device...\n",
      "Found 7 sections for Vascular Access Device\n"
     ]
    },
    {
     "name": "stderr",
     "output_type": "stream",
     "text": [
      "C:\\Users\\Raj\\AppData\\Local\\Temp\\ipykernel_29048\\2168445501.py:6: FutureWarning: The frame.append method is deprecated and will be removed from pandas in a future version. Use pandas.concat instead.\n",
      "  df = df.append(scrape_page(topic[\"topic\"], topic[\"url\"]), ignore_index=True)\n",
      " 95%|█████████▍| 1376/1452 [29:30<01:34,  1.24s/it]"
     ]
    },
    {
     "name": "stdout",
     "output_type": "stream",
     "text": [
      "Scraping Vascular Dementia...\n",
      "Found 8 sections for Vascular Dementia\n"
     ]
    },
    {
     "name": "stderr",
     "output_type": "stream",
     "text": [
      "C:\\Users\\Raj\\AppData\\Local\\Temp\\ipykernel_29048\\2168445501.py:6: FutureWarning: The frame.append method is deprecated and will be removed from pandas in a future version. Use pandas.concat instead.\n",
      "  df = df.append(scrape_page(topic[\"topic\"], topic[\"url\"]), ignore_index=True)\n",
      " 95%|█████████▍| 1377/1452 [29:31<01:33,  1.24s/it]"
     ]
    },
    {
     "name": "stdout",
     "output_type": "stream",
     "text": [
      "Scraping Vascular Malformations of the Brain...\n",
      "Found 9 sections for Vascular Malformations of the Brain\n"
     ]
    },
    {
     "name": "stderr",
     "output_type": "stream",
     "text": [
      "C:\\Users\\Raj\\AppData\\Local\\Temp\\ipykernel_29048\\2168445501.py:6: FutureWarning: The frame.append method is deprecated and will be removed from pandas in a future version. Use pandas.concat instead.\n",
      "  df = df.append(scrape_page(topic[\"topic\"], topic[\"url\"]), ignore_index=True)\n",
      " 95%|█████████▍| 1378/1452 [29:32<01:32,  1.24s/it]"
     ]
    },
    {
     "name": "stdout",
     "output_type": "stream",
     "text": [
      "Scraping Vasculitis...\n",
      "Found 9 sections for Vasculitis\n"
     ]
    },
    {
     "name": "stderr",
     "output_type": "stream",
     "text": [
      "C:\\Users\\Raj\\AppData\\Local\\Temp\\ipykernel_29048\\2168445501.py:6: FutureWarning: The frame.append method is deprecated and will be removed from pandas in a future version. Use pandas.concat instead.\n",
      "  df = df.append(scrape_page(topic[\"topic\"], topic[\"url\"]), ignore_index=True)\n",
      " 95%|█████████▍| 1379/1452 [29:33<01:31,  1.25s/it]"
     ]
    },
    {
     "name": "stdout",
     "output_type": "stream",
     "text": [
      "Scraping Venous Skin Ulcer...\n",
      "Found 8 sections for Venous Skin Ulcer\n"
     ]
    },
    {
     "name": "stderr",
     "output_type": "stream",
     "text": [
      "C:\\Users\\Raj\\AppData\\Local\\Temp\\ipykernel_29048\\2168445501.py:6: FutureWarning: The frame.append method is deprecated and will be removed from pandas in a future version. Use pandas.concat instead.\n",
      "  df = df.append(scrape_page(topic[\"topic\"], topic[\"url\"]), ignore_index=True)\n",
      " 95%|█████████▌| 1380/1452 [29:35<01:30,  1.25s/it]"
     ]
    },
    {
     "name": "stdout",
     "output_type": "stream",
     "text": [
      "Scraping Ventricular Septal Defects...\n",
      "Found 17 sections for Ventricular Septal Defects\n"
     ]
    },
    {
     "name": "stderr",
     "output_type": "stream",
     "text": [
      "C:\\Users\\Raj\\AppData\\Local\\Temp\\ipykernel_29048\\2168445501.py:6: FutureWarning: The frame.append method is deprecated and will be removed from pandas in a future version. Use pandas.concat instead.\n",
      "  df = df.append(scrape_page(topic[\"topic\"], topic[\"url\"]), ignore_index=True)\n",
      " 95%|█████████▌| 1381/1452 [29:36<01:28,  1.25s/it]"
     ]
    },
    {
     "name": "stdout",
     "output_type": "stream",
     "text": [
      "Scraping Ventricular Tachycardia...\n",
      "Found 7 sections for Ventricular Tachycardia\n"
     ]
    },
    {
     "name": "stderr",
     "output_type": "stream",
     "text": [
      "C:\\Users\\Raj\\AppData\\Local\\Temp\\ipykernel_29048\\2168445501.py:6: FutureWarning: The frame.append method is deprecated and will be removed from pandas in a future version. Use pandas.concat instead.\n",
      "  df = df.append(scrape_page(topic[\"topic\"], topic[\"url\"]), ignore_index=True)\n",
      " 95%|█████████▌| 1382/1452 [29:37<01:27,  1.25s/it]"
     ]
    },
    {
     "name": "stdout",
     "output_type": "stream",
     "text": [
      "Scraping Verruca...\n",
      "Found 8 sections for Verruca\n"
     ]
    },
    {
     "name": "stderr",
     "output_type": "stream",
     "text": [
      "C:\\Users\\Raj\\AppData\\Local\\Temp\\ipykernel_29048\\2168445501.py:6: FutureWarning: The frame.append method is deprecated and will be removed from pandas in a future version. Use pandas.concat instead.\n",
      "  df = df.append(scrape_page(topic[\"topic\"], topic[\"url\"]), ignore_index=True)\n",
      " 95%|█████████▌| 1383/1452 [29:38<01:25,  1.24s/it]"
     ]
    },
    {
     "name": "stdout",
     "output_type": "stream",
     "text": [
      "Scraping Vertigo...\n",
      "Found 10 sections for Vertigo\n"
     ]
    },
    {
     "name": "stderr",
     "output_type": "stream",
     "text": [
      "C:\\Users\\Raj\\AppData\\Local\\Temp\\ipykernel_29048\\2168445501.py:6: FutureWarning: The frame.append method is deprecated and will be removed from pandas in a future version. Use pandas.concat instead.\n",
      "  df = df.append(scrape_page(topic[\"topic\"], topic[\"url\"]), ignore_index=True)\n",
      " 95%|█████████▌| 1384/1452 [29:40<01:24,  1.24s/it]"
     ]
    },
    {
     "name": "stdout",
     "output_type": "stream",
     "text": [
      "Scraping Video Game Addiction...\n",
      "Found 5 sections for Video Game Addiction\n"
     ]
    },
    {
     "name": "stderr",
     "output_type": "stream",
     "text": [
      "C:\\Users\\Raj\\AppData\\Local\\Temp\\ipykernel_29048\\2168445501.py:6: FutureWarning: The frame.append method is deprecated and will be removed from pandas in a future version. Use pandas.concat instead.\n",
      "  df = df.append(scrape_page(topic[\"topic\"], topic[\"url\"]), ignore_index=True)\n",
      " 95%|█████████▌| 1385/1452 [29:41<01:22,  1.24s/it]"
     ]
    },
    {
     "name": "stdout",
     "output_type": "stream",
     "text": [
      "Scraping Viral Gastroenteritis...\n",
      "Found 8 sections for Viral Gastroenteritis\n"
     ]
    },
    {
     "name": "stderr",
     "output_type": "stream",
     "text": [
      "C:\\Users\\Raj\\AppData\\Local\\Temp\\ipykernel_29048\\2168445501.py:6: FutureWarning: The frame.append method is deprecated and will be removed from pandas in a future version. Use pandas.concat instead.\n",
      "  df = df.append(scrape_page(topic[\"topic\"], topic[\"url\"]), ignore_index=True)\n",
      " 95%|█████████▌| 1386/1452 [29:42<01:21,  1.24s/it]"
     ]
    },
    {
     "name": "stdout",
     "output_type": "stream",
     "text": [
      "Scraping Viral Meningitis...\n",
      "Found 13 sections for Viral Meningitis\n"
     ]
    },
    {
     "name": "stderr",
     "output_type": "stream",
     "text": [
      "C:\\Users\\Raj\\AppData\\Local\\Temp\\ipykernel_29048\\2168445501.py:6: FutureWarning: The frame.append method is deprecated and will be removed from pandas in a future version. Use pandas.concat instead.\n",
      "  df = df.append(scrape_page(topic[\"topic\"], topic[\"url\"]), ignore_index=True)\n",
      " 96%|█████████▌| 1387/1452 [29:43<01:20,  1.24s/it]"
     ]
    },
    {
     "name": "stdout",
     "output_type": "stream",
     "text": [
      "Scraping Virtual Colonoscopy...\n",
      "Found 8 sections for Virtual Colonoscopy\n"
     ]
    },
    {
     "name": "stderr",
     "output_type": "stream",
     "text": [
      "C:\\Users\\Raj\\AppData\\Local\\Temp\\ipykernel_29048\\2168445501.py:6: FutureWarning: The frame.append method is deprecated and will be removed from pandas in a future version. Use pandas.concat instead.\n",
      "  df = df.append(scrape_page(topic[\"topic\"], topic[\"url\"]), ignore_index=True)\n",
      " 96%|█████████▌| 1388/1452 [29:44<01:19,  1.24s/it]"
     ]
    },
    {
     "name": "stdout",
     "output_type": "stream",
     "text": [
      "Scraping Vitamin B12 Deficiency Anemia...\n",
      "Found 5 sections for Vitamin B12 Deficiency Anemia\n"
     ]
    },
    {
     "name": "stderr",
     "output_type": "stream",
     "text": [
      "C:\\Users\\Raj\\AppData\\Local\\Temp\\ipykernel_29048\\2168445501.py:6: FutureWarning: The frame.append method is deprecated and will be removed from pandas in a future version. Use pandas.concat instead.\n",
      "  df = df.append(scrape_page(topic[\"topic\"], topic[\"url\"]), ignore_index=True)\n",
      " 96%|█████████▌| 1389/1452 [29:46<01:19,  1.26s/it]"
     ]
    },
    {
     "name": "stdout",
     "output_type": "stream",
     "text": [
      "Scraping Vitamin-D Deficiency Rickets...\n",
      "Found 7 sections for Vitamin-D Deficiency Rickets\n"
     ]
    },
    {
     "name": "stderr",
     "output_type": "stream",
     "text": [
      "C:\\Users\\Raj\\AppData\\Local\\Temp\\ipykernel_29048\\2168445501.py:6: FutureWarning: The frame.append method is deprecated and will be removed from pandas in a future version. Use pandas.concat instead.\n",
      "  df = df.append(scrape_page(topic[\"topic\"], topic[\"url\"]), ignore_index=True)\n",
      " 96%|█████████▌| 1390/1452 [29:47<01:17,  1.25s/it]C:\\Users\\Raj\\AppData\\Local\\Temp\\ipykernel_29048\\2168445501.py:6: FutureWarning: The frame.append method is deprecated and will be removed from pandas in a future version. Use pandas.concat instead.\n",
      "  df = df.append(scrape_page(topic[\"topic\"], topic[\"url\"]), ignore_index=True)\n"
     ]
    },
    {
     "name": "stdout",
     "output_type": "stream",
     "text": [
      "Scraping Vitiligo...\n",
      "Found 13 sections for Vitiligo\n"
     ]
    },
    {
     "name": "stderr",
     "output_type": "stream",
     "text": [
      " 96%|█████████▌| 1391/1452 [29:48<01:15,  1.25s/it]"
     ]
    },
    {
     "name": "stdout",
     "output_type": "stream",
     "text": [
      "Scraping Voice Problems...\n",
      "Found 13 sections for Voice Problems\n"
     ]
    },
    {
     "name": "stderr",
     "output_type": "stream",
     "text": [
      "C:\\Users\\Raj\\AppData\\Local\\Temp\\ipykernel_29048\\2168445501.py:6: FutureWarning: The frame.append method is deprecated and will be removed from pandas in a future version. Use pandas.concat instead.\n",
      "  df = df.append(scrape_page(topic[\"topic\"], topic[\"url\"]), ignore_index=True)\n",
      " 96%|█████████▌| 1392/1452 [29:50<01:14,  1.25s/it]C:\\Users\\Raj\\AppData\\Local\\Temp\\ipykernel_29048\\2168445501.py:6: FutureWarning: The frame.append method is deprecated and will be removed from pandas in a future version. Use pandas.concat instead.\n",
      "  df = df.append(scrape_page(topic[\"topic\"], topic[\"url\"]), ignore_index=True)\n"
     ]
    },
    {
     "name": "stdout",
     "output_type": "stream",
     "text": [
      "Scraping Von Recklinghausen's Neurofibromatosis...\n",
      "Found 9 sections for Von Recklinghausen's Neurofibromatosis\n"
     ]
    },
    {
     "name": "stderr",
     "output_type": "stream",
     "text": [
      " 96%|█████████▌| 1393/1452 [29:51<01:13,  1.24s/it]"
     ]
    },
    {
     "name": "stdout",
     "output_type": "stream",
     "text": [
      "Scraping Von Willebrand's Disease...\n",
      "Found 9 sections for Von Willebrand's Disease\n"
     ]
    },
    {
     "name": "stderr",
     "output_type": "stream",
     "text": [
      "C:\\Users\\Raj\\AppData\\Local\\Temp\\ipykernel_29048\\2168445501.py:6: FutureWarning: The frame.append method is deprecated and will be removed from pandas in a future version. Use pandas.concat instead.\n",
      "  df = df.append(scrape_page(topic[\"topic\"], topic[\"url\"]), ignore_index=True)\n",
      " 96%|█████████▌| 1394/1452 [29:52<01:11,  1.24s/it]C:\\Users\\Raj\\AppData\\Local\\Temp\\ipykernel_29048\\2168445501.py:6: FutureWarning: The frame.append method is deprecated and will be removed from pandas in a future version. Use pandas.concat instead.\n",
      "  df = df.append(scrape_page(topic[\"topic\"], topic[\"url\"]), ignore_index=True)\n"
     ]
    },
    {
     "name": "stdout",
     "output_type": "stream",
     "text": [
      "Scraping VSD...\n",
      "Found 17 sections for VSD\n"
     ]
    },
    {
     "name": "stderr",
     "output_type": "stream",
     "text": [
      " 96%|█████████▌| 1395/1452 [29:53<01:09,  1.23s/it]"
     ]
    },
    {
     "name": "stdout",
     "output_type": "stream",
     "text": [
      "Scraping Vulvar Cancer...\n",
      "Found 12 sections for Vulvar Cancer\n"
     ]
    },
    {
     "name": "stderr",
     "output_type": "stream",
     "text": [
      "C:\\Users\\Raj\\AppData\\Local\\Temp\\ipykernel_29048\\2168445501.py:6: FutureWarning: The frame.append method is deprecated and will be removed from pandas in a future version. Use pandas.concat instead.\n",
      "  df = df.append(scrape_page(topic[\"topic\"], topic[\"url\"]), ignore_index=True)\n",
      " 96%|█████████▌| 1396/1452 [29:54<01:08,  1.23s/it]"
     ]
    },
    {
     "name": "stdout",
     "output_type": "stream",
     "text": [
      "Scraping Waldenstrom's Macroglobulinemia...\n",
      "Found 15 sections for Waldenstrom's Macroglobulinemia\n"
     ]
    },
    {
     "name": "stderr",
     "output_type": "stream",
     "text": [
      "C:\\Users\\Raj\\AppData\\Local\\Temp\\ipykernel_29048\\2168445501.py:6: FutureWarning: The frame.append method is deprecated and will be removed from pandas in a future version. Use pandas.concat instead.\n",
      "  df = df.append(scrape_page(topic[\"topic\"], topic[\"url\"]), ignore_index=True)\n",
      " 96%|█████████▌| 1397/1452 [29:56<01:08,  1.24s/it]"
     ]
    },
    {
     "name": "stdout",
     "output_type": "stream",
     "text": [
      "Scraping Wandering Rash Tongue...\n",
      "Found 6 sections for Wandering Rash Tongue\n"
     ]
    },
    {
     "name": "stderr",
     "output_type": "stream",
     "text": [
      "C:\\Users\\Raj\\AppData\\Local\\Temp\\ipykernel_29048\\2168445501.py:6: FutureWarning: The frame.append method is deprecated and will be removed from pandas in a future version. Use pandas.concat instead.\n",
      "  df = df.append(scrape_page(topic[\"topic\"], topic[\"url\"]), ignore_index=True)\n",
      " 96%|█████████▋| 1398/1452 [29:57<01:06,  1.23s/it]C:\\Users\\Raj\\AppData\\Local\\Temp\\ipykernel_29048\\2168445501.py:6: FutureWarning: The frame.append method is deprecated and will be removed from pandas in a future version. Use pandas.concat instead.\n",
      "  df = df.append(scrape_page(topic[\"topic\"], topic[\"url\"]), ignore_index=True)\n"
     ]
    },
    {
     "name": "stdout",
     "output_type": "stream",
     "text": [
      "Scraping Warts and Plantar Warts...\n",
      "Found 4 sections for Warts and Plantar Warts\n"
     ]
    },
    {
     "name": "stderr",
     "output_type": "stream",
     "text": [
      " 96%|█████████▋| 1399/1452 [29:58<01:05,  1.23s/it]"
     ]
    },
    {
     "name": "stdout",
     "output_type": "stream",
     "text": [
      "Scraping Warts, Genital (Human Papillomavirus)...\n",
      "Found 5 sections for Warts, Genital (Human Papillomavirus)\n"
     ]
    },
    {
     "name": "stderr",
     "output_type": "stream",
     "text": [
      "C:\\Users\\Raj\\AppData\\Local\\Temp\\ipykernel_29048\\2168445501.py:6: FutureWarning: The frame.append method is deprecated and will be removed from pandas in a future version. Use pandas.concat instead.\n",
      "  df = df.append(scrape_page(topic[\"topic\"], topic[\"url\"]), ignore_index=True)\n",
      " 96%|█████████▋| 1400/1452 [29:59<01:04,  1.25s/it]"
     ]
    },
    {
     "name": "stdout",
     "output_type": "stream",
     "text": [
      "Scraping Water on the Brain (Hydrocephalus)...\n",
      "Found 16 sections for Water on the Brain (Hydrocephalus)\n"
     ]
    },
    {
     "name": "stderr",
     "output_type": "stream",
     "text": [
      "C:\\Users\\Raj\\AppData\\Local\\Temp\\ipykernel_29048\\2168445501.py:6: FutureWarning: The frame.append method is deprecated and will be removed from pandas in a future version. Use pandas.concat instead.\n",
      "  df = df.append(scrape_page(topic[\"topic\"], topic[\"url\"]), ignore_index=True)\n",
      " 96%|█████████▋| 1401/1452 [30:01<01:03,  1.25s/it]"
     ]
    },
    {
     "name": "stdout",
     "output_type": "stream",
     "text": [
      "Scraping WBS...\n",
      "Found 14 sections for WBS\n"
     ]
    },
    {
     "name": "stderr",
     "output_type": "stream",
     "text": [
      "C:\\Users\\Raj\\AppData\\Local\\Temp\\ipykernel_29048\\2168445501.py:6: FutureWarning: The frame.append method is deprecated and will be removed from pandas in a future version. Use pandas.concat instead.\n",
      "  df = df.append(scrape_page(topic[\"topic\"], topic[\"url\"]), ignore_index=True)\n",
      " 97%|█████████▋| 1402/1452 [30:02<01:02,  1.25s/it]"
     ]
    },
    {
     "name": "stdout",
     "output_type": "stream",
     "text": [
      "Scraping Weaning...\n",
      "Found 7 sections for Weaning\n"
     ]
    },
    {
     "name": "stderr",
     "output_type": "stream",
     "text": [
      "C:\\Users\\Raj\\AppData\\Local\\Temp\\ipykernel_29048\\2168445501.py:6: FutureWarning: The frame.append method is deprecated and will be removed from pandas in a future version. Use pandas.concat instead.\n",
      "  df = df.append(scrape_page(topic[\"topic\"], topic[\"url\"]), ignore_index=True)\n",
      " 97%|█████████▋| 1403/1452 [30:03<01:01,  1.25s/it]"
     ]
    },
    {
     "name": "stdout",
     "output_type": "stream",
     "text": [
      "Scraping Weight Management...\n",
      "Found 6 sections for Weight Management\n"
     ]
    },
    {
     "name": "stderr",
     "output_type": "stream",
     "text": [
      "C:\\Users\\Raj\\AppData\\Local\\Temp\\ipykernel_29048\\2168445501.py:6: FutureWarning: The frame.append method is deprecated and will be removed from pandas in a future version. Use pandas.concat instead.\n",
      "  df = df.append(scrape_page(topic[\"topic\"], topic[\"url\"]), ignore_index=True)\n",
      " 97%|█████████▋| 1404/1452 [30:04<00:59,  1.24s/it]"
     ]
    },
    {
     "name": "stdout",
     "output_type": "stream",
     "text": [
      "Scraping Weir-Mitchell Disease...\n",
      "Found 6 sections for Weir-Mitchell Disease\n"
     ]
    },
    {
     "name": "stderr",
     "output_type": "stream",
     "text": [
      "C:\\Users\\Raj\\AppData\\Local\\Temp\\ipykernel_29048\\2168445501.py:6: FutureWarning: The frame.append method is deprecated and will be removed from pandas in a future version. Use pandas.concat instead.\n",
      "  df = df.append(scrape_page(topic[\"topic\"], topic[\"url\"]), ignore_index=True)\n",
      " 97%|█████████▋| 1405/1452 [30:06<00:58,  1.24s/it]"
     ]
    },
    {
     "name": "stdout",
     "output_type": "stream",
     "text": [
      "Scraping Wells' Syndrome...\n",
      "Found 10 sections for Wells' Syndrome\n"
     ]
    },
    {
     "name": "stderr",
     "output_type": "stream",
     "text": [
      "C:\\Users\\Raj\\AppData\\Local\\Temp\\ipykernel_29048\\2168445501.py:6: FutureWarning: The frame.append method is deprecated and will be removed from pandas in a future version. Use pandas.concat instead.\n",
      "  df = df.append(scrape_page(topic[\"topic\"], topic[\"url\"]), ignore_index=True)\n",
      " 97%|█████████▋| 1406/1452 [30:07<00:57,  1.24s/it]"
     ]
    },
    {
     "name": "stdout",
     "output_type": "stream",
     "text": [
      "Scraping Werlhof Disease...\n",
      "Found 5 sections for Werlhof Disease\n"
     ]
    },
    {
     "name": "stderr",
     "output_type": "stream",
     "text": [
      "C:\\Users\\Raj\\AppData\\Local\\Temp\\ipykernel_29048\\2168445501.py:6: FutureWarning: The frame.append method is deprecated and will be removed from pandas in a future version. Use pandas.concat instead.\n",
      "  df = df.append(scrape_page(topic[\"topic\"], topic[\"url\"]), ignore_index=True)\n",
      " 97%|█████████▋| 1407/1452 [30:08<00:55,  1.24s/it]C:\\Users\\Raj\\AppData\\Local\\Temp\\ipykernel_29048\\2168445501.py:6: FutureWarning: The frame.append method is deprecated and will be removed from pandas in a future version. Use pandas.concat instead.\n",
      "  df = df.append(scrape_page(topic[\"topic\"], topic[\"url\"]), ignore_index=True)\n"
     ]
    },
    {
     "name": "stdout",
     "output_type": "stream",
     "text": [
      "Scraping Wernicke-Korsakoff Syndrome...\n",
      "Found 9 sections for Wernicke-Korsakoff Syndrome\n"
     ]
    },
    {
     "name": "stderr",
     "output_type": "stream",
     "text": [
      " 97%|█████████▋| 1408/1452 [30:09<00:54,  1.23s/it]"
     ]
    },
    {
     "name": "stdout",
     "output_type": "stream",
     "text": [
      "Scraping West Nile Encephalitis...\n",
      "Found 19 sections for West Nile Encephalitis\n"
     ]
    },
    {
     "name": "stderr",
     "output_type": "stream",
     "text": [
      "C:\\Users\\Raj\\AppData\\Local\\Temp\\ipykernel_29048\\2168445501.py:6: FutureWarning: The frame.append method is deprecated and will be removed from pandas in a future version. Use pandas.concat instead.\n",
      "  df = df.append(scrape_page(topic[\"topic\"], topic[\"url\"]), ignore_index=True)\n",
      " 97%|█████████▋| 1409/1452 [30:11<00:54,  1.28s/it]C:\\Users\\Raj\\AppData\\Local\\Temp\\ipykernel_29048\\2168445501.py:6: FutureWarning: The frame.append method is deprecated and will be removed from pandas in a future version. Use pandas.concat instead.\n",
      "  df = df.append(scrape_page(topic[\"topic\"], topic[\"url\"]), ignore_index=True)\n"
     ]
    },
    {
     "name": "stdout",
     "output_type": "stream",
     "text": [
      "Scraping West Nile Fever...\n",
      "Found 19 sections for West Nile Fever\n"
     ]
    },
    {
     "name": "stderr",
     "output_type": "stream",
     "text": [
      " 97%|█████████▋| 1410/1452 [30:12<00:52,  1.25s/it]C:\\Users\\Raj\\AppData\\Local\\Temp\\ipykernel_29048\\2168445501.py:6: FutureWarning: The frame.append method is deprecated and will be removed from pandas in a future version. Use pandas.concat instead.\n",
      "  df = df.append(scrape_page(topic[\"topic\"], topic[\"url\"]), ignore_index=True)\n"
     ]
    },
    {
     "name": "stdout",
     "output_type": "stream",
     "text": [
      "Scraping West Nile Virus...\n",
      "Found 19 sections for West Nile Virus\n"
     ]
    },
    {
     "name": "stderr",
     "output_type": "stream",
     "text": [
      " 97%|█████████▋| 1411/1452 [30:13<00:50,  1.23s/it]"
     ]
    },
    {
     "name": "stdout",
     "output_type": "stream",
     "text": [
      "Scraping West Syndrome...\n",
      "Found 15 sections for West Syndrome\n"
     ]
    },
    {
     "name": "stderr",
     "output_type": "stream",
     "text": [
      "C:\\Users\\Raj\\AppData\\Local\\Temp\\ipykernel_29048\\2168445501.py:6: FutureWarning: The frame.append method is deprecated and will be removed from pandas in a future version. Use pandas.concat instead.\n",
      "  df = df.append(scrape_page(topic[\"topic\"], topic[\"url\"]), ignore_index=True)\n",
      " 97%|█████████▋| 1412/1452 [30:14<00:51,  1.28s/it]"
     ]
    },
    {
     "name": "stdout",
     "output_type": "stream",
     "text": [
      "Scraping Wet Lung...\n",
      "Found 10 sections for Wet Lung\n"
     ]
    },
    {
     "name": "stderr",
     "output_type": "stream",
     "text": [
      "C:\\Users\\Raj\\AppData\\Local\\Temp\\ipykernel_29048\\2168445501.py:6: FutureWarning: The frame.append method is deprecated and will be removed from pandas in a future version. Use pandas.concat instead.\n",
      "  df = df.append(scrape_page(topic[\"topic\"], topic[\"url\"]), ignore_index=True)\n",
      " 97%|█████████▋| 1413/1452 [30:16<00:49,  1.26s/it]"
     ]
    },
    {
     "name": "stdout",
     "output_type": "stream",
     "text": [
      "Scraping WHCR...\n",
      "Found 6 sections for WHCR\n"
     ]
    },
    {
     "name": "stderr",
     "output_type": "stream",
     "text": [
      "C:\\Users\\Raj\\AppData\\Local\\Temp\\ipykernel_29048\\2168445501.py:6: FutureWarning: The frame.append method is deprecated and will be removed from pandas in a future version. Use pandas.concat instead.\n",
      "  df = df.append(scrape_page(topic[\"topic\"], topic[\"url\"]), ignore_index=True)\n",
      " 97%|█████████▋| 1414/1452 [30:17<00:47,  1.25s/it]C:\\Users\\Raj\\AppData\\Local\\Temp\\ipykernel_29048\\2168445501.py:6: FutureWarning: The frame.append method is deprecated and will be removed from pandas in a future version. Use pandas.concat instead.\n",
      "  df = df.append(scrape_page(topic[\"topic\"], topic[\"url\"]), ignore_index=True)\n"
     ]
    },
    {
     "name": "stdout",
     "output_type": "stream",
     "text": [
      "Scraping Wheezing...\n",
      "Found 8 sections for Wheezing\n"
     ]
    },
    {
     "name": "stderr",
     "output_type": "stream",
     "text": [
      " 97%|█████████▋| 1415/1452 [30:18<00:45,  1.24s/it]"
     ]
    },
    {
     "name": "stdout",
     "output_type": "stream",
     "text": [
      "Scraping Whiplash...\n",
      "Found 5 sections for Whiplash\n"
     ]
    },
    {
     "name": "stderr",
     "output_type": "stream",
     "text": [
      "C:\\Users\\Raj\\AppData\\Local\\Temp\\ipykernel_29048\\2168445501.py:6: FutureWarning: The frame.append method is deprecated and will be removed from pandas in a future version. Use pandas.concat instead.\n",
      "  df = df.append(scrape_page(topic[\"topic\"], topic[\"url\"]), ignore_index=True)\n",
      " 98%|█████████▊| 1416/1452 [30:19<00:44,  1.24s/it]"
     ]
    },
    {
     "name": "stdout",
     "output_type": "stream",
     "text": [
      "Scraping Whipple’s Disease...\n",
      "Found 6 sections for Whipple’s Disease\n"
     ]
    },
    {
     "name": "stderr",
     "output_type": "stream",
     "text": [
      "C:\\Users\\Raj\\AppData\\Local\\Temp\\ipykernel_29048\\2168445501.py:6: FutureWarning: The frame.append method is deprecated and will be removed from pandas in a future version. Use pandas.concat instead.\n",
      "  df = df.append(scrape_page(topic[\"topic\"], topic[\"url\"]), ignore_index=True)\n",
      " 98%|█████████▊| 1417/1452 [30:21<00:47,  1.37s/it]C:\\Users\\Raj\\AppData\\Local\\Temp\\ipykernel_29048\\2168445501.py:6: FutureWarning: The frame.append method is deprecated and will be removed from pandas in a future version. Use pandas.concat instead.\n",
      "  df = df.append(scrape_page(topic[\"topic\"], topic[\"url\"]), ignore_index=True)\n"
     ]
    },
    {
     "name": "stdout",
     "output_type": "stream",
     "text": [
      "Scraping Whooping Cough (Pertussis)...\n",
      "Found 9 sections for Whooping Cough (Pertussis)\n"
     ]
    },
    {
     "name": "stderr",
     "output_type": "stream",
     "text": [
      " 98%|█████████▊| 1418/1452 [30:22<00:45,  1.32s/it]C:\\Users\\Raj\\AppData\\Local\\Temp\\ipykernel_29048\\2168445501.py:6: FutureWarning: The frame.append method is deprecated and will be removed from pandas in a future version. Use pandas.concat instead.\n",
      "  df = df.append(scrape_page(topic[\"topic\"], topic[\"url\"]), ignore_index=True)\n"
     ]
    },
    {
     "name": "stdout",
     "output_type": "stream",
     "text": [
      "Scraping WHS...\n",
      "Found 6 sections for WHS\n"
     ]
    },
    {
     "name": "stderr",
     "output_type": "stream",
     "text": [
      " 98%|█████████▊| 1419/1452 [30:23<00:42,  1.28s/it]C:\\Users\\Raj\\AppData\\Local\\Temp\\ipykernel_29048\\2168445501.py:6: FutureWarning: The frame.append method is deprecated and will be removed from pandas in a future version. Use pandas.concat instead.\n",
      "  df = df.append(scrape_page(topic[\"topic\"], topic[\"url\"]), ignore_index=True)\n"
     ]
    },
    {
     "name": "stdout",
     "output_type": "stream",
     "text": [
      "Scraping Williams Syndrome...\n",
      "Found 14 sections for Williams Syndrome\n"
     ]
    },
    {
     "name": "stderr",
     "output_type": "stream",
     "text": [
      " 98%|█████████▊| 1420/1452 [30:25<00:40,  1.26s/it]C:\\Users\\Raj\\AppData\\Local\\Temp\\ipykernel_29048\\2168445501.py:6: FutureWarning: The frame.append method is deprecated and will be removed from pandas in a future version. Use pandas.concat instead.\n",
      "  df = df.append(scrape_page(topic[\"topic\"], topic[\"url\"]), ignore_index=True)\n"
     ]
    },
    {
     "name": "stdout",
     "output_type": "stream",
     "text": [
      "Scraping Williams-Beuren Syndrome...\n",
      "Found 14 sections for Williams-Beuren Syndrome\n"
     ]
    },
    {
     "name": "stderr",
     "output_type": "stream",
     "text": [
      " 98%|█████████▊| 1421/1452 [30:26<00:38,  1.23s/it]"
     ]
    },
    {
     "name": "stdout",
     "output_type": "stream",
     "text": [
      "Scraping Willi-Prader Syndrome...\n",
      "Found 9 sections for Willi-Prader Syndrome\n"
     ]
    },
    {
     "name": "stderr",
     "output_type": "stream",
     "text": [
      "C:\\Users\\Raj\\AppData\\Local\\Temp\\ipykernel_29048\\2168445501.py:6: FutureWarning: The frame.append method is deprecated and will be removed from pandas in a future version. Use pandas.concat instead.\n",
      "  df = df.append(scrape_page(topic[\"topic\"], topic[\"url\"]), ignore_index=True)\n",
      " 98%|█████████▊| 1422/1452 [30:27<00:37,  1.24s/it]"
     ]
    },
    {
     "name": "stdout",
     "output_type": "stream",
     "text": [
      "Scraping Wilms' Tumor...\n",
      "Found 11 sections for Wilms' Tumor\n"
     ]
    },
    {
     "name": "stderr",
     "output_type": "stream",
     "text": [
      "C:\\Users\\Raj\\AppData\\Local\\Temp\\ipykernel_29048\\2168445501.py:6: FutureWarning: The frame.append method is deprecated and will be removed from pandas in a future version. Use pandas.concat instead.\n",
      "  df = df.append(scrape_page(topic[\"topic\"], topic[\"url\"]), ignore_index=True)\n",
      " 98%|█████████▊| 1423/1452 [30:28<00:36,  1.24s/it]"
     ]
    },
    {
     "name": "stdout",
     "output_type": "stream",
     "text": [
      "Scraping Winter Blues or Depression...\n",
      "Found 13 sections for Winter Blues or Depression\n"
     ]
    },
    {
     "name": "stderr",
     "output_type": "stream",
     "text": [
      "C:\\Users\\Raj\\AppData\\Local\\Temp\\ipykernel_29048\\2168445501.py:6: FutureWarning: The frame.append method is deprecated and will be removed from pandas in a future version. Use pandas.concat instead.\n",
      "  df = df.append(scrape_page(topic[\"topic\"], topic[\"url\"]), ignore_index=True)\n",
      " 98%|█████████▊| 1424/1452 [30:30<00:34,  1.24s/it]"
     ]
    },
    {
     "name": "stdout",
     "output_type": "stream",
     "text": [
      "Scraping Wisdom Tooth Problems...\n",
      "Found 8 sections for Wisdom Tooth Problems\n"
     ]
    },
    {
     "name": "stderr",
     "output_type": "stream",
     "text": [
      "C:\\Users\\Raj\\AppData\\Local\\Temp\\ipykernel_29048\\2168445501.py:6: FutureWarning: The frame.append method is deprecated and will be removed from pandas in a future version. Use pandas.concat instead.\n",
      "  df = df.append(scrape_page(topic[\"topic\"], topic[\"url\"]), ignore_index=True)\n",
      " 98%|█████████▊| 1425/1452 [30:31<00:33,  1.24s/it]C:\\Users\\Raj\\AppData\\Local\\Temp\\ipykernel_29048\\2168445501.py:6: FutureWarning: The frame.append method is deprecated and will be removed from pandas in a future version. Use pandas.concat instead.\n",
      "  df = df.append(scrape_page(topic[\"topic\"], topic[\"url\"]), ignore_index=True)\n"
     ]
    },
    {
     "name": "stdout",
     "output_type": "stream",
     "text": [
      "Scraping Wisdom Tooth Removal...\n",
      "Found 8 sections for Wisdom Tooth Removal\n"
     ]
    },
    {
     "name": "stderr",
     "output_type": "stream",
     "text": [
      " 98%|█████████▊| 1426/1452 [30:32<00:31,  1.22s/it]"
     ]
    },
    {
     "name": "stdout",
     "output_type": "stream",
     "text": [
      "Scraping Wise Health Decisions...\n",
      "Found 5 sections for Wise Health Decisions\n"
     ]
    },
    {
     "name": "stderr",
     "output_type": "stream",
     "text": [
      "C:\\Users\\Raj\\AppData\\Local\\Temp\\ipykernel_29048\\2168445501.py:6: FutureWarning: The frame.append method is deprecated and will be removed from pandas in a future version. Use pandas.concat instead.\n",
      "  df = df.append(scrape_page(topic[\"topic\"], topic[\"url\"]), ignore_index=True)\n",
      " 98%|█████████▊| 1427/1452 [30:34<00:36,  1.44s/it]C:\\Users\\Raj\\AppData\\Local\\Temp\\ipykernel_29048\\2168445501.py:6: FutureWarning: The frame.append method is deprecated and will be removed from pandas in a future version. Use pandas.concat instead.\n",
      "  df = df.append(scrape_page(topic[\"topic\"], topic[\"url\"]), ignore_index=True)\n"
     ]
    },
    {
     "name": "stdout",
     "output_type": "stream",
     "text": [
      "Scraping WMS -- Williams Syndrome...\n",
      "Found 14 sections for WMS -- Williams Syndrome\n"
     ]
    },
    {
     "name": "stderr",
     "output_type": "stream",
     "text": [
      " 98%|█████████▊| 1428/1452 [30:35<00:32,  1.37s/it]C:\\Users\\Raj\\AppData\\Local\\Temp\\ipykernel_29048\\2168445501.py:6: FutureWarning: The frame.append method is deprecated and will be removed from pandas in a future version. Use pandas.concat instead.\n",
      "  df = df.append(scrape_page(topic[\"topic\"], topic[\"url\"]), ignore_index=True)\n"
     ]
    },
    {
     "name": "stdout",
     "output_type": "stream",
     "text": [
      "Scraping Wolf Hirschhorn Syndrome...\n",
      "Found 6 sections for Wolf Hirschhorn Syndrome\n"
     ]
    },
    {
     "name": "stderr",
     "output_type": "stream",
     "text": [
      " 98%|█████████▊| 1429/1452 [30:36<00:30,  1.32s/it]C:\\Users\\Raj\\AppData\\Local\\Temp\\ipykernel_29048\\2168445501.py:6: FutureWarning: The frame.append method is deprecated and will be removed from pandas in a future version. Use pandas.concat instead.\n",
      "  df = df.append(scrape_page(topic[\"topic\"], topic[\"url\"]), ignore_index=True)\n"
     ]
    },
    {
     "name": "stdout",
     "output_type": "stream",
     "text": [
      "Scraping Wolf Syndrome...\n",
      "Found 6 sections for Wolf Syndrome\n"
     ]
    },
    {
     "name": "stderr",
     "output_type": "stream",
     "text": [
      " 98%|█████████▊| 1430/1452 [30:38<00:28,  1.28s/it]"
     ]
    },
    {
     "name": "stdout",
     "output_type": "stream",
     "text": [
      "Scraping Wolff Parkinson White Syndrome...\n",
      "Found 7 sections for Wolff Parkinson White Syndrome\n"
     ]
    },
    {
     "name": "stderr",
     "output_type": "stream",
     "text": [
      "C:\\Users\\Raj\\AppData\\Local\\Temp\\ipykernel_29048\\2168445501.py:6: FutureWarning: The frame.append method is deprecated and will be removed from pandas in a future version. Use pandas.concat instead.\n",
      "  df = df.append(scrape_page(topic[\"topic\"], topic[\"url\"]), ignore_index=True)\n",
      " 99%|█████████▊| 1431/1452 [30:39<00:26,  1.26s/it]"
     ]
    },
    {
     "name": "stdout",
     "output_type": "stream",
     "text": [
      "Scraping Women and Coronary Artery Disease...\n"
     ]
    },
    {
     "name": "stderr",
     "output_type": "stream",
     "text": [
      "C:\\Users\\Raj\\AppData\\Local\\Temp\\ipykernel_29048\\2168445501.py:6: FutureWarning: The frame.append method is deprecated and will be removed from pandas in a future version. Use pandas.concat instead.\n",
      "  df = df.append(scrape_page(topic[\"topic\"], topic[\"url\"]), ignore_index=True)\n",
      " 99%|█████████▊| 1432/1452 [30:40<00:26,  1.31s/it]C:\\Users\\Raj\\AppData\\Local\\Temp\\ipykernel_29048\\2168445501.py:6: FutureWarning: The frame.append method is deprecated and will be removed from pandas in a future version. Use pandas.concat instead.\n",
      "  df = df.append(scrape_page(topic[\"topic\"], topic[\"url\"]), ignore_index=True)\n"
     ]
    },
    {
     "name": "stdout",
     "output_type": "stream",
     "text": [
      "Scraping WPW Syndrome...\n",
      "Found 7 sections for WPW Syndrome\n"
     ]
    },
    {
     "name": "stderr",
     "output_type": "stream",
     "text": [
      " 99%|█████████▊| 1433/1452 [30:41<00:24,  1.28s/it]"
     ]
    },
    {
     "name": "stdout",
     "output_type": "stream",
     "text": [
      "Scraping Wrapping a Sprained Ankle...\n",
      "Found 3 sections for Wrapping a Sprained Ankle\n"
     ]
    },
    {
     "name": "stderr",
     "output_type": "stream",
     "text": [
      "C:\\Users\\Raj\\AppData\\Local\\Temp\\ipykernel_29048\\2168445501.py:6: FutureWarning: The frame.append method is deprecated and will be removed from pandas in a future version. Use pandas.concat instead.\n",
      "  df = df.append(scrape_page(topic[\"topic\"], topic[\"url\"]), ignore_index=True)\n",
      " 99%|█████████▉| 1434/1452 [30:43<00:22,  1.26s/it]C:\\Users\\Raj\\AppData\\Local\\Temp\\ipykernel_29048\\2168445501.py:6: FutureWarning: The frame.append method is deprecated and will be removed from pandas in a future version. Use pandas.concat instead.\n",
      "  df = df.append(scrape_page(topic[\"topic\"], topic[\"url\"]), ignore_index=True)\n"
     ]
    },
    {
     "name": "stdout",
     "output_type": "stream",
     "text": [
      "Scraping Writing an Advance Directive...\n",
      "Found 5 sections for Writing an Advance Directive\n"
     ]
    },
    {
     "name": "stderr",
     "output_type": "stream",
     "text": [
      " 99%|█████████▉| 1435/1452 [30:44<00:21,  1.24s/it]"
     ]
    },
    {
     "name": "stdout",
     "output_type": "stream",
     "text": [
      "Scraping X-linked Juvenile Retinoschisis...\n"
     ]
    },
    {
     "name": "stderr",
     "output_type": "stream",
     "text": [
      "C:\\Users\\Raj\\AppData\\Local\\Temp\\ipykernel_29048\\2168445501.py:6: FutureWarning: The frame.append method is deprecated and will be removed from pandas in a future version. Use pandas.concat instead.\n",
      "  df = df.append(scrape_page(topic[\"topic\"], topic[\"url\"]), ignore_index=True)\n",
      " 99%|█████████▉| 1436/1452 [30:45<00:21,  1.37s/it]"
     ]
    },
    {
     "name": "stdout",
     "output_type": "stream",
     "text": [
      "Scraping Xeroderma Pigmentosum...\n"
     ]
    },
    {
     "name": "stderr",
     "output_type": "stream",
     "text": [
      "C:\\Users\\Raj\\AppData\\Local\\Temp\\ipykernel_29048\\2168445501.py:6: FutureWarning: The frame.append method is deprecated and will be removed from pandas in a future version. Use pandas.concat instead.\n",
      "  df = df.append(scrape_page(topic[\"topic\"], topic[\"url\"]), ignore_index=True)\n",
      " 99%|█████████▉| 1437/1452 [30:47<00:22,  1.48s/it]"
     ]
    },
    {
     "name": "stdout",
     "output_type": "stream",
     "text": [
      "Scraping X-linked Adult Spinal Muscular Atrophy...\n"
     ]
    },
    {
     "name": "stderr",
     "output_type": "stream",
     "text": [
      "C:\\Users\\Raj\\AppData\\Local\\Temp\\ipykernel_29048\\2168445501.py:6: FutureWarning: The frame.append method is deprecated and will be removed from pandas in a future version. Use pandas.concat instead.\n",
      "  df = df.append(scrape_page(topic[\"topic\"], topic[\"url\"]), ignore_index=True)\n",
      " 99%|█████████▉| 1438/1452 [30:48<00:19,  1.42s/it]"
     ]
    },
    {
     "name": "stdout",
     "output_type": "stream",
     "text": [
      "Scraping X-linked Mental Retardation...\n",
      "Found 10 sections for X-linked Mental Retardation\n"
     ]
    },
    {
     "name": "stderr",
     "output_type": "stream",
     "text": [
      "C:\\Users\\Raj\\AppData\\Local\\Temp\\ipykernel_29048\\2168445501.py:6: FutureWarning: The frame.append method is deprecated and will be removed from pandas in a future version. Use pandas.concat instead.\n",
      "  df = df.append(scrape_page(topic[\"topic\"], topic[\"url\"]), ignore_index=True)\n",
      " 99%|█████████▉| 1439/1452 [30:50<00:17,  1.37s/it]"
     ]
    },
    {
     "name": "stdout",
     "output_type": "stream",
     "text": [
      "Scraping XO Syndrome...\n",
      "Found 9 sections for XO Syndrome\n"
     ]
    },
    {
     "name": "stderr",
     "output_type": "stream",
     "text": [
      "C:\\Users\\Raj\\AppData\\Local\\Temp\\ipykernel_29048\\2168445501.py:6: FutureWarning: The frame.append method is deprecated and will be removed from pandas in a future version. Use pandas.concat instead.\n",
      "  df = df.append(scrape_page(topic[\"topic\"], topic[\"url\"]), ignore_index=True)\n",
      " 99%|█████████▉| 1440/1452 [30:51<00:15,  1.33s/it]"
     ]
    },
    {
     "name": "stdout",
     "output_type": "stream",
     "text": [
      "Scraping XP...\n"
     ]
    },
    {
     "name": "stderr",
     "output_type": "stream",
     "text": [
      "C:\\Users\\Raj\\AppData\\Local\\Temp\\ipykernel_29048\\2168445501.py:6: FutureWarning: The frame.append method is deprecated and will be removed from pandas in a future version. Use pandas.concat instead.\n",
      "  df = df.append(scrape_page(topic[\"topic\"], topic[\"url\"]), ignore_index=True)\n",
      " 99%|█████████▉| 1441/1452 [30:52<00:14,  1.31s/it]"
     ]
    },
    {
     "name": "stdout",
     "output_type": "stream",
     "text": [
      "Scraping XXY Males...\n",
      "Found 7 sections for XXY Males\n"
     ]
    },
    {
     "name": "stderr",
     "output_type": "stream",
     "text": [
      "C:\\Users\\Raj\\AppData\\Local\\Temp\\ipykernel_29048\\2168445501.py:6: FutureWarning: The frame.append method is deprecated and will be removed from pandas in a future version. Use pandas.concat instead.\n",
      "  df = df.append(scrape_page(topic[\"topic\"], topic[\"url\"]), ignore_index=True)\n",
      " 99%|█████████▉| 1442/1452 [30:53<00:12,  1.29s/it]C:\\Users\\Raj\\AppData\\Local\\Temp\\ipykernel_29048\\2168445501.py:6: FutureWarning: The frame.append method is deprecated and will be removed from pandas in a future version. Use pandas.concat instead.\n",
      "  df = df.append(scrape_page(topic[\"topic\"], topic[\"url\"]), ignore_index=True)\n"
     ]
    },
    {
     "name": "stdout",
     "output_type": "stream",
     "text": [
      "Scraping XXY Syndrome...\n",
      "Found 7 sections for XXY Syndrome\n"
     ]
    },
    {
     "name": "stderr",
     "output_type": "stream",
     "text": [
      " 99%|█████████▉| 1443/1452 [30:55<00:11,  1.26s/it]C:\\Users\\Raj\\AppData\\Local\\Temp\\ipykernel_29048\\2168445501.py:6: FutureWarning: The frame.append method is deprecated and will be removed from pandas in a future version. Use pandas.concat instead.\n",
      "  df = df.append(scrape_page(topic[\"topic\"], topic[\"url\"]), ignore_index=True)\n"
     ]
    },
    {
     "name": "stdout",
     "output_type": "stream",
     "text": [
      "Scraping Yeast Infections...\n",
      "Found 6 sections for Yeast Infections\n"
     ]
    },
    {
     "name": "stderr",
     "output_type": "stream",
     "text": [
      " 99%|█████████▉| 1444/1452 [30:56<00:09,  1.24s/it]"
     ]
    },
    {
     "name": "stdout",
     "output_type": "stream",
     "text": [
      "Scraping Yellow Fever...\n",
      "Found 11 sections for Yellow Fever\n"
     ]
    },
    {
     "name": "stderr",
     "output_type": "stream",
     "text": [
      "C:\\Users\\Raj\\AppData\\Local\\Temp\\ipykernel_29048\\2168445501.py:6: FutureWarning: The frame.append method is deprecated and will be removed from pandas in a future version. Use pandas.concat instead.\n",
      "  df = df.append(scrape_page(topic[\"topic\"], topic[\"url\"]), ignore_index=True)\n",
      "100%|█████████▉| 1445/1452 [30:57<00:08,  1.25s/it]"
     ]
    },
    {
     "name": "stdout",
     "output_type": "stream",
     "text": [
      "Scraping Yoga...\n",
      "Found 7 sections for Yoga\n"
     ]
    },
    {
     "name": "stderr",
     "output_type": "stream",
     "text": [
      "C:\\Users\\Raj\\AppData\\Local\\Temp\\ipykernel_29048\\2168445501.py:6: FutureWarning: The frame.append method is deprecated and will be removed from pandas in a future version. Use pandas.concat instead.\n",
      "  df = df.append(scrape_page(topic[\"topic\"], topic[\"url\"]), ignore_index=True)\n",
      "100%|█████████▉| 1446/1452 [30:58<00:07,  1.24s/it]"
     ]
    },
    {
     "name": "stdout",
     "output_type": "stream",
     "text": [
      "Scraping Your Home Health Center...\n",
      "Found 20 sections for Your Home Health Center\n"
     ]
    },
    {
     "name": "stderr",
     "output_type": "stream",
     "text": [
      "C:\\Users\\Raj\\AppData\\Local\\Temp\\ipykernel_29048\\2168445501.py:6: FutureWarning: The frame.append method is deprecated and will be removed from pandas in a future version. Use pandas.concat instead.\n",
      "  df = df.append(scrape_page(topic[\"topic\"], topic[\"url\"]), ignore_index=True)\n",
      "100%|█████████▉| 1447/1452 [31:00<00:06,  1.25s/it]"
     ]
    },
    {
     "name": "stdout",
     "output_type": "stream",
     "text": [
      "Scraping Zambusch's Disease...\n",
      "Found 8 sections for Zambusch's Disease\n"
     ]
    },
    {
     "name": "stderr",
     "output_type": "stream",
     "text": [
      "C:\\Users\\Raj\\AppData\\Local\\Temp\\ipykernel_29048\\2168445501.py:6: FutureWarning: The frame.append method is deprecated and will be removed from pandas in a future version. Use pandas.concat instead.\n",
      "  df = df.append(scrape_page(topic[\"topic\"], topic[\"url\"]), ignore_index=True)\n",
      "100%|█████████▉| 1448/1452 [31:01<00:05,  1.25s/it]C:\\Users\\Raj\\AppData\\Local\\Temp\\ipykernel_29048\\2168445501.py:6: FutureWarning: The frame.append method is deprecated and will be removed from pandas in a future version. Use pandas.concat instead.\n",
      "  df = df.append(scrape_page(topic[\"topic\"], topic[\"url\"]), ignore_index=True)\n"
     ]
    },
    {
     "name": "stdout",
     "output_type": "stream",
     "text": [
      "Scraping Z-E Syndrome...\n",
      "Found 8 sections for Z-E Syndrome\n"
     ]
    },
    {
     "name": "stderr",
     "output_type": "stream",
     "text": [
      "100%|█████████▉| 1449/1452 [31:02<00:03,  1.24s/it]C:\\Users\\Raj\\AppData\\Local\\Temp\\ipykernel_29048\\2168445501.py:6: FutureWarning: The frame.append method is deprecated and will be removed from pandas in a future version. Use pandas.concat instead.\n",
      "  df = df.append(scrape_page(topic[\"topic\"], topic[\"url\"]), ignore_index=True)\n"
     ]
    },
    {
     "name": "stdout",
     "output_type": "stream",
     "text": [
      "Scraping ZES...\n",
      "Found 8 sections for ZES\n"
     ]
    },
    {
     "name": "stderr",
     "output_type": "stream",
     "text": [
      "100%|█████████▉| 1450/1452 [31:03<00:02,  1.22s/it]C:\\Users\\Raj\\AppData\\Local\\Temp\\ipykernel_29048\\2168445501.py:6: FutureWarning: The frame.append method is deprecated and will be removed from pandas in a future version. Use pandas.concat instead.\n",
      "  df = df.append(scrape_page(topic[\"topic\"], topic[\"url\"]), ignore_index=True)\n"
     ]
    },
    {
     "name": "stdout",
     "output_type": "stream",
     "text": [
      "Scraping Zika...\n",
      "Found 24 sections for Zika\n"
     ]
    },
    {
     "name": "stderr",
     "output_type": "stream",
     "text": [
      "100%|█████████▉| 1451/1452 [31:04<00:01,  1.22s/it]C:\\Users\\Raj\\AppData\\Local\\Temp\\ipykernel_29048\\2168445501.py:6: FutureWarning: The frame.append method is deprecated and will be removed from pandas in a future version. Use pandas.concat instead.\n",
      "  df = df.append(scrape_page(topic[\"topic\"], topic[\"url\"]), ignore_index=True)\n"
     ]
    },
    {
     "name": "stdout",
     "output_type": "stream",
     "text": [
      "Scraping Zollinger-Ellison syndrome (ZES)...\n",
      "Found 8 sections for Zollinger-Ellison syndrome (ZES)\n"
     ]
    },
    {
     "name": "stderr",
     "output_type": "stream",
     "text": [
      "100%|██████████| 1452/1452 [31:06<00:00,  1.29s/it]\n"
     ]
    }
   ],
   "source": [
    "# Scrape a random sample of 10 topics and concat their results to a df\n",
    "df = pd.DataFrame()\n",
    "for i in tqdm(range(len(topics_df))):\n",
    "    topic = topics_df.iloc[i]\n",
    "    print(f\"Scraping {topic['topic']}...\")\n",
    "    df = df.append(scrape_page(topic[\"topic\"], topic[\"url\"]), ignore_index=True)\n",
    "    time.sleep(1)\n",
    "\n",
    "    "
   ]
  },
  {
   "cell_type": "code",
   "execution_count": 77,
   "metadata": {},
   "outputs": [],
   "source": [
    "df.to_csv(\"data.csv\", index=False)"
   ]
  }
 ],
 "metadata": {
  "kernelspec": {
   "display_name": "base",
   "language": "python",
   "name": "python3"
  },
  "language_info": {
   "codemirror_mode": {
    "name": "ipython",
    "version": 3
   },
   "file_extension": ".py",
   "mimetype": "text/x-python",
   "name": "python",
   "nbconvert_exporter": "python",
   "pygments_lexer": "ipython3",
   "version": "3.8.10"
  },
  "orig_nbformat": 4,
  "vscode": {
   "interpreter": {
    "hash": "8ff994f3d4451f14522a300ddb1cbf5d929550ae363c32926496ba76a88232a9"
   }
  }
 },
 "nbformat": 4,
 "nbformat_minor": 2
}
