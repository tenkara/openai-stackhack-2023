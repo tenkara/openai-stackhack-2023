{
 "cells": [
  {
   "cell_type": "code",
   "execution_count": 22,
   "metadata": {},
   "outputs": [],
   "source": [
    "from os import environ as env\n",
    "from flask import Flask, jsonify, request\n",
    "from os import environ as env\n",
    "from dotenv import load_dotenv, find_dotenv\n",
    "from flask_cors import CORS, cross_origin\n",
    "from jose import jwt\n",
    "from flask_sqlalchemy import SQLAlchemy\n",
    "from authlib.integrations.flask_oauth2 import ResourceProtector\n",
    "from middleware.validator import Auth0JWTBearerTokenValidator\n",
    "import openai\n",
    "import pandas as pd\n",
    "import numpy as np\n",
    "from openai.embeddings_utils import get_embedding, cosine_similarity"
   ]
  },
  {
   "cell_type": "code",
   "execution_count": 24,
   "metadata": {},
   "outputs": [],
   "source": [
    "# Load Environment Variables\n",
    "ENV_FILE = find_dotenv()\n",
    "if ENV_FILE:\n",
    "    load_dotenv(ENV_FILE)\n",
    "AUTH0_DOMAIN = env.get(\"AUTH0_DOMAIN\")\n",
    "API_IDENTIFIER = env.get(\"API_IDENTIFIER\")\n",
    "ALGORITHMS = [\"RS256\"]\n",
    "openai.api_key = env.get(\"OPENAI_API_KEY\")"
   ]
  },
  {
   "cell_type": "code",
   "execution_count": 25,
   "metadata": {},
   "outputs": [],
   "source": [
    "# Create Application\n",
    "app = Flask(__name__)\n",
    "cors = CORS(app, resources={r\"/*\": {\"origins\": \"*\"}})"
   ]
  },
  {
   "cell_type": "code",
   "execution_count": 26,
   "metadata": {},
   "outputs": [],
   "source": [
    "# Middleware\n",
    "require_auth = ResourceProtector()\n",
    "validator = Auth0JWTBearerTokenValidator(\n",
    "    AUTH0_DOMAIN,\n",
    "    API_IDENTIFIER\n",
    ")\n",
    "require_auth.register_token_validator(validator)"
   ]
  },
  {
   "cell_type": "code",
   "execution_count": 27,
   "metadata": {},
   "outputs": [],
   "source": [
    "# embedding model parameters for second gen models (text-embedding-ada-002) recommended by OpenAI\n",
    "embedding_model = \"text-embedding-ada-002\" # second gen best model at the moment\n",
    "embedding_encoding = \"cl100k_base\" # latest tokenizer for second gen models\n",
    "max_tokens = 8000 # max tokens for second gen models and tokenizer above is 8191"
   ]
  },
  {
   "cell_type": "code",
   "execution_count": 7,
   "metadata": {},
   "outputs": [],
   "source": [
    "# Load the embedding data\n",
    "df = pd.read_csv(\"data/wmd_1452_embeddings.csv\")"
   ]
  },
  {
   "cell_type": "code",
   "execution_count": null,
   "metadata": {},
   "outputs": [],
   "source": [
    "df.head(2)"
   ]
  },
  {
   "cell_type": "code",
   "execution_count": 10,
   "metadata": {},
   "outputs": [],
   "source": [
    "# when reading from csv to ensure correct data types\n",
    "df[\"embedding\"] = df.embedding.apply(eval).apply(np.array)"
   ]
  },
  {
   "cell_type": "code",
   "execution_count": 11,
   "metadata": {},
   "outputs": [
    {
     "data": {
      "text/html": [
       "<div>\n",
       "<style scoped>\n",
       "    .dataframe tbody tr th:only-of-type {\n",
       "        vertical-align: middle;\n",
       "    }\n",
       "\n",
       "    .dataframe tbody tr th {\n",
       "        vertical-align: top;\n",
       "    }\n",
       "\n",
       "    .dataframe thead th {\n",
       "        text-align: right;\n",
       "    }\n",
       "</style>\n",
       "<table border=\"1\" class=\"dataframe\">\n",
       "  <thead>\n",
       "    <tr style=\"text-align: right;\">\n",
       "      <th></th>\n",
       "      <th>Unnamed: 0</th>\n",
       "      <th>topic</th>\n",
       "      <th>overview</th>\n",
       "      <th>symptoms</th>\n",
       "      <th>causes</th>\n",
       "      <th>tests</th>\n",
       "      <th>treatment</th>\n",
       "      <th>url</th>\n",
       "      <th>combined</th>\n",
       "      <th>n_tokens</th>\n",
       "      <th>embedding</th>\n",
       "    </tr>\n",
       "  </thead>\n",
       "  <tbody>\n",
       "    <tr>\n",
       "      <th>0</th>\n",
       "      <td>0</td>\n",
       "      <td>A1AT Deficiency</td>\n",
       "      <td>Alpha-1 antitrypsin deficiency is a genetic di...</td>\n",
       "      <td>You might not know you have the disease until ...</td>\n",
       "      <td>Alpha-1 antitrypsin deficiency runs in familie...</td>\n",
       "      <td>Your doctor may ask you questions such as: You...</td>\n",
       "      <td>Although there’s no cure for AAT deficiency, y...</td>\n",
       "      <td>https://www.webmd.com/lung/copd/alpha-1-antitr...</td>\n",
       "      <td>Topic: A1AT Deficiency Overview: Alpha-1 antit...</td>\n",
       "      <td>1123</td>\n",
       "      <td>[-0.01765124686062336, 0.010525372810661793, 0...</td>\n",
       "    </tr>\n",
       "    <tr>\n",
       "      <th>1</th>\n",
       "      <td>1</td>\n",
       "      <td>AAT</td>\n",
       "      <td>Alpha-1 antitrypsin deficiency is a genetic di...</td>\n",
       "      <td>You might not know you have the disease until ...</td>\n",
       "      <td>Alpha-1 antitrypsin deficiency runs in familie...</td>\n",
       "      <td>Your doctor may ask you questions such as: You...</td>\n",
       "      <td>Although there’s no cure for AAT deficiency, y...</td>\n",
       "      <td>https://www.webmd.com/lung/copd/alpha-1-antitr...</td>\n",
       "      <td>Topic: AAT Overview: Alpha-1 antitrypsin defic...</td>\n",
       "      <td>1120</td>\n",
       "      <td>[-0.0176760945469141, 0.00719116535037756, 0.0...</td>\n",
       "    </tr>\n",
       "  </tbody>\n",
       "</table>\n",
       "</div>"
      ],
      "text/plain": [
       "   Unnamed: 0            topic  \\\n",
       "0           0  A1AT Deficiency   \n",
       "1           1              AAT   \n",
       "\n",
       "                                            overview  \\\n",
       "0  Alpha-1 antitrypsin deficiency is a genetic di...   \n",
       "1  Alpha-1 antitrypsin deficiency is a genetic di...   \n",
       "\n",
       "                                            symptoms  \\\n",
       "0  You might not know you have the disease until ...   \n",
       "1  You might not know you have the disease until ...   \n",
       "\n",
       "                                              causes  \\\n",
       "0  Alpha-1 antitrypsin deficiency runs in familie...   \n",
       "1  Alpha-1 antitrypsin deficiency runs in familie...   \n",
       "\n",
       "                                               tests  \\\n",
       "0  Your doctor may ask you questions such as: You...   \n",
       "1  Your doctor may ask you questions such as: You...   \n",
       "\n",
       "                                           treatment  \\\n",
       "0  Although there’s no cure for AAT deficiency, y...   \n",
       "1  Although there’s no cure for AAT deficiency, y...   \n",
       "\n",
       "                                                 url  \\\n",
       "0  https://www.webmd.com/lung/copd/alpha-1-antitr...   \n",
       "1  https://www.webmd.com/lung/copd/alpha-1-antitr...   \n",
       "\n",
       "                                            combined  n_tokens  \\\n",
       "0  Topic: A1AT Deficiency Overview: Alpha-1 antit...      1123   \n",
       "1  Topic: AAT Overview: Alpha-1 antitrypsin defic...      1120   \n",
       "\n",
       "                                           embedding  \n",
       "0  [-0.01765124686062336, 0.010525372810661793, 0...  \n",
       "1  [-0.0176760945469141, 0.00719116535037756, 0.0...  "
      ]
     },
     "execution_count": 11,
     "metadata": {},
     "output_type": "execute_result"
    }
   ],
   "source": [
    "df.head(2)"
   ]
  },
  {
   "cell_type": "code",
   "execution_count": 46,
   "metadata": {},
   "outputs": [],
   "source": [
    "# search through the symptoms for the most similar topic\n",
    "def search_symptoms(df, symptoms, n=5, pprint=True):\n",
    "    symptoms_embedding = get_embedding(symptoms, engine=embedding_model)\n",
    "    df[\"similarity\"] = df.embedding.apply(lambda x: cosine_similarity(x, symptoms_embedding))\n",
    "    results = (\n",
    "        df.sort_values(\"similarity\", ascending=False)\n",
    "        .head(n)\n",
    "        .combined.str.replace(\"Topic: \", \"\")\n",
    "        .str.replace(\"Symptoms: \", \"\")\n",
    "    )\n",
    "    if pprint:\n",
    "        for r in results:\n",
    "            print(r[:200])\n",
    "            print()\n",
    "    return results"
   ]
  },
  {
   "cell_type": "code",
   "execution_count": 98,
   "metadata": {},
   "outputs": [
    {
     "name": "stdout",
     "output_type": "stream",
     "text": [
      "CMTC Overview: The main sign is the blue or purple marbled pattern on the skin. It looks a lot like what happens to a baby’s skin when they’re cold, but it’s more defined and doesn’t go away. Most chi\n",
      "\n",
      "Van Lohuizen Syndrome Overview: The main sign is the blue or purple marbled pattern on the skin. It looks a lot like what happens to a baby’s skin when they’re cold, but it’s more defined and doesn’t \n",
      "\n",
      "Chilblains Overview: Frostbite occurs when tissues freeze. This condition happens when you are exposed to temperatures below the freezing point of skin. The condition has long been recognized. A 5,000\n",
      "\n",
      "Raynaud's Phenomenon Overview: Treatment goals will include preventing attacks or limiting them when they do happen. That usually means keeping your hands and feet warm and dry, controlling stress, an\n",
      "\n",
      "TORCH Syndrome Overview: If you get one of the TORCH infections while you’re pregnant, and it spreads through your blood to your baby, they can get it, too. And because they're still developing in you\n",
      "\n"
     ]
    }
   ],
   "source": [
    "results = search_symptoms(df, \"purple toes and cold shivers and light headedness\", n=5)"
   ]
  },
  {
   "cell_type": "code",
   "execution_count": 47,
   "metadata": {},
   "outputs": [
    {
     "name": "stdout",
     "output_type": "stream",
     "text": [
      "Lumbar Pain Overview: We often bring on our back problems through bad habits, such as: The spine is actually a stack of 24 bones called vertebrae. A healthy spine is S-shaped when viewed from the side\n",
      "\n",
      "Low Back Pain Exercises Overview:   Causes:  Tests:  Treatment: \n",
      "\n",
      "Low Back Pain Overview: The causes of back pain can be complex. Some causes of back pain include accidents, muscle strains, and sports injuries. The main symptom of cervical radiculopathy is pain that\n",
      "\n",
      "Exercises to Reduce Low Back Pain Overview:   Causes:  Tests:  Treatment: \n",
      "\n",
      "Slipped Disc Overview: Back pain can sneak up on you when you least expect it. One minute you're sitting comfortably in front of the TV, and the next you try to stand up, and -- ouch! -- a sharp pain \n",
      "\n"
     ]
    }
   ],
   "source": [
    "results = search_symptoms(df, \"back pain\", n=5)"
   ]
  },
  {
   "cell_type": "code",
   "execution_count": 63,
   "metadata": {},
   "outputs": [
    {
     "data": {
      "text/plain": [
       "'Lumbar Pain Overview: We often bring on our back problems through bad habits, such as: The spine is actually a stack of 24 bones called vertebrae. A healthy spine is S-shaped when viewed from the side'"
      ]
     },
     "execution_count": 63,
     "metadata": {},
     "output_type": "execute_result"
    }
   ],
   "source": [
    "results.head(1).values[0][:200]"
   ]
  },
  {
   "cell_type": "code",
   "execution_count": 14,
   "metadata": {},
   "outputs": [
    {
     "name": "stdout",
     "output_type": "stream",
     "text": [
      "Monomodal Visual Amnesia Overview: The outlook for people with dissociative amnesia depends on several factors, including the person's life situation, the availability of support systems, and the indi\n",
      "\n",
      "Agnosia, Primary Visual Overview: The outlook for people with dissociative amnesia depends on several factors, including the person's life situation, the availability of support systems, and the indiv\n",
      "\n",
      "Agnosis, Primary Overview: The outlook for people with dissociative amnesia depends on several factors, including the person's life situation, the availability of support systems, and the individual's\n",
      "\n",
      "Thiamine Deficiency Overview: Wernicke-Korsakoff syndrome (WKS) is one name for two conditions that often happen together -- Wernicke encephalopathy and Korsakoff syndrome. Many doctors think of them \n",
      "\n",
      "Gayet-Wernicke Syndrome Overview: Wernicke-Korsakoff syndrome (WKS) is one name for two conditions that often happen together -- Wernicke encephalopathy and Korsakoff syndrome. Many doctors think of t\n",
      "\n"
     ]
    }
   ],
   "source": [
    "results = search_symptoms(df, \"memory loss\", n=5)"
   ]
  },
  {
   "cell_type": "code",
   "execution_count": 15,
   "metadata": {},
   "outputs": [],
   "source": [
    "@app.route(\"/\")\n",
    "def index():\n",
    "    return jsonify(message=\"Hello from SmartHealth!\")"
   ]
  },
  {
   "cell_type": "code",
   "execution_count": 16,
   "metadata": {},
   "outputs": [],
   "source": [
    "@app.route(\"/public\")\n",
    "def public():\n",
    "    \"\"\"No access token required to access this route\n",
    "    \"\"\"\n",
    "    response = \"Hello from a public endpoint! You don't need to be authenticated to see this.\"\n",
    "    return jsonify(message=response)"
   ]
  },
  {
   "cell_type": "code",
   "execution_count": 17,
   "metadata": {},
   "outputs": [],
   "source": [
    "@app.route(\"/private\")\n",
    "@cross_origin(headers=[\"Content-Type\", \"Authorization\"])\n",
    "@require_auth(None)\n",
    "def private():\n",
    "    \"\"\"A valid access token is required to access this route\n",
    "    \"\"\"\n",
    "    response = \"Hello from a private endpoint! You need to be authenticated to see this.\"\n",
    "    return jsonify(message=response)"
   ]
  },
  {
   "cell_type": "code",
   "execution_count": 18,
   "metadata": {},
   "outputs": [],
   "source": [
    "@app.route(\"/chat\", methods=[\"GET\", \"POST\"])\n",
    "@cross_origin(headers=[\"Content-Type\", \"Authorization\"])\n",
    "@require_auth(None)\n",
    "def chat():\n",
    "    if request.method == \"POST\":\n",
    "        # Get the messages from the post body in json format\n",
    "        messages = request.get_json()[\"messages\"]\n",
    "        print(messages)\n",
    "        # response = openai.ChatCompletion.create(\n",
    "        #     model=\"gpt-3.5-turbo\",\n",
    "        #     messages=[{\"role\": \"system\", \"content\": \"I am a digital health bot who is able to help diagnose symptoms, how can I help you?\"}, *messages],\n",
    "        # )\n",
    "        \n",
    "\n",
    "        response = search_symptoms(df, messages, n=5, pprint=False)\n",
    "\n",
    "        return jsonify({\n",
    "            \"data\": {   \n",
    "                    \"id\": 1,\n",
    "                    \"role\": \"system\",\n",
    "                    \"content\": response.choices[0].message.content\n",
    "                }\n",
    "        })\n",
    "\n",
    "    return jsonify({\n",
    "        \"data\": [\n",
    "            {   \n",
    "                \"id\": 1,\n",
    "                \"sender\": \"user\",\n",
    "                \"content\": \"Hello, how are you?\"\n",
    "            },\n",
    "        ]\n",
    "    })"
   ]
  },
  {
   "cell_type": "code",
   "execution_count": 30,
   "metadata": {},
   "outputs": [
    {
     "name": "stdout",
     "output_type": "stream",
     "text": [
      " * Serving Flask app '__main__' (lazy loading)\n",
      " * Environment: production\n",
      "\u001b[31m   WARNING: This is a development server. Do not use it in a production deployment.\u001b[0m\n",
      "\u001b[2m   Use a production WSGI server instead.\u001b[0m\n",
      " * Debug mode: off\n"
     ]
    },
    {
     "name": "stderr",
     "output_type": "stream",
     "text": [
      "WARNING: This is a development server. Do not use it in a production deployment. Use a production WSGI server instead.\n",
      " * Running on all addresses (0.0.0.0)\n",
      " * Running on http://127.0.0.1:3010\n",
      " * Running on http://192.168.68.50:3010\n",
      "Press CTRL+C to quit\n",
      "192.168.68.50 - - [03/Mar/2023 08:38:24] \"POST /chat HTTP/1.1\" 404 -\n"
     ]
    }
   ],
   "source": [
    "if __name__ == \"__main__\":\n",
    "    app.run(host=\"0.0.0.0\", port=env.get(\"PORT\", 3010))"
   ]
  },
  {
   "cell_type": "code",
   "execution_count": 32,
   "metadata": {},
   "outputs": [],
   "source": [
    "messages = [{'content': 'hello', 'role': 'user'}]"
   ]
  },
  {
   "cell_type": "code",
   "execution_count": 41,
   "metadata": {},
   "outputs": [],
   "source": [
    "messages = [{'content': 'back pain', 'role': 'user'}]"
   ]
  },
  {
   "cell_type": "code",
   "execution_count": 42,
   "metadata": {},
   "outputs": [],
   "source": [
    "search_message = messages[0]['content']"
   ]
  },
  {
   "cell_type": "code",
   "execution_count": 44,
   "metadata": {},
   "outputs": [
    {
     "name": "stdout",
     "output_type": "stream",
     "text": [
      "back pain\n"
     ]
    }
   ],
   "source": [
    "results = search_symptoms(df, search_message, n=5, pprint=False)"
   ]
  },
  {
   "cell_type": "code",
   "execution_count": 75,
   "metadata": {},
   "outputs": [],
   "source": [
    "messages = [{'content': 'back pain', 'role': 'user'}, {'content': 'Lumbar Pain Overview: We often bring on our back problems through bad habits, such as: The spine is actually a stack of 24 bones called vertebrae. A healthy spine is S-shaped when viewed from the side', 'role': 'system'}, {'content': 'headache', 'role': 'user'}]"
   ]
  },
  {
   "cell_type": "code",
   "execution_count": 94,
   "metadata": {},
   "outputs": [],
   "source": [
    "def reverse_tokens(sentence):\n",
    "    words = sentence.split(' ')\n",
    "    reverse_sentence = ' '.join(reversed(words))\n",
    "    return reverse_sentence"
   ]
  },
  {
   "cell_type": "code",
   "execution_count": 97,
   "metadata": {},
   "outputs": [
    {
     "name": "stdout",
     "output_type": "stream",
     "text": [
      "headache back pain \n"
     ]
    }
   ],
   "source": [
    "search_message = ''\n",
    "for message in messages:\n",
    "    if (message['role'] == 'user'):\n",
    "        search_message =  message['content'] + ' ' + search_message\n",
    "print(search_message)\n",
    "# search_message = reverse_tokens(search_message)\n",
    "# print(search_message)"
   ]
  },
  {
   "cell_type": "code",
   "execution_count": 93,
   "metadata": {},
   "outputs": [
    {
     "name": "stdout",
     "output_type": "stream",
     "text": [
      "885     Neck Pain Overview: Causes of neck pain includ...\n",
      "782     Lumbar Pain Overview: We often bring on our ba...\n",
      "1113    Sacroiliac Joint Pain Overview: Its full name ...\n",
      "777     Low Back Pain Exercises Overview:   Causes:  T...\n",
      "775     Low Back Pain Overview: The causes of back pai...\n",
      "Name: combined, dtype: object\n"
     ]
    }
   ],
   "source": [
    "search_message = \"knee pain headache back pain\"\n",
    "results = search_symptoms(df, search_message, n=5, pprint=False)\n",
    "print(results)"
   ]
  }
 ],
 "metadata": {
  "kernelspec": {
   "display_name": ".venv",
   "language": "python",
   "name": "python3"
  },
  "language_info": {
   "codemirror_mode": {
    "name": "ipython",
    "version": 3
   },
   "file_extension": ".py",
   "mimetype": "text/x-python",
   "name": "python",
   "nbconvert_exporter": "python",
   "pygments_lexer": "ipython3",
   "version": "3.11.2"
  },
  "orig_nbformat": 4
 },
 "nbformat": 4,
 "nbformat_minor": 2
}
